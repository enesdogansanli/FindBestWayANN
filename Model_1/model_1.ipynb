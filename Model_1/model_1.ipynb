{
 "cells": [
  {
   "attachments": {},
   "cell_type": "markdown",
   "metadata": {},
   "source": [
    "MODEL 3"
   ]
  },
  {
   "cell_type": "code",
   "execution_count": 1,
   "metadata": {},
   "outputs": [],
   "source": [
    "import tensorflow as tf\n",
    "import os\n",
    "import cv2\n",
    "import imghdr\n",
    "import numpy as np\n",
    "from matplotlib import pyplot as plt\n",
    "from keras.models import Sequential\n",
    "from keras.layers import Conv2D, MaxPooling2D, Dense, Flatten, Dropout\n",
    "from sklearn.manifold import TSNE\n",
    "from sklearn.preprocessing import StandardScaler \n",
    "from sklearn import preprocessing\n",
    "from sklearn.decomposition import PCA\n",
    "import pandas as pd\n",
    "import seaborn as sns\n",
    "from scipy.io import arff\n",
    "from sklearn.model_selection import train_test_split\n",
    "from sklearn.metrics import accuracy_score,f1_score,recall_score,precision_score\n",
    "\n",
    "import json\n",
    "import tensorflow as tf\n",
    "\n",
    "from tensorflow.keras.preprocessing.text import Tokenizer\n",
    "from tensorflow.keras.preprocessing.sequence import pad_sequences\n",
    "from tensorflow.keras.models import Model, load_model\n",
    "from tensorflow.keras.layers import Input, Average\n",
    "\n",
    "from keras.callbacks import ModelCheckpoint\n",
    "\n",
    "import numpy as np\n",
    "import pandas as pd\n",
    "import matplotlib.pyplot as plt\n",
    "import seaborn as sns\n",
    "\n",
    "import joblib\n",
    "\n",
    "from sklearn.manifold import TSNE"
   ]
  },
  {
   "cell_type": "code",
   "execution_count": 2,
   "metadata": {},
   "outputs": [
    {
     "name": "stdout",
     "output_type": "stream",
     "text": [
      "(6420, 3)\n",
      "Features count: 3\n",
      "Raw count: 6420\n"
     ]
    },
    {
     "data": {
      "text/html": [
       "<div>\n",
       "<style scoped>\n",
       "    .dataframe tbody tr th:only-of-type {\n",
       "        vertical-align: middle;\n",
       "    }\n",
       "\n",
       "    .dataframe tbody tr th {\n",
       "        vertical-align: top;\n",
       "    }\n",
       "\n",
       "    .dataframe thead th {\n",
       "        text-align: right;\n",
       "    }\n",
       "</style>\n",
       "<table border=\"1\" class=\"dataframe\">\n",
       "  <thead>\n",
       "    <tr style=\"text-align: right;\">\n",
       "      <th></th>\n",
       "      <th>id</th>\n",
       "      <th>tweet</th>\n",
       "      <th>label</th>\n",
       "    </tr>\n",
       "  </thead>\n",
       "  <tbody>\n",
       "    <tr>\n",
       "      <th>0</th>\n",
       "      <td>1</td>\n",
       "      <td>The CDC currently reports 99031 deaths. In gen...</td>\n",
       "      <td>real</td>\n",
       "    </tr>\n",
       "    <tr>\n",
       "      <th>1</th>\n",
       "      <td>2</td>\n",
       "      <td>States reported 1121 deaths a small rise from ...</td>\n",
       "      <td>real</td>\n",
       "    </tr>\n",
       "    <tr>\n",
       "      <th>2</th>\n",
       "      <td>3</td>\n",
       "      <td>Politically Correct Woman (Almost) Uses Pandem...</td>\n",
       "      <td>fake</td>\n",
       "    </tr>\n",
       "    <tr>\n",
       "      <th>3</th>\n",
       "      <td>4</td>\n",
       "      <td>#IndiaFightsCorona: We have 1524 #COVID testin...</td>\n",
       "      <td>real</td>\n",
       "    </tr>\n",
       "    <tr>\n",
       "      <th>4</th>\n",
       "      <td>5</td>\n",
       "      <td>Populous states can generate large case counts...</td>\n",
       "      <td>real</td>\n",
       "    </tr>\n",
       "  </tbody>\n",
       "</table>\n",
       "</div>"
      ],
      "text/plain": [
       "   id                                              tweet label\n",
       "0   1  The CDC currently reports 99031 deaths. In gen...  real\n",
       "1   2  States reported 1121 deaths a small rise from ...  real\n",
       "2   3  Politically Correct Woman (Almost) Uses Pandem...  fake\n",
       "3   4  #IndiaFightsCorona: We have 1524 #COVID testin...  real\n",
       "4   5  Populous states can generate large case counts...  real"
      ]
     },
     "execution_count": 2,
     "metadata": {},
     "output_type": "execute_result"
    }
   ],
   "source": [
    "data = pd.read_csv(r\"data/data.csv\")\n",
    "print(data.shape)\n",
    "print(\"Features count:\",data.shape[1])\n",
    "print(\"Raw count:\",data.shape[0])\n",
    "\n",
    "data.head()"
   ]
  },
  {
   "cell_type": "code",
   "execution_count": 3,
   "metadata": {},
   "outputs": [],
   "source": [
    "label_encoder = preprocessing.LabelEncoder()\n",
    "  \n",
    "data['label']= label_encoder.fit_transform(data['label'])"
   ]
  },
  {
   "cell_type": "code",
   "execution_count": 4,
   "metadata": {},
   "outputs": [
    {
     "data": {
      "text/html": [
       "<div>\n",
       "<style scoped>\n",
       "    .dataframe tbody tr th:only-of-type {\n",
       "        vertical-align: middle;\n",
       "    }\n",
       "\n",
       "    .dataframe tbody tr th {\n",
       "        vertical-align: top;\n",
       "    }\n",
       "\n",
       "    .dataframe thead th {\n",
       "        text-align: right;\n",
       "    }\n",
       "</style>\n",
       "<table border=\"1\" class=\"dataframe\">\n",
       "  <thead>\n",
       "    <tr style=\"text-align: right;\">\n",
       "      <th></th>\n",
       "      <th>id</th>\n",
       "      <th>tweet</th>\n",
       "      <th>label</th>\n",
       "    </tr>\n",
       "  </thead>\n",
       "  <tbody>\n",
       "    <tr>\n",
       "      <th>0</th>\n",
       "      <td>1</td>\n",
       "      <td>The CDC currently reports 99031 deaths. In gen...</td>\n",
       "      <td>1</td>\n",
       "    </tr>\n",
       "    <tr>\n",
       "      <th>1</th>\n",
       "      <td>2</td>\n",
       "      <td>States reported 1121 deaths a small rise from ...</td>\n",
       "      <td>1</td>\n",
       "    </tr>\n",
       "    <tr>\n",
       "      <th>2</th>\n",
       "      <td>3</td>\n",
       "      <td>Politically Correct Woman (Almost) Uses Pandem...</td>\n",
       "      <td>0</td>\n",
       "    </tr>\n",
       "    <tr>\n",
       "      <th>3</th>\n",
       "      <td>4</td>\n",
       "      <td>#IndiaFightsCorona: We have 1524 #COVID testin...</td>\n",
       "      <td>1</td>\n",
       "    </tr>\n",
       "    <tr>\n",
       "      <th>4</th>\n",
       "      <td>5</td>\n",
       "      <td>Populous states can generate large case counts...</td>\n",
       "      <td>1</td>\n",
       "    </tr>\n",
       "  </tbody>\n",
       "</table>\n",
       "</div>"
      ],
      "text/plain": [
       "   id                                              tweet  label\n",
       "0   1  The CDC currently reports 99031 deaths. In gen...      1\n",
       "1   2  States reported 1121 deaths a small rise from ...      1\n",
       "2   3  Politically Correct Woman (Almost) Uses Pandem...      0\n",
       "3   4  #IndiaFightsCorona: We have 1524 #COVID testin...      1\n",
       "4   5  Populous states can generate large case counts...      1"
      ]
     },
     "execution_count": 4,
     "metadata": {},
     "output_type": "execute_result"
    }
   ],
   "source": [
    "data.head()"
   ]
  },
  {
   "cell_type": "code",
   "execution_count": 5,
   "metadata": {},
   "outputs": [],
   "source": [
    "vocab_size = 5000\n",
    "embedding_dim = 8\n",
    "max_length = 100\n",
    "trunc_type='post'\n",
    "padding_type='post'\n",
    "oov_tok = \"<OOV>\"\n",
    "training_size = 5000"
   ]
  },
  {
   "cell_type": "code",
   "execution_count": 6,
   "metadata": {},
   "outputs": [],
   "source": [
    "sentences = []\n",
    "labels = []\n",
    "\n",
    "for item in range(data.shape[0]):\n",
    "    sentences.append(data[\"tweet\"][item])\n",
    "    labels.append(data[\"label\"][item])"
   ]
  },
  {
   "cell_type": "code",
   "execution_count": 7,
   "metadata": {},
   "outputs": [],
   "source": [
    "training_sentences = sentences[0:training_size]\n",
    "testing_sentences = sentences[training_size:]\n",
    "training_labels = labels[0:training_size]\n",
    "testing_labels = labels[training_size:]"
   ]
  },
  {
   "cell_type": "code",
   "execution_count": 8,
   "metadata": {},
   "outputs": [],
   "source": [
    "tokenizer = Tokenizer(num_words=vocab_size, oov_token=oov_tok)\n",
    "tokenizer.fit_on_texts(training_sentences)\n",
    "\n",
    "word_index = tokenizer.word_index\n",
    "\n",
    "training_sequences = tokenizer.texts_to_sequences(training_sentences)\n",
    "training_padded = pad_sequences(training_sequences, maxlen=max_length, padding=padding_type, truncating=trunc_type)\n",
    "\n",
    "testing_sequences = tokenizer.texts_to_sequences(testing_sentences)\n",
    "testing_padded = pad_sequences(testing_sequences, maxlen=max_length, padding=padding_type, truncating=trunc_type)"
   ]
  },
  {
   "cell_type": "code",
   "execution_count": 9,
   "metadata": {},
   "outputs": [],
   "source": [
    "training_padded = np.array(training_padded)\n",
    "training_labels = np.array(training_labels)\n",
    "testing_padded = np.array(testing_padded)\n",
    "testing_labels = np.array(testing_labels)"
   ]
  },
  {
   "cell_type": "code",
   "execution_count": 47,
   "metadata": {},
   "outputs": [],
   "source": [
    "model = tf.keras.Sequential([\n",
    "    tf.keras.layers.Embedding(vocab_size, embedding_dim, input_length=max_length),\n",
    "    tf.keras.layers.GlobalAveragePooling1D(),\n",
    "    tf.keras.layers.Dense(24, activation='relu'),\n",
    "    tf.keras.layers.Dense(1, activation='sigmoid')\n",
    "])\n",
    "model.compile(loss='binary_crossentropy',optimizer='adam',metrics=['accuracy'])\n",
    "modelagirlikilk = model.get_weights()"
   ]
  },
  {
   "cell_type": "code",
   "execution_count": 11,
   "metadata": {},
   "outputs": [
    {
     "name": "stdout",
     "output_type": "stream",
     "text": [
      "Model: \"sequential\"\n",
      "_________________________________________________________________\n",
      " Layer (type)                Output Shape              Param #   \n",
      "=================================================================\n",
      " embedding (Embedding)       (None, 100, 8)            40000     \n",
      "                                                                 \n",
      " global_average_pooling1d (G  (None, 8)                0         \n",
      " lobalAveragePooling1D)                                          \n",
      "                                                                 \n",
      " dense (Dense)               (None, 24)                216       \n",
      "                                                                 \n",
      " dense_1 (Dense)             (None, 1)                 25        \n",
      "                                                                 \n",
      "=================================================================\n",
      "Total params: 40,241\n",
      "Trainable params: 40,241\n",
      "Non-trainable params: 0\n",
      "_________________________________________________________________\n"
     ]
    }
   ],
   "source": [
    "model.summary()"
   ]
  },
  {
   "cell_type": "code",
   "execution_count": 48,
   "metadata": {},
   "outputs": [],
   "source": [
    "filepath = 'eachModel5/CheckPoint-{epoch:02d}.hdf5'\n",
    "checkpoint = ModelCheckpoint(filepath, monitor='loss', verbose=1,\n",
    "    save_best_only=False,save_weights_only=False, mode='auto', save_freq='epoch')"
   ]
  },
  {
   "cell_type": "code",
   "execution_count": 49,
   "metadata": {},
   "outputs": [
    {
     "name": "stdout",
     "output_type": "stream",
     "text": [
      "Epoch 1/15\n",
      "\n",
      "Epoch 1: saving model to eachModel5\\CheckPoint-01.hdf5\n",
      "157/157 - 2s - loss: 0.6749 - accuracy: 0.6166 - val_loss: 0.6222 - val_accuracy: 0.8394 - 2s/epoch - 11ms/step\n",
      "Epoch 2/15\n",
      "\n",
      "Epoch 2: saving model to eachModel5\\CheckPoint-02.hdf5\n",
      "157/157 - 1s - loss: 0.5141 - accuracy: 0.8308 - val_loss: 0.4106 - val_accuracy: 0.8606 - 553ms/epoch - 4ms/step\n",
      "Epoch 3/15\n",
      "\n",
      "Epoch 3: saving model to eachModel5\\CheckPoint-03.hdf5\n",
      "157/157 - 1s - loss: 0.3376 - accuracy: 0.8756 - val_loss: 0.2967 - val_accuracy: 0.8831 - 673ms/epoch - 4ms/step\n",
      "Epoch 4/15\n",
      "\n",
      "Epoch 4: saving model to eachModel5\\CheckPoint-04.hdf5\n",
      "157/157 - 1s - loss: 0.2458 - accuracy: 0.9102 - val_loss: 0.2500 - val_accuracy: 0.8993 - 569ms/epoch - 4ms/step\n",
      "Epoch 5/15\n",
      "\n",
      "Epoch 5: saving model to eachModel5\\CheckPoint-05.hdf5\n",
      "157/157 - 1s - loss: 0.1972 - accuracy: 0.9280 - val_loss: 0.2224 - val_accuracy: 0.9070 - 583ms/epoch - 4ms/step\n",
      "Epoch 6/15\n",
      "\n",
      "Epoch 6: saving model to eachModel5\\CheckPoint-06.hdf5\n",
      "157/157 - 1s - loss: 0.1641 - accuracy: 0.9416 - val_loss: 0.2067 - val_accuracy: 0.9127 - 522ms/epoch - 3ms/step\n",
      "Epoch 7/15\n",
      "\n",
      "Epoch 7: saving model to eachModel5\\CheckPoint-07.hdf5\n",
      "157/157 - 0s - loss: 0.1403 - accuracy: 0.9502 - val_loss: 0.1975 - val_accuracy: 0.9162 - 461ms/epoch - 3ms/step\n",
      "Epoch 8/15\n",
      "\n",
      "Epoch 8: saving model to eachModel5\\CheckPoint-08.hdf5\n",
      "157/157 - 0s - loss: 0.1211 - accuracy: 0.9566 - val_loss: 0.1924 - val_accuracy: 0.9197 - 460ms/epoch - 3ms/step\n",
      "Epoch 9/15\n",
      "\n",
      "Epoch 9: saving model to eachModel5\\CheckPoint-09.hdf5\n",
      "157/157 - 0s - loss: 0.1060 - accuracy: 0.9630 - val_loss: 0.1840 - val_accuracy: 0.9211 - 459ms/epoch - 3ms/step\n",
      "Epoch 10/15\n",
      "\n",
      "Epoch 10: saving model to eachModel5\\CheckPoint-10.hdf5\n",
      "157/157 - 0s - loss: 0.0917 - accuracy: 0.9700 - val_loss: 0.1794 - val_accuracy: 0.9275 - 456ms/epoch - 3ms/step\n",
      "Epoch 11/15\n",
      "\n",
      "Epoch 11: saving model to eachModel5\\CheckPoint-11.hdf5\n",
      "157/157 - 0s - loss: 0.0811 - accuracy: 0.9738 - val_loss: 0.1789 - val_accuracy: 0.9282 - 474ms/epoch - 3ms/step\n",
      "Epoch 12/15\n",
      "\n",
      "Epoch 12: saving model to eachModel5\\CheckPoint-12.hdf5\n",
      "157/157 - 0s - loss: 0.0716 - accuracy: 0.9786 - val_loss: 0.1795 - val_accuracy: 0.9282 - 471ms/epoch - 3ms/step\n",
      "Epoch 13/15\n",
      "\n",
      "Epoch 13: saving model to eachModel5\\CheckPoint-13.hdf5\n",
      "157/157 - 0s - loss: 0.0631 - accuracy: 0.9808 - val_loss: 0.1722 - val_accuracy: 0.9324 - 457ms/epoch - 3ms/step\n",
      "Epoch 14/15\n",
      "\n",
      "Epoch 14: saving model to eachModel5\\CheckPoint-14.hdf5\n",
      "157/157 - 1s - loss: 0.0556 - accuracy: 0.9864 - val_loss: 0.1711 - val_accuracy: 0.9324 - 508ms/epoch - 3ms/step\n",
      "Epoch 15/15\n",
      "\n",
      "Epoch 15: saving model to eachModel5\\CheckPoint-15.hdf5\n",
      "157/157 - 0s - loss: 0.0489 - accuracy: 0.9872 - val_loss: 0.1712 - val_accuracy: 0.9352 - 462ms/epoch - 3ms/step\n"
     ]
    }
   ],
   "source": [
    "num_epochs = 15\n",
    "history = model.fit(training_padded, training_labels, epochs=num_epochs, validation_data=(testing_padded, testing_labels), verbose=2,callbacks=[checkpoint])"
   ]
  },
  {
   "cell_type": "code",
   "execution_count": 104,
   "metadata": {},
   "outputs": [],
   "source": [
    "import matplotlib.pyplot as plt\n",
    "import numpy as np\n",
    "import tensorflow as tf\n",
    "from tensorflow import keras\n",
    "from tensorflow.keras import callbacks, layers\n",
    "\n",
    "class RandomCoordinates(object):\n",
    "    def __init__(self, origin):\n",
    "        self.origin_ = origin\n",
    "        self.v0_ = normalize_weights(\n",
    "            [np.random.normal(size=w.shape) for w in origin], origin\n",
    "        )\n",
    "        self.v1_ = normalize_weights(\n",
    "            [np.random.normal(size=w.shape) for w in origin], origin\n",
    "        )\n",
    "\n",
    "    def __call__(self, a, b):\n",
    "        return [\n",
    "            a * w0 + b * w1 + wc\n",
    "            for w0, w1, wc in zip(self.v0_, self.v1_, self.origin_)\n",
    "        ]\n",
    "\n",
    "\n",
    "def normalize_weights(weights, origin):\n",
    "    return [\n",
    "        w * np.linalg.norm(wc) / np.linalg.norm(w)\n",
    "        for w, wc in zip(weights, origin)\n",
    "    ]\n",
    "\n",
    "\n",
    "class LossSurface(object):\n",
    "    def __init__(self, model, inputs, outputs):\n",
    "        self.model_ = model\n",
    "        self.inputs_ = inputs\n",
    "        self.outputs_ = outputs\n",
    "\n",
    "    def compile(self, range, points, coords):\n",
    "        a_grid = tf.linspace(-1.0, 1.0, num=points) ** 3 * range\n",
    "        b_grid = tf.linspace(-1.0, 1.0, num=points) ** 3 * range\n",
    "        loss_grid = np.empty([len(a_grid), len(b_grid)])\n",
    "        for i, a in enumerate(a_grid):\n",
    "            for j, b in enumerate(b_grid):\n",
    "                self.model_.set_weights(coords(a, b))\n",
    "                loss = self.model_.test_on_batch(\n",
    "                    self.inputs_, self.outputs_, return_dict=True\n",
    "                )[\"loss\"]\n",
    "                loss_grid[j, i] = loss\n",
    "        self.model_.set_weights(coords.origin_)\n",
    "        self.a_grid_ = a_grid\n",
    "        self.b_grid_ = b_grid\n",
    "        self.loss_grid_ = loss_grid\n",
    "\n",
    "    def plot(self, range=1.0, points=24, levels=20, ax=None, **kwargs):\n",
    "        xs = self.a_grid_\n",
    "        ys = self.b_grid_\n",
    "        zs = self.loss_grid_\n",
    "        if ax is None:\n",
    "            _, ax = plt.subplots(**kwargs)\n",
    "            ax.set_title(\"The Loss Surface\")\n",
    "            ax.set_aspect(\"equal\")\n",
    "        # Set Levels\n",
    "        min_loss = zs.min()\n",
    "        max_loss = zs.max()\n",
    "        levels = tf.exp(\n",
    "            tf.linspace(\n",
    "                tf.math.log(min_loss), tf.math.log(max_loss), num=levels\n",
    "            )\n",
    "        )\n",
    "        # Create Contour Plot\n",
    "        CS = ax.contour(\n",
    "            xs,\n",
    "            ys,\n",
    "            zs,\n",
    "            levels=levels,\n",
    "            cmap=\"magma\",\n",
    "            linewidths=0.75,\n",
    "        )\n",
    "        ax.clabel(CS, inline=True, fontsize=8, fmt=\"%1.2f\")\n",
    "        return ax"
   ]
  },
  {
   "cell_type": "code",
   "execution_count": 105,
   "metadata": {},
   "outputs": [
    {
     "data": {
      "text/plain": [
       "<AxesSubplot:title={'center':'The Loss Surface'}>"
      ]
     },
     "execution_count": 105,
     "metadata": {},
     "output_type": "execute_result"
    },
    {
     "data": {
      "text/plain": [
       "<Figure size 600x400 with 0 Axes>"
      ]
     },
     "metadata": {},
     "output_type": "display_data"
    },
    {
     "data": {
      "image/png": "[encoded data removed]",
      "text/plain": [
       "<Figure size 432x288 with 1 Axes>"
      ]
     },
     "metadata": {
      "needs_background": "light"
     },
     "output_type": "display_data"
    }
   ],
   "source": [
    "coords = RandomCoordinates(model.get_weights())\n",
    "loss_surface = LossSurface(model, training_padded, training_labels)\n",
    "loss_surface.compile(points=30, coords=coords,range=0.2)\n",
    "\n",
    "# Look at loss surface\n",
    "plt.figure(dpi=100)\n",
    "loss_surface.plot()"
   ]
  },
  {
   "cell_type": "code",
   "execution_count": 108,
   "metadata": {},
   "outputs": [],
   "source": [
    "import landscapeviz"
   ]
  },
  {
   "cell_type": "code",
   "execution_count": 109,
   "metadata": {},
   "outputs": [
    {
     "ename": "KeyError",
     "evalue": "\"Unable to open object (object 'sparse_categorical_crossentropy' doesn't exist)\"",
     "output_type": "error",
     "traceback": [
      "\u001b[1;31m---------------------------------------------------------------------------\u001b[0m",
      "\u001b[1;31mKeyError\u001b[0m                                  Traceback (most recent call last)",
      "\u001b[1;32md:\\GitHub\\YapaySinirAğıKararlarınınBirleştirilmesi\\Model_1\\model_1.ipynb Cell 18\u001b[0m in \u001b[0;36m<cell line: 2>\u001b[1;34m()\u001b[0m\n\u001b[0;32m      <a href='vscode-notebook-cell:/d%3A/GitHub/YapaySinirA%C4%9F%C4%B1Kararlar%C4%B1n%C4%B1nBirle%C5%9Ftirilmesi/Model_1/model_1.ipynb#Y110sZmlsZQ%3D%3D?line=0'>1</a>\u001b[0m landscapeviz\u001b[39m.\u001b[39mbuild_mesh(model, (training_padded, training_labels), grid_length\u001b[39m=\u001b[39m\u001b[39m40\u001b[39m, verbose\u001b[39m=\u001b[39m\u001b[39m0\u001b[39m)\n\u001b[1;32m----> <a href='vscode-notebook-cell:/d%3A/GitHub/YapaySinirA%C4%9F%C4%B1Kararlar%C4%B1n%C4%B1nBirle%C5%9Ftirilmesi/Model_1/model_1.ipynb#Y110sZmlsZQ%3D%3D?line=1'>2</a>\u001b[0m landscapeviz\u001b[39m.\u001b[39;49mplot_contour(key\u001b[39m=\u001b[39;49m\u001b[39m\"\u001b[39;49m\u001b[39msparse_categorical_crossentropy\u001b[39;49m\u001b[39m\"\u001b[39;49m)\n\u001b[0;32m      <a href='vscode-notebook-cell:/d%3A/GitHub/YapaySinirA%C4%9F%C4%B1Kararlar%C4%B1n%C4%B1nBirle%C5%9Ftirilmesi/Model_1/model_1.ipynb#Y110sZmlsZQ%3D%3D?line=2'>3</a>\u001b[0m landscapeviz\u001b[39m.\u001b[39mplot_3d(key\u001b[39m=\u001b[39m\u001b[39m\"\u001b[39m\u001b[39msparse_categorical_crossentropy\u001b[39m\u001b[39m\"\u001b[39m)\n",
      "File \u001b[1;32md:\\GitHub\\YapaySinirAğıKararlarınınBirleştirilmesi\\Model_1\\landscapeviz\\visualizer.py:28\u001b[0m, in \u001b[0;36mplot_contour\u001b[1;34m(key, vmin, vmax, vlevel, trajectory, filename, save)\u001b[0m\n\u001b[0;32m     24\u001b[0m \u001b[39mdef\u001b[39;00m \u001b[39mplot_contour\u001b[39m(\n\u001b[0;32m     25\u001b[0m     key, vmin\u001b[39m=\u001b[39m\u001b[39m0.1\u001b[39m, vmax\u001b[39m=\u001b[39m\u001b[39m10\u001b[39m, vlevel\u001b[39m=\u001b[39m\u001b[39m0.5\u001b[39m, trajectory\u001b[39m=\u001b[39m\u001b[39mNone\u001b[39;00m, filename\u001b[39m=\u001b[39mFILENAME, save\u001b[39m=\u001b[39m\u001b[39mFalse\u001b[39;00m\n\u001b[0;32m     26\u001b[0m ):\n\u001b[1;32m---> 28\u001b[0m     X, Y, Z \u001b[39m=\u001b[39m _fetch_data(key, filename)\n\u001b[0;32m     30\u001b[0m     fig, ax \u001b[39m=\u001b[39m plt\u001b[39m.\u001b[39msubplots()\n\u001b[0;32m     31\u001b[0m     CS \u001b[39m=\u001b[39m ax\u001b[39m.\u001b[39mcontour(X, Y, Z, cmap\u001b[39m=\u001b[39m\u001b[39m\"\u001b[39m\u001b[39msummer\u001b[39m\u001b[39m\"\u001b[39m, levels\u001b[39m=\u001b[39mnp\u001b[39m.\u001b[39marange(vmin, vmax, vlevel))\n",
      "File \u001b[1;32md:\\GitHub\\YapaySinirAğıKararlarınınBirleştirilmesi\\Model_1\\landscapeviz\\visualizer.py:18\u001b[0m, in \u001b[0;36m_fetch_data\u001b[1;34m(key, filename)\u001b[0m\n\u001b[0;32m     16\u001b[0m \u001b[39mwith\u001b[39;00m h5py\u001b[39m.\u001b[39mFile(filename, \u001b[39m\"\u001b[39m\u001b[39mr\u001b[39m\u001b[39m\"\u001b[39m) \u001b[39mas\u001b[39;00m f:\n\u001b[0;32m     17\u001b[0m     space \u001b[39m=\u001b[39m np\u001b[39m.\u001b[39masarray(f[\u001b[39m\"\u001b[39m\u001b[39mspace\u001b[39m\u001b[39m\"\u001b[39m])\n\u001b[1;32m---> 18\u001b[0m     Z \u001b[39m=\u001b[39m np\u001b[39m.\u001b[39marray(f[key])\n\u001b[0;32m     20\u001b[0m X, Y \u001b[39m=\u001b[39m np\u001b[39m.\u001b[39mmeshgrid(space, space)\n\u001b[0;32m     21\u001b[0m \u001b[39mreturn\u001b[39;00m X, Y, Z\n",
      "File \u001b[1;32mh5py\\_objects.pyx:54\u001b[0m, in \u001b[0;36mh5py._objects.with_phil.wrapper\u001b[1;34m()\u001b[0m\n",
      "File \u001b[1;32mh5py\\_objects.pyx:55\u001b[0m, in \u001b[0;36mh5py._objects.with_phil.wrapper\u001b[1;34m()\u001b[0m\n",
      "File \u001b[1;32mc:\\Users\\enes_\\AppData\\Local\\Programs\\Python\\Python39\\lib\\site-packages\\h5py\\_hl\\group.py:328\u001b[0m, in \u001b[0;36mGroup.__getitem__\u001b[1;34m(self, name)\u001b[0m\n\u001b[0;32m    326\u001b[0m         \u001b[39mraise\u001b[39;00m \u001b[39mValueError\u001b[39;00m(\u001b[39m\"\u001b[39m\u001b[39mInvalid HDF5 object reference\u001b[39m\u001b[39m\"\u001b[39m)\n\u001b[0;32m    327\u001b[0m \u001b[39melif\u001b[39;00m \u001b[39misinstance\u001b[39m(name, (\u001b[39mbytes\u001b[39m, \u001b[39mstr\u001b[39m)):\n\u001b[1;32m--> 328\u001b[0m     oid \u001b[39m=\u001b[39m h5o\u001b[39m.\u001b[39;49mopen(\u001b[39mself\u001b[39;49m\u001b[39m.\u001b[39;49mid, \u001b[39mself\u001b[39;49m\u001b[39m.\u001b[39;49m_e(name), lapl\u001b[39m=\u001b[39;49m\u001b[39mself\u001b[39;49m\u001b[39m.\u001b[39;49m_lapl)\n\u001b[0;32m    329\u001b[0m \u001b[39melse\u001b[39;00m:\n\u001b[0;32m    330\u001b[0m     \u001b[39mraise\u001b[39;00m \u001b[39mTypeError\u001b[39;00m(\u001b[39m\"\u001b[39m\u001b[39mAccessing a group is done with bytes or str, \u001b[39m\u001b[39m\"\u001b[39m\n\u001b[0;32m    331\u001b[0m                     \u001b[39m\"\u001b[39m\u001b[39m not \u001b[39m\u001b[39m{}\u001b[39;00m\u001b[39m\"\u001b[39m\u001b[39m.\u001b[39mformat(\u001b[39mtype\u001b[39m(name)))\n",
      "File \u001b[1;32mh5py\\_objects.pyx:54\u001b[0m, in \u001b[0;36mh5py._objects.with_phil.wrapper\u001b[1;34m()\u001b[0m\n",
      "File \u001b[1;32mh5py\\_objects.pyx:55\u001b[0m, in \u001b[0;36mh5py._objects.with_phil.wrapper\u001b[1;34m()\u001b[0m\n",
      "File \u001b[1;32mh5py\\h5o.pyx:190\u001b[0m, in \u001b[0;36mh5py.h5o.open\u001b[1;34m()\u001b[0m\n",
      "\u001b[1;31mKeyError\u001b[0m: \"Unable to open object (object 'sparse_categorical_crossentropy' doesn't exist)\""
     ]
    }
   ],
   "source": [
    "landscapeviz.build_mesh(model, (training_padded, training_labels), grid_length=40, verbose=0)\n",
    "landscapeviz.plot_contour(key=\"sparse_categorical_crossentropy\")\n",
    "landscapeviz.plot_3d(key=\"sparse_categorical_crossentropy\")"
   ]
  },
  {
   "cell_type": "code",
   "execution_count": null,
   "metadata": {},
   "outputs": [],
   "source": []
  },
  {
   "cell_type": "code",
   "execution_count": 14,
   "metadata": {},
   "outputs": [
    {
     "data": {
      "image/png": "[encoded data removed]",
      "text/plain": [
       "<Figure size 432x288 with 1 Axes>"
      ]
     },
     "metadata": {
      "needs_background": "light"
     },
     "output_type": "display_data"
    },
    {
     "data": {
      "image/png": "[encoded data removed]",
      "text/plain": [
       "<Figure size 432x288 with 1 Axes>"
      ]
     },
     "metadata": {
      "needs_background": "light"
     },
     "output_type": "display_data"
    }
   ],
   "source": [
    "def plot_graphs(history, string):\n",
    "  plt.plot(history.history[string])\n",
    "  plt.plot(history.history['val_'+string])\n",
    "  plt.xlabel(\"Epochs\")\n",
    "  plt.ylabel(string)\n",
    "  plt.legend([string, 'val_'+string])\n",
    "  plt.show()\n",
    "  \n",
    "plot_graphs(history, \"accuracy\")\n",
    "plot_graphs(history, \"loss\")"
   ]
  },
  {
   "attachments": {},
   "cell_type": "markdown",
   "metadata": {},
   "source": [
    "B şıkkının çözümü"
   ]
  },
  {
   "cell_type": "code",
   "execution_count": 137,
   "metadata": {},
   "outputs": [],
   "source": [
    "allPointWeightX1 = []\n",
    "allPointWeightY1 = []"
   ]
  },
  {
   "cell_type": "code",
   "execution_count": 138,
   "metadata": {},
   "outputs": [
    {
     "name": "stderr",
     "output_type": "stream",
     "text": [
      "C:\\Users\\enes_\\AppData\\Local\\Temp\\ipykernel_4544\\3969716254.py:10: VisibleDeprecationWarning: Creating an ndarray from ragged nested sequences (which is a list-or-tuple of lists-or-tuples-or ndarrays with different lengths or shapes) is deprecated. If you meant to do this, you must specify 'dtype=object' when creating the ndarray.\n",
      "  allPointWeightX1.append(np.array(myModelweight[0:4]))\n",
      "C:\\Users\\enes_\\AppData\\Local\\Temp\\ipykernel_4544\\3969716254.py:6: VisibleDeprecationWarning: Creating an ndarray from ragged nested sequences (which is a list-or-tuple of lists-or-tuples-or ndarrays with different lengths or shapes) is deprecated. If you meant to do this, you must specify 'dtype=object' when creating the ndarray.\n",
      "  allPointWeightX1.append(np.array(myModelweight[0:4]))\n"
     ]
    }
   ],
   "source": [
    "for j in range(5):\n",
    "    for i in range(15):\n",
    "        if i>=9:\n",
    "            myModel = load_model('eachModel{}/CheckPoint-{}.hdf5'.format(j+1,i+1))\n",
    "            myModelweight = myModel.get_weights()\n",
    "            allPointWeightX1.append(np.array(myModelweight[0:4]))\n",
    "        else:\n",
    "            myModel = load_model('eachModel{}/CheckPoint-0{}.hdf5'.format(j+1,i+1))\n",
    "            myModelweight = myModel.get_weights()\n",
    "            allPointWeightX1.append(np.array(myModelweight[0:4]))\n",
    "    \n",
    "    for i in range(15):\n",
    "        if i>=9:\n",
    "            myModel = load_model('eachModel{}/CheckPoint-{}.hdf5'.format(j+1,i+1))\n",
    "            myModelweight = myModel.get_weights()\n",
    "            allPointWeightY1.append(np.array(myModelweight[4]))\n",
    "        else:\n",
    "            myModel = load_model('eachModel{}/CheckPoint-0{}.hdf5'.format(j+1,i+1))\n",
    "            myModelweight = myModel.get_weights()\n",
    "            allPointWeightY1.append(np.array(myModelweight[4]))"
   ]
  },
  {
   "cell_type": "code",
   "execution_count": 139,
   "metadata": {},
   "outputs": [],
   "source": [
    "allPointWeightX1 = np.array(allPointWeightX1)\n",
    "allPointWeightY1 = np.array(allPointWeightY1)"
   ]
  },
  {
   "cell_type": "code",
   "execution_count": 140,
   "metadata": {},
   "outputs": [],
   "source": [
    "for i in range(75):\n",
    "    allPointWeightX1[i][0] = allPointWeightX1[i][0].flatten()\n",
    "    allPointWeightX1[i][1] = allPointWeightX1[i][1].flatten()\n",
    "    allPointWeightX1[i][2] = allPointWeightX1[i][2].flatten()\n",
    "    allPointWeightX1[i][3] = allPointWeightX1[i][3].flatten()"
   ]
  },
  {
   "cell_type": "code",
   "execution_count": 141,
   "metadata": {},
   "outputs": [
    {
     "data": {
      "text/plain": [
       "(40000,)"
      ]
     },
     "execution_count": 141,
     "metadata": {},
     "output_type": "execute_result"
    }
   ],
   "source": [
    "allPointWeightX1[0][0].shape"
   ]
  },
  {
   "cell_type": "code",
   "execution_count": 143,
   "metadata": {},
   "outputs": [],
   "source": [
    "birdeneme = np.hstack((allPointWeightX1[0][0],allPointWeightX1[0][1],allPointWeightX1[0][2],allPointWeightX1[0][3]))"
   ]
  },
  {
   "cell_type": "code",
   "execution_count": 144,
   "metadata": {},
   "outputs": [],
   "source": [
    "Xlist= []\n",
    "for i in range(75):\n",
    "    Xlist.append(np.hstack((allPointWeightX1[i][0],allPointWeightX1[i][1],allPointWeightX1[i][2],allPointWeightX1[i][3])))"
   ]
  },
  {
   "cell_type": "code",
   "execution_count": 145,
   "metadata": {},
   "outputs": [],
   "source": [
    "Xlist = np.array(Xlist)"
   ]
  },
  {
   "cell_type": "code",
   "execution_count": 146,
   "metadata": {},
   "outputs": [
    {
     "data": {
      "text/plain": [
       "(75, 40240)"
      ]
     },
     "execution_count": 146,
     "metadata": {},
     "output_type": "execute_result"
    }
   ],
   "source": [
    "Xlist.shape"
   ]
  },
  {
   "cell_type": "code",
   "execution_count": 147,
   "metadata": {},
   "outputs": [
    {
     "name": "stderr",
     "output_type": "stream",
     "text": [
      "c:\\Users\\enes_\\AppData\\Local\\Programs\\Python\\Python39\\lib\\site-packages\\sklearn\\manifold\\_t_sne.py:795: FutureWarning: The default initialization in TSNE will change from 'random' to 'pca' in 1.2.\n",
      "  warnings.warn(\n",
      "c:\\Users\\enes_\\AppData\\Local\\Programs\\Python\\Python39\\lib\\site-packages\\sklearn\\manifold\\_t_sne.py:805: FutureWarning: The default learning rate in TSNE will change from 200.0 to 'auto' in 1.2.\n",
      "  warnings.warn(\n"
     ]
    },
    {
     "name": "stdout",
     "output_type": "stream",
     "text": [
      "[t-SNE] Computing 74 nearest neighbors...\n",
      "[t-SNE] Indexed 75 samples in 0.006s...\n",
      "[t-SNE] Computed neighbors for 75 samples in 0.239s...\n",
      "[t-SNE] Computed conditional probabilities for sample 75 / 75\n",
      "[t-SNE] Mean sigma: 25.529296\n",
      "[t-SNE] KL divergence after 250 iterations with early exaggeration: 51.639236\n",
      "[t-SNE] KL divergence after 1000 iterations: 0.220008\n"
     ]
    }
   ],
   "source": [
    "tsne = TSNE(n_components=2, verbose=1, random_state=123)\n",
    "z = tsne.fit_transform(Xlist)"
   ]
  },
  {
   "cell_type": "code",
   "execution_count": 148,
   "metadata": {},
   "outputs": [],
   "source": [
    "df = pd.DataFrame()\n",
    "df[\"y\"] = pd.DataFrame(allPointWeightY1)\n",
    "df[\"comp-1\"] = z[:,0]\n",
    "df[\"comp-2\"] = z[:,1]"
   ]
  },
  {
   "cell_type": "code",
   "execution_count": 149,
   "metadata": {},
   "outputs": [
    {
     "data": {
      "text/plain": [
       "[Text(0.5, 1.0, 'Farklı başlangıç noktaları için model adımları gösterimi')]"
      ]
     },
     "execution_count": 149,
     "metadata": {},
     "output_type": "execute_result"
    },
    {
     "data": {
      "image/png": "[encoded data removed]",
      "text/plain": [
       "<Figure size 432x288 with 1 Axes>"
      ]
     },
     "metadata": {
      "needs_background": "light"
     },
     "output_type": "display_data"
    }
   ],
   "source": [
    "sns.scatterplot(x=\"comp-1\", y=\"comp-2\",\n",
    "        data=df).set(title=\"Farklı başlangıç noktaları için model adımları gösterimi\")"
   ]
  },
  {
   "cell_type": "code",
   "execution_count": null,
   "metadata": {},
   "outputs": [],
   "source": []
  },
  {
   "cell_type": "code",
   "execution_count": 151,
   "metadata": {},
   "outputs": [
    {
     "name": "stdout",
     "output_type": "stream",
     "text": [
      "157/157 - 1s - loss: 0.0511 - accuracy: 0.9862 - val_loss: 0.1746 - val_accuracy: 0.9338 - 1s/epoch - 7ms/step\n",
      "45/45 [==============================] - 0s 2ms/step - loss: 0.1746 - accuracy: 0.9338\n",
      "157/157 - 1s - loss: 0.0421 - accuracy: 0.9898 - val_loss: 0.1757 - val_accuracy: 0.9345 - 1s/epoch - 7ms/step\n",
      "45/45 [==============================] - 0s 2ms/step - loss: 0.1757 - accuracy: 0.9345\n"
     ]
    }
   ],
   "source": [
    "w0 = load_model('eachModel1/CheckPoint-15.hdf5')\n",
    "firstWeight = w0.get_weights()\n",
    "w0.fit(training_padded, training_labels, epochs=1, validation_data=(testing_padded, testing_labels), verbose=2)\n",
    "w0acc = w0.history.history['accuracy'][0]\n",
    "w0test = (w0.evaluate(testing_padded, testing_labels))[1]\n",
    "\n",
    "wT = load_model('eachModel4/CheckPoint-15.hdf5'.format(z))\n",
    "lastWeight = wT.get_weights()\n",
    "wT.fit(training_padded, training_labels, epochs=1, validation_data=(testing_padded, testing_labels), verbose=2)\n",
    "wTacc = wT.history.history['accuracy'][0]\n",
    "wTtest = (wT.evaluate(testing_padded, testing_labels))[1]"
   ]
  },
  {
   "cell_type": "code",
   "execution_count": 156,
   "metadata": {},
   "outputs": [
    {
     "name": "stderr",
     "output_type": "stream",
     "text": [
      "C:\\Users\\enes_\\AppData\\Local\\Temp\\ipykernel_4544\\3483842718.py:1: VisibleDeprecationWarning: Creating an ndarray from ragged nested sequences (which is a list-or-tuple of lists-or-tuples-or ndarrays with different lengths or shapes) is deprecated. If you meant to do this, you must specify 'dtype=object' when creating the ndarray.\n",
      "  denemefirst = np.array(firstWeight)\n",
      "C:\\Users\\enes_\\AppData\\Local\\Temp\\ipykernel_4544\\3483842718.py:2: VisibleDeprecationWarning: Creating an ndarray from ragged nested sequences (which is a list-or-tuple of lists-or-tuples-or ndarrays with different lengths or shapes) is deprecated. If you meant to do this, you must specify 'dtype=object' when creating the ndarray.\n",
      "  denemelast =  np.array(lastWeight)\n"
     ]
    }
   ],
   "source": [
    "denemefirst = np.array(firstWeight)\n",
    "denemelast =  np.array(lastWeight)\n",
    "denemesonuc = denemefirst - denemelast\n",
    "newdeneme = denemesonuc/11"
   ]
  },
  {
   "cell_type": "code",
   "execution_count": 157,
   "metadata": {},
   "outputs": [],
   "source": [
    "firsrpoint = denemefirst+newdeneme"
   ]
  },
  {
   "cell_type": "code",
   "execution_count": null,
   "metadata": {},
   "outputs": [],
   "source": []
  },
  {
   "cell_type": "code",
   "execution_count": null,
   "metadata": {},
   "outputs": [],
   "source": []
  },
  {
   "cell_type": "code",
   "execution_count": 63,
   "metadata": {},
   "outputs": [
    {
     "name": "stdout",
     "output_type": "stream",
     "text": [
      "157/157 - 1s - loss: 0.0471 - accuracy: 0.9878 - val_loss: 0.1860 - val_accuracy: 0.9331 - 992ms/epoch - 6ms/step\n",
      "45/45 [==============================] - 0s 2ms/step - loss: 0.1860 - accuracy: 0.9331\n",
      "157/157 - 1s - loss: 0.0393 - accuracy: 0.9914 - val_loss: 0.1794 - val_accuracy: 0.9338 - 917ms/epoch - 6ms/step\n",
      "45/45 [==============================] - 0s 2ms/step - loss: 0.1794 - accuracy: 0.9338\n"
     ]
    }
   ],
   "source": [
    "\n",
    "w0 = load_model('eachModel1/CheckPoint-15.hdf5')\n",
    "firstWeight = w0.get_weights()\n",
    "w0.fit(training_padded, training_labels, epochs=1, validation_data=(testing_padded, testing_labels), verbose=2)\n",
    "w0acc = w0.history.history['accuracy'][0]\n",
    "w0test = (w0.evaluate(testing_padded, testing_labels))[1]\n",
    "\n",
    "wT = load_model('eachModel2/CheckPoint-15.hdf5'.format(z))\n",
    "lastWeight = wT.get_weights()\n",
    "wT.fit(training_padded, training_labels, epochs=1, validation_data=(testing_padded, testing_labels), verbose=2)\n",
    "wTacc = wT.history.history['accuracy'][0]\n",
    "wTtest = (wT.evaluate(testing_padded, testing_labels))[1]\n",
    "\n",
    "ilkK = (firstWeight[0] - lastWeight[0])/11\n",
    "ikiK = (firstWeight[1] - lastWeight[1])/11\n",
    "ucK = (firstWeight[2] - lastWeight[2])/11\n",
    "dortK = (firstWeight[3] - lastWeight[3])/11\n",
    "besK = (firstWeight[4] - lastWeight[4])/11\n",
    "\n",
    "arttirmaMiktar = [ilkK,ikiK,ucK,dortK,besK]\n",
    "\n",
    "allpointX = []\n",
    "allpointY = []\n",
    "for i in range(11):\n",
    "        allpointX.append(firstWeight[3] + ((i+1)*arttirmaMiktar[3]))\n",
    "\n",
    "for i in range(11):\n",
    "        allpointY.append(firstWeight[4] + ((i+1)*arttirmaMiktar[4]))"
   ]
  },
  {
   "cell_type": "code",
   "execution_count": 64,
   "metadata": {},
   "outputs": [],
   "source": [
    "allPointWeightX1.extend(allpointX)\n",
    "allPointWeightY1.extend(allpointY)"
   ]
  },
  {
   "cell_type": "code",
   "execution_count": 65,
   "metadata": {},
   "outputs": [],
   "source": [
    "allPointWeightX1 = np.array(allPointWeightX1)\n",
    "allPointWeightY1 = np.array(allPointWeightY1)"
   ]
  },
  {
   "cell_type": "code",
   "execution_count": 66,
   "metadata": {},
   "outputs": [
    {
     "data": {
      "text/plain": [
       "(86, 24, 1)"
      ]
     },
     "execution_count": 66,
     "metadata": {},
     "output_type": "execute_result"
    }
   ],
   "source": [
    "allPointWeightX1.shape"
   ]
  },
  {
   "cell_type": "code",
   "execution_count": 67,
   "metadata": {},
   "outputs": [],
   "source": [
    "x_mnist = np.reshape(allPointWeightX1, [allPointWeightX1.shape[0], allPointWeightX1.shape[1]*allPointWeightX1.shape[2]])"
   ]
  },
  {
   "cell_type": "code",
   "execution_count": 68,
   "metadata": {},
   "outputs": [
    {
     "name": "stderr",
     "output_type": "stream",
     "text": [
      "c:\\Users\\enes_\\AppData\\Local\\Programs\\Python\\Python39\\lib\\site-packages\\sklearn\\manifold\\_t_sne.py:795: FutureWarning: The default initialization in TSNE will change from 'random' to 'pca' in 1.2.\n",
      "  warnings.warn(\n",
      "c:\\Users\\enes_\\AppData\\Local\\Programs\\Python\\Python39\\lib\\site-packages\\sklearn\\manifold\\_t_sne.py:805: FutureWarning: The default learning rate in TSNE will change from 200.0 to 'auto' in 1.2.\n",
      "  warnings.warn(\n"
     ]
    },
    {
     "name": "stdout",
     "output_type": "stream",
     "text": [
      "[t-SNE] Computing 85 nearest neighbors...\n",
      "[t-SNE] Indexed 86 samples in 0.001s...\n",
      "[t-SNE] Computed neighbors for 86 samples in 0.002s...\n",
      "[t-SNE] Computed conditional probabilities for sample 86 / 86\n",
      "[t-SNE] Mean sigma: 3.693257\n",
      "[t-SNE] KL divergence after 250 iterations with early exaggeration: 53.155327\n",
      "[t-SNE] KL divergence after 1000 iterations: 0.051902\n"
     ]
    }
   ],
   "source": [
    "tsne = TSNE(n_components=2, verbose=1, random_state=123)\n",
    "z = tsne.fit_transform(x_mnist)"
   ]
  },
  {
   "cell_type": "code",
   "execution_count": 69,
   "metadata": {},
   "outputs": [],
   "source": [
    "df = pd.DataFrame()\n",
    "df[\"y\"] = pd.DataFrame(allPointWeightY1)\n",
    "df[\"comp-1\"] = z[:,0]\n",
    "df[\"comp-2\"] = z[:,1]"
   ]
  },
  {
   "cell_type": "code",
   "execution_count": 70,
   "metadata": {},
   "outputs": [
    {
     "data": {
      "text/plain": [
       "[Text(0.5, 1.0, 'Farklı başlangıç noktaları için model adımları gösterimi')]"
      ]
     },
     "execution_count": 70,
     "metadata": {},
     "output_type": "execute_result"
    },
    {
     "data": {
      "image/png": "[encoded data removed]",
      "text/plain": [
       "<Figure size 432x288 with 1 Axes>"
      ]
     },
     "metadata": {
      "needs_background": "light"
     },
     "output_type": "display_data"
    }
   ],
   "source": [
    "sns.scatterplot(x=\"comp-1\", y=\"comp-2\",\n",
    "        data=df).set(title=\"Farklı başlangıç noktaları için model adımları gösterimi\")"
   ]
  },
  {
   "cell_type": "code",
   "execution_count": null,
   "metadata": {},
   "outputs": [],
   "source": []
  },
  {
   "cell_type": "code",
   "execution_count": null,
   "metadata": {},
   "outputs": [],
   "source": []
  },
  {
   "cell_type": "code",
   "execution_count": null,
   "metadata": {},
   "outputs": [],
   "source": []
  },
  {
   "attachments": {},
   "cell_type": "markdown",
   "metadata": {},
   "source": [
    "C ŞIKKININ ÇÖZÜMÜ"
   ]
  },
  {
   "cell_type": "code",
   "execution_count": 71,
   "metadata": {},
   "outputs": [],
   "source": [
    "trainResultLastModels = []\n",
    "testResultLastModels = []"
   ]
  },
  {
   "cell_type": "code",
   "execution_count": 72,
   "metadata": {},
   "outputs": [
    {
     "name": "stdout",
     "output_type": "stream",
     "text": [
      "157/157 - 1s - loss: 0.0475 - accuracy: 0.9876 - val_loss: 0.1813 - val_accuracy: 0.9324 - 954ms/epoch - 6ms/step\n",
      "45/45 [==============================] - 0s 2ms/step - loss: 0.1813 - accuracy: 0.9324\n",
      "157/157 - 1s - loss: 0.0385 - accuracy: 0.9908 - val_loss: 0.1775 - val_accuracy: 0.9338 - 1s/epoch - 7ms/step\n",
      "45/45 [==============================] - 0s 2ms/step - loss: 0.1775 - accuracy: 0.9338\n",
      "157/157 - 1s - loss: 0.0389 - accuracy: 0.9888 - val_loss: 0.1879 - val_accuracy: 0.9324 - 541ms/epoch - 3ms/step\n",
      "45/45 [==============================] - 0s 2ms/step - loss: 0.1879 - accuracy: 0.9324\n",
      "157/157 - 0s - loss: 0.0349 - accuracy: 0.9868 - val_loss: 0.2078 - val_accuracy: 0.9338 - 434ms/epoch - 3ms/step\n",
      "45/45 [==============================] - 0s 2ms/step - loss: 0.2078 - accuracy: 0.9338\n",
      "157/157 - 0s - loss: 0.0346 - accuracy: 0.9878 - val_loss: 0.2260 - val_accuracy: 0.9338 - 465ms/epoch - 3ms/step\n",
      "45/45 [==============================] - 0s 2ms/step - loss: 0.2260 - accuracy: 0.9338\n",
      "157/157 - 0s - loss: 0.0367 - accuracy: 0.9880 - val_loss: 0.2456 - val_accuracy: 0.9331 - 447ms/epoch - 3ms/step\n",
      "45/45 [==============================] - 0s 2ms/step - loss: 0.2456 - accuracy: 0.9331\n",
      "157/157 - 0s - loss: 0.0395 - accuracy: 0.9868 - val_loss: 0.2611 - val_accuracy: 0.9310 - 471ms/epoch - 3ms/step\n",
      "45/45 [==============================] - 0s 2ms/step - loss: 0.2611 - accuracy: 0.9310\n",
      "157/157 - 0s - loss: 0.0476 - accuracy: 0.9860 - val_loss: 0.3047 - val_accuracy: 0.9338 - 434ms/epoch - 3ms/step\n",
      "45/45 [==============================] - 0s 2ms/step - loss: 0.3047 - accuracy: 0.9338\n",
      "157/157 - 0s - loss: 0.0520 - accuracy: 0.9846 - val_loss: 0.3301 - val_accuracy: 0.9324 - 405ms/epoch - 3ms/step\n",
      "45/45 [==============================] - 0s 2ms/step - loss: 0.3301 - accuracy: 0.9324\n",
      "157/157 - 0s - loss: 0.0542 - accuracy: 0.9852 - val_loss: 0.3931 - val_accuracy: 0.9338 - 400ms/epoch - 3ms/step\n",
      "45/45 [==============================] - 0s 2ms/step - loss: 0.3931 - accuracy: 0.9338\n",
      "157/157 - 0s - loss: 0.0751 - accuracy: 0.9842 - val_loss: 0.4231 - val_accuracy: 0.9324 - 424ms/epoch - 3ms/step\n",
      "45/45 [==============================] - 0s 2ms/step - loss: 0.4231 - accuracy: 0.9324\n",
      "157/157 - 0s - loss: 0.0999 - accuracy: 0.9810 - val_loss: 0.4922 - val_accuracy: 0.9331 - 444ms/epoch - 3ms/step\n",
      "45/45 [==============================] - 0s 3ms/step - loss: 0.4922 - accuracy: 0.9331\n",
      "157/157 - 0s - loss: 0.1206 - accuracy: 0.9830 - val_loss: 0.5363 - val_accuracy: 0.9317 - 457ms/epoch - 3ms/step\n",
      "45/45 [==============================] - 0s 2ms/step - loss: 0.5363 - accuracy: 0.9317\n",
      "157/157 - 1s - loss: 0.0477 - accuracy: 0.9878 - val_loss: 0.1718 - val_accuracy: 0.9331 - 970ms/epoch - 6ms/step\n",
      "45/45 [==============================] - 0s 2ms/step - loss: 0.1718 - accuracy: 0.9331\n",
      "157/157 - 1s - loss: 0.0486 - accuracy: 0.9882 - val_loss: 0.1821 - val_accuracy: 0.9345 - 989ms/epoch - 6ms/step\n",
      "45/45 [==============================] - 0s 2ms/step - loss: 0.1821 - accuracy: 0.9345\n",
      "157/157 - 0s - loss: 0.0385 - accuracy: 0.9886 - val_loss: 0.1968 - val_accuracy: 0.9331 - 450ms/epoch - 3ms/step\n",
      "45/45 [==============================] - 0s 2ms/step - loss: 0.1968 - accuracy: 0.9331\n",
      "157/157 - 0s - loss: 0.0399 - accuracy: 0.9876 - val_loss: 0.2209 - val_accuracy: 0.9345 - 426ms/epoch - 3ms/step\n",
      "45/45 [==============================] - 0s 2ms/step - loss: 0.2209 - accuracy: 0.9345\n",
      "157/157 - 0s - loss: 0.0381 - accuracy: 0.9864 - val_loss: 0.2538 - val_accuracy: 0.9338 - 412ms/epoch - 3ms/step\n",
      "45/45 [==============================] - 0s 2ms/step - loss: 0.2538 - accuracy: 0.9338\n",
      "157/157 - 0s - loss: 0.0439 - accuracy: 0.9868 - val_loss: 0.2858 - val_accuracy: 0.9317 - 407ms/epoch - 3ms/step\n",
      "45/45 [==============================] - 0s 2ms/step - loss: 0.2858 - accuracy: 0.9317\n",
      "157/157 - 0s - loss: 0.0613 - accuracy: 0.9832 - val_loss: 0.3279 - val_accuracy: 0.9324 - 415ms/epoch - 3ms/step\n",
      "45/45 [==============================] - 0s 2ms/step - loss: 0.3279 - accuracy: 0.9324\n",
      "157/157 - 0s - loss: 0.0770 - accuracy: 0.9822 - val_loss: 0.3839 - val_accuracy: 0.9338 - 424ms/epoch - 3ms/step\n",
      "45/45 [==============================] - 0s 2ms/step - loss: 0.3839 - accuracy: 0.9338\n",
      "157/157 - 0s - loss: 0.0777 - accuracy: 0.9836 - val_loss: 0.4494 - val_accuracy: 0.9331 - 413ms/epoch - 3ms/step\n",
      "45/45 [==============================] - 0s 2ms/step - loss: 0.4494 - accuracy: 0.9331\n",
      "157/157 - 0s - loss: 0.1083 - accuracy: 0.9786 - val_loss: 0.5003 - val_accuracy: 0.9338 - 402ms/epoch - 3ms/step\n",
      "45/45 [==============================] - 0s 2ms/step - loss: 0.5003 - accuracy: 0.9338\n",
      "157/157 - 0s - loss: 0.1641 - accuracy: 0.9756 - val_loss: 0.5529 - val_accuracy: 0.9317 - 412ms/epoch - 3ms/step\n",
      "45/45 [==============================] - 0s 2ms/step - loss: 0.5529 - accuracy: 0.9317\n",
      "157/157 - 0s - loss: 0.1991 - accuracy: 0.9742 - val_loss: 0.6167 - val_accuracy: 0.9331 - 413ms/epoch - 3ms/step\n",
      "45/45 [==============================] - 0s 2ms/step - loss: 0.6167 - accuracy: 0.9331\n",
      "157/157 - 0s - loss: 0.2503 - accuracy: 0.9738 - val_loss: 0.6804 - val_accuracy: 0.9331 - 425ms/epoch - 3ms/step\n",
      "45/45 [==============================] - 0s 2ms/step - loss: 0.6804 - accuracy: 0.9331\n",
      "157/157 - 1s - loss: 0.0474 - accuracy: 0.9882 - val_loss: 0.1852 - val_accuracy: 0.9324 - 920ms/epoch - 6ms/step\n",
      "45/45 [==============================] - 0s 2ms/step - loss: 0.1852 - accuracy: 0.9324\n",
      "157/157 - 1s - loss: 0.0473 - accuracy: 0.9880 - val_loss: 0.1742 - val_accuracy: 0.9366 - 879ms/epoch - 6ms/step\n",
      "45/45 [==============================] - 0s 2ms/step - loss: 0.1742 - accuracy: 0.9366\n",
      "157/157 - 0s - loss: 0.0398 - accuracy: 0.9880 - val_loss: 0.1849 - val_accuracy: 0.9338 - 408ms/epoch - 3ms/step\n",
      "45/45 [==============================] - 0s 2ms/step - loss: 0.1849 - accuracy: 0.9338\n",
      "157/157 - 0s - loss: 0.0387 - accuracy: 0.9854 - val_loss: 0.2057 - val_accuracy: 0.9324 - 428ms/epoch - 3ms/step\n",
      "45/45 [==============================] - 0s 2ms/step - loss: 0.2057 - accuracy: 0.9324\n",
      "157/157 - 0s - loss: 0.0403 - accuracy: 0.9862 - val_loss: 0.2328 - val_accuracy: 0.9331 - 450ms/epoch - 3ms/step\n",
      "45/45 [==============================] - 0s 2ms/step - loss: 0.2328 - accuracy: 0.9331\n",
      "157/157 - 1s - loss: 0.0496 - accuracy: 0.9854 - val_loss: 0.2612 - val_accuracy: 0.9324 - 551ms/epoch - 4ms/step\n",
      "45/45 [==============================] - 0s 2ms/step - loss: 0.2612 - accuracy: 0.9324\n",
      "157/157 - 0s - loss: 0.0587 - accuracy: 0.9828 - val_loss: 0.3013 - val_accuracy: 0.9331 - 499ms/epoch - 3ms/step\n",
      "45/45 [==============================] - 0s 2ms/step - loss: 0.3013 - accuracy: 0.9331\n",
      "157/157 - 0s - loss: 0.0703 - accuracy: 0.9838 - val_loss: 0.3456 - val_accuracy: 0.9331 - 401ms/epoch - 3ms/step\n",
      "45/45 [==============================] - 0s 2ms/step - loss: 0.3456 - accuracy: 0.9331\n",
      "157/157 - 0s - loss: 0.0819 - accuracy: 0.9832 - val_loss: 0.3843 - val_accuracy: 0.9345 - 407ms/epoch - 3ms/step\n",
      "45/45 [==============================] - 0s 2ms/step - loss: 0.3843 - accuracy: 0.9345\n",
      "157/157 - 0s - loss: 0.1125 - accuracy: 0.9804 - val_loss: 0.4483 - val_accuracy: 0.9310 - 433ms/epoch - 3ms/step\n",
      "45/45 [==============================] - 0s 2ms/step - loss: 0.4483 - accuracy: 0.9310\n",
      "157/157 - 0s - loss: 0.1311 - accuracy: 0.9800 - val_loss: 0.4998 - val_accuracy: 0.9331 - 415ms/epoch - 3ms/step\n",
      "45/45 [==============================] - 0s 2ms/step - loss: 0.4998 - accuracy: 0.9331\n",
      "157/157 - 0s - loss: 0.1795 - accuracy: 0.9754 - val_loss: 0.5701 - val_accuracy: 0.9317 - 418ms/epoch - 3ms/step\n",
      "45/45 [==============================] - 0s 2ms/step - loss: 0.5701 - accuracy: 0.9317\n",
      "157/157 - 0s - loss: 0.1513 - accuracy: 0.9788 - val_loss: 0.6417 - val_accuracy: 0.9317 - 408ms/epoch - 3ms/step\n",
      "45/45 [==============================] - 0s 2ms/step - loss: 0.6417 - accuracy: 0.9317\n"
     ]
    }
   ],
   "source": [
    "for z in range(2,5):\n",
    "    w0 = load_model('eachModel1/CheckPoint-15.hdf5')\n",
    "    firstWeight = w0.get_weights()\n",
    "    w0.fit(training_padded, training_labels, epochs=1, validation_data=(testing_padded, testing_labels), verbose=2)\n",
    "    w0acc = w0.history.history['accuracy'][0]\n",
    "    w0test = (w0.evaluate(testing_padded, testing_labels))[1]\n",
    "\n",
    "    wT = load_model('eachModel{}/CheckPoint-15.hdf5'.format(z))\n",
    "    lastWeight = wT.get_weights()\n",
    "    wT.fit(training_padded, training_labels, epochs=1, validation_data=(testing_padded, testing_labels), verbose=2)\n",
    "    wTacc = wT.history.history['accuracy'][0]\n",
    "    wTtest = (wT.evaluate(testing_padded, testing_labels))[1]\n",
    "\n",
    "    ilkK = (firstWeight[0] - lastWeight[0])/11\n",
    "    ikiK = (firstWeight[1] - lastWeight[1])/11\n",
    "    ucK = (firstWeight[2] - lastWeight[2])/11\n",
    "    dortK = (firstWeight[3] - lastWeight[3])/11\n",
    "    besK = (firstWeight[4] - lastWeight[4])/11\n",
    "\n",
    "    arttirmaMiktar = [ilkK,ikiK,ucK,dortK,besK]\n",
    "\n",
    "    allpoint = []\n",
    "    for i in range(11):\n",
    "        for j in range(5):\n",
    "            allpoint.append(firstWeight[j] + ((i+1)*arttirmaMiktar[j]))\n",
    "\n",
    "    \n",
    "    trainResultLastModels.append(w0acc )\n",
    "    testResultLastModels.append(w0test)\n",
    "\n",
    "    for i in range(0,55,5):\n",
    "        model.set_weights(allpoint[i:(i+5)])\n",
    "        dotModel = model.fit(training_padded, training_labels, epochs=1, validation_data=(testing_padded, testing_labels), verbose=2)\n",
    "        dotResult = model.evaluate(testing_padded, testing_labels)\n",
    "\n",
    "        trainResultLastModels.append(dotModel.history['accuracy'][0] )\n",
    "        testResultLastModels.append(dotResult[1])\n",
    "\n",
    "    trainResultLastModels.append(wTacc )\n",
    "    testResultLastModels.append(wTtest)"
   ]
  },
  {
   "cell_type": "code",
   "execution_count": 73,
   "metadata": {},
   "outputs": [
    {
     "data": {
      "image/png": "[encoded data removed]",
      "text/plain": [
       "<Figure size 432x288 with 1 Axes>"
      ]
     },
     "metadata": {
      "needs_background": "light"
     },
     "output_type": "display_data"
    }
   ],
   "source": [
    "plt.plot(range(13),trainResultLastModels[0:13])\n",
    "plt.plot(range(13),trainResultLastModels[13:26])\n",
    "plt.plot(range(13),trainResultLastModels[26:39])\n",
    "plt.xlabel(\"Ara nokta sayısı\")\n",
    "plt.ylabel(\"Hata\")\n",
    "plt.title(\"Son noktaların karşılaştırılması - Eğitim Hatası\")\n",
    "plt.show()"
   ]
  },
  {
   "cell_type": "code",
   "execution_count": 74,
   "metadata": {},
   "outputs": [
    {
     "data": {
      "image/png": "[encoded data removed]",
      "text/plain": [
       "<Figure size 432x288 with 1 Axes>"
      ]
     },
     "metadata": {
      "needs_background": "light"
     },
     "output_type": "display_data"
    }
   ],
   "source": [
    "plt.plot(range(13),testResultLastModels[0:13])\n",
    "plt.plot(range(13),testResultLastModels[13:26])\n",
    "plt.plot(range(13),testResultLastModels[26:39])\n",
    "plt.xlabel(\"Ara nokta sayısı\")\n",
    "plt.ylabel(\"Hata\")\n",
    "plt.title(\"Son noktaların karşılaştırılması - Test Hatası\")\n",
    "plt.show()"
   ]
  }
 ],
 "metadata": {
  "kernelspec": {
   "display_name": "Python 3",
   "language": "python",
   "name": "python3"
  },
  "language_info": {
   "codemirror_mode": {
    "name": "ipython",
    "version": 3
   },
   "file_extension": ".py",
   "mimetype": "text/x-python",
   "name": "python",
   "nbconvert_exporter": "python",
   "pygments_lexer": "ipython3",
   "version": "3.9.13"
  },
  "orig_nbformat": 4,
  "vscode": {
   "interpreter": {
    "hash": "e81f3eb113a4575374b4ec6b7269680492ed507ee7da4a22f49e975af020ad03"
   }
  }
 },
 "nbformat": 4,
 "nbformat_minor": 2
}
