{
 "cells": [
  {
   "cell_type": "code",
   "execution_count": 359,
   "metadata": {},
   "outputs": [],
   "source": [
    "from __future__ import absolute_import, division, print_function\n",
    "# TensorFlow and tf.keras\n",
    "import tensorflow as tf\n",
    "from tensorflow import keras\n",
    "# Helper libraries\n",
    "import numpy as np\n",
    "import matplotlib.pyplot as plt\n",
    "\n",
    "import tensorflow as tf\n",
    "import os\n",
    "import cv2\n",
    "import imghdr\n",
    "import numpy as np\n",
    "from matplotlib import pyplot as plt\n",
    "from keras.models import Sequential\n",
    "from keras.layers import Conv2D, MaxPooling2D, Dense, Flatten, Dropout\n",
    "from sklearn.manifold import TSNE\n",
    "from sklearn.preprocessing import StandardScaler \n",
    "from sklearn import preprocessing\n",
    "from sklearn.decomposition import PCA\n",
    "import pandas as pd\n",
    "import seaborn as sns\n",
    "from scipy.io import arff\n",
    "from sklearn.model_selection import train_test_split\n",
    "from sklearn.metrics import accuracy_score,f1_score,recall_score,precision_score\n",
    "\n",
    "import json\n",
    "import tensorflow as tf\n",
    "\n",
    "from tensorflow.keras.preprocessing.text import Tokenizer\n",
    "from tensorflow.keras.preprocessing.sequence import pad_sequences\n",
    "from tensorflow.keras.models import Model, load_model\n",
    "from tensorflow.keras.layers import Input, Average\n",
    "\n",
    "from keras.callbacks import ModelCheckpoint\n",
    "\n",
    "import numpy as np\n",
    "import pandas as pd\n",
    "import matplotlib.pyplot as plt\n",
    "import seaborn as sns\n",
    "\n",
    "import joblib\n",
    "\n",
    "from sklearn.manifold import TSNE\n",
    "import plotly.express as px\n",
    "from sklearn.decomposition import PCA\n",
    "from tensorflow.keras.losses import categorical_crossentropy,binary_crossentropy\n",
    "\n",
    "from sklearn import metrics\n",
    "from tensorflow.keras.utils import to_categorical"
   ]
  },
  {
   "cell_type": "code",
   "execution_count": 360,
   "metadata": {},
   "outputs": [],
   "source": [
    "fashion_mnist = keras.datasets.fashion_mnist\n",
    "(train_images, train_labels), (test_images, test_labels) = fashion_mnist.load_data()"
   ]
  },
  {
   "cell_type": "code",
   "execution_count": 361,
   "metadata": {},
   "outputs": [],
   "source": [
    "class_names = ['T-shirt/top', 'Trouser', 'Pullover', 'Dress', 'Coat','Sandal', 'Shirt', 'Sneaker', 'Bag', 'Ankle boot']"
   ]
  },
  {
   "cell_type": "code",
   "execution_count": 362,
   "metadata": {},
   "outputs": [
    {
     "data": {
      "text/plain": [
       "(10000, 28, 28)"
      ]
     },
     "execution_count": 362,
     "metadata": {},
     "output_type": "execute_result"
    }
   ],
   "source": [
    "train_images.shape\n",
    "#Each Label is between 0-9\n",
    "train_labels\n",
    "test_images.shape"
   ]
  },
  {
   "cell_type": "code",
   "execution_count": 363,
   "metadata": {},
   "outputs": [],
   "source": [
    "train_images = train_images / 255.0\n",
    "test_images = test_images / 255.0"
   ]
  },
  {
   "cell_type": "code",
   "execution_count": 353,
   "metadata": {},
   "outputs": [],
   "source": [
    "# trainY = to_categorical(trainY, 10)\n",
    "# testY = to_categorical(testY, 10)\n",
    "\n",
    "# train_labels = to_categorical(train_labels, 10)\n",
    "# test_labels = to_categorical(test_labels, 10)"
   ]
  },
  {
   "cell_type": "code",
   "execution_count": 185,
   "metadata": {},
   "outputs": [
    {
     "data": {
      "text/plain": [
       "array([9, 0, 0, ..., 3, 0, 5], dtype=uint8)"
      ]
     },
     "execution_count": 185,
     "metadata": {},
     "output_type": "execute_result"
    }
   ],
   "source": [
    "train_labels"
   ]
  },
  {
   "cell_type": "code",
   "execution_count": 364,
   "metadata": {},
   "outputs": [],
   "source": [
    "model = keras.Sequential([\n",
    "    keras.layers.Flatten(input_shape=(28, 28)),\n",
    "    keras.layers.Dense(128, activation=tf.nn.relu),\n",
    "    keras.layers.Dense(128, activation=tf.nn.relu),\n",
    "    keras.layers.Dense(10, activation=tf.nn.softmax)\n",
    "])"
   ]
  },
  {
   "cell_type": "code",
   "execution_count": 259,
   "metadata": {},
   "outputs": [
    {
     "name": "stdout",
     "output_type": "stream",
     "text": [
      "Model: \"sequential_21\"\n",
      "_________________________________________________________________\n",
      " Layer (type)                Output Shape              Param #   \n",
      "=================================================================\n",
      " flatten_21 (Flatten)        (None, 784)               0         \n",
      "                                                                 \n",
      " dense_61 (Dense)            (None, 128)               100480    \n",
      "                                                                 \n",
      " dense_62 (Dense)            (None, 128)               16512     \n",
      "                                                                 \n",
      " dense_63 (Dense)            (None, 10)                1290      \n",
      "                                                                 \n",
      "=================================================================\n",
      "Total params: 118,282\n",
      "Trainable params: 118,282\n",
      "Non-trainable params: 0\n",
      "_________________________________________________________________\n"
     ]
    }
   ],
   "source": [
    "model.summary()"
   ]
  },
  {
   "cell_type": "code",
   "execution_count": 365,
   "metadata": {},
   "outputs": [],
   "source": [
    "model.compile(optimizer='adam', loss='sparse_categorical_crossentropy', metrics=['accuracy'])"
   ]
  },
  {
   "cell_type": "code",
   "execution_count": 366,
   "metadata": {},
   "outputs": [],
   "source": [
    "filepath = 'eachModel1/CheckPoint-{epoch:02d}.hdf5'\n",
    "checkpoint = ModelCheckpoint(filepath, monitor='loss', verbose=1,\n",
    "    save_best_only=False,save_weights_only=False, mode='auto', save_freq='epoch')"
   ]
  },
  {
   "cell_type": "code",
   "execution_count": 367,
   "metadata": {},
   "outputs": [
    {
     "name": "stdout",
     "output_type": "stream",
     "text": [
      "Epoch 1/10\n",
      "1872/1875 [============================>.] - ETA: 0s - loss: 0.4868 - accuracy: 0.8266\n",
      "Epoch 1: saving model to eachModel1\\CheckPoint-01.hdf5\n",
      "1875/1875 [==============================] - 8s 4ms/step - loss: 0.4865 - accuracy: 0.8266 - val_loss: 0.4329 - val_accuracy: 0.8391\n",
      "Epoch 2/10\n",
      "1863/1875 [============================>.] - ETA: 0s - loss: 0.3661 - accuracy: 0.8669\n",
      "Epoch 2: saving model to eachModel1\\CheckPoint-02.hdf5\n",
      "1875/1875 [==============================] - 7s 4ms/step - loss: 0.3659 - accuracy: 0.8670 - val_loss: 0.3627 - val_accuracy: 0.8705\n",
      "Epoch 3/10\n",
      "1867/1875 [============================>.] - ETA: 0s - loss: 0.3272 - accuracy: 0.8804\n",
      "Epoch 3: saving model to eachModel1\\CheckPoint-03.hdf5\n",
      "1875/1875 [==============================] - 8s 4ms/step - loss: 0.3275 - accuracy: 0.8802 - val_loss: 0.3499 - val_accuracy: 0.8700\n",
      "Epoch 4/10\n",
      "1875/1875 [==============================] - ETA: 0s - loss: 0.3069 - accuracy: 0.8863\n",
      "Epoch 4: saving model to eachModel1\\CheckPoint-04.hdf5\n",
      "1875/1875 [==============================] - 7s 4ms/step - loss: 0.3069 - accuracy: 0.8863 - val_loss: 0.3694 - val_accuracy: 0.8647\n",
      "Epoch 5/10\n",
      "1872/1875 [============================>.] - ETA: 0s - loss: 0.2903 - accuracy: 0.8915\n",
      "Epoch 5: saving model to eachModel1\\CheckPoint-05.hdf5\n",
      "1875/1875 [==============================] - 7s 4ms/step - loss: 0.2902 - accuracy: 0.8915 - val_loss: 0.3458 - val_accuracy: 0.8730\n",
      "Epoch 6/10\n",
      "1865/1875 [============================>.] - ETA: 0s - loss: 0.2742 - accuracy: 0.8978\n",
      "Epoch 6: saving model to eachModel1\\CheckPoint-06.hdf5\n",
      "1875/1875 [==============================] - 7s 4ms/step - loss: 0.2740 - accuracy: 0.8979 - val_loss: 0.3798 - val_accuracy: 0.8618\n",
      "Epoch 7/10\n",
      "1874/1875 [============================>.] - ETA: 0s - loss: 0.2616 - accuracy: 0.9017\n",
      "Epoch 7: saving model to eachModel1\\CheckPoint-07.hdf5\n",
      "1875/1875 [==============================] - 8s 4ms/step - loss: 0.2615 - accuracy: 0.9018 - val_loss: 0.3333 - val_accuracy: 0.8803\n",
      "Epoch 8/10\n",
      "1869/1875 [============================>.] - ETA: 0s - loss: 0.2494 - accuracy: 0.9067\n",
      "Epoch 8: saving model to eachModel1\\CheckPoint-08.hdf5\n",
      "1875/1875 [==============================] - 8s 4ms/step - loss: 0.2492 - accuracy: 0.9068 - val_loss: 0.3474 - val_accuracy: 0.8782\n",
      "Epoch 9/10\n",
      "1870/1875 [============================>.] - ETA: 0s - loss: 0.2397 - accuracy: 0.9086\n",
      "Epoch 9: saving model to eachModel1\\CheckPoint-09.hdf5\n",
      "1875/1875 [==============================] - 8s 4ms/step - loss: 0.2399 - accuracy: 0.9086 - val_loss: 0.3560 - val_accuracy: 0.8769\n",
      "Epoch 10/10\n",
      "1864/1875 [============================>.] - ETA: 0s - loss: 0.2319 - accuracy: 0.9118\n",
      "Epoch 10: saving model to eachModel1\\CheckPoint-10.hdf5\n",
      "1875/1875 [==============================] - 8s 4ms/step - loss: 0.2318 - accuracy: 0.9119 - val_loss: 0.3436 - val_accuracy: 0.8817\n"
     ]
    }
   ],
   "source": [
    "history = model.fit(train_images, train_labels,validation_data=(test_images,test_labels), epochs=10,callbacks=[checkpoint])"
   ]
  },
  {
   "cell_type": "code",
   "execution_count": 279,
   "metadata": {},
   "outputs": [
    {
     "data": {
      "image/png": "[encoded data removed]",
      "text/plain": [
       "<Figure size 432x288 with 1 Axes>"
      ]
     },
     "metadata": {
      "needs_background": "light"
     },
     "output_type": "display_data"
    },
    {
     "data": {
      "image/png": "[encoded data removed]",
      "text/plain": [
       "<Figure size 432x288 with 1 Axes>"
      ]
     },
     "metadata": {
      "needs_background": "light"
     },
     "output_type": "display_data"
    }
   ],
   "source": [
    "def plot_graphs(history, string):\n",
    "  plt.plot(history.history[string])\n",
    "  plt.plot(history.history['val_'+string])\n",
    "  plt.xlabel(\"Epochs\")\n",
    "  plt.ylabel(string)\n",
    "  plt.legend([string, 'val_'+string])\n",
    "  plt.show()\n",
    "  \n",
    "plot_graphs(history, \"accuracy\")\n",
    "plot_graphs(history, \"loss\")"
   ]
  },
  {
   "attachments": {},
   "cell_type": "markdown",
   "metadata": {},
   "source": [
    "FARKLI BAŞLANGIÇ NOKTALARI İÇİN PCA ÇİZİMİ"
   ]
  },
  {
   "cell_type": "code",
   "execution_count": 280,
   "metadata": {},
   "outputs": [],
   "source": [
    "allPointWeightX1 = []\n",
    "allPointWeightY1 = []"
   ]
  },
  {
   "cell_type": "code",
   "execution_count": 281,
   "metadata": {},
   "outputs": [
    {
     "name": "stderr",
     "output_type": "stream",
     "text": [
      "C:\\Users\\enes_\\AppData\\Local\\Temp\\ipykernel_7704\\2549362355.py:10: VisibleDeprecationWarning:\n",
      "\n",
      "Creating an ndarray from ragged nested sequences (which is a list-or-tuple of lists-or-tuples-or ndarrays with different lengths or shapes) is deprecated. If you meant to do this, you must specify 'dtype=object' when creating the ndarray.\n",
      "\n",
      "C:\\Users\\enes_\\AppData\\Local\\Temp\\ipykernel_7704\\2549362355.py:6: VisibleDeprecationWarning:\n",
      "\n",
      "Creating an ndarray from ragged nested sequences (which is a list-or-tuple of lists-or-tuples-or ndarrays with different lengths or shapes) is deprecated. If you meant to do this, you must specify 'dtype=object' when creating the ndarray.\n",
      "\n"
     ]
    }
   ],
   "source": [
    "for j in range(5):\n",
    "    for i in range(10):\n",
    "        if i>=9:\n",
    "            myModel = load_model('eachModel{}/CheckPoint-{}.hdf5'.format(j+1,i+1))\n",
    "            myModelweight = myModel.get_weights()\n",
    "            allPointWeightX1.append(np.array(myModelweight[0:5]))\n",
    "        else:\n",
    "            myModel = load_model('eachModel{}/CheckPoint-0{}.hdf5'.format(j+1,i+1))\n",
    "            myModelweight = myModel.get_weights()\n",
    "            allPointWeightX1.append(np.array(myModelweight[0:5]))\n",
    "    \n",
    "    for i in range(10):\n",
    "        if i>=9:\n",
    "            myModel = load_model('eachModel{}/CheckPoint-{}.hdf5'.format(j+1,i+1))\n",
    "            myModelweight = myModel.get_weights()\n",
    "            allPointWeightY1.append(np.array(myModelweight[5]))\n",
    "        else:\n",
    "            myModel = load_model('eachModel{}/CheckPoint-0{}.hdf5'.format(j+1,i+1))\n",
    "            myModelweight = myModel.get_weights()\n",
    "            allPointWeightY1.append(np.array(myModelweight[5]))"
   ]
  },
  {
   "cell_type": "code",
   "execution_count": 282,
   "metadata": {},
   "outputs": [],
   "source": [
    "allPointWeightX1 = np.array(allPointWeightX1)\n",
    "allPointWeightY1 = np.array(allPointWeightY1)"
   ]
  },
  {
   "cell_type": "code",
   "execution_count": 283,
   "metadata": {},
   "outputs": [],
   "source": [
    "for i in range(50):\n",
    "    allPointWeightX1[i][0] = allPointWeightX1[i][0].flatten()\n",
    "    allPointWeightX1[i][1] = allPointWeightX1[i][1].flatten()\n",
    "    allPointWeightX1[i][2] = allPointWeightX1[i][2].flatten()\n",
    "    allPointWeightX1[i][3] = allPointWeightX1[i][3].flatten()\n",
    "    allPointWeightX1[i][4] = allPointWeightX1[i][4].flatten()"
   ]
  },
  {
   "cell_type": "code",
   "execution_count": 284,
   "metadata": {},
   "outputs": [],
   "source": [
    "Xlist= []\n",
    "for i in range(50):\n",
    "    Xlist.append(np.hstack((allPointWeightX1[i][0],allPointWeightX1[i][1],allPointWeightX1[i][2],allPointWeightX1[i][3],allPointWeightX1[i][4])))"
   ]
  },
  {
   "cell_type": "code",
   "execution_count": 285,
   "metadata": {},
   "outputs": [],
   "source": [
    "Xlist = np.array(Xlist)"
   ]
  },
  {
   "cell_type": "code",
   "execution_count": 286,
   "metadata": {},
   "outputs": [
    {
     "data": {
      "application/vnd.plotly.v1+json": {
       "config": {
        "plotlyServerURL": "https://plot.ly"
       },
       "data": [
        {
         "hovertemplate": "0=%{x}<br>1=%{y}<extra></extra>",
         "legendgroup": "",
         "marker": {
          "color": "#636efa",
          "symbol": "circle"
         },
         "mode": "markers",
         "name": "",
         "orientation": "v",
         "showlegend": false,
         "type": "scatter",
         "x": [
          13.09741497039795,
          17.169475555419922,
          20.540504455566406,
          23.41535758972168,
          25.94637107849121,
          28.217023849487305,
          30.205867767333984,
          32.00394821166992,
          33.545814514160156,
          34.926483154296875,
          -7.658276081085205,
          -9.825911521911621,
          -11.723631858825684,
          -13.262799263000488,
          -14.709208488464355,
          -16.015121459960938,
          -17.230878829956055,
          -18.261337280273438,
          -19.187759399414062,
          -19.943096160888672,
          -11.932318687438965,
          -15.281787872314453,
          -18.197744369506836,
          -20.79347038269043,
          -23.05171775817871,
          -25.03194808959961,
          -26.861055374145508,
          -28.422338485717773,
          -29.822214126586914,
          -31.060985565185547,
          1.9641300439834595,
          2.6585206985473633,
          3.1647825241088867,
          3.702054023742676,
          4.119245529174805,
          4.582285404205322,
          4.934606552124023,
          5.187529563903809,
          5.489320755004883,
          5.834635257720947,
          3.8796024322509766,
          5.046420097351074,
          6.071078300476074,
          6.92242431640625,
          7.7389326095581055,
          8.513142585754395,
          9.117218971252441,
          9.614052772521973,
          10.116861343383789,
          10.548487663269043
         ],
         "xaxis": "x",
         "y": [
          -7.763148307800293,
          -9.94464111328125,
          -11.796941757202148,
          -13.37453842163086,
          -14.76848316192627,
          -16.13705825805664,
          -17.1956787109375,
          -18.274276733398438,
          -19.153322219848633,
          -20.006444931030273,
          1.5189090967178345,
          1.8773800134658813,
          2.2337520122528076,
          2.480156183242798,
          2.8347203731536865,
          3.0026655197143555,
          3.240186929702759,
          3.4124743938446045,
          3.5059492588043213,
          3.589462995529175,
          -4.7948689460754395,
          -6.189741611480713,
          -7.434710502624512,
          -8.558841705322266,
          -9.482932090759277,
          -10.294781684875488,
          -11.168060302734375,
          -11.738061904907227,
          -12.311559677124023,
          -12.815335273742676,
          -5.559927940368652,
          -7.23112154006958,
          -8.579728126525879,
          -9.77074146270752,
          -10.794172286987305,
          -11.674729347229004,
          -12.464216232299805,
          -13.24267864227295,
          -13.974186897277832,
          -14.551491737365723,
          16.58909034729004,
          21.413785934448242,
          25.483787536621094,
          29.15526580810547,
          32.31294631958008,
          35.15190505981445,
          37.66086196899414,
          39.895633697509766,
          41.95003128051758,
          43.73745346069336
         ],
         "yaxis": "y"
        }
       ],
       "layout": {
        "legend": {
         "tracegroupgap": 0
        },
        "margin": {
         "t": 60
        },
        "template": {
         "data": {
          "bar": [
           {
            "error_x": {
             "color": "#2a3f5f"
            },
            "error_y": {
             "color": "#2a3f5f"
            },
            "marker": {
             "line": {
              "color": "#E5ECF6",
              "width": 0.5
             },
             "pattern": {
              "fillmode": "overlay",
              "size": 10,
              "solidity": 0.2
             }
            },
            "type": "bar"
           }
          ],
          "barpolar": [
           {
            "marker": {
             "line": {
              "color": "#E5ECF6",
              "width": 0.5
             },
             "pattern": {
              "fillmode": "overlay",
              "size": 10,
              "solidity": 0.2
             }
            },
            "type": "barpolar"
           }
          ],
          "carpet": [
           {
            "aaxis": {
             "endlinecolor": "#2a3f5f",
             "gridcolor": "white",
             "linecolor": "white",
             "minorgridcolor": "white",
             "startlinecolor": "#2a3f5f"
            },
            "baxis": {
             "endlinecolor": "#2a3f5f",
             "gridcolor": "white",
             "linecolor": "white",
             "minorgridcolor": "white",
             "startlinecolor": "#2a3f5f"
            },
            "type": "carpet"
           }
          ],
          "choropleth": [
           {
            "colorbar": {
             "outlinewidth": 0,
             "ticks": ""
            },
            "type": "choropleth"
           }
          ],
          "contour": [
           {
            "colorbar": {
             "outlinewidth": 0,
             "ticks": ""
            },
            "colorscale": [
             [
              0,
              "#0d0887"
             ],
             [
              0.1111111111111111,
              "#46039f"
             ],
             [
              0.2222222222222222,
              "#7201a8"
             ],
             [
              0.3333333333333333,
              "#9c179e"
             ],
             [
              0.4444444444444444,
              "#bd3786"
             ],
             [
              0.5555555555555556,
              "#d8576b"
             ],
             [
              0.6666666666666666,
              "#ed7953"
             ],
             [
              0.7777777777777778,
              "#fb9f3a"
             ],
             [
              0.8888888888888888,
              "#fdca26"
             ],
             [
              1,
              "#f0f921"
             ]
            ],
            "type": "contour"
           }
          ],
          "contourcarpet": [
           {
            "colorbar": {
             "outlinewidth": 0,
             "ticks": ""
            },
            "type": "contourcarpet"
           }
          ],
          "heatmap": [
           {
            "colorbar": {
             "outlinewidth": 0,
             "ticks": ""
            },
            "colorscale": [
             [
              0,
              "#0d0887"
             ],
             [
              0.1111111111111111,
              "#46039f"
             ],
             [
              0.2222222222222222,
              "#7201a8"
             ],
             [
              0.3333333333333333,
              "#9c179e"
             ],
             [
              0.4444444444444444,
              "#bd3786"
             ],
             [
              0.5555555555555556,
              "#d8576b"
             ],
             [
              0.6666666666666666,
              "#ed7953"
             ],
             [
              0.7777777777777778,
              "#fb9f3a"
             ],
             [
              0.8888888888888888,
              "#fdca26"
             ],
             [
              1,
              "#f0f921"
             ]
            ],
            "type": "heatmap"
           }
          ],
          "heatmapgl": [
           {
            "colorbar": {
             "outlinewidth": 0,
             "ticks": ""
            },
            "colorscale": [
             [
              0,
              "#0d0887"
             ],
             [
              0.1111111111111111,
              "#46039f"
             ],
             [
              0.2222222222222222,
              "#7201a8"
             ],
             [
              0.3333333333333333,
              "#9c179e"
             ],
             [
              0.4444444444444444,
              "#bd3786"
             ],
             [
              0.5555555555555556,
              "#d8576b"
             ],
             [
              0.6666666666666666,
              "#ed7953"
             ],
             [
              0.7777777777777778,
              "#fb9f3a"
             ],
             [
              0.8888888888888888,
              "#fdca26"
             ],
             [
              1,
              "#f0f921"
             ]
            ],
            "type": "heatmapgl"
           }
          ],
          "histogram": [
           {
            "marker": {
             "pattern": {
              "fillmode": "overlay",
              "size": 10,
              "solidity": 0.2
             }
            },
            "type": "histogram"
           }
          ],
          "histogram2d": [
           {
            "colorbar": {
             "outlinewidth": 0,
             "ticks": ""
            },
            "colorscale": [
             [
              0,
              "#0d0887"
             ],
             [
              0.1111111111111111,
              "#46039f"
             ],
             [
              0.2222222222222222,
              "#7201a8"
             ],
             [
              0.3333333333333333,
              "#9c179e"
             ],
             [
              0.4444444444444444,
              "#bd3786"
             ],
             [
              0.5555555555555556,
              "#d8576b"
             ],
             [
              0.6666666666666666,
              "#ed7953"
             ],
             [
              0.7777777777777778,
              "#fb9f3a"
             ],
             [
              0.8888888888888888,
              "#fdca26"
             ],
             [
              1,
              "#f0f921"
             ]
            ],
            "type": "histogram2d"
           }
          ],
          "histogram2dcontour": [
           {
            "colorbar": {
             "outlinewidth": 0,
             "ticks": ""
            },
            "colorscale": [
             [
              0,
              "#0d0887"
             ],
             [
              0.1111111111111111,
              "#46039f"
             ],
             [
              0.2222222222222222,
              "#7201a8"
             ],
             [
              0.3333333333333333,
              "#9c179e"
             ],
             [
              0.4444444444444444,
              "#bd3786"
             ],
             [
              0.5555555555555556,
              "#d8576b"
             ],
             [
              0.6666666666666666,
              "#ed7953"
             ],
             [
              0.7777777777777778,
              "#fb9f3a"
             ],
             [
              0.8888888888888888,
              "#fdca26"
             ],
             [
              1,
              "#f0f921"
             ]
            ],
            "type": "histogram2dcontour"
           }
          ],
          "mesh3d": [
           {
            "colorbar": {
             "outlinewidth": 0,
             "ticks": ""
            },
            "type": "mesh3d"
           }
          ],
          "parcoords": [
           {
            "line": {
             "colorbar": {
              "outlinewidth": 0,
              "ticks": ""
             }
            },
            "type": "parcoords"
           }
          ],
          "pie": [
           {
            "automargin": true,
            "type": "pie"
           }
          ],
          "scatter": [
           {
            "fillpattern": {
             "fillmode": "overlay",
             "size": 10,
             "solidity": 0.2
            },
            "type": "scatter"
           }
          ],
          "scatter3d": [
           {
            "line": {
             "colorbar": {
              "outlinewidth": 0,
              "ticks": ""
             }
            },
            "marker": {
             "colorbar": {
              "outlinewidth": 0,
              "ticks": ""
             }
            },
            "type": "scatter3d"
           }
          ],
          "scattercarpet": [
           {
            "marker": {
             "colorbar": {
              "outlinewidth": 0,
              "ticks": ""
             }
            },
            "type": "scattercarpet"
           }
          ],
          "scattergeo": [
           {
            "marker": {
             "colorbar": {
              "outlinewidth": 0,
              "ticks": ""
             }
            },
            "type": "scattergeo"
           }
          ],
          "scattergl": [
           {
            "marker": {
             "colorbar": {
              "outlinewidth": 0,
              "ticks": ""
             }
            },
            "type": "scattergl"
           }
          ],
          "scattermapbox": [
           {
            "marker": {
             "colorbar": {
              "outlinewidth": 0,
              "ticks": ""
             }
            },
            "type": "scattermapbox"
           }
          ],
          "scatterpolar": [
           {
            "marker": {
             "colorbar": {
              "outlinewidth": 0,
              "ticks": ""
             }
            },
            "type": "scatterpolar"
           }
          ],
          "scatterpolargl": [
           {
            "marker": {
             "colorbar": {
              "outlinewidth": 0,
              "ticks": ""
             }
            },
            "type": "scatterpolargl"
           }
          ],
          "scatterternary": [
           {
            "marker": {
             "colorbar": {
              "outlinewidth": 0,
              "ticks": ""
             }
            },
            "type": "scatterternary"
           }
          ],
          "surface": [
           {
            "colorbar": {
             "outlinewidth": 0,
             "ticks": ""
            },
            "colorscale": [
             [
              0,
              "#0d0887"
             ],
             [
              0.1111111111111111,
              "#46039f"
             ],
             [
              0.2222222222222222,
              "#7201a8"
             ],
             [
              0.3333333333333333,
              "#9c179e"
             ],
             [
              0.4444444444444444,
              "#bd3786"
             ],
             [
              0.5555555555555556,
              "#d8576b"
             ],
             [
              0.6666666666666666,
              "#ed7953"
             ],
             [
              0.7777777777777778,
              "#fb9f3a"
             ],
             [
              0.8888888888888888,
              "#fdca26"
             ],
             [
              1,
              "#f0f921"
             ]
            ],
            "type": "surface"
           }
          ],
          "table": [
           {
            "cells": {
             "fill": {
              "color": "#EBF0F8"
             },
             "line": {
              "color": "white"
             }
            },
            "header": {
             "fill": {
              "color": "#C8D4E3"
             },
             "line": {
              "color": "white"
             }
            },
            "type": "table"
           }
          ]
         },
         "layout": {
          "annotationdefaults": {
           "arrowcolor": "#2a3f5f",
           "arrowhead": 0,
           "arrowwidth": 1
          },
          "autotypenumbers": "strict",
          "coloraxis": {
           "colorbar": {
            "outlinewidth": 0,
            "ticks": ""
           }
          },
          "colorscale": {
           "diverging": [
            [
             0,
             "#8e0152"
            ],
            [
             0.1,
             "#c51b7d"
            ],
            [
             0.2,
             "#de77ae"
            ],
            [
             0.3,
             "#f1b6da"
            ],
            [
             0.4,
             "#fde0ef"
            ],
            [
             0.5,
             "#f7f7f7"
            ],
            [
             0.6,
             "#e6f5d0"
            ],
            [
             0.7,
             "#b8e186"
            ],
            [
             0.8,
             "#7fbc41"
            ],
            [
             0.9,
             "#4d9221"
            ],
            [
             1,
             "#276419"
            ]
           ],
           "sequential": [
            [
             0,
             "#0d0887"
            ],
            [
             0.1111111111111111,
             "#46039f"
            ],
            [
             0.2222222222222222,
             "#7201a8"
            ],
            [
             0.3333333333333333,
             "#9c179e"
            ],
            [
             0.4444444444444444,
             "#bd3786"
            ],
            [
             0.5555555555555556,
             "#d8576b"
            ],
            [
             0.6666666666666666,
             "#ed7953"
            ],
            [
             0.7777777777777778,
             "#fb9f3a"
            ],
            [
             0.8888888888888888,
             "#fdca26"
            ],
            [
             1,
             "#f0f921"
            ]
           ],
           "sequentialminus": [
            [
             0,
             "#0d0887"
            ],
            [
             0.1111111111111111,
             "#46039f"
            ],
            [
             0.2222222222222222,
             "#7201a8"
            ],
            [
             0.3333333333333333,
             "#9c179e"
            ],
            [
             0.4444444444444444,
             "#bd3786"
            ],
            [
             0.5555555555555556,
             "#d8576b"
            ],
            [
             0.6666666666666666,
             "#ed7953"
            ],
            [
             0.7777777777777778,
             "#fb9f3a"
            ],
            [
             0.8888888888888888,
             "#fdca26"
            ],
            [
             1,
             "#f0f921"
            ]
           ]
          },
          "colorway": [
           "#636efa",
           "#EF553B",
           "#00cc96",
           "#ab63fa",
           "#FFA15A",
           "#19d3f3",
           "#FF6692",
           "#B6E880",
           "#FF97FF",
           "#FECB52"
          ],
          "font": {
           "color": "#2a3f5f"
          },
          "geo": {
           "bgcolor": "white",
           "lakecolor": "white",
           "landcolor": "#E5ECF6",
           "showlakes": true,
           "showland": true,
           "subunitcolor": "white"
          },
          "hoverlabel": {
           "align": "left"
          },
          "hovermode": "closest",
          "mapbox": {
           "style": "light"
          },
          "paper_bgcolor": "white",
          "plot_bgcolor": "#E5ECF6",
          "polar": {
           "angularaxis": {
            "gridcolor": "white",
            "linecolor": "white",
            "ticks": ""
           },
           "bgcolor": "#E5ECF6",
           "radialaxis": {
            "gridcolor": "white",
            "linecolor": "white",
            "ticks": ""
           }
          },
          "scene": {
           "xaxis": {
            "backgroundcolor": "#E5ECF6",
            "gridcolor": "white",
            "gridwidth": 2,
            "linecolor": "white",
            "showbackground": true,
            "ticks": "",
            "zerolinecolor": "white"
           },
           "yaxis": {
            "backgroundcolor": "#E5ECF6",
            "gridcolor": "white",
            "gridwidth": 2,
            "linecolor": "white",
            "showbackground": true,
            "ticks": "",
            "zerolinecolor": "white"
           },
           "zaxis": {
            "backgroundcolor": "#E5ECF6",
            "gridcolor": "white",
            "gridwidth": 2,
            "linecolor": "white",
            "showbackground": true,
            "ticks": "",
            "zerolinecolor": "white"
           }
          },
          "shapedefaults": {
           "line": {
            "color": "#2a3f5f"
           }
          },
          "ternary": {
           "aaxis": {
            "gridcolor": "white",
            "linecolor": "white",
            "ticks": ""
           },
           "baxis": {
            "gridcolor": "white",
            "linecolor": "white",
            "ticks": ""
           },
           "bgcolor": "#E5ECF6",
           "caxis": {
            "gridcolor": "white",
            "linecolor": "white",
            "ticks": ""
           }
          },
          "title": {
           "x": 0.05
          },
          "xaxis": {
           "automargin": true,
           "gridcolor": "white",
           "linecolor": "white",
           "ticks": "",
           "title": {
            "standoff": 15
           },
           "zerolinecolor": "white",
           "zerolinewidth": 2
          },
          "yaxis": {
           "automargin": true,
           "gridcolor": "white",
           "linecolor": "white",
           "ticks": "",
           "title": {
            "standoff": 15
           },
           "zerolinecolor": "white",
           "zerolinewidth": 2
          }
         }
        },
        "xaxis": {
         "anchor": "y",
         "domain": [
          0,
          1
         ],
         "title": {
          "text": "0"
         }
        },
        "yaxis": {
         "anchor": "x",
         "domain": [
          0,
          1
         ],
         "title": {
          "text": "1"
         }
        }
       }
      }
     },
     "metadata": {},
     "output_type": "display_data"
    }
   ],
   "source": [
    "df = px.data.iris()\n",
    "X = Xlist\n",
    "\n",
    "pca = PCA(n_components=2)\n",
    "components = pca.fit_transform(X)\n",
    "\n",
    "fig = px.scatter(components, x=0, y=1)\n",
    "fig.show()"
   ]
  },
  {
   "cell_type": "code",
   "execution_count": 407,
   "metadata": {},
   "outputs": [
    {
     "data": {
      "application/vnd.plotly.v1+json": {
       "config": {
        "plotlyServerURL": "https://plot.ly"
       },
       "data": [
        {
         "hovertemplate": "PC 1=%{x}<br>PC 2=%{y}<br>PC 3=%{z}<extra></extra>",
         "legendgroup": "",
         "marker": {
          "color": "#636efa",
          "symbol": "circle"
         },
         "mode": "markers",
         "name": "",
         "scene": "scene",
         "showlegend": false,
         "type": "scatter3d",
         "x": [
          13.09714126586914,
          17.169109344482422,
          20.540067672729492,
          23.414859771728516,
          25.945844650268555,
          28.21642303466797,
          30.205219268798828,
          32.00328063964844,
          33.54511260986328,
          34.92573928833008,
          -7.658187389373779,
          -9.825798988342285,
          -11.723502159118652,
          -13.26266860961914,
          -14.70905590057373,
          -16.01495361328125,
          -17.230701446533203,
          -18.26114273071289,
          -19.18755340576172,
          -19.942882537841797,
          -11.932518005371094,
          -15.282050132751465,
          -18.19805908203125,
          -20.793832778930664,
          -23.052112579345703,
          -25.032386779785156,
          -26.861528396606445,
          -28.422840118408203,
          -29.822742462158203,
          -31.061532974243164,
          1.9639348983764648,
          2.6582717895507812,
          3.164487838745117,
          3.701707124710083,
          4.11886739730835,
          4.581875324249268,
          4.934178352355957,
          5.187079429626465,
          5.488826274871826,
          5.834136486053467,
          3.8802011013031006,
          5.047187805175781,
          6.071986675262451,
          6.923484802246094,
          7.740089416503906,
          8.514405250549316,
          9.118585586547852,
          9.615482330322266,
          10.11837387084961,
          10.550065994262695
         ],
         "y": [
          -7.763574123382568,
          -9.945209503173828,
          -11.797616958618164,
          -13.375316619873047,
          -14.769342422485352,
          -16.138002395629883,
          -17.196672439575195,
          -18.27532958984375,
          -19.15440559387207,
          -20.007579803466797,
          1.5190904140472412,
          1.8776109218597412,
          2.234027624130249,
          2.480476140975952,
          2.835082530975342,
          3.0030570030212402,
          3.2406182289123535,
          3.4129230976104736,
          3.506413221359253,
          3.5899546146392822,
          -4.794342517852783,
          -6.189060211181641,
          -7.433901309967041,
          -8.557913780212402,
          -9.481893539428711,
          -10.293657302856445,
          -11.16685676574707,
          -11.73679256439209,
          -12.310225486755371,
          -12.813941955566406,
          -5.5600810050964355,
          -7.231326580047607,
          -8.579964637756348,
          -9.771010398864746,
          -10.794466018676758,
          -11.675058364868164,
          -12.464577674865723,
          -13.243046760559082,
          -13.974583625793457,
          -14.551902770996094,
          16.58896255493164,
          21.413625717163086,
          25.48360252380371,
          29.155052185058594,
          32.312713623046875,
          35.15165710449219,
          37.660587310791016,
          39.89533233642578,
          41.94973373413086,
          43.73714065551758
         ],
         "z": [
          -2.987022876739502,
          -3.854215145111084,
          -4.647271156311035,
          -5.340874195098877,
          -5.838700771331787,
          -6.391475677490234,
          -6.933938503265381,
          -7.3669233322143555,
          -7.640354633331299,
          -7.8677191734313965,
          13.132304191589355,
          17.063993453979492,
          20.299104690551758,
          23.127796173095703,
          25.679378509521484,
          27.861061096191406,
          29.847429275512695,
          31.648523330688477,
          33.170738220214844,
          34.611907958984375,
          -12.170144081115723,
          -15.628689765930176,
          -18.64652442932129,
          -21.3336181640625,
          -23.56732177734375,
          -25.59939193725586,
          -27.515043258666992,
          -29.158353805541992,
          -30.614662170410156,
          -31.80988883972168,
          5.988485336303711,
          7.733118534088135,
          9.231148719787598,
          10.562173843383789,
          11.726665496826172,
          12.793627738952637,
          13.666024208068848,
          14.485382080078125,
          15.278337478637695,
          15.921305656433105,
          -4.042208194732666,
          -5.217866897583008,
          -6.208865642547607,
          -7.083146572113037,
          -7.867382049560547,
          -8.579105377197266,
          -9.212523460388184,
          -9.730571746826172,
          -10.236048698425293,
          -10.73869800567627
         ]
        }
       ],
       "layout": {
        "legend": {
         "tracegroupgap": 0
        },
        "scene": {
         "domain": {
          "x": [
           0,
           1
          ],
          "y": [
           0,
           1
          ]
         },
         "xaxis": {
          "title": {
           "text": "PC 1"
          }
         },
         "yaxis": {
          "title": {
           "text": "PC 2"
          }
         },
         "zaxis": {
          "title": {
           "text": "PC 3"
          }
         }
        },
        "template": {
         "data": {
          "bar": [
           {
            "error_x": {
             "color": "#2a3f5f"
            },
            "error_y": {
             "color": "#2a3f5f"
            },
            "marker": {
             "line": {
              "color": "#E5ECF6",
              "width": 0.5
             },
             "pattern": {
              "fillmode": "overlay",
              "size": 10,
              "solidity": 0.2
             }
            },
            "type": "bar"
           }
          ],
          "barpolar": [
           {
            "marker": {
             "line": {
              "color": "#E5ECF6",
              "width": 0.5
             },
             "pattern": {
              "fillmode": "overlay",
              "size": 10,
              "solidity": 0.2
             }
            },
            "type": "barpolar"
           }
          ],
          "carpet": [
           {
            "aaxis": {
             "endlinecolor": "#2a3f5f",
             "gridcolor": "white",
             "linecolor": "white",
             "minorgridcolor": "white",
             "startlinecolor": "#2a3f5f"
            },
            "baxis": {
             "endlinecolor": "#2a3f5f",
             "gridcolor": "white",
             "linecolor": "white",
             "minorgridcolor": "white",
             "startlinecolor": "#2a3f5f"
            },
            "type": "carpet"
           }
          ],
          "choropleth": [
           {
            "colorbar": {
             "outlinewidth": 0,
             "ticks": ""
            },
            "type": "choropleth"
           }
          ],
          "contour": [
           {
            "colorbar": {
             "outlinewidth": 0,
             "ticks": ""
            },
            "colorscale": [
             [
              0,
              "#0d0887"
             ],
             [
              0.1111111111111111,
              "#46039f"
             ],
             [
              0.2222222222222222,
              "#7201a8"
             ],
             [
              0.3333333333333333,
              "#9c179e"
             ],
             [
              0.4444444444444444,
              "#bd3786"
             ],
             [
              0.5555555555555556,
              "#d8576b"
             ],
             [
              0.6666666666666666,
              "#ed7953"
             ],
             [
              0.7777777777777778,
              "#fb9f3a"
             ],
             [
              0.8888888888888888,
              "#fdca26"
             ],
             [
              1,
              "#f0f921"
             ]
            ],
            "type": "contour"
           }
          ],
          "contourcarpet": [
           {
            "colorbar": {
             "outlinewidth": 0,
             "ticks": ""
            },
            "type": "contourcarpet"
           }
          ],
          "heatmap": [
           {
            "colorbar": {
             "outlinewidth": 0,
             "ticks": ""
            },
            "colorscale": [
             [
              0,
              "#0d0887"
             ],
             [
              0.1111111111111111,
              "#46039f"
             ],
             [
              0.2222222222222222,
              "#7201a8"
             ],
             [
              0.3333333333333333,
              "#9c179e"
             ],
             [
              0.4444444444444444,
              "#bd3786"
             ],
             [
              0.5555555555555556,
              "#d8576b"
             ],
             [
              0.6666666666666666,
              "#ed7953"
             ],
             [
              0.7777777777777778,
              "#fb9f3a"
             ],
             [
              0.8888888888888888,
              "#fdca26"
             ],
             [
              1,
              "#f0f921"
             ]
            ],
            "type": "heatmap"
           }
          ],
          "heatmapgl": [
           {
            "colorbar": {
             "outlinewidth": 0,
             "ticks": ""
            },
            "colorscale": [
             [
              0,
              "#0d0887"
             ],
             [
              0.1111111111111111,
              "#46039f"
             ],
             [
              0.2222222222222222,
              "#7201a8"
             ],
             [
              0.3333333333333333,
              "#9c179e"
             ],
             [
              0.4444444444444444,
              "#bd3786"
             ],
             [
              0.5555555555555556,
              "#d8576b"
             ],
             [
              0.6666666666666666,
              "#ed7953"
             ],
             [
              0.7777777777777778,
              "#fb9f3a"
             ],
             [
              0.8888888888888888,
              "#fdca26"
             ],
             [
              1,
              "#f0f921"
             ]
            ],
            "type": "heatmapgl"
           }
          ],
          "histogram": [
           {
            "marker": {
             "pattern": {
              "fillmode": "overlay",
              "size": 10,
              "solidity": 0.2
             }
            },
            "type": "histogram"
           }
          ],
          "histogram2d": [
           {
            "colorbar": {
             "outlinewidth": 0,
             "ticks": ""
            },
            "colorscale": [
             [
              0,
              "#0d0887"
             ],
             [
              0.1111111111111111,
              "#46039f"
             ],
             [
              0.2222222222222222,
              "#7201a8"
             ],
             [
              0.3333333333333333,
              "#9c179e"
             ],
             [
              0.4444444444444444,
              "#bd3786"
             ],
             [
              0.5555555555555556,
              "#d8576b"
             ],
             [
              0.6666666666666666,
              "#ed7953"
             ],
             [
              0.7777777777777778,
              "#fb9f3a"
             ],
             [
              0.8888888888888888,
              "#fdca26"
             ],
             [
              1,
              "#f0f921"
             ]
            ],
            "type": "histogram2d"
           }
          ],
          "histogram2dcontour": [
           {
            "colorbar": {
             "outlinewidth": 0,
             "ticks": ""
            },
            "colorscale": [
             [
              0,
              "#0d0887"
             ],
             [
              0.1111111111111111,
              "#46039f"
             ],
             [
              0.2222222222222222,
              "#7201a8"
             ],
             [
              0.3333333333333333,
              "#9c179e"
             ],
             [
              0.4444444444444444,
              "#bd3786"
             ],
             [
              0.5555555555555556,
              "#d8576b"
             ],
             [
              0.6666666666666666,
              "#ed7953"
             ],
             [
              0.7777777777777778,
              "#fb9f3a"
             ],
             [
              0.8888888888888888,
              "#fdca26"
             ],
             [
              1,
              "#f0f921"
             ]
            ],
            "type": "histogram2dcontour"
           }
          ],
          "mesh3d": [
           {
            "colorbar": {
             "outlinewidth": 0,
             "ticks": ""
            },
            "type": "mesh3d"
           }
          ],
          "parcoords": [
           {
            "line": {
             "colorbar": {
              "outlinewidth": 0,
              "ticks": ""
             }
            },
            "type": "parcoords"
           }
          ],
          "pie": [
           {
            "automargin": true,
            "type": "pie"
           }
          ],
          "scatter": [
           {
            "fillpattern": {
             "fillmode": "overlay",
             "size": 10,
             "solidity": 0.2
            },
            "type": "scatter"
           }
          ],
          "scatter3d": [
           {
            "line": {
             "colorbar": {
              "outlinewidth": 0,
              "ticks": ""
             }
            },
            "marker": {
             "colorbar": {
              "outlinewidth": 0,
              "ticks": ""
             }
            },
            "type": "scatter3d"
           }
          ],
          "scattercarpet": [
           {
            "marker": {
             "colorbar": {
              "outlinewidth": 0,
              "ticks": ""
             }
            },
            "type": "scattercarpet"
           }
          ],
          "scattergeo": [
           {
            "marker": {
             "colorbar": {
              "outlinewidth": 0,
              "ticks": ""
             }
            },
            "type": "scattergeo"
           }
          ],
          "scattergl": [
           {
            "marker": {
             "colorbar": {
              "outlinewidth": 0,
              "ticks": ""
             }
            },
            "type": "scattergl"
           }
          ],
          "scattermapbox": [
           {
            "marker": {
             "colorbar": {
              "outlinewidth": 0,
              "ticks": ""
             }
            },
            "type": "scattermapbox"
           }
          ],
          "scatterpolar": [
           {
            "marker": {
             "colorbar": {
              "outlinewidth": 0,
              "ticks": ""
             }
            },
            "type": "scatterpolar"
           }
          ],
          "scatterpolargl": [
           {
            "marker": {
             "colorbar": {
              "outlinewidth": 0,
              "ticks": ""
             }
            },
            "type": "scatterpolargl"
           }
          ],
          "scatterternary": [
           {
            "marker": {
             "colorbar": {
              "outlinewidth": 0,
              "ticks": ""
             }
            },
            "type": "scatterternary"
           }
          ],
          "surface": [
           {
            "colorbar": {
             "outlinewidth": 0,
             "ticks": ""
            },
            "colorscale": [
             [
              0,
              "#0d0887"
             ],
             [
              0.1111111111111111,
              "#46039f"
             ],
             [
              0.2222222222222222,
              "#7201a8"
             ],
             [
              0.3333333333333333,
              "#9c179e"
             ],
             [
              0.4444444444444444,
              "#bd3786"
             ],
             [
              0.5555555555555556,
              "#d8576b"
             ],
             [
              0.6666666666666666,
              "#ed7953"
             ],
             [
              0.7777777777777778,
              "#fb9f3a"
             ],
             [
              0.8888888888888888,
              "#fdca26"
             ],
             [
              1,
              "#f0f921"
             ]
            ],
            "type": "surface"
           }
          ],
          "table": [
           {
            "cells": {
             "fill": {
              "color": "#EBF0F8"
             },
             "line": {
              "color": "white"
             }
            },
            "header": {
             "fill": {
              "color": "#C8D4E3"
             },
             "line": {
              "color": "white"
             }
            },
            "type": "table"
           }
          ]
         },
         "layout": {
          "annotationdefaults": {
           "arrowcolor": "#2a3f5f",
           "arrowhead": 0,
           "arrowwidth": 1
          },
          "autotypenumbers": "strict",
          "coloraxis": {
           "colorbar": {
            "outlinewidth": 0,
            "ticks": ""
           }
          },
          "colorscale": {
           "diverging": [
            [
             0,
             "#8e0152"
            ],
            [
             0.1,
             "#c51b7d"
            ],
            [
             0.2,
             "#de77ae"
            ],
            [
             0.3,
             "#f1b6da"
            ],
            [
             0.4,
             "#fde0ef"
            ],
            [
             0.5,
             "#f7f7f7"
            ],
            [
             0.6,
             "#e6f5d0"
            ],
            [
             0.7,
             "#b8e186"
            ],
            [
             0.8,
             "#7fbc41"
            ],
            [
             0.9,
             "#4d9221"
            ],
            [
             1,
             "#276419"
            ]
           ],
           "sequential": [
            [
             0,
             "#0d0887"
            ],
            [
             0.1111111111111111,
             "#46039f"
            ],
            [
             0.2222222222222222,
             "#7201a8"
            ],
            [
             0.3333333333333333,
             "#9c179e"
            ],
            [
             0.4444444444444444,
             "#bd3786"
            ],
            [
             0.5555555555555556,
             "#d8576b"
            ],
            [
             0.6666666666666666,
             "#ed7953"
            ],
            [
             0.7777777777777778,
             "#fb9f3a"
            ],
            [
             0.8888888888888888,
             "#fdca26"
            ],
            [
             1,
             "#f0f921"
            ]
           ],
           "sequentialminus": [
            [
             0,
             "#0d0887"
            ],
            [
             0.1111111111111111,
             "#46039f"
            ],
            [
             0.2222222222222222,
             "#7201a8"
            ],
            [
             0.3333333333333333,
             "#9c179e"
            ],
            [
             0.4444444444444444,
             "#bd3786"
            ],
            [
             0.5555555555555556,
             "#d8576b"
            ],
            [
             0.6666666666666666,
             "#ed7953"
            ],
            [
             0.7777777777777778,
             "#fb9f3a"
            ],
            [
             0.8888888888888888,
             "#fdca26"
            ],
            [
             1,
             "#f0f921"
            ]
           ]
          },
          "colorway": [
           "#636efa",
           "#EF553B",
           "#00cc96",
           "#ab63fa",
           "#FFA15A",
           "#19d3f3",
           "#FF6692",
           "#B6E880",
           "#FF97FF",
           "#FECB52"
          ],
          "font": {
           "color": "#2a3f5f"
          },
          "geo": {
           "bgcolor": "white",
           "lakecolor": "white",
           "landcolor": "#E5ECF6",
           "showlakes": true,
           "showland": true,
           "subunitcolor": "white"
          },
          "hoverlabel": {
           "align": "left"
          },
          "hovermode": "closest",
          "mapbox": {
           "style": "light"
          },
          "paper_bgcolor": "white",
          "plot_bgcolor": "#E5ECF6",
          "polar": {
           "angularaxis": {
            "gridcolor": "white",
            "linecolor": "white",
            "ticks": ""
           },
           "bgcolor": "#E5ECF6",
           "radialaxis": {
            "gridcolor": "white",
            "linecolor": "white",
            "ticks": ""
           }
          },
          "scene": {
           "xaxis": {
            "backgroundcolor": "#E5ECF6",
            "gridcolor": "white",
            "gridwidth": 2,
            "linecolor": "white",
            "showbackground": true,
            "ticks": "",
            "zerolinecolor": "white"
           },
           "yaxis": {
            "backgroundcolor": "#E5ECF6",
            "gridcolor": "white",
            "gridwidth": 2,
            "linecolor": "white",
            "showbackground": true,
            "ticks": "",
            "zerolinecolor": "white"
           },
           "zaxis": {
            "backgroundcolor": "#E5ECF6",
            "gridcolor": "white",
            "gridwidth": 2,
            "linecolor": "white",
            "showbackground": true,
            "ticks": "",
            "zerolinecolor": "white"
           }
          },
          "shapedefaults": {
           "line": {
            "color": "#2a3f5f"
           }
          },
          "ternary": {
           "aaxis": {
            "gridcolor": "white",
            "linecolor": "white",
            "ticks": ""
           },
           "baxis": {
            "gridcolor": "white",
            "linecolor": "white",
            "ticks": ""
           },
           "bgcolor": "#E5ECF6",
           "caxis": {
            "gridcolor": "white",
            "linecolor": "white",
            "ticks": ""
           }
          },
          "title": {
           "x": 0.05
          },
          "xaxis": {
           "automargin": true,
           "gridcolor": "white",
           "linecolor": "white",
           "ticks": "",
           "title": {
            "standoff": 15
           },
           "zerolinecolor": "white",
           "zerolinewidth": 2
          },
          "yaxis": {
           "automargin": true,
           "gridcolor": "white",
           "linecolor": "white",
           "ticks": "",
           "title": {
            "standoff": 15
           },
           "zerolinecolor": "white",
           "zerolinewidth": 2
          }
         }
        },
        "title": {
         "text": "Total Explained Variance: 69.15%"
        }
       }
      }
     },
     "metadata": {},
     "output_type": "display_data"
    }
   ],
   "source": [
    "X = Xlist\n",
    "\n",
    "pca = PCA(n_components=3)\n",
    "components = pca.fit_transform(X)\n",
    "\n",
    "total_var = pca.explained_variance_ratio_.sum() * 100\n",
    "\n",
    "fig = px.scatter_3d(\n",
    "    components, x=0, y=1, z=2,\n",
    "    title=f'Total Explained Variance: {total_var:.2f}%',\n",
    "    labels={'0': 'PC 1', '1': 'PC 2', '2': 'PC 3'}\n",
    ")\n",
    "fig.show()"
   ]
  },
  {
   "attachments": {},
   "cell_type": "markdown",
   "metadata": {},
   "source": [
    "MODEL GRADİENT HESABI İLE OPTİMUM YOLUN BULUNMASI"
   ]
  },
  {
   "attachments": {},
   "cell_type": "markdown",
   "metadata": {},
   "source": [
    "1. İLE 2. NOKTA ARASINDA"
   ]
  },
  {
   "cell_type": "code",
   "execution_count": 376,
   "metadata": {},
   "outputs": [
    {
     "name": "stdout",
     "output_type": "stream",
     "text": [
      "Interpolated weights 0:\n",
      "313/313 [==============================] - 1s 2ms/step - loss: 0.3436 - accuracy: 0.8817\n",
      "Interpolated weights 1:\n",
      "313/313 [==============================] - 1s 3ms/step - loss: 0.4855 - accuracy: 0.8415\n",
      "Interpolated weights 2:\n",
      "313/313 [==============================] - 1s 3ms/step - loss: 1.1480 - accuracy: 0.5706\n",
      "Interpolated weights 3:\n",
      "313/313 [==============================] - 1s 4ms/step - loss: 1.3223 - accuracy: 0.5012\n",
      "Interpolated weights 4:\n",
      "313/313 [==============================] - 1s 3ms/step - loss: 0.4815 - accuracy: 0.8353\n",
      "Interpolated weights 5:\n",
      "313/313 [==============================] - 1s 3ms/step - loss: 0.3536 - accuracy: 0.8780\n",
      "Interpolated weights 6:\n",
      "313/313 [==============================] - 1s 3ms/step - loss: 0.3536 - accuracy: 0.8780\n",
      "313/313 [==============================] - 1s 3ms/step - loss: 0.3436 - accuracy: 0.8817\n",
      "313/313 [==============================] - 1s 3ms/step - loss: 1.1480 - accuracy: 0.5706\n",
      "0.343566358089447 1.1479597091674805\n",
      " 36/313 [==>...........................] - ETA: 0s - loss: 0.4751 - accuracy: 0.8594"
     ]
    },
    {
     "name": "stderr",
     "output_type": "stream",
     "text": [
      "C:\\Users\\enes_\\AppData\\Local\\Temp\\ipykernel_7704\\527019938.py:88: VisibleDeprecationWarning:\n",
      "\n",
      "Creating an ndarray from ragged nested sequences (which is a list-or-tuple of lists-or-tuples-or ndarrays with different lengths or shapes) is deprecated. If you meant to do this, you must specify 'dtype=object' when creating the ndarray.\n",
      "\n"
     ]
    },
    {
     "name": "stdout",
     "output_type": "stream",
     "text": [
      "313/313 [==============================] - 1s 3ms/step - loss: 0.4855 - accuracy: 0.8415\n",
      "313/313 [==============================] - 1s 3ms/step - loss: 1.3223 - accuracy: 0.5012\n",
      "0.4855134189128876 1.3222849369049072\n",
      "313/313 [==============================] - 1s 3ms/step - loss: 1.1480 - accuracy: 0.5706\n",
      "313/313 [==============================] - 1s 3ms/step - loss: 0.4815 - accuracy: 0.8353\n",
      "1.1479597091674805 0.48150911927223206\n",
      " 36/313 [==>...........................] - ETA: 0s - loss: 1.3734 - accuracy: 0.4635"
     ]
    },
    {
     "name": "stderr",
     "output_type": "stream",
     "text": [
      "C:\\Users\\enes_\\AppData\\Local\\Temp\\ipykernel_7704\\527019938.py:90: VisibleDeprecationWarning:\n",
      "\n",
      "Creating an ndarray from ragged nested sequences (which is a list-or-tuple of lists-or-tuples-or ndarrays with different lengths or shapes) is deprecated. If you meant to do this, you must specify 'dtype=object' when creating the ndarray.\n",
      "\n"
     ]
    },
    {
     "name": "stdout",
     "output_type": "stream",
     "text": [
      "313/313 [==============================] - 1s 3ms/step - loss: 1.3223 - accuracy: 0.5012\n",
      "313/313 [==============================] - 1s 3ms/step - loss: 0.3536 - accuracy: 0.8780\n",
      "1.3222849369049072 0.35360366106033325\n",
      "313/313 [==============================] - 1s 3ms/step - loss: 0.4815 - accuracy: 0.8353\n",
      "313/313 [==============================] - 1s 3ms/step - loss: 0.3536 - accuracy: 0.8780\n",
      "0.48150911927223206 0.35360366106033325\n"
     ]
    },
    {
     "name": "stderr",
     "output_type": "stream",
     "text": [
      "C:\\Users\\enes_\\AppData\\Local\\Temp\\ipykernel_7704\\527019938.py:96: VisibleDeprecationWarning:\n",
      "\n",
      "Creating an ndarray from ragged nested sequences (which is a list-or-tuple of lists-or-tuples-or ndarrays with different lengths or shapes) is deprecated. If you meant to do this, you must specify 'dtype=object' when creating the ndarray.\n",
      "\n",
      "C:\\Users\\enes_\\AppData\\Local\\Temp\\ipykernel_7704\\527019938.py:115: VisibleDeprecationWarning:\n",
      "\n",
      "Creating an ndarray from ragged nested sequences (which is a list-or-tuple of lists-or-tuples-or ndarrays with different lengths or shapes) is deprecated. If you meant to do this, you must specify 'dtype=object' when creating the ndarray.\n",
      "\n",
      "C:\\Users\\enes_\\AppData\\Local\\Temp\\ipykernel_7704\\527019938.py:145: VisibleDeprecationWarning:\n",
      "\n",
      "Creating an ndarray from ragged nested sequences (which is a list-or-tuple of lists-or-tuples-or ndarrays with different lengths or shapes) is deprecated. If you meant to do this, you must specify 'dtype=object' when creating the ndarray.\n",
      "\n"
     ]
    },
    {
     "name": "stdout",
     "output_type": "stream",
     "text": [
      "313/313 [==============================] - 1s 3ms/step - loss: 0.3436 - accuracy: 0.8817\n",
      "313/313 [==============================] - 1s 3ms/step - loss: 1.0991 - accuracy: 0.6002\n",
      "0.343566358089447 1.0990703105926514\n",
      "313/313 [==============================] - 1s 3ms/step - loss: 0.4789 - accuracy: 0.8492\n",
      "313/313 [==============================] - 1s 3ms/step - loss: 1.1999 - accuracy: 0.5428\n",
      "0.47889283299446106 1.1999062299728394\n",
      "313/313 [==============================] - 1s 3ms/step - loss: 1.0991 - accuracy: 0.6002\n",
      "313/313 [==============================] - 1s 3ms/step - loss: 0.4766 - accuracy: 0.8439\n",
      "1.0990703105926514 0.47658321261405945\n",
      "313/313 [==============================] - 1s 3ms/step - loss: 1.1999 - accuracy: 0.5428\n",
      "313/313 [==============================] - 1s 3ms/step - loss: 0.3488 - accuracy: 0.8799\n",
      "1.1999062299728394 0.3487747013568878\n",
      "313/313 [==============================] - 1s 3ms/step - loss: 0.4766 - accuracy: 0.8439\n",
      "313/313 [==============================] - 1s 3ms/step - loss: 0.3536 - accuracy: 0.8780\n",
      "0.47658321261405945 0.35360366106033325\n",
      "313/313 [==============================] - 1s 3ms/step - loss: 0.3436 - accuracy: 0.8817\n",
      "313/313 [==============================] - 1s 3ms/step - loss: 1.0538 - accuracy: 0.6323\n",
      "0.343566358089447 1.0537959337234497\n",
      "313/313 [==============================] - 1s 3ms/step - loss: 0.4743 - accuracy: 0.8529\n",
      "313/313 [==============================] - 1s 3ms/step - loss: 1.1153 - accuracy: 0.6084\n",
      "0.4743461012840271 1.115304946899414\n",
      "313/313 [==============================] - 1s 3ms/step - loss: 1.0538 - accuracy: 0.6323\n",
      "313/313 [==============================] - 1s 3ms/step - loss: 0.4740 - accuracy: 0.8484\n",
      "1.0537959337234497 0.4740486443042755\n",
      "313/313 [==============================] - 1s 3ms/step - loss: 1.1153 - accuracy: 0.6084\n",
      "313/313 [==============================] - 1s 3ms/step - loss: 0.3453 - accuracy: 0.8806\n",
      "1.115304946899414 0.34525784850120544\n",
      "313/313 [==============================] - 1s 3ms/step - loss: 0.4740 - accuracy: 0.8484\n",
      "313/313 [==============================] - 1s 3ms/step - loss: 0.3536 - accuracy: 0.8780\n",
      "0.4740486443042755 0.35360366106033325\n",
      "313/313 [==============================] - 1s 3ms/step - loss: 0.3436 - accuracy: 0.8817\n",
      "313/313 [==============================] - 1s 3ms/step - loss: 1.0116 - accuracy: 0.6696\n",
      "0.343566358089447 1.0116358995437622\n",
      "313/313 [==============================] - 1s 3ms/step - loss: 0.4711 - accuracy: 0.8565\n",
      "313/313 [==============================] - 1s 3ms/step - loss: 1.0522 - accuracy: 0.6616\n",
      "0.47105205059051514 1.0521718263626099\n",
      "313/313 [==============================] - 1s 3ms/step - loss: 1.0116 - accuracy: 0.6696\n",
      "313/313 [==============================] - 1s 3ms/step - loss: 0.4731 - accuracy: 0.8536\n",
      "1.0116358995437622 0.47308677434921265\n",
      "313/313 [==============================] - 1s 3ms/step - loss: 1.0522 - accuracy: 0.6616\n",
      "313/313 [==============================] - 1s 3ms/step - loss: 0.3426 - accuracy: 0.8806\n",
      "1.0521718263626099 0.3425721526145935\n",
      "313/313 [==============================] - 1s 3ms/step - loss: 0.4731 - accuracy: 0.8536\n",
      "313/313 [==============================] - 1s 3ms/step - loss: 0.3536 - accuracy: 0.8780\n",
      "0.47308677434921265 0.35360366106033325\n",
      "313/313 [==============================] - 1s 3ms/step - loss: 0.3436 - accuracy: 0.8817\n",
      "313/313 [==============================] - 1s 3ms/step - loss: 0.9726 - accuracy: 0.7029\n",
      "0.343566358089447 0.9726232290267944\n",
      "313/313 [==============================] - 1s 3ms/step - loss: 0.4686 - accuracy: 0.8579\n",
      "313/313 [==============================] - 1s 3ms/step - loss: 1.0026 - accuracy: 0.6946\n",
      "0.46856606006622314 1.0026174783706665\n",
      "313/313 [==============================] - 1s 3ms/step - loss: 0.9726 - accuracy: 0.7029\n",
      "313/313 [==============================] - 1s 3ms/step - loss: 0.4731 - accuracy: 0.8549\n",
      "0.9726232290267944 0.473082035779953\n",
      "313/313 [==============================] - 1s 3ms/step - loss: 1.0026 - accuracy: 0.6946\n",
      "313/313 [==============================] - 1s 3ms/step - loss: 0.3404 - accuracy: 0.8820\n",
      "1.0026174783706665 0.34041014313697815\n",
      "313/313 [==============================] - 1s 3ms/step - loss: 0.4731 - accuracy: 0.8549\n",
      "313/313 [==============================] - 1s 3ms/step - loss: 0.3536 - accuracy: 0.8780\n",
      "0.473082035779953 0.35360366106033325\n",
      "313/313 [==============================] - 1s 3ms/step - loss: 0.3436 - accuracy: 0.8817\n",
      "313/313 [==============================] - 1s 3ms/step - loss: 0.9368 - accuracy: 0.7307\n",
      "0.343566358089447 0.9367678761482239\n",
      "313/313 [==============================] - 1s 3ms/step - loss: 0.4666 - accuracy: 0.8592\n",
      "313/313 [==============================] - 1s 3ms/step - loss: 0.9618 - accuracy: 0.7182\n",
      "0.466583788394928 0.9618221521377563\n",
      "313/313 [==============================] - 1s 3ms/step - loss: 0.9368 - accuracy: 0.7307\n",
      "313/313 [==============================] - 1s 3ms/step - loss: 0.4736 - accuracy: 0.8559\n",
      "0.9367678761482239 0.4736238718032837\n",
      "313/313 [==============================] - 1s 3ms/step - loss: 0.9618 - accuracy: 0.7182\n",
      "313/313 [==============================] - 1s 3ms/step - loss: 0.3386 - accuracy: 0.8826\n",
      "0.9618221521377563 0.3386128544807434\n",
      "313/313 [==============================] - 1s 3ms/step - loss: 0.4736 - accuracy: 0.8559\n",
      "313/313 [==============================] - 1s 3ms/step - loss: 0.3536 - accuracy: 0.8780\n",
      "0.4736238718032837 0.35360366106033325\n",
      "313/313 [==============================] - 1s 3ms/step - loss: 0.3436 - accuracy: 0.8817\n",
      "313/313 [==============================] - 1s 3ms/step - loss: 0.9039 - accuracy: 0.7482\n",
      "0.343566358089447 0.9038762450218201\n",
      "313/313 [==============================] - 1s 3ms/step - loss: 0.4649 - accuracy: 0.8603\n",
      "313/313 [==============================] - 1s 3ms/step - loss: 0.9269 - accuracy: 0.7382\n",
      "0.46494999527931213 0.9268798828125\n",
      "313/313 [==============================] - 1s 3ms/step - loss: 0.9039 - accuracy: 0.7482\n",
      "313/313 [==============================] - 1s 3ms/step - loss: 0.4744 - accuracy: 0.8556\n",
      "0.9038762450218201 0.4744402766227722\n",
      "313/313 [==============================] - 1s 3ms/step - loss: 0.9269 - accuracy: 0.7382\n",
      "313/313 [==============================] - 1s 3ms/step - loss: 0.3371 - accuracy: 0.8831\n",
      "0.9268798828125 0.3370712995529175\n",
      "313/313 [==============================] - 1s 3ms/step - loss: 0.4744 - accuracy: 0.8556\n",
      "313/313 [==============================] - 1s 3ms/step - loss: 0.3536 - accuracy: 0.8780\n",
      "0.4744402766227722 0.35360366106033325\n",
      "313/313 [==============================] - 1s 3ms/step - loss: 0.3436 - accuracy: 0.8817\n",
      "313/313 [==============================] - 1s 3ms/step - loss: 0.8738 - accuracy: 0.7647\n",
      "0.343566358089447 0.8737526535987854\n",
      "313/313 [==============================] - 1s 3ms/step - loss: 0.4636 - accuracy: 0.8610\n",
      "313/313 [==============================] - 1s 3ms/step - loss: 0.8960 - accuracy: 0.7558\n",
      "0.4635939598083496 0.8959531188011169\n",
      "313/313 [==============================] - 1s 3ms/step - loss: 0.8738 - accuracy: 0.7647\n",
      "313/313 [==============================] - 1s 3ms/step - loss: 0.4754 - accuracy: 0.8573\n",
      "0.8737526535987854 0.4753713309764862\n",
      "313/313 [==============================] - 1s 3ms/step - loss: 0.8960 - accuracy: 0.7558\n",
      "313/313 [==============================] - 1s 3ms/step - loss: 0.3357 - accuracy: 0.8838\n",
      "0.8959531188011169 0.3357172906398773\n",
      "313/313 [==============================] - 1s 3ms/step - loss: 0.4754 - accuracy: 0.8573\n",
      "313/313 [==============================] - 1s 3ms/step - loss: 0.3536 - accuracy: 0.8780\n",
      "0.4753713309764862 0.35360366106033325\n",
      "313/313 [==============================] - 1s 3ms/step - loss: 0.3436 - accuracy: 0.8817\n",
      "313/313 [==============================] - 1s 3ms/step - loss: 0.8461 - accuracy: 0.7764\n",
      "0.343566358089447 0.8461383581161499\n",
      "313/313 [==============================] - 1s 3ms/step - loss: 0.4624 - accuracy: 0.8610\n",
      "313/313 [==============================] - 1s 3ms/step - loss: 0.8680 - accuracy: 0.7684\n",
      "0.462401807308197 0.8680093884468079\n",
      "313/313 [==============================] - 1s 3ms/step - loss: 0.8461 - accuracy: 0.7764\n",
      "313/313 [==============================] - 1s 3ms/step - loss: 0.4763 - accuracy: 0.8577\n",
      "0.8461383581161499 0.4762794077396393\n",
      "313/313 [==============================] - 1s 3ms/step - loss: 0.8680 - accuracy: 0.7684\n",
      "313/313 [==============================] - 1s 3ms/step - loss: 0.3345 - accuracy: 0.8840\n",
      "0.8680093884468079 0.334504634141922\n",
      "313/313 [==============================] - 1s 3ms/step - loss: 0.4763 - accuracy: 0.8577\n",
      "313/313 [==============================] - 1s 3ms/step - loss: 0.3536 - accuracy: 0.8780\n",
      "0.4762794077396393 0.35360366106033325\n",
      "313/313 [==============================] - 1s 3ms/step - loss: 0.3436 - accuracy: 0.8817\n",
      "313/313 [==============================] - 1s 3ms/step - loss: 0.8208 - accuracy: 0.7859\n",
      "0.343566358089447 0.820750892162323\n",
      "313/313 [==============================] - 1s 3ms/step - loss: 0.4613 - accuracy: 0.8609\n",
      "313/313 [==============================] - 1s 3ms/step - loss: 0.8424 - accuracy: 0.7785\n",
      "0.4613382816314697 0.8423660397529602\n",
      "313/313 [==============================] - 1s 3ms/step - loss: 0.8208 - accuracy: 0.7859\n",
      "313/313 [==============================] - 1s 3ms/step - loss: 0.4771 - accuracy: 0.8569\n",
      "0.820750892162323 0.47709429264068604\n",
      "313/313 [==============================] - 1s 3ms/step - loss: 0.8424 - accuracy: 0.7785\n",
      "313/313 [==============================] - 1s 3ms/step - loss: 0.3334 - accuracy: 0.8840\n",
      "0.8423660397529602 0.33339962363243103\n",
      "313/313 [==============================] - 1s 3ms/step - loss: 0.4771 - accuracy: 0.8569\n",
      "313/313 [==============================] - 1s 3ms/step - loss: 0.3536 - accuracy: 0.8780\n",
      "0.47709429264068604 0.35360366106033325\n",
      "313/313 [==============================] - 1s 3ms/step - loss: 0.3436 - accuracy: 0.8817\n",
      "313/313 [==============================] - 1s 3ms/step - loss: 0.7974 - accuracy: 0.7938\n",
      "0.343566358089447 0.797416090965271\n",
      "313/313 [==============================] - 1s 3ms/step - loss: 0.4604 - accuracy: 0.8614\n",
      "313/313 [==============================] - 1s 3ms/step - loss: 0.8186 - accuracy: 0.7869\n",
      "0.46035850048065186 0.8185673356056213\n",
      "313/313 [==============================] - 1s 3ms/step - loss: 0.7974 - accuracy: 0.7938\n",
      "313/313 [==============================] - 1s 3ms/step - loss: 0.4777 - accuracy: 0.8554\n",
      "0.797416090965271 0.47771650552749634\n",
      "313/313 [==============================] - 1s 3ms/step - loss: 0.8186 - accuracy: 0.7869\n",
      "313/313 [==============================] - 1s 3ms/step - loss: 0.3324 - accuracy: 0.8841\n",
      "0.8185673356056213 0.33238092064857483\n",
      "313/313 [==============================] - 1s 3ms/step - loss: 0.4777 - accuracy: 0.8554\n",
      "313/313 [==============================] - 1s 3ms/step - loss: 0.3536 - accuracy: 0.8780\n",
      "0.47771650552749634 0.35360366106033325\n",
      "313/313 [==============================] - 1s 3ms/step - loss: 0.3436 - accuracy: 0.8817\n",
      "313/313 [==============================] - 1s 3ms/step - loss: 0.7759 - accuracy: 0.8014\n",
      "0.343566358089447 0.7758854031562805\n",
      "313/313 [==============================] - 1s 3ms/step - loss: 0.4594 - accuracy: 0.8618\n",
      "313/313 [==============================] - 1s 3ms/step - loss: 0.7964 - accuracy: 0.7967\n",
      "0.4594363272190094 0.7963983416557312\n",
      "313/313 [==============================] - 1s 3ms/step - loss: 0.7759 - accuracy: 0.8014\n",
      "313/313 [==============================] - 1s 3ms/step - loss: 0.4781 - accuracy: 0.8565\n",
      "0.7758854031562805 0.47811776399612427\n",
      "313/313 [==============================] - 1s 3ms/step - loss: 0.7964 - accuracy: 0.7967\n",
      "313/313 [==============================] - 1s 3ms/step - loss: 0.3314 - accuracy: 0.8843\n",
      "0.7963983416557312 0.33144596219062805\n",
      "313/313 [==============================] - 1s 3ms/step - loss: 0.4781 - accuracy: 0.8565\n",
      "313/313 [==============================] - 1s 3ms/step - loss: 0.3536 - accuracy: 0.8780\n",
      "0.47811776399612427 0.35360366106033325\n",
      "313/313 [==============================] - 1s 3ms/step - loss: 0.3436 - accuracy: 0.8817\n",
      "313/313 [==============================] - 1s 3ms/step - loss: 0.7560 - accuracy: 0.8058\n",
      "0.343566358089447 0.7559590339660645\n",
      "313/313 [==============================] - 1s 3ms/step - loss: 0.4586 - accuracy: 0.8621\n",
      "313/313 [==============================] - 1s 3ms/step - loss: 0.7756 - accuracy: 0.8020\n",
      "0.4585689306259155 0.7756375670433044\n",
      "313/313 [==============================] - 1s 3ms/step - loss: 0.7560 - accuracy: 0.8058\n",
      "313/313 [==============================] - 1s 3ms/step - loss: 0.4783 - accuracy: 0.8553\n",
      "0.7559590339660645 0.4783008396625519\n",
      "313/313 [==============================] - 1s 3ms/step - loss: 0.7756 - accuracy: 0.8020\n",
      "313/313 [==============================] - 1s 3ms/step - loss: 0.3306 - accuracy: 0.8849\n",
      "0.7756375670433044 0.3305748403072357\n",
      "313/313 [==============================] - 1s 3ms/step - loss: 0.4783 - accuracy: 0.8553\n",
      "313/313 [==============================] - 1s 3ms/step - loss: 0.3536 - accuracy: 0.8780\n",
      "0.4783008396625519 0.35360366106033325\n",
      "313/313 [==============================] - 1s 3ms/step - loss: 0.3436 - accuracy: 0.8817\n",
      "313/313 [==============================] - 1s 3ms/step - loss: 0.7375 - accuracy: 0.8106\n",
      "0.343566358089447 0.7374926209449768\n",
      "313/313 [==============================] - 1s 3ms/step - loss: 0.4577 - accuracy: 0.8621\n",
      "313/313 [==============================] - 1s 3ms/step - loss: 0.7561 - accuracy: 0.8070\n",
      "0.4577444791793823 0.7561209797859192\n",
      "313/313 [==============================] - 1s 3ms/step - loss: 0.7375 - accuracy: 0.8106\n",
      "313/313 [==============================] - 1s 3ms/step - loss: 0.4783 - accuracy: 0.8539\n",
      "0.7374926209449768 0.4782639741897583\n",
      "313/313 [==============================] - 1s 3ms/step - loss: 0.7561 - accuracy: 0.8070\n",
      "313/313 [==============================] - 1s 3ms/step - loss: 0.3298 - accuracy: 0.8850\n",
      "0.7561209797859192 0.3297608494758606\n",
      "313/313 [==============================] - 1s 3ms/step - loss: 0.4783 - accuracy: 0.8539\n",
      "313/313 [==============================] - 1s 3ms/step - loss: 0.3536 - accuracy: 0.8780\n",
      "0.4782639741897583 0.35360366106033325\n",
      "313/313 [==============================] - 1s 3ms/step - loss: 0.3436 - accuracy: 0.8817\n",
      "313/313 [==============================] - 1s 3ms/step - loss: 0.7203 - accuracy: 0.8134\n",
      "0.343566358089447 0.7203499674797058\n",
      "313/313 [==============================] - 1s 3ms/step - loss: 0.4569 - accuracy: 0.8617\n",
      "313/313 [==============================] - 1s 3ms/step - loss: 0.7378 - accuracy: 0.8114\n",
      "0.4569394588470459 0.7377813458442688\n",
      "313/313 [==============================] - 1s 3ms/step - loss: 0.7203 - accuracy: 0.8134\n",
      "313/313 [==============================] - 1s 3ms/step - loss: 0.4780 - accuracy: 0.8541\n",
      "0.7203499674797058 0.4780070185661316\n",
      "313/313 [==============================] - 1s 3ms/step - loss: 0.7378 - accuracy: 0.8114\n",
      "313/313 [==============================] - 1s 3ms/step - loss: 0.3290 - accuracy: 0.8859\n",
      "0.7377813458442688 0.3289959728717804\n",
      "313/313 [==============================] - 1s 3ms/step - loss: 0.4780 - accuracy: 0.8541\n",
      "313/313 [==============================] - 1s 3ms/step - loss: 0.3536 - accuracy: 0.8780\n",
      "0.4780070185661316 0.35360366106033325\n",
      "313/313 [==============================] - 1s 3ms/step - loss: 0.3436 - accuracy: 0.8817\n",
      "313/313 [==============================] - 1s 3ms/step - loss: 0.7044 - accuracy: 0.8149\n",
      "0.343566358089447 0.7044066786766052\n",
      "313/313 [==============================] - 1s 3ms/step - loss: 0.4561 - accuracy: 0.8611\n",
      "313/313 [==============================] - 1s 3ms/step - loss: 0.7205 - accuracy: 0.8139\n",
      "0.4561093747615814 0.7205401062965393\n",
      "313/313 [==============================] - 1s 3ms/step - loss: 0.7044 - accuracy: 0.8149\n",
      "313/313 [==============================] - 1s 3ms/step - loss: 0.4776 - accuracy: 0.8536\n",
      "0.7044066786766052 0.47757992148399353\n",
      "313/313 [==============================] - 1s 3ms/step - loss: 0.7205 - accuracy: 0.8139\n",
      "313/313 [==============================] - 1s 3ms/step - loss: 0.3283 - accuracy: 0.8862\n",
      "0.7205401062965393 0.3282760977745056\n",
      "313/313 [==============================] - 1s 3ms/step - loss: 0.4776 - accuracy: 0.8536\n",
      "313/313 [==============================] - 1s 3ms/step - loss: 0.3536 - accuracy: 0.8780\n",
      "0.47757992148399353 0.35360366106033325\n",
      "313/313 [==============================] - 1s 3ms/step - loss: 0.3436 - accuracy: 0.8817\n",
      "313/313 [==============================] - 1s 3ms/step - loss: 0.6896 - accuracy: 0.8172\n",
      "0.343566358089447 0.6895712018013\n",
      "313/313 [==============================] - 1s 3ms/step - loss: 0.4552 - accuracy: 0.8609\n",
      "313/313 [==============================] - 1s 3ms/step - loss: 0.7043 - accuracy: 0.8172\n",
      "0.45524585247039795 0.7043482661247253\n",
      "313/313 [==============================] - 1s 3ms/step - loss: 0.6896 - accuracy: 0.8172\n",
      "313/313 [==============================] - 1s 3ms/step - loss: 0.4770 - accuracy: 0.8531\n",
      "0.6895712018013 0.4769861698150635\n",
      "313/313 [==============================] - 1s 3ms/step - loss: 0.7043 - accuracy: 0.8172\n",
      "313/313 [==============================] - 1s 3ms/step - loss: 0.3276 - accuracy: 0.8864\n",
      "0.7043482661247253 0.32759442925453186\n",
      "313/313 [==============================] - 1s 3ms/step - loss: 0.4770 - accuracy: 0.8531\n",
      "313/313 [==============================] - 1s 3ms/step - loss: 0.3536 - accuracy: 0.8780\n",
      "0.4769861698150635 0.35360366106033325\n",
      "313/313 [==============================] - 1s 3ms/step - loss: 0.3436 - accuracy: 0.8817\n",
      "313/313 [==============================] - 1s 3ms/step - loss: 0.6758 - accuracy: 0.8187\n",
      "0.343566358089447 0.6757721900939941\n",
      "313/313 [==============================] - 1s 3ms/step - loss: 0.4544 - accuracy: 0.8609\n",
      "313/313 [==============================] - 1s 3ms/step - loss: 0.6891 - accuracy: 0.8187\n",
      "0.45438411831855774 0.6891326904296875\n",
      "313/313 [==============================] - 1s 3ms/step - loss: 0.6758 - accuracy: 0.8187\n",
      "313/313 [==============================] - 1s 3ms/step - loss: 0.4763 - accuracy: 0.8524\n",
      "0.6757721900939941 0.4762532114982605\n",
      "313/313 [==============================] - 1s 3ms/step - loss: 0.6891 - accuracy: 0.8187\n",
      "313/313 [==============================] - 1s 3ms/step - loss: 0.3269 - accuracy: 0.8862\n",
      "0.6891326904296875 0.3269489109516144\n",
      "313/313 [==============================] - 1s 3ms/step - loss: 0.4763 - accuracy: 0.8524\n",
      "313/313 [==============================] - 1s 3ms/step - loss: 0.3536 - accuracy: 0.8780\n",
      "0.4762532114982605 0.35360366106033325\n",
      "313/313 [==============================] - 1s 3ms/step - loss: 0.3436 - accuracy: 0.8817\n",
      "313/313 [==============================] - 1s 3ms/step - loss: 0.6629 - accuracy: 0.8202\n",
      "0.343566358089447 0.6629143953323364\n",
      "313/313 [==============================] - 1s 3ms/step - loss: 0.4535 - accuracy: 0.8596\n",
      "313/313 [==============================] - 1s 3ms/step - loss: 0.6749 - accuracy: 0.8203\n",
      "0.45349305868148804 0.6748744249343872\n",
      "313/313 [==============================] - 1s 3ms/step - loss: 0.6629 - accuracy: 0.8202\n",
      "313/313 [==============================] - 1s 3ms/step - loss: 0.4754 - accuracy: 0.8538\n",
      "0.6629143953323364 0.4753836989402771\n",
      "313/313 [==============================] - 1s 3ms/step - loss: 0.6749 - accuracy: 0.8203\n",
      "313/313 [==============================] - 1s 3ms/step - loss: 0.3263 - accuracy: 0.8865\n",
      "0.6748744249343872 0.3263404667377472\n",
      "313/313 [==============================] - 1s 3ms/step - loss: 0.4754 - accuracy: 0.8538\n",
      "313/313 [==============================] - 1s 3ms/step - loss: 0.3536 - accuracy: 0.8780\n",
      "0.4753836989402771 0.35360366106033325\n",
      "313/313 [==============================] - 1s 3ms/step - loss: 0.3436 - accuracy: 0.8817\n",
      "313/313 [==============================] - 1s 3ms/step - loss: 0.6509 - accuracy: 0.8216\n",
      "0.343566358089447 0.6509182453155518\n",
      "313/313 [==============================] - 1s 3ms/step - loss: 0.4525 - accuracy: 0.8592\n",
      "313/313 [==============================] - 1s 3ms/step - loss: 0.6615 - accuracy: 0.8227\n",
      "0.45254823565483093 0.6615453362464905\n",
      "313/313 [==============================] - 1s 3ms/step - loss: 0.6509 - accuracy: 0.8216\n",
      "313/313 [==============================] - 1s 3ms/step - loss: 0.4744 - accuracy: 0.8539\n",
      "0.6509182453155518 0.4744063913822174\n",
      "313/313 [==============================] - 1s 3ms/step - loss: 0.6615 - accuracy: 0.8227\n",
      "313/313 [==============================] - 1s 3ms/step - loss: 0.3258 - accuracy: 0.8870\n",
      "0.6615453362464905 0.3257618248462677\n",
      "313/313 [==============================] - 1s 3ms/step - loss: 0.4744 - accuracy: 0.8539\n",
      "313/313 [==============================] - 1s 3ms/step - loss: 0.3536 - accuracy: 0.8780\n",
      "0.4744063913822174 0.35360366106033325\n",
      "313/313 [==============================] - 1s 3ms/step - loss: 0.3436 - accuracy: 0.8817\n",
      "313/313 [==============================] - 1s 3ms/step - loss: 0.6397 - accuracy: 0.8224\n",
      "0.343566358089447 0.6397061347961426\n",
      "313/313 [==============================] - 1s 3ms/step - loss: 0.4516 - accuracy: 0.8586\n",
      "313/313 [==============================] - 1s 3ms/step - loss: 0.6491 - accuracy: 0.8246\n",
      "0.45156732201576233 0.6490896940231323\n",
      "313/313 [==============================] - 1s 3ms/step - loss: 0.6397 - accuracy: 0.8224\n",
      "313/313 [==============================] - 1s 3ms/step - loss: 0.4733 - accuracy: 0.8533\n",
      "0.6397061347961426 0.4733417332172394\n",
      "313/313 [==============================] - 1s 3ms/step - loss: 0.6491 - accuracy: 0.8246\n",
      "313/313 [==============================] - 1s 3ms/step - loss: 0.3252 - accuracy: 0.8873\n",
      "0.6490896940231323 0.3252115845680237\n",
      "313/313 [==============================] - 1s 3ms/step - loss: 0.4733 - accuracy: 0.8533\n",
      "313/313 [==============================] - 1s 3ms/step - loss: 0.3536 - accuracy: 0.8780\n",
      "0.4733417332172394 0.35360366106033325\n",
      "313/313 [==============================] - 1s 3ms/step - loss: 0.3436 - accuracy: 0.8817\n",
      "313/313 [==============================] - 1s 3ms/step - loss: 0.6292 - accuracy: 0.8243\n",
      "0.343566358089447 0.6292223930358887\n",
      "313/313 [==============================] - 1s 3ms/step - loss: 0.4506 - accuracy: 0.8588\n",
      "313/313 [==============================] - 1s 3ms/step - loss: 0.6375 - accuracy: 0.8262\n",
      "0.4505631923675537 0.6374582648277283\n",
      "313/313 [==============================] - 1s 3ms/step - loss: 0.6292 - accuracy: 0.8243\n",
      "313/313 [==============================] - 1s 3ms/step - loss: 0.4722 - accuracy: 0.8531\n",
      "0.6292223930358887 0.4722037613391876\n",
      "313/313 [==============================] - 1s 3ms/step - loss: 0.6375 - accuracy: 0.8262\n",
      "313/313 [==============================] - 1s 3ms/step - loss: 0.3247 - accuracy: 0.8873\n",
      "0.6374582648277283 0.3246878981590271\n",
      "313/313 [==============================] - 1s 3ms/step - loss: 0.4722 - accuracy: 0.8531\n",
      "313/313 [==============================] - 1s 3ms/step - loss: 0.3536 - accuracy: 0.8780\n",
      "0.4722037613391876 0.35360366106033325\n",
      "313/313 [==============================] - 1s 3ms/step - loss: 0.3436 - accuracy: 0.8817\n",
      "313/313 [==============================] - 1s 3ms/step - loss: 0.6194 - accuracy: 0.8243\n",
      "0.343566358089447 0.6194184422492981\n",
      "313/313 [==============================] - 1s 3ms/step - loss: 0.4495 - accuracy: 0.8589\n",
      "313/313 [==============================] - 1s 3ms/step - loss: 0.6266 - accuracy: 0.8268\n",
      "0.44952407479286194 0.62659752368927\n",
      "313/313 [==============================] - 1s 3ms/step - loss: 0.6194 - accuracy: 0.8243\n",
      "313/313 [==============================] - 1s 3ms/step - loss: 0.4710 - accuracy: 0.8535\n",
      "0.6194184422492981 0.4710037112236023\n",
      "313/313 [==============================] - 1s 3ms/step - loss: 0.6266 - accuracy: 0.8268\n",
      "313/313 [==============================] - 1s 3ms/step - loss: 0.3242 - accuracy: 0.8873\n",
      "0.62659752368927 0.32418692111968994\n",
      "313/313 [==============================] - 1s 3ms/step - loss: 0.4710 - accuracy: 0.8535\n",
      "313/313 [==============================] - 1s 3ms/step - loss: 0.3536 - accuracy: 0.8780\n",
      "0.4710037112236023 0.35360366106033325\n",
      "313/313 [==============================] - 1s 3ms/step - loss: 0.3436 - accuracy: 0.8817\n",
      "313/313 [==============================] - 1s 3ms/step - loss: 0.6102 - accuracy: 0.8248\n",
      "0.343566358089447 0.6102279424667358\n",
      "313/313 [==============================] - 1s 3ms/step - loss: 0.4485 - accuracy: 0.8588\n",
      "313/313 [==============================] - 1s 3ms/step - loss: 0.6165 - accuracy: 0.8278\n",
      "0.4484795928001404 0.616469144821167\n",
      "313/313 [==============================] - 1s 3ms/step - loss: 0.6102 - accuracy: 0.8248\n",
      "313/313 [==============================] - 1s 3ms/step - loss: 0.4698 - accuracy: 0.8533\n",
      "0.6102279424667358 0.46975088119506836\n",
      "313/313 [==============================] - 1s 3ms/step - loss: 0.6165 - accuracy: 0.8278\n",
      "313/313 [==============================] - 1s 3ms/step - loss: 0.3237 - accuracy: 0.8869\n",
      "0.616469144821167 0.32370465993881226\n",
      "313/313 [==============================] - 1s 3ms/step - loss: 0.4698 - accuracy: 0.8533\n",
      "313/313 [==============================] - 1s 3ms/step - loss: 0.3536 - accuracy: 0.8780\n",
      "0.46975088119506836 0.35360366106033325\n",
      "313/313 [==============================] - 1s 3ms/step - loss: 0.3436 - accuracy: 0.8817\n",
      "313/313 [==============================] - 1s 3ms/step - loss: 0.6016 - accuracy: 0.8263\n",
      "0.343566358089447 0.6016088724136353\n",
      "313/313 [==============================] - 1s 3ms/step - loss: 0.4474 - accuracy: 0.8587\n",
      "313/313 [==============================] - 1s 3ms/step - loss: 0.6070 - accuracy: 0.8293\n",
      "0.44742125272750854 0.6070012450218201\n",
      "313/313 [==============================] - 1s 3ms/step - loss: 0.6016 - accuracy: 0.8263\n",
      "313/313 [==============================] - 1s 3ms/step - loss: 0.4685 - accuracy: 0.8529\n",
      "0.6016088724136353 0.46846386790275574\n",
      "313/313 [==============================] - 1s 3ms/step - loss: 0.6070 - accuracy: 0.8293\n",
      "313/313 [==============================] - 1s 3ms/step - loss: 0.3232 - accuracy: 0.8871\n",
      "0.6070012450218201 0.32324185967445374\n",
      "313/313 [==============================] - 1s 3ms/step - loss: 0.4685 - accuracy: 0.8529\n",
      "313/313 [==============================] - 1s 3ms/step - loss: 0.3536 - accuracy: 0.8780\n",
      "0.46846386790275574 0.35360366106033325\n",
      "313/313 [==============================] - 1s 3ms/step - loss: 0.3436 - accuracy: 0.8817\n",
      "313/313 [==============================] - 1s 3ms/step - loss: 0.5935 - accuracy: 0.8282\n",
      "0.343566358089447 0.5935068130493164\n",
      "313/313 [==============================] - 1s 3ms/step - loss: 0.4463 - accuracy: 0.8581\n",
      "313/313 [==============================] - 1s 3ms/step - loss: 0.5982 - accuracy: 0.8302\n",
      "0.4463459849357605 0.59815514087677\n",
      "313/313 [==============================] - 1s 3ms/step - loss: 0.5935 - accuracy: 0.8282\n",
      "313/313 [==============================] - 1s 3ms/step - loss: 0.4672 - accuracy: 0.8529\n",
      "0.5935068130493164 0.46716782450675964\n",
      "313/313 [==============================] - 1s 3ms/step - loss: 0.5982 - accuracy: 0.8302\n",
      "313/313 [==============================] - 1s 3ms/step - loss: 0.3228 - accuracy: 0.8874\n",
      "0.59815514087677 0.3227970600128174\n",
      "313/313 [==============================] - 1s 3ms/step - loss: 0.4672 - accuracy: 0.8529\n",
      "313/313 [==============================] - 1s 3ms/step - loss: 0.3536 - accuracy: 0.8780\n",
      "0.46716782450675964 0.35360366106033325\n",
      "313/313 [==============================] - 1s 3ms/step - loss: 0.3436 - accuracy: 0.8817\n",
      "313/313 [==============================] - 1s 3ms/step - loss: 0.5859 - accuracy: 0.8284\n",
      "0.343566358089447 0.5858914256095886\n",
      "313/313 [==============================] - 1s 3ms/step - loss: 0.4453 - accuracy: 0.8584\n",
      "313/313 [==============================] - 1s 3ms/step - loss: 0.5899 - accuracy: 0.8299\n",
      "0.4452630281448364 0.5899052023887634\n",
      "313/313 [==============================] - 1s 3ms/step - loss: 0.5859 - accuracy: 0.8284\n",
      "313/313 [==============================] - 1s 3ms/step - loss: 0.4659 - accuracy: 0.8532\n",
      "0.5858914256095886 0.46585455536842346\n",
      "313/313 [==============================] - 1s 3ms/step - loss: 0.5899 - accuracy: 0.8299\n",
      "313/313 [==============================] - 1s 3ms/step - loss: 0.3224 - accuracy: 0.8875\n",
      "0.5899052023887634 0.3223722577095032\n",
      "313/313 [==============================] - 1s 3ms/step - loss: 0.4659 - accuracy: 0.8532\n",
      "313/313 [==============================] - 1s 3ms/step - loss: 0.3536 - accuracy: 0.8780\n",
      "0.46585455536842346 0.35360366106033325\n",
      "313/313 [==============================] - 1s 3ms/step - loss: 0.3436 - accuracy: 0.8817\n",
      "313/313 [==============================] - 1s 3ms/step - loss: 0.5787 - accuracy: 0.8284\n",
      "0.343566358089447 0.5787179470062256\n",
      "313/313 [==============================] - 1s 3ms/step - loss: 0.4442 - accuracy: 0.8585\n",
      "313/313 [==============================] - 1s 3ms/step - loss: 0.5822 - accuracy: 0.8308\n",
      "0.4441864788532257 0.5822041034698486\n",
      "313/313 [==============================] - 1s 3ms/step - loss: 0.5787 - accuracy: 0.8284\n",
      "313/313 [==============================] - 1s 3ms/step - loss: 0.4645 - accuracy: 0.8535\n",
      "0.5787179470062256 0.46454283595085144\n",
      "313/313 [==============================] - 1s 3ms/step - loss: 0.5822 - accuracy: 0.8308\n",
      "313/313 [==============================] - 1s 3ms/step - loss: 0.3220 - accuracy: 0.8873\n",
      "0.5822041034698486 0.32196226716041565\n",
      "313/313 [==============================] - 1s 3ms/step - loss: 0.4645 - accuracy: 0.8535\n",
      "313/313 [==============================] - 1s 3ms/step - loss: 0.3536 - accuracy: 0.8780\n",
      "0.46454283595085144 0.35360366106033325\n",
      "313/313 [==============================] - 1s 3ms/step - loss: 0.3436 - accuracy: 0.8817\n",
      "313/313 [==============================] - 1s 3ms/step - loss: 0.5719 - accuracy: 0.8291\n",
      "0.343566358089447 0.5719488263130188\n",
      "313/313 [==============================] - 1s 3ms/step - loss: 0.4431 - accuracy: 0.8580\n",
      "313/313 [==============================] - 1s 3ms/step - loss: 0.5750 - accuracy: 0.8310\n",
      "0.4431031346321106 0.5750066637992859\n",
      "313/313 [==============================] - 1s 3ms/step - loss: 0.5719 - accuracy: 0.8291\n",
      "313/313 [==============================] - 1s 3ms/step - loss: 0.4632 - accuracy: 0.8526\n",
      "0.5719488263130188 0.4632332921028137\n",
      "313/313 [==============================] - 1s 3ms/step - loss: 0.5750 - accuracy: 0.8310\n",
      "313/313 [==============================] - 1s 3ms/step - loss: 0.3216 - accuracy: 0.8876\n",
      "0.5750066637992859 0.32156825065612793\n",
      "313/313 [==============================] - 1s 3ms/step - loss: 0.4632 - accuracy: 0.8526\n",
      "313/313 [==============================] - 1s 3ms/step - loss: 0.3536 - accuracy: 0.8780\n",
      "0.4632332921028137 0.35360366106033325\n",
      "313/313 [==============================] - 1s 3ms/step - loss: 0.3436 - accuracy: 0.8817\n",
      "313/313 [==============================] - 1s 3ms/step - loss: 0.5656 - accuracy: 0.8292\n",
      "0.343566358089447 0.565563976764679\n",
      "313/313 [==============================] - 1s 3ms/step - loss: 0.4420 - accuracy: 0.8582\n",
      "313/313 [==============================] - 1s 3ms/step - loss: 0.5683 - accuracy: 0.8314\n",
      "0.44202202558517456 0.5682533383369446\n",
      "313/313 [==============================] - 1s 3ms/step - loss: 0.5656 - accuracy: 0.8292\n",
      "313/313 [==============================] - 1s 3ms/step - loss: 0.4619 - accuracy: 0.8526\n",
      "0.565563976764679 0.4619283676147461\n",
      "313/313 [==============================] - 1s 3ms/step - loss: 0.5683 - accuracy: 0.8314\n",
      "313/313 [==============================] - 1s 3ms/step - loss: 0.3212 - accuracy: 0.8878\n",
      "0.5682533383369446 0.3211877942085266\n",
      "313/313 [==============================] - 1s 3ms/step - loss: 0.4619 - accuracy: 0.8526\n",
      "313/313 [==============================] - 1s 3ms/step - loss: 0.3536 - accuracy: 0.8780\n",
      "0.4619283676147461 0.35360366106033325\n",
      "313/313 [==============================] - 1s 3ms/step - loss: 0.3436 - accuracy: 0.8817\n",
      "313/313 [==============================] - 1s 3ms/step - loss: 0.5595 - accuracy: 0.8299\n",
      "0.343566358089447 0.5595464706420898\n",
      "313/313 [==============================] - 1s 3ms/step - loss: 0.4409 - accuracy: 0.8581\n",
      "313/313 [==============================] - 1s 3ms/step - loss: 0.5619 - accuracy: 0.8319\n",
      "0.44093793630599976 0.5619081854820251\n",
      "313/313 [==============================] - 1s 3ms/step - loss: 0.5595 - accuracy: 0.8299\n",
      "313/313 [==============================] - 1s 3ms/step - loss: 0.4606 - accuracy: 0.8526\n",
      "0.5595464706420898 0.46064358949661255\n",
      "313/313 [==============================] - 1s 3ms/step - loss: 0.5619 - accuracy: 0.8319\n",
      "313/313 [==============================] - 1s 3ms/step - loss: 0.3208 - accuracy: 0.8880\n",
      "0.5619081854820251 0.3208213746547699\n",
      "313/313 [==============================] - 1s 3ms/step - loss: 0.4606 - accuracy: 0.8526\n",
      "313/313 [==============================] - 1s 3ms/step - loss: 0.3536 - accuracy: 0.8780\n",
      "0.46064358949661255 0.35360366106033325\n",
      "313/313 [==============================] - 1s 3ms/step - loss: 0.3436 - accuracy: 0.8817\n",
      "313/313 [==============================] - 1s 3ms/step - loss: 0.5539 - accuracy: 0.8309\n",
      "0.343566358089447 0.5538700222969055\n",
      "313/313 [==============================] - 1s 3ms/step - loss: 0.4399 - accuracy: 0.8580\n",
      "313/313 [==============================] - 1s 3ms/step - loss: 0.5559 - accuracy: 0.8325\n",
      "0.43987342715263367 0.5559477210044861\n",
      "313/313 [==============================] - 1s 3ms/step - loss: 0.5539 - accuracy: 0.8309\n",
      "313/313 [==============================] - 1s 3ms/step - loss: 0.4594 - accuracy: 0.8528\n",
      "0.5538700222969055 0.45938026905059814\n",
      "313/313 [==============================] - 1s 3ms/step - loss: 0.5559 - accuracy: 0.8325\n",
      "313/313 [==============================] - 1s 3ms/step - loss: 0.3205 - accuracy: 0.8880\n",
      "0.5559477210044861 0.32046693563461304\n",
      "313/313 [==============================] - 1s 3ms/step - loss: 0.4594 - accuracy: 0.8528\n",
      "313/313 [==============================] - 1s 3ms/step - loss: 0.3536 - accuracy: 0.8780\n",
      "0.45938026905059814 0.35360366106033325\n",
      "313/313 [==============================] - 1s 3ms/step - loss: 0.3436 - accuracy: 0.8817\n",
      "313/313 [==============================] - 1s 3ms/step - loss: 0.5485 - accuracy: 0.8307\n",
      "0.343566358089447 0.5485121607780457\n",
      "313/313 [==============================] - 1s 3ms/step - loss: 0.4388 - accuracy: 0.8583\n",
      "313/313 [==============================] - 1s 3ms/step - loss: 0.5504 - accuracy: 0.8332\n",
      "0.4388168454170227 0.5503525137901306\n",
      "313/313 [==============================] - 1s 3ms/step - loss: 0.5485 - accuracy: 0.8307\n",
      "313/313 [==============================] - 1s 3ms/step - loss: 0.4581 - accuracy: 0.8530\n",
      "0.5485121607780457 0.4581451714038849\n",
      "313/313 [==============================] - 1s 3ms/step - loss: 0.5504 - accuracy: 0.8332\n",
      "313/313 [==============================] - 1s 3ms/step - loss: 0.3201 - accuracy: 0.8883\n",
      "0.5503525137901306 0.3201226592063904\n",
      "313/313 [==============================] - 1s 3ms/step - loss: 0.4581 - accuracy: 0.8530\n",
      "313/313 [==============================] - 1s 3ms/step - loss: 0.3536 - accuracy: 0.8780\n",
      "0.4581451714038849 0.35360366106033325\n",
      "313/313 [==============================] - 1s 3ms/step - loss: 0.3436 - accuracy: 0.8817\n",
      "313/313 [==============================] - 1s 3ms/step - loss: 0.5434 - accuracy: 0.8311\n",
      "0.343566358089447 0.5434454679489136\n",
      "313/313 [==============================] - 1s 3ms/step - loss: 0.4378 - accuracy: 0.8580\n",
      "313/313 [==============================] - 1s 3ms/step - loss: 0.5451 - accuracy: 0.8329\n",
      "0.4377691447734833 0.5450955629348755\n",
      "313/313 [==============================] - 1s 3ms/step - loss: 0.5434 - accuracy: 0.8311\n",
      "313/313 [==============================] - 1s 3ms/step - loss: 0.4569 - accuracy: 0.8533\n",
      "0.5434454679489136 0.45692768692970276\n",
      "313/313 [==============================] - 1s 3ms/step - loss: 0.5451 - accuracy: 0.8329\n",
      "313/313 [==============================] - 1s 3ms/step - loss: 0.3198 - accuracy: 0.8889\n",
      "0.5450955629348755 0.31979015469551086\n",
      "313/313 [==============================] - 1s 3ms/step - loss: 0.4569 - accuracy: 0.8533\n",
      "313/313 [==============================] - 1s 3ms/step - loss: 0.3536 - accuracy: 0.8780\n",
      "0.45692768692970276 0.35360366106033325\n",
      "313/313 [==============================] - 1s 3ms/step - loss: 0.3436 - accuracy: 0.8817\n",
      "313/313 [==============================] - 1s 3ms/step - loss: 0.5387 - accuracy: 0.8318\n",
      "0.343566358089447 0.5386513471603394\n",
      "313/313 [==============================] - 1s 3ms/step - loss: 0.4367 - accuracy: 0.8583\n",
      "313/313 [==============================] - 1s 3ms/step - loss: 0.5401 - accuracy: 0.8333\n",
      "0.43671929836273193 0.5401371717453003\n",
      "313/313 [==============================] - 1s 3ms/step - loss: 0.5387 - accuracy: 0.8318\n",
      "313/313 [==============================] - 1s 3ms/step - loss: 0.4557 - accuracy: 0.8533\n",
      "0.5386513471603394 0.4557304084300995\n",
      "313/313 [==============================] - 1s 3ms/step - loss: 0.5401 - accuracy: 0.8333\n",
      "313/313 [==============================] - 1s 3ms/step - loss: 0.3195 - accuracy: 0.8890\n",
      "0.5401371717453003 0.3194674551486969\n",
      "313/313 [==============================] - 1s 3ms/step - loss: 0.4557 - accuracy: 0.8533\n",
      "313/313 [==============================] - 1s 3ms/step - loss: 0.3536 - accuracy: 0.8780\n",
      "0.4557304084300995 0.35360366106033325\n",
      "313/313 [==============================] - 1s 3ms/step - loss: 0.3436 - accuracy: 0.8817\n",
      "313/313 [==============================] - 1s 3ms/step - loss: 0.5341 - accuracy: 0.8324\n",
      "0.343566358089447 0.5341107845306396\n",
      "313/313 [==============================] - 1s 3ms/step - loss: 0.4357 - accuracy: 0.8582\n",
      "313/313 [==============================] - 1s 3ms/step - loss: 0.5355 - accuracy: 0.8337\n",
      "0.43568921089172363 0.5354563593864441\n",
      "313/313 [==============================] - 1s 3ms/step - loss: 0.5341 - accuracy: 0.8324\n",
      "313/313 [==============================] - 1s 3ms/step - loss: 0.4546 - accuracy: 0.8526\n",
      "0.5341107845306396 0.45455223321914673\n",
      "313/313 [==============================] - 1s 3ms/step - loss: 0.5355 - accuracy: 0.8337\n",
      "313/313 [==============================] - 1s 3ms/step - loss: 0.3192 - accuracy: 0.8895\n",
      "0.5354563593864441 0.3191554546356201\n",
      "313/313 [==============================] - 1s 3ms/step - loss: 0.4546 - accuracy: 0.8526\n",
      "313/313 [==============================] - 1s 3ms/step - loss: 0.3536 - accuracy: 0.8780\n",
      "0.45455223321914673 0.35360366106033325\n",
      "313/313 [==============================] - 1s 3ms/step - loss: 0.3436 - accuracy: 0.8817\n",
      "313/313 [==============================] - 1s 3ms/step - loss: 0.5298 - accuracy: 0.8326\n",
      "0.343566358089447 0.5298057794570923\n",
      "313/313 [==============================] - 1s 3ms/step - loss: 0.4347 - accuracy: 0.8579\n",
      "313/313 [==============================] - 1s 3ms/step - loss: 0.5310 - accuracy: 0.8341\n",
      "0.43467509746551514 0.5310429334640503\n",
      "313/313 [==============================] - 1s 3ms/step - loss: 0.5298 - accuracy: 0.8326\n",
      "313/313 [==============================] - 1s 3ms/step - loss: 0.4534 - accuracy: 0.8524\n",
      "0.5298057794570923 0.4534064829349518\n",
      "313/313 [==============================] - 1s 3ms/step - loss: 0.5310 - accuracy: 0.8341\n",
      "313/313 [==============================] - 1s 3ms/step - loss: 0.3189 - accuracy: 0.8897\n",
      "0.5310429334640503 0.31885483860969543\n",
      "313/313 [==============================] - 1s 3ms/step - loss: 0.4534 - accuracy: 0.8524\n",
      "313/313 [==============================] - 1s 3ms/step - loss: 0.3536 - accuracy: 0.8780\n",
      "0.4534064829349518 0.35360366106033325\n",
      "313/313 [==============================] - 1s 3ms/step - loss: 0.3436 - accuracy: 0.8817\n",
      "313/313 [==============================] - 1s 3ms/step - loss: 0.5257 - accuracy: 0.8331\n",
      "0.343566358089447 0.525731086730957\n",
      "313/313 [==============================] - 1s 3ms/step - loss: 0.4337 - accuracy: 0.8577\n",
      "313/313 [==============================] - 1s 3ms/step - loss: 0.5269 - accuracy: 0.8349\n",
      "0.4336765706539154 0.5268635749816895\n",
      "313/313 [==============================] - 1s 3ms/step - loss: 0.5257 - accuracy: 0.8331\n",
      "313/313 [==============================] - 1s 3ms/step - loss: 0.4523 - accuracy: 0.8526\n",
      "0.525731086730957 0.45229384303092957\n",
      "313/313 [==============================] - 1s 3ms/step - loss: 0.5269 - accuracy: 0.8349\n",
      "313/313 [==============================] - 1s 3ms/step - loss: 0.3186 - accuracy: 0.8897\n",
      "0.5268635749816895 0.3185645639896393\n",
      "313/313 [==============================] - 1s 3ms/step - loss: 0.4523 - accuracy: 0.8526\n",
      "313/313 [==============================] - 1s 3ms/step - loss: 0.3536 - accuracy: 0.8780\n",
      "0.45229384303092957 0.35360366106033325\n",
      "313/313 [==============================] - 1s 3ms/step - loss: 0.3436 - accuracy: 0.8817\n",
      "313/313 [==============================] - 1s 3ms/step - loss: 0.5219 - accuracy: 0.8334\n",
      "0.343566358089447 0.5218695998191833\n",
      "313/313 [==============================] - 1s 3ms/step - loss: 0.4327 - accuracy: 0.8573\n",
      "313/313 [==============================] - 1s 3ms/step - loss: 0.5229 - accuracy: 0.8357\n",
      "0.43270424008369446 0.5229058265686035\n",
      "313/313 [==============================] - 1s 3ms/step - loss: 0.5219 - accuracy: 0.8334\n",
      "313/313 [==============================] - 1s 3ms/step - loss: 0.4512 - accuracy: 0.8525\n",
      "0.5218695998191833 0.4512117803096771\n",
      "313/313 [==============================] - 1s 3ms/step - loss: 0.5229 - accuracy: 0.8357\n",
      "313/313 [==============================] - 1s 3ms/step - loss: 0.3183 - accuracy: 0.8893\n",
      "0.5229058265686035 0.3182814121246338\n",
      "313/313 [==============================] - 1s 3ms/step - loss: 0.4512 - accuracy: 0.8525\n",
      "313/313 [==============================] - 1s 3ms/step - loss: 0.3536 - accuracy: 0.8780\n",
      "0.4512117803096771 0.35360366106033325\n",
      "313/313 [==============================] - 1s 3ms/step - loss: 0.3436 - accuracy: 0.8817\n",
      "313/313 [==============================] - 1s 3ms/step - loss: 0.5182 - accuracy: 0.8338\n",
      "0.343566358089447 0.5181969404220581\n",
      "313/313 [==============================] - 1s 3ms/step - loss: 0.4317 - accuracy: 0.8575\n",
      "313/313 [==============================] - 1s 3ms/step - loss: 0.5192 - accuracy: 0.8364\n",
      "0.43174588680267334 0.5191516280174255\n",
      "313/313 [==============================] - 1s 3ms/step - loss: 0.5182 - accuracy: 0.8338\n",
      "313/313 [==============================] - 1s 3ms/step - loss: 0.4502 - accuracy: 0.8526\n",
      "0.5181969404220581 0.4501546323299408\n",
      "313/313 [==============================] - 1s 3ms/step - loss: 0.5192 - accuracy: 0.8364\n",
      "313/313 [==============================] - 1s 3ms/step - loss: 0.3180 - accuracy: 0.8895\n",
      "0.5191516280174255 0.3180091977119446\n",
      "313/313 [==============================] - 1s 3ms/step - loss: 0.4502 - accuracy: 0.8526\n",
      "313/313 [==============================] - 1s 3ms/step - loss: 0.3536 - accuracy: 0.8780\n",
      "0.4501546323299408 0.35360366106033325\n",
      "313/313 [==============================] - 1s 3ms/step - loss: 0.3436 - accuracy: 0.8817\n",
      "313/313 [==============================] - 1s 3ms/step - loss: 0.5147 - accuracy: 0.8344\n",
      "0.343566358089447 0.5146945714950562\n",
      "313/313 [==============================] - 1s 3ms/step - loss: 0.4308 - accuracy: 0.8574\n",
      "313/313 [==============================] - 1s 3ms/step - loss: 0.5156 - accuracy: 0.8372\n",
      "0.4308026432991028 0.5155958533287048\n",
      "313/313 [==============================] - 1s 3ms/step - loss: 0.5147 - accuracy: 0.8344\n",
      "313/313 [==============================] - 1s 3ms/step - loss: 0.4491 - accuracy: 0.8524\n",
      "0.5146945714950562 0.44911646842956543\n",
      "313/313 [==============================] - 1s 3ms/step - loss: 0.5156 - accuracy: 0.8372\n",
      "313/313 [==============================] - 1s 3ms/step - loss: 0.3177 - accuracy: 0.8894\n",
      "0.5155958533287048 0.3177472651004791\n",
      "313/313 [==============================] - 1s 3ms/step - loss: 0.4491 - accuracy: 0.8524\n",
      "313/313 [==============================] - 1s 3ms/step - loss: 0.3536 - accuracy: 0.8780\n",
      "0.44911646842956543 0.35360366106033325\n",
      "313/313 [==============================] - 1s 3ms/step - loss: 0.3436 - accuracy: 0.8817\n",
      "313/313 [==============================] - 1s 3ms/step - loss: 0.5114 - accuracy: 0.8353\n",
      "0.343566358089447 0.5113673806190491\n",
      "313/313 [==============================] - 1s 3ms/step - loss: 0.4299 - accuracy: 0.8571\n",
      "313/313 [==============================] - 1s 3ms/step - loss: 0.5122 - accuracy: 0.8371\n",
      "0.42987364530563354 0.5122144818305969\n",
      "313/313 [==============================] - 1s 3ms/step - loss: 0.5114 - accuracy: 0.8353\n",
      "313/313 [==============================] - 1s 3ms/step - loss: 0.4481 - accuracy: 0.8520\n",
      "0.5113673806190491 0.44809311628341675\n",
      "313/313 [==============================] - 1s 3ms/step - loss: 0.5122 - accuracy: 0.8371\n",
      "313/313 [==============================] - 1s 3ms/step - loss: 0.3175 - accuracy: 0.8894\n",
      "0.5122144818305969 0.31749266386032104\n",
      "313/313 [==============================] - 1s 3ms/step - loss: 0.4481 - accuracy: 0.8520\n",
      "313/313 [==============================] - 1s 3ms/step - loss: 0.3536 - accuracy: 0.8780\n",
      "0.44809311628341675 0.35360366106033325\n",
      "313/313 [==============================] - 1s 3ms/step - loss: 0.3436 - accuracy: 0.8817\n",
      "313/313 [==============================] - 1s 3ms/step - loss: 0.5082 - accuracy: 0.8357\n",
      "0.343566358089447 0.5082049369812012\n",
      "313/313 [==============================] - 1s 3ms/step - loss: 0.4290 - accuracy: 0.8573\n",
      "313/313 [==============================] - 1s 3ms/step - loss: 0.5090 - accuracy: 0.8371\n",
      "0.4289584457874298 0.509005069732666\n",
      "313/313 [==============================] - 1s 3ms/step - loss: 0.5082 - accuracy: 0.8357\n",
      "313/313 [==============================] - 1s 3ms/step - loss: 0.4471 - accuracy: 0.8523\n",
      "0.5082049369812012 0.4470865726470947\n",
      "313/313 [==============================] - 1s 3ms/step - loss: 0.5090 - accuracy: 0.8371\n",
      "313/313 [==============================] - 1s 3ms/step - loss: 0.3172 - accuracy: 0.8897\n",
      "0.509005069732666 0.3172456920146942\n",
      "313/313 [==============================] - 1s 3ms/step - loss: 0.4471 - accuracy: 0.8523\n",
      "313/313 [==============================] - 1s 3ms/step - loss: 0.3536 - accuracy: 0.8780\n",
      "0.4470865726470947 0.35360366106033325\n",
      "313/313 [==============================] - 1s 3ms/step - loss: 0.3436 - accuracy: 0.8817\n",
      "313/313 [==============================] - 1s 3ms/step - loss: 0.5052 - accuracy: 0.8362\n",
      "0.343566358089447 0.5052022337913513\n",
      "313/313 [==============================] - 1s 3ms/step - loss: 0.4281 - accuracy: 0.8568\n",
      "313/313 [==============================] - 1s 3ms/step - loss: 0.5060 - accuracy: 0.8371\n",
      "0.42805758118629456 0.5059594511985779\n",
      "313/313 [==============================] - 1s 3ms/step - loss: 0.5052 - accuracy: 0.8362\n",
      "313/313 [==============================] - 1s 3ms/step - loss: 0.4461 - accuracy: 0.8522\n",
      "0.5052022337913513 0.44609859585762024\n",
      "313/313 [==============================] - 1s 3ms/step - loss: 0.5060 - accuracy: 0.8371\n",
      "313/313 [==============================] - 1s 3ms/step - loss: 0.3170 - accuracy: 0.8898\n",
      "0.5059594511985779 0.3170085549354553\n",
      "313/313 [==============================] - 1s 3ms/step - loss: 0.4461 - accuracy: 0.8522\n",
      "313/313 [==============================] - 1s 3ms/step - loss: 0.3536 - accuracy: 0.8780\n",
      "0.44609859585762024 0.35360366106033325\n",
      "313/313 [==============================] - 1s 3ms/step - loss: 0.3436 - accuracy: 0.8817\n",
      "313/313 [==============================] - 1s 3ms/step - loss: 0.5023 - accuracy: 0.8364\n",
      "0.343566358089447 0.5023425817489624\n",
      "313/313 [==============================] - 1s 3ms/step - loss: 0.4272 - accuracy: 0.8570\n",
      "313/313 [==============================] - 1s 3ms/step - loss: 0.5031 - accuracy: 0.8371\n",
      "0.42716893553733826 0.5030571222305298\n",
      "313/313 [==============================] - 1s 3ms/step - loss: 0.5023 - accuracy: 0.8364\n",
      "313/313 [==============================] - 1s 3ms/step - loss: 0.4451 - accuracy: 0.8520\n",
      "0.5023425817489624 0.4451310634613037\n",
      "313/313 [==============================] - 1s 3ms/step - loss: 0.5031 - accuracy: 0.8371\n",
      "313/313 [==============================] - 1s 3ms/step - loss: 0.3168 - accuracy: 0.8901\n",
      "0.5030571222305298 0.3167785108089447\n",
      "313/313 [==============================] - 1s 3ms/step - loss: 0.4451 - accuracy: 0.8520\n",
      "313/313 [==============================] - 1s 3ms/step - loss: 0.3536 - accuracy: 0.8780\n",
      "0.4451310634613037 0.35360366106033325\n",
      "313/313 [==============================] - 1s 3ms/step - loss: 0.3436 - accuracy: 0.8817\n",
      "313/313 [==============================] - 1s 3ms/step - loss: 0.4996 - accuracy: 0.8367\n",
      "0.343566358089447 0.49961116909980774\n",
      "313/313 [==============================] - 1s 3ms/step - loss: 0.4263 - accuracy: 0.8568\n",
      "313/313 [==============================] - 1s 3ms/step - loss: 0.5003 - accuracy: 0.8368\n",
      "0.4262985289096832 0.5002840757369995\n",
      "313/313 [==============================] - 1s 3ms/step - loss: 0.4996 - accuracy: 0.8367\n",
      "313/313 [==============================] - 1s 3ms/step - loss: 0.4442 - accuracy: 0.8521\n",
      "0.49961116909980774 0.4441843628883362\n",
      "313/313 [==============================] - 1s 3ms/step - loss: 0.5003 - accuracy: 0.8368\n",
      "313/313 [==============================] - 1s 3ms/step - loss: 0.3166 - accuracy: 0.8901\n",
      "0.5002840757369995 0.3165544867515564\n",
      "313/313 [==============================] - 1s 3ms/step - loss: 0.4442 - accuracy: 0.8521\n",
      "313/313 [==============================] - 1s 3ms/step - loss: 0.3536 - accuracy: 0.8780\n",
      "0.4441843628883362 0.35360366106033325\n",
      "313/313 [==============================] - 1s 3ms/step - loss: 0.3436 - accuracy: 0.8817\n",
      "313/313 [==============================] - 1s 3ms/step - loss: 0.4970 - accuracy: 0.8366\n",
      "0.343566358089447 0.49700501561164856\n",
      "313/313 [==============================] - 1s 3ms/step - loss: 0.4254 - accuracy: 0.8568\n",
      "313/313 [==============================] - 1s 3ms/step - loss: 0.4976 - accuracy: 0.8369\n",
      "0.4254407584667206 0.49763423204421997\n",
      "313/313 [==============================] - 1s 3ms/step - loss: 0.4970 - accuracy: 0.8366\n",
      "313/313 [==============================] - 1s 3ms/step - loss: 0.4433 - accuracy: 0.8518\n",
      "0.49700501561164856 0.4432623088359833\n",
      "313/313 [==============================] - 1s 3ms/step - loss: 0.4976 - accuracy: 0.8369\n",
      "313/313 [==============================] - 1s 3ms/step - loss: 0.3163 - accuracy: 0.8898\n",
      "0.49763423204421997 0.3163313567638397\n",
      "313/313 [==============================] - 1s 3ms/step - loss: 0.4433 - accuracy: 0.8518\n",
      "313/313 [==============================] - 1s 3ms/step - loss: 0.3536 - accuracy: 0.8780\n",
      "0.4432623088359833 0.35360366106033325\n",
      "313/313 [==============================] - 1s 3ms/step - loss: 0.3436 - accuracy: 0.8817\n",
      "313/313 [==============================] - 1s 3ms/step - loss: 0.4945 - accuracy: 0.8368\n",
      "0.343566358089447 0.4945198595523834\n",
      "313/313 [==============================] - 1s 3ms/step - loss: 0.4246 - accuracy: 0.8567\n",
      "313/313 [==============================] - 1s 3ms/step - loss: 0.4951 - accuracy: 0.8372\n",
      "0.42459917068481445 0.49509915709495544\n",
      "313/313 [==============================] - 1s 3ms/step - loss: 0.4945 - accuracy: 0.8368\n",
      "313/313 [==============================] - 1s 3ms/step - loss: 0.4424 - accuracy: 0.8514\n",
      "0.4945198595523834 0.4423576593399048\n",
      "313/313 [==============================] - 1s 3ms/step - loss: 0.4951 - accuracy: 0.8372\n",
      "313/313 [==============================] - 1s 3ms/step - loss: 0.3161 - accuracy: 0.8901\n",
      "0.49509915709495544 0.3161131739616394\n",
      "313/313 [==============================] - 1s 3ms/step - loss: 0.4424 - accuracy: 0.8514\n",
      "313/313 [==============================] - 1s 3ms/step - loss: 0.3536 - accuracy: 0.8780\n",
      "0.4423576593399048 0.35360366106033325\n",
      "313/313 [==============================] - 1s 3ms/step - loss: 0.3436 - accuracy: 0.8817\n",
      "313/313 [==============================] - 1s 3ms/step - loss: 0.4921 - accuracy: 0.8371\n",
      "0.343566358089447 0.49214649200439453\n",
      "313/313 [==============================] - 1s 3ms/step - loss: 0.4238 - accuracy: 0.8566\n",
      "313/313 [==============================] - 1s 3ms/step - loss: 0.4927 - accuracy: 0.8380\n",
      "0.42377617955207825 0.4926821291446686\n",
      "313/313 [==============================] - 1s 4ms/step - loss: 0.4921 - accuracy: 0.8371\n",
      "313/313 [==============================] - 1s 3ms/step - loss: 0.4415 - accuracy: 0.8515\n",
      "0.49214649200439453 0.4414711892604828\n",
      "313/313 [==============================] - 1s 3ms/step - loss: 0.4927 - accuracy: 0.8380\n",
      "313/313 [==============================] - 1s 3ms/step - loss: 0.3159 - accuracy: 0.8905\n",
      "0.4926821291446686 0.31590136885643005\n",
      "313/313 [==============================] - 1s 3ms/step - loss: 0.4415 - accuracy: 0.8515\n",
      "313/313 [==============================] - 1s 3ms/step - loss: 0.3536 - accuracy: 0.8780\n",
      "0.4414711892604828 0.35360366106033325\n",
      "313/313 [==============================] - 1s 3ms/step - loss: 0.3436 - accuracy: 0.8817\n",
      "313/313 [==============================] - 1s 3ms/step - loss: 0.4899 - accuracy: 0.8377\n",
      "0.343566358089447 0.4898788630962372\n",
      "313/313 [==============================] - 1s 3ms/step - loss: 0.4230 - accuracy: 0.8568\n",
      "313/313 [==============================] - 1s 3ms/step - loss: 0.4904 - accuracy: 0.8382\n",
      "0.42297035455703735 0.4903688132762909\n",
      "313/313 [==============================] - 1s 3ms/step - loss: 0.4899 - accuracy: 0.8377\n",
      "313/313 [==============================] - 1s 3ms/step - loss: 0.4406 - accuracy: 0.8517\n",
      "0.4898788630962372 0.44060346484184265\n",
      "313/313 [==============================] - 1s 3ms/step - loss: 0.4904 - accuracy: 0.8382\n",
      "313/313 [==============================] - 1s 3ms/step - loss: 0.3157 - accuracy: 0.8908\n",
      "0.4903688132762909 0.3156963288784027\n",
      "313/313 [==============================] - 1s 3ms/step - loss: 0.4406 - accuracy: 0.8517\n",
      "313/313 [==============================] - 1s 3ms/step - loss: 0.3536 - accuracy: 0.8780\n",
      "0.44060346484184265 0.35360366106033325\n",
      "313/313 [==============================] - 1s 3ms/step - loss: 0.3436 - accuracy: 0.8817\n",
      "313/313 [==============================] - 1s 3ms/step - loss: 0.4222 - accuracy: 0.8570\n",
      "313/313 [==============================] - 1s 3ms/step - loss: 0.4877 - accuracy: 0.8381\n",
      "313/313 [==============================] - 1s 3ms/step - loss: 0.4881 - accuracy: 0.8384\n",
      "313/313 [==============================] - 1s 3ms/step - loss: 0.4398 - accuracy: 0.8513\n",
      "313/313 [==============================] - 1s 3ms/step - loss: 0.3155 - accuracy: 0.8909\n",
      "313/313 [==============================] - 1s 3ms/step - loss: 0.3536 - accuracy: 0.8780\n"
     ]
    }
   ],
   "source": [
    "w0 = load_model('eachModel1/CheckPoint-10.hdf5')\n",
    "firstWeight = w0.get_weights()\n",
    "# w0.fit(train_images, train_labels, epochs=1, validation_data=(test_images, test_labels), verbose=2)\n",
    "\n",
    "wT = load_model('eachModel2/CheckPoint-10.hdf5')\n",
    "lastWeight = wT.get_weights()\n",
    "# wT.fit(train_images, train_labels, epochs=1, validation_data=(test_images, test_labels), verbose=2)\n",
    "\n",
    "tümNoktalarim = []\n",
    "for i in range(6):\n",
    "    tümNoktalarim.append([before + (after - before) * i / 5 for before, after in zip(firstWeight, lastWeight)])\n",
    "tümNoktalarim.append(lastWeight)\n",
    "\n",
    "ilkdogrunoktalari12 = tümNoktalarim.copy()\n",
    "\n",
    "dogruUzerindekiIlkkLoss = []\n",
    "for i, weights in enumerate(tümNoktalarim):\n",
    "    model.set_weights(weights)\n",
    "    print(f'Interpolated weights {i}:')\n",
    "    loss,accuracy=model.evaluate(test_images, test_labels)\n",
    "    dogruUzerindekiIlkkLoss.append(loss)\n",
    "\n",
    "# İterasyon başlangıç\n",
    "for T in range(50):\n",
    "    def step(X, y,i):\n",
    "        # keep track of our gradients\n",
    "        with tf.GradientTape() as tape:\n",
    "            # make a prediction using the model and then calculate the\n",
    "            # loss\n",
    "            model.set_weights(tümNoktalarim[i])\n",
    "            pred = model(X)\n",
    "\n",
    "            y_tran = to_categorical(y,10)\n",
    "\n",
    "\n",
    "            # listem2 = []\n",
    "            # for i in range(60000):\n",
    "            #     listem2.append(1)\n",
    "            #     for j in range(9):\n",
    "            #         listem2.append(0)\n",
    "\n",
    "            # listem2 = np.array(listem2)\n",
    "            # listem2 = np.reshape(listem2,(60000,10))\n",
    "            # listem2 = listem2\n",
    "\n",
    "\n",
    "\n",
    "            # listem = []\n",
    "            # for i in range(60000):\n",
    "            #     for j in range(10):\n",
    "            #         listem.append(y[i])\n",
    "\n",
    "            # listem = np.array(listem)\n",
    "            # listem = listem/9\n",
    "            # listem = np.reshape(listem,(60000,10))\n",
    "            # tensor1 = tf.convert_to_tensor(listem)\n",
    "\n",
    "            # print(\"y : \\n\",y.shape)\n",
    "            # print(\"pred : \\n\",pred.shape)\n",
    "            tensor1 = tf.convert_to_tensor(y_tran)\n",
    "            # print(\"tensor1 : \\n\",tensor1.shape)\n",
    "            tensor2 = tf.reshape(tensor1,[60000,10])\n",
    "            # print(\"tensor2 : \\n\",tensor2.shape)\n",
    "            loss = categorical_crossentropy(tensor2, pred)\n",
    "        # calculate the gradients using our tape and then update the\n",
    "        # model weights\n",
    "        grads = tape.gradient(loss, model.trainable_variables)\n",
    "        return grads\n",
    "\n",
    "\n",
    "    grads = []\n",
    "    for i in range(1,6,1):\n",
    "        grads.append(step(train_images,train_labels,i))\n",
    "\n",
    "\n",
    "    # Tan değerlerinin hesaplanması\n",
    "    tanvalue = []\n",
    "    for i in range(1,6,1):\n",
    "        model.set_weights(tümNoktalarim[i-1])\n",
    "        dotResult1 = model.evaluate(test_images, test_labels)[0]\n",
    "\n",
    "        model.set_weights(tümNoktalarim[i+1])\n",
    "        dotResult2 = model.evaluate(test_images, test_labels)[0]\n",
    "\n",
    "        print(dotResult1,dotResult2)\n",
    "\n",
    "        if (dotResult2 > dotResult1):\n",
    "            tanvalue.append((np.array(tümNoktalarim[i+1]) - np.array(tümNoktalarim[i])))\n",
    "        else:\n",
    "            tanvalue.append((np.array(tümNoktalarim[i]) - np.array(tümNoktalarim[i-1])))\n",
    "\n",
    "    gradList = []\n",
    "    for i in range(5):\n",
    "        first = np.array(grads[i][0])\n",
    "        grad1 = [first[0:60000,:],np.array(grads[i][1]),np.array(grads[i][2]),np.array(grads[i][3]),np.array(grads[i][4]),np.array(grads[i][5])]\n",
    "        grad1 = np.array(grad1)\n",
    "        gradList.append(grad1)\n",
    "\n",
    "    esasGradList = gradList.copy()\n",
    "    gradList = np.array(gradList)\n",
    "\n",
    "\n",
    "    for i in range(5):\n",
    "        gradList[i][0] = gradList[i][0].flatten()\n",
    "        gradList[i][1] = gradList[i][1].flatten()\n",
    "        gradList[i][2] = gradList[i][2].flatten()\n",
    "        gradList[i][3] = gradList[i][3].flatten()\n",
    "        gradList[i][4] = gradList[i][4].flatten()\n",
    "        gradList[i][5] = gradList[i][5].flatten()\n",
    "\n",
    "\n",
    "    tanlistem = []\n",
    "    for i in range(5):\n",
    "        tanget = [tanvalue[i][0],tanvalue[i][1],tanvalue[i][2],tanvalue[i][3],tanvalue[i][4],tanvalue[i][5]]\n",
    "        tanget = np.array(tanget)\n",
    "        tanlistem.append(tanget)\n",
    "\n",
    "    esasTanList = tanlistem.copy()\n",
    "    tanlistem = np.array(tanlistem)\n",
    "\n",
    "    for i in range(5):\n",
    "        tanlistem[i][0] = tanlistem[i][0].flatten()\n",
    "        tanlistem[i][1] = tanlistem[i][1].flatten()\n",
    "        tanlistem[i][2] = tanlistem[i][2].flatten()\n",
    "        tanlistem[i][3] = tanlistem[i][3].flatten()\n",
    "        tanlistem[i][4] = tanlistem[i][4].flatten()\n",
    "        tanlistem[i][5] = tanlistem[i][5].flatten()\n",
    "\n",
    "    dotsonuc = []\n",
    "    for i in range(5):\n",
    "        denemesonuc1 = np.dot(tanlistem[i][0],gradList[i][0])\n",
    "        denemesonuc2 = np.dot(tanlistem[i][1],gradList[i][1])\n",
    "        denemesonuc3 = np.dot(tanlistem[i][2],gradList[i][2])\n",
    "        denemesonuc4 = np.dot(tanlistem[i][3],gradList[i][3])\n",
    "        denemesonuc5 = np.dot(tanlistem[i][4],gradList[i][4])\n",
    "        denemesonuc6 = np.dot(tanlistem[i][5],gradList[i][5])\n",
    "        sonuc1 = denemesonuc1+denemesonuc2+denemesonuc3+denemesonuc4+denemesonuc5+denemesonuc6\n",
    "        dotsonuc.append(sonuc1)\n",
    "\n",
    "    learningrate = 0.000001\n",
    "    güncelNoktlar = []\n",
    "    for i in range(5):\n",
    "        rightresult = dotsonuc[i]*esasTanList[i]\n",
    "        ilkdeğer = esasGradList[i]-rightresult\n",
    "        ilkgünceldeger = tümNoktalarim[i+1] - (learningrate*ilkdeğer)\n",
    "        güncelNoktlar.append(ilkgünceldeger)\n",
    "\n",
    "    # Bulunan noktaların güncellenmesi\n",
    "    for i in range(5):\n",
    "        tümNoktalarim[i+1] = güncelNoktlar[i]\n",
    "\n",
    "\n",
    "dogruUzerindekiSonkLoss = []\n",
    "for i in range(0,7,1):\n",
    "    model.set_weights(tümNoktalarim[i])\n",
    "    dogruResult = model.evaluate(test_images, test_labels)[0]\n",
    "    dogruUzerindekiSonkLoss.append(dogruResult)"
   ]
  },
  {
   "cell_type": "code",
   "execution_count": 377,
   "metadata": {},
   "outputs": [
    {
     "name": "stderr",
     "output_type": "stream",
     "text": [
      "No artists with labels found to put in legend.  Note that artists whose label start with an underscore are ignored when legend() is called with no argument.\n"
     ]
    },
    {
     "data": {
      "image/png": "[encoded data removed]",
      "text/plain": [
       "<Figure size 432x288 with 1 Axes>"
      ]
     },
     "metadata": {
      "needs_background": "light"
     },
     "output_type": "display_data"
    }
   ],
   "source": [
    "plt.plot(np.arange(0,7),dogruUzerindekiIlkkLoss)\n",
    "plt.title('1. ve 2. son nokta arasıda çizilen doğru üzerindeki loss değerleri')\n",
    "plt.ylabel('Loss')\n",
    "plt.xlabel('Noktalar')\n",
    "plt.legend(loc=\"upper left\")\n",
    "plt.show()"
   ]
  },
  {
   "cell_type": "code",
   "execution_count": 378,
   "metadata": {},
   "outputs": [
    {
     "name": "stderr",
     "output_type": "stream",
     "text": [
      "No artists with labels found to put in legend.  Note that artists whose label start with an underscore are ignored when legend() is called with no argument.\n"
     ]
    },
    {
     "data": {
      "image/png": "[encoded data removed]",
      "text/plain": [
       "<Figure size 432x288 with 1 Axes>"
      ]
     },
     "metadata": {
      "needs_background": "light"
     },
     "output_type": "display_data"
    }
   ],
   "source": [
    "plt.plot(np.arange(0,7),dogruUzerindekiSonkLoss)\n",
    "plt.title('1. ve 2. son nokta arasıda bulunan yeni yol')\n",
    "plt.ylabel('Loss')\n",
    "plt.xlabel('Noktalar')\n",
    "plt.legend(loc=\"upper left\")\n",
    "plt.show()"
   ]
  },
  {
   "cell_type": "code",
   "execution_count": 380,
   "metadata": {},
   "outputs": [
    {
     "data": {
      "application/vnd.plotly.v1+json": {
       "config": {
        "plotlyServerURL": "https://plot.ly"
       },
       "data": [
        {
         "hovertemplate": "0=%{x}<br>1=%{y}<extra></extra>",
         "legendgroup": "",
         "marker": {
          "color": "#636efa",
          "symbol": "circle"
         },
         "mode": "markers",
         "name": "",
         "orientation": "v",
         "showlegend": false,
         "type": "scatter",
         "x": [
          -11.819679260253906,
          -13.304986953735352,
          -14.643062591552734,
          -15.701038360595703,
          -16.597599029541016,
          -17.47978973388672,
          -18.25026512145996,
          -18.919084548950195,
          -19.416194915771484,
          -19.846675872802734,
          9.356219291687012,
          14.405339241027832,
          18.774789810180664,
          22.61086654663086,
          26.18895721435547,
          29.394533157348633,
          32.44243621826172,
          35.1937370300293,
          37.680381774902344,
          40.0645751953125,
          -10.626988410949707,
          -11.703068733215332,
          -12.639447212219238,
          -13.499673843383789,
          -14.131776809692383,
          -14.759414672851562,
          -15.316825866699219,
          -15.802750587463379,
          -16.248626708984375,
          -16.548059463500977,
          -10.29665470123291,
          -11.331467628479004,
          -12.179192543029785,
          -12.942212104797363,
          -13.584582328796387,
          -14.194615364074707,
          -14.747114181518555,
          -15.197565078735352,
          -15.51020622253418,
          -15.920998573303223,
          -10.962573051452637,
          -12.182083129882812,
          -13.23266887664795,
          -14.108321189880371,
          -14.970141410827637,
          -15.680242538452148,
          -16.326244354248047,
          -16.85550308227539,
          -17.412357330322266,
          -17.926578521728516,
          1.2266052961349487,
          8.994203567504883,
          16.76179313659668,
          24.529390335083008,
          32.296993255615234,
          40.064579010009766,
          40.0645751953125,
          1.2266052961349487,
          14.597049713134766,
          19.51162338256836,
          21.985389709472656,
          26.60231590270996,
          38.77873229980469,
          40.0645751953125
         ],
         "xaxis": "x",
         "y": [
          -9.090898513793945,
          -12.030380249023438,
          -14.412020683288574,
          -16.454315185546875,
          -18.29010581970215,
          -19.8663330078125,
          -21.259044647216797,
          -22.516502380371094,
          -23.646926879882812,
          -24.65787124633789,
          -0.16364172101020813,
          -0.33510860800743103,
          -0.4014469087123871,
          -0.5491063594818115,
          -0.6654303073883057,
          -0.6834722757339478,
          -0.7012179493904114,
          -0.7691203355789185,
          -0.7702469825744629,
          -0.8773961663246155,
          16.810537338256836,
          21.51406478881836,
          25.616228103637695,
          29.27614402770996,
          32.3968620300293,
          35.17090606689453,
          37.76516342163086,
          39.94945526123047,
          41.9161491394043,
          43.61282730102539,
          -1.458059310913086,
          -2.020515203475952,
          -2.4403843879699707,
          -2.9013564586639404,
          -3.2649576663970947,
          -3.6773459911346436,
          -3.965357780456543,
          -4.167236804962158,
          -4.450763702392578,
          -4.745523929595947,
          -4.814418792724609,
          -6.286779880523682,
          -7.565525054931641,
          -8.664962768554688,
          -9.66111946105957,
          -10.606882095336914,
          -11.356612205505371,
          -12.008002281188965,
          -12.629974365234375,
          -13.144187927246094,
          0.15733163058757782,
          -0.04961422085762024,
          -0.2565608024597168,
          -0.46350497007369995,
          -0.6704505085945129,
          -0.8773954510688782,
          -0.8773961663246155,
          0.15733163058757782,
          -0.19967670738697052,
          -0.3343500792980194,
          -0.40113502740859985,
          -0.5227190256118774,
          -0.8422558903694153,
          -0.8773960471153259
         ],
         "yaxis": "y"
        }
       ],
       "layout": {
        "legend": {
         "tracegroupgap": 0
        },
        "margin": {
         "t": 60
        },
        "template": {
         "data": {
          "bar": [
           {
            "error_x": {
             "color": "#2a3f5f"
            },
            "error_y": {
             "color": "#2a3f5f"
            },
            "marker": {
             "line": {
              "color": "#E5ECF6",
              "width": 0.5
             },
             "pattern": {
              "fillmode": "overlay",
              "size": 10,
              "solidity": 0.2
             }
            },
            "type": "bar"
           }
          ],
          "barpolar": [
           {
            "marker": {
             "line": {
              "color": "#E5ECF6",
              "width": 0.5
             },
             "pattern": {
              "fillmode": "overlay",
              "size": 10,
              "solidity": 0.2
             }
            },
            "type": "barpolar"
           }
          ],
          "carpet": [
           {
            "aaxis": {
             "endlinecolor": "#2a3f5f",
             "gridcolor": "white",
             "linecolor": "white",
             "minorgridcolor": "white",
             "startlinecolor": "#2a3f5f"
            },
            "baxis": {
             "endlinecolor": "#2a3f5f",
             "gridcolor": "white",
             "linecolor": "white",
             "minorgridcolor": "white",
             "startlinecolor": "#2a3f5f"
            },
            "type": "carpet"
           }
          ],
          "choropleth": [
           {
            "colorbar": {
             "outlinewidth": 0,
             "ticks": ""
            },
            "type": "choropleth"
           }
          ],
          "contour": [
           {
            "colorbar": {
             "outlinewidth": 0,
             "ticks": ""
            },
            "colorscale": [
             [
              0,
              "#0d0887"
             ],
             [
              0.1111111111111111,
              "#46039f"
             ],
             [
              0.2222222222222222,
              "#7201a8"
             ],
             [
              0.3333333333333333,
              "#9c179e"
             ],
             [
              0.4444444444444444,
              "#bd3786"
             ],
             [
              0.5555555555555556,
              "#d8576b"
             ],
             [
              0.6666666666666666,
              "#ed7953"
             ],
             [
              0.7777777777777778,
              "#fb9f3a"
             ],
             [
              0.8888888888888888,
              "#fdca26"
             ],
             [
              1,
              "#f0f921"
             ]
            ],
            "type": "contour"
           }
          ],
          "contourcarpet": [
           {
            "colorbar": {
             "outlinewidth": 0,
             "ticks": ""
            },
            "type": "contourcarpet"
           }
          ],
          "heatmap": [
           {
            "colorbar": {
             "outlinewidth": 0,
             "ticks": ""
            },
            "colorscale": [
             [
              0,
              "#0d0887"
             ],
             [
              0.1111111111111111,
              "#46039f"
             ],
             [
              0.2222222222222222,
              "#7201a8"
             ],
             [
              0.3333333333333333,
              "#9c179e"
             ],
             [
              0.4444444444444444,
              "#bd3786"
             ],
             [
              0.5555555555555556,
              "#d8576b"
             ],
             [
              0.6666666666666666,
              "#ed7953"
             ],
             [
              0.7777777777777778,
              "#fb9f3a"
             ],
             [
              0.8888888888888888,
              "#fdca26"
             ],
             [
              1,
              "#f0f921"
             ]
            ],
            "type": "heatmap"
           }
          ],
          "heatmapgl": [
           {
            "colorbar": {
             "outlinewidth": 0,
             "ticks": ""
            },
            "colorscale": [
             [
              0,
              "#0d0887"
             ],
             [
              0.1111111111111111,
              "#46039f"
             ],
             [
              0.2222222222222222,
              "#7201a8"
             ],
             [
              0.3333333333333333,
              "#9c179e"
             ],
             [
              0.4444444444444444,
              "#bd3786"
             ],
             [
              0.5555555555555556,
              "#d8576b"
             ],
             [
              0.6666666666666666,
              "#ed7953"
             ],
             [
              0.7777777777777778,
              "#fb9f3a"
             ],
             [
              0.8888888888888888,
              "#fdca26"
             ],
             [
              1,
              "#f0f921"
             ]
            ],
            "type": "heatmapgl"
           }
          ],
          "histogram": [
           {
            "marker": {
             "pattern": {
              "fillmode": "overlay",
              "size": 10,
              "solidity": 0.2
             }
            },
            "type": "histogram"
           }
          ],
          "histogram2d": [
           {
            "colorbar": {
             "outlinewidth": 0,
             "ticks": ""
            },
            "colorscale": [
             [
              0,
              "#0d0887"
             ],
             [
              0.1111111111111111,
              "#46039f"
             ],
             [
              0.2222222222222222,
              "#7201a8"
             ],
             [
              0.3333333333333333,
              "#9c179e"
             ],
             [
              0.4444444444444444,
              "#bd3786"
             ],
             [
              0.5555555555555556,
              "#d8576b"
             ],
             [
              0.6666666666666666,
              "#ed7953"
             ],
             [
              0.7777777777777778,
              "#fb9f3a"
             ],
             [
              0.8888888888888888,
              "#fdca26"
             ],
             [
              1,
              "#f0f921"
             ]
            ],
            "type": "histogram2d"
           }
          ],
          "histogram2dcontour": [
           {
            "colorbar": {
             "outlinewidth": 0,
             "ticks": ""
            },
            "colorscale": [
             [
              0,
              "#0d0887"
             ],
             [
              0.1111111111111111,
              "#46039f"
             ],
             [
              0.2222222222222222,
              "#7201a8"
             ],
             [
              0.3333333333333333,
              "#9c179e"
             ],
             [
              0.4444444444444444,
              "#bd3786"
             ],
             [
              0.5555555555555556,
              "#d8576b"
             ],
             [
              0.6666666666666666,
              "#ed7953"
             ],
             [
              0.7777777777777778,
              "#fb9f3a"
             ],
             [
              0.8888888888888888,
              "#fdca26"
             ],
             [
              1,
              "#f0f921"
             ]
            ],
            "type": "histogram2dcontour"
           }
          ],
          "mesh3d": [
           {
            "colorbar": {
             "outlinewidth": 0,
             "ticks": ""
            },
            "type": "mesh3d"
           }
          ],
          "parcoords": [
           {
            "line": {
             "colorbar": {
              "outlinewidth": 0,
              "ticks": ""
             }
            },
            "type": "parcoords"
           }
          ],
          "pie": [
           {
            "automargin": true,
            "type": "pie"
           }
          ],
          "scatter": [
           {
            "fillpattern": {
             "fillmode": "overlay",
             "size": 10,
             "solidity": 0.2
            },
            "type": "scatter"
           }
          ],
          "scatter3d": [
           {
            "line": {
             "colorbar": {
              "outlinewidth": 0,
              "ticks": ""
             }
            },
            "marker": {
             "colorbar": {
              "outlinewidth": 0,
              "ticks": ""
             }
            },
            "type": "scatter3d"
           }
          ],
          "scattercarpet": [
           {
            "marker": {
             "colorbar": {
              "outlinewidth": 0,
              "ticks": ""
             }
            },
            "type": "scattercarpet"
           }
          ],
          "scattergeo": [
           {
            "marker": {
             "colorbar": {
              "outlinewidth": 0,
              "ticks": ""
             }
            },
            "type": "scattergeo"
           }
          ],
          "scattergl": [
           {
            "marker": {
             "colorbar": {
              "outlinewidth": 0,
              "ticks": ""
             }
            },
            "type": "scattergl"
           }
          ],
          "scattermapbox": [
           {
            "marker": {
             "colorbar": {
              "outlinewidth": 0,
              "ticks": ""
             }
            },
            "type": "scattermapbox"
           }
          ],
          "scatterpolar": [
           {
            "marker": {
             "colorbar": {
              "outlinewidth": 0,
              "ticks": ""
             }
            },
            "type": "scatterpolar"
           }
          ],
          "scatterpolargl": [
           {
            "marker": {
             "colorbar": {
              "outlinewidth": 0,
              "ticks": ""
             }
            },
            "type": "scatterpolargl"
           }
          ],
          "scatterternary": [
           {
            "marker": {
             "colorbar": {
              "outlinewidth": 0,
              "ticks": ""
             }
            },
            "type": "scatterternary"
           }
          ],
          "surface": [
           {
            "colorbar": {
             "outlinewidth": 0,
             "ticks": ""
            },
            "colorscale": [
             [
              0,
              "#0d0887"
             ],
             [
              0.1111111111111111,
              "#46039f"
             ],
             [
              0.2222222222222222,
              "#7201a8"
             ],
             [
              0.3333333333333333,
              "#9c179e"
             ],
             [
              0.4444444444444444,
              "#bd3786"
             ],
             [
              0.5555555555555556,
              "#d8576b"
             ],
             [
              0.6666666666666666,
              "#ed7953"
             ],
             [
              0.7777777777777778,
              "#fb9f3a"
             ],
             [
              0.8888888888888888,
              "#fdca26"
             ],
             [
              1,
              "#f0f921"
             ]
            ],
            "type": "surface"
           }
          ],
          "table": [
           {
            "cells": {
             "fill": {
              "color": "#EBF0F8"
             },
             "line": {
              "color": "white"
             }
            },
            "header": {
             "fill": {
              "color": "#C8D4E3"
             },
             "line": {
              "color": "white"
             }
            },
            "type": "table"
           }
          ]
         },
         "layout": {
          "annotationdefaults": {
           "arrowcolor": "#2a3f5f",
           "arrowhead": 0,
           "arrowwidth": 1
          },
          "autotypenumbers": "strict",
          "coloraxis": {
           "colorbar": {
            "outlinewidth": 0,
            "ticks": ""
           }
          },
          "colorscale": {
           "diverging": [
            [
             0,
             "#8e0152"
            ],
            [
             0.1,
             "#c51b7d"
            ],
            [
             0.2,
             "#de77ae"
            ],
            [
             0.3,
             "#f1b6da"
            ],
            [
             0.4,
             "#fde0ef"
            ],
            [
             0.5,
             "#f7f7f7"
            ],
            [
             0.6,
             "#e6f5d0"
            ],
            [
             0.7,
             "#b8e186"
            ],
            [
             0.8,
             "#7fbc41"
            ],
            [
             0.9,
             "#4d9221"
            ],
            [
             1,
             "#276419"
            ]
           ],
           "sequential": [
            [
             0,
             "#0d0887"
            ],
            [
             0.1111111111111111,
             "#46039f"
            ],
            [
             0.2222222222222222,
             "#7201a8"
            ],
            [
             0.3333333333333333,
             "#9c179e"
            ],
            [
             0.4444444444444444,
             "#bd3786"
            ],
            [
             0.5555555555555556,
             "#d8576b"
            ],
            [
             0.6666666666666666,
             "#ed7953"
            ],
            [
             0.7777777777777778,
             "#fb9f3a"
            ],
            [
             0.8888888888888888,
             "#fdca26"
            ],
            [
             1,
             "#f0f921"
            ]
           ],
           "sequentialminus": [
            [
             0,
             "#0d0887"
            ],
            [
             0.1111111111111111,
             "#46039f"
            ],
            [
             0.2222222222222222,
             "#7201a8"
            ],
            [
             0.3333333333333333,
             "#9c179e"
            ],
            [
             0.4444444444444444,
             "#bd3786"
            ],
            [
             0.5555555555555556,
             "#d8576b"
            ],
            [
             0.6666666666666666,
             "#ed7953"
            ],
            [
             0.7777777777777778,
             "#fb9f3a"
            ],
            [
             0.8888888888888888,
             "#fdca26"
            ],
            [
             1,
             "#f0f921"
            ]
           ]
          },
          "colorway": [
           "#636efa",
           "#EF553B",
           "#00cc96",
           "#ab63fa",
           "#FFA15A",
           "#19d3f3",
           "#FF6692",
           "#B6E880",
           "#FF97FF",
           "#FECB52"
          ],
          "font": {
           "color": "#2a3f5f"
          },
          "geo": {
           "bgcolor": "white",
           "lakecolor": "white",
           "landcolor": "#E5ECF6",
           "showlakes": true,
           "showland": true,
           "subunitcolor": "white"
          },
          "hoverlabel": {
           "align": "left"
          },
          "hovermode": "closest",
          "mapbox": {
           "style": "light"
          },
          "paper_bgcolor": "white",
          "plot_bgcolor": "#E5ECF6",
          "polar": {
           "angularaxis": {
            "gridcolor": "white",
            "linecolor": "white",
            "ticks": ""
           },
           "bgcolor": "#E5ECF6",
           "radialaxis": {
            "gridcolor": "white",
            "linecolor": "white",
            "ticks": ""
           }
          },
          "scene": {
           "xaxis": {
            "backgroundcolor": "#E5ECF6",
            "gridcolor": "white",
            "gridwidth": 2,
            "linecolor": "white",
            "showbackground": true,
            "ticks": "",
            "zerolinecolor": "white"
           },
           "yaxis": {
            "backgroundcolor": "#E5ECF6",
            "gridcolor": "white",
            "gridwidth": 2,
            "linecolor": "white",
            "showbackground": true,
            "ticks": "",
            "zerolinecolor": "white"
           },
           "zaxis": {
            "backgroundcolor": "#E5ECF6",
            "gridcolor": "white",
            "gridwidth": 2,
            "linecolor": "white",
            "showbackground": true,
            "ticks": "",
            "zerolinecolor": "white"
           }
          },
          "shapedefaults": {
           "line": {
            "color": "#2a3f5f"
           }
          },
          "ternary": {
           "aaxis": {
            "gridcolor": "white",
            "linecolor": "white",
            "ticks": ""
           },
           "baxis": {
            "gridcolor": "white",
            "linecolor": "white",
            "ticks": ""
           },
           "bgcolor": "#E5ECF6",
           "caxis": {
            "gridcolor": "white",
            "linecolor": "white",
            "ticks": ""
           }
          },
          "title": {
           "x": 0.05
          },
          "xaxis": {
           "automargin": true,
           "gridcolor": "white",
           "linecolor": "white",
           "ticks": "",
           "title": {
            "standoff": 15
           },
           "zerolinecolor": "white",
           "zerolinewidth": 2
          },
          "yaxis": {
           "automargin": true,
           "gridcolor": "white",
           "linecolor": "white",
           "ticks": "",
           "title": {
            "standoff": 15
           },
           "zerolinecolor": "white",
           "zerolinewidth": 2
          }
         }
        },
        "xaxis": {
         "anchor": "y",
         "domain": [
          0,
          1
         ],
         "title": {
          "text": "0"
         }
        },
        "yaxis": {
         "anchor": "x",
         "domain": [
          0,
          1
         ],
         "title": {
          "text": "1"
         }
        }
       }
      }
     },
     "metadata": {},
     "output_type": "display_data"
    }
   ],
   "source": [
    "ilknoktalar12 = ilkdogrunoktalari12.copy()\n",
    "\n",
    "for i in range(7):\n",
    "    ilknoktalar12[i][0] = ilknoktalar12[i][0].flatten()\n",
    "    ilknoktalar12[i][1] = ilknoktalar12[i][1].flatten()\n",
    "    ilknoktalar12[i][2] = ilknoktalar12[i][2].flatten()\n",
    "    ilknoktalar12[i][3] = ilknoktalar12[i][3].flatten()\n",
    "    ilknoktalar12[i][4] = ilknoktalar12[i][4].flatten()\n",
    "\n",
    "Xaralist12= []\n",
    "for i in range(7):\n",
    "    Xaralist12.append(np.hstack((ilknoktalar12[i][0],ilknoktalar12[i][1],ilknoktalar12[i][2],ilknoktalar12[i][3],ilknoktalar12[i][4])))\n",
    "\n",
    "\n",
    "\n",
    "sonnoktalar12 = tümNoktalarim.copy()\n",
    "\n",
    "for i in range(7):\n",
    "    sonnoktalar12[i][0] = sonnoktalar12[i][0].flatten()\n",
    "    sonnoktalar12[i][1] = sonnoktalar12[i][1].flatten()\n",
    "    sonnoktalar12[i][2] = sonnoktalar12[i][2].flatten()\n",
    "    sonnoktalar12[i][3] = sonnoktalar12[i][3].flatten()\n",
    "    sonnoktalar12[i][4] = sonnoktalar12[i][4].flatten()\n",
    "\n",
    "Xsonaralist12= []\n",
    "for i in range(7):\n",
    "    Xsonaralist12.append(np.hstack((sonnoktalar12[i][0],sonnoktalar12[i][1],sonnoktalar12[i][2],sonnoktalar12[i][3],sonnoktalar12[i][4])))\n",
    "\n",
    "\n",
    "\n",
    "\n",
    "Xaralist12 = np.array(Xaralist12)\n",
    "Xsonaralist12 = np.array(Xsonaralist12)\n",
    "alldizi = np.vstack((Xlist,Xaralist12,Xsonaralist12))\n",
    "\n",
    "X = alldizi\n",
    "\n",
    "pca = PCA(n_components=2)\n",
    "components = pca.fit_transform(X)\n",
    "\n",
    "fig = px.scatter(components, x=0, y=1)\n",
    "fig.show()"
   ]
  },
  {
   "cell_type": "code",
   "execution_count": 399,
   "metadata": {},
   "outputs": [
    {
     "data": {
      "application/vnd.plotly.v1+json": {
       "config": {
        "plotlyServerURL": "https://plot.ly"
       },
       "data": [
        {
         "hovertemplate": "PC 1=%{x}<br>PC 2=%{y}<br>PC 3=%{z}<extra></extra>",
         "legendgroup": "",
         "marker": {
          "color": "#636efa",
          "symbol": "circle"
         },
         "mode": "markers",
         "name": "",
         "scene": "scene",
         "showlegend": false,
         "type": "scatter3d",
         "x": [
          -11.819656372070312,
          -13.304967880249023,
          -14.643049240112305,
          -15.70101261138916,
          -16.59758186340332,
          -17.47975730895996,
          -18.250226974487305,
          -18.919065475463867,
          -19.41615104675293,
          -19.846641540527344,
          9.356224060058594,
          14.405346870422363,
          18.774803161621094,
          22.610881805419922,
          26.18897247314453,
          29.394542694091797,
          32.44245910644531,
          35.193756103515625,
          37.68038558959961,
          40.06461715698242,
          -10.62700366973877,
          -11.703085899353027,
          -12.639472007751465,
          -13.49969482421875,
          -14.131805419921875,
          -14.759443283081055,
          -15.316853523254395,
          -15.802779197692871,
          -16.248659133911133,
          -16.548091888427734,
          -10.296659469604492,
          -11.331466674804688,
          -12.179190635681152,
          -12.942222595214844,
          -13.584582328796387,
          -14.194609642028809,
          -14.747110366821289,
          -15.19756031036377,
          -15.510210037231445,
          -15.92099380493164,
          -10.962597846984863,
          -12.182108879089355,
          -13.232697486877441,
          -14.108351707458496,
          -14.970183372497559,
          -15.680278778076172,
          -16.326282501220703,
          -16.85553550720215,
          -17.412397384643555,
          -17.926626205444336,
          1.2266051769256592,
          8.994207382202148,
          16.761812210083008,
          24.529407501220703,
          32.297027587890625,
          40.06461715698242,
          40.06461715698242,
          1.2266051769256592,
          14.597052574157715,
          19.511638641357422,
          21.98541259765625,
          26.602344512939453,
          38.778751373291016,
          40.06461715698242
         ],
         "y": [
          -9.090331077575684,
          -12.029647827148438,
          -14.411150932312012,
          -16.453311920166016,
          -18.288990020751953,
          -19.865114212036133,
          -21.257740020751953,
          -22.51512336730957,
          -23.645463943481445,
          -24.656375885009766,
          -0.16365459561347961,
          -0.3351137340068817,
          -0.40144866704940796,
          -0.5491023063659668,
          -0.6654269099235535,
          -0.683463454246521,
          -0.7012062072753906,
          -0.7691037654876709,
          -0.7702270150184631,
          -0.8773660659790039,
          16.81059455871582,
          21.514142990112305,
          25.616310119628906,
          29.276275634765625,
          32.39700698852539,
          35.171024322509766,
          37.76533126831055,
          39.94961166381836,
          41.91632843017578,
          43.61299514770508,
          -1.457751989364624,
          -2.0200998783111572,
          -2.439887046813965,
          -2.9007813930511475,
          -3.264320135116577,
          -3.676671028137207,
          -3.964630603790283,
          -4.166454792022705,
          -4.449953079223633,
          -4.744659423828125,
          -4.815408229827881,
          -6.288049221038818,
          -7.5670342445373535,
          -8.66667652130127,
          -9.663030624389648,
          -10.608973503112793,
          -11.35883617401123,
          -12.01037311553955,
          -12.632464408874512,
          -13.146777153015137,
          0.1573510468006134,
          -0.049592386931180954,
          -0.2565365135669708,
          -0.46348023414611816,
          -0.6704227924346924,
          -0.8773659467697144,
          -0.8773660659790039,
          0.1573510468006134,
          -0.1996534913778305,
          -0.3343241512775421,
          -0.4011116027832031,
          -0.5226916074752808,
          -0.8422259092330933,
          -0.8773660659790039
         ],
         "z": [
          -9.222150802612305,
          -11.886089324951172,
          -14.12055778503418,
          -16.027402877807617,
          -17.726886749267578,
          -19.349018096923828,
          -20.625885009765625,
          -21.907743453979492,
          -22.979001998901367,
          -24.00678062438965,
          0.15194258093833923,
          0.07500089704990387,
          0.08440881967544556,
          0.01137973926961422,
          0.08132602274417877,
          0.017448611557483673,
          0.043539710342884064,
          0.015499974600970745,
          -0.05187922716140747,
          -0.1395750492811203,
          -0.7544114589691162,
          -1.0207723379135132,
          -1.2817440032958984,
          -1.5280400514602661,
          -1.7094956636428833,
          -1.855970025062561,
          -2.1088342666625977,
          -2.1511964797973633,
          -2.2521378993988037,
          -2.3543097972869873,
          -6.155035495758057,
          -8.030364036560059,
          -9.542191505432129,
          -10.894815444946289,
          -12.052387237548828,
          -13.069093704223633,
          -13.959907531738281,
          -14.823533058166504,
          -15.657724380493164,
          -16.325483322143555,
          16.376693725585938,
          21.12154197692871,
          25.118093490600586,
          28.729957580566406,
          31.832992553710938,
          34.611534118652344,
          37.08457946777344,
          39.28586959838867,
          41.30923080444336,
          43.079376220703125,
          -0.388582706451416,
          -0.3387826085090637,
          -0.2889738976955414,
          -0.23917412757873535,
          -0.18937499821186066,
          -0.1395748108625412,
          -0.1395750492811203,
          -0.388582706451416,
          -0.2985222041606903,
          -0.26957136392593384,
          -0.258571594953537,
          -0.23286907374858856,
          -0.1482708603143692,
          -0.13957515358924866
         ]
        }
       ],
       "layout": {
        "legend": {
         "tracegroupgap": 0
        },
        "scene": {
         "domain": {
          "x": [
           0,
           1
          ],
          "y": [
           0,
           1
          ]
         },
         "xaxis": {
          "title": {
           "text": "PC 1"
          }
         },
         "yaxis": {
          "title": {
           "text": "PC 2"
          }
         },
         "zaxis": {
          "title": {
           "text": "PC 3"
          }
         }
        },
        "template": {
         "data": {
          "bar": [
           {
            "error_x": {
             "color": "#2a3f5f"
            },
            "error_y": {
             "color": "#2a3f5f"
            },
            "marker": {
             "line": {
              "color": "#E5ECF6",
              "width": 0.5
             },
             "pattern": {
              "fillmode": "overlay",
              "size": 10,
              "solidity": 0.2
             }
            },
            "type": "bar"
           }
          ],
          "barpolar": [
           {
            "marker": {
             "line": {
              "color": "#E5ECF6",
              "width": 0.5
             },
             "pattern": {
              "fillmode": "overlay",
              "size": 10,
              "solidity": 0.2
             }
            },
            "type": "barpolar"
           }
          ],
          "carpet": [
           {
            "aaxis": {
             "endlinecolor": "#2a3f5f",
             "gridcolor": "white",
             "linecolor": "white",
             "minorgridcolor": "white",
             "startlinecolor": "#2a3f5f"
            },
            "baxis": {
             "endlinecolor": "#2a3f5f",
             "gridcolor": "white",
             "linecolor": "white",
             "minorgridcolor": "white",
             "startlinecolor": "#2a3f5f"
            },
            "type": "carpet"
           }
          ],
          "choropleth": [
           {
            "colorbar": {
             "outlinewidth": 0,
             "ticks": ""
            },
            "type": "choropleth"
           }
          ],
          "contour": [
           {
            "colorbar": {
             "outlinewidth": 0,
             "ticks": ""
            },
            "colorscale": [
             [
              0,
              "#0d0887"
             ],
             [
              0.1111111111111111,
              "#46039f"
             ],
             [
              0.2222222222222222,
              "#7201a8"
             ],
             [
              0.3333333333333333,
              "#9c179e"
             ],
             [
              0.4444444444444444,
              "#bd3786"
             ],
             [
              0.5555555555555556,
              "#d8576b"
             ],
             [
              0.6666666666666666,
              "#ed7953"
             ],
             [
              0.7777777777777778,
              "#fb9f3a"
             ],
             [
              0.8888888888888888,
              "#fdca26"
             ],
             [
              1,
              "#f0f921"
             ]
            ],
            "type": "contour"
           }
          ],
          "contourcarpet": [
           {
            "colorbar": {
             "outlinewidth": 0,
             "ticks": ""
            },
            "type": "contourcarpet"
           }
          ],
          "heatmap": [
           {
            "colorbar": {
             "outlinewidth": 0,
             "ticks": ""
            },
            "colorscale": [
             [
              0,
              "#0d0887"
             ],
             [
              0.1111111111111111,
              "#46039f"
             ],
             [
              0.2222222222222222,
              "#7201a8"
             ],
             [
              0.3333333333333333,
              "#9c179e"
             ],
             [
              0.4444444444444444,
              "#bd3786"
             ],
             [
              0.5555555555555556,
              "#d8576b"
             ],
             [
              0.6666666666666666,
              "#ed7953"
             ],
             [
              0.7777777777777778,
              "#fb9f3a"
             ],
             [
              0.8888888888888888,
              "#fdca26"
             ],
             [
              1,
              "#f0f921"
             ]
            ],
            "type": "heatmap"
           }
          ],
          "heatmapgl": [
           {
            "colorbar": {
             "outlinewidth": 0,
             "ticks": ""
            },
            "colorscale": [
             [
              0,
              "#0d0887"
             ],
             [
              0.1111111111111111,
              "#46039f"
             ],
             [
              0.2222222222222222,
              "#7201a8"
             ],
             [
              0.3333333333333333,
              "#9c179e"
             ],
             [
              0.4444444444444444,
              "#bd3786"
             ],
             [
              0.5555555555555556,
              "#d8576b"
             ],
             [
              0.6666666666666666,
              "#ed7953"
             ],
             [
              0.7777777777777778,
              "#fb9f3a"
             ],
             [
              0.8888888888888888,
              "#fdca26"
             ],
             [
              1,
              "#f0f921"
             ]
            ],
            "type": "heatmapgl"
           }
          ],
          "histogram": [
           {
            "marker": {
             "pattern": {
              "fillmode": "overlay",
              "size": 10,
              "solidity": 0.2
             }
            },
            "type": "histogram"
           }
          ],
          "histogram2d": [
           {
            "colorbar": {
             "outlinewidth": 0,
             "ticks": ""
            },
            "colorscale": [
             [
              0,
              "#0d0887"
             ],
             [
              0.1111111111111111,
              "#46039f"
             ],
             [
              0.2222222222222222,
              "#7201a8"
             ],
             [
              0.3333333333333333,
              "#9c179e"
             ],
             [
              0.4444444444444444,
              "#bd3786"
             ],
             [
              0.5555555555555556,
              "#d8576b"
             ],
             [
              0.6666666666666666,
              "#ed7953"
             ],
             [
              0.7777777777777778,
              "#fb9f3a"
             ],
             [
              0.8888888888888888,
              "#fdca26"
             ],
             [
              1,
              "#f0f921"
             ]
            ],
            "type": "histogram2d"
           }
          ],
          "histogram2dcontour": [
           {
            "colorbar": {
             "outlinewidth": 0,
             "ticks": ""
            },
            "colorscale": [
             [
              0,
              "#0d0887"
             ],
             [
              0.1111111111111111,
              "#46039f"
             ],
             [
              0.2222222222222222,
              "#7201a8"
             ],
             [
              0.3333333333333333,
              "#9c179e"
             ],
             [
              0.4444444444444444,
              "#bd3786"
             ],
             [
              0.5555555555555556,
              "#d8576b"
             ],
             [
              0.6666666666666666,
              "#ed7953"
             ],
             [
              0.7777777777777778,
              "#fb9f3a"
             ],
             [
              0.8888888888888888,
              "#fdca26"
             ],
             [
              1,
              "#f0f921"
             ]
            ],
            "type": "histogram2dcontour"
           }
          ],
          "mesh3d": [
           {
            "colorbar": {
             "outlinewidth": 0,
             "ticks": ""
            },
            "type": "mesh3d"
           }
          ],
          "parcoords": [
           {
            "line": {
             "colorbar": {
              "outlinewidth": 0,
              "ticks": ""
             }
            },
            "type": "parcoords"
           }
          ],
          "pie": [
           {
            "automargin": true,
            "type": "pie"
           }
          ],
          "scatter": [
           {
            "fillpattern": {
             "fillmode": "overlay",
             "size": 10,
             "solidity": 0.2
            },
            "type": "scatter"
           }
          ],
          "scatter3d": [
           {
            "line": {
             "colorbar": {
              "outlinewidth": 0,
              "ticks": ""
             }
            },
            "marker": {
             "colorbar": {
              "outlinewidth": 0,
              "ticks": ""
             }
            },
            "type": "scatter3d"
           }
          ],
          "scattercarpet": [
           {
            "marker": {
             "colorbar": {
              "outlinewidth": 0,
              "ticks": ""
             }
            },
            "type": "scattercarpet"
           }
          ],
          "scattergeo": [
           {
            "marker": {
             "colorbar": {
              "outlinewidth": 0,
              "ticks": ""
             }
            },
            "type": "scattergeo"
           }
          ],
          "scattergl": [
           {
            "marker": {
             "colorbar": {
              "outlinewidth": 0,
              "ticks": ""
             }
            },
            "type": "scattergl"
           }
          ],
          "scattermapbox": [
           {
            "marker": {
             "colorbar": {
              "outlinewidth": 0,
              "ticks": ""
             }
            },
            "type": "scattermapbox"
           }
          ],
          "scatterpolar": [
           {
            "marker": {
             "colorbar": {
              "outlinewidth": 0,
              "ticks": ""
             }
            },
            "type": "scatterpolar"
           }
          ],
          "scatterpolargl": [
           {
            "marker": {
             "colorbar": {
              "outlinewidth": 0,
              "ticks": ""
             }
            },
            "type": "scatterpolargl"
           }
          ],
          "scatterternary": [
           {
            "marker": {
             "colorbar": {
              "outlinewidth": 0,
              "ticks": ""
             }
            },
            "type": "scatterternary"
           }
          ],
          "surface": [
           {
            "colorbar": {
             "outlinewidth": 0,
             "ticks": ""
            },
            "colorscale": [
             [
              0,
              "#0d0887"
             ],
             [
              0.1111111111111111,
              "#46039f"
             ],
             [
              0.2222222222222222,
              "#7201a8"
             ],
             [
              0.3333333333333333,
              "#9c179e"
             ],
             [
              0.4444444444444444,
              "#bd3786"
             ],
             [
              0.5555555555555556,
              "#d8576b"
             ],
             [
              0.6666666666666666,
              "#ed7953"
             ],
             [
              0.7777777777777778,
              "#fb9f3a"
             ],
             [
              0.8888888888888888,
              "#fdca26"
             ],
             [
              1,
              "#f0f921"
             ]
            ],
            "type": "surface"
           }
          ],
          "table": [
           {
            "cells": {
             "fill": {
              "color": "#EBF0F8"
             },
             "line": {
              "color": "white"
             }
            },
            "header": {
             "fill": {
              "color": "#C8D4E3"
             },
             "line": {
              "color": "white"
             }
            },
            "type": "table"
           }
          ]
         },
         "layout": {
          "annotationdefaults": {
           "arrowcolor": "#2a3f5f",
           "arrowhead": 0,
           "arrowwidth": 1
          },
          "autotypenumbers": "strict",
          "coloraxis": {
           "colorbar": {
            "outlinewidth": 0,
            "ticks": ""
           }
          },
          "colorscale": {
           "diverging": [
            [
             0,
             "#8e0152"
            ],
            [
             0.1,
             "#c51b7d"
            ],
            [
             0.2,
             "#de77ae"
            ],
            [
             0.3,
             "#f1b6da"
            ],
            [
             0.4,
             "#fde0ef"
            ],
            [
             0.5,
             "#f7f7f7"
            ],
            [
             0.6,
             "#e6f5d0"
            ],
            [
             0.7,
             "#b8e186"
            ],
            [
             0.8,
             "#7fbc41"
            ],
            [
             0.9,
             "#4d9221"
            ],
            [
             1,
             "#276419"
            ]
           ],
           "sequential": [
            [
             0,
             "#0d0887"
            ],
            [
             0.1111111111111111,
             "#46039f"
            ],
            [
             0.2222222222222222,
             "#7201a8"
            ],
            [
             0.3333333333333333,
             "#9c179e"
            ],
            [
             0.4444444444444444,
             "#bd3786"
            ],
            [
             0.5555555555555556,
             "#d8576b"
            ],
            [
             0.6666666666666666,
             "#ed7953"
            ],
            [
             0.7777777777777778,
             "#fb9f3a"
            ],
            [
             0.8888888888888888,
             "#fdca26"
            ],
            [
             1,
             "#f0f921"
            ]
           ],
           "sequentialminus": [
            [
             0,
             "#0d0887"
            ],
            [
             0.1111111111111111,
             "#46039f"
            ],
            [
             0.2222222222222222,
             "#7201a8"
            ],
            [
             0.3333333333333333,
             "#9c179e"
            ],
            [
             0.4444444444444444,
             "#bd3786"
            ],
            [
             0.5555555555555556,
             "#d8576b"
            ],
            [
             0.6666666666666666,
             "#ed7953"
            ],
            [
             0.7777777777777778,
             "#fb9f3a"
            ],
            [
             0.8888888888888888,
             "#fdca26"
            ],
            [
             1,
             "#f0f921"
            ]
           ]
          },
          "colorway": [
           "#636efa",
           "#EF553B",
           "#00cc96",
           "#ab63fa",
           "#FFA15A",
           "#19d3f3",
           "#FF6692",
           "#B6E880",
           "#FF97FF",
           "#FECB52"
          ],
          "font": {
           "color": "#2a3f5f"
          },
          "geo": {
           "bgcolor": "white",
           "lakecolor": "white",
           "landcolor": "#E5ECF6",
           "showlakes": true,
           "showland": true,
           "subunitcolor": "white"
          },
          "hoverlabel": {
           "align": "left"
          },
          "hovermode": "closest",
          "mapbox": {
           "style": "light"
          },
          "paper_bgcolor": "white",
          "plot_bgcolor": "#E5ECF6",
          "polar": {
           "angularaxis": {
            "gridcolor": "white",
            "linecolor": "white",
            "ticks": ""
           },
           "bgcolor": "#E5ECF6",
           "radialaxis": {
            "gridcolor": "white",
            "linecolor": "white",
            "ticks": ""
           }
          },
          "scene": {
           "xaxis": {
            "backgroundcolor": "#E5ECF6",
            "gridcolor": "white",
            "gridwidth": 2,
            "linecolor": "white",
            "showbackground": true,
            "ticks": "",
            "zerolinecolor": "white"
           },
           "yaxis": {
            "backgroundcolor": "#E5ECF6",
            "gridcolor": "white",
            "gridwidth": 2,
            "linecolor": "white",
            "showbackground": true,
            "ticks": "",
            "zerolinecolor": "white"
           },
           "zaxis": {
            "backgroundcolor": "#E5ECF6",
            "gridcolor": "white",
            "gridwidth": 2,
            "linecolor": "white",
            "showbackground": true,
            "ticks": "",
            "zerolinecolor": "white"
           }
          },
          "shapedefaults": {
           "line": {
            "color": "#2a3f5f"
           }
          },
          "ternary": {
           "aaxis": {
            "gridcolor": "white",
            "linecolor": "white",
            "ticks": ""
           },
           "baxis": {
            "gridcolor": "white",
            "linecolor": "white",
            "ticks": ""
           },
           "bgcolor": "#E5ECF6",
           "caxis": {
            "gridcolor": "white",
            "linecolor": "white",
            "ticks": ""
           }
          },
          "title": {
           "x": 0.05
          },
          "xaxis": {
           "automargin": true,
           "gridcolor": "white",
           "linecolor": "white",
           "ticks": "",
           "title": {
            "standoff": 15
           },
           "zerolinecolor": "white",
           "zerolinewidth": 2
          },
          "yaxis": {
           "automargin": true,
           "gridcolor": "white",
           "linecolor": "white",
           "ticks": "",
           "title": {
            "standoff": 15
           },
           "zerolinecolor": "white",
           "zerolinewidth": 2
          }
         }
        },
        "title": {
         "text": "Total Explained Variance: 64.46%"
        }
       }
      }
     },
     "metadata": {},
     "output_type": "display_data"
    }
   ],
   "source": [
    "alldizi = np.vstack((Xlist,Xaralist12,Xsonaralist12))\n",
    "\n",
    "X = alldizi\n",
    "\n",
    "pca = PCA(n_components=3)\n",
    "components = pca.fit_transform(X)\n",
    "\n",
    "total_var = pca.explained_variance_ratio_.sum() * 100\n",
    "\n",
    "fig = px.scatter_3d(\n",
    "    components, x=0, y=1, z=2,\n",
    "    title=f'Total Explained Variance: {total_var:.2f}%',\n",
    "    labels={'0': 'PC 1', '1': 'PC 2', '2': 'PC 3'}\n",
    ")\n",
    "fig.show()"
   ]
  },
  {
   "attachments": {},
   "cell_type": "markdown",
   "metadata": {},
   "source": [
    "2. İLE 3. NOKTA ARASINDA"
   ]
  },
  {
   "cell_type": "code",
   "execution_count": 381,
   "metadata": {},
   "outputs": [
    {
     "name": "stdout",
     "output_type": "stream",
     "text": [
      "Interpolated weights 0:\n",
      "313/313 [==============================] - 1s 3ms/step - loss: 0.3536 - accuracy: 0.8780\n",
      "Interpolated weights 1:\n",
      "313/313 [==============================] - 1s 3ms/step - loss: 0.4953 - accuracy: 0.8336\n",
      "Interpolated weights 2:\n",
      "313/313 [==============================] - 1s 3ms/step - loss: 1.1426 - accuracy: 0.6588\n",
      "Interpolated weights 3:\n",
      "313/313 [==============================] - 1s 3ms/step - loss: 1.2049 - accuracy: 0.5960\n",
      "Interpolated weights 4:\n",
      "313/313 [==============================] - 1s 3ms/step - loss: 0.4682 - accuracy: 0.8492\n",
      "Interpolated weights 5:\n",
      "313/313 [==============================] - 1s 3ms/step - loss: 0.3279 - accuracy: 0.8855\n",
      "Interpolated weights 6:\n",
      "313/313 [==============================] - 1s 3ms/step - loss: 0.3279 - accuracy: 0.8855\n",
      "313/313 [==============================] - 1s 4ms/step - loss: 0.3536 - accuracy: 0.8780\n",
      "313/313 [==============================] - 1s 3ms/step - loss: 1.1426 - accuracy: 0.6588\n",
      "0.35360366106033325 1.142633318901062\n",
      " 39/313 [==>...........................] - ETA: 0s - loss: 0.4963 - accuracy: 0.8365"
     ]
    },
    {
     "name": "stderr",
     "output_type": "stream",
     "text": [
      "C:\\Users\\enes_\\AppData\\Local\\Temp\\ipykernel_7704\\3624918830.py:88: VisibleDeprecationWarning:\n",
      "\n",
      "Creating an ndarray from ragged nested sequences (which is a list-or-tuple of lists-or-tuples-or ndarrays with different lengths or shapes) is deprecated. If you meant to do this, you must specify 'dtype=object' when creating the ndarray.\n",
      "\n"
     ]
    },
    {
     "name": "stdout",
     "output_type": "stream",
     "text": [
      "313/313 [==============================] - 1s 3ms/step - loss: 0.4953 - accuracy: 0.8336\n",
      "313/313 [==============================] - 1s 3ms/step - loss: 1.2049 - accuracy: 0.5960\n",
      "0.4953024983406067 1.2049002647399902\n",
      "313/313 [==============================] - 1s 3ms/step - loss: 1.1426 - accuracy: 0.6588\n",
      "313/313 [==============================] - 1s 3ms/step - loss: 0.4682 - accuracy: 0.8492\n",
      "1.142633318901062 0.468244731426239\n",
      " 25/313 [=>............................] - ETA: 1s - loss: 1.2155 - accuracy: 0.5713"
     ]
    },
    {
     "name": "stderr",
     "output_type": "stream",
     "text": [
      "C:\\Users\\enes_\\AppData\\Local\\Temp\\ipykernel_7704\\3624918830.py:90: VisibleDeprecationWarning:\n",
      "\n",
      "Creating an ndarray from ragged nested sequences (which is a list-or-tuple of lists-or-tuples-or ndarrays with different lengths or shapes) is deprecated. If you meant to do this, you must specify 'dtype=object' when creating the ndarray.\n",
      "\n"
     ]
    },
    {
     "name": "stdout",
     "output_type": "stream",
     "text": [
      "313/313 [==============================] - 1s 4ms/step - loss: 1.2049 - accuracy: 0.5960\n",
      "313/313 [==============================] - 1s 3ms/step - loss: 0.3279 - accuracy: 0.8855\n",
      "1.2049002647399902 0.32794633507728577\n",
      "313/313 [==============================] - 1s 3ms/step - loss: 0.4682 - accuracy: 0.8492\n",
      "313/313 [==============================] - 1s 3ms/step - loss: 0.3279 - accuracy: 0.8855\n",
      "0.468244731426239 0.32794642448425293\n"
     ]
    },
    {
     "name": "stderr",
     "output_type": "stream",
     "text": [
      "C:\\Users\\enes_\\AppData\\Local\\Temp\\ipykernel_7704\\3624918830.py:96: VisibleDeprecationWarning:\n",
      "\n",
      "Creating an ndarray from ragged nested sequences (which is a list-or-tuple of lists-or-tuples-or ndarrays with different lengths or shapes) is deprecated. If you meant to do this, you must specify 'dtype=object' when creating the ndarray.\n",
      "\n",
      "C:\\Users\\enes_\\AppData\\Local\\Temp\\ipykernel_7704\\3624918830.py:115: VisibleDeprecationWarning:\n",
      "\n",
      "Creating an ndarray from ragged nested sequences (which is a list-or-tuple of lists-or-tuples-or ndarrays with different lengths or shapes) is deprecated. If you meant to do this, you must specify 'dtype=object' when creating the ndarray.\n",
      "\n",
      "C:\\Users\\enes_\\AppData\\Local\\Temp\\ipykernel_7704\\3624918830.py:145: VisibleDeprecationWarning:\n",
      "\n",
      "Creating an ndarray from ragged nested sequences (which is a list-or-tuple of lists-or-tuples-or ndarrays with different lengths or shapes) is deprecated. If you meant to do this, you must specify 'dtype=object' when creating the ndarray.\n",
      "\n"
     ]
    },
    {
     "name": "stdout",
     "output_type": "stream",
     "text": [
      "313/313 [==============================] - 1s 3ms/step - loss: 0.3536 - accuracy: 0.8780\n",
      "313/313 [==============================] - 1s 4ms/step - loss: 1.0752 - accuracy: 0.6866\n",
      "0.35360366106033325 1.075210690498352\n",
      "313/313 [==============================] - 1s 3ms/step - loss: 0.4908 - accuracy: 0.8393\n",
      "313/313 [==============================] - 1s 4ms/step - loss: 1.1005 - accuracy: 0.6659\n",
      "0.4908144176006317 1.1004542112350464\n",
      "313/313 [==============================] - 1s 3ms/step - loss: 1.0752 - accuracy: 0.6866\n",
      "313/313 [==============================] - 1s 4ms/step - loss: 0.4613 - accuracy: 0.8544\n",
      "1.075210690498352 0.4613015055656433\n",
      "313/313 [==============================] - 1s 3ms/step - loss: 1.1005 - accuracy: 0.6659\n",
      "313/313 [==============================] - 1s 3ms/step - loss: 0.3263 - accuracy: 0.8860\n",
      "1.1004542112350464 0.3263387680053711\n",
      "313/313 [==============================] - 1s 3ms/step - loss: 0.4613 - accuracy: 0.8544\n",
      "313/313 [==============================] - 1s 5ms/step - loss: 0.3279 - accuracy: 0.8855\n",
      "0.4613015055656433 0.32794642448425293\n",
      "313/313 [==============================] - 1s 4ms/step - loss: 0.3536 - accuracy: 0.8780\n",
      "313/313 [==============================] - 1s 3ms/step - loss: 1.0227 - accuracy: 0.7070\n",
      "0.35360366106033325 1.0227069854736328\n",
      "313/313 [==============================] - 1s 3ms/step - loss: 0.4883 - accuracy: 0.8430\n",
      "313/313 [==============================] - 1s 3ms/step - loss: 1.0325 - accuracy: 0.7016\n",
      "0.48827192187309265 1.0325453281402588\n",
      "313/313 [==============================] - 1s 3ms/step - loss: 1.0227 - accuracy: 0.7070\n",
      "313/313 [==============================] - 1s 3ms/step - loss: 0.4571 - accuracy: 0.8579\n",
      "1.0227069854736328 0.4570560157299042\n",
      "313/313 [==============================] - 1s 3ms/step - loss: 1.0325 - accuracy: 0.7016\n",
      "313/313 [==============================] - 1s 3ms/step - loss: 0.3250 - accuracy: 0.8853\n",
      "1.0325453281402588 0.32497039437294006\n",
      "313/313 [==============================] - 1s 3ms/step - loss: 0.4571 - accuracy: 0.8579\n",
      "313/313 [==============================] - 1s 3ms/step - loss: 0.3279 - accuracy: 0.8855\n",
      "0.4570560157299042 0.32794642448425293\n",
      "313/313 [==============================] - 1s 3ms/step - loss: 0.3536 - accuracy: 0.8780\n",
      "313/313 [==============================] - 1s 3ms/step - loss: 0.9789 - accuracy: 0.7183\n",
      "0.35360366106033325 0.9788604378700256\n",
      "313/313 [==============================] - 1s 3ms/step - loss: 0.4870 - accuracy: 0.8469\n",
      "313/313 [==============================] - 1s 3ms/step - loss: 0.9819 - accuracy: 0.7227\n",
      "0.48699936270713806 0.9819296002388\n",
      "313/313 [==============================] - 1s 3ms/step - loss: 0.9789 - accuracy: 0.7183\n",
      "313/313 [==============================] - 1s 3ms/step - loss: 0.4545 - accuracy: 0.8612\n",
      "0.9788604378700256 0.45446717739105225\n",
      "313/313 [==============================] - 1s 3ms/step - loss: 0.9819 - accuracy: 0.7227\n",
      "313/313 [==============================] - 1s 3ms/step - loss: 0.3238 - accuracy: 0.8857\n",
      "0.9819296002388 0.32377567887306213\n",
      "313/313 [==============================] - 1s 3ms/step - loss: 0.4545 - accuracy: 0.8612\n",
      "313/313 [==============================] - 1s 3ms/step - loss: 0.3279 - accuracy: 0.8855\n",
      "0.45446717739105225 0.32794642448425293\n",
      "313/313 [==============================] - 1s 3ms/step - loss: 0.3536 - accuracy: 0.8780\n",
      "313/313 [==============================] - 1s 3ms/step - loss: 0.9411 - accuracy: 0.7315\n",
      "0.35360366106033325 0.9411351680755615\n",
      "313/313 [==============================] - 1s 3ms/step - loss: 0.4865 - accuracy: 0.8496\n",
      "313/313 [==============================] - 1s 3ms/step - loss: 0.9406 - accuracy: 0.7449\n",
      "0.4865380823612213 0.9405737519264221\n",
      "313/313 [==============================] - 1s 3ms/step - loss: 0.9411 - accuracy: 0.7315\n",
      "313/313 [==============================] - 1s 3ms/step - loss: 0.4530 - accuracy: 0.8622\n",
      "0.9411351680755615 0.45299032330513\n",
      "313/313 [==============================] - 1s 3ms/step - loss: 0.9406 - accuracy: 0.7449\n",
      "313/313 [==============================] - 1s 3ms/step - loss: 0.3227 - accuracy: 0.8867\n",
      "0.9405737519264221 0.3227118253707886\n",
      "313/313 [==============================] - 1s 3ms/step - loss: 0.4530 - accuracy: 0.8622\n",
      "313/313 [==============================] - 1s 3ms/step - loss: 0.3279 - accuracy: 0.8855\n",
      "0.45299032330513 0.32794642448425293\n",
      "313/313 [==============================] - 1s 2ms/step - loss: 0.3536 - accuracy: 0.8780\n",
      "313/313 [==============================] - 1s 3ms/step - loss: 0.9080 - accuracy: 0.7449\n",
      "0.35360366106033325 0.9079877138137817\n",
      "313/313 [==============================] - 1s 3ms/step - loss: 0.4865 - accuracy: 0.8525\n",
      "313/313 [==============================] - 1s 3ms/step - loss: 0.9053 - accuracy: 0.7592\n",
      "0.4865358769893646 0.9052863121032715\n",
      "313/313 [==============================] - 1s 2ms/step - loss: 0.9080 - accuracy: 0.7449\n",
      "313/313 [==============================] - 1s 3ms/step - loss: 0.4522 - accuracy: 0.8650\n",
      "0.9079877138137817 0.4521755874156952\n",
      "313/313 [==============================] - 1s 2ms/step - loss: 0.9053 - accuracy: 0.7592\n",
      "313/313 [==============================] - 1s 3ms/step - loss: 0.3218 - accuracy: 0.8877\n",
      "0.9052863121032715 0.3217507302761078\n",
      "313/313 [==============================] - 1s 3ms/step - loss: 0.4522 - accuracy: 0.8650\n",
      "313/313 [==============================] - 1s 3ms/step - loss: 0.3279 - accuracy: 0.8855\n",
      "0.4521755874156952 0.32794642448425293\n",
      "313/313 [==============================] - 1s 3ms/step - loss: 0.3536 - accuracy: 0.8780\n",
      "313/313 [==============================] - 1s 3ms/step - loss: 0.8784 - accuracy: 0.7584\n",
      "0.35360366106033325 0.8784092664718628\n",
      "313/313 [==============================] - 1s 3ms/step - loss: 0.4868 - accuracy: 0.8530\n",
      "313/313 [==============================] - 1s 3ms/step - loss: 0.8744 - accuracy: 0.7725\n",
      "0.4867779314517975 0.874413251876831\n",
      "313/313 [==============================] - 1s 3ms/step - loss: 0.8784 - accuracy: 0.7584\n",
      "313/313 [==============================] - 1s 3ms/step - loss: 0.4518 - accuracy: 0.8664\n",
      "0.8784092664718628 0.45181840658187866\n",
      "313/313 [==============================] - 1s 3ms/step - loss: 0.8744 - accuracy: 0.7725\n",
      "313/313 [==============================] - 1s 3ms/step - loss: 0.3209 - accuracy: 0.8876\n",
      "0.874413251876831 0.3208771347999573\n",
      "313/313 [==============================] - 1s 3ms/step - loss: 0.4518 - accuracy: 0.8664\n",
      "313/313 [==============================] - 1s 2ms/step - loss: 0.3279 - accuracy: 0.8855\n",
      "0.45181840658187866 0.32794642448425293\n",
      "313/313 [==============================] - 1s 3ms/step - loss: 0.3536 - accuracy: 0.8780\n",
      "313/313 [==============================] - 1s 3ms/step - loss: 0.8518 - accuracy: 0.7692\n",
      "0.35360366106033325 0.8517767786979675\n",
      "313/313 [==============================] - 1s 3ms/step - loss: 0.4872 - accuracy: 0.8543\n",
      "313/313 [==============================] - 1s 3ms/step - loss: 0.8470 - accuracy: 0.7793\n",
      "0.48716679215431213 0.8470033407211304\n",
      "313/313 [==============================] - 1s 3ms/step - loss: 0.8518 - accuracy: 0.7692\n",
      "313/313 [==============================] - 1s 3ms/step - loss: 0.4517 - accuracy: 0.8662\n",
      "0.8517767786979675 0.45173823833465576\n",
      "313/313 [==============================] - 1s 3ms/step - loss: 0.8470 - accuracy: 0.7793\n",
      "313/313 [==============================] - 1s 3ms/step - loss: 0.3201 - accuracy: 0.8880\n",
      "0.8470033407211304 0.3200794458389282\n",
      "313/313 [==============================] - 1s 3ms/step - loss: 0.4517 - accuracy: 0.8662\n",
      "313/313 [==============================] - 1s 3ms/step - loss: 0.3279 - accuracy: 0.8855\n",
      "0.45173823833465576 0.32794642448425293\n",
      "313/313 [==============================] - 1s 3ms/step - loss: 0.3536 - accuracy: 0.8780\n",
      "313/313 [==============================] - 1s 3ms/step - loss: 0.8276 - accuracy: 0.7776\n",
      "0.35360366106033325 0.8275938630104065\n",
      "313/313 [==============================] - 1s 3ms/step - loss: 0.4875 - accuracy: 0.8547\n",
      "313/313 [==============================] - 1s 3ms/step - loss: 0.8224 - accuracy: 0.7877\n",
      "0.4875416159629822 0.8223540186882019\n",
      "313/313 [==============================] - 1s 3ms/step - loss: 0.8276 - accuracy: 0.7776\n",
      "313/313 [==============================] - 1s 3ms/step - loss: 0.4518 - accuracy: 0.8655\n",
      "0.8275938630104065 0.4517946243286133\n",
      "313/313 [==============================] - 1s 3ms/step - loss: 0.8224 - accuracy: 0.7877\n",
      "313/313 [==============================] - 1s 3ms/step - loss: 0.3193 - accuracy: 0.8887\n",
      "0.8223540186882019 0.319343626499176\n",
      "313/313 [==============================] - 1s 3ms/step - loss: 0.4518 - accuracy: 0.8655\n",
      "313/313 [==============================] - 1s 3ms/step - loss: 0.3279 - accuracy: 0.8855\n",
      "0.4517946243286133 0.32794642448425293\n",
      "313/313 [==============================] - 1s 3ms/step - loss: 0.3536 - accuracy: 0.8780\n",
      "313/313 [==============================] - 1s 3ms/step - loss: 0.8055 - accuracy: 0.7838\n",
      "0.35360366106033325 0.805507242679596\n",
      "313/313 [==============================] - 1s 3ms/step - loss: 0.4879 - accuracy: 0.8548\n",
      "313/313 [==============================] - 1s 3ms/step - loss: 0.8000 - accuracy: 0.7929\n",
      "0.48787689208984375 0.8000081777572632\n",
      "313/313 [==============================] - 1s 3ms/step - loss: 0.8055 - accuracy: 0.7838\n",
      "313/313 [==============================] - 1s 3ms/step - loss: 0.4519 - accuracy: 0.8643\n",
      "0.805507242679596 0.45192191004753113\n",
      "313/313 [==============================] - 1s 3ms/step - loss: 0.8000 - accuracy: 0.7929\n",
      "313/313 [==============================] - 1s 3ms/step - loss: 0.3187 - accuracy: 0.8891\n",
      "0.8000081777572632 0.31865859031677246\n",
      "313/313 [==============================] - 1s 3ms/step - loss: 0.4519 - accuracy: 0.8643\n",
      "313/313 [==============================] - 1s 3ms/step - loss: 0.3279 - accuracy: 0.8855\n",
      "0.45192191004753113 0.32794642448425293\n",
      "313/313 [==============================] - 1s 3ms/step - loss: 0.3536 - accuracy: 0.8780\n",
      "313/313 [==============================] - 1s 3ms/step - loss: 0.7852 - accuracy: 0.7897\n",
      "0.35360366106033325 0.7851794362068176\n",
      "313/313 [==============================] - 1s 3ms/step - loss: 0.4882 - accuracy: 0.8540\n",
      "313/313 [==============================] - 1s 3ms/step - loss: 0.7796 - accuracy: 0.7958\n",
      "0.4881655275821686 0.7795970439910889\n",
      "313/313 [==============================] - 1s 3ms/step - loss: 0.7852 - accuracy: 0.7897\n",
      "313/313 [==============================] - 1s 3ms/step - loss: 0.4521 - accuracy: 0.8638\n",
      "0.7851794362068176 0.4520666003227234\n",
      "313/313 [==============================] - 1s 3ms/step - loss: 0.7796 - accuracy: 0.7958\n",
      "313/313 [==============================] - 1s 3ms/step - loss: 0.3180 - accuracy: 0.8890\n",
      "0.7795970439910889 0.3180144131183624\n",
      "313/313 [==============================] - 1s 3ms/step - loss: 0.4521 - accuracy: 0.8638\n",
      "313/313 [==============================] - 1s 3ms/step - loss: 0.3279 - accuracy: 0.8855\n",
      "0.4520666003227234 0.32794642448425293\n",
      "313/313 [==============================] - 1s 3ms/step - loss: 0.3536 - accuracy: 0.8780\n",
      "313/313 [==============================] - 1s 3ms/step - loss: 0.7664 - accuracy: 0.7937\n",
      "0.35360366106033325 0.7664185762405396\n",
      "313/313 [==============================] - 1s 3ms/step - loss: 0.4883 - accuracy: 0.8541\n",
      "313/313 [==============================] - 1s 3ms/step - loss: 0.7608 - accuracy: 0.7980\n",
      "0.4883233308792114 0.7608441114425659\n",
      "313/313 [==============================] - 1s 3ms/step - loss: 0.7664 - accuracy: 0.7937\n",
      "313/313 [==============================] - 1s 3ms/step - loss: 0.4522 - accuracy: 0.8627\n",
      "0.7664185762405396 0.45219117403030396\n",
      "313/313 [==============================] - 1s 3ms/step - loss: 0.7608 - accuracy: 0.7980\n",
      "313/313 [==============================] - 1s 3ms/step - loss: 0.3174 - accuracy: 0.8892\n",
      "0.7608441114425659 0.3174101710319519\n",
      "313/313 [==============================] - 1s 3ms/step - loss: 0.4522 - accuracy: 0.8627\n",
      "313/313 [==============================] - 1s 3ms/step - loss: 0.3279 - accuracy: 0.8855\n",
      "0.45219117403030396 0.32794642448425293\n",
      "313/313 [==============================] - 1s 3ms/step - loss: 0.3536 - accuracy: 0.8780\n",
      "313/313 [==============================] - 1s 3ms/step - loss: 0.7491 - accuracy: 0.7963\n",
      "0.35360366106033325 0.7490519285202026\n",
      "313/313 [==============================] - 1s 3ms/step - loss: 0.4883 - accuracy: 0.8536\n",
      "313/313 [==============================] - 1s 3ms/step - loss: 0.7435 - accuracy: 0.8003\n",
      "0.48832017183303833 0.7434907555580139\n",
      "313/313 [==============================] - 1s 3ms/step - loss: 0.7491 - accuracy: 0.7963\n",
      "313/313 [==============================] - 1s 3ms/step - loss: 0.4523 - accuracy: 0.8618\n",
      "0.7490519285202026 0.45231205224990845\n",
      "313/313 [==============================] - 1s 3ms/step - loss: 0.7435 - accuracy: 0.8003\n",
      "313/313 [==============================] - 1s 3ms/step - loss: 0.3168 - accuracy: 0.8893\n",
      "0.7434907555580139 0.31684449315071106\n",
      "313/313 [==============================] - 1s 3ms/step - loss: 0.4523 - accuracy: 0.8618\n",
      "313/313 [==============================] - 1s 3ms/step - loss: 0.3279 - accuracy: 0.8855\n",
      "0.45231205224990845 0.32794642448425293\n",
      "313/313 [==============================] - 1s 3ms/step - loss: 0.3536 - accuracy: 0.8780\n",
      "313/313 [==============================] - 1s 3ms/step - loss: 0.7330 - accuracy: 0.7987\n",
      "0.35360366106033325 0.7329615354537964\n",
      "313/313 [==============================] - 1s 3ms/step - loss: 0.4882 - accuracy: 0.8517\n",
      "313/313 [==============================] - 1s 3ms/step - loss: 0.7274 - accuracy: 0.8033\n",
      "0.4881763160228729 0.7273976802825928\n",
      "313/313 [==============================] - 1s 3ms/step - loss: 0.7330 - accuracy: 0.7987\n",
      "313/313 [==============================] - 1s 3ms/step - loss: 0.4524 - accuracy: 0.8619\n",
      "0.7329615354537964 0.45239198207855225\n",
      "313/313 [==============================] - 1s 3ms/step - loss: 0.7274 - accuracy: 0.8033\n",
      "313/313 [==============================] - 1s 3ms/step - loss: 0.3163 - accuracy: 0.8894\n",
      "0.7273976802825928 0.31631162762641907\n",
      "313/313 [==============================] - 1s 3ms/step - loss: 0.4524 - accuracy: 0.8619\n",
      "313/313 [==============================] - 1s 3ms/step - loss: 0.3279 - accuracy: 0.8855\n",
      "0.45239198207855225 0.32794642448425293\n",
      "313/313 [==============================] - 1s 3ms/step - loss: 0.3536 - accuracy: 0.8780\n",
      "313/313 [==============================] - 1s 3ms/step - loss: 0.7180 - accuracy: 0.8020\n",
      "0.35360366106033325 0.7179978489875793\n",
      "313/313 [==============================] - 1s 3ms/step - loss: 0.4879 - accuracy: 0.8511\n",
      "313/313 [==============================] - 1s 3ms/step - loss: 0.7124 - accuracy: 0.8052\n",
      "0.4879201650619507 0.7124419212341309\n",
      "313/313 [==============================] - 1s 3ms/step - loss: 0.7180 - accuracy: 0.8020\n",
      "313/313 [==============================] - 1s 3ms/step - loss: 0.4524 - accuracy: 0.8616\n",
      "0.7179978489875793 0.4524231553077698\n",
      "313/313 [==============================] - 1s 3ms/step - loss: 0.7124 - accuracy: 0.8052\n",
      "313/313 [==============================] - 1s 3ms/step - loss: 0.3158 - accuracy: 0.8895\n",
      "0.7124419212341309 0.3158080577850342\n",
      "313/313 [==============================] - 1s 3ms/step - loss: 0.4524 - accuracy: 0.8616\n",
      "313/313 [==============================] - 1s 3ms/step - loss: 0.3279 - accuracy: 0.8855\n",
      "0.4524231553077698 0.32794642448425293\n",
      "313/313 [==============================] - 1s 3ms/step - loss: 0.3536 - accuracy: 0.8780\n",
      "313/313 [==============================] - 1s 3ms/step - loss: 0.7041 - accuracy: 0.8044\n",
      "0.35360366106033325 0.7040644884109497\n",
      "313/313 [==============================] - 1s 3ms/step - loss: 0.4875 - accuracy: 0.8516\n",
      "313/313 [==============================] - 1s 3ms/step - loss: 0.6985 - accuracy: 0.8072\n",
      "0.4875369071960449 0.6984896063804626\n",
      "313/313 [==============================] - 1s 3ms/step - loss: 0.7041 - accuracy: 0.8044\n",
      "313/313 [==============================] - 1s 3ms/step - loss: 0.4524 - accuracy: 0.8599\n",
      "0.7040644884109497 0.4523785710334778\n",
      "313/313 [==============================] - 1s 3ms/step - loss: 0.6985 - accuracy: 0.8072\n",
      "313/313 [==============================] - 1s 3ms/step - loss: 0.3153 - accuracy: 0.8898\n",
      "0.6984896063804626 0.3153281807899475\n",
      "313/313 [==============================] - 1s 3ms/step - loss: 0.4524 - accuracy: 0.8599\n",
      "313/313 [==============================] - 1s 3ms/step - loss: 0.3279 - accuracy: 0.8855\n",
      "0.4523785710334778 0.32794642448425293\n",
      "313/313 [==============================] - 1s 3ms/step - loss: 0.3536 - accuracy: 0.8780\n",
      "313/313 [==============================] - 1s 3ms/step - loss: 0.6911 - accuracy: 0.8060\n",
      "0.35360366106033325 0.6910685896873474\n",
      "313/313 [==============================] - 1s 3ms/step - loss: 0.4871 - accuracy: 0.8511\n",
      "313/313 [==============================] - 1s 3ms/step - loss: 0.6855 - accuracy: 0.8086\n",
      "0.48705121874809265 0.685452938079834\n",
      "313/313 [==============================] - 1s 3ms/step - loss: 0.6911 - accuracy: 0.8060\n",
      "313/313 [==============================] - 1s 3ms/step - loss: 0.4522 - accuracy: 0.8598\n",
      "0.6910685896873474 0.4522410035133362\n",
      "313/313 [==============================] - 1s 3ms/step - loss: 0.6855 - accuracy: 0.8086\n",
      "313/313 [==============================] - 1s 3ms/step - loss: 0.3149 - accuracy: 0.8902\n",
      "0.685452938079834 0.31486621499061584\n",
      "313/313 [==============================] - 1s 3ms/step - loss: 0.4522 - accuracy: 0.8598\n",
      "313/313 [==============================] - 1s 3ms/step - loss: 0.3279 - accuracy: 0.8855\n",
      "0.4522410035133362 0.32794642448425293\n",
      "313/313 [==============================] - 1s 4ms/step - loss: 0.3536 - accuracy: 0.8780\n",
      "313/313 [==============================] - 1s 3ms/step - loss: 0.6789 - accuracy: 0.8079\n",
      "0.35360366106033325 0.6789264678955078\n",
      "313/313 [==============================] - 1s 3ms/step - loss: 0.4865 - accuracy: 0.8510\n",
      "313/313 [==============================] - 1s 3ms/step - loss: 0.6733 - accuracy: 0.8111\n",
      "0.4864720106124878 0.673258364200592\n",
      "313/313 [==============================] - 1s 3ms/step - loss: 0.6789 - accuracy: 0.8079\n",
      "313/313 [==============================] - 1s 3ms/step - loss: 0.4520 - accuracy: 0.8592\n",
      "0.6789264678955078 0.4520243704319\n",
      "313/313 [==============================] - 1s 3ms/step - loss: 0.6733 - accuracy: 0.8111\n",
      "313/313 [==============================] - 1s 3ms/step - loss: 0.3144 - accuracy: 0.8904\n",
      "0.673258364200592 0.3144240379333496\n",
      "313/313 [==============================] - 1s 3ms/step - loss: 0.4520 - accuracy: 0.8592\n",
      "313/313 [==============================] - 1s 3ms/step - loss: 0.3279 - accuracy: 0.8855\n",
      "0.4520243704319 0.32794642448425293\n",
      "313/313 [==============================] - 1s 3ms/step - loss: 0.3536 - accuracy: 0.8780\n",
      "313/313 [==============================] - 1s 2ms/step - loss: 0.6676 - accuracy: 0.8099\n",
      "0.35360366106033325 0.6675770282745361\n",
      "313/313 [==============================] - 1s 2ms/step - loss: 0.4858 - accuracy: 0.8509\n",
      "313/313 [==============================] - 1s 2ms/step - loss: 0.6618 - accuracy: 0.8123\n",
      "0.4857773780822754 0.6618496775627136\n",
      "313/313 [==============================] - 1s 2ms/step - loss: 0.6676 - accuracy: 0.8099\n",
      "313/313 [==============================] - 1s 2ms/step - loss: 0.4517 - accuracy: 0.8590\n",
      "0.6675770282745361 0.45173266530036926\n",
      "313/313 [==============================] - 1s 2ms/step - loss: 0.6618 - accuracy: 0.8123\n",
      "313/313 [==============================] - 1s 3ms/step - loss: 0.3140 - accuracy: 0.8902\n",
      "0.6618496775627136 0.3139992356300354\n",
      "313/313 [==============================] - 1s 3ms/step - loss: 0.4517 - accuracy: 0.8590\n",
      "313/313 [==============================] - 1s 3ms/step - loss: 0.3279 - accuracy: 0.8855\n",
      "0.45173266530036926 0.32794642448425293\n",
      "313/313 [==============================] - 1s 3ms/step - loss: 0.3536 - accuracy: 0.8780\n",
      "313/313 [==============================] - 1s 3ms/step - loss: 0.6569 - accuracy: 0.8118\n",
      "0.35360366106033325 0.6569371819496155\n",
      "313/313 [==============================] - 1s 3ms/step - loss: 0.4850 - accuracy: 0.8516\n",
      "313/313 [==============================] - 1s 3ms/step - loss: 0.6512 - accuracy: 0.8132\n",
      "0.48498964309692383 0.6511761546134949\n",
      "313/313 [==============================] - 1s 3ms/step - loss: 0.6569 - accuracy: 0.8118\n",
      "313/313 [==============================] - 1s 3ms/step - loss: 0.4514 - accuracy: 0.8587\n",
      "0.6569371819496155 0.4513799250125885\n",
      "313/313 [==============================] - 1s 3ms/step - loss: 0.6512 - accuracy: 0.8132\n",
      "313/313 [==============================] - 1s 3ms/step - loss: 0.3136 - accuracy: 0.8909\n",
      "0.6511761546134949 0.31358781456947327\n",
      "313/313 [==============================] - 1s 3ms/step - loss: 0.4514 - accuracy: 0.8587\n",
      "313/313 [==============================] - 1s 3ms/step - loss: 0.3279 - accuracy: 0.8855\n",
      "0.4513799250125885 0.32794642448425293\n",
      "313/313 [==============================] - 1s 3ms/step - loss: 0.3536 - accuracy: 0.8780\n",
      "313/313 [==============================] - 1s 4ms/step - loss: 0.6469 - accuracy: 0.8134\n",
      "0.35360366106033325 0.6469301581382751\n",
      "313/313 [==============================] - 1s 3ms/step - loss: 0.4841 - accuracy: 0.8512\n",
      "313/313 [==============================] - 1s 3ms/step - loss: 0.6412 - accuracy: 0.8138\n",
      "0.4840995669364929 0.6411581039428711\n",
      "313/313 [==============================] - 1s 3ms/step - loss: 0.6469 - accuracy: 0.8134\n",
      "313/313 [==============================] - 1s 3ms/step - loss: 0.4510 - accuracy: 0.8583\n",
      "0.6469301581382751 0.4509700536727905\n",
      "313/313 [==============================] - 1s 3ms/step - loss: 0.6412 - accuracy: 0.8138\n",
      "313/313 [==============================] - 1s 3ms/step - loss: 0.3132 - accuracy: 0.8909\n",
      "0.6411581039428711 0.313190758228302\n",
      "313/313 [==============================] - 1s 3ms/step - loss: 0.4510 - accuracy: 0.8583\n",
      "313/313 [==============================] - 1s 3ms/step - loss: 0.3279 - accuracy: 0.8855\n",
      "0.4509700536727905 0.32794642448425293\n",
      "313/313 [==============================] - 1s 3ms/step - loss: 0.3536 - accuracy: 0.8780\n",
      "313/313 [==============================] - 1s 3ms/step - loss: 0.6375 - accuracy: 0.8149\n",
      "0.35360366106033325 0.6375176310539246\n",
      "313/313 [==============================] - 1s 3ms/step - loss: 0.4831 - accuracy: 0.8509\n",
      "313/313 [==============================] - 1s 3ms/step - loss: 0.6317 - accuracy: 0.8145\n",
      "0.48311614990234375 0.6317393779754639\n",
      "313/313 [==============================] - 1s 3ms/step - loss: 0.6375 - accuracy: 0.8149\n",
      "313/313 [==============================] - 1s 3ms/step - loss: 0.4505 - accuracy: 0.8582\n",
      "0.6375176310539246 0.4504857361316681\n",
      "313/313 [==============================] - 1s 4ms/step - loss: 0.6317 - accuracy: 0.8145\n",
      "313/313 [==============================] - 1s 3ms/step - loss: 0.3128 - accuracy: 0.8910\n",
      "0.6317393779754639 0.3128083348274231\n",
      "313/313 [==============================] - 1s 3ms/step - loss: 0.4505 - accuracy: 0.8582\n",
      "313/313 [==============================] - 1s 3ms/step - loss: 0.3279 - accuracy: 0.8855\n",
      "0.4504857361316681 0.32794642448425293\n",
      "313/313 [==============================] - 1s 4ms/step - loss: 0.3536 - accuracy: 0.8780\n",
      "313/313 [==============================] - 1s 3ms/step - loss: 0.6286 - accuracy: 0.8159\n",
      "0.35360366106033325 0.628646194934845\n",
      "313/313 [==============================] - 1s 3ms/step - loss: 0.4821 - accuracy: 0.8512\n",
      "313/313 [==============================] - 1s 3ms/step - loss: 0.6229 - accuracy: 0.8153\n",
      "0.4820508658885956 0.6228814721107483\n",
      "313/313 [==============================] - 1s 3ms/step - loss: 0.6286 - accuracy: 0.8159\n",
      "313/313 [==============================] - 1s 3ms/step - loss: 0.4499 - accuracy: 0.8583\n",
      "0.628646194934845 0.44992777705192566\n",
      "313/313 [==============================] - 1s 3ms/step - loss: 0.6229 - accuracy: 0.8153\n",
      "313/313 [==============================] - 1s 3ms/step - loss: 0.3124 - accuracy: 0.8911\n",
      "0.6228814721107483 0.31243759393692017\n",
      "313/313 [==============================] - 1s 3ms/step - loss: 0.4499 - accuracy: 0.8583\n",
      "313/313 [==============================] - 1s 3ms/step - loss: 0.3279 - accuracy: 0.8855\n",
      "0.44992777705192566 0.32794642448425293\n",
      "313/313 [==============================] - 1s 3ms/step - loss: 0.3536 - accuracy: 0.8780\n",
      "313/313 [==============================] - 1s 3ms/step - loss: 0.6203 - accuracy: 0.8163\n",
      "0.35360366106033325 0.6202943325042725\n",
      "313/313 [==============================] - 1s 3ms/step - loss: 0.4809 - accuracy: 0.8510\n",
      "313/313 [==============================] - 1s 3ms/step - loss: 0.6145 - accuracy: 0.8163\n",
      "0.4809071719646454 0.6145411133766174\n",
      "313/313 [==============================] - 1s 3ms/step - loss: 0.6203 - accuracy: 0.8163\n",
      "313/313 [==============================] - 1s 3ms/step - loss: 0.4493 - accuracy: 0.8584\n",
      "0.6202943325042725 0.4492967426776886\n",
      "313/313 [==============================] - 1s 3ms/step - loss: 0.6145 - accuracy: 0.8163\n",
      "313/313 [==============================] - 1s 3ms/step - loss: 0.3121 - accuracy: 0.8912\n",
      "0.6145411133766174 0.3120765686035156\n",
      "313/313 [==============================] - 1s 3ms/step - loss: 0.4493 - accuracy: 0.8584\n",
      "313/313 [==============================] - 1s 3ms/step - loss: 0.3279 - accuracy: 0.8855\n",
      "0.4492967426776886 0.32794642448425293\n",
      "313/313 [==============================] - 1s 3ms/step - loss: 0.3536 - accuracy: 0.8780\n",
      "313/313 [==============================] - 1s 3ms/step - loss: 0.6124 - accuracy: 0.8174\n",
      "0.35360366106033325 0.61240553855896\n",
      "313/313 [==============================] - 1s 3ms/step - loss: 0.4797 - accuracy: 0.8509\n",
      "313/313 [==============================] - 1s 3ms/step - loss: 0.6067 - accuracy: 0.8172\n",
      "0.47969701886177063 0.6066713929176331\n",
      "313/313 [==============================] - 1s 3ms/step - loss: 0.6124 - accuracy: 0.8174\n",
      "313/313 [==============================] - 1s 4ms/step - loss: 0.4486 - accuracy: 0.8582\n",
      "0.61240553855896 0.4486260712146759\n",
      "313/313 [==============================] - 1s 3ms/step - loss: 0.6067 - accuracy: 0.8172\n",
      "313/313 [==============================] - 1s 3ms/step - loss: 0.3117 - accuracy: 0.8912\n",
      "0.6066713929176331 0.3117302656173706\n",
      "313/313 [==============================] - 1s 3ms/step - loss: 0.4486 - accuracy: 0.8582\n",
      "313/313 [==============================] - 1s 3ms/step - loss: 0.3279 - accuracy: 0.8855\n",
      "0.4486260712146759 0.32794642448425293\n",
      "313/313 [==============================] - 1s 3ms/step - loss: 0.3536 - accuracy: 0.8780\n",
      "313/313 [==============================] - 1s 3ms/step - loss: 0.6050 - accuracy: 0.8177\n",
      "0.35360366106033325 0.6049514412879944\n",
      "313/313 [==============================] - 1s 3ms/step - loss: 0.4784 - accuracy: 0.8503\n",
      "313/313 [==============================] - 1s 3ms/step - loss: 0.5992 - accuracy: 0.8182\n",
      "0.47843387722969055 0.5992456078529358\n",
      "313/313 [==============================] - 1s 3ms/step - loss: 0.6050 - accuracy: 0.8177\n",
      "313/313 [==============================] - 1s 3ms/step - loss: 0.4479 - accuracy: 0.8572\n",
      "0.6049514412879944 0.44790083169937134\n",
      "313/313 [==============================] - 1s 3ms/step - loss: 0.5992 - accuracy: 0.8182\n",
      "313/313 [==============================] - 1s 3ms/step - loss: 0.3114 - accuracy: 0.8912\n",
      "0.5992456078529358 0.31139397621154785\n",
      "313/313 [==============================] - 1s 3ms/step - loss: 0.4479 - accuracy: 0.8572\n",
      "313/313 [==============================] - 1s 3ms/step - loss: 0.3279 - accuracy: 0.8855\n",
      "0.44790083169937134 0.32794642448425293\n",
      "313/313 [==============================] - 1s 3ms/step - loss: 0.3536 - accuracy: 0.8780\n",
      "313/313 [==============================] - 1s 3ms/step - loss: 0.5979 - accuracy: 0.8185\n",
      "0.35360366106033325 0.5978943705558777\n",
      "313/313 [==============================] - 1s 3ms/step - loss: 0.4771 - accuracy: 0.8497\n",
      "313/313 [==============================] - 1s 3ms/step - loss: 0.5922 - accuracy: 0.8200\n",
      "0.477112352848053 0.5922313332557678\n",
      "313/313 [==============================] - 1s 3ms/step - loss: 0.5979 - accuracy: 0.8185\n",
      "313/313 [==============================] - 1s 3ms/step - loss: 0.4471 - accuracy: 0.8574\n",
      "0.5978943705558777 0.44714394211769104\n",
      "313/313 [==============================] - 1s 3ms/step - loss: 0.5922 - accuracy: 0.8200\n",
      "313/313 [==============================] - 1s 3ms/step - loss: 0.3111 - accuracy: 0.8913\n",
      "0.5922313332557678 0.3110668659210205\n",
      "313/313 [==============================] - 1s 3ms/step - loss: 0.4471 - accuracy: 0.8574\n",
      "313/313 [==============================] - 1s 3ms/step - loss: 0.3279 - accuracy: 0.8855\n",
      "0.44714394211769104 0.32794642448425293\n",
      "313/313 [==============================] - 1s 3ms/step - loss: 0.3536 - accuracy: 0.8780\n",
      "313/313 [==============================] - 1s 3ms/step - loss: 0.5912 - accuracy: 0.8193\n",
      "0.35360366106033325 0.5912095904350281\n",
      "313/313 [==============================] - 1s 3ms/step - loss: 0.4758 - accuracy: 0.8496\n",
      "313/313 [==============================] - 1s 3ms/step - loss: 0.5856 - accuracy: 0.8209\n",
      "0.47575005888938904 0.5855955481529236\n",
      "313/313 [==============================] - 1s 3ms/step - loss: 0.5912 - accuracy: 0.8193\n",
      "313/313 [==============================] - 1s 3ms/step - loss: 0.4463 - accuracy: 0.8575\n",
      "0.5912095904350281 0.4463438391685486\n",
      "313/313 [==============================] - 1s 3ms/step - loss: 0.5856 - accuracy: 0.8209\n",
      "313/313 [==============================] - 1s 3ms/step - loss: 0.3107 - accuracy: 0.8917\n",
      "0.5855955481529236 0.3107466995716095\n",
      "313/313 [==============================] - 1s 3ms/step - loss: 0.4463 - accuracy: 0.8575\n",
      "313/313 [==============================] - 1s 3ms/step - loss: 0.3279 - accuracy: 0.8855\n",
      "0.4463438391685486 0.32794642448425293\n",
      "313/313 [==============================] - 1s 3ms/step - loss: 0.3536 - accuracy: 0.8780\n",
      "313/313 [==============================] - 1s 3ms/step - loss: 0.5849 - accuracy: 0.8202\n",
      "0.35360366106033325 0.5848719477653503\n",
      "313/313 [==============================] - 1s 3ms/step - loss: 0.4744 - accuracy: 0.8498\n",
      "313/313 [==============================] - 1s 3ms/step - loss: 0.5793 - accuracy: 0.8211\n",
      "0.4743601679801941 0.5793112516403198\n",
      "313/313 [==============================] - 1s 3ms/step - loss: 0.5849 - accuracy: 0.8202\n",
      "313/313 [==============================] - 1s 3ms/step - loss: 0.4455 - accuracy: 0.8572\n",
      "0.5848719477653503 0.44552499055862427\n",
      "313/313 [==============================] - 1s 3ms/step - loss: 0.5793 - accuracy: 0.8211\n",
      "313/313 [==============================] - 1s 3ms/step - loss: 0.3104 - accuracy: 0.8919\n",
      "0.5793112516403198 0.31043481826782227\n",
      "313/313 [==============================] - 1s 3ms/step - loss: 0.4455 - accuracy: 0.8572\n",
      "313/313 [==============================] - 1s 3ms/step - loss: 0.3279 - accuracy: 0.8855\n",
      "0.44552499055862427 0.32794642448425293\n",
      "313/313 [==============================] - 1s 3ms/step - loss: 0.3536 - accuracy: 0.8780\n",
      "313/313 [==============================] - 1s 3ms/step - loss: 0.5789 - accuracy: 0.8209\n",
      "0.35360366106033325 0.5788580775260925\n",
      "313/313 [==============================] - 1s 3ms/step - loss: 0.4729 - accuracy: 0.8497\n",
      "313/313 [==============================] - 1s 3ms/step - loss: 0.5734 - accuracy: 0.8223\n",
      "0.47294434905052185 0.5733619332313538\n",
      "313/313 [==============================] - 1s 3ms/step - loss: 0.5789 - accuracy: 0.8209\n",
      "313/313 [==============================] - 1s 3ms/step - loss: 0.4447 - accuracy: 0.8569\n",
      "0.5788580775260925 0.44467392563819885\n",
      "313/313 [==============================] - 1s 3ms/step - loss: 0.5734 - accuracy: 0.8223\n",
      "313/313 [==============================] - 1s 3ms/step - loss: 0.3101 - accuracy: 0.8922\n",
      "0.5733619332313538 0.3101310431957245\n",
      "313/313 [==============================] - 1s 3ms/step - loss: 0.4447 - accuracy: 0.8569\n",
      "313/313 [==============================] - 1s 3ms/step - loss: 0.3279 - accuracy: 0.8855\n",
      "0.44467392563819885 0.32794642448425293\n",
      "313/313 [==============================] - 1s 3ms/step - loss: 0.3536 - accuracy: 0.8780\n",
      "313/313 [==============================] - 1s 3ms/step - loss: 0.5731 - accuracy: 0.8208\n",
      "0.35360366106033325 0.5731472373008728\n",
      "313/313 [==============================] - 1s 3ms/step - loss: 0.4715 - accuracy: 0.8492\n",
      "313/313 [==============================] - 1s 3ms/step - loss: 0.5677 - accuracy: 0.8230\n",
      "0.47152459621429443 0.5677245259284973\n",
      "313/313 [==============================] - 1s 3ms/step - loss: 0.5731 - accuracy: 0.8208\n",
      "313/313 [==============================] - 1s 3ms/step - loss: 0.4438 - accuracy: 0.8567\n",
      "0.5731472373008728 0.4437935948371887\n",
      "313/313 [==============================] - 1s 3ms/step - loss: 0.5677 - accuracy: 0.8230\n",
      "313/313 [==============================] - 1s 3ms/step - loss: 0.3098 - accuracy: 0.8926\n",
      "0.5677245259284973 0.30983471870422363\n",
      "313/313 [==============================] - 1s 3ms/step - loss: 0.4438 - accuracy: 0.8567\n",
      "313/313 [==============================] - 1s 3ms/step - loss: 0.3279 - accuracy: 0.8855\n",
      "0.4437935948371887 0.32794642448425293\n",
      "313/313 [==============================] - 1s 3ms/step - loss: 0.3536 - accuracy: 0.8780\n",
      "313/313 [==============================] - 1s 3ms/step - loss: 0.5677 - accuracy: 0.8226\n",
      "0.35360366106033325 0.5677200555801392\n",
      "313/313 [==============================] - 1s 3ms/step - loss: 0.4701 - accuracy: 0.8495\n",
      "313/313 [==============================] - 1s 3ms/step - loss: 0.5624 - accuracy: 0.8235\n",
      "0.47009730339050293 0.5623763799667358\n",
      "313/313 [==============================] - 1s 3ms/step - loss: 0.5677 - accuracy: 0.8226\n",
      "313/313 [==============================] - 1s 3ms/step - loss: 0.4429 - accuracy: 0.8566\n",
      "0.5677200555801392 0.442875474691391\n",
      "313/313 [==============================] - 1s 3ms/step - loss: 0.5624 - accuracy: 0.8235\n",
      "313/313 [==============================] - 1s 3ms/step - loss: 0.3095 - accuracy: 0.8927\n",
      "0.5623763799667358 0.30954378843307495\n",
      "313/313 [==============================] - 1s 3ms/step - loss: 0.4429 - accuracy: 0.8566\n",
      "313/313 [==============================] - 1s 3ms/step - loss: 0.3279 - accuracy: 0.8855\n",
      "0.442875474691391 0.32794642448425293\n",
      "313/313 [==============================] - 1s 3ms/step - loss: 0.3536 - accuracy: 0.8780\n",
      "313/313 [==============================] - 1s 3ms/step - loss: 0.5626 - accuracy: 0.8226\n",
      "0.35360366106033325 0.5625583529472351\n",
      "313/313 [==============================] - 1s 3ms/step - loss: 0.4687 - accuracy: 0.8494\n",
      "313/313 [==============================] - 1s 3ms/step - loss: 0.5573 - accuracy: 0.8248\n",
      "0.468654602766037 0.5572934746742249\n",
      "313/313 [==============================] - 1s 3ms/step - loss: 0.5626 - accuracy: 0.8226\n",
      "313/313 [==============================] - 1s 3ms/step - loss: 0.4419 - accuracy: 0.8568\n",
      "0.5625583529472351 0.4419330060482025\n",
      "313/313 [==============================] - 1s 3ms/step - loss: 0.5573 - accuracy: 0.8248\n",
      "313/313 [==============================] - 1s 3ms/step - loss: 0.3093 - accuracy: 0.8927\n",
      "0.5572934746742249 0.30926117300987244\n",
      "313/313 [==============================] - 1s 3ms/step - loss: 0.4419 - accuracy: 0.8568\n",
      "313/313 [==============================] - 1s 3ms/step - loss: 0.3279 - accuracy: 0.8855\n",
      "0.4419330060482025 0.32794642448425293\n",
      "313/313 [==============================] - 1s 3ms/step - loss: 0.3536 - accuracy: 0.8780\n",
      "313/313 [==============================] - 1s 4ms/step - loss: 0.5577 - accuracy: 0.8227\n",
      "0.35360366106033325 0.5576524138450623\n",
      "313/313 [==============================] - 1s 3ms/step - loss: 0.4672 - accuracy: 0.8499\n",
      "313/313 [==============================] - 1s 3ms/step - loss: 0.5525 - accuracy: 0.8257\n",
      "0.4672328531742096 0.5524576306343079\n",
      "313/313 [==============================] - 1s 3ms/step - loss: 0.5577 - accuracy: 0.8227\n",
      "313/313 [==============================] - 1s 3ms/step - loss: 0.4410 - accuracy: 0.8570\n",
      "0.5576524138450623 0.4409774839878082\n",
      "313/313 [==============================] - 1s 3ms/step - loss: 0.5525 - accuracy: 0.8257\n",
      "313/313 [==============================] - 1s 3ms/step - loss: 0.3090 - accuracy: 0.8927\n",
      "0.5524576306343079 0.3089846074581146\n",
      "313/313 [==============================] - 1s 3ms/step - loss: 0.4410 - accuracy: 0.8570\n",
      "313/313 [==============================] - 1s 3ms/step - loss: 0.3279 - accuracy: 0.8855\n",
      "0.4409774839878082 0.32794642448425293\n",
      "313/313 [==============================] - 1s 3ms/step - loss: 0.3536 - accuracy: 0.8780\n",
      "313/313 [==============================] - 1s 3ms/step - loss: 0.5530 - accuracy: 0.8240\n",
      "0.35360366106033325 0.5529800057411194\n",
      "313/313 [==============================] - 1s 3ms/step - loss: 0.4658 - accuracy: 0.8499\n",
      "313/313 [==============================] - 1s 3ms/step - loss: 0.5478 - accuracy: 0.8266\n",
      "0.46581757068634033 0.5478461980819702\n",
      "313/313 [==============================] - 1s 3ms/step - loss: 0.5530 - accuracy: 0.8240\n",
      "313/313 [==============================] - 1s 3ms/step - loss: 0.4400 - accuracy: 0.8567\n",
      "0.5529800057411194 0.4400152862071991\n",
      "313/313 [==============================] - 1s 3ms/step - loss: 0.5478 - accuracy: 0.8266\n",
      "313/313 [==============================] - 1s 3ms/step - loss: 0.3087 - accuracy: 0.8927\n",
      "0.5478461980819702 0.30871421098709106\n",
      "313/313 [==============================] - 1s 3ms/step - loss: 0.4400 - accuracy: 0.8567\n",
      "313/313 [==============================] - 1s 3ms/step - loss: 0.3279 - accuracy: 0.8855\n",
      "0.4400152862071991 0.32794642448425293\n",
      "313/313 [==============================] - 1s 3ms/step - loss: 0.3536 - accuracy: 0.8780\n",
      "313/313 [==============================] - 1s 3ms/step - loss: 0.5485 - accuracy: 0.8242\n",
      "0.35360366106033325 0.5485368967056274\n",
      "313/313 [==============================] - 1s 3ms/step - loss: 0.4644 - accuracy: 0.8498\n",
      "313/313 [==============================] - 1s 3ms/step - loss: 0.5434 - accuracy: 0.8276\n",
      "0.4644041955471039 0.5434470772743225\n",
      "313/313 [==============================] - 1s 3ms/step - loss: 0.5485 - accuracy: 0.8242\n",
      "313/313 [==============================] - 1s 3ms/step - loss: 0.4390 - accuracy: 0.8572\n",
      "0.5485368967056274 0.4390416443347931\n",
      "313/313 [==============================] - 1s 3ms/step - loss: 0.5434 - accuracy: 0.8276\n",
      "313/313 [==============================] - 1s 3ms/step - loss: 0.3084 - accuracy: 0.8928\n",
      "0.5434470772743225 0.30844977498054504\n",
      "313/313 [==============================] - 1s 3ms/step - loss: 0.4390 - accuracy: 0.8572\n",
      "313/313 [==============================] - 1s 3ms/step - loss: 0.3279 - accuracy: 0.8855\n",
      "0.4390416443347931 0.32794642448425293\n",
      "313/313 [==============================] - 1s 3ms/step - loss: 0.3536 - accuracy: 0.8780\n",
      "313/313 [==============================] - 1s 3ms/step - loss: 0.5443 - accuracy: 0.8255\n",
      "0.35360366106033325 0.5443010330200195\n",
      "313/313 [==============================] - 1s 3ms/step - loss: 0.4630 - accuracy: 0.8499\n",
      "313/313 [==============================] - 1s 3ms/step - loss: 0.5393 - accuracy: 0.8279\n",
      "0.4630075693130493 0.5392520427703857\n",
      "313/313 [==============================] - 1s 3ms/step - loss: 0.5443 - accuracy: 0.8255\n",
      "313/313 [==============================] - 1s 3ms/step - loss: 0.4381 - accuracy: 0.8573\n",
      "0.5443010330200195 0.438052773475647\n",
      "313/313 [==============================] - 1s 3ms/step - loss: 0.5393 - accuracy: 0.8279\n",
      "313/313 [==============================] - 1s 3ms/step - loss: 0.3082 - accuracy: 0.8929\n",
      "0.5392520427703857 0.3081904649734497\n",
      "313/313 [==============================] - 1s 3ms/step - loss: 0.4381 - accuracy: 0.8573\n",
      "313/313 [==============================] - 1s 3ms/step - loss: 0.3279 - accuracy: 0.8855\n",
      "0.438052773475647 0.32794642448425293\n",
      "313/313 [==============================] - 1s 3ms/step - loss: 0.3536 - accuracy: 0.8780\n",
      "313/313 [==============================] - 1s 3ms/step - loss: 0.5403 - accuracy: 0.8268\n",
      "0.35360366106033325 0.5402683615684509\n",
      "313/313 [==============================] - 1s 3ms/step - loss: 0.4616 - accuracy: 0.8507\n",
      "313/313 [==============================] - 1s 3ms/step - loss: 0.5352 - accuracy: 0.8284\n",
      "0.46163085103034973 0.5352424383163452\n",
      "313/313 [==============================] - 1s 3ms/step - loss: 0.5403 - accuracy: 0.8268\n",
      "313/313 [==============================] - 1s 3ms/step - loss: 0.4371 - accuracy: 0.8572\n",
      "0.5402683615684509 0.43706420063972473\n",
      "313/313 [==============================] - 1s 3ms/step - loss: 0.5352 - accuracy: 0.8284\n",
      "313/313 [==============================] - 1s 3ms/step - loss: 0.3079 - accuracy: 0.8930\n",
      "0.5352424383163452 0.3079380393028259\n",
      "313/313 [==============================] - 1s 3ms/step - loss: 0.4371 - accuracy: 0.8572\n",
      "313/313 [==============================] - 1s 3ms/step - loss: 0.3279 - accuracy: 0.8855\n",
      "0.43706420063972473 0.32794642448425293\n",
      "313/313 [==============================] - 1s 3ms/step - loss: 0.3536 - accuracy: 0.8780\n",
      "313/313 [==============================] - 1s 3ms/step - loss: 0.5364 - accuracy: 0.8273\n",
      "0.35360366106033325 0.5364254713058472\n",
      "313/313 [==============================] - 1s 3ms/step - loss: 0.4603 - accuracy: 0.8502\n",
      "313/313 [==============================] - 1s 3ms/step - loss: 0.5314 - accuracy: 0.8296\n",
      "0.46026870608329773 0.5314112305641174\n",
      "313/313 [==============================] - 1s 3ms/step - loss: 0.5364 - accuracy: 0.8273\n",
      "313/313 [==============================] - 1s 3ms/step - loss: 0.4361 - accuracy: 0.8570\n",
      "0.5364254713058472 0.4360698163509369\n",
      "313/313 [==============================] - 1s 3ms/step - loss: 0.5314 - accuracy: 0.8296\n",
      "313/313 [==============================] - 1s 3ms/step - loss: 0.3077 - accuracy: 0.8929\n",
      "0.5314112305641174 0.30769455432891846\n",
      "313/313 [==============================] - 1s 3ms/step - loss: 0.4361 - accuracy: 0.8570\n",
      "313/313 [==============================] - 1s 3ms/step - loss: 0.3279 - accuracy: 0.8855\n",
      "0.4360698163509369 0.32794642448425293\n",
      "313/313 [==============================] - 1s 3ms/step - loss: 0.3536 - accuracy: 0.8780\n",
      "313/313 [==============================] - 1s 3ms/step - loss: 0.5328 - accuracy: 0.8279\n",
      "0.35360366106033325 0.5327597856521606\n",
      "313/313 [==============================] - 1s 3ms/step - loss: 0.4589 - accuracy: 0.8498\n",
      "313/313 [==============================] - 1s 3ms/step - loss: 0.5277 - accuracy: 0.8302\n",
      "0.4589192867279053 0.5277486443519592\n",
      "313/313 [==============================] - 1s 3ms/step - loss: 0.5328 - accuracy: 0.8279\n",
      "313/313 [==============================] - 1s 3ms/step - loss: 0.4351 - accuracy: 0.8568\n",
      "0.5327597856521606 0.43508583307266235\n",
      "313/313 [==============================] - 1s 3ms/step - loss: 0.5277 - accuracy: 0.8302\n",
      "313/313 [==============================] - 1s 3ms/step - loss: 0.3075 - accuracy: 0.8929\n",
      "0.5277486443519592 0.3074558973312378\n",
      "313/313 [==============================] - 1s 3ms/step - loss: 0.4351 - accuracy: 0.8568\n",
      "313/313 [==============================] - 1s 3ms/step - loss: 0.3279 - accuracy: 0.8855\n",
      "0.43508583307266235 0.32794642448425293\n",
      "313/313 [==============================] - 1s 3ms/step - loss: 0.3536 - accuracy: 0.8780\n",
      "313/313 [==============================] - 1s 3ms/step - loss: 0.5293 - accuracy: 0.8286\n",
      "0.35360366106033325 0.5292602777481079\n",
      "313/313 [==============================] - 1s 3ms/step - loss: 0.4576 - accuracy: 0.8503\n",
      "313/313 [==============================] - 1s 3ms/step - loss: 0.5242 - accuracy: 0.8305\n",
      "0.457599401473999 0.5242422223091125\n",
      "313/313 [==============================] - 1s 3ms/step - loss: 0.5293 - accuracy: 0.8286\n",
      "313/313 [==============================] - 1s 3ms/step - loss: 0.4341 - accuracy: 0.8570\n",
      "0.5292602777481079 0.43410640954971313\n",
      "313/313 [==============================] - 1s 3ms/step - loss: 0.5242 - accuracy: 0.8305\n",
      "313/313 [==============================] - 1s 3ms/step - loss: 0.3072 - accuracy: 0.8930\n",
      "0.5242422223091125 0.3072212338447571\n",
      "313/313 [==============================] - 1s 3ms/step - loss: 0.4341 - accuracy: 0.8570\n",
      "313/313 [==============================] - 1s 3ms/step - loss: 0.3279 - accuracy: 0.8855\n",
      "0.43410640954971313 0.32794642448425293\n",
      "313/313 [==============================] - 1s 3ms/step - loss: 0.3536 - accuracy: 0.8780\n",
      "313/313 [==============================] - 1s 3ms/step - loss: 0.5259 - accuracy: 0.8288\n",
      "0.35360366106033325 0.5259223580360413\n",
      "313/313 [==============================] - 1s 3ms/step - loss: 0.4563 - accuracy: 0.8502\n",
      "313/313 [==============================] - 1s 3ms/step - loss: 0.5209 - accuracy: 0.8307\n",
      "0.45630037784576416 0.5208831429481506\n",
      "313/313 [==============================] - 1s 3ms/step - loss: 0.5259 - accuracy: 0.8288\n",
      "313/313 [==============================] - 1s 3ms/step - loss: 0.4331 - accuracy: 0.8574\n",
      "0.5259223580360413 0.4331323206424713\n",
      "313/313 [==============================] - 1s 3ms/step - loss: 0.5209 - accuracy: 0.8307\n",
      "313/313 [==============================] - 1s 3ms/step - loss: 0.3070 - accuracy: 0.8932\n",
      "0.5208831429481506 0.3069925010204315\n",
      "313/313 [==============================] - 1s 3ms/step - loss: 0.4331 - accuracy: 0.8574\n",
      "313/313 [==============================] - 1s 3ms/step - loss: 0.3279 - accuracy: 0.8855\n",
      "0.4331323206424713 0.32794642448425293\n",
      "313/313 [==============================] - 1s 3ms/step - loss: 0.3536 - accuracy: 0.8780\n",
      "313/313 [==============================] - 1s 3ms/step - loss: 0.5227 - accuracy: 0.8292\n",
      "0.35360366106033325 0.5227314829826355\n",
      "313/313 [==============================] - 1s 3ms/step - loss: 0.4550 - accuracy: 0.8505\n",
      "313/313 [==============================] - 1s 3ms/step - loss: 0.5177 - accuracy: 0.8318\n",
      "0.4550367295742035 0.5176704525947571\n",
      "313/313 [==============================] - 1s 3ms/step - loss: 0.5227 - accuracy: 0.8292\n",
      "313/313 [==============================] - 1s 4ms/step - loss: 0.4322 - accuracy: 0.8572\n",
      "0.5227314829826355 0.43216899037361145\n",
      "313/313 [==============================] - 1s 4ms/step - loss: 0.5177 - accuracy: 0.8318\n",
      "313/313 [==============================] - 1s 4ms/step - loss: 0.3068 - accuracy: 0.8930\n",
      "0.5176704525947571 0.3067692518234253\n",
      "313/313 [==============================] - 1s 3ms/step - loss: 0.4322 - accuracy: 0.8572\n",
      "313/313 [==============================] - 1s 3ms/step - loss: 0.3279 - accuracy: 0.8855\n",
      "0.43216899037361145 0.32794642448425293\n",
      "313/313 [==============================] - 1s 4ms/step - loss: 0.3536 - accuracy: 0.8780\n",
      "313/313 [==============================] - 1s 3ms/step - loss: 0.5197 - accuracy: 0.8302\n",
      "0.35360366106033325 0.519676685333252\n",
      "313/313 [==============================] - 1s 3ms/step - loss: 0.4538 - accuracy: 0.8511\n",
      "313/313 [==============================] - 1s 3ms/step - loss: 0.5146 - accuracy: 0.8321\n",
      "0.45380541682243347 0.5145949721336365\n",
      "313/313 [==============================] - 1s 3ms/step - loss: 0.5197 - accuracy: 0.8302\n",
      "313/313 [==============================] - 1s 3ms/step - loss: 0.4312 - accuracy: 0.8569\n",
      "0.519676685333252 0.43121352791786194\n",
      "313/313 [==============================] - 1s 3ms/step - loss: 0.5146 - accuracy: 0.8321\n",
      "313/313 [==============================] - 1s 3ms/step - loss: 0.3065 - accuracy: 0.8929\n",
      "0.5145949721336365 0.30654966831207275\n",
      "313/313 [==============================] - 1s 3ms/step - loss: 0.4312 - accuracy: 0.8569\n",
      "313/313 [==============================] - 1s 3ms/step - loss: 0.3279 - accuracy: 0.8855\n",
      "0.43121352791786194 0.32794642448425293\n",
      "313/313 [==============================] - 1s 3ms/step - loss: 0.3536 - accuracy: 0.8780\n",
      "313/313 [==============================] - 1s 3ms/step - loss: 0.5167 - accuracy: 0.8307\n",
      "0.35360366106033325 0.5167461633682251\n",
      "313/313 [==============================] - 1s 3ms/step - loss: 0.4526 - accuracy: 0.8508\n",
      "313/313 [==============================] - 1s 3ms/step - loss: 0.5116 - accuracy: 0.8326\n",
      "0.4526030719280243 0.5116430521011353\n",
      "313/313 [==============================] - 1s 3ms/step - loss: 0.5167 - accuracy: 0.8307\n",
      "313/313 [==============================] - 1s 3ms/step - loss: 0.4303 - accuracy: 0.8570\n",
      "0.5167461633682251 0.43027055263519287\n",
      "313/313 [==============================] - 1s 3ms/step - loss: 0.5116 - accuracy: 0.8326\n",
      "313/313 [==============================] - 1s 3ms/step - loss: 0.3063 - accuracy: 0.8929\n",
      "0.5116430521011353 0.30633559823036194\n",
      "313/313 [==============================] - 1s 3ms/step - loss: 0.4303 - accuracy: 0.8570\n",
      "313/313 [==============================] - 1s 3ms/step - loss: 0.3279 - accuracy: 0.8855\n",
      "0.43027055263519287 0.32794642448425293\n",
      "313/313 [==============================] - 1s 3ms/step - loss: 0.3536 - accuracy: 0.8780\n",
      "313/313 [==============================] - 1s 3ms/step - loss: 0.5139 - accuracy: 0.8313\n",
      "0.35360366106033325 0.5139397382736206\n",
      "313/313 [==============================] - 1s 3ms/step - loss: 0.4514 - accuracy: 0.8509\n",
      "313/313 [==============================] - 1s 3ms/step - loss: 0.5088 - accuracy: 0.8332\n",
      "0.45142632722854614 0.5088059902191162\n",
      "313/313 [==============================] - 1s 3ms/step - loss: 0.5139 - accuracy: 0.8313\n",
      "313/313 [==============================] - 1s 3ms/step - loss: 0.4293 - accuracy: 0.8573\n",
      "0.5139397382736206 0.429336816072464\n",
      "313/313 [==============================] - 1s 3ms/step - loss: 0.5088 - accuracy: 0.8332\n",
      "313/313 [==============================] - 1s 3ms/step - loss: 0.3061 - accuracy: 0.8927\n",
      "0.5088059902191162 0.306126207113266\n",
      "313/313 [==============================] - 1s 3ms/step - loss: 0.4293 - accuracy: 0.8573\n",
      "313/313 [==============================] - 1s 3ms/step - loss: 0.3279 - accuracy: 0.8855\n",
      "0.429336816072464 0.32794642448425293\n",
      "313/313 [==============================] - 1s 3ms/step - loss: 0.3536 - accuracy: 0.8780\n",
      "313/313 [==============================] - 1s 3ms/step - loss: 0.5112 - accuracy: 0.8319\n",
      "0.35360366106033325 0.5112478137016296\n",
      "313/313 [==============================] - 1s 3ms/step - loss: 0.4503 - accuracy: 0.8512\n",
      "313/313 [==============================] - 1s 3ms/step - loss: 0.5061 - accuracy: 0.8337\n",
      "0.45028287172317505 0.5060803294181824\n",
      "313/313 [==============================] - 1s 3ms/step - loss: 0.5112 - accuracy: 0.8319\n",
      "313/313 [==============================] - 1s 3ms/step - loss: 0.4284 - accuracy: 0.8576\n",
      "0.5112478137016296 0.4284162223339081\n",
      "313/313 [==============================] - 1s 3ms/step - loss: 0.5061 - accuracy: 0.8337\n",
      "313/313 [==============================] - 1s 3ms/step - loss: 0.3059 - accuracy: 0.8928\n",
      "0.5060803294181824 0.30592259764671326\n",
      "313/313 [==============================] - 1s 3ms/step - loss: 0.4284 - accuracy: 0.8576\n",
      "313/313 [==============================] - 1s 3ms/step - loss: 0.3279 - accuracy: 0.8855\n",
      "0.4284162223339081 0.32794642448425293\n",
      "313/313 [==============================] - 1s 3ms/step - loss: 0.3536 - accuracy: 0.8780\n",
      "313/313 [==============================] - 1s 3ms/step - loss: 0.5087 - accuracy: 0.8321\n",
      "0.35360366106033325 0.5086649060249329\n",
      "313/313 [==============================] - 1s 3ms/step - loss: 0.4492 - accuracy: 0.8511\n",
      "313/313 [==============================] - 1s 3ms/step - loss: 0.5035 - accuracy: 0.8338\n",
      "0.4491768479347229 0.5034612417221069\n",
      "313/313 [==============================] - 1s 3ms/step - loss: 0.5087 - accuracy: 0.8321\n",
      "313/313 [==============================] - 1s 3ms/step - loss: 0.4275 - accuracy: 0.8584\n",
      "0.5086649060249329 0.42749589681625366\n",
      "313/313 [==============================] - 1s 3ms/step - loss: 0.5035 - accuracy: 0.8338\n",
      "313/313 [==============================] - 1s 3ms/step - loss: 0.3057 - accuracy: 0.8932\n",
      "0.5034612417221069 0.30572256445884705\n",
      "313/313 [==============================] - 1s 3ms/step - loss: 0.4275 - accuracy: 0.8584\n",
      "313/313 [==============================] - 1s 3ms/step - loss: 0.3279 - accuracy: 0.8855\n",
      "0.42749589681625366 0.32794642448425293\n",
      "313/313 [==============================] - 1s 3ms/step - loss: 0.3536 - accuracy: 0.8780\n",
      "313/313 [==============================] - 1s 3ms/step - loss: 0.5062 - accuracy: 0.8325\n",
      "0.35360366106033325 0.5061848759651184\n",
      "313/313 [==============================] - 1s 3ms/step - loss: 0.4481 - accuracy: 0.8511\n",
      "313/313 [==============================] - 1s 3ms/step - loss: 0.5009 - accuracy: 0.8338\n",
      "0.44811010360717773 0.5009336471557617\n",
      "313/313 [==============================] - 1s 3ms/step - loss: 0.5062 - accuracy: 0.8325\n",
      "313/313 [==============================] - 1s 3ms/step - loss: 0.4266 - accuracy: 0.8585\n",
      "0.5061848759651184 0.42658868432044983\n",
      "313/313 [==============================] - 1s 3ms/step - loss: 0.5009 - accuracy: 0.8338\n",
      "313/313 [==============================] - 1s 3ms/step - loss: 0.3055 - accuracy: 0.8931\n",
      "0.5009336471557617 0.30552828311920166\n",
      "313/313 [==============================] - 1s 3ms/step - loss: 0.4266 - accuracy: 0.8585\n",
      "313/313 [==============================] - 1s 3ms/step - loss: 0.3279 - accuracy: 0.8855\n",
      "0.42658868432044983 0.32794642448425293\n",
      "313/313 [==============================] - 1s 3ms/step - loss: 0.3536 - accuracy: 0.8780\n",
      "313/313 [==============================] - 1s 3ms/step - loss: 0.5038 - accuracy: 0.8329\n",
      "0.35360366106033325 0.5038003325462341\n",
      "313/313 [==============================] - 1s 3ms/step - loss: 0.4471 - accuracy: 0.8509\n",
      "313/313 [==============================] - 1s 3ms/step - loss: 0.4985 - accuracy: 0.8343\n",
      "0.4470711350440979 0.4984953999519348\n",
      "313/313 [==============================] - 1s 4ms/step - loss: 0.5038 - accuracy: 0.8329\n",
      "313/313 [==============================] - 1s 3ms/step - loss: 0.4257 - accuracy: 0.8588\n",
      "0.5038003325462341 0.4256928563117981\n",
      "313/313 [==============================] - 1s 3ms/step - loss: 0.4985 - accuracy: 0.8343\n",
      "313/313 [==============================] - 1s 3ms/step - loss: 0.3053 - accuracy: 0.8933\n",
      "0.4984953999519348 0.3053375780582428\n",
      "313/313 [==============================] - 1s 3ms/step - loss: 0.4257 - accuracy: 0.8588\n",
      "313/313 [==============================] - 1s 3ms/step - loss: 0.3279 - accuracy: 0.8855\n",
      "0.4256928563117981 0.32794642448425293\n",
      "313/313 [==============================] - 1s 3ms/step - loss: 0.3536 - accuracy: 0.8780\n",
      "313/313 [==============================] - 1s 3ms/step - loss: 0.4461 - accuracy: 0.8508\n",
      "313/313 [==============================] - 1s 3ms/step - loss: 0.5015 - accuracy: 0.8334\n",
      "313/313 [==============================] - 1s 3ms/step - loss: 0.4961 - accuracy: 0.8345\n",
      "313/313 [==============================] - 1s 3ms/step - loss: 0.4248 - accuracy: 0.8586\n",
      "313/313 [==============================] - 1s 3ms/step - loss: 0.3052 - accuracy: 0.8933\n",
      "313/313 [==============================] - 1s 3ms/step - loss: 0.3279 - accuracy: 0.8855\n"
     ]
    }
   ],
   "source": [
    "w0 = load_model('eachModel2/CheckPoint-10.hdf5')\n",
    "firstWeight = w0.get_weights()\n",
    "# w0.fit(train_images, train_labels, epochs=1, validation_data=(test_images, test_labels), verbose=2)\n",
    "\n",
    "wT = load_model('eachModel3/CheckPoint-10.hdf5')\n",
    "lastWeight = wT.get_weights()\n",
    "# wT.fit(train_images, train_labels, epochs=1, validation_data=(test_images, test_labels), verbose=2)\n",
    "\n",
    "tümNoktalarim = []\n",
    "for i in range(6):\n",
    "    tümNoktalarim.append([before + (after - before) * i / 5 for before, after in zip(firstWeight, lastWeight)])\n",
    "tümNoktalarim.append(lastWeight)\n",
    "\n",
    "ilkdogrunoktalari23 = tümNoktalarim.copy()\n",
    "\n",
    "dogruUzerindekiIlkkLoss = []\n",
    "for i, weights in enumerate(tümNoktalarim):\n",
    "    model.set_weights(weights)\n",
    "    print(f'Interpolated weights {i}:')\n",
    "    loss,accuracy=model.evaluate(test_images, test_labels)\n",
    "    dogruUzerindekiIlkkLoss.append(loss)\n",
    "\n",
    "# İterasyon başlangıç\n",
    "for T in range(50):\n",
    "    def step(X, y,i):\n",
    "        # keep track of our gradients\n",
    "        with tf.GradientTape() as tape:\n",
    "            # make a prediction using the model and then calculate the\n",
    "            # loss\n",
    "            model.set_weights(tümNoktalarim[i])\n",
    "            pred = model(X)\n",
    "\n",
    "            y_tran = to_categorical(y,10)\n",
    "\n",
    "\n",
    "            # listem2 = []\n",
    "            # for i in range(60000):\n",
    "            #     listem2.append(1)\n",
    "            #     for j in range(9):\n",
    "            #         listem2.append(0)\n",
    "\n",
    "            # listem2 = np.array(listem2)\n",
    "            # listem2 = np.reshape(listem2,(60000,10))\n",
    "            # listem2 = listem2\n",
    "\n",
    "\n",
    "\n",
    "            # listem = []\n",
    "            # for i in range(60000):\n",
    "            #     for j in range(10):\n",
    "            #         listem.append(y[i])\n",
    "\n",
    "            # listem = np.array(listem)\n",
    "            # listem = listem/9\n",
    "            # listem = np.reshape(listem,(60000,10))\n",
    "            # tensor1 = tf.convert_to_tensor(listem)\n",
    "\n",
    "            # print(\"y : \\n\",y.shape)\n",
    "            # print(\"pred : \\n\",pred.shape)\n",
    "            tensor1 = tf.convert_to_tensor(y_tran)\n",
    "            # print(\"tensor1 : \\n\",tensor1.shape)\n",
    "            tensor2 = tf.reshape(tensor1,[60000,10])\n",
    "            # print(\"tensor2 : \\n\",tensor2.shape)\n",
    "            loss = categorical_crossentropy(tensor2, pred)\n",
    "        # calculate the gradients using our tape and then update the\n",
    "        # model weights\n",
    "        grads = tape.gradient(loss, model.trainable_variables)\n",
    "        return grads\n",
    "\n",
    "\n",
    "    grads = []\n",
    "    for i in range(1,6,1):\n",
    "        grads.append(step(train_images,train_labels,i))\n",
    "\n",
    "\n",
    "    # Tan değerlerinin hesaplanması\n",
    "    tanvalue = []\n",
    "    for i in range(1,6,1):\n",
    "        model.set_weights(tümNoktalarim[i-1])\n",
    "        dotResult1 = model.evaluate(test_images, test_labels)[0]\n",
    "\n",
    "        model.set_weights(tümNoktalarim[i+1])\n",
    "        dotResult2 = model.evaluate(test_images, test_labels)[0]\n",
    "\n",
    "        print(dotResult1,dotResult2)\n",
    "\n",
    "        if (dotResult2 > dotResult1):\n",
    "            tanvalue.append((np.array(tümNoktalarim[i+1]) - np.array(tümNoktalarim[i])))\n",
    "        else:\n",
    "            tanvalue.append((np.array(tümNoktalarim[i]) - np.array(tümNoktalarim[i-1])))\n",
    "\n",
    "    gradList = []\n",
    "    for i in range(5):\n",
    "        first = np.array(grads[i][0])\n",
    "        grad1 = [first[0:60000,:],np.array(grads[i][1]),np.array(grads[i][2]),np.array(grads[i][3]),np.array(grads[i][4]),np.array(grads[i][5])]\n",
    "        grad1 = np.array(grad1)\n",
    "        gradList.append(grad1)\n",
    "\n",
    "    esasGradList = gradList.copy()\n",
    "    gradList = np.array(gradList)\n",
    "\n",
    "\n",
    "    for i in range(5):\n",
    "        gradList[i][0] = gradList[i][0].flatten()\n",
    "        gradList[i][1] = gradList[i][1].flatten()\n",
    "        gradList[i][2] = gradList[i][2].flatten()\n",
    "        gradList[i][3] = gradList[i][3].flatten()\n",
    "        gradList[i][4] = gradList[i][4].flatten()\n",
    "        gradList[i][5] = gradList[i][5].flatten()\n",
    "\n",
    "\n",
    "    tanlistem = []\n",
    "    for i in range(5):\n",
    "        tanget = [tanvalue[i][0],tanvalue[i][1],tanvalue[i][2],tanvalue[i][3],tanvalue[i][4],tanvalue[i][5]]\n",
    "        tanget = np.array(tanget)\n",
    "        tanlistem.append(tanget)\n",
    "\n",
    "    esasTanList = tanlistem.copy()\n",
    "    tanlistem = np.array(tanlistem)\n",
    "\n",
    "    for i in range(5):\n",
    "        tanlistem[i][0] = tanlistem[i][0].flatten()\n",
    "        tanlistem[i][1] = tanlistem[i][1].flatten()\n",
    "        tanlistem[i][2] = tanlistem[i][2].flatten()\n",
    "        tanlistem[i][3] = tanlistem[i][3].flatten()\n",
    "        tanlistem[i][4] = tanlistem[i][4].flatten()\n",
    "        tanlistem[i][5] = tanlistem[i][5].flatten()\n",
    "\n",
    "    dotsonuc = []\n",
    "    for i in range(5):\n",
    "        denemesonuc1 = np.dot(tanlistem[i][0],gradList[i][0])\n",
    "        denemesonuc2 = np.dot(tanlistem[i][1],gradList[i][1])\n",
    "        denemesonuc3 = np.dot(tanlistem[i][2],gradList[i][2])\n",
    "        denemesonuc4 = np.dot(tanlistem[i][3],gradList[i][3])\n",
    "        denemesonuc5 = np.dot(tanlistem[i][4],gradList[i][4])\n",
    "        denemesonuc6 = np.dot(tanlistem[i][5],gradList[i][5])\n",
    "        sonuc1 = denemesonuc1+denemesonuc2+denemesonuc3+denemesonuc4+denemesonuc5+denemesonuc6\n",
    "        dotsonuc.append(sonuc1)\n",
    "\n",
    "    learningrate = 0.000001\n",
    "    güncelNoktlar = []\n",
    "    for i in range(5):\n",
    "        rightresult = dotsonuc[i]*esasTanList[i]\n",
    "        ilkdeğer = esasGradList[i]-rightresult\n",
    "        ilkgünceldeger = tümNoktalarim[i+1] - (learningrate*ilkdeğer)\n",
    "        güncelNoktlar.append(ilkgünceldeger)\n",
    "\n",
    "    # Bulunan noktaların güncellenmesi\n",
    "    for i in range(5):\n",
    "        tümNoktalarim[i+1] = güncelNoktlar[i]\n",
    "\n",
    "\n",
    "dogruUzerindekiSonkLoss = []\n",
    "for i in range(0,7,1):\n",
    "    model.set_weights(tümNoktalarim[i])\n",
    "    dogruResult = model.evaluate(test_images, test_labels)[0]\n",
    "    dogruUzerindekiSonkLoss.append(dogruResult)"
   ]
  },
  {
   "cell_type": "code",
   "execution_count": 382,
   "metadata": {},
   "outputs": [
    {
     "name": "stderr",
     "output_type": "stream",
     "text": [
      "No artists with labels found to put in legend.  Note that artists whose label start with an underscore are ignored when legend() is called with no argument.\n"
     ]
    },
    {
     "data": {
      "image/png": "[encoded data removed]",
      "text/plain": [
       "<Figure size 432x288 with 1 Axes>"
      ]
     },
     "metadata": {
      "needs_background": "light"
     },
     "output_type": "display_data"
    }
   ],
   "source": [
    "plt.plot(np.arange(0,7),dogruUzerindekiIlkkLoss)\n",
    "plt.title('2. ve 3. son nokta arasıda çizilen doğru üzerindeki loss değerleri')\n",
    "plt.ylabel('Loss')\n",
    "plt.xlabel('Noktalar')\n",
    "plt.legend(loc=\"upper left\")\n",
    "plt.show()"
   ]
  },
  {
   "cell_type": "code",
   "execution_count": 383,
   "metadata": {},
   "outputs": [
    {
     "name": "stderr",
     "output_type": "stream",
     "text": [
      "No artists with labels found to put in legend.  Note that artists whose label start with an underscore are ignored when legend() is called with no argument.\n"
     ]
    },
    {
     "data": {
      "image/png": "[encoded data removed]",
      "text/plain": [
       "<Figure size 432x288 with 1 Axes>"
      ]
     },
     "metadata": {
      "needs_background": "light"
     },
     "output_type": "display_data"
    }
   ],
   "source": [
    "plt.plot(np.arange(0,7),dogruUzerindekiSonkLoss)\n",
    "plt.title('2. ve 3. son nokta arasıda bulunan yeni yol')\n",
    "plt.ylabel('Loss')\n",
    "plt.xlabel('Noktalar')\n",
    "plt.legend(loc=\"upper left\")\n",
    "plt.show()"
   ]
  },
  {
   "cell_type": "code",
   "execution_count": 384,
   "metadata": {},
   "outputs": [
    {
     "data": {
      "application/vnd.plotly.v1+json": {
       "config": {
        "plotlyServerURL": "https://plot.ly"
       },
       "data": [
        {
         "hovertemplate": "0=%{x}<br>1=%{y}<extra></extra>",
         "legendgroup": "",
         "marker": {
          "color": "#636efa",
          "symbol": "circle"
         },
         "mode": "markers",
         "name": "",
         "orientation": "v",
         "showlegend": false,
         "type": "scatter",
         "x": [
          -11.95397663116455,
          -13.587517738342285,
          -14.897525787353516,
          -15.963203430175781,
          -16.995397567749023,
          -17.819780349731445,
          -18.5269832611084,
          -19.173349380493164,
          -19.798503875732422,
          -20.34501075744629,
          -7.4254150390625,
          -7.578758716583252,
          -7.602381229400635,
          -7.683493614196777,
          -7.729706287384033,
          -7.638892650604248,
          -7.55516242980957,
          -7.515365123748779,
          -7.4081292152404785,
          -7.380486011505127,
          9.708127975463867,
          14.793366432189941,
          19.34545135498047,
          23.478628158569336,
          27.100725173950195,
          30.386728286743164,
          33.58842468261719,
          36.38236999511719,
          38.96559524536133,
          41.3503532409668,
          -11.109247207641602,
          -12.369892120361328,
          -13.405725479125977,
          -14.396613121032715,
          -15.212445259094238,
          -16.04068374633789,
          -16.692150115966797,
          -17.236141204833984,
          -17.7774600982666,
          -18.322341918945312,
          -11.72579288482666,
          -13.11767578125,
          -14.336015701293945,
          -15.369803428649902,
          -16.307069778442383,
          -17.172115325927734,
          -17.864152908325195,
          -18.485258102416992,
          -19.076631546020508,
          -19.557788848876953,
          -7.380486011505127,
          2.365696907043457,
          12.111858367919922,
          21.8580322265625,
          31.604198455810547,
          41.35034942626953,
          41.3503532409668,
          -7.380486011505127,
          9.211982727050781,
          15.16826057434082,
          18.627254486083984,
          24.83136558532715,
          39.98542785644531,
          41.3503532409668
         ],
         "xaxis": "x",
         "y": [
          -9.439149856567383,
          -11.00362491607666,
          -12.400283813476562,
          -13.51636791229248,
          -14.465242385864258,
          -15.402640342712402,
          -16.21882438659668,
          -16.921672821044922,
          -17.453001022338867,
          -17.90061378479004,
          12.681796073913574,
          17.88851547241211,
          22.35099220275879,
          26.241697311401367,
          29.855409622192383,
          33.06984329223633,
          36.10298156738281,
          38.841163635253906,
          41.277870178222656,
          43.58136749267578,
          -7.253526210784912,
          -8.097433090209961,
          -8.823453903198242,
          -9.49683952331543,
          -9.963088989257812,
          -10.44554328918457,
          -10.876498222351074,
          -11.250110626220703,
          -11.592504501342773,
          -11.799881935119629,
          -7.415946960449219,
          -8.375527381896973,
          -9.163464546203613,
          -9.86922550201416,
          -10.444908142089844,
          -11.017260551452637,
          -11.52698802947998,
          -11.94334602355957,
          -12.222915649414062,
          -12.616341590881348,
          -8.304696083068848,
          -9.500702857971191,
          -10.519804000854492,
          -11.385647773742676,
          -12.219283103942871,
          -12.916634559631348,
          -13.553535461425781,
          -14.07413387298584,
          -14.614093780517578,
          -15.111656188964844,
          43.58136749267578,
          32.505126953125,
          21.428855895996094,
          10.352609634399414,
          -0.7236470580101013,
          -11.799878120422363,
          -11.799881935119629,
          43.58136749267578,
          24.81522560119629,
          18.08751106262207,
          14.163660049438477,
          7.068452835083008,
          -10.23609447479248,
          -11.799881935119629
         ],
         "yaxis": "y"
        }
       ],
       "layout": {
        "legend": {
         "tracegroupgap": 0
        },
        "margin": {
         "t": 60
        },
        "template": {
         "data": {
          "bar": [
           {
            "error_x": {
             "color": "#2a3f5f"
            },
            "error_y": {
             "color": "#2a3f5f"
            },
            "marker": {
             "line": {
              "color": "#E5ECF6",
              "width": 0.5
             },
             "pattern": {
              "fillmode": "overlay",
              "size": 10,
              "solidity": 0.2
             }
            },
            "type": "bar"
           }
          ],
          "barpolar": [
           {
            "marker": {
             "line": {
              "color": "#E5ECF6",
              "width": 0.5
             },
             "pattern": {
              "fillmode": "overlay",
              "size": 10,
              "solidity": 0.2
             }
            },
            "type": "barpolar"
           }
          ],
          "carpet": [
           {
            "aaxis": {
             "endlinecolor": "#2a3f5f",
             "gridcolor": "white",
             "linecolor": "white",
             "minorgridcolor": "white",
             "startlinecolor": "#2a3f5f"
            },
            "baxis": {
             "endlinecolor": "#2a3f5f",
             "gridcolor": "white",
             "linecolor": "white",
             "minorgridcolor": "white",
             "startlinecolor": "#2a3f5f"
            },
            "type": "carpet"
           }
          ],
          "choropleth": [
           {
            "colorbar": {
             "outlinewidth": 0,
             "ticks": ""
            },
            "type": "choropleth"
           }
          ],
          "contour": [
           {
            "colorbar": {
             "outlinewidth": 0,
             "ticks": ""
            },
            "colorscale": [
             [
              0,
              "#0d0887"
             ],
             [
              0.1111111111111111,
              "#46039f"
             ],
             [
              0.2222222222222222,
              "#7201a8"
             ],
             [
              0.3333333333333333,
              "#9c179e"
             ],
             [
              0.4444444444444444,
              "#bd3786"
             ],
             [
              0.5555555555555556,
              "#d8576b"
             ],
             [
              0.6666666666666666,
              "#ed7953"
             ],
             [
              0.7777777777777778,
              "#fb9f3a"
             ],
             [
              0.8888888888888888,
              "#fdca26"
             ],
             [
              1,
              "#f0f921"
             ]
            ],
            "type": "contour"
           }
          ],
          "contourcarpet": [
           {
            "colorbar": {
             "outlinewidth": 0,
             "ticks": ""
            },
            "type": "contourcarpet"
           }
          ],
          "heatmap": [
           {
            "colorbar": {
             "outlinewidth": 0,
             "ticks": ""
            },
            "colorscale": [
             [
              0,
              "#0d0887"
             ],
             [
              0.1111111111111111,
              "#46039f"
             ],
             [
              0.2222222222222222,
              "#7201a8"
             ],
             [
              0.3333333333333333,
              "#9c179e"
             ],
             [
              0.4444444444444444,
              "#bd3786"
             ],
             [
              0.5555555555555556,
              "#d8576b"
             ],
             [
              0.6666666666666666,
              "#ed7953"
             ],
             [
              0.7777777777777778,
              "#fb9f3a"
             ],
             [
              0.8888888888888888,
              "#fdca26"
             ],
             [
              1,
              "#f0f921"
             ]
            ],
            "type": "heatmap"
           }
          ],
          "heatmapgl": [
           {
            "colorbar": {
             "outlinewidth": 0,
             "ticks": ""
            },
            "colorscale": [
             [
              0,
              "#0d0887"
             ],
             [
              0.1111111111111111,
              "#46039f"
             ],
             [
              0.2222222222222222,
              "#7201a8"
             ],
             [
              0.3333333333333333,
              "#9c179e"
             ],
             [
              0.4444444444444444,
              "#bd3786"
             ],
             [
              0.5555555555555556,
              "#d8576b"
             ],
             [
              0.6666666666666666,
              "#ed7953"
             ],
             [
              0.7777777777777778,
              "#fb9f3a"
             ],
             [
              0.8888888888888888,
              "#fdca26"
             ],
             [
              1,
              "#f0f921"
             ]
            ],
            "type": "heatmapgl"
           }
          ],
          "histogram": [
           {
            "marker": {
             "pattern": {
              "fillmode": "overlay",
              "size": 10,
              "solidity": 0.2
             }
            },
            "type": "histogram"
           }
          ],
          "histogram2d": [
           {
            "colorbar": {
             "outlinewidth": 0,
             "ticks": ""
            },
            "colorscale": [
             [
              0,
              "#0d0887"
             ],
             [
              0.1111111111111111,
              "#46039f"
             ],
             [
              0.2222222222222222,
              "#7201a8"
             ],
             [
              0.3333333333333333,
              "#9c179e"
             ],
             [
              0.4444444444444444,
              "#bd3786"
             ],
             [
              0.5555555555555556,
              "#d8576b"
             ],
             [
              0.6666666666666666,
              "#ed7953"
             ],
             [
              0.7777777777777778,
              "#fb9f3a"
             ],
             [
              0.8888888888888888,
              "#fdca26"
             ],
             [
              1,
              "#f0f921"
             ]
            ],
            "type": "histogram2d"
           }
          ],
          "histogram2dcontour": [
           {
            "colorbar": {
             "outlinewidth": 0,
             "ticks": ""
            },
            "colorscale": [
             [
              0,
              "#0d0887"
             ],
             [
              0.1111111111111111,
              "#46039f"
             ],
             [
              0.2222222222222222,
              "#7201a8"
             ],
             [
              0.3333333333333333,
              "#9c179e"
             ],
             [
              0.4444444444444444,
              "#bd3786"
             ],
             [
              0.5555555555555556,
              "#d8576b"
             ],
             [
              0.6666666666666666,
              "#ed7953"
             ],
             [
              0.7777777777777778,
              "#fb9f3a"
             ],
             [
              0.8888888888888888,
              "#fdca26"
             ],
             [
              1,
              "#f0f921"
             ]
            ],
            "type": "histogram2dcontour"
           }
          ],
          "mesh3d": [
           {
            "colorbar": {
             "outlinewidth": 0,
             "ticks": ""
            },
            "type": "mesh3d"
           }
          ],
          "parcoords": [
           {
            "line": {
             "colorbar": {
              "outlinewidth": 0,
              "ticks": ""
             }
            },
            "type": "parcoords"
           }
          ],
          "pie": [
           {
            "automargin": true,
            "type": "pie"
           }
          ],
          "scatter": [
           {
            "fillpattern": {
             "fillmode": "overlay",
             "size": 10,
             "solidity": 0.2
            },
            "type": "scatter"
           }
          ],
          "scatter3d": [
           {
            "line": {
             "colorbar": {
              "outlinewidth": 0,
              "ticks": ""
             }
            },
            "marker": {
             "colorbar": {
              "outlinewidth": 0,
              "ticks": ""
             }
            },
            "type": "scatter3d"
           }
          ],
          "scattercarpet": [
           {
            "marker": {
             "colorbar": {
              "outlinewidth": 0,
              "ticks": ""
             }
            },
            "type": "scattercarpet"
           }
          ],
          "scattergeo": [
           {
            "marker": {
             "colorbar": {
              "outlinewidth": 0,
              "ticks": ""
             }
            },
            "type": "scattergeo"
           }
          ],
          "scattergl": [
           {
            "marker": {
             "colorbar": {
              "outlinewidth": 0,
              "ticks": ""
             }
            },
            "type": "scattergl"
           }
          ],
          "scattermapbox": [
           {
            "marker": {
             "colorbar": {
              "outlinewidth": 0,
              "ticks": ""
             }
            },
            "type": "scattermapbox"
           }
          ],
          "scatterpolar": [
           {
            "marker": {
             "colorbar": {
              "outlinewidth": 0,
              "ticks": ""
             }
            },
            "type": "scatterpolar"
           }
          ],
          "scatterpolargl": [
           {
            "marker": {
             "colorbar": {
              "outlinewidth": 0,
              "ticks": ""
             }
            },
            "type": "scatterpolargl"
           }
          ],
          "scatterternary": [
           {
            "marker": {
             "colorbar": {
              "outlinewidth": 0,
              "ticks": ""
             }
            },
            "type": "scatterternary"
           }
          ],
          "surface": [
           {
            "colorbar": {
             "outlinewidth": 0,
             "ticks": ""
            },
            "colorscale": [
             [
              0,
              "#0d0887"
             ],
             [
              0.1111111111111111,
              "#46039f"
             ],
             [
              0.2222222222222222,
              "#7201a8"
             ],
             [
              0.3333333333333333,
              "#9c179e"
             ],
             [
              0.4444444444444444,
              "#bd3786"
             ],
             [
              0.5555555555555556,
              "#d8576b"
             ],
             [
              0.6666666666666666,
              "#ed7953"
             ],
             [
              0.7777777777777778,
              "#fb9f3a"
             ],
             [
              0.8888888888888888,
              "#fdca26"
             ],
             [
              1,
              "#f0f921"
             ]
            ],
            "type": "surface"
           }
          ],
          "table": [
           {
            "cells": {
             "fill": {
              "color": "#EBF0F8"
             },
             "line": {
              "color": "white"
             }
            },
            "header": {
             "fill": {
              "color": "#C8D4E3"
             },
             "line": {
              "color": "white"
             }
            },
            "type": "table"
           }
          ]
         },
         "layout": {
          "annotationdefaults": {
           "arrowcolor": "#2a3f5f",
           "arrowhead": 0,
           "arrowwidth": 1
          },
          "autotypenumbers": "strict",
          "coloraxis": {
           "colorbar": {
            "outlinewidth": 0,
            "ticks": ""
           }
          },
          "colorscale": {
           "diverging": [
            [
             0,
             "#8e0152"
            ],
            [
             0.1,
             "#c51b7d"
            ],
            [
             0.2,
             "#de77ae"
            ],
            [
             0.3,
             "#f1b6da"
            ],
            [
             0.4,
             "#fde0ef"
            ],
            [
             0.5,
             "#f7f7f7"
            ],
            [
             0.6,
             "#e6f5d0"
            ],
            [
             0.7,
             "#b8e186"
            ],
            [
             0.8,
             "#7fbc41"
            ],
            [
             0.9,
             "#4d9221"
            ],
            [
             1,
             "#276419"
            ]
           ],
           "sequential": [
            [
             0,
             "#0d0887"
            ],
            [
             0.1111111111111111,
             "#46039f"
            ],
            [
             0.2222222222222222,
             "#7201a8"
            ],
            [
             0.3333333333333333,
             "#9c179e"
            ],
            [
             0.4444444444444444,
             "#bd3786"
            ],
            [
             0.5555555555555556,
             "#d8576b"
            ],
            [
             0.6666666666666666,
             "#ed7953"
            ],
            [
             0.7777777777777778,
             "#fb9f3a"
            ],
            [
             0.8888888888888888,
             "#fdca26"
            ],
            [
             1,
             "#f0f921"
            ]
           ],
           "sequentialminus": [
            [
             0,
             "#0d0887"
            ],
            [
             0.1111111111111111,
             "#46039f"
            ],
            [
             0.2222222222222222,
             "#7201a8"
            ],
            [
             0.3333333333333333,
             "#9c179e"
            ],
            [
             0.4444444444444444,
             "#bd3786"
            ],
            [
             0.5555555555555556,
             "#d8576b"
            ],
            [
             0.6666666666666666,
             "#ed7953"
            ],
            [
             0.7777777777777778,
             "#fb9f3a"
            ],
            [
             0.8888888888888888,
             "#fdca26"
            ],
            [
             1,
             "#f0f921"
            ]
           ]
          },
          "colorway": [
           "#636efa",
           "#EF553B",
           "#00cc96",
           "#ab63fa",
           "#FFA15A",
           "#19d3f3",
           "#FF6692",
           "#B6E880",
           "#FF97FF",
           "#FECB52"
          ],
          "font": {
           "color": "#2a3f5f"
          },
          "geo": {
           "bgcolor": "white",
           "lakecolor": "white",
           "landcolor": "#E5ECF6",
           "showlakes": true,
           "showland": true,
           "subunitcolor": "white"
          },
          "hoverlabel": {
           "align": "left"
          },
          "hovermode": "closest",
          "mapbox": {
           "style": "light"
          },
          "paper_bgcolor": "white",
          "plot_bgcolor": "#E5ECF6",
          "polar": {
           "angularaxis": {
            "gridcolor": "white",
            "linecolor": "white",
            "ticks": ""
           },
           "bgcolor": "#E5ECF6",
           "radialaxis": {
            "gridcolor": "white",
            "linecolor": "white",
            "ticks": ""
           }
          },
          "scene": {
           "xaxis": {
            "backgroundcolor": "#E5ECF6",
            "gridcolor": "white",
            "gridwidth": 2,
            "linecolor": "white",
            "showbackground": true,
            "ticks": "",
            "zerolinecolor": "white"
           },
           "yaxis": {
            "backgroundcolor": "#E5ECF6",
            "gridcolor": "white",
            "gridwidth": 2,
            "linecolor": "white",
            "showbackground": true,
            "ticks": "",
            "zerolinecolor": "white"
           },
           "zaxis": {
            "backgroundcolor": "#E5ECF6",
            "gridcolor": "white",
            "gridwidth": 2,
            "linecolor": "white",
            "showbackground": true,
            "ticks": "",
            "zerolinecolor": "white"
           }
          },
          "shapedefaults": {
           "line": {
            "color": "#2a3f5f"
           }
          },
          "ternary": {
           "aaxis": {
            "gridcolor": "white",
            "linecolor": "white",
            "ticks": ""
           },
           "baxis": {
            "gridcolor": "white",
            "linecolor": "white",
            "ticks": ""
           },
           "bgcolor": "#E5ECF6",
           "caxis": {
            "gridcolor": "white",
            "linecolor": "white",
            "ticks": ""
           }
          },
          "title": {
           "x": 0.05
          },
          "xaxis": {
           "automargin": true,
           "gridcolor": "white",
           "linecolor": "white",
           "ticks": "",
           "title": {
            "standoff": 15
           },
           "zerolinecolor": "white",
           "zerolinewidth": 2
          },
          "yaxis": {
           "automargin": true,
           "gridcolor": "white",
           "linecolor": "white",
           "ticks": "",
           "title": {
            "standoff": 15
           },
           "zerolinecolor": "white",
           "zerolinewidth": 2
          }
         }
        },
        "xaxis": {
         "anchor": "y",
         "domain": [
          0,
          1
         ],
         "title": {
          "text": "0"
         }
        },
        "yaxis": {
         "anchor": "x",
         "domain": [
          0,
          1
         ],
         "title": {
          "text": "1"
         }
        }
       }
      }
     },
     "metadata": {},
     "output_type": "display_data"
    }
   ],
   "source": [
    "ilknoktalar23 = ilkdogrunoktalari23.copy()\n",
    "\n",
    "for i in range(7):\n",
    "    ilknoktalar23[i][0] = ilknoktalar23[i][0].flatten()\n",
    "    ilknoktalar23[i][1] = ilknoktalar23[i][1].flatten()\n",
    "    ilknoktalar23[i][2] = ilknoktalar23[i][2].flatten()\n",
    "    ilknoktalar23[i][3] = ilknoktalar23[i][3].flatten()\n",
    "    ilknoktalar23[i][4] = ilknoktalar23[i][4].flatten()\n",
    "\n",
    "Xaralist23= []\n",
    "for i in range(7):\n",
    "    Xaralist23.append(np.hstack((ilknoktalar23[i][0],ilknoktalar23[i][1],ilknoktalar23[i][2],ilknoktalar23[i][3],ilknoktalar23[i][4])))\n",
    "\n",
    "\n",
    "\n",
    "sonnoktalar23 = tümNoktalarim.copy()\n",
    "\n",
    "for i in range(7):\n",
    "    sonnoktalar23[i][0] = sonnoktalar23[i][0].flatten()\n",
    "    sonnoktalar23[i][1] = sonnoktalar23[i][1].flatten()\n",
    "    sonnoktalar23[i][2] = sonnoktalar23[i][2].flatten()\n",
    "    sonnoktalar23[i][3] = sonnoktalar23[i][3].flatten()\n",
    "    sonnoktalar23[i][4] = sonnoktalar23[i][4].flatten()\n",
    "\n",
    "Xsonaralist23= []\n",
    "for i in range(7):\n",
    "    Xsonaralist23.append(np.hstack((sonnoktalar23[i][0],sonnoktalar23[i][1],sonnoktalar23[i][2],sonnoktalar23[i][3],sonnoktalar23[i][4])))\n",
    "\n",
    "\n",
    "\n",
    "\n",
    "Xaralist23 = np.array(Xaralist23)\n",
    "Xsonaralist23 = np.array(Xsonaralist23)\n",
    "alldizi = np.vstack((Xlist,Xaralist23,Xsonaralist23))\n",
    "\n",
    "X = alldizi\n",
    "\n",
    "pca = PCA(n_components=2)\n",
    "components = pca.fit_transform(X)\n",
    "\n",
    "fig = px.scatter(components, x=0, y=1)\n",
    "fig.show()"
   ]
  },
  {
   "cell_type": "code",
   "execution_count": 400,
   "metadata": {},
   "outputs": [
    {
     "data": {
      "application/vnd.plotly.v1+json": {
       "config": {
        "plotlyServerURL": "https://plot.ly"
       },
       "data": [
        {
         "hovertemplate": "PC 1=%{x}<br>PC 2=%{y}<br>PC 3=%{z}<extra></extra>",
         "legendgroup": "",
         "marker": {
          "color": "#636efa",
          "symbol": "circle"
         },
         "mode": "markers",
         "name": "",
         "scene": "scene",
         "showlegend": false,
         "type": "scatter3d",
         "x": [
          -11.954009056091309,
          -13.587540626525879,
          -14.897562980651855,
          -15.96324634552002,
          -16.995450973510742,
          -17.819828033447266,
          -18.527021408081055,
          -19.173404693603516,
          -19.79855728149414,
          -20.345064163208008,
          -7.425369739532471,
          -7.578703880310059,
          -7.602306842803955,
          -7.683411598205566,
          -7.729601860046387,
          -7.638780117034912,
          -7.555039405822754,
          -7.515254974365234,
          -7.407994747161865,
          -7.380324363708496,
          9.70810604095459,
          14.793340682983398,
          19.345426559448242,
          23.478593826293945,
          27.10068702697754,
          30.386690139770508,
          33.58838653564453,
          36.382328033447266,
          38.96556854248047,
          41.35031509399414,
          -11.109272956848145,
          -12.369925498962402,
          -13.405755043029785,
          -14.396636962890625,
          -15.212482452392578,
          -16.040727615356445,
          -16.69218635559082,
          -17.236181259155273,
          -17.777511596679688,
          -18.3223819732666,
          -11.725811958312988,
          -13.117707252502441,
          -14.336057662963867,
          -15.369832038879395,
          -16.307104110717773,
          -17.17215919494629,
          -17.86418914794922,
          -18.485300064086914,
          -19.076684951782227,
          -19.55782699584961,
          -7.380324363708496,
          2.3658039569854736,
          12.11193561553955,
          21.858064651489258,
          31.604185104370117,
          41.35031509399414,
          41.35031509399414,
          -7.380324363708496,
          9.212066650390625,
          15.168322563171387,
          18.627300262451172,
          24.831398010253906,
          39.98538589477539,
          41.35031509399414
         ],
         "y": [
          -9.439109802246094,
          -11.003572463989258,
          -12.400222778320312,
          -13.516301155090332,
          -14.465177536010742,
          -15.402567863464355,
          -16.218740463256836,
          -16.92160987854004,
          -17.452917098999023,
          -17.90053367614746,
          12.681809425354004,
          17.888547897338867,
          22.351028442382812,
          26.241729736328125,
          29.85542869567871,
          33.06985092163086,
          36.102996826171875,
          38.841182708740234,
          41.27787399291992,
          43.581382751464844,
          -7.253554344177246,
          -8.09747314453125,
          -8.823518753051758,
          -9.496907234191895,
          -9.963167190551758,
          -10.445630073547363,
          -10.876601219177246,
          -11.250237464904785,
          -11.592620849609375,
          -11.800009727478027,
          -7.415910720825195,
          -8.375487327575684,
          -9.163427352905273,
          -9.869171142578125,
          -10.44485855102539,
          -11.017217636108398,
          -11.526934623718262,
          -11.943296432495117,
          -12.222864151000977,
          -12.616280555725098,
          -8.304664611816406,
          -9.500664710998535,
          -10.519766807556152,
          -11.385605812072754,
          -12.219244956970215,
          -12.916592597961426,
          -13.553487777709961,
          -14.074092864990234,
          -14.614060401916504,
          -15.111605644226074,
          43.581382751464844,
          32.505104064941406,
          21.428823471069336,
          10.352542877197266,
          -0.7237388491630554,
          -11.800008773803711,
          -11.800009727478027,
          43.581382751464844,
          24.81519889831543,
          18.087465286254883,
          14.163607597351074,
          7.068375587463379,
          -10.236220359802246,
          -11.800010681152344
         ],
         "z": [
          -9.698907852172852,
          -12.517814636230469,
          -14.877287864685059,
          -16.891427993774414,
          -18.687726974487305,
          -20.391582489013672,
          -21.741071701049805,
          -23.088876724243164,
          -24.219947814941406,
          -25.3017635345459,
          0.02606111764907837,
          -0.09579435735940933,
          -0.11908704787492752,
          -0.22510476410388947,
          -0.18451403081417084,
          -0.26888662576675415,
          -0.2617957592010498,
          -0.3102550804615021,
          -0.39134496450424194,
          -0.4971614181995392,
          0.20529583096504211,
          0.207059845328331,
          0.17958515882492065,
          0.14185962080955505,
          0.1372816413640976,
          0.14847376942634583,
          0.04361504316329956,
          0.12541820108890533,
          0.13638736307621002,
          0.13007520139217377,
          -6.240097522735596,
          -8.147651672363281,
          -9.683669090270996,
          -11.062895774841309,
          -12.242438316345215,
          -13.282800674438477,
          -14.190335273742676,
          -15.065661430358887,
          -15.91678237915039,
          -16.60085105895996,
          16.08740234375,
          20.743751525878906,
          24.663055419921875,
          28.208818435668945,
          31.251577377319336,
          33.973388671875,
          36.40132141113281,
          38.563133239746094,
          40.54880142211914,
          42.28790283203125,
          -0.4971614181995392,
          -0.3717171549797058,
          -0.24626760184764862,
          -0.1208200678229332,
          0.004628198221325874,
          0.13007456064224243,
          0.13007520139217377,
          -0.4971614181995392,
          -0.29583272337913513,
          -0.2215438336133957,
          -0.17315492033958435,
          -0.09060255438089371,
          0.11268443614244461,
          0.13007529079914093
         ]
        }
       ],
       "layout": {
        "legend": {
         "tracegroupgap": 0
        },
        "scene": {
         "domain": {
          "x": [
           0,
           1
          ],
          "y": [
           0,
           1
          ]
         },
         "xaxis": {
          "title": {
           "text": "PC 1"
          }
         },
         "yaxis": {
          "title": {
           "text": "PC 2"
          }
         },
         "zaxis": {
          "title": {
           "text": "PC 3"
          }
         }
        },
        "template": {
         "data": {
          "bar": [
           {
            "error_x": {
             "color": "#2a3f5f"
            },
            "error_y": {
             "color": "#2a3f5f"
            },
            "marker": {
             "line": {
              "color": "#E5ECF6",
              "width": 0.5
             },
             "pattern": {
              "fillmode": "overlay",
              "size": 10,
              "solidity": 0.2
             }
            },
            "type": "bar"
           }
          ],
          "barpolar": [
           {
            "marker": {
             "line": {
              "color": "#E5ECF6",
              "width": 0.5
             },
             "pattern": {
              "fillmode": "overlay",
              "size": 10,
              "solidity": 0.2
             }
            },
            "type": "barpolar"
           }
          ],
          "carpet": [
           {
            "aaxis": {
             "endlinecolor": "#2a3f5f",
             "gridcolor": "white",
             "linecolor": "white",
             "minorgridcolor": "white",
             "startlinecolor": "#2a3f5f"
            },
            "baxis": {
             "endlinecolor": "#2a3f5f",
             "gridcolor": "white",
             "linecolor": "white",
             "minorgridcolor": "white",
             "startlinecolor": "#2a3f5f"
            },
            "type": "carpet"
           }
          ],
          "choropleth": [
           {
            "colorbar": {
             "outlinewidth": 0,
             "ticks": ""
            },
            "type": "choropleth"
           }
          ],
          "contour": [
           {
            "colorbar": {
             "outlinewidth": 0,
             "ticks": ""
            },
            "colorscale": [
             [
              0,
              "#0d0887"
             ],
             [
              0.1111111111111111,
              "#46039f"
             ],
             [
              0.2222222222222222,
              "#7201a8"
             ],
             [
              0.3333333333333333,
              "#9c179e"
             ],
             [
              0.4444444444444444,
              "#bd3786"
             ],
             [
              0.5555555555555556,
              "#d8576b"
             ],
             [
              0.6666666666666666,
              "#ed7953"
             ],
             [
              0.7777777777777778,
              "#fb9f3a"
             ],
             [
              0.8888888888888888,
              "#fdca26"
             ],
             [
              1,
              "#f0f921"
             ]
            ],
            "type": "contour"
           }
          ],
          "contourcarpet": [
           {
            "colorbar": {
             "outlinewidth": 0,
             "ticks": ""
            },
            "type": "contourcarpet"
           }
          ],
          "heatmap": [
           {
            "colorbar": {
             "outlinewidth": 0,
             "ticks": ""
            },
            "colorscale": [
             [
              0,
              "#0d0887"
             ],
             [
              0.1111111111111111,
              "#46039f"
             ],
             [
              0.2222222222222222,
              "#7201a8"
             ],
             [
              0.3333333333333333,
              "#9c179e"
             ],
             [
              0.4444444444444444,
              "#bd3786"
             ],
             [
              0.5555555555555556,
              "#d8576b"
             ],
             [
              0.6666666666666666,
              "#ed7953"
             ],
             [
              0.7777777777777778,
              "#fb9f3a"
             ],
             [
              0.8888888888888888,
              "#fdca26"
             ],
             [
              1,
              "#f0f921"
             ]
            ],
            "type": "heatmap"
           }
          ],
          "heatmapgl": [
           {
            "colorbar": {
             "outlinewidth": 0,
             "ticks": ""
            },
            "colorscale": [
             [
              0,
              "#0d0887"
             ],
             [
              0.1111111111111111,
              "#46039f"
             ],
             [
              0.2222222222222222,
              "#7201a8"
             ],
             [
              0.3333333333333333,
              "#9c179e"
             ],
             [
              0.4444444444444444,
              "#bd3786"
             ],
             [
              0.5555555555555556,
              "#d8576b"
             ],
             [
              0.6666666666666666,
              "#ed7953"
             ],
             [
              0.7777777777777778,
              "#fb9f3a"
             ],
             [
              0.8888888888888888,
              "#fdca26"
             ],
             [
              1,
              "#f0f921"
             ]
            ],
            "type": "heatmapgl"
           }
          ],
          "histogram": [
           {
            "marker": {
             "pattern": {
              "fillmode": "overlay",
              "size": 10,
              "solidity": 0.2
             }
            },
            "type": "histogram"
           }
          ],
          "histogram2d": [
           {
            "colorbar": {
             "outlinewidth": 0,
             "ticks": ""
            },
            "colorscale": [
             [
              0,
              "#0d0887"
             ],
             [
              0.1111111111111111,
              "#46039f"
             ],
             [
              0.2222222222222222,
              "#7201a8"
             ],
             [
              0.3333333333333333,
              "#9c179e"
             ],
             [
              0.4444444444444444,
              "#bd3786"
             ],
             [
              0.5555555555555556,
              "#d8576b"
             ],
             [
              0.6666666666666666,
              "#ed7953"
             ],
             [
              0.7777777777777778,
              "#fb9f3a"
             ],
             [
              0.8888888888888888,
              "#fdca26"
             ],
             [
              1,
              "#f0f921"
             ]
            ],
            "type": "histogram2d"
           }
          ],
          "histogram2dcontour": [
           {
            "colorbar": {
             "outlinewidth": 0,
             "ticks": ""
            },
            "colorscale": [
             [
              0,
              "#0d0887"
             ],
             [
              0.1111111111111111,
              "#46039f"
             ],
             [
              0.2222222222222222,
              "#7201a8"
             ],
             [
              0.3333333333333333,
              "#9c179e"
             ],
             [
              0.4444444444444444,
              "#bd3786"
             ],
             [
              0.5555555555555556,
              "#d8576b"
             ],
             [
              0.6666666666666666,
              "#ed7953"
             ],
             [
              0.7777777777777778,
              "#fb9f3a"
             ],
             [
              0.8888888888888888,
              "#fdca26"
             ],
             [
              1,
              "#f0f921"
             ]
            ],
            "type": "histogram2dcontour"
           }
          ],
          "mesh3d": [
           {
            "colorbar": {
             "outlinewidth": 0,
             "ticks": ""
            },
            "type": "mesh3d"
           }
          ],
          "parcoords": [
           {
            "line": {
             "colorbar": {
              "outlinewidth": 0,
              "ticks": ""
             }
            },
            "type": "parcoords"
           }
          ],
          "pie": [
           {
            "automargin": true,
            "type": "pie"
           }
          ],
          "scatter": [
           {
            "fillpattern": {
             "fillmode": "overlay",
             "size": 10,
             "solidity": 0.2
            },
            "type": "scatter"
           }
          ],
          "scatter3d": [
           {
            "line": {
             "colorbar": {
              "outlinewidth": 0,
              "ticks": ""
             }
            },
            "marker": {
             "colorbar": {
              "outlinewidth": 0,
              "ticks": ""
             }
            },
            "type": "scatter3d"
           }
          ],
          "scattercarpet": [
           {
            "marker": {
             "colorbar": {
              "outlinewidth": 0,
              "ticks": ""
             }
            },
            "type": "scattercarpet"
           }
          ],
          "scattergeo": [
           {
            "marker": {
             "colorbar": {
              "outlinewidth": 0,
              "ticks": ""
             }
            },
            "type": "scattergeo"
           }
          ],
          "scattergl": [
           {
            "marker": {
             "colorbar": {
              "outlinewidth": 0,
              "ticks": ""
             }
            },
            "type": "scattergl"
           }
          ],
          "scattermapbox": [
           {
            "marker": {
             "colorbar": {
              "outlinewidth": 0,
              "ticks": ""
             }
            },
            "type": "scattermapbox"
           }
          ],
          "scatterpolar": [
           {
            "marker": {
             "colorbar": {
              "outlinewidth": 0,
              "ticks": ""
             }
            },
            "type": "scatterpolar"
           }
          ],
          "scatterpolargl": [
           {
            "marker": {
             "colorbar": {
              "outlinewidth": 0,
              "ticks": ""
             }
            },
            "type": "scatterpolargl"
           }
          ],
          "scatterternary": [
           {
            "marker": {
             "colorbar": {
              "outlinewidth": 0,
              "ticks": ""
             }
            },
            "type": "scatterternary"
           }
          ],
          "surface": [
           {
            "colorbar": {
             "outlinewidth": 0,
             "ticks": ""
            },
            "colorscale": [
             [
              0,
              "#0d0887"
             ],
             [
              0.1111111111111111,
              "#46039f"
             ],
             [
              0.2222222222222222,
              "#7201a8"
             ],
             [
              0.3333333333333333,
              "#9c179e"
             ],
             [
              0.4444444444444444,
              "#bd3786"
             ],
             [
              0.5555555555555556,
              "#d8576b"
             ],
             [
              0.6666666666666666,
              "#ed7953"
             ],
             [
              0.7777777777777778,
              "#fb9f3a"
             ],
             [
              0.8888888888888888,
              "#fdca26"
             ],
             [
              1,
              "#f0f921"
             ]
            ],
            "type": "surface"
           }
          ],
          "table": [
           {
            "cells": {
             "fill": {
              "color": "#EBF0F8"
             },
             "line": {
              "color": "white"
             }
            },
            "header": {
             "fill": {
              "color": "#C8D4E3"
             },
             "line": {
              "color": "white"
             }
            },
            "type": "table"
           }
          ]
         },
         "layout": {
          "annotationdefaults": {
           "arrowcolor": "#2a3f5f",
           "arrowhead": 0,
           "arrowwidth": 1
          },
          "autotypenumbers": "strict",
          "coloraxis": {
           "colorbar": {
            "outlinewidth": 0,
            "ticks": ""
           }
          },
          "colorscale": {
           "diverging": [
            [
             0,
             "#8e0152"
            ],
            [
             0.1,
             "#c51b7d"
            ],
            [
             0.2,
             "#de77ae"
            ],
            [
             0.3,
             "#f1b6da"
            ],
            [
             0.4,
             "#fde0ef"
            ],
            [
             0.5,
             "#f7f7f7"
            ],
            [
             0.6,
             "#e6f5d0"
            ],
            [
             0.7,
             "#b8e186"
            ],
            [
             0.8,
             "#7fbc41"
            ],
            [
             0.9,
             "#4d9221"
            ],
            [
             1,
             "#276419"
            ]
           ],
           "sequential": [
            [
             0,
             "#0d0887"
            ],
            [
             0.1111111111111111,
             "#46039f"
            ],
            [
             0.2222222222222222,
             "#7201a8"
            ],
            [
             0.3333333333333333,
             "#9c179e"
            ],
            [
             0.4444444444444444,
             "#bd3786"
            ],
            [
             0.5555555555555556,
             "#d8576b"
            ],
            [
             0.6666666666666666,
             "#ed7953"
            ],
            [
             0.7777777777777778,
             "#fb9f3a"
            ],
            [
             0.8888888888888888,
             "#fdca26"
            ],
            [
             1,
             "#f0f921"
            ]
           ],
           "sequentialminus": [
            [
             0,
             "#0d0887"
            ],
            [
             0.1111111111111111,
             "#46039f"
            ],
            [
             0.2222222222222222,
             "#7201a8"
            ],
            [
             0.3333333333333333,
             "#9c179e"
            ],
            [
             0.4444444444444444,
             "#bd3786"
            ],
            [
             0.5555555555555556,
             "#d8576b"
            ],
            [
             0.6666666666666666,
             "#ed7953"
            ],
            [
             0.7777777777777778,
             "#fb9f3a"
            ],
            [
             0.8888888888888888,
             "#fdca26"
            ],
            [
             1,
             "#f0f921"
            ]
           ]
          },
          "colorway": [
           "#636efa",
           "#EF553B",
           "#00cc96",
           "#ab63fa",
           "#FFA15A",
           "#19d3f3",
           "#FF6692",
           "#B6E880",
           "#FF97FF",
           "#FECB52"
          ],
          "font": {
           "color": "#2a3f5f"
          },
          "geo": {
           "bgcolor": "white",
           "lakecolor": "white",
           "landcolor": "#E5ECF6",
           "showlakes": true,
           "showland": true,
           "subunitcolor": "white"
          },
          "hoverlabel": {
           "align": "left"
          },
          "hovermode": "closest",
          "mapbox": {
           "style": "light"
          },
          "paper_bgcolor": "white",
          "plot_bgcolor": "#E5ECF6",
          "polar": {
           "angularaxis": {
            "gridcolor": "white",
            "linecolor": "white",
            "ticks": ""
           },
           "bgcolor": "#E5ECF6",
           "radialaxis": {
            "gridcolor": "white",
            "linecolor": "white",
            "ticks": ""
           }
          },
          "scene": {
           "xaxis": {
            "backgroundcolor": "#E5ECF6",
            "gridcolor": "white",
            "gridwidth": 2,
            "linecolor": "white",
            "showbackground": true,
            "ticks": "",
            "zerolinecolor": "white"
           },
           "yaxis": {
            "backgroundcolor": "#E5ECF6",
            "gridcolor": "white",
            "gridwidth": 2,
            "linecolor": "white",
            "showbackground": true,
            "ticks": "",
            "zerolinecolor": "white"
           },
           "zaxis": {
            "backgroundcolor": "#E5ECF6",
            "gridcolor": "white",
            "gridwidth": 2,
            "linecolor": "white",
            "showbackground": true,
            "ticks": "",
            "zerolinecolor": "white"
           }
          },
          "shapedefaults": {
           "line": {
            "color": "#2a3f5f"
           }
          },
          "ternary": {
           "aaxis": {
            "gridcolor": "white",
            "linecolor": "white",
            "ticks": ""
           },
           "baxis": {
            "gridcolor": "white",
            "linecolor": "white",
            "ticks": ""
           },
           "bgcolor": "#E5ECF6",
           "caxis": {
            "gridcolor": "white",
            "linecolor": "white",
            "ticks": ""
           }
          },
          "title": {
           "x": 0.05
          },
          "xaxis": {
           "automargin": true,
           "gridcolor": "white",
           "linecolor": "white",
           "ticks": "",
           "title": {
            "standoff": 15
           },
           "zerolinecolor": "white",
           "zerolinewidth": 2
          },
          "yaxis": {
           "automargin": true,
           "gridcolor": "white",
           "linecolor": "white",
           "ticks": "",
           "title": {
            "standoff": 15
           },
           "zerolinecolor": "white",
           "zerolinewidth": 2
          }
         }
        },
        "title": {
         "text": "Total Explained Variance: 74.47%"
        }
       }
      }
     },
     "metadata": {},
     "output_type": "display_data"
    }
   ],
   "source": [
    "alldizi = np.vstack((Xlist,Xaralist23,Xsonaralist23))\n",
    "\n",
    "X = alldizi\n",
    "\n",
    "pca = PCA(n_components=3)\n",
    "components = pca.fit_transform(X)\n",
    "\n",
    "total_var = pca.explained_variance_ratio_.sum() * 100\n",
    "\n",
    "fig = px.scatter_3d(\n",
    "    components, x=0, y=1, z=2,\n",
    "    title=f'Total Explained Variance: {total_var:.2f}%',\n",
    "    labels={'0': 'PC 1', '1': 'PC 2', '2': 'PC 3'}\n",
    ")\n",
    "fig.show()"
   ]
  },
  {
   "attachments": {},
   "cell_type": "markdown",
   "metadata": {},
   "source": [
    "3. İLE 4. NOKTA ARASINDA"
   ]
  },
  {
   "cell_type": "code",
   "execution_count": 385,
   "metadata": {},
   "outputs": [
    {
     "name": "stdout",
     "output_type": "stream",
     "text": [
      "Interpolated weights 0:\n",
      "313/313 [==============================] - 1s 3ms/step - loss: 0.3279 - accuracy: 0.8855\n",
      "Interpolated weights 1:\n",
      "313/313 [==============================] - 1s 3ms/step - loss: 0.4750 - accuracy: 0.8472\n",
      "Interpolated weights 2:\n",
      "313/313 [==============================] - 1s 4ms/step - loss: 1.1168 - accuracy: 0.6298\n",
      "Interpolated weights 3:\n",
      "313/313 [==============================] - 1s 3ms/step - loss: 1.1888 - accuracy: 0.5706\n",
      "Interpolated weights 4:\n",
      "313/313 [==============================] - 1s 3ms/step - loss: 0.4670 - accuracy: 0.8417\n",
      "Interpolated weights 5:\n",
      "313/313 [==============================] - 1s 3ms/step - loss: 0.3489 - accuracy: 0.8833\n",
      "Interpolated weights 6:\n",
      "313/313 [==============================] - 1s 4ms/step - loss: 0.3489 - accuracy: 0.8833\n",
      "313/313 [==============================] - 1s 4ms/step - loss: 0.3279 - accuracy: 0.8855\n",
      "313/313 [==============================] - 1s 3ms/step - loss: 1.1168 - accuracy: 0.6298\n",
      "0.32794642448425293 1.1168464422225952\n",
      " 31/313 [=>............................] - ETA: 0s - loss: 0.4845 - accuracy: 0.8417"
     ]
    },
    {
     "name": "stderr",
     "output_type": "stream",
     "text": [
      "C:\\Users\\enes_\\AppData\\Local\\Temp\\ipykernel_7704\\1398563145.py:88: VisibleDeprecationWarning:\n",
      "\n",
      "Creating an ndarray from ragged nested sequences (which is a list-or-tuple of lists-or-tuples-or ndarrays with different lengths or shapes) is deprecated. If you meant to do this, you must specify 'dtype=object' when creating the ndarray.\n",
      "\n"
     ]
    },
    {
     "name": "stdout",
     "output_type": "stream",
     "text": [
      "313/313 [==============================] - 1s 3ms/step - loss: 0.4750 - accuracy: 0.8472\n",
      "313/313 [==============================] - 1s 3ms/step - loss: 1.1888 - accuracy: 0.5706\n",
      "0.4750406742095947 1.1888235807418823\n",
      "313/313 [==============================] - 1s 4ms/step - loss: 1.1168 - accuracy: 0.6298\n",
      "313/313 [==============================] - 1s 3ms/step - loss: 0.4670 - accuracy: 0.8417\n",
      "1.1168464422225952 0.46704745292663574\n",
      "  1/313 [..............................] - ETA: 9s - loss: 1.1903 - accuracy: 0.6250"
     ]
    },
    {
     "name": "stderr",
     "output_type": "stream",
     "text": [
      "C:\\Users\\enes_\\AppData\\Local\\Temp\\ipykernel_7704\\1398563145.py:90: VisibleDeprecationWarning:\n",
      "\n",
      "Creating an ndarray from ragged nested sequences (which is a list-or-tuple of lists-or-tuples-or ndarrays with different lengths or shapes) is deprecated. If you meant to do this, you must specify 'dtype=object' when creating the ndarray.\n",
      "\n"
     ]
    },
    {
     "name": "stdout",
     "output_type": "stream",
     "text": [
      "313/313 [==============================] - 1s 3ms/step - loss: 1.1888 - accuracy: 0.5706\n",
      "313/313 [==============================] - 1s 4ms/step - loss: 0.3489 - accuracy: 0.8833\n",
      "1.1888235807418823 0.3488624393939972\n",
      "313/313 [==============================] - 1s 3ms/step - loss: 0.4670 - accuracy: 0.8417\n",
      "313/313 [==============================] - 1s 3ms/step - loss: 0.3489 - accuracy: 0.8833\n",
      "0.46704745292663574 0.3488624393939972\n"
     ]
    },
    {
     "name": "stderr",
     "output_type": "stream",
     "text": [
      "C:\\Users\\enes_\\AppData\\Local\\Temp\\ipykernel_7704\\1398563145.py:96: VisibleDeprecationWarning:\n",
      "\n",
      "Creating an ndarray from ragged nested sequences (which is a list-or-tuple of lists-or-tuples-or ndarrays with different lengths or shapes) is deprecated. If you meant to do this, you must specify 'dtype=object' when creating the ndarray.\n",
      "\n",
      "C:\\Users\\enes_\\AppData\\Local\\Temp\\ipykernel_7704\\1398563145.py:115: VisibleDeprecationWarning:\n",
      "\n",
      "Creating an ndarray from ragged nested sequences (which is a list-or-tuple of lists-or-tuples-or ndarrays with different lengths or shapes) is deprecated. If you meant to do this, you must specify 'dtype=object' when creating the ndarray.\n",
      "\n",
      "C:\\Users\\enes_\\AppData\\Local\\Temp\\ipykernel_7704\\1398563145.py:145: VisibleDeprecationWarning:\n",
      "\n",
      "Creating an ndarray from ragged nested sequences (which is a list-or-tuple of lists-or-tuples-or ndarrays with different lengths or shapes) is deprecated. If you meant to do this, you must specify 'dtype=object' when creating the ndarray.\n",
      "\n"
     ]
    },
    {
     "name": "stdout",
     "output_type": "stream",
     "text": [
      "313/313 [==============================] - 1s 3ms/step - loss: 0.3279 - accuracy: 0.8855\n",
      "313/313 [==============================] - 1s 4ms/step - loss: 1.0016 - accuracy: 0.7220\n",
      "0.32794642448425293 1.001638650894165\n",
      "313/313 [==============================] - 1s 3ms/step - loss: 0.4694 - accuracy: 0.8507\n",
      "313/313 [==============================] - 1s 3ms/step - loss: 1.0940 - accuracy: 0.6435\n",
      "0.469402939081192 1.0940101146697998\n",
      "313/313 [==============================] - 1s 4ms/step - loss: 1.0016 - accuracy: 0.7220\n",
      "313/313 [==============================] - 1s 3ms/step - loss: 0.4586 - accuracy: 0.8499\n",
      "1.001638650894165 0.4586166441440582\n",
      "313/313 [==============================] - 1s 4ms/step - loss: 1.0940 - accuracy: 0.6435\n",
      "313/313 [==============================] - 1s 4ms/step - loss: 0.3437 - accuracy: 0.8846\n",
      "1.0940101146697998 0.34374380111694336\n",
      "313/313 [==============================] - 1s 4ms/step - loss: 0.4586 - accuracy: 0.8499\n",
      "313/313 [==============================] - 1s 4ms/step - loss: 0.3489 - accuracy: 0.8833\n",
      "0.4586166441440582 0.3488624393939972\n",
      "313/313 [==============================] - 1s 3ms/step - loss: 0.3279 - accuracy: 0.8855\n",
      "313/313 [==============================] - 1s 4ms/step - loss: 0.9381 - accuracy: 0.7536\n",
      "0.32794642448425293 0.9381420016288757\n",
      "313/313 [==============================] - 1s 3ms/step - loss: 0.4655 - accuracy: 0.8549\n",
      "313/313 [==============================] - 1s 3ms/step - loss: 1.0230 - accuracy: 0.6891\n",
      "0.4655146598815918 1.0229699611663818\n",
      "313/313 [==============================] - 1s 4ms/step - loss: 0.9381 - accuracy: 0.7536\n",
      "313/313 [==============================] - 1s 4ms/step - loss: 0.4534 - accuracy: 0.8542\n",
      "0.9381420016288757 0.45336470007896423\n",
      "313/313 [==============================] - 1s 3ms/step - loss: 1.0230 - accuracy: 0.6891\n",
      "313/313 [==============================] - 1s 3ms/step - loss: 0.3404 - accuracy: 0.8861\n",
      "1.0229699611663818 0.34042954444885254\n",
      "313/313 [==============================] - 1s 4ms/step - loss: 0.4534 - accuracy: 0.8542\n",
      "313/313 [==============================] - 1s 3ms/step - loss: 0.3489 - accuracy: 0.8833\n",
      "0.45336470007896423 0.3488624393939972\n",
      "313/313 [==============================] - 1s 3ms/step - loss: 0.3279 - accuracy: 0.8855\n",
      "313/313 [==============================] - 1s 3ms/step - loss: 0.8912 - accuracy: 0.7730\n",
      "0.32794642448425293 0.8911924958229065\n",
      "313/313 [==============================] - 1s 4ms/step - loss: 0.4628 - accuracy: 0.8543\n",
      "313/313 [==============================] - 1s 3ms/step - loss: 0.9652 - accuracy: 0.7250\n",
      "0.46284931898117065 0.9652202129364014\n",
      "313/313 [==============================] - 1s 3ms/step - loss: 0.8912 - accuracy: 0.7730\n",
      "313/313 [==============================] - 1s 3ms/step - loss: 0.4500 - accuracy: 0.8556\n",
      "0.8911924958229065 0.4499703645706177\n",
      "313/313 [==============================] - 1s 3ms/step - loss: 0.9652 - accuracy: 0.7250\n",
      "313/313 [==============================] - 1s 3ms/step - loss: 0.3381 - accuracy: 0.8865\n",
      "0.9652202129364014 0.33808451890945435\n",
      "313/313 [==============================] - 1s 3ms/step - loss: 0.4500 - accuracy: 0.8556\n",
      "313/313 [==============================] - 1s 3ms/step - loss: 0.3489 - accuracy: 0.8833\n",
      "0.4499703645706177 0.3488624393939972\n",
      "313/313 [==============================] - 1s 3ms/step - loss: 0.3279 - accuracy: 0.8855\n",
      "313/313 [==============================] - 1s 3ms/step - loss: 0.8528 - accuracy: 0.7828\n",
      "0.32794642448425293 0.852795422077179\n",
      "313/313 [==============================] - 1s 4ms/step - loss: 0.4610 - accuracy: 0.8546\n",
      "313/313 [==============================] - 1s 3ms/step - loss: 0.9162 - accuracy: 0.7467\n",
      "0.4610482454299927 0.9162023663520813\n",
      "313/313 [==============================] - 1s 3ms/step - loss: 0.8528 - accuracy: 0.7828\n",
      "313/313 [==============================] - 1s 4ms/step - loss: 0.4477 - accuracy: 0.8563\n",
      "0.852795422077179 0.44770872592926025\n",
      "313/313 [==============================] - 1s 3ms/step - loss: 0.9162 - accuracy: 0.7467\n",
      "313/313 [==============================] - 1s 3ms/step - loss: 0.3363 - accuracy: 0.8866\n",
      "0.9162023663520813 0.3362833857536316\n",
      "313/313 [==============================] - 1s 3ms/step - loss: 0.4477 - accuracy: 0.8563\n",
      "313/313 [==============================] - 1s 3ms/step - loss: 0.3489 - accuracy: 0.8833\n",
      "0.44770872592926025 0.3488624393939972\n",
      "313/313 [==============================] - 1s 4ms/step - loss: 0.3279 - accuracy: 0.8855\n",
      "313/313 [==============================] - 1s 3ms/step - loss: 0.8204 - accuracy: 0.7925\n",
      "0.32794642448425293 0.8203989267349243\n",
      "313/313 [==============================] - 1s 3ms/step - loss: 0.4598 - accuracy: 0.8553\n",
      "313/313 [==============================] - 1s 3ms/step - loss: 0.8739 - accuracy: 0.7622\n",
      "0.45983457565307617 0.8738622069358826\n",
      "313/313 [==============================] - 1s 3ms/step - loss: 0.8204 - accuracy: 0.7925\n",
      "313/313 [==============================] - 1s 3ms/step - loss: 0.4461 - accuracy: 0.8573\n",
      "0.8203989267349243 0.4461004436016083\n",
      "313/313 [==============================] - 1s 3ms/step - loss: 0.8739 - accuracy: 0.7622\n",
      "313/313 [==============================] - 1s 3ms/step - loss: 0.3348 - accuracy: 0.8872\n",
      "0.8738622069358826 0.3348042368888855\n",
      "313/313 [==============================] - 1s 3ms/step - loss: 0.4461 - accuracy: 0.8573\n",
      "313/313 [==============================] - 1s 3ms/step - loss: 0.3489 - accuracy: 0.8833\n",
      "0.4461004436016083 0.3488624393939972\n",
      "313/313 [==============================] - 1s 3ms/step - loss: 0.3279 - accuracy: 0.8855\n",
      "313/313 [==============================] - 1s 4ms/step - loss: 0.7927 - accuracy: 0.7970\n",
      "0.32794642448425293 0.7926638722419739\n",
      "313/313 [==============================] - 1s 3ms/step - loss: 0.4590 - accuracy: 0.8557\n",
      "313/313 [==============================] - 1s 3ms/step - loss: 0.8372 - accuracy: 0.7774\n",
      "0.45900893211364746 0.8371958136558533\n",
      "313/313 [==============================] - 1s 3ms/step - loss: 0.7927 - accuracy: 0.7970\n",
      "313/313 [==============================] - 1s 3ms/step - loss: 0.4449 - accuracy: 0.8585\n",
      "0.7926638722419739 0.44488564133644104\n",
      "313/313 [==============================] - 1s 3ms/step - loss: 0.8372 - accuracy: 0.7774\n",
      "313/313 [==============================] - 1s 3ms/step - loss: 0.3335 - accuracy: 0.8873\n",
      "0.8371958136558533 0.333516925573349\n",
      "313/313 [==============================] - 1s 3ms/step - loss: 0.4449 - accuracy: 0.8585\n",
      "313/313 [==============================] - 1s 3ms/step - loss: 0.3489 - accuracy: 0.8833\n",
      "0.44488564133644104 0.3488624393939972\n",
      "313/313 [==============================] - 1s 3ms/step - loss: 0.3279 - accuracy: 0.8855\n",
      "313/313 [==============================] - 1s 3ms/step - loss: 0.7686 - accuracy: 0.7995\n",
      "0.32794642448425293 0.7686383128166199\n",
      "313/313 [==============================] - 1s 3ms/step - loss: 0.4584 - accuracy: 0.8559\n",
      "313/313 [==============================] - 1s 3ms/step - loss: 0.8054 - accuracy: 0.7881\n",
      "0.4584498405456543 0.8053895831108093\n",
      "313/313 [==============================] - 1s 3ms/step - loss: 0.7686 - accuracy: 0.7995\n",
      "313/313 [==============================] - 1s 3ms/step - loss: 0.4439 - accuracy: 0.8607\n",
      "0.7686383128166199 0.44393494725227356\n",
      "313/313 [==============================] - 1s 3ms/step - loss: 0.8054 - accuracy: 0.7881\n",
      "313/313 [==============================] - 1s 3ms/step - loss: 0.3324 - accuracy: 0.8868\n",
      "0.8053895831108093 0.3323679268360138\n",
      "313/313 [==============================] - 1s 3ms/step - loss: 0.4439 - accuracy: 0.8607\n",
      "313/313 [==============================] - 1s 3ms/step - loss: 0.3489 - accuracy: 0.8833\n",
      "0.44393494725227356 0.3488624393939972\n",
      "313/313 [==============================] - 1s 3ms/step - loss: 0.3279 - accuracy: 0.8855\n",
      "313/313 [==============================] - 1s 3ms/step - loss: 0.7476 - accuracy: 0.8014\n",
      "0.32794642448425293 0.7475868463516235\n",
      "313/313 [==============================] - 1s 3ms/step - loss: 0.4581 - accuracy: 0.8568\n",
      "313/313 [==============================] - 1s 3ms/step - loss: 0.7778 - accuracy: 0.7956\n",
      "0.45805469155311584 0.7777633666992188\n",
      "313/313 [==============================] - 1s 3ms/step - loss: 0.7476 - accuracy: 0.8014\n",
      "313/313 [==============================] - 1s 3ms/step - loss: 0.4431 - accuracy: 0.8623\n",
      "0.7475868463516235 0.4431335926055908\n",
      "313/313 [==============================] - 1s 3ms/step - loss: 0.7778 - accuracy: 0.7956\n",
      "313/313 [==============================] - 1s 3ms/step - loss: 0.3313 - accuracy: 0.8871\n",
      "0.7777633666992188 0.3313172459602356\n",
      "313/313 [==============================] - 1s 3ms/step - loss: 0.4431 - accuracy: 0.8623\n",
      "313/313 [==============================] - 1s 3ms/step - loss: 0.3489 - accuracy: 0.8833\n",
      "0.4431335926055908 0.3488624393939972\n",
      "313/313 [==============================] - 1s 3ms/step - loss: 0.3279 - accuracy: 0.8855\n",
      "313/313 [==============================] - 1s 3ms/step - loss: 0.7290 - accuracy: 0.8025\n",
      "0.32794642448425293 0.7290018796920776\n",
      "313/313 [==============================] - 1s 3ms/step - loss: 0.4577 - accuracy: 0.8564\n",
      "313/313 [==============================] - 1s 3ms/step - loss: 0.7536 - accuracy: 0.7986\n",
      "0.45773109793663025 0.7536487579345703\n",
      "313/313 [==============================] - 1s 3ms/step - loss: 0.7290 - accuracy: 0.8025\n",
      "313/313 [==============================] - 1s 3ms/step - loss: 0.4424 - accuracy: 0.8630\n",
      "0.7290018796920776 0.44239360094070435\n",
      "313/313 [==============================] - 1s 3ms/step - loss: 0.7536 - accuracy: 0.7986\n",
      "313/313 [==============================] - 1s 3ms/step - loss: 0.3303 - accuracy: 0.8870\n",
      "0.7536487579345703 0.33034422993659973\n",
      "313/313 [==============================] - 1s 3ms/step - loss: 0.4424 - accuracy: 0.8630\n",
      "313/313 [==============================] - 1s 3ms/step - loss: 0.3489 - accuracy: 0.8833\n",
      "0.44239360094070435 0.3488624393939972\n",
      "313/313 [==============================] - 1s 3ms/step - loss: 0.3279 - accuracy: 0.8855\n",
      "313/313 [==============================] - 1s 2ms/step - loss: 0.7124 - accuracy: 0.8037\n",
      "0.32794642448425293 0.7124415636062622\n",
      "313/313 [==============================] - 1s 3ms/step - loss: 0.4574 - accuracy: 0.8564\n",
      "313/313 [==============================] - 1s 3ms/step - loss: 0.7325 - accuracy: 0.8007\n",
      "0.45743095874786377 0.732528030872345\n",
      "313/313 [==============================] - 1s 3ms/step - loss: 0.7124 - accuracy: 0.8037\n",
      "313/313 [==============================] - 1s 3ms/step - loss: 0.4417 - accuracy: 0.8621\n",
      "0.7124415636062622 0.44170835614204407\n",
      "313/313 [==============================] - 1s 3ms/step - loss: 0.7325 - accuracy: 0.8007\n",
      "313/313 [==============================] - 1s 3ms/step - loss: 0.3294 - accuracy: 0.8870\n",
      "0.732528030872345 0.3294372856616974\n",
      "313/313 [==============================] - 1s 3ms/step - loss: 0.4417 - accuracy: 0.8621\n",
      "313/313 [==============================] - 1s 3ms/step - loss: 0.3489 - accuracy: 0.8833\n",
      "0.44170835614204407 0.3488624393939972\n",
      "313/313 [==============================] - 1s 3ms/step - loss: 0.3279 - accuracy: 0.8855\n",
      "313/313 [==============================] - 1s 3ms/step - loss: 0.6975 - accuracy: 0.8058\n",
      "0.32794642448425293 0.6975407600402832\n",
      "313/313 [==============================] - 1s 3ms/step - loss: 0.4571 - accuracy: 0.8561\n",
      "313/313 [==============================] - 1s 3ms/step - loss: 0.7139 - accuracy: 0.8032\n",
      "0.4571271538734436 0.7139066457748413\n",
      "313/313 [==============================] - 1s 3ms/step - loss: 0.6975 - accuracy: 0.8058\n",
      "313/313 [==============================] - 1s 3ms/step - loss: 0.4411 - accuracy: 0.8620\n",
      "0.6975407600402832 0.44107359647750854\n",
      "313/313 [==============================] - 1s 3ms/step - loss: 0.7139 - accuracy: 0.8032\n",
      "313/313 [==============================] - 1s 3ms/step - loss: 0.3286 - accuracy: 0.8874\n",
      "0.7139066457748413 0.32858797907829285\n",
      "313/313 [==============================] - 1s 3ms/step - loss: 0.4411 - accuracy: 0.8620\n",
      "313/313 [==============================] - 1s 3ms/step - loss: 0.3489 - accuracy: 0.8833\n",
      "0.44107359647750854 0.3488624393939972\n",
      "313/313 [==============================] - 1s 3ms/step - loss: 0.3279 - accuracy: 0.8855\n",
      "313/313 [==============================] - 1s 3ms/step - loss: 0.6840 - accuracy: 0.8079\n",
      "0.32794642448425293 0.6840286254882812\n",
      "313/313 [==============================] - 1s 3ms/step - loss: 0.4568 - accuracy: 0.8560\n",
      "313/313 [==============================] - 1s 3ms/step - loss: 0.6974 - accuracy: 0.8060\n",
      "0.45676448941230774 0.6973621249198914\n",
      "313/313 [==============================] - 1s 3ms/step - loss: 0.6840 - accuracy: 0.8079\n",
      "313/313 [==============================] - 1s 3ms/step - loss: 0.4405 - accuracy: 0.8624\n",
      "0.6840286254882812 0.44048011302948\n",
      "313/313 [==============================] - 1s 3ms/step - loss: 0.6974 - accuracy: 0.8060\n",
      "313/313 [==============================] - 1s 3ms/step - loss: 0.3278 - accuracy: 0.8879\n",
      "0.6973621249198914 0.3277842104434967\n",
      "313/313 [==============================] - 1s 3ms/step - loss: 0.4405 - accuracy: 0.8624\n",
      "313/313 [==============================] - 1s 3ms/step - loss: 0.3489 - accuracy: 0.8833\n",
      "0.44048011302948 0.3488624393939972\n",
      "313/313 [==============================] - 1s 3ms/step - loss: 0.3279 - accuracy: 0.8855\n",
      "313/313 [==============================] - 1s 3ms/step - loss: 0.6717 - accuracy: 0.8094\n",
      "0.32794642448425293 0.6716905236244202\n",
      "313/313 [==============================] - 1s 3ms/step - loss: 0.4563 - accuracy: 0.8556\n",
      "313/313 [==============================] - 1s 3ms/step - loss: 0.6825 - accuracy: 0.8082\n",
      "0.4563450813293457 0.6825403571128845\n",
      "313/313 [==============================] - 1s 3ms/step - loss: 0.6717 - accuracy: 0.8094\n",
      "313/313 [==============================] - 1s 3ms/step - loss: 0.4399 - accuracy: 0.8622\n",
      "0.6716905236244202 0.4398875832557678\n",
      "313/313 [==============================] - 1s 3ms/step - loss: 0.6825 - accuracy: 0.8082\n",
      "313/313 [==============================] - 1s 3ms/step - loss: 0.3270 - accuracy: 0.8873\n",
      "0.6825403571128845 0.32702529430389404\n",
      "313/313 [==============================] - 1s 3ms/step - loss: 0.4399 - accuracy: 0.8622\n",
      "313/313 [==============================] - 1s 3ms/step - loss: 0.3489 - accuracy: 0.8833\n",
      "0.4398875832557678 0.3488624393939972\n",
      "313/313 [==============================] - 1s 3ms/step - loss: 0.3279 - accuracy: 0.8855\n",
      "313/313 [==============================] - 1s 3ms/step - loss: 0.6603 - accuracy: 0.8114\n",
      "0.32794642448425293 0.6603408455848694\n",
      "313/313 [==============================] - 1s 3ms/step - loss: 0.4559 - accuracy: 0.8540\n",
      "313/313 [==============================] - 1s 3ms/step - loss: 0.6692 - accuracy: 0.8099\n",
      "0.4558531641960144 0.669167697429657\n",
      "313/313 [==============================] - 1s 3ms/step - loss: 0.6603 - accuracy: 0.8114\n",
      "313/313 [==============================] - 1s 3ms/step - loss: 0.4393 - accuracy: 0.8620\n",
      "0.6603408455848694 0.4392712414264679\n",
      "313/313 [==============================] - 1s 3ms/step - loss: 0.6692 - accuracy: 0.8099\n",
      "313/313 [==============================] - 1s 3ms/step - loss: 0.3263 - accuracy: 0.8883\n",
      "0.669167697429657 0.3263065218925476\n",
      "313/313 [==============================] - 1s 3ms/step - loss: 0.4393 - accuracy: 0.8620\n",
      "313/313 [==============================] - 1s 3ms/step - loss: 0.3489 - accuracy: 0.8833\n",
      "0.4392712414264679 0.3488624393939972\n",
      "313/313 [==============================] - 1s 3ms/step - loss: 0.3279 - accuracy: 0.8855\n",
      "313/313 [==============================] - 1s 3ms/step - loss: 0.6498 - accuracy: 0.8124\n",
      "0.32794642448425293 0.6498284935951233\n",
      "313/313 [==============================] - 1s 3ms/step - loss: 0.4553 - accuracy: 0.8537\n",
      "313/313 [==============================] - 1s 3ms/step - loss: 0.6570 - accuracy: 0.8120\n",
      "0.4553174376487732 0.6570152044296265\n",
      "313/313 [==============================] - 1s 3ms/step - loss: 0.6498 - accuracy: 0.8124\n",
      "313/313 [==============================] - 1s 3ms/step - loss: 0.4386 - accuracy: 0.8612\n",
      "0.6498284935951233 0.4386380910873413\n",
      "313/313 [==============================] - 1s 3ms/step - loss: 0.6570 - accuracy: 0.8120\n",
      "313/313 [==============================] - 1s 3ms/step - loss: 0.3256 - accuracy: 0.8887\n",
      "0.6570152044296265 0.3256230354309082\n",
      "313/313 [==============================] - 1s 3ms/step - loss: 0.4386 - accuracy: 0.8612\n",
      "313/313 [==============================] - 1s 3ms/step - loss: 0.3489 - accuracy: 0.8833\n",
      "0.4386380910873413 0.3488624393939972\n",
      "313/313 [==============================] - 1s 3ms/step - loss: 0.3279 - accuracy: 0.8855\n",
      "313/313 [==============================] - 1s 3ms/step - loss: 0.6401 - accuracy: 0.8127\n",
      "0.32794642448425293 0.64005446434021\n",
      "313/313 [==============================] - 1s 3ms/step - loss: 0.4547 - accuracy: 0.8534\n",
      "313/313 [==============================] - 1s 3ms/step - loss: 0.6459 - accuracy: 0.8121\n",
      "0.4547288119792938 0.6459145545959473\n",
      "313/313 [==============================] - 1s 3ms/step - loss: 0.6401 - accuracy: 0.8127\n",
      "313/313 [==============================] - 1s 3ms/step - loss: 0.4380 - accuracy: 0.8603\n",
      "0.64005446434021 0.43799537420272827\n",
      "313/313 [==============================] - 1s 3ms/step - loss: 0.6459 - accuracy: 0.8121\n",
      "313/313 [==============================] - 1s 3ms/step - loss: 0.3250 - accuracy: 0.8889\n",
      "0.6459145545959473 0.3249738812446594\n",
      "313/313 [==============================] - 1s 3ms/step - loss: 0.4380 - accuracy: 0.8603\n",
      "313/313 [==============================] - 1s 3ms/step - loss: 0.3489 - accuracy: 0.8833\n",
      "0.43799537420272827 0.3488624393939972\n",
      "313/313 [==============================] - 1s 3ms/step - loss: 0.3279 - accuracy: 0.8855\n",
      "313/313 [==============================] - 1s 3ms/step - loss: 0.6309 - accuracy: 0.8137\n",
      "0.32794642448425293 0.6309299468994141\n",
      "313/313 [==============================] - 1s 3ms/step - loss: 0.4541 - accuracy: 0.8539\n",
      "313/313 [==============================] - 1s 3ms/step - loss: 0.6357 - accuracy: 0.8133\n",
      "0.4540939927101135 0.6357277035713196\n",
      "313/313 [==============================] - 1s 3ms/step - loss: 0.6309 - accuracy: 0.8137\n",
      "313/313 [==============================] - 1s 3ms/step - loss: 0.4373 - accuracy: 0.8598\n",
      "0.6309299468994141 0.4373347759246826\n",
      "313/313 [==============================] - 1s 3ms/step - loss: 0.6357 - accuracy: 0.8133\n",
      "313/313 [==============================] - 1s 3ms/step - loss: 0.3244 - accuracy: 0.8890\n",
      "0.6357277035713196 0.324354887008667\n",
      "313/313 [==============================] - 1s 3ms/step - loss: 0.4373 - accuracy: 0.8598\n",
      "313/313 [==============================] - 1s 3ms/step - loss: 0.3489 - accuracy: 0.8833\n",
      "0.4373347759246826 0.3488624393939972\n",
      "313/313 [==============================] - 1s 3ms/step - loss: 0.3279 - accuracy: 0.8855\n",
      "313/313 [==============================] - 1s 3ms/step - loss: 0.6224 - accuracy: 0.8152\n",
      "0.32794642448425293 0.6223852038383484\n",
      "313/313 [==============================] - 1s 3ms/step - loss: 0.4534 - accuracy: 0.8540\n",
      "313/313 [==============================] - 1s 3ms/step - loss: 0.6263 - accuracy: 0.8145\n",
      "0.45343026518821716 0.6263329386711121\n",
      "313/313 [==============================] - 1s 3ms/step - loss: 0.6224 - accuracy: 0.8152\n",
      "313/313 [==============================] - 1s 3ms/step - loss: 0.4367 - accuracy: 0.8595\n",
      "0.6223852038383484 0.43665897846221924\n",
      "313/313 [==============================] - 1s 3ms/step - loss: 0.6263 - accuracy: 0.8145\n",
      "313/313 [==============================] - 1s 3ms/step - loss: 0.3238 - accuracy: 0.8894\n",
      "0.6263329386711121 0.32376301288604736\n",
      "313/313 [==============================] - 1s 3ms/step - loss: 0.4367 - accuracy: 0.8595\n",
      "313/313 [==============================] - 1s 3ms/step - loss: 0.3489 - accuracy: 0.8833\n",
      "0.43665897846221924 0.3488624393939972\n",
      "313/313 [==============================] - 1s 3ms/step - loss: 0.3279 - accuracy: 0.8855\n",
      "313/313 [==============================] - 1s 3ms/step - loss: 0.6144 - accuracy: 0.8163\n",
      "0.32794642448425293 0.6143643260002136\n",
      "313/313 [==============================] - 1s 3ms/step - loss: 0.4527 - accuracy: 0.8537\n",
      "313/313 [==============================] - 1s 3ms/step - loss: 0.6176 - accuracy: 0.8161\n",
      "0.45271557569503784 0.6176317930221558\n",
      "313/313 [==============================] - 1s 3ms/step - loss: 0.6144 - accuracy: 0.8163\n",
      "313/313 [==============================] - 1s 3ms/step - loss: 0.4360 - accuracy: 0.8594\n",
      "0.6143643260002136 0.4359792470932007\n",
      "313/313 [==============================] - 1s 3ms/step - loss: 0.6176 - accuracy: 0.8161\n",
      "313/313 [==============================] - 1s 3ms/step - loss: 0.3232 - accuracy: 0.8895\n",
      "0.6176317930221558 0.3231920301914215\n",
      "313/313 [==============================] - 1s 3ms/step - loss: 0.4360 - accuracy: 0.8594\n",
      "313/313 [==============================] - 1s 3ms/step - loss: 0.3489 - accuracy: 0.8833\n",
      "0.4359792470932007 0.3488624393939972\n",
      "313/313 [==============================] - 1s 3ms/step - loss: 0.3279 - accuracy: 0.8855\n",
      "313/313 [==============================] - 1s 3ms/step - loss: 0.6068 - accuracy: 0.8170\n",
      "0.32794642448425293 0.6068030595779419\n",
      "313/313 [==============================] - 1s 3ms/step - loss: 0.4520 - accuracy: 0.8540\n",
      "313/313 [==============================] - 1s 3ms/step - loss: 0.6095 - accuracy: 0.8174\n",
      "0.45196229219436646 0.6095273494720459\n",
      "313/313 [==============================] - 1s 3ms/step - loss: 0.6068 - accuracy: 0.8170\n",
      "313/313 [==============================] - 1s 3ms/step - loss: 0.4353 - accuracy: 0.8590\n",
      "0.6068030595779419 0.4352774918079376\n",
      "313/313 [==============================] - 1s 3ms/step - loss: 0.6095 - accuracy: 0.8174\n",
      "313/313 [==============================] - 1s 3ms/step - loss: 0.3226 - accuracy: 0.8896\n",
      "0.6095273494720459 0.3226403594017029\n",
      "313/313 [==============================] - 1s 3ms/step - loss: 0.4353 - accuracy: 0.8590\n",
      "313/313 [==============================] - 1s 3ms/step - loss: 0.3489 - accuracy: 0.8833\n",
      "0.4352774918079376 0.3488624393939972\n",
      "313/313 [==============================] - 1s 3ms/step - loss: 0.3279 - accuracy: 0.8855\n",
      "313/313 [==============================] - 1s 3ms/step - loss: 0.5997 - accuracy: 0.8182\n",
      "0.32794642448425293 0.5996581315994263\n",
      "313/313 [==============================] - 1s 3ms/step - loss: 0.4512 - accuracy: 0.8539\n",
      "313/313 [==============================] - 1s 3ms/step - loss: 0.6020 - accuracy: 0.8190\n",
      "0.45117101073265076 0.601962685585022\n",
      "313/313 [==============================] - 1s 3ms/step - loss: 0.5997 - accuracy: 0.8182\n",
      "313/313 [==============================] - 1s 3ms/step - loss: 0.4345 - accuracy: 0.8585\n",
      "0.5996581315994263 0.43454882502555847\n",
      "313/313 [==============================] - 1s 3ms/step - loss: 0.6020 - accuracy: 0.8190\n",
      "313/313 [==============================] - 1s 3ms/step - loss: 0.3221 - accuracy: 0.8895\n",
      "0.601962685585022 0.32211121916770935\n",
      "313/313 [==============================] - 1s 3ms/step - loss: 0.4345 - accuracy: 0.8585\n",
      "313/313 [==============================] - 1s 3ms/step - loss: 0.3489 - accuracy: 0.8833\n",
      "0.43454882502555847 0.3488624393939972\n",
      "313/313 [==============================] - 1s 3ms/step - loss: 0.3279 - accuracy: 0.8855\n",
      "313/313 [==============================] - 1s 3ms/step - loss: 0.5929 - accuracy: 0.8197\n",
      "0.32794642448425293 0.5929024815559387\n",
      "313/313 [==============================] - 1s 3ms/step - loss: 0.4503 - accuracy: 0.8539\n",
      "313/313 [==============================] - 1s 3ms/step - loss: 0.5949 - accuracy: 0.8199\n",
      "0.4503483772277832 0.5948877334594727\n",
      "313/313 [==============================] - 1s 3ms/step - loss: 0.5929 - accuracy: 0.8197\n",
      "313/313 [==============================] - 1s 3ms/step - loss: 0.4338 - accuracy: 0.8586\n",
      "0.5929024815559387 0.43382176756858826\n",
      "313/313 [==============================] - 1s 3ms/step - loss: 0.5949 - accuracy: 0.8199\n",
      "313/313 [==============================] - 1s 3ms/step - loss: 0.3216 - accuracy: 0.8896\n",
      "0.5948877334594727 0.3215988576412201\n",
      "313/313 [==============================] - 1s 3ms/step - loss: 0.4338 - accuracy: 0.8586\n",
      "313/313 [==============================] - 1s 3ms/step - loss: 0.3489 - accuracy: 0.8833\n",
      "0.43382176756858826 0.3488624393939972\n",
      "313/313 [==============================] - 1s 3ms/step - loss: 0.3279 - accuracy: 0.8855\n",
      "313/313 [==============================] - 1s 3ms/step - loss: 0.5865 - accuracy: 0.8201\n",
      "0.32794642448425293 0.5865032076835632\n",
      "313/313 [==============================] - 1s 3ms/step - loss: 0.4495 - accuracy: 0.8537\n",
      "313/313 [==============================] - 1s 3ms/step - loss: 0.5882 - accuracy: 0.8216\n",
      "0.4494859278202057 0.5882354974746704\n",
      "313/313 [==============================] - 1s 3ms/step - loss: 0.5865 - accuracy: 0.8201\n",
      "313/313 [==============================] - 1s 3ms/step - loss: 0.4331 - accuracy: 0.8590\n",
      "0.5865032076835632 0.43310829997062683\n",
      "313/313 [==============================] - 1s 3ms/step - loss: 0.5882 - accuracy: 0.8216\n",
      "313/313 [==============================] - 1s 3ms/step - loss: 0.3211 - accuracy: 0.8897\n",
      "0.5882354974746704 0.3211056888103485\n",
      "313/313 [==============================] - 1s 3ms/step - loss: 0.4331 - accuracy: 0.8590\n",
      "313/313 [==============================] - 1s 3ms/step - loss: 0.3489 - accuracy: 0.8833\n",
      "0.43310829997062683 0.3488624393939972\n",
      "313/313 [==============================] - 1s 3ms/step - loss: 0.3279 - accuracy: 0.8855\n",
      "313/313 [==============================] - 1s 3ms/step - loss: 0.5804 - accuracy: 0.8218\n",
      "0.32794642448425293 0.5804328918457031\n",
      "313/313 [==============================] - 1s 3ms/step - loss: 0.4486 - accuracy: 0.8540\n",
      "313/313 [==============================] - 1s 3ms/step - loss: 0.5820 - accuracy: 0.8228\n",
      "0.44858306646347046 0.5819975733757019\n",
      "313/313 [==============================] - 1s 3ms/step - loss: 0.5804 - accuracy: 0.8218\n",
      "313/313 [==============================] - 1s 3ms/step - loss: 0.4324 - accuracy: 0.8589\n",
      "0.5804328918457031 0.43238091468811035\n",
      "313/313 [==============================] - 1s 3ms/step - loss: 0.5820 - accuracy: 0.8228\n",
      "313/313 [==============================] - 1s 3ms/step - loss: 0.3206 - accuracy: 0.8894\n",
      "0.5819975733757019 0.3206298053264618\n",
      "313/313 [==============================] - 1s 3ms/step - loss: 0.4324 - accuracy: 0.8589\n",
      "313/313 [==============================] - 1s 3ms/step - loss: 0.3489 - accuracy: 0.8833\n",
      "0.43238091468811035 0.3488624393939972\n",
      "313/313 [==============================] - 1s 3ms/step - loss: 0.3279 - accuracy: 0.8855\n",
      "313/313 [==============================] - 1s 3ms/step - loss: 0.5747 - accuracy: 0.8232\n",
      "0.32794642448425293 0.5746744871139526\n",
      "313/313 [==============================] - 1s 3ms/step - loss: 0.4476 - accuracy: 0.8544\n",
      "313/313 [==============================] - 1s 3ms/step - loss: 0.5761 - accuracy: 0.8233\n",
      "0.44764214754104614 0.5761364102363586\n",
      "313/313 [==============================] - 1s 3ms/step - loss: 0.5747 - accuracy: 0.8232\n",
      "313/313 [==============================] - 1s 3ms/step - loss: 0.4317 - accuracy: 0.8590\n",
      "0.5746744871139526 0.431659996509552\n",
      "313/313 [==============================] - 1s 3ms/step - loss: 0.5761 - accuracy: 0.8233\n",
      "313/313 [==============================] - 1s 3ms/step - loss: 0.3202 - accuracy: 0.8896\n",
      "0.5761364102363586 0.3201713263988495\n",
      "313/313 [==============================] - 1s 3ms/step - loss: 0.4317 - accuracy: 0.8590\n",
      "313/313 [==============================] - 1s 3ms/step - loss: 0.3489 - accuracy: 0.8833\n",
      "0.431659996509552 0.3488624393939972\n",
      "313/313 [==============================] - 1s 3ms/step - loss: 0.3279 - accuracy: 0.8855\n",
      "313/313 [==============================] - 1s 3ms/step - loss: 0.5692 - accuracy: 0.8240\n",
      "0.32794642448425293 0.5691959857940674\n",
      "313/313 [==============================] - 1s 3ms/step - loss: 0.4467 - accuracy: 0.8545\n",
      "313/313 [==============================] - 1s 3ms/step - loss: 0.5706 - accuracy: 0.8238\n",
      "0.4466746151447296 0.5706136226654053\n",
      "313/313 [==============================] - 1s 3ms/step - loss: 0.5692 - accuracy: 0.8240\n",
      "313/313 [==============================] - 1s 3ms/step - loss: 0.4309 - accuracy: 0.8593\n",
      "0.5691959857940674 0.4309435486793518\n",
      "313/313 [==============================] - 1s 3ms/step - loss: 0.5706 - accuracy: 0.8238\n",
      "313/313 [==============================] - 1s 3ms/step - loss: 0.3197 - accuracy: 0.8900\n",
      "0.5706136226654053 0.31972792744636536\n",
      "313/313 [==============================] - 1s 3ms/step - loss: 0.4309 - accuracy: 0.8593\n",
      "313/313 [==============================] - 1s 3ms/step - loss: 0.3489 - accuracy: 0.8833\n",
      "0.4309435486793518 0.3488624393939972\n",
      "313/313 [==============================] - 1s 3ms/step - loss: 0.3279 - accuracy: 0.8855\n",
      "313/313 [==============================] - 1s 3ms/step - loss: 0.5640 - accuracy: 0.8253\n",
      "0.32794642448425293 0.5639792084693909\n",
      "313/313 [==============================] - 1s 3ms/step - loss: 0.4457 - accuracy: 0.8547\n",
      "313/313 [==============================] - 1s 3ms/step - loss: 0.5654 - accuracy: 0.8245\n",
      "0.4457072615623474 0.5653870701789856\n",
      "313/313 [==============================] - 1s 3ms/step - loss: 0.5640 - accuracy: 0.8253\n",
      "313/313 [==============================] - 1s 3ms/step - loss: 0.4302 - accuracy: 0.8590\n",
      "0.5639792084693909 0.43022289872169495\n",
      "313/313 [==============================] - 1s 3ms/step - loss: 0.5654 - accuracy: 0.8245\n",
      "313/313 [==============================] - 1s 3ms/step - loss: 0.3193 - accuracy: 0.8901\n",
      "0.5653870701789856 0.31929734349250793\n",
      "313/313 [==============================] - 1s 3ms/step - loss: 0.4302 - accuracy: 0.8590\n",
      "313/313 [==============================] - 1s 3ms/step - loss: 0.3489 - accuracy: 0.8833\n",
      "0.43022289872169495 0.3488624393939972\n",
      "313/313 [==============================] - 1s 3ms/step - loss: 0.3279 - accuracy: 0.8855\n",
      "313/313 [==============================] - 1s 3ms/step - loss: 0.5590 - accuracy: 0.8264\n",
      "0.32794642448425293 0.5590013265609741\n",
      "313/313 [==============================] - 1s 3ms/step - loss: 0.4447 - accuracy: 0.8548\n",
      "313/313 [==============================] - 1s 3ms/step - loss: 0.5604 - accuracy: 0.8256\n",
      "0.4447285532951355 0.5604395270347595\n",
      "313/313 [==============================] - 1s 3ms/step - loss: 0.5590 - accuracy: 0.8264\n",
      "313/313 [==============================] - 1s 3ms/step - loss: 0.4295 - accuracy: 0.8588\n",
      "0.5590013265609741 0.42950525879859924\n",
      "313/313 [==============================] - 1s 3ms/step - loss: 0.5604 - accuracy: 0.8256\n",
      "313/313 [==============================] - 1s 3ms/step - loss: 0.3189 - accuracy: 0.8899\n",
      "0.5604395270347595 0.3188777267932892\n",
      "313/313 [==============================] - 1s 3ms/step - loss: 0.4295 - accuracy: 0.8588\n",
      "313/313 [==============================] - 1s 3ms/step - loss: 0.3489 - accuracy: 0.8833\n",
      "0.42950525879859924 0.3488624393939972\n",
      "313/313 [==============================] - 1s 3ms/step - loss: 0.3279 - accuracy: 0.8855\n",
      "313/313 [==============================] - 1s 3ms/step - loss: 0.5543 - accuracy: 0.8272\n",
      "0.32794642448425293 0.5542547702789307\n",
      "313/313 [==============================] - 1s 3ms/step - loss: 0.4437 - accuracy: 0.8548\n",
      "313/313 [==============================] - 1s 3ms/step - loss: 0.5558 - accuracy: 0.8267\n",
      "0.4437348544597626 0.5557529926300049\n",
      "313/313 [==============================] - 1s 3ms/step - loss: 0.5543 - accuracy: 0.8272\n",
      "313/313 [==============================] - 1s 3ms/step - loss: 0.4288 - accuracy: 0.8587\n",
      "0.5542547702789307 0.4287795424461365\n",
      "313/313 [==============================] - 1s 3ms/step - loss: 0.5558 - accuracy: 0.8267\n",
      "313/313 [==============================] - 1s 3ms/step - loss: 0.3185 - accuracy: 0.8898\n",
      "0.5557529926300049 0.3184713125228882\n",
      "313/313 [==============================] - 1s 3ms/step - loss: 0.4288 - accuracy: 0.8587\n",
      "313/313 [==============================] - 1s 3ms/step - loss: 0.3489 - accuracy: 0.8833\n",
      "0.4287795424461365 0.3488624393939972\n",
      "313/313 [==============================] - 1s 3ms/step - loss: 0.3279 - accuracy: 0.8855\n",
      "313/313 [==============================] - 1s 3ms/step - loss: 0.5497 - accuracy: 0.8278\n",
      "0.32794642448425293 0.5497233271598816\n",
      "313/313 [==============================] - 1s 3ms/step - loss: 0.4427 - accuracy: 0.8550\n",
      "313/313 [==============================] - 1s 3ms/step - loss: 0.5513 - accuracy: 0.8273\n",
      "0.442721962928772 0.5512998104095459\n",
      "313/313 [==============================] - 1s 3ms/step - loss: 0.5497 - accuracy: 0.8278\n",
      "313/313 [==============================] - 1s 3ms/step - loss: 0.4281 - accuracy: 0.8587\n",
      "0.5497233271598816 0.42805716395378113\n",
      "313/313 [==============================] - 1s 3ms/step - loss: 0.5513 - accuracy: 0.8273\n",
      "313/313 [==============================] - 1s 3ms/step - loss: 0.3181 - accuracy: 0.8895\n",
      "0.5512998104095459 0.31807249784469604\n",
      "313/313 [==============================] - 1s 3ms/step - loss: 0.4281 - accuracy: 0.8587\n",
      "313/313 [==============================] - 1s 3ms/step - loss: 0.3489 - accuracy: 0.8833\n",
      "0.42805716395378113 0.3488624393939972\n",
      "313/313 [==============================] - 1s 3ms/step - loss: 0.3279 - accuracy: 0.8855\n",
      "313/313 [==============================] - 1s 3ms/step - loss: 0.5454 - accuracy: 0.8288\n",
      "0.32794642448425293 0.5453968048095703\n",
      "313/313 [==============================] - 1s 3ms/step - loss: 0.4417 - accuracy: 0.8549\n",
      "313/313 [==============================] - 1s 3ms/step - loss: 0.5471 - accuracy: 0.8276\n",
      "0.44169995188713074 0.5470694303512573\n",
      "313/313 [==============================] - 1s 3ms/step - loss: 0.5454 - accuracy: 0.8288\n",
      "313/313 [==============================] - 1s 3ms/step - loss: 0.4273 - accuracy: 0.8592\n",
      "0.5453968048095703 0.42734941840171814\n",
      "313/313 [==============================] - 1s 3ms/step - loss: 0.5471 - accuracy: 0.8276\n",
      "313/313 [==============================] - 1s 3ms/step - loss: 0.3177 - accuracy: 0.8895\n",
      "0.5470694303512573 0.31768423318862915\n",
      "313/313 [==============================] - 1s 3ms/step - loss: 0.4273 - accuracy: 0.8592\n",
      "313/313 [==============================] - 1s 3ms/step - loss: 0.3489 - accuracy: 0.8833\n",
      "0.42734941840171814 0.3488624393939972\n",
      "313/313 [==============================] - 1s 3ms/step - loss: 0.3279 - accuracy: 0.8855\n",
      "313/313 [==============================] - 1s 4ms/step - loss: 0.5413 - accuracy: 0.8285\n",
      "0.32794642448425293 0.5412550568580627\n",
      "313/313 [==============================] - 1s 3ms/step - loss: 0.4407 - accuracy: 0.8549\n",
      "313/313 [==============================] - 1s 3ms/step - loss: 0.5430 - accuracy: 0.8280\n",
      "0.44067612290382385 0.5430427193641663\n",
      "313/313 [==============================] - 1s 3ms/step - loss: 0.5413 - accuracy: 0.8285\n",
      "313/313 [==============================] - 1s 3ms/step - loss: 0.4266 - accuracy: 0.8592\n",
      "0.5412550568580627 0.42664697766304016\n",
      "313/313 [==============================] - 1s 3ms/step - loss: 0.5430 - accuracy: 0.8280\n",
      "313/313 [==============================] - 1s 3ms/step - loss: 0.3173 - accuracy: 0.8896\n",
      "0.5430427193641663 0.31730443239212036\n",
      "313/313 [==============================] - 1s 3ms/step - loss: 0.4266 - accuracy: 0.8592\n",
      "313/313 [==============================] - 1s 3ms/step - loss: 0.3489 - accuracy: 0.8833\n",
      "0.42664697766304016 0.3488624393939972\n",
      "313/313 [==============================] - 1s 3ms/step - loss: 0.3279 - accuracy: 0.8855\n",
      "313/313 [==============================] - 1s 3ms/step - loss: 0.5373 - accuracy: 0.8303\n",
      "0.32794642448425293 0.537291944026947\n",
      "313/313 [==============================] - 1s 3ms/step - loss: 0.4397 - accuracy: 0.8549\n",
      "313/313 [==============================] - 1s 3ms/step - loss: 0.5392 - accuracy: 0.8288\n",
      "0.4396599233150482 0.5392129421234131\n",
      "313/313 [==============================] - 1s 3ms/step - loss: 0.5373 - accuracy: 0.8303\n",
      "313/313 [==============================] - 1s 3ms/step - loss: 0.4260 - accuracy: 0.8591\n",
      "0.537291944026947 0.42595401406288147\n",
      "313/313 [==============================] - 1s 3ms/step - loss: 0.5392 - accuracy: 0.8288\n",
      "313/313 [==============================] - 1s 3ms/step - loss: 0.3169 - accuracy: 0.8897\n",
      "0.5392129421234131 0.3169339597225189\n",
      "313/313 [==============================] - 1s 3ms/step - loss: 0.4260 - accuracy: 0.8591\n",
      "313/313 [==============================] - 1s 3ms/step - loss: 0.3489 - accuracy: 0.8833\n",
      "0.42595401406288147 0.3488624393939972\n",
      "313/313 [==============================] - 1s 3ms/step - loss: 0.3279 - accuracy: 0.8855\n",
      "313/313 [==============================] - 1s 3ms/step - loss: 0.5335 - accuracy: 0.8314\n",
      "0.32794642448425293 0.5334882140159607\n",
      "313/313 [==============================] - 1s 3ms/step - loss: 0.4386 - accuracy: 0.8546\n",
      "313/313 [==============================] - 1s 3ms/step - loss: 0.5356 - accuracy: 0.8290\n",
      "0.4386430084705353 0.5355582237243652\n",
      "313/313 [==============================] - 1s 3ms/step - loss: 0.5335 - accuracy: 0.8314\n",
      "313/313 [==============================] - 1s 3ms/step - loss: 0.4253 - accuracy: 0.8593\n",
      "0.5334882140159607 0.42526426911354065\n",
      "313/313 [==============================] - 1s 3ms/step - loss: 0.5356 - accuracy: 0.8290\n",
      "313/313 [==============================] - 1s 3ms/step - loss: 0.3166 - accuracy: 0.8898\n",
      "0.5355582237243652 0.31657078862190247\n",
      "313/313 [==============================] - 1s 3ms/step - loss: 0.4253 - accuracy: 0.8593\n",
      "313/313 [==============================] - 1s 3ms/step - loss: 0.3489 - accuracy: 0.8833\n",
      "0.42526426911354065 0.3488624393939972\n",
      "313/313 [==============================] - 1s 3ms/step - loss: 0.3279 - accuracy: 0.8855\n",
      "313/313 [==============================] - 1s 3ms/step - loss: 0.5298 - accuracy: 0.8315\n",
      "0.32794642448425293 0.5298428535461426\n",
      "313/313 [==============================] - 1s 3ms/step - loss: 0.4376 - accuracy: 0.8544\n",
      "313/313 [==============================] - 1s 3ms/step - loss: 0.5321 - accuracy: 0.8305\n",
      "0.4376320242881775 0.5320638418197632\n",
      "313/313 [==============================] - 1s 3ms/step - loss: 0.5298 - accuracy: 0.8315\n",
      "313/313 [==============================] - 1s 3ms/step - loss: 0.4246 - accuracy: 0.8594\n",
      "0.5298428535461426 0.4245809018611908\n",
      "313/313 [==============================] - 1s 3ms/step - loss: 0.5321 - accuracy: 0.8305\n",
      "313/313 [==============================] - 1s 3ms/step - loss: 0.3162 - accuracy: 0.8900\n",
      "0.5320638418197632 0.3162156939506531\n",
      "313/313 [==============================] - 1s 3ms/step - loss: 0.4246 - accuracy: 0.8594\n",
      "313/313 [==============================] - 1s 3ms/step - loss: 0.3489 - accuracy: 0.8833\n",
      "0.4245809018611908 0.3488624393939972\n",
      "313/313 [==============================] - 1s 3ms/step - loss: 0.3279 - accuracy: 0.8855\n",
      "313/313 [==============================] - 1s 3ms/step - loss: 0.5263 - accuracy: 0.8320\n",
      "0.32794642448425293 0.5263389945030212\n",
      "313/313 [==============================] - 1s 3ms/step - loss: 0.4366 - accuracy: 0.8545\n",
      "313/313 [==============================] - 1s 3ms/step - loss: 0.5287 - accuracy: 0.8315\n",
      "0.4366265535354614 0.5287132263183594\n",
      "313/313 [==============================] - 1s 3ms/step - loss: 0.5263 - accuracy: 0.8320\n",
      "313/313 [==============================] - 1s 3ms/step - loss: 0.4239 - accuracy: 0.8596\n",
      "0.5263389945030212 0.42391258478164673\n",
      "313/313 [==============================] - 1s 3ms/step - loss: 0.5287 - accuracy: 0.8315\n",
      "313/313 [==============================] - 1s 3ms/step - loss: 0.3159 - accuracy: 0.8898\n",
      "0.5287132263183594 0.31586989760398865\n",
      "313/313 [==============================] - 1s 3ms/step - loss: 0.4239 - accuracy: 0.8596\n",
      "313/313 [==============================] - 1s 3ms/step - loss: 0.3489 - accuracy: 0.8833\n",
      "0.42391258478164673 0.3488624393939972\n",
      "313/313 [==============================] - 1s 3ms/step - loss: 0.3279 - accuracy: 0.8855\n",
      "313/313 [==============================] - 1s 3ms/step - loss: 0.5230 - accuracy: 0.8327\n",
      "0.32794642448425293 0.5229713320732117\n",
      "313/313 [==============================] - 1s 3ms/step - loss: 0.4356 - accuracy: 0.8549\n",
      "313/313 [==============================] - 1s 3ms/step - loss: 0.5255 - accuracy: 0.8326\n",
      "0.4356358051300049 0.52549809217453\n",
      "313/313 [==============================] - 1s 3ms/step - loss: 0.5230 - accuracy: 0.8327\n",
      "313/313 [==============================] - 1s 3ms/step - loss: 0.4233 - accuracy: 0.8600\n",
      "0.5229713320732117 0.42326030135154724\n",
      "313/313 [==============================] - 1s 3ms/step - loss: 0.5255 - accuracy: 0.8326\n",
      "313/313 [==============================] - 1s 3ms/step - loss: 0.3155 - accuracy: 0.8897\n",
      "0.52549809217453 0.31553396582603455\n",
      "313/313 [==============================] - 1s 3ms/step - loss: 0.4233 - accuracy: 0.8600\n",
      "313/313 [==============================] - 1s 3ms/step - loss: 0.3489 - accuracy: 0.8833\n",
      "0.42326030135154724 0.3488624393939972\n",
      "313/313 [==============================] - 1s 3ms/step - loss: 0.3279 - accuracy: 0.8855\n",
      "313/313 [==============================] - 1s 3ms/step - loss: 0.5197 - accuracy: 0.8333\n",
      "0.32794642448425293 0.5197363495826721\n",
      "313/313 [==============================] - 1s 3ms/step - loss: 0.4347 - accuracy: 0.8547\n",
      "313/313 [==============================] - 1s 3ms/step - loss: 0.5224 - accuracy: 0.8330\n",
      "0.43465155363082886 0.5224142670631409\n",
      "313/313 [==============================] - 1s 3ms/step - loss: 0.5197 - accuracy: 0.8333\n",
      "313/313 [==============================] - 1s 3ms/step - loss: 0.4226 - accuracy: 0.8601\n",
      "0.5197363495826721 0.42261767387390137\n",
      "313/313 [==============================] - 1s 3ms/step - loss: 0.5224 - accuracy: 0.8330\n",
      "313/313 [==============================] - 1s 3ms/step - loss: 0.3152 - accuracy: 0.8901\n",
      "0.5224142670631409 0.3152008354663849\n",
      "313/313 [==============================] - 1s 3ms/step - loss: 0.4226 - accuracy: 0.8601\n",
      "313/313 [==============================] - 1s 3ms/step - loss: 0.3489 - accuracy: 0.8833\n",
      "0.42261767387390137 0.3488624393939972\n",
      "313/313 [==============================] - 1s 3ms/step - loss: 0.3279 - accuracy: 0.8855\n",
      "313/313 [==============================] - 1s 3ms/step - loss: 0.5166 - accuracy: 0.8337\n",
      "0.32794642448425293 0.5166234970092773\n",
      "313/313 [==============================] - 1s 3ms/step - loss: 0.4337 - accuracy: 0.8554\n",
      "313/313 [==============================] - 1s 3ms/step - loss: 0.5195 - accuracy: 0.8329\n",
      "0.43368178606033325 0.5194540619850159\n",
      "313/313 [==============================] - 1s 3ms/step - loss: 0.5166 - accuracy: 0.8337\n",
      "313/313 [==============================] - 1s 3ms/step - loss: 0.4220 - accuracy: 0.8592\n",
      "0.5166234970092773 0.4219829738140106\n",
      "313/313 [==============================] - 1s 3ms/step - loss: 0.5195 - accuracy: 0.8329\n",
      "313/313 [==============================] - 1s 3ms/step - loss: 0.3149 - accuracy: 0.8905\n",
      "0.5194540619850159 0.31487295031547546\n",
      "313/313 [==============================] - 1s 3ms/step - loss: 0.4220 - accuracy: 0.8592\n",
      "313/313 [==============================] - 1s 3ms/step - loss: 0.3489 - accuracy: 0.8833\n",
      "0.4219829738140106 0.3488624393939972\n",
      "313/313 [==============================] - 1s 3ms/step - loss: 0.3279 - accuracy: 0.8855\n",
      "313/313 [==============================] - 1s 3ms/step - loss: 0.5136 - accuracy: 0.8345\n",
      "0.32794642448425293 0.5136263966560364\n",
      "313/313 [==============================] - 1s 3ms/step - loss: 0.4327 - accuracy: 0.8558\n",
      "313/313 [==============================] - 1s 3ms/step - loss: 0.5166 - accuracy: 0.8329\n",
      "0.4327300190925598 0.5166094303131104\n",
      "313/313 [==============================] - 1s 3ms/step - loss: 0.5136 - accuracy: 0.8345\n",
      "313/313 [==============================] - 1s 3ms/step - loss: 0.4214 - accuracy: 0.8589\n",
      "0.5136263966560364 0.4213578701019287\n",
      "313/313 [==============================] - 1s 4ms/step - loss: 0.5166 - accuracy: 0.8329\n",
      "313/313 [==============================] - 1s 3ms/step - loss: 0.3146 - accuracy: 0.8909\n",
      "0.5166094303131104 0.31455090641975403\n",
      "313/313 [==============================] - 1s 3ms/step - loss: 0.4214 - accuracy: 0.8589\n",
      "313/313 [==============================] - 1s 3ms/step - loss: 0.3489 - accuracy: 0.8833\n",
      "0.4213578701019287 0.3488624393939972\n",
      "313/313 [==============================] - 1s 3ms/step - loss: 0.3279 - accuracy: 0.8855\n",
      "313/313 [==============================] - 1s 3ms/step - loss: 0.5107 - accuracy: 0.8352\n",
      "0.32794642448425293 0.5107406973838806\n",
      "313/313 [==============================] - 1s 3ms/step - loss: 0.4318 - accuracy: 0.8561\n",
      "313/313 [==============================] - 1s 3ms/step - loss: 0.5139 - accuracy: 0.8336\n",
      "0.4317823350429535 0.513868510723114\n",
      "313/313 [==============================] - 1s 3ms/step - loss: 0.5107 - accuracy: 0.8352\n",
      "313/313 [==============================] - 1s 3ms/step - loss: 0.4207 - accuracy: 0.8585\n",
      "0.5107406973838806 0.4207344353199005\n",
      "313/313 [==============================] - 1s 3ms/step - loss: 0.5139 - accuracy: 0.8336\n",
      "313/313 [==============================] - 1s 3ms/step - loss: 0.3142 - accuracy: 0.8908\n",
      "0.513868510723114 0.314238578081131\n",
      "313/313 [==============================] - 1s 3ms/step - loss: 0.4207 - accuracy: 0.8585\n",
      "313/313 [==============================] - 1s 3ms/step - loss: 0.3489 - accuracy: 0.8833\n",
      "0.4207344353199005 0.3488624393939972\n",
      "313/313 [==============================] - 1s 3ms/step - loss: 0.3279 - accuracy: 0.8855\n",
      "313/313 [==============================] - 1s 3ms/step - loss: 0.5080 - accuracy: 0.8358\n",
      "0.32794642448425293 0.5079526305198669\n",
      "313/313 [==============================] - 1s 3ms/step - loss: 0.4309 - accuracy: 0.8560\n",
      "313/313 [==============================] - 1s 3ms/step - loss: 0.5112 - accuracy: 0.8335\n",
      "0.4308512210845947 0.5112181901931763\n",
      "313/313 [==============================] - 1s 3ms/step - loss: 0.5080 - accuracy: 0.8358\n",
      "313/313 [==============================] - 1s 3ms/step - loss: 0.4201 - accuracy: 0.8584\n",
      "0.5079526305198669 0.42011773586273193\n",
      "313/313 [==============================] - 1s 3ms/step - loss: 0.5112 - accuracy: 0.8335\n",
      "313/313 [==============================] - 1s 3ms/step - loss: 0.3139 - accuracy: 0.8908\n",
      "0.5112181901931763 0.3139289617538452\n",
      "313/313 [==============================] - 1s 3ms/step - loss: 0.4201 - accuracy: 0.8584\n",
      "313/313 [==============================] - 1s 3ms/step - loss: 0.3489 - accuracy: 0.8833\n",
      "0.42011773586273193 0.3488624393939972\n",
      "313/313 [==============================] - 1s 3ms/step - loss: 0.3279 - accuracy: 0.8855\n",
      "313/313 [==============================] - 1s 3ms/step - loss: 0.5053 - accuracy: 0.8362\n",
      "0.32794642448425293 0.5052651166915894\n",
      "313/313 [==============================] - 1s 3ms/step - loss: 0.4299 - accuracy: 0.8560\n",
      "313/313 [==============================] - 1s 3ms/step - loss: 0.5087 - accuracy: 0.8338\n",
      "0.42993032932281494 0.508657693862915\n",
      "313/313 [==============================] - 1s 3ms/step - loss: 0.5053 - accuracy: 0.8362\n",
      "313/313 [==============================] - 1s 3ms/step - loss: 0.4195 - accuracy: 0.8582\n",
      "0.5052651166915894 0.4195099174976349\n",
      "313/313 [==============================] - 1s 3ms/step - loss: 0.5087 - accuracy: 0.8338\n",
      "313/313 [==============================] - 1s 3ms/step - loss: 0.3136 - accuracy: 0.8906\n",
      "0.508657693862915 0.3136265277862549\n",
      "313/313 [==============================] - 1s 3ms/step - loss: 0.4195 - accuracy: 0.8582\n",
      "313/313 [==============================] - 1s 3ms/step - loss: 0.3489 - accuracy: 0.8833\n",
      "0.4195099174976349 0.3488624393939972\n",
      "313/313 [==============================] - 1s 3ms/step - loss: 0.3279 - accuracy: 0.8855\n",
      "313/313 [==============================] - 1s 3ms/step - loss: 0.5027 - accuracy: 0.8368\n",
      "0.32794642448425293 0.5026713609695435\n",
      "313/313 [==============================] - 1s 3ms/step - loss: 0.4290 - accuracy: 0.8562\n",
      "313/313 [==============================] - 1s 3ms/step - loss: 0.5062 - accuracy: 0.8340\n",
      "0.4290228486061096 0.5061866641044617\n",
      "313/313 [==============================] - 1s 3ms/step - loss: 0.5027 - accuracy: 0.8368\n",
      "313/313 [==============================] - 1s 3ms/step - loss: 0.4189 - accuracy: 0.8581\n",
      "0.5026713609695435 0.4189082086086273\n",
      "313/313 [==============================] - 1s 3ms/step - loss: 0.5062 - accuracy: 0.8340\n",
      "313/313 [==============================] - 1s 3ms/step - loss: 0.3133 - accuracy: 0.8908\n",
      "0.5061866641044617 0.3133332431316376\n",
      "313/313 [==============================] - 1s 3ms/step - loss: 0.4189 - accuracy: 0.8581\n",
      "313/313 [==============================] - 1s 3ms/step - loss: 0.3489 - accuracy: 0.8833\n",
      "0.4189082086086273 0.3488624393939972\n",
      "313/313 [==============================] - 1s 3ms/step - loss: 0.3279 - accuracy: 0.8855\n",
      "313/313 [==============================] - 1s 3ms/step - loss: 0.5002 - accuracy: 0.8377\n",
      "0.32794642448425293 0.5001623630523682\n",
      "313/313 [==============================] - 1s 3ms/step - loss: 0.4281 - accuracy: 0.8565\n",
      "313/313 [==============================] - 1s 3ms/step - loss: 0.5038 - accuracy: 0.8345\n",
      "0.428129106760025 0.5038010478019714\n",
      "313/313 [==============================] - 1s 3ms/step - loss: 0.5002 - accuracy: 0.8377\n",
      "313/313 [==============================] - 1s 3ms/step - loss: 0.4183 - accuracy: 0.8584\n",
      "0.5001623630523682 0.4183170795440674\n",
      "313/313 [==============================] - 1s 3ms/step - loss: 0.5038 - accuracy: 0.8345\n",
      "313/313 [==============================] - 1s 3ms/step - loss: 0.3130 - accuracy: 0.8907\n",
      "0.5038010478019714 0.31304627656936646\n",
      "313/313 [==============================] - 1s 3ms/step - loss: 0.4183 - accuracy: 0.8584\n",
      "313/313 [==============================] - 1s 3ms/step - loss: 0.3489 - accuracy: 0.8833\n",
      "0.4183170795440674 0.3488624393939972\n",
      "313/313 [==============================] - 1s 3ms/step - loss: 0.3279 - accuracy: 0.8855\n",
      "313/313 [==============================] - 1s 3ms/step - loss: 0.4977 - accuracy: 0.8382\n",
      "0.32794642448425293 0.4977366626262665\n",
      "313/313 [==============================] - 1s 3ms/step - loss: 0.4273 - accuracy: 0.8569\n",
      "313/313 [==============================] - 1s 3ms/step - loss: 0.5015 - accuracy: 0.8348\n",
      "0.4272509813308716 0.5014947652816772\n",
      "313/313 [==============================] - 1s 3ms/step - loss: 0.4977 - accuracy: 0.8382\n",
      "313/313 [==============================] - 1s 3ms/step - loss: 0.4177 - accuracy: 0.8584\n",
      "0.4977366626262665 0.41773486137390137\n",
      "313/313 [==============================] - 1s 3ms/step - loss: 0.5015 - accuracy: 0.8348\n",
      "313/313 [==============================] - 1s 3ms/step - loss: 0.3128 - accuracy: 0.8906\n",
      "0.5014947652816772 0.3127671182155609\n",
      "313/313 [==============================] - 1s 3ms/step - loss: 0.4177 - accuracy: 0.8584\n",
      "313/313 [==============================] - 1s 3ms/step - loss: 0.3489 - accuracy: 0.8833\n",
      "0.41773486137390137 0.3488624393939972\n",
      "313/313 [==============================] - 1s 3ms/step - loss: 0.3279 - accuracy: 0.8855\n",
      "313/313 [==============================] - 1s 3ms/step - loss: 0.4954 - accuracy: 0.8390\n",
      "0.32794642448425293 0.4953896105289459\n",
      "313/313 [==============================] - 1s 3ms/step - loss: 0.4264 - accuracy: 0.8573\n",
      "313/313 [==============================] - 1s 3ms/step - loss: 0.4993 - accuracy: 0.8350\n",
      "0.4263874590396881 0.4992646872997284\n",
      "313/313 [==============================] - 1s 3ms/step - loss: 0.4954 - accuracy: 0.8390\n",
      "313/313 [==============================] - 1s 3ms/step - loss: 0.4172 - accuracy: 0.8583\n",
      "0.4953896105289459 0.4171636700630188\n",
      "313/313 [==============================] - 1s 3ms/step - loss: 0.4993 - accuracy: 0.8350\n",
      "313/313 [==============================] - 1s 3ms/step - loss: 0.3125 - accuracy: 0.8907\n",
      "0.4992646872997284 0.3124919533729553\n",
      "313/313 [==============================] - 1s 3ms/step - loss: 0.4172 - accuracy: 0.8583\n",
      "313/313 [==============================] - 1s 3ms/step - loss: 0.3489 - accuracy: 0.8833\n",
      "0.4171636700630188 0.3488624393939972\n",
      "313/313 [==============================] - 1s 3ms/step - loss: 0.3279 - accuracy: 0.8855\n",
      "313/313 [==============================] - 1s 3ms/step - loss: 0.4931 - accuracy: 0.8394\n",
      "0.32794642448425293 0.49311333894729614\n",
      "313/313 [==============================] - 1s 3ms/step - loss: 0.4255 - accuracy: 0.8577\n",
      "313/313 [==============================] - 1s 3ms/step - loss: 0.4971 - accuracy: 0.8352\n",
      "0.42554160952568054 0.49710389971733093\n",
      "313/313 [==============================] - 1s 3ms/step - loss: 0.4931 - accuracy: 0.8394\n",
      "313/313 [==============================] - 1s 3ms/step - loss: 0.4166 - accuracy: 0.8585\n",
      "0.49311333894729614 0.41660141944885254\n",
      "313/313 [==============================] - 1s 3ms/step - loss: 0.4971 - accuracy: 0.8352\n",
      "313/313 [==============================] - 1s 3ms/step - loss: 0.3122 - accuracy: 0.8906\n",
      "0.49710389971733093 0.3122223913669586\n",
      "313/313 [==============================] - 1s 3ms/step - loss: 0.4166 - accuracy: 0.8585\n",
      "313/313 [==============================] - 1s 3ms/step - loss: 0.3489 - accuracy: 0.8833\n",
      "0.41660141944885254 0.3488624393939972\n",
      "313/313 [==============================] - 1s 3ms/step - loss: 0.3279 - accuracy: 0.8855\n",
      "313/313 [==============================] - 1s 3ms/step - loss: 0.4909 - accuracy: 0.8395\n",
      "0.32794642448425293 0.4909082055091858\n",
      "313/313 [==============================] - 1s 3ms/step - loss: 0.4247 - accuracy: 0.8575\n",
      "313/313 [==============================] - 1s 3ms/step - loss: 0.4950 - accuracy: 0.8360\n",
      "0.4247130751609802 0.4950084090232849\n",
      "313/313 [==============================] - 1s 3ms/step - loss: 0.4909 - accuracy: 0.8395\n",
      "313/313 [==============================] - 1s 3ms/step - loss: 0.4160 - accuracy: 0.8584\n",
      "0.4909082055091858 0.41604432463645935\n",
      "313/313 [==============================] - 1s 3ms/step - loss: 0.4950 - accuracy: 0.8360\n",
      "313/313 [==============================] - 1s 3ms/step - loss: 0.3120 - accuracy: 0.8907\n",
      "0.4950084090232849 0.3119587302207947\n",
      "313/313 [==============================] - 1s 3ms/step - loss: 0.4160 - accuracy: 0.8584\n",
      "313/313 [==============================] - 1s 3ms/step - loss: 0.3489 - accuracy: 0.8833\n",
      "0.41604432463645935 0.3488624393939972\n",
      "313/313 [==============================] - 1s 3ms/step - loss: 0.3279 - accuracy: 0.8855\n",
      "313/313 [==============================] - 1s 4ms/step - loss: 0.4239 - accuracy: 0.8582\n",
      "313/313 [==============================] - 1s 3ms/step - loss: 0.4888 - accuracy: 0.8403\n",
      "313/313 [==============================] - 1s 3ms/step - loss: 0.4930 - accuracy: 0.8364\n",
      "313/313 [==============================] - 1s 3ms/step - loss: 0.4155 - accuracy: 0.8582\n",
      "313/313 [==============================] - 1s 3ms/step - loss: 0.3117 - accuracy: 0.8908\n",
      "313/313 [==============================] - 1s 3ms/step - loss: 0.3489 - accuracy: 0.8833\n"
     ]
    }
   ],
   "source": [
    "w0 = load_model('eachModel3/CheckPoint-10.hdf5')\n",
    "firstWeight = w0.get_weights()\n",
    "# w0.fit(train_images, train_labels, epochs=1, validation_data=(test_images, test_labels), verbose=2)\n",
    "\n",
    "wT = load_model('eachModel4/CheckPoint-10.hdf5')\n",
    "lastWeight = wT.get_weights()\n",
    "# wT.fit(train_images, train_labels, epochs=1, validation_data=(test_images, test_labels), verbose=2)\n",
    "\n",
    "tümNoktalarim = []\n",
    "for i in range(6):\n",
    "    tümNoktalarim.append([before + (after - before) * i / 5 for before, after in zip(firstWeight, lastWeight)])\n",
    "tümNoktalarim.append(lastWeight)\n",
    "\n",
    "ilkdogrunoktalari34 = tümNoktalarim.copy()\n",
    "\n",
    "dogruUzerindekiIlkkLoss = []\n",
    "for i, weights in enumerate(tümNoktalarim):\n",
    "    model.set_weights(weights)\n",
    "    print(f'Interpolated weights {i}:')\n",
    "    loss,accuracy=model.evaluate(test_images, test_labels)\n",
    "    dogruUzerindekiIlkkLoss.append(loss)\n",
    "\n",
    "# İterasyon başlangıç\n",
    "for T in range(50):\n",
    "    def step(X, y,i):\n",
    "        # keep track of our gradients\n",
    "        with tf.GradientTape() as tape:\n",
    "            # make a prediction using the model and then calculate the\n",
    "            # loss\n",
    "            model.set_weights(tümNoktalarim[i])\n",
    "            pred = model(X)\n",
    "\n",
    "            y_tran = to_categorical(y,10)\n",
    "\n",
    "\n",
    "            # listem2 = []\n",
    "            # for i in range(60000):\n",
    "            #     listem2.append(1)\n",
    "            #     for j in range(9):\n",
    "            #         listem2.append(0)\n",
    "\n",
    "            # listem2 = np.array(listem2)\n",
    "            # listem2 = np.reshape(listem2,(60000,10))\n",
    "            # listem2 = listem2\n",
    "\n",
    "\n",
    "\n",
    "            # listem = []\n",
    "            # for i in range(60000):\n",
    "            #     for j in range(10):\n",
    "            #         listem.append(y[i])\n",
    "\n",
    "            # listem = np.array(listem)\n",
    "            # listem = listem/9\n",
    "            # listem = np.reshape(listem,(60000,10))\n",
    "            # tensor1 = tf.convert_to_tensor(listem)\n",
    "\n",
    "            # print(\"y : \\n\",y.shape)\n",
    "            # print(\"pred : \\n\",pred.shape)\n",
    "            tensor1 = tf.convert_to_tensor(y_tran)\n",
    "            # print(\"tensor1 : \\n\",tensor1.shape)\n",
    "            tensor2 = tf.reshape(tensor1,[60000,10])\n",
    "            # print(\"tensor2 : \\n\",tensor2.shape)\n",
    "            loss = categorical_crossentropy(tensor2, pred)\n",
    "        # calculate the gradients using our tape and then update the\n",
    "        # model weights\n",
    "        grads = tape.gradient(loss, model.trainable_variables)\n",
    "        return grads\n",
    "\n",
    "\n",
    "    grads = []\n",
    "    for i in range(1,6,1):\n",
    "        grads.append(step(train_images,train_labels,i))\n",
    "\n",
    "\n",
    "    # Tan değerlerinin hesaplanması\n",
    "    tanvalue = []\n",
    "    for i in range(1,6,1):\n",
    "        model.set_weights(tümNoktalarim[i-1])\n",
    "        dotResult1 = model.evaluate(test_images, test_labels)[0]\n",
    "\n",
    "        model.set_weights(tümNoktalarim[i+1])\n",
    "        dotResult2 = model.evaluate(test_images, test_labels)[0]\n",
    "\n",
    "        print(dotResult1,dotResult2)\n",
    "\n",
    "        if (dotResult2 > dotResult1):\n",
    "            tanvalue.append((np.array(tümNoktalarim[i+1]) - np.array(tümNoktalarim[i])))\n",
    "        else:\n",
    "            tanvalue.append((np.array(tümNoktalarim[i]) - np.array(tümNoktalarim[i-1])))\n",
    "\n",
    "    gradList = []\n",
    "    for i in range(5):\n",
    "        first = np.array(grads[i][0])\n",
    "        grad1 = [first[0:60000,:],np.array(grads[i][1]),np.array(grads[i][2]),np.array(grads[i][3]),np.array(grads[i][4]),np.array(grads[i][5])]\n",
    "        grad1 = np.array(grad1)\n",
    "        gradList.append(grad1)\n",
    "\n",
    "    esasGradList = gradList.copy()\n",
    "    gradList = np.array(gradList)\n",
    "\n",
    "\n",
    "    for i in range(5):\n",
    "        gradList[i][0] = gradList[i][0].flatten()\n",
    "        gradList[i][1] = gradList[i][1].flatten()\n",
    "        gradList[i][2] = gradList[i][2].flatten()\n",
    "        gradList[i][3] = gradList[i][3].flatten()\n",
    "        gradList[i][4] = gradList[i][4].flatten()\n",
    "        gradList[i][5] = gradList[i][5].flatten()\n",
    "\n",
    "\n",
    "    tanlistem = []\n",
    "    for i in range(5):\n",
    "        tanget = [tanvalue[i][0],tanvalue[i][1],tanvalue[i][2],tanvalue[i][3],tanvalue[i][4],tanvalue[i][5]]\n",
    "        tanget = np.array(tanget)\n",
    "        tanlistem.append(tanget)\n",
    "\n",
    "    esasTanList = tanlistem.copy()\n",
    "    tanlistem = np.array(tanlistem)\n",
    "\n",
    "    for i in range(5):\n",
    "        tanlistem[i][0] = tanlistem[i][0].flatten()\n",
    "        tanlistem[i][1] = tanlistem[i][1].flatten()\n",
    "        tanlistem[i][2] = tanlistem[i][2].flatten()\n",
    "        tanlistem[i][3] = tanlistem[i][3].flatten()\n",
    "        tanlistem[i][4] = tanlistem[i][4].flatten()\n",
    "        tanlistem[i][5] = tanlistem[i][5].flatten()\n",
    "\n",
    "    dotsonuc = []\n",
    "    for i in range(5):\n",
    "        denemesonuc1 = np.dot(tanlistem[i][0],gradList[i][0])\n",
    "        denemesonuc2 = np.dot(tanlistem[i][1],gradList[i][1])\n",
    "        denemesonuc3 = np.dot(tanlistem[i][2],gradList[i][2])\n",
    "        denemesonuc4 = np.dot(tanlistem[i][3],gradList[i][3])\n",
    "        denemesonuc5 = np.dot(tanlistem[i][4],gradList[i][4])\n",
    "        denemesonuc6 = np.dot(tanlistem[i][5],gradList[i][5])\n",
    "        sonuc1 = denemesonuc1+denemesonuc2+denemesonuc3+denemesonuc4+denemesonuc5+denemesonuc6\n",
    "        dotsonuc.append(sonuc1)\n",
    "\n",
    "    learningrate = 0.000001\n",
    "    güncelNoktlar = []\n",
    "    for i in range(5):\n",
    "        rightresult = dotsonuc[i]*esasTanList[i]\n",
    "        ilkdeğer = esasGradList[i]-rightresult\n",
    "        ilkgünceldeger = tümNoktalarim[i+1] - (learningrate*ilkdeğer)\n",
    "        güncelNoktlar.append(ilkgünceldeger)\n",
    "\n",
    "    # Bulunan noktaların güncellenmesi\n",
    "    for i in range(5):\n",
    "        tümNoktalarim[i+1] = güncelNoktlar[i]\n",
    "\n",
    "\n",
    "dogruUzerindekiSonkLoss = []\n",
    "for i in range(0,7,1):\n",
    "    model.set_weights(tümNoktalarim[i])\n",
    "    dogruResult = model.evaluate(test_images, test_labels)[0]\n",
    "    dogruUzerindekiSonkLoss.append(dogruResult)"
   ]
  },
  {
   "cell_type": "code",
   "execution_count": 386,
   "metadata": {},
   "outputs": [
    {
     "name": "stderr",
     "output_type": "stream",
     "text": [
      "No artists with labels found to put in legend.  Note that artists whose label start with an underscore are ignored when legend() is called with no argument.\n"
     ]
    },
    {
     "data": {
      "image/png": "[encoded data removed]",
      "text/plain": [
       "<Figure size 432x288 with 1 Axes>"
      ]
     },
     "metadata": {
      "needs_background": "light"
     },
     "output_type": "display_data"
    }
   ],
   "source": [
    "plt.plot(np.arange(0,7),dogruUzerindekiIlkkLoss)\n",
    "plt.title('3. ve 4. son nokta arasıda çizilen doğru üzerindeki loss değerleri')\n",
    "plt.ylabel('Loss')\n",
    "plt.xlabel('Noktalar')\n",
    "plt.legend(loc=\"upper left\")\n",
    "plt.show()"
   ]
  },
  {
   "cell_type": "code",
   "execution_count": 387,
   "metadata": {},
   "outputs": [
    {
     "name": "stderr",
     "output_type": "stream",
     "text": [
      "No artists with labels found to put in legend.  Note that artists whose label start with an underscore are ignored when legend() is called with no argument.\n"
     ]
    },
    {
     "data": {
      "image/png": "[encoded data removed]",
      "text/plain": [
       "<Figure size 432x288 with 1 Axes>"
      ]
     },
     "metadata": {
      "needs_background": "light"
     },
     "output_type": "display_data"
    }
   ],
   "source": [
    "plt.plot(np.arange(0,7),dogruUzerindekiSonkLoss)\n",
    "plt.title('3. ve 4. son nokta arasıda bulunan yeni yol')\n",
    "plt.ylabel('Loss')\n",
    "plt.xlabel('Noktalar')\n",
    "plt.legend(loc=\"upper left\")\n",
    "plt.show()"
   ]
  },
  {
   "cell_type": "code",
   "execution_count": 388,
   "metadata": {},
   "outputs": [
    {
     "data": {
      "application/vnd.plotly.v1+json": {
       "config": {
        "plotlyServerURL": "https://plot.ly"
       },
       "data": [
        {
         "hovertemplate": "0=%{x}<br>1=%{y}<extra></extra>",
         "legendgroup": "",
         "marker": {
          "color": "#636efa",
          "symbol": "circle"
         },
         "mode": "markers",
         "name": "",
         "orientation": "v",
         "showlegend": false,
         "type": "scatter",
         "x": [
          -9.407059669494629,
          -10.375410079956055,
          -11.109302520751953,
          -11.881183624267578,
          -12.449288368225098,
          -12.938395500183105,
          -13.505844116210938,
          -13.930863380432129,
          -14.288993835449219,
          -14.621875762939453,
          -10.064460754394531,
          -10.999031066894531,
          -11.831120491027832,
          -12.510046005249023,
          -13.174888610839844,
          -13.734445571899414,
          -14.29490852355957,
          -14.755135536193848,
          -15.127508163452148,
          -15.454048156738281,
          -9.127888679504395,
          -9.932425498962402,
          -10.626324653625488,
          -11.21484088897705,
          -11.735662460327148,
          -12.172295570373535,
          -12.625879287719727,
          -13.044975280761719,
          -13.37783145904541,
          -13.629542350769043,
          10.17703628540039,
          15.345287322998047,
          19.884239196777344,
          23.91642189025879,
          27.511802673339844,
          30.906665802001953,
          33.887569427490234,
          36.709747314453125,
          39.23737716674805,
          41.66462707519531,
          -11.116731643676758,
          -12.500641822814941,
          -13.679333686828613,
          -14.73356819152832,
          -15.566450119018555,
          -16.470937728881836,
          -17.14922332763672,
          -17.7354736328125,
          -18.250553131103516,
          -18.7705020904541,
          -13.629542350769043,
          -2.570702314376831,
          8.488126754760742,
          19.546964645385742,
          30.605810165405273,
          41.66462707519531,
          41.66462707519531,
          -13.629542350769043,
          4.776971817016602,
          12.088632583618164,
          16.12896728515625,
          23.240825653076172,
          40.63371658325195,
          41.66462707519531
         ],
         "xaxis": "x",
         "y": [
          -10.207801818847656,
          -11.861557960510254,
          -13.157294273376465,
          -14.256750106811523,
          -15.297371864318848,
          -16.113636016845703,
          -16.844032287597656,
          -17.498943328857422,
          -18.140697479248047,
          -18.709278106689453,
          -9.193279266357422,
          -10.40803050994873,
          -11.351733207702637,
          -12.230833053588867,
          -13.027918815612793,
          -13.6047945022583,
          -14.15710163116455,
          -14.686041831970215,
          -15.079864501953125,
          -15.527626037597656,
          11.6637601852417,
          16.726707458496094,
          21.23655891418457,
          25.326705932617188,
          28.870773315429688,
          32.089534759521484,
          35.196414947509766,
          37.882328033447266,
          40.363258361816406,
          42.61913299560547,
          -5.754300117492676,
          -5.90932035446167,
          -5.9851460456848145,
          -6.123480319976807,
          -6.191983699798584,
          -6.312198162078857,
          -6.339606761932373,
          -6.302750110626221,
          -6.345736503601074,
          -6.391472339630127,
          -10.44568920135498,
          -11.97840690612793,
          -13.313572883605957,
          -14.46296215057373,
          -15.47315788269043,
          -16.44044303894043,
          -17.199522018432617,
          -17.88193130493164,
          -18.516223907470703,
          -19.041400909423828,
          42.61913299560547,
          32.817012786865234,
          23.01487922668457,
          13.212759971618652,
          3.410644054412842,
          -6.391472339630127,
          -6.391472339630127,
          42.61913299560547,
          26.391216278076172,
          19.95249366760254,
          16.371829986572266,
          10.024250030517578,
          -5.470251083374023,
          -6.391472339630127
         ],
         "yaxis": "y"
        }
       ],
       "layout": {
        "legend": {
         "tracegroupgap": 0
        },
        "margin": {
         "t": 60
        },
        "template": {
         "data": {
          "bar": [
           {
            "error_x": {
             "color": "#2a3f5f"
            },
            "error_y": {
             "color": "#2a3f5f"
            },
            "marker": {
             "line": {
              "color": "#E5ECF6",
              "width": 0.5
             },
             "pattern": {
              "fillmode": "overlay",
              "size": 10,
              "solidity": 0.2
             }
            },
            "type": "bar"
           }
          ],
          "barpolar": [
           {
            "marker": {
             "line": {
              "color": "#E5ECF6",
              "width": 0.5
             },
             "pattern": {
              "fillmode": "overlay",
              "size": 10,
              "solidity": 0.2
             }
            },
            "type": "barpolar"
           }
          ],
          "carpet": [
           {
            "aaxis": {
             "endlinecolor": "#2a3f5f",
             "gridcolor": "white",
             "linecolor": "white",
             "minorgridcolor": "white",
             "startlinecolor": "#2a3f5f"
            },
            "baxis": {
             "endlinecolor": "#2a3f5f",
             "gridcolor": "white",
             "linecolor": "white",
             "minorgridcolor": "white",
             "startlinecolor": "#2a3f5f"
            },
            "type": "carpet"
           }
          ],
          "choropleth": [
           {
            "colorbar": {
             "outlinewidth": 0,
             "ticks": ""
            },
            "type": "choropleth"
           }
          ],
          "contour": [
           {
            "colorbar": {
             "outlinewidth": 0,
             "ticks": ""
            },
            "colorscale": [
             [
              0,
              "#0d0887"
             ],
             [
              0.1111111111111111,
              "#46039f"
             ],
             [
              0.2222222222222222,
              "#7201a8"
             ],
             [
              0.3333333333333333,
              "#9c179e"
             ],
             [
              0.4444444444444444,
              "#bd3786"
             ],
             [
              0.5555555555555556,
              "#d8576b"
             ],
             [
              0.6666666666666666,
              "#ed7953"
             ],
             [
              0.7777777777777778,
              "#fb9f3a"
             ],
             [
              0.8888888888888888,
              "#fdca26"
             ],
             [
              1,
              "#f0f921"
             ]
            ],
            "type": "contour"
           }
          ],
          "contourcarpet": [
           {
            "colorbar": {
             "outlinewidth": 0,
             "ticks": ""
            },
            "type": "contourcarpet"
           }
          ],
          "heatmap": [
           {
            "colorbar": {
             "outlinewidth": 0,
             "ticks": ""
            },
            "colorscale": [
             [
              0,
              "#0d0887"
             ],
             [
              0.1111111111111111,
              "#46039f"
             ],
             [
              0.2222222222222222,
              "#7201a8"
             ],
             [
              0.3333333333333333,
              "#9c179e"
             ],
             [
              0.4444444444444444,
              "#bd3786"
             ],
             [
              0.5555555555555556,
              "#d8576b"
             ],
             [
              0.6666666666666666,
              "#ed7953"
             ],
             [
              0.7777777777777778,
              "#fb9f3a"
             ],
             [
              0.8888888888888888,
              "#fdca26"
             ],
             [
              1,
              "#f0f921"
             ]
            ],
            "type": "heatmap"
           }
          ],
          "heatmapgl": [
           {
            "colorbar": {
             "outlinewidth": 0,
             "ticks": ""
            },
            "colorscale": [
             [
              0,
              "#0d0887"
             ],
             [
              0.1111111111111111,
              "#46039f"
             ],
             [
              0.2222222222222222,
              "#7201a8"
             ],
             [
              0.3333333333333333,
              "#9c179e"
             ],
             [
              0.4444444444444444,
              "#bd3786"
             ],
             [
              0.5555555555555556,
              "#d8576b"
             ],
             [
              0.6666666666666666,
              "#ed7953"
             ],
             [
              0.7777777777777778,
              "#fb9f3a"
             ],
             [
              0.8888888888888888,
              "#fdca26"
             ],
             [
              1,
              "#f0f921"
             ]
            ],
            "type": "heatmapgl"
           }
          ],
          "histogram": [
           {
            "marker": {
             "pattern": {
              "fillmode": "overlay",
              "size": 10,
              "solidity": 0.2
             }
            },
            "type": "histogram"
           }
          ],
          "histogram2d": [
           {
            "colorbar": {
             "outlinewidth": 0,
             "ticks": ""
            },
            "colorscale": [
             [
              0,
              "#0d0887"
             ],
             [
              0.1111111111111111,
              "#46039f"
             ],
             [
              0.2222222222222222,
              "#7201a8"
             ],
             [
              0.3333333333333333,
              "#9c179e"
             ],
             [
              0.4444444444444444,
              "#bd3786"
             ],
             [
              0.5555555555555556,
              "#d8576b"
             ],
             [
              0.6666666666666666,
              "#ed7953"
             ],
             [
              0.7777777777777778,
              "#fb9f3a"
             ],
             [
              0.8888888888888888,
              "#fdca26"
             ],
             [
              1,
              "#f0f921"
             ]
            ],
            "type": "histogram2d"
           }
          ],
          "histogram2dcontour": [
           {
            "colorbar": {
             "outlinewidth": 0,
             "ticks": ""
            },
            "colorscale": [
             [
              0,
              "#0d0887"
             ],
             [
              0.1111111111111111,
              "#46039f"
             ],
             [
              0.2222222222222222,
              "#7201a8"
             ],
             [
              0.3333333333333333,
              "#9c179e"
             ],
             [
              0.4444444444444444,
              "#bd3786"
             ],
             [
              0.5555555555555556,
              "#d8576b"
             ],
             [
              0.6666666666666666,
              "#ed7953"
             ],
             [
              0.7777777777777778,
              "#fb9f3a"
             ],
             [
              0.8888888888888888,
              "#fdca26"
             ],
             [
              1,
              "#f0f921"
             ]
            ],
            "type": "histogram2dcontour"
           }
          ],
          "mesh3d": [
           {
            "colorbar": {
             "outlinewidth": 0,
             "ticks": ""
            },
            "type": "mesh3d"
           }
          ],
          "parcoords": [
           {
            "line": {
             "colorbar": {
              "outlinewidth": 0,
              "ticks": ""
             }
            },
            "type": "parcoords"
           }
          ],
          "pie": [
           {
            "automargin": true,
            "type": "pie"
           }
          ],
          "scatter": [
           {
            "fillpattern": {
             "fillmode": "overlay",
             "size": 10,
             "solidity": 0.2
            },
            "type": "scatter"
           }
          ],
          "scatter3d": [
           {
            "line": {
             "colorbar": {
              "outlinewidth": 0,
              "ticks": ""
             }
            },
            "marker": {
             "colorbar": {
              "outlinewidth": 0,
              "ticks": ""
             }
            },
            "type": "scatter3d"
           }
          ],
          "scattercarpet": [
           {
            "marker": {
             "colorbar": {
              "outlinewidth": 0,
              "ticks": ""
             }
            },
            "type": "scattercarpet"
           }
          ],
          "scattergeo": [
           {
            "marker": {
             "colorbar": {
              "outlinewidth": 0,
              "ticks": ""
             }
            },
            "type": "scattergeo"
           }
          ],
          "scattergl": [
           {
            "marker": {
             "colorbar": {
              "outlinewidth": 0,
              "ticks": ""
             }
            },
            "type": "scattergl"
           }
          ],
          "scattermapbox": [
           {
            "marker": {
             "colorbar": {
              "outlinewidth": 0,
              "ticks": ""
             }
            },
            "type": "scattermapbox"
           }
          ],
          "scatterpolar": [
           {
            "marker": {
             "colorbar": {
              "outlinewidth": 0,
              "ticks": ""
             }
            },
            "type": "scatterpolar"
           }
          ],
          "scatterpolargl": [
           {
            "marker": {
             "colorbar": {
              "outlinewidth": 0,
              "ticks": ""
             }
            },
            "type": "scatterpolargl"
           }
          ],
          "scatterternary": [
           {
            "marker": {
             "colorbar": {
              "outlinewidth": 0,
              "ticks": ""
             }
            },
            "type": "scatterternary"
           }
          ],
          "surface": [
           {
            "colorbar": {
             "outlinewidth": 0,
             "ticks": ""
            },
            "colorscale": [
             [
              0,
              "#0d0887"
             ],
             [
              0.1111111111111111,
              "#46039f"
             ],
             [
              0.2222222222222222,
              "#7201a8"
             ],
             [
              0.3333333333333333,
              "#9c179e"
             ],
             [
              0.4444444444444444,
              "#bd3786"
             ],
             [
              0.5555555555555556,
              "#d8576b"
             ],
             [
              0.6666666666666666,
              "#ed7953"
             ],
             [
              0.7777777777777778,
              "#fb9f3a"
             ],
             [
              0.8888888888888888,
              "#fdca26"
             ],
             [
              1,
              "#f0f921"
             ]
            ],
            "type": "surface"
           }
          ],
          "table": [
           {
            "cells": {
             "fill": {
              "color": "#EBF0F8"
             },
             "line": {
              "color": "white"
             }
            },
            "header": {
             "fill": {
              "color": "#C8D4E3"
             },
             "line": {
              "color": "white"
             }
            },
            "type": "table"
           }
          ]
         },
         "layout": {
          "annotationdefaults": {
           "arrowcolor": "#2a3f5f",
           "arrowhead": 0,
           "arrowwidth": 1
          },
          "autotypenumbers": "strict",
          "coloraxis": {
           "colorbar": {
            "outlinewidth": 0,
            "ticks": ""
           }
          },
          "colorscale": {
           "diverging": [
            [
             0,
             "#8e0152"
            ],
            [
             0.1,
             "#c51b7d"
            ],
            [
             0.2,
             "#de77ae"
            ],
            [
             0.3,
             "#f1b6da"
            ],
            [
             0.4,
             "#fde0ef"
            ],
            [
             0.5,
             "#f7f7f7"
            ],
            [
             0.6,
             "#e6f5d0"
            ],
            [
             0.7,
             "#b8e186"
            ],
            [
             0.8,
             "#7fbc41"
            ],
            [
             0.9,
             "#4d9221"
            ],
            [
             1,
             "#276419"
            ]
           ],
           "sequential": [
            [
             0,
             "#0d0887"
            ],
            [
             0.1111111111111111,
             "#46039f"
            ],
            [
             0.2222222222222222,
             "#7201a8"
            ],
            [
             0.3333333333333333,
             "#9c179e"
            ],
            [
             0.4444444444444444,
             "#bd3786"
            ],
            [
             0.5555555555555556,
             "#d8576b"
            ],
            [
             0.6666666666666666,
             "#ed7953"
            ],
            [
             0.7777777777777778,
             "#fb9f3a"
            ],
            [
             0.8888888888888888,
             "#fdca26"
            ],
            [
             1,
             "#f0f921"
            ]
           ],
           "sequentialminus": [
            [
             0,
             "#0d0887"
            ],
            [
             0.1111111111111111,
             "#46039f"
            ],
            [
             0.2222222222222222,
             "#7201a8"
            ],
            [
             0.3333333333333333,
             "#9c179e"
            ],
            [
             0.4444444444444444,
             "#bd3786"
            ],
            [
             0.5555555555555556,
             "#d8576b"
            ],
            [
             0.6666666666666666,
             "#ed7953"
            ],
            [
             0.7777777777777778,
             "#fb9f3a"
            ],
            [
             0.8888888888888888,
             "#fdca26"
            ],
            [
             1,
             "#f0f921"
            ]
           ]
          },
          "colorway": [
           "#636efa",
           "#EF553B",
           "#00cc96",
           "#ab63fa",
           "#FFA15A",
           "#19d3f3",
           "#FF6692",
           "#B6E880",
           "#FF97FF",
           "#FECB52"
          ],
          "font": {
           "color": "#2a3f5f"
          },
          "geo": {
           "bgcolor": "white",
           "lakecolor": "white",
           "landcolor": "#E5ECF6",
           "showlakes": true,
           "showland": true,
           "subunitcolor": "white"
          },
          "hoverlabel": {
           "align": "left"
          },
          "hovermode": "closest",
          "mapbox": {
           "style": "light"
          },
          "paper_bgcolor": "white",
          "plot_bgcolor": "#E5ECF6",
          "polar": {
           "angularaxis": {
            "gridcolor": "white",
            "linecolor": "white",
            "ticks": ""
           },
           "bgcolor": "#E5ECF6",
           "radialaxis": {
            "gridcolor": "white",
            "linecolor": "white",
            "ticks": ""
           }
          },
          "scene": {
           "xaxis": {
            "backgroundcolor": "#E5ECF6",
            "gridcolor": "white",
            "gridwidth": 2,
            "linecolor": "white",
            "showbackground": true,
            "ticks": "",
            "zerolinecolor": "white"
           },
           "yaxis": {
            "backgroundcolor": "#E5ECF6",
            "gridcolor": "white",
            "gridwidth": 2,
            "linecolor": "white",
            "showbackground": true,
            "ticks": "",
            "zerolinecolor": "white"
           },
           "zaxis": {
            "backgroundcolor": "#E5ECF6",
            "gridcolor": "white",
            "gridwidth": 2,
            "linecolor": "white",
            "showbackground": true,
            "ticks": "",
            "zerolinecolor": "white"
           }
          },
          "shapedefaults": {
           "line": {
            "color": "#2a3f5f"
           }
          },
          "ternary": {
           "aaxis": {
            "gridcolor": "white",
            "linecolor": "white",
            "ticks": ""
           },
           "baxis": {
            "gridcolor": "white",
            "linecolor": "white",
            "ticks": ""
           },
           "bgcolor": "#E5ECF6",
           "caxis": {
            "gridcolor": "white",
            "linecolor": "white",
            "ticks": ""
           }
          },
          "title": {
           "x": 0.05
          },
          "xaxis": {
           "automargin": true,
           "gridcolor": "white",
           "linecolor": "white",
           "ticks": "",
           "title": {
            "standoff": 15
           },
           "zerolinecolor": "white",
           "zerolinewidth": 2
          },
          "yaxis": {
           "automargin": true,
           "gridcolor": "white",
           "linecolor": "white",
           "ticks": "",
           "title": {
            "standoff": 15
           },
           "zerolinecolor": "white",
           "zerolinewidth": 2
          }
         }
        },
        "xaxis": {
         "anchor": "y",
         "domain": [
          0,
          1
         ],
         "title": {
          "text": "0"
         }
        },
        "yaxis": {
         "anchor": "x",
         "domain": [
          0,
          1
         ],
         "title": {
          "text": "1"
         }
        }
       }
      }
     },
     "metadata": {},
     "output_type": "display_data"
    }
   ],
   "source": [
    "ilknoktalar34 = ilkdogrunoktalari34.copy()\n",
    "\n",
    "for i in range(7):\n",
    "    ilknoktalar34[i][0] = ilknoktalar34[i][0].flatten()\n",
    "    ilknoktalar34[i][1] = ilknoktalar34[i][1].flatten()\n",
    "    ilknoktalar34[i][2] = ilknoktalar34[i][2].flatten()\n",
    "    ilknoktalar34[i][3] = ilknoktalar34[i][3].flatten()\n",
    "    ilknoktalar34[i][4] = ilknoktalar34[i][4].flatten()\n",
    "\n",
    "Xaralist34= []\n",
    "for i in range(7):\n",
    "    Xaralist34.append(np.hstack((ilknoktalar34[i][0],ilknoktalar34[i][1],ilknoktalar34[i][2],ilknoktalar34[i][3],ilknoktalar34[i][4])))\n",
    "\n",
    "\n",
    "\n",
    "sonnoktalar34 = tümNoktalarim.copy()\n",
    "\n",
    "for i in range(7):\n",
    "    sonnoktalar34[i][0] = sonnoktalar34[i][0].flatten()\n",
    "    sonnoktalar34[i][1] = sonnoktalar34[i][1].flatten()\n",
    "    sonnoktalar34[i][2] = sonnoktalar34[i][2].flatten()\n",
    "    sonnoktalar34[i][3] = sonnoktalar34[i][3].flatten()\n",
    "    sonnoktalar34[i][4] = sonnoktalar34[i][4].flatten()\n",
    "\n",
    "Xsonaralist34= []\n",
    "for i in range(7):\n",
    "    Xsonaralist34.append(np.hstack((sonnoktalar34[i][0],sonnoktalar34[i][1],sonnoktalar34[i][2],sonnoktalar34[i][3],sonnoktalar34[i][4])))\n",
    "\n",
    "\n",
    "\n",
    "\n",
    "Xaralist34 = np.array(Xaralist34)\n",
    "Xsonaralist34 = np.array(Xsonaralist34)\n",
    "alldizi = np.vstack((Xlist,Xaralist34,Xsonaralist34))\n",
    "\n",
    "X = alldizi\n",
    "\n",
    "pca = PCA(n_components=2)\n",
    "components = pca.fit_transform(X)\n",
    "\n",
    "fig = px.scatter(components, x=0, y=1)\n",
    "fig.show()"
   ]
  },
  {
   "cell_type": "code",
   "execution_count": 401,
   "metadata": {},
   "outputs": [
    {
     "data": {
      "application/vnd.plotly.v1+json": {
       "config": {
        "plotlyServerURL": "https://plot.ly"
       },
       "data": [
        {
         "hovertemplate": "PC 1=%{x}<br>PC 2=%{y}<br>PC 3=%{z}<extra></extra>",
         "legendgroup": "",
         "marker": {
          "color": "#636efa",
          "symbol": "circle"
         },
         "mode": "markers",
         "name": "",
         "scene": "scene",
         "showlegend": false,
         "type": "scatter3d",
         "x": [
          -9.407076835632324,
          -10.375421524047852,
          -11.10932445526123,
          -11.881208419799805,
          -12.449304580688477,
          -12.93842601776123,
          -13.505867004394531,
          -13.930901527404785,
          -14.289019584655762,
          -14.621892929077148,
          -10.064464569091797,
          -10.999043464660645,
          -11.831137657165527,
          -12.510065078735352,
          -13.174897193908691,
          -13.734457015991211,
          -14.294927597045898,
          -14.755154609680176,
          -15.12753677368164,
          -15.454071044921875,
          -9.127866744995117,
          -9.932401657104492,
          -10.626294136047363,
          -11.214804649353027,
          -11.735621452331543,
          -12.172242164611816,
          -12.625835418701172,
          -13.044927597045898,
          -13.377775192260742,
          -13.629478454589844,
          10.177031517028809,
          15.34528636932373,
          19.88422393798828,
          23.916425704956055,
          27.511796951293945,
          30.906648635864258,
          33.88755798339844,
          36.709720611572266,
          39.23736572265625,
          41.664581298828125,
          -11.116732597351074,
          -12.50066089630127,
          -13.679342269897461,
          -14.733591079711914,
          -15.5664644241333,
          -16.470945358276367,
          -17.149234771728516,
          -17.735490798950195,
          -18.250581741333008,
          -18.770523071289062,
          -13.629478454589844,
          -2.5706589221954346,
          8.488161087036133,
          19.546977996826172,
          30.605798721313477,
          41.664581298828125,
          41.664581298828125,
          -13.629478454589844,
          4.777007102966309,
          12.08866024017334,
          16.12898826599121,
          23.2408504486084,
          40.633697509765625,
          41.664581298828125
         ],
         "y": [
          -10.207801818847656,
          -11.861549377441406,
          -13.157296180725098,
          -14.256745338439941,
          -15.297359466552734,
          -16.1136417388916,
          -16.844032287597656,
          -17.49893569946289,
          -18.140703201293945,
          -18.70926856994629,
          -9.19326114654541,
          -10.408005714416504,
          -11.351715087890625,
          -12.230803489685059,
          -13.027889251708984,
          -13.604753494262695,
          -14.157062530517578,
          -14.686007499694824,
          -15.079832077026367,
          -15.527589797973633,
          11.663772583007812,
          16.726726531982422,
          21.236562728881836,
          25.326732635498047,
          28.870763778686523,
          32.08951950073242,
          35.19646072387695,
          37.882354736328125,
          40.36325454711914,
          42.61912155151367,
          -5.754304885864258,
          -5.909335136413574,
          -5.985167026519775,
          -6.123503684997559,
          -6.192012310028076,
          -6.312236785888672,
          -6.339646339416504,
          -6.302794456481934,
          -6.345779895782471,
          -6.391521453857422,
          -10.445663452148438,
          -11.97838020324707,
          -13.313539505004883,
          -14.462934494018555,
          -15.473129272460938,
          -16.44040870666504,
          -17.199480056762695,
          -17.881887435913086,
          -18.516170501708984,
          -19.041378021240234,
          42.61912155151367,
          32.816993713378906,
          23.014863967895508,
          13.212732315063477,
          3.4106061458587646,
          -6.391519069671631,
          -6.391521453857422,
          42.61912155151367,
          26.391204833984375,
          19.952465057373047,
          16.371816635131836,
          10.024219512939453,
          -5.470297336578369,
          -6.3915205001831055
         ],
         "z": [
          15.410921096801758,
          20.047693252563477,
          23.93790626525879,
          27.28294563293457,
          30.162893295288086,
          32.86150360107422,
          35.18988800048828,
          37.32811737060547,
          39.08896255493164,
          40.69746398925781,
          -11.579952239990234,
          -14.927684783935547,
          -17.785734176635742,
          -20.171998977661133,
          -22.43067741394043,
          -24.33456802368164,
          -26.12773895263672,
          -27.684892654418945,
          -29.014060974121094,
          -30.187681198120117,
          0.29516759514808655,
          0.44388657808303833,
          0.5978187918663025,
          0.7412738800048828,
          0.7949944138526917,
          0.8755993247032166,
          1.0481393337249756,
          1.1068885326385498,
          1.1834287643432617,
          1.2078120708465576,
          -0.4131980538368225,
          -0.4236205220222473,
          -0.5455763339996338,
          -0.5874067544937134,
          -0.6691164970397949,
          -0.7239688634872437,
          -0.764961302280426,
          -0.8319757580757141,
          -0.8332765698432922,
          -0.8046767115592957,
          -4.196152210235596,
          -5.387232780456543,
          -6.363320350646973,
          -7.303348064422607,
          -8.047183990478516,
          -8.6654052734375,
          -9.280752182006836,
          -9.88107681274414,
          -10.390738487243652,
          -10.800704956054688,
          1.2078120708465576,
          0.8053142428398132,
          0.4028163552284241,
          0.00031853653490543365,
          -0.4021797478199005,
          -0.8046765327453613,
          -0.8046767115592957,
          1.2078120708465576,
          0.5400673151016235,
          0.275251179933548,
          0.1298607885837555,
          -0.13122954964637756,
          -0.7664586305618286,
          -0.8046765923500061
         ]
        }
       ],
       "layout": {
        "legend": {
         "tracegroupgap": 0
        },
        "scene": {
         "domain": {
          "x": [
           0,
           1
          ],
          "y": [
           0,
           1
          ]
         },
         "xaxis": {
          "title": {
           "text": "PC 1"
          }
         },
         "yaxis": {
          "title": {
           "text": "PC 2"
          }
         },
         "zaxis": {
          "title": {
           "text": "PC 3"
          }
         }
        },
        "template": {
         "data": {
          "bar": [
           {
            "error_x": {
             "color": "#2a3f5f"
            },
            "error_y": {
             "color": "#2a3f5f"
            },
            "marker": {
             "line": {
              "color": "#E5ECF6",
              "width": 0.5
             },
             "pattern": {
              "fillmode": "overlay",
              "size": 10,
              "solidity": 0.2
             }
            },
            "type": "bar"
           }
          ],
          "barpolar": [
           {
            "marker": {
             "line": {
              "color": "#E5ECF6",
              "width": 0.5
             },
             "pattern": {
              "fillmode": "overlay",
              "size": 10,
              "solidity": 0.2
             }
            },
            "type": "barpolar"
           }
          ],
          "carpet": [
           {
            "aaxis": {
             "endlinecolor": "#2a3f5f",
             "gridcolor": "white",
             "linecolor": "white",
             "minorgridcolor": "white",
             "startlinecolor": "#2a3f5f"
            },
            "baxis": {
             "endlinecolor": "#2a3f5f",
             "gridcolor": "white",
             "linecolor": "white",
             "minorgridcolor": "white",
             "startlinecolor": "#2a3f5f"
            },
            "type": "carpet"
           }
          ],
          "choropleth": [
           {
            "colorbar": {
             "outlinewidth": 0,
             "ticks": ""
            },
            "type": "choropleth"
           }
          ],
          "contour": [
           {
            "colorbar": {
             "outlinewidth": 0,
             "ticks": ""
            },
            "colorscale": [
             [
              0,
              "#0d0887"
             ],
             [
              0.1111111111111111,
              "#46039f"
             ],
             [
              0.2222222222222222,
              "#7201a8"
             ],
             [
              0.3333333333333333,
              "#9c179e"
             ],
             [
              0.4444444444444444,
              "#bd3786"
             ],
             [
              0.5555555555555556,
              "#d8576b"
             ],
             [
              0.6666666666666666,
              "#ed7953"
             ],
             [
              0.7777777777777778,
              "#fb9f3a"
             ],
             [
              0.8888888888888888,
              "#fdca26"
             ],
             [
              1,
              "#f0f921"
             ]
            ],
            "type": "contour"
           }
          ],
          "contourcarpet": [
           {
            "colorbar": {
             "outlinewidth": 0,
             "ticks": ""
            },
            "type": "contourcarpet"
           }
          ],
          "heatmap": [
           {
            "colorbar": {
             "outlinewidth": 0,
             "ticks": ""
            },
            "colorscale": [
             [
              0,
              "#0d0887"
             ],
             [
              0.1111111111111111,
              "#46039f"
             ],
             [
              0.2222222222222222,
              "#7201a8"
             ],
             [
              0.3333333333333333,
              "#9c179e"
             ],
             [
              0.4444444444444444,
              "#bd3786"
             ],
             [
              0.5555555555555556,
              "#d8576b"
             ],
             [
              0.6666666666666666,
              "#ed7953"
             ],
             [
              0.7777777777777778,
              "#fb9f3a"
             ],
             [
              0.8888888888888888,
              "#fdca26"
             ],
             [
              1,
              "#f0f921"
             ]
            ],
            "type": "heatmap"
           }
          ],
          "heatmapgl": [
           {
            "colorbar": {
             "outlinewidth": 0,
             "ticks": ""
            },
            "colorscale": [
             [
              0,
              "#0d0887"
             ],
             [
              0.1111111111111111,
              "#46039f"
             ],
             [
              0.2222222222222222,
              "#7201a8"
             ],
             [
              0.3333333333333333,
              "#9c179e"
             ],
             [
              0.4444444444444444,
              "#bd3786"
             ],
             [
              0.5555555555555556,
              "#d8576b"
             ],
             [
              0.6666666666666666,
              "#ed7953"
             ],
             [
              0.7777777777777778,
              "#fb9f3a"
             ],
             [
              0.8888888888888888,
              "#fdca26"
             ],
             [
              1,
              "#f0f921"
             ]
            ],
            "type": "heatmapgl"
           }
          ],
          "histogram": [
           {
            "marker": {
             "pattern": {
              "fillmode": "overlay",
              "size": 10,
              "solidity": 0.2
             }
            },
            "type": "histogram"
           }
          ],
          "histogram2d": [
           {
            "colorbar": {
             "outlinewidth": 0,
             "ticks": ""
            },
            "colorscale": [
             [
              0,
              "#0d0887"
             ],
             [
              0.1111111111111111,
              "#46039f"
             ],
             [
              0.2222222222222222,
              "#7201a8"
             ],
             [
              0.3333333333333333,
              "#9c179e"
             ],
             [
              0.4444444444444444,
              "#bd3786"
             ],
             [
              0.5555555555555556,
              "#d8576b"
             ],
             [
              0.6666666666666666,
              "#ed7953"
             ],
             [
              0.7777777777777778,
              "#fb9f3a"
             ],
             [
              0.8888888888888888,
              "#fdca26"
             ],
             [
              1,
              "#f0f921"
             ]
            ],
            "type": "histogram2d"
           }
          ],
          "histogram2dcontour": [
           {
            "colorbar": {
             "outlinewidth": 0,
             "ticks": ""
            },
            "colorscale": [
             [
              0,
              "#0d0887"
             ],
             [
              0.1111111111111111,
              "#46039f"
             ],
             [
              0.2222222222222222,
              "#7201a8"
             ],
             [
              0.3333333333333333,
              "#9c179e"
             ],
             [
              0.4444444444444444,
              "#bd3786"
             ],
             [
              0.5555555555555556,
              "#d8576b"
             ],
             [
              0.6666666666666666,
              "#ed7953"
             ],
             [
              0.7777777777777778,
              "#fb9f3a"
             ],
             [
              0.8888888888888888,
              "#fdca26"
             ],
             [
              1,
              "#f0f921"
             ]
            ],
            "type": "histogram2dcontour"
           }
          ],
          "mesh3d": [
           {
            "colorbar": {
             "outlinewidth": 0,
             "ticks": ""
            },
            "type": "mesh3d"
           }
          ],
          "parcoords": [
           {
            "line": {
             "colorbar": {
              "outlinewidth": 0,
              "ticks": ""
             }
            },
            "type": "parcoords"
           }
          ],
          "pie": [
           {
            "automargin": true,
            "type": "pie"
           }
          ],
          "scatter": [
           {
            "fillpattern": {
             "fillmode": "overlay",
             "size": 10,
             "solidity": 0.2
            },
            "type": "scatter"
           }
          ],
          "scatter3d": [
           {
            "line": {
             "colorbar": {
              "outlinewidth": 0,
              "ticks": ""
             }
            },
            "marker": {
             "colorbar": {
              "outlinewidth": 0,
              "ticks": ""
             }
            },
            "type": "scatter3d"
           }
          ],
          "scattercarpet": [
           {
            "marker": {
             "colorbar": {
              "outlinewidth": 0,
              "ticks": ""
             }
            },
            "type": "scattercarpet"
           }
          ],
          "scattergeo": [
           {
            "marker": {
             "colorbar": {
              "outlinewidth": 0,
              "ticks": ""
             }
            },
            "type": "scattergeo"
           }
          ],
          "scattergl": [
           {
            "marker": {
             "colorbar": {
              "outlinewidth": 0,
              "ticks": ""
             }
            },
            "type": "scattergl"
           }
          ],
          "scattermapbox": [
           {
            "marker": {
             "colorbar": {
              "outlinewidth": 0,
              "ticks": ""
             }
            },
            "type": "scattermapbox"
           }
          ],
          "scatterpolar": [
           {
            "marker": {
             "colorbar": {
              "outlinewidth": 0,
              "ticks": ""
             }
            },
            "type": "scatterpolar"
           }
          ],
          "scatterpolargl": [
           {
            "marker": {
             "colorbar": {
              "outlinewidth": 0,
              "ticks": ""
             }
            },
            "type": "scatterpolargl"
           }
          ],
          "scatterternary": [
           {
            "marker": {
             "colorbar": {
              "outlinewidth": 0,
              "ticks": ""
             }
            },
            "type": "scatterternary"
           }
          ],
          "surface": [
           {
            "colorbar": {
             "outlinewidth": 0,
             "ticks": ""
            },
            "colorscale": [
             [
              0,
              "#0d0887"
             ],
             [
              0.1111111111111111,
              "#46039f"
             ],
             [
              0.2222222222222222,
              "#7201a8"
             ],
             [
              0.3333333333333333,
              "#9c179e"
             ],
             [
              0.4444444444444444,
              "#bd3786"
             ],
             [
              0.5555555555555556,
              "#d8576b"
             ],
             [
              0.6666666666666666,
              "#ed7953"
             ],
             [
              0.7777777777777778,
              "#fb9f3a"
             ],
             [
              0.8888888888888888,
              "#fdca26"
             ],
             [
              1,
              "#f0f921"
             ]
            ],
            "type": "surface"
           }
          ],
          "table": [
           {
            "cells": {
             "fill": {
              "color": "#EBF0F8"
             },
             "line": {
              "color": "white"
             }
            },
            "header": {
             "fill": {
              "color": "#C8D4E3"
             },
             "line": {
              "color": "white"
             }
            },
            "type": "table"
           }
          ]
         },
         "layout": {
          "annotationdefaults": {
           "arrowcolor": "#2a3f5f",
           "arrowhead": 0,
           "arrowwidth": 1
          },
          "autotypenumbers": "strict",
          "coloraxis": {
           "colorbar": {
            "outlinewidth": 0,
            "ticks": ""
           }
          },
          "colorscale": {
           "diverging": [
            [
             0,
             "#8e0152"
            ],
            [
             0.1,
             "#c51b7d"
            ],
            [
             0.2,
             "#de77ae"
            ],
            [
             0.3,
             "#f1b6da"
            ],
            [
             0.4,
             "#fde0ef"
            ],
            [
             0.5,
             "#f7f7f7"
            ],
            [
             0.6,
             "#e6f5d0"
            ],
            [
             0.7,
             "#b8e186"
            ],
            [
             0.8,
             "#7fbc41"
            ],
            [
             0.9,
             "#4d9221"
            ],
            [
             1,
             "#276419"
            ]
           ],
           "sequential": [
            [
             0,
             "#0d0887"
            ],
            [
             0.1111111111111111,
             "#46039f"
            ],
            [
             0.2222222222222222,
             "#7201a8"
            ],
            [
             0.3333333333333333,
             "#9c179e"
            ],
            [
             0.4444444444444444,
             "#bd3786"
            ],
            [
             0.5555555555555556,
             "#d8576b"
            ],
            [
             0.6666666666666666,
             "#ed7953"
            ],
            [
             0.7777777777777778,
             "#fb9f3a"
            ],
            [
             0.8888888888888888,
             "#fdca26"
            ],
            [
             1,
             "#f0f921"
            ]
           ],
           "sequentialminus": [
            [
             0,
             "#0d0887"
            ],
            [
             0.1111111111111111,
             "#46039f"
            ],
            [
             0.2222222222222222,
             "#7201a8"
            ],
            [
             0.3333333333333333,
             "#9c179e"
            ],
            [
             0.4444444444444444,
             "#bd3786"
            ],
            [
             0.5555555555555556,
             "#d8576b"
            ],
            [
             0.6666666666666666,
             "#ed7953"
            ],
            [
             0.7777777777777778,
             "#fb9f3a"
            ],
            [
             0.8888888888888888,
             "#fdca26"
            ],
            [
             1,
             "#f0f921"
            ]
           ]
          },
          "colorway": [
           "#636efa",
           "#EF553B",
           "#00cc96",
           "#ab63fa",
           "#FFA15A",
           "#19d3f3",
           "#FF6692",
           "#B6E880",
           "#FF97FF",
           "#FECB52"
          ],
          "font": {
           "color": "#2a3f5f"
          },
          "geo": {
           "bgcolor": "white",
           "lakecolor": "white",
           "landcolor": "#E5ECF6",
           "showlakes": true,
           "showland": true,
           "subunitcolor": "white"
          },
          "hoverlabel": {
           "align": "left"
          },
          "hovermode": "closest",
          "mapbox": {
           "style": "light"
          },
          "paper_bgcolor": "white",
          "plot_bgcolor": "#E5ECF6",
          "polar": {
           "angularaxis": {
            "gridcolor": "white",
            "linecolor": "white",
            "ticks": ""
           },
           "bgcolor": "#E5ECF6",
           "radialaxis": {
            "gridcolor": "white",
            "linecolor": "white",
            "ticks": ""
           }
          },
          "scene": {
           "xaxis": {
            "backgroundcolor": "#E5ECF6",
            "gridcolor": "white",
            "gridwidth": 2,
            "linecolor": "white",
            "showbackground": true,
            "ticks": "",
            "zerolinecolor": "white"
           },
           "yaxis": {
            "backgroundcolor": "#E5ECF6",
            "gridcolor": "white",
            "gridwidth": 2,
            "linecolor": "white",
            "showbackground": true,
            "ticks": "",
            "zerolinecolor": "white"
           },
           "zaxis": {
            "backgroundcolor": "#E5ECF6",
            "gridcolor": "white",
            "gridwidth": 2,
            "linecolor": "white",
            "showbackground": true,
            "ticks": "",
            "zerolinecolor": "white"
           }
          },
          "shapedefaults": {
           "line": {
            "color": "#2a3f5f"
           }
          },
          "ternary": {
           "aaxis": {
            "gridcolor": "white",
            "linecolor": "white",
            "ticks": ""
           },
           "baxis": {
            "gridcolor": "white",
            "linecolor": "white",
            "ticks": ""
           },
           "bgcolor": "#E5ECF6",
           "caxis": {
            "gridcolor": "white",
            "linecolor": "white",
            "ticks": ""
           }
          },
          "title": {
           "x": 0.05
          },
          "xaxis": {
           "automargin": true,
           "gridcolor": "white",
           "linecolor": "white",
           "ticks": "",
           "title": {
            "standoff": 15
           },
           "zerolinecolor": "white",
           "zerolinewidth": 2
          },
          "yaxis": {
           "automargin": true,
           "gridcolor": "white",
           "linecolor": "white",
           "ticks": "",
           "title": {
            "standoff": 15
           },
           "zerolinecolor": "white",
           "zerolinewidth": 2
          }
         }
        },
        "title": {
         "text": "Total Explained Variance: 73.80%"
        }
       }
      }
     },
     "metadata": {},
     "output_type": "display_data"
    }
   ],
   "source": [
    "alldizi = np.vstack((Xlist,Xaralist34,Xsonaralist34))\n",
    "\n",
    "X = alldizi\n",
    "\n",
    "pca = PCA(n_components=3)\n",
    "components = pca.fit_transform(X)\n",
    "\n",
    "total_var = pca.explained_variance_ratio_.sum() * 100\n",
    "\n",
    "fig = px.scatter_3d(\n",
    "    components, x=0, y=1, z=2,\n",
    "    title=f'Total Explained Variance: {total_var:.2f}%',\n",
    "    labels={'0': 'PC 1', '1': 'PC 2', '2': 'PC 3'}\n",
    ")\n",
    "fig.show()"
   ]
  },
  {
   "attachments": {},
   "cell_type": "markdown",
   "metadata": {},
   "source": [
    "4. İLE 5. NOKTA ARASINDA"
   ]
  },
  {
   "cell_type": "code",
   "execution_count": 389,
   "metadata": {},
   "outputs": [
    {
     "name": "stdout",
     "output_type": "stream",
     "text": [
      "Interpolated weights 0:\n",
      "313/313 [==============================] - 1s 3ms/step - loss: 0.3489 - accuracy: 0.8833\n",
      "Interpolated weights 1:\n",
      "313/313 [==============================] - 1s 3ms/step - loss: 0.4481 - accuracy: 0.8637\n",
      "Interpolated weights 2:\n",
      "313/313 [==============================] - 1s 3ms/step - loss: 1.1073 - accuracy: 0.6842\n",
      "Interpolated weights 3:\n",
      "313/313 [==============================] - 1s 4ms/step - loss: 1.0744 - accuracy: 0.7073\n",
      "Interpolated weights 4:\n",
      "313/313 [==============================] - 1s 3ms/step - loss: 0.4428 - accuracy: 0.8582\n",
      "Interpolated weights 5:\n",
      "313/313 [==============================] - 2s 6ms/step - loss: 0.3325 - accuracy: 0.8867\n",
      "Interpolated weights 6:\n",
      "313/313 [==============================] - 2s 5ms/step - loss: 0.3325 - accuracy: 0.8867\n",
      "313/313 [==============================] - 1s 4ms/step - loss: 0.3489 - accuracy: 0.8833\n",
      "313/313 [==============================] - 1s 3ms/step - loss: 1.1073 - accuracy: 0.6842\n",
      "0.3488624393939972 1.1072795391082764\n",
      " 12/313 [>.............................] - ETA: 1s - loss: 0.4569 - accuracy: 0.8672 "
     ]
    },
    {
     "name": "stderr",
     "output_type": "stream",
     "text": [
      "C:\\Users\\enes_\\AppData\\Local\\Temp\\ipykernel_7704\\2764301010.py:88: VisibleDeprecationWarning:\n",
      "\n",
      "Creating an ndarray from ragged nested sequences (which is a list-or-tuple of lists-or-tuples-or ndarrays with different lengths or shapes) is deprecated. If you meant to do this, you must specify 'dtype=object' when creating the ndarray.\n",
      "\n"
     ]
    },
    {
     "name": "stdout",
     "output_type": "stream",
     "text": [
      "313/313 [==============================] - 1s 4ms/step - loss: 0.4481 - accuracy: 0.8637\n",
      "313/313 [==============================] - 1s 3ms/step - loss: 1.0744 - accuracy: 0.7073\n",
      "0.448138028383255 1.0743638277053833\n",
      "313/313 [==============================] - 1s 3ms/step - loss: 1.1073 - accuracy: 0.6842\n",
      "313/313 [==============================] - 1s 3ms/step - loss: 0.4428 - accuracy: 0.8582\n",
      "1.1072795391082764 0.44284671545028687\n",
      "  1/313 [..............................] - ETA: 11s - loss: 1.2075 - accuracy: 0.6250"
     ]
    },
    {
     "name": "stderr",
     "output_type": "stream",
     "text": [
      "C:\\Users\\enes_\\AppData\\Local\\Temp\\ipykernel_7704\\2764301010.py:90: VisibleDeprecationWarning:\n",
      "\n",
      "Creating an ndarray from ragged nested sequences (which is a list-or-tuple of lists-or-tuples-or ndarrays with different lengths or shapes) is deprecated. If you meant to do this, you must specify 'dtype=object' when creating the ndarray.\n",
      "\n"
     ]
    },
    {
     "name": "stdout",
     "output_type": "stream",
     "text": [
      "313/313 [==============================] - 1s 4ms/step - loss: 1.0744 - accuracy: 0.7073\n",
      "313/313 [==============================] - 1s 3ms/step - loss: 0.3325 - accuracy: 0.8867\n",
      "1.0743638277053833 0.3324909806251526\n",
      "313/313 [==============================] - 1s 4ms/step - loss: 0.4428 - accuracy: 0.8582\n",
      "313/313 [==============================] - 1s 3ms/step - loss: 0.3325 - accuracy: 0.8867\n",
      "0.44284671545028687 0.3324909508228302\n"
     ]
    },
    {
     "name": "stderr",
     "output_type": "stream",
     "text": [
      "C:\\Users\\enes_\\AppData\\Local\\Temp\\ipykernel_7704\\2764301010.py:96: VisibleDeprecationWarning:\n",
      "\n",
      "Creating an ndarray from ragged nested sequences (which is a list-or-tuple of lists-or-tuples-or ndarrays with different lengths or shapes) is deprecated. If you meant to do this, you must specify 'dtype=object' when creating the ndarray.\n",
      "\n",
      "C:\\Users\\enes_\\AppData\\Local\\Temp\\ipykernel_7704\\2764301010.py:115: VisibleDeprecationWarning:\n",
      "\n",
      "Creating an ndarray from ragged nested sequences (which is a list-or-tuple of lists-or-tuples-or ndarrays with different lengths or shapes) is deprecated. If you meant to do this, you must specify 'dtype=object' when creating the ndarray.\n",
      "\n",
      "C:\\Users\\enes_\\AppData\\Local\\Temp\\ipykernel_7704\\2764301010.py:145: VisibleDeprecationWarning:\n",
      "\n",
      "Creating an ndarray from ragged nested sequences (which is a list-or-tuple of lists-or-tuples-or ndarrays with different lengths or shapes) is deprecated. If you meant to do this, you must specify 'dtype=object' when creating the ndarray.\n",
      "\n"
     ]
    },
    {
     "name": "stdout",
     "output_type": "stream",
     "text": [
      "313/313 [==============================] - 1s 4ms/step - loss: 0.3489 - accuracy: 0.8833\n",
      "313/313 [==============================] - 1s 3ms/step - loss: 1.0497 - accuracy: 0.7162\n",
      "0.3488624393939972 1.0497229099273682\n",
      "313/313 [==============================] - 1s 3ms/step - loss: 0.4480 - accuracy: 0.8645\n",
      "313/313 [==============================] - 1s 3ms/step - loss: 1.0256 - accuracy: 0.7287\n",
      "0.4480259418487549 1.025586724281311\n",
      "313/313 [==============================] - 1s 3ms/step - loss: 1.0497 - accuracy: 0.7162\n",
      "313/313 [==============================] - 1s 4ms/step - loss: 0.4385 - accuracy: 0.8621\n",
      "1.0497229099273682 0.4385279715061188\n",
      "313/313 [==============================] - 1s 3ms/step - loss: 1.0256 - accuracy: 0.7287\n",
      "313/313 [==============================] - 1s 4ms/step - loss: 0.3298 - accuracy: 0.8886\n",
      "1.025586724281311 0.3298020660877228\n",
      "313/313 [==============================] - 1s 4ms/step - loss: 0.4385 - accuracy: 0.8621\n",
      "313/313 [==============================] - 1s 3ms/step - loss: 0.3325 - accuracy: 0.8867\n",
      "0.4385279715061188 0.3324909508228302\n",
      "313/313 [==============================] - 1s 3ms/step - loss: 0.3489 - accuracy: 0.8833\n",
      "313/313 [==============================] - 1s 4ms/step - loss: 1.0015 - accuracy: 0.7357\n",
      "0.3488624393939972 1.001466155052185\n",
      "313/313 [==============================] - 1s 3ms/step - loss: 0.4484 - accuracy: 0.8640\n",
      "313/313 [==============================] - 1s 4ms/step - loss: 0.9851 - accuracy: 0.7417\n",
      "0.4483937621116638 0.9850552678108215\n",
      "313/313 [==============================] - 1s 3ms/step - loss: 1.0015 - accuracy: 0.7357\n",
      "313/313 [==============================] - 1s 4ms/step - loss: 0.4366 - accuracy: 0.8632\n",
      "1.001466155052185 0.4366047978401184\n",
      "313/313 [==============================] - 1s 4ms/step - loss: 0.9851 - accuracy: 0.7417\n",
      "313/313 [==============================] - 1s 3ms/step - loss: 0.3283 - accuracy: 0.8893\n",
      "0.9850552678108215 0.3282736539840698\n",
      "313/313 [==============================] - 1s 4ms/step - loss: 0.4366 - accuracy: 0.8632\n",
      "313/313 [==============================] - 1s 3ms/step - loss: 0.3325 - accuracy: 0.8867\n",
      "0.4366047978401184 0.3324909508228302\n",
      "313/313 [==============================] - 1s 4ms/step - loss: 0.3489 - accuracy: 0.8833\n",
      "313/313 [==============================] - 1s 3ms/step - loss: 0.9599 - accuracy: 0.7506\n",
      "0.3488624393939972 0.9599249958992004\n",
      "313/313 [==============================] - 1s 3ms/step - loss: 0.4491 - accuracy: 0.8640\n",
      "313/313 [==============================] - 1s 3ms/step - loss: 0.9499 - accuracy: 0.7503\n",
      "0.4490898847579956 0.9498915076255798\n",
      "313/313 [==============================] - 1s 3ms/step - loss: 0.9599 - accuracy: 0.7506\n",
      "313/313 [==============================] - 1s 4ms/step - loss: 0.4360 - accuracy: 0.8651\n",
      "0.9599249958992004 0.4360432028770447\n",
      "313/313 [==============================] - 1s 3ms/step - loss: 0.9499 - accuracy: 0.7503\n",
      "313/313 [==============================] - 1s 4ms/step - loss: 0.3273 - accuracy: 0.8901\n",
      "0.9498915076255798 0.32727596163749695\n",
      "313/313 [==============================] - 1s 4ms/step - loss: 0.4360 - accuracy: 0.8651\n",
      "313/313 [==============================] - 1s 3ms/step - loss: 0.3325 - accuracy: 0.8867\n",
      "0.4360432028770447 0.3324909508228302\n",
      "313/313 [==============================] - 1s 3ms/step - loss: 0.3489 - accuracy: 0.8833\n",
      "313/313 [==============================] - 1s 3ms/step - loss: 0.9237 - accuracy: 0.7617\n",
      "0.3488624393939972 0.9236985445022583\n",
      "313/313 [==============================] - 1s 3ms/step - loss: 0.4499 - accuracy: 0.8642\n",
      "313/313 [==============================] - 1s 3ms/step - loss: 0.9186 - accuracy: 0.7582\n",
      "0.4499385356903076 0.9186280965805054\n",
      "313/313 [==============================] - 1s 3ms/step - loss: 0.9237 - accuracy: 0.7617\n",
      "313/313 [==============================] - 1s 4ms/step - loss: 0.4363 - accuracy: 0.8658\n",
      "0.9236985445022583 0.43626168370246887\n",
      "313/313 [==============================] - 1s 3ms/step - loss: 0.9186 - accuracy: 0.7582\n",
      "313/313 [==============================] - 1s 4ms/step - loss: 0.3265 - accuracy: 0.8912\n",
      "0.9186280965805054 0.32653260231018066\n",
      "313/313 [==============================] - 1s 3ms/step - loss: 0.4363 - accuracy: 0.8658\n",
      "313/313 [==============================] - 1s 3ms/step - loss: 0.3325 - accuracy: 0.8867\n",
      "0.43626168370246887 0.3324909508228302\n",
      "313/313 [==============================] - 1s 3ms/step - loss: 0.3489 - accuracy: 0.8833\n",
      "313/313 [==============================] - 1s 3ms/step - loss: 0.8917 - accuracy: 0.7707\n",
      "0.3488624393939972 0.8917444348335266\n",
      "313/313 [==============================] - 1s 4ms/step - loss: 0.4508 - accuracy: 0.8642\n",
      "313/313 [==============================] - 1s 4ms/step - loss: 0.8905 - accuracy: 0.7641\n",
      "0.45082587003707886 0.8905336856842041\n",
      "313/313 [==============================] - 1s 3ms/step - loss: 0.8917 - accuracy: 0.7707\n",
      "313/313 [==============================] - 1s 3ms/step - loss: 0.4369 - accuracy: 0.8651\n",
      "0.8917444348335266 0.43693414330482483\n",
      "313/313 [==============================] - 1s 3ms/step - loss: 0.8905 - accuracy: 0.7641\n",
      "313/313 [==============================] - 1s 3ms/step - loss: 0.3259 - accuracy: 0.8913\n",
      "0.8905336856842041 0.32591983675956726\n",
      "313/313 [==============================] - 1s 3ms/step - loss: 0.4369 - accuracy: 0.8651\n",
      "313/313 [==============================] - 1s 3ms/step - loss: 0.3325 - accuracy: 0.8867\n",
      "0.43693414330482483 0.3324909508228302\n",
      "313/313 [==============================] - 1s 4ms/step - loss: 0.3489 - accuracy: 0.8833\n",
      "313/313 [==============================] - 1s 3ms/step - loss: 0.8632 - accuracy: 0.7763\n",
      "0.3488624393939972 0.8631926774978638\n",
      "313/313 [==============================] - 1s 3ms/step - loss: 0.4517 - accuracy: 0.8636\n",
      "313/313 [==============================] - 1s 3ms/step - loss: 0.8651 - accuracy: 0.7685\n",
      "0.4516719579696655 0.8650855422019958\n",
      "313/313 [==============================] - 1s 3ms/step - loss: 0.8632 - accuracy: 0.7763\n",
      "313/313 [==============================] - 1s 4ms/step - loss: 0.4379 - accuracy: 0.8629\n",
      "0.8631926774978638 0.437898188829422\n",
      "313/313 [==============================] - 1s 4ms/step - loss: 0.8651 - accuracy: 0.7685\n",
      "313/313 [==============================] - 1s 3ms/step - loss: 0.3254 - accuracy: 0.8914\n",
      "0.8650855422019958 0.32537978887557983\n",
      "313/313 [==============================] - 1s 3ms/step - loss: 0.4379 - accuracy: 0.8629\n",
      "313/313 [==============================] - 1s 3ms/step - loss: 0.3325 - accuracy: 0.8867\n",
      "0.437898188829422 0.3324909508228302\n",
      "313/313 [==============================] - 1s 3ms/step - loss: 0.3489 - accuracy: 0.8833\n",
      "313/313 [==============================] - 1s 3ms/step - loss: 0.8374 - accuracy: 0.7809\n",
      "0.3488624393939972 0.8374286890029907\n",
      "313/313 [==============================] - 1s 3ms/step - loss: 0.4525 - accuracy: 0.8631\n",
      "313/313 [==============================] - 1s 3ms/step - loss: 0.8418 - accuracy: 0.7740\n",
      "0.45247310400009155 0.8418237566947937\n",
      "313/313 [==============================] - 1s 3ms/step - loss: 0.8374 - accuracy: 0.7809\n",
      "313/313 [==============================] - 1s 3ms/step - loss: 0.4390 - accuracy: 0.8632\n",
      "0.8374286890029907 0.4390416145324707\n",
      "313/313 [==============================] - 1s 3ms/step - loss: 0.8418 - accuracy: 0.7740\n",
      "313/313 [==============================] - 1s 3ms/step - loss: 0.3249 - accuracy: 0.8915\n",
      "0.8418237566947937 0.3248881697654724\n",
      "313/313 [==============================] - 1s 3ms/step - loss: 0.4390 - accuracy: 0.8632\n",
      "313/313 [==============================] - 1s 3ms/step - loss: 0.3325 - accuracy: 0.8867\n",
      "0.4390416145324707 0.3324909508228302\n",
      "313/313 [==============================] - 1s 3ms/step - loss: 0.3489 - accuracy: 0.8833\n",
      "313/313 [==============================] - 1s 3ms/step - loss: 0.8139 - accuracy: 0.7835\n",
      "0.3488624393939972 0.8139306902885437\n",
      "313/313 [==============================] - 1s 3ms/step - loss: 0.4532 - accuracy: 0.8632\n",
      "313/313 [==============================] - 1s 3ms/step - loss: 0.8205 - accuracy: 0.7806\n",
      "0.4531523585319519 0.8204576969146729\n",
      "313/313 [==============================] - 1s 3ms/step - loss: 0.8139 - accuracy: 0.7835\n",
      "313/313 [==============================] - 1s 3ms/step - loss: 0.4403 - accuracy: 0.8632\n",
      "0.8139306902885437 0.4402623474597931\n",
      "313/313 [==============================] - 1s 3ms/step - loss: 0.8205 - accuracy: 0.7806\n",
      "313/313 [==============================] - 1s 3ms/step - loss: 0.3244 - accuracy: 0.8917\n",
      "0.8204576969146729 0.3244269788265228\n",
      "313/313 [==============================] - 1s 3ms/step - loss: 0.4403 - accuracy: 0.8632\n",
      "313/313 [==============================] - 1s 3ms/step - loss: 0.3325 - accuracy: 0.8867\n",
      "0.4402623474597931 0.3324909508228302\n",
      "313/313 [==============================] - 1s 3ms/step - loss: 0.3489 - accuracy: 0.8833\n",
      "313/313 [==============================] - 1s 4ms/step - loss: 0.7923 - accuracy: 0.7874\n",
      "0.3488624393939972 0.7922891974449158\n",
      "313/313 [==============================] - 1s 3ms/step - loss: 0.4537 - accuracy: 0.8627\n",
      "313/313 [==============================] - 1s 3ms/step - loss: 0.8007 - accuracy: 0.7835\n",
      "0.4537217915058136 0.8007017374038696\n",
      "313/313 [==============================] - 1s 3ms/step - loss: 0.7923 - accuracy: 0.7874\n",
      "313/313 [==============================] - 1s 3ms/step - loss: 0.4415 - accuracy: 0.8624\n",
      "0.7922891974449158 0.44148164987564087\n",
      "313/313 [==============================] - 1s 3ms/step - loss: 0.8007 - accuracy: 0.7835\n",
      "313/313 [==============================] - 1s 3ms/step - loss: 0.3240 - accuracy: 0.8916\n",
      "0.8007017374038696 0.3239878714084625\n",
      "313/313 [==============================] - 1s 3ms/step - loss: 0.4415 - accuracy: 0.8624\n",
      "313/313 [==============================] - 1s 3ms/step - loss: 0.3325 - accuracy: 0.8867\n",
      "0.44148164987564087 0.3324909508228302\n",
      "313/313 [==============================] - 1s 3ms/step - loss: 0.3489 - accuracy: 0.8833\n",
      "313/313 [==============================] - 1s 3ms/step - loss: 0.7723 - accuracy: 0.7894\n",
      "0.3488624393939972 0.7723422050476074\n",
      "313/313 [==============================] - 1s 3ms/step - loss: 0.4542 - accuracy: 0.8619\n",
      "313/313 [==============================] - 1s 3ms/step - loss: 0.7823 - accuracy: 0.7867\n",
      "0.45415088534355164 0.7823275923728943\n",
      "313/313 [==============================] - 1s 3ms/step - loss: 0.7723 - accuracy: 0.7894\n",
      "313/313 [==============================] - 1s 3ms/step - loss: 0.4427 - accuracy: 0.8623\n",
      "0.7723422050476074 0.4426509737968445\n",
      "313/313 [==============================] - 1s 3ms/step - loss: 0.7823 - accuracy: 0.7867\n",
      "313/313 [==============================] - 1s 3ms/step - loss: 0.3236 - accuracy: 0.8918\n",
      "0.7823275923728943 0.3235665261745453\n",
      "313/313 [==============================] - 1s 3ms/step - loss: 0.4427 - accuracy: 0.8623\n",
      "313/313 [==============================] - 1s 3ms/step - loss: 0.3325 - accuracy: 0.8867\n",
      "0.4426509737968445 0.3324909508228302\n",
      "313/313 [==============================] - 1s 3ms/step - loss: 0.3489 - accuracy: 0.8833\n",
      "313/313 [==============================] - 1s 3ms/step - loss: 0.7539 - accuracy: 0.7926\n",
      "0.3488624393939972 0.7538647651672363\n",
      "313/313 [==============================] - 1s 3ms/step - loss: 0.4544 - accuracy: 0.8613\n",
      "313/313 [==============================] - 1s 3ms/step - loss: 0.7651 - accuracy: 0.7900\n",
      "0.45442745089530945 0.7650956511497498\n",
      "313/313 [==============================] - 1s 3ms/step - loss: 0.7539 - accuracy: 0.7926\n",
      "313/313 [==============================] - 1s 3ms/step - loss: 0.4437 - accuracy: 0.8609\n",
      "0.7538647651672363 0.44373819231987\n",
      "313/313 [==============================] - 1s 3ms/step - loss: 0.7651 - accuracy: 0.7900\n",
      "313/313 [==============================] - 1s 3ms/step - loss: 0.3232 - accuracy: 0.8916\n",
      "0.7650956511497498 0.3231610357761383\n",
      "313/313 [==============================] - 1s 3ms/step - loss: 0.4437 - accuracy: 0.8609\n",
      "313/313 [==============================] - 1s 3ms/step - loss: 0.3325 - accuracy: 0.8867\n",
      "0.44373819231987 0.3324909508228302\n",
      "313/313 [==============================] - 1s 3ms/step - loss: 0.3489 - accuracy: 0.8833\n",
      "313/313 [==============================] - 1s 3ms/step - loss: 0.7367 - accuracy: 0.7957\n",
      "0.3488624393939972 0.7366895079612732\n",
      "313/313 [==============================] - 1s 3ms/step - loss: 0.4545 - accuracy: 0.8609\n",
      "313/313 [==============================] - 1s 3ms/step - loss: 0.7489 - accuracy: 0.7929\n",
      "0.4545406699180603 0.7489171624183655\n",
      "313/313 [==============================] - 1s 3ms/step - loss: 0.7367 - accuracy: 0.7957\n",
      "313/313 [==============================] - 1s 3ms/step - loss: 0.4447 - accuracy: 0.8608\n",
      "0.7366895079612732 0.4447123110294342\n",
      "313/313 [==============================] - 1s 3ms/step - loss: 0.7489 - accuracy: 0.7929\n",
      "313/313 [==============================] - 1s 3ms/step - loss: 0.3228 - accuracy: 0.8914\n",
      "0.7489171624183655 0.3227706849575043\n",
      "313/313 [==============================] - 1s 3ms/step - loss: 0.4447 - accuracy: 0.8608\n",
      "313/313 [==============================] - 1s 3ms/step - loss: 0.3325 - accuracy: 0.8867\n",
      "0.4447123110294342 0.3324909508228302\n",
      "313/313 [==============================] - 1s 3ms/step - loss: 0.3489 - accuracy: 0.8833\n",
      "313/313 [==============================] - 1s 3ms/step - loss: 0.7207 - accuracy: 0.7986\n",
      "0.3488624393939972 0.7206789255142212\n",
      "313/313 [==============================] - 1s 3ms/step - loss: 0.4545 - accuracy: 0.8608\n",
      "313/313 [==============================] - 1s 3ms/step - loss: 0.7337 - accuracy: 0.7963\n",
      "0.45450901985168457 0.7336548566818237\n",
      "313/313 [==============================] - 1s 3ms/step - loss: 0.7207 - accuracy: 0.7986\n",
      "313/313 [==============================] - 1s 3ms/step - loss: 0.4456 - accuracy: 0.8609\n",
      "0.7206789255142212 0.44561967253685\n",
      "313/313 [==============================] - 1s 3ms/step - loss: 0.7337 - accuracy: 0.7963\n",
      "313/313 [==============================] - 1s 3ms/step - loss: 0.3224 - accuracy: 0.8914\n",
      "0.7336548566818237 0.32239192724227905\n",
      "313/313 [==============================] - 1s 3ms/step - loss: 0.4456 - accuracy: 0.8609\n",
      "313/313 [==============================] - 1s 3ms/step - loss: 0.3325 - accuracy: 0.8867\n",
      "0.44561967253685 0.3324909508228302\n",
      "313/313 [==============================] - 1s 3ms/step - loss: 0.3489 - accuracy: 0.8833\n",
      "313/313 [==============================] - 1s 3ms/step - loss: 0.7057 - accuracy: 0.8007\n",
      "0.3488624393939972 0.7057134509086609\n",
      "313/313 [==============================] - 1s 3ms/step - loss: 0.4544 - accuracy: 0.8601\n",
      "313/313 [==============================] - 1s 3ms/step - loss: 0.7192 - accuracy: 0.7982\n",
      "0.45438188314437866 0.7191957831382751\n",
      "313/313 [==============================] - 1s 3ms/step - loss: 0.7057 - accuracy: 0.8007\n",
      "313/313 [==============================] - 1s 3ms/step - loss: 0.4464 - accuracy: 0.8600\n",
      "0.7057134509086609 0.4464152753353119\n",
      "313/313 [==============================] - 1s 3ms/step - loss: 0.7192 - accuracy: 0.7982\n",
      "313/313 [==============================] - 1s 3ms/step - loss: 0.3220 - accuracy: 0.8915\n",
      "0.7191957831382751 0.3220250606536865\n",
      "313/313 [==============================] - 1s 3ms/step - loss: 0.4464 - accuracy: 0.8600\n",
      "313/313 [==============================] - 1s 3ms/step - loss: 0.3325 - accuracy: 0.8867\n",
      "0.4464152753353119 0.3324909508228302\n",
      "313/313 [==============================] - 1s 3ms/step - loss: 0.3489 - accuracy: 0.8833\n",
      "313/313 [==============================] - 1s 3ms/step - loss: 0.6917 - accuracy: 0.8032\n",
      "0.3488624393939972 0.6917475461959839\n",
      "313/313 [==============================] - 1s 3ms/step - loss: 0.4541 - accuracy: 0.8603\n",
      "313/313 [==============================] - 1s 3ms/step - loss: 0.7055 - accuracy: 0.7999\n",
      "0.4541407823562622 0.7054867148399353\n",
      "313/313 [==============================] - 1s 3ms/step - loss: 0.6917 - accuracy: 0.8032\n",
      "313/313 [==============================] - 1s 3ms/step - loss: 0.4471 - accuracy: 0.8599\n",
      "0.6917475461959839 0.44707241654396057\n",
      "313/313 [==============================] - 1s 3ms/step - loss: 0.7055 - accuracy: 0.7999\n",
      "313/313 [==============================] - 1s 3ms/step - loss: 0.3217 - accuracy: 0.8915\n",
      "0.7054867148399353 0.3216683268547058\n",
      "313/313 [==============================] - 1s 3ms/step - loss: 0.4471 - accuracy: 0.8599\n",
      "313/313 [==============================] - 1s 3ms/step - loss: 0.3325 - accuracy: 0.8867\n",
      "0.44707241654396057 0.3324909508228302\n",
      "313/313 [==============================] - 1s 3ms/step - loss: 0.3489 - accuracy: 0.8833\n",
      "313/313 [==============================] - 1s 3ms/step - loss: 0.6787 - accuracy: 0.8051\n",
      "0.3488624393939972 0.6786956787109375\n",
      "313/313 [==============================] - 1s 3ms/step - loss: 0.4538 - accuracy: 0.8594\n",
      "313/313 [==============================] - 1s 3ms/step - loss: 0.6925 - accuracy: 0.8026\n",
      "0.45379018783569336 0.6924804449081421\n",
      "313/313 [==============================] - 1s 3ms/step - loss: 0.6787 - accuracy: 0.8051\n",
      "313/313 [==============================] - 1s 3ms/step - loss: 0.4476 - accuracy: 0.8587\n",
      "0.6786956787109375 0.44759246706962585\n",
      "313/313 [==============================] - 1s 3ms/step - loss: 0.6925 - accuracy: 0.8026\n",
      "313/313 [==============================] - 1s 3ms/step - loss: 0.3213 - accuracy: 0.8916\n",
      "0.6924804449081421 0.3213208019733429\n",
      "313/313 [==============================] - 1s 3ms/step - loss: 0.4476 - accuracy: 0.8587\n",
      "313/313 [==============================] - 1s 3ms/step - loss: 0.3325 - accuracy: 0.8867\n",
      "0.44759246706962585 0.3324909508228302\n",
      "313/313 [==============================] - 1s 3ms/step - loss: 0.3489 - accuracy: 0.8833\n",
      "313/313 [==============================] - 1s 3ms/step - loss: 0.6665 - accuracy: 0.8071\n",
      "0.3488624393939972 0.6664668917655945\n",
      "313/313 [==============================] - 1s 3ms/step - loss: 0.4534 - accuracy: 0.8591\n",
      "313/313 [==============================] - 1s 3ms/step - loss: 0.6801 - accuracy: 0.8049\n",
      "0.4533821642398834 0.6801483631134033\n",
      "313/313 [==============================] - 1s 3ms/step - loss: 0.6665 - accuracy: 0.8071\n",
      "313/313 [==============================] - 1s 3ms/step - loss: 0.4480 - accuracy: 0.8585\n",
      "0.6664668917655945 0.4480040669441223\n",
      "313/313 [==============================] - 1s 3ms/step - loss: 0.6801 - accuracy: 0.8049\n",
      "313/313 [==============================] - 1s 3ms/step - loss: 0.3210 - accuracy: 0.8916\n",
      "0.6801483631134033 0.32098355889320374\n",
      "313/313 [==============================] - 1s 3ms/step - loss: 0.4480 - accuracy: 0.8585\n",
      "313/313 [==============================] - 1s 3ms/step - loss: 0.3325 - accuracy: 0.8867\n",
      "0.4480040669441223 0.3324909508228302\n",
      "313/313 [==============================] - 1s 3ms/step - loss: 0.3489 - accuracy: 0.8833\n",
      "313/313 [==============================] - 1s 3ms/step - loss: 0.6550 - accuracy: 0.8090\n",
      "0.3488624393939972 0.6550164818763733\n",
      "313/313 [==============================] - 1s 3ms/step - loss: 0.4529 - accuracy: 0.8590\n",
      "313/313 [==============================] - 1s 3ms/step - loss: 0.6685 - accuracy: 0.8068\n",
      "0.4528842866420746 0.6684549450874329\n",
      "313/313 [==============================] - 1s 3ms/step - loss: 0.6550 - accuracy: 0.8090\n",
      "313/313 [==============================] - 1s 3ms/step - loss: 0.4483 - accuracy: 0.8575\n",
      "0.6550164818763733 0.4483215808868408\n",
      "313/313 [==============================] - 1s 3ms/step - loss: 0.6685 - accuracy: 0.8068\n",
      "313/313 [==============================] - 1s 3ms/step - loss: 0.3207 - accuracy: 0.8916\n",
      "0.6684549450874329 0.32065609097480774\n",
      "313/313 [==============================] - 1s 4ms/step - loss: 0.4483 - accuracy: 0.8575\n",
      "313/313 [==============================] - 1s 3ms/step - loss: 0.3325 - accuracy: 0.8867\n",
      "0.4483215808868408 0.3324909508228302\n",
      "313/313 [==============================] - 1s 3ms/step - loss: 0.3489 - accuracy: 0.8833\n",
      "313/313 [==============================] - 1s 3ms/step - loss: 0.6443 - accuracy: 0.8108\n",
      "0.3488624393939972 0.644282877445221\n",
      "313/313 [==============================] - 1s 3ms/step - loss: 0.4523 - accuracy: 0.8592\n",
      "313/313 [==============================] - 1s 3ms/step - loss: 0.6574 - accuracy: 0.8084\n",
      "0.45229658484458923 0.657356858253479\n",
      "313/313 [==============================] - 1s 3ms/step - loss: 0.6443 - accuracy: 0.8108\n",
      "313/313 [==============================] - 1s 3ms/step - loss: 0.4485 - accuracy: 0.8574\n",
      "0.644282877445221 0.44852015376091003\n",
      "313/313 [==============================] - 1s 3ms/step - loss: 0.6574 - accuracy: 0.8084\n",
      "313/313 [==============================] - 1s 3ms/step - loss: 0.3203 - accuracy: 0.8917\n",
      "0.657356858253479 0.3203369081020355\n",
      "313/313 [==============================] - 1s 3ms/step - loss: 0.4485 - accuracy: 0.8574\n",
      "313/313 [==============================] - 1s 3ms/step - loss: 0.3325 - accuracy: 0.8867\n",
      "0.44852015376091003 0.3324909508228302\n",
      "313/313 [==============================] - 1s 3ms/step - loss: 0.3489 - accuracy: 0.8833\n",
      "313/313 [==============================] - 1s 3ms/step - loss: 0.6342 - accuracy: 0.8117\n",
      "0.3488624393939972 0.6342365741729736\n",
      "313/313 [==============================] - 1s 3ms/step - loss: 0.4516 - accuracy: 0.8593\n",
      "313/313 [==============================] - 1s 3ms/step - loss: 0.6469 - accuracy: 0.8103\n",
      "0.4516332149505615 0.6468532085418701\n",
      "313/313 [==============================] - 1s 3ms/step - loss: 0.6342 - accuracy: 0.8117\n",
      "313/313 [==============================] - 1s 3ms/step - loss: 0.4486 - accuracy: 0.8573\n",
      "0.6342365741729736 0.4486064016819\n",
      "313/313 [==============================] - 1s 3ms/step - loss: 0.6469 - accuracy: 0.8103\n",
      "313/313 [==============================] - 1s 3ms/step - loss: 0.3200 - accuracy: 0.8917\n",
      "0.6468532085418701 0.3200269639492035\n",
      "313/313 [==============================] - 1s 3ms/step - loss: 0.4486 - accuracy: 0.8573\n",
      "313/313 [==============================] - 1s 3ms/step - loss: 0.3325 - accuracy: 0.8867\n",
      "0.4486064016819 0.3324909508228302\n",
      "313/313 [==============================] - 1s 4ms/step - loss: 0.3489 - accuracy: 0.8833\n",
      "313/313 [==============================] - 1s 3ms/step - loss: 0.6248 - accuracy: 0.8140\n",
      "0.3488624393939972 0.6248294711112976\n",
      "313/313 [==============================] - 1s 3ms/step - loss: 0.4509 - accuracy: 0.8592\n",
      "313/313 [==============================] - 1s 3ms/step - loss: 0.6369 - accuracy: 0.8124\n",
      "0.4509279727935791 0.6368882060050964\n",
      "313/313 [==============================] - 1s 3ms/step - loss: 0.6248 - accuracy: 0.8140\n",
      "313/313 [==============================] - 1s 3ms/step - loss: 0.4486 - accuracy: 0.8564\n",
      "0.6248294711112976 0.44857192039489746\n",
      "313/313 [==============================] - 1s 3ms/step - loss: 0.6369 - accuracy: 0.8124\n",
      "313/313 [==============================] - 1s 3ms/step - loss: 0.3197 - accuracy: 0.8917\n",
      "0.6368882060050964 0.3197219967842102\n",
      "313/313 [==============================] - 1s 4ms/step - loss: 0.4486 - accuracy: 0.8564\n",
      "313/313 [==============================] - 1s 3ms/step - loss: 0.3325 - accuracy: 0.8867\n",
      "0.44857192039489746 0.3324909508228302\n",
      "313/313 [==============================] - 1s 3ms/step - loss: 0.3489 - accuracy: 0.8833\n",
      "313/313 [==============================] - 1s 3ms/step - loss: 0.6160 - accuracy: 0.8152\n",
      "0.3488624393939972 0.6160006523132324\n",
      "313/313 [==============================] - 1s 3ms/step - loss: 0.4502 - accuracy: 0.8587\n",
      "313/313 [==============================] - 1s 3ms/step - loss: 0.6275 - accuracy: 0.8138\n",
      "0.45017632842063904 0.6274533271789551\n",
      "313/313 [==============================] - 1s 3ms/step - loss: 0.6160 - accuracy: 0.8152\n",
      "313/313 [==============================] - 1s 3ms/step - loss: 0.4484 - accuracy: 0.8564\n",
      "0.6160006523132324 0.44843676686286926\n",
      "313/313 [==============================] - 1s 3ms/step - loss: 0.6275 - accuracy: 0.8138\n",
      "313/313 [==============================] - 1s 3ms/step - loss: 0.3194 - accuracy: 0.8922\n",
      "0.6274533271789551 0.31942445039749146\n",
      "313/313 [==============================] - 1s 3ms/step - loss: 0.4484 - accuracy: 0.8564\n",
      "313/313 [==============================] - 1s 3ms/step - loss: 0.3325 - accuracy: 0.8867\n",
      "0.44843676686286926 0.3324909508228302\n",
      "313/313 [==============================] - 1s 3ms/step - loss: 0.3489 - accuracy: 0.8833\n",
      "313/313 [==============================] - 1s 3ms/step - loss: 0.6077 - accuracy: 0.8157\n",
      "0.3488624393939972 0.607692539691925\n",
      "313/313 [==============================] - 1s 3ms/step - loss: 0.4494 - accuracy: 0.8583\n",
      "313/313 [==============================] - 1s 3ms/step - loss: 0.6185 - accuracy: 0.8158\n",
      "0.44939368963241577 0.6185152530670166\n",
      "313/313 [==============================] - 1s 3ms/step - loss: 0.6077 - accuracy: 0.8157\n",
      "313/313 [==============================] - 1s 3ms/step - loss: 0.4482 - accuracy: 0.8562\n",
      "0.607692539691925 0.4482163190841675\n",
      "313/313 [==============================] - 1s 3ms/step - loss: 0.6185 - accuracy: 0.8158\n",
      "313/313 [==============================] - 1s 4ms/step - loss: 0.3191 - accuracy: 0.8919\n",
      "0.6185152530670166 0.31913307309150696\n",
      "313/313 [==============================] - 1s 4ms/step - loss: 0.4482 - accuracy: 0.8562\n",
      "313/313 [==============================] - 1s 3ms/step - loss: 0.3325 - accuracy: 0.8867\n",
      "0.4482163190841675 0.3324909508228302\n",
      "313/313 [==============================] - 1s 3ms/step - loss: 0.3489 - accuracy: 0.8833\n",
      "313/313 [==============================] - 1s 3ms/step - loss: 0.5999 - accuracy: 0.8177\n",
      "0.3488624393939972 0.5998762249946594\n",
      "313/313 [==============================] - 1s 3ms/step - loss: 0.4486 - accuracy: 0.8581\n",
      "313/313 [==============================] - 1s 3ms/step - loss: 0.6101 - accuracy: 0.8158\n",
      "0.4485905170440674 0.6100797057151794\n",
      "313/313 [==============================] - 1s 3ms/step - loss: 0.5999 - accuracy: 0.8177\n",
      "313/313 [==============================] - 1s 3ms/step - loss: 0.4479 - accuracy: 0.8560\n",
      "0.5998762249946594 0.4479246139526367\n",
      "313/313 [==============================] - 1s 3ms/step - loss: 0.6101 - accuracy: 0.8158\n",
      "313/313 [==============================] - 1s 3ms/step - loss: 0.3188 - accuracy: 0.8918\n",
      "0.6100797057151794 0.3188479244709015\n",
      "313/313 [==============================] - 1s 3ms/step - loss: 0.4479 - accuracy: 0.8560\n",
      "313/313 [==============================] - 1s 3ms/step - loss: 0.3325 - accuracy: 0.8867\n",
      "0.4479246139526367 0.3324909508228302\n",
      "313/313 [==============================] - 1s 3ms/step - loss: 0.3489 - accuracy: 0.8833\n",
      "313/313 [==============================] - 1s 3ms/step - loss: 0.5925 - accuracy: 0.8189\n",
      "0.3488624393939972 0.5925188660621643\n",
      "313/313 [==============================] - 1s 4ms/step - loss: 0.4478 - accuracy: 0.8579\n",
      "313/313 [==============================] - 1s 4ms/step - loss: 0.6021 - accuracy: 0.8179\n",
      "0.44775840640068054 0.6021016836166382\n",
      "313/313 [==============================] - 1s 4ms/step - loss: 0.5925 - accuracy: 0.8189\n",
      "313/313 [==============================] - 1s 3ms/step - loss: 0.4476 - accuracy: 0.8553\n",
      "0.5925188660621643 0.4475502073764801\n",
      "313/313 [==============================] - 1s 4ms/step - loss: 0.6021 - accuracy: 0.8179\n",
      "313/313 [==============================] - 1s 3ms/step - loss: 0.3186 - accuracy: 0.8918\n",
      "0.6021016836166382 0.31856808066368103\n",
      "313/313 [==============================] - 1s 3ms/step - loss: 0.4476 - accuracy: 0.8553\n",
      "313/313 [==============================] - 1s 3ms/step - loss: 0.3325 - accuracy: 0.8867\n",
      "0.4475502073764801 0.3324909508228302\n",
      "313/313 [==============================] - 1s 4ms/step - loss: 0.3489 - accuracy: 0.8833\n",
      "313/313 [==============================] - 1s 3ms/step - loss: 0.5856 - accuracy: 0.8195\n",
      "0.3488624393939972 0.585602879524231\n",
      "313/313 [==============================] - 1s 3ms/step - loss: 0.4469 - accuracy: 0.8582\n",
      "313/313 [==============================] - 1s 3ms/step - loss: 0.5945 - accuracy: 0.8190\n",
      "0.44690796732902527 0.59453946352005\n",
      "313/313 [==============================] - 1s 3ms/step - loss: 0.5856 - accuracy: 0.8195\n",
      "313/313 [==============================] - 1s 3ms/step - loss: 0.4471 - accuracy: 0.8548\n",
      "0.585602879524231 0.44709858298301697\n",
      "313/313 [==============================] - 1s 3ms/step - loss: 0.5945 - accuracy: 0.8190\n",
      "313/313 [==============================] - 1s 3ms/step - loss: 0.3183 - accuracy: 0.8919\n",
      "0.59453946352005 0.3182944059371948\n",
      "313/313 [==============================] - 1s 3ms/step - loss: 0.4471 - accuracy: 0.8548\n",
      "313/313 [==============================] - 1s 3ms/step - loss: 0.3325 - accuracy: 0.8867\n",
      "0.44709858298301697 0.3324909508228302\n",
      "313/313 [==============================] - 1s 3ms/step - loss: 0.3489 - accuracy: 0.8833\n",
      "313/313 [==============================] - 1s 3ms/step - loss: 0.5791 - accuracy: 0.8196\n",
      "0.3488624393939972 0.5790858864784241\n",
      "313/313 [==============================] - 1s 3ms/step - loss: 0.4460 - accuracy: 0.8586\n",
      "313/313 [==============================] - 1s 3ms/step - loss: 0.5874 - accuracy: 0.8198\n",
      "0.44603466987609863 0.5873895883560181\n",
      "313/313 [==============================] - 1s 4ms/step - loss: 0.5791 - accuracy: 0.8196\n",
      "313/313 [==============================] - 1s 3ms/step - loss: 0.4466 - accuracy: 0.8551\n",
      "0.5790858864784241 0.4465920329093933\n",
      "313/313 [==============================] - 1s 3ms/step - loss: 0.5874 - accuracy: 0.8198\n",
      "313/313 [==============================] - 1s 3ms/step - loss: 0.3180 - accuracy: 0.8920\n",
      "0.5873895883560181 0.3180253803730011\n",
      "313/313 [==============================] - 1s 3ms/step - loss: 0.4466 - accuracy: 0.8551\n",
      "313/313 [==============================] - 1s 4ms/step - loss: 0.3325 - accuracy: 0.8867\n",
      "0.4465920329093933 0.3324909508228302\n",
      "313/313 [==============================] - 1s 3ms/step - loss: 0.3489 - accuracy: 0.8833\n",
      "313/313 [==============================] - 1s 3ms/step - loss: 0.5730 - accuracy: 0.8213\n",
      "0.3488624393939972 0.5729545950889587\n",
      "313/313 [==============================] - 1s 3ms/step - loss: 0.4451 - accuracy: 0.8584\n",
      "313/313 [==============================] - 1s 3ms/step - loss: 0.5806 - accuracy: 0.8215\n",
      "0.44514891505241394 0.5806251168251038\n",
      "313/313 [==============================] - 1s 3ms/step - loss: 0.5730 - accuracy: 0.8213\n",
      "313/313 [==============================] - 1s 3ms/step - loss: 0.4460 - accuracy: 0.8545\n",
      "0.5729545950889587 0.44604262709617615\n",
      "313/313 [==============================] - 1s 4ms/step - loss: 0.5806 - accuracy: 0.8215\n",
      "313/313 [==============================] - 1s 3ms/step - loss: 0.3178 - accuracy: 0.8918\n",
      "0.5806251168251038 0.3177576959133148\n",
      "313/313 [==============================] - 1s 3ms/step - loss: 0.4460 - accuracy: 0.8545\n",
      "313/313 [==============================] - 1s 3ms/step - loss: 0.3325 - accuracy: 0.8867\n",
      "0.44604262709617615 0.3324909508228302\n",
      "313/313 [==============================] - 1s 3ms/step - loss: 0.3489 - accuracy: 0.8833\n",
      "313/313 [==============================] - 1s 3ms/step - loss: 0.5672 - accuracy: 0.8223\n",
      "0.3488624393939972 0.5671681761741638\n",
      "313/313 [==============================] - 1s 3ms/step - loss: 0.4442 - accuracy: 0.8580\n",
      "313/313 [==============================] - 1s 3ms/step - loss: 0.5742 - accuracy: 0.8215\n",
      "0.4442356526851654 0.5742194056510925\n",
      "313/313 [==============================] - 1s 3ms/step - loss: 0.5672 - accuracy: 0.8223\n",
      "313/313 [==============================] - 1s 3ms/step - loss: 0.4455 - accuracy: 0.8540\n",
      "0.5671681761741638 0.44545668363571167\n",
      "313/313 [==============================] - 1s 4ms/step - loss: 0.5742 - accuracy: 0.8215\n",
      "313/313 [==============================] - 1s 3ms/step - loss: 0.3175 - accuracy: 0.8917\n",
      "0.5742194056510925 0.31749385595321655\n",
      "313/313 [==============================] - 1s 3ms/step - loss: 0.4455 - accuracy: 0.8540\n",
      "313/313 [==============================] - 1s 3ms/step - loss: 0.3325 - accuracy: 0.8867\n",
      "0.44545668363571167 0.3324909508228302\n",
      "313/313 [==============================] - 1s 3ms/step - loss: 0.3489 - accuracy: 0.8833\n",
      "313/313 [==============================] - 1s 3ms/step - loss: 0.5617 - accuracy: 0.8232\n",
      "0.3488624393939972 0.5617088675498962\n",
      "313/313 [==============================] - 1s 3ms/step - loss: 0.4433 - accuracy: 0.8571\n",
      "313/313 [==============================] - 1s 3ms/step - loss: 0.5682 - accuracy: 0.8217\n",
      "0.44329842925071716 0.5681572556495667\n",
      "313/313 [==============================] - 1s 3ms/step - loss: 0.5617 - accuracy: 0.8232\n",
      "313/313 [==============================] - 1s 3ms/step - loss: 0.4448 - accuracy: 0.8537\n",
      "0.5617088675498962 0.4448343813419342\n",
      "313/313 [==============================] - 1s 4ms/step - loss: 0.5682 - accuracy: 0.8217\n",
      "313/313 [==============================] - 1s 3ms/step - loss: 0.3172 - accuracy: 0.8918\n",
      "0.5681572556495667 0.3172362446784973\n",
      "313/313 [==============================] - 1s 3ms/step - loss: 0.4448 - accuracy: 0.8537\n",
      "313/313 [==============================] - 1s 3ms/step - loss: 0.3325 - accuracy: 0.8867\n",
      "0.4448343813419342 0.3324909508228302\n",
      "313/313 [==============================] - 1s 3ms/step - loss: 0.3489 - accuracy: 0.8833\n",
      "313/313 [==============================] - 1s 3ms/step - loss: 0.5566 - accuracy: 0.8243\n",
      "0.3488624393939972 0.5565541386604309\n",
      "313/313 [==============================] - 1s 3ms/step - loss: 0.4423 - accuracy: 0.8572\n",
      "313/313 [==============================] - 1s 3ms/step - loss: 0.5624 - accuracy: 0.8227\n",
      "0.4423407316207886 0.5624224543571472\n",
      "313/313 [==============================] - 1s 3ms/step - loss: 0.5566 - accuracy: 0.8243\n",
      "313/313 [==============================] - 1s 3ms/step - loss: 0.4442 - accuracy: 0.8532\n",
      "0.5565541386604309 0.444178968667984\n",
      "313/313 [==============================] - 1s 4ms/step - loss: 0.5624 - accuracy: 0.8227\n",
      "313/313 [==============================] - 1s 3ms/step - loss: 0.3170 - accuracy: 0.8918\n",
      "0.5624224543571472 0.31698334217071533\n",
      "313/313 [==============================] - 1s 3ms/step - loss: 0.4442 - accuracy: 0.8532\n",
      "313/313 [==============================] - 1s 3ms/step - loss: 0.3325 - accuracy: 0.8867\n",
      "0.444178968667984 0.3324909508228302\n",
      "313/313 [==============================] - 1s 3ms/step - loss: 0.3489 - accuracy: 0.8833\n",
      "313/313 [==============================] - 1s 3ms/step - loss: 0.5517 - accuracy: 0.8253\n",
      "0.3488624393939972 0.551659345626831\n",
      "313/313 [==============================] - 1s 3ms/step - loss: 0.4414 - accuracy: 0.8569\n",
      "313/313 [==============================] - 1s 3ms/step - loss: 0.5570 - accuracy: 0.8232\n",
      "0.44137880206108093 0.5569924116134644\n",
      "313/313 [==============================] - 1s 3ms/step - loss: 0.5517 - accuracy: 0.8253\n",
      "313/313 [==============================] - 1s 4ms/step - loss: 0.4435 - accuracy: 0.8535\n",
      "0.551659345626831 0.4434994161128998\n",
      "313/313 [==============================] - 1s 3ms/step - loss: 0.5570 - accuracy: 0.8232\n",
      "313/313 [==============================] - 1s 3ms/step - loss: 0.3167 - accuracy: 0.8919\n",
      "0.5569924116134644 0.3167339563369751\n",
      "313/313 [==============================] - 1s 4ms/step - loss: 0.4435 - accuracy: 0.8535\n",
      "313/313 [==============================] - 1s 4ms/step - loss: 0.3325 - accuracy: 0.8867\n",
      "0.4434994161128998 0.3324909508228302\n",
      "313/313 [==============================] - 1s 3ms/step - loss: 0.3489 - accuracy: 0.8833\n",
      "313/313 [==============================] - 1s 3ms/step - loss: 0.5470 - accuracy: 0.8259\n",
      "0.3488624393939972 0.5469969511032104\n",
      "313/313 [==============================] - 1s 3ms/step - loss: 0.4404 - accuracy: 0.8567\n",
      "313/313 [==============================] - 1s 3ms/step - loss: 0.5518 - accuracy: 0.8236\n",
      "0.44041287899017334 0.5518489480018616\n",
      "313/313 [==============================] - 1s 3ms/step - loss: 0.5470 - accuracy: 0.8259\n",
      "313/313 [==============================] - 1s 4ms/step - loss: 0.4428 - accuracy: 0.8534\n",
      "0.5469969511032104 0.442794531583786\n",
      "313/313 [==============================] - 1s 3ms/step - loss: 0.5518 - accuracy: 0.8236\n",
      "313/313 [==============================] - 1s 3ms/step - loss: 0.3165 - accuracy: 0.8917\n",
      "0.5518489480018616 0.3164876699447632\n",
      "313/313 [==============================] - 1s 3ms/step - loss: 0.4428 - accuracy: 0.8534\n",
      "313/313 [==============================] - 1s 3ms/step - loss: 0.3325 - accuracy: 0.8867\n",
      "0.442794531583786 0.3324909508228302\n",
      "313/313 [==============================] - 1s 3ms/step - loss: 0.3489 - accuracy: 0.8833\n",
      "313/313 [==============================] - 1s 3ms/step - loss: 0.5425 - accuracy: 0.8260\n",
      "0.3488624393939972 0.5425494909286499\n",
      "313/313 [==============================] - 1s 3ms/step - loss: 0.4395 - accuracy: 0.8562\n",
      "313/313 [==============================] - 1s 4ms/step - loss: 0.5470 - accuracy: 0.8243\n",
      "0.43945327401161194 0.5469866394996643\n",
      "313/313 [==============================] - 1s 4ms/step - loss: 0.5425 - accuracy: 0.8260\n",
      "313/313 [==============================] - 1s 4ms/step - loss: 0.4421 - accuracy: 0.8534\n",
      "0.5425494909286499 0.4420762062072754\n",
      "313/313 [==============================] - 1s 4ms/step - loss: 0.5470 - accuracy: 0.8243\n",
      "313/313 [==============================] - 1s 4ms/step - loss: 0.3162 - accuracy: 0.8918\n",
      "0.5469866394996643 0.31624725461006165\n",
      "313/313 [==============================] - 1s 3ms/step - loss: 0.4421 - accuracy: 0.8534\n",
      "313/313 [==============================] - 1s 3ms/step - loss: 0.3325 - accuracy: 0.8867\n",
      "0.4420762062072754 0.3324909508228302\n",
      "313/313 [==============================] - 1s 3ms/step - loss: 0.3489 - accuracy: 0.8833\n",
      "313/313 [==============================] - 1s 3ms/step - loss: 0.5383 - accuracy: 0.8267\n",
      "0.3488624393939972 0.5383148193359375\n",
      "313/313 [==============================] - 1s 3ms/step - loss: 0.4385 - accuracy: 0.8562\n",
      "313/313 [==============================] - 1s 3ms/step - loss: 0.5424 - accuracy: 0.8247\n",
      "0.43849363923072815 0.5423798561096191\n",
      "313/313 [==============================] - 1s 4ms/step - loss: 0.5383 - accuracy: 0.8267\n",
      "313/313 [==============================] - 1s 3ms/step - loss: 0.4413 - accuracy: 0.8524\n",
      "0.5383148193359375 0.4413404166698456\n",
      "313/313 [==============================] - 1s 3ms/step - loss: 0.5424 - accuracy: 0.8247\n",
      "313/313 [==============================] - 1s 3ms/step - loss: 0.3160 - accuracy: 0.8917\n",
      "0.5423798561096191 0.3160116374492645\n",
      "313/313 [==============================] - 1s 3ms/step - loss: 0.4413 - accuracy: 0.8524\n",
      "313/313 [==============================] - 1s 4ms/step - loss: 0.3325 - accuracy: 0.8867\n",
      "0.4413404166698456 0.3324909508228302\n",
      "313/313 [==============================] - 1s 3ms/step - loss: 0.3489 - accuracy: 0.8833\n",
      "313/313 [==============================] - 1s 3ms/step - loss: 0.5343 - accuracy: 0.8266\n",
      "0.3488624393939972 0.5342738628387451\n",
      "313/313 [==============================] - 1s 3ms/step - loss: 0.4375 - accuracy: 0.8563\n",
      "313/313 [==============================] - 1s 3ms/step - loss: 0.5380 - accuracy: 0.8256\n",
      "0.4375413656234741 0.5380129218101501\n",
      "313/313 [==============================] - 1s 4ms/step - loss: 0.5343 - accuracy: 0.8266\n",
      "313/313 [==============================] - 1s 3ms/step - loss: 0.4406 - accuracy: 0.8523\n",
      "0.5342738628387451 0.4405827522277832\n",
      "313/313 [==============================] - 1s 3ms/step - loss: 0.5380 - accuracy: 0.8256\n",
      "313/313 [==============================] - 1s 3ms/step - loss: 0.3158 - accuracy: 0.8918\n",
      "0.5380129218101501 0.31577929854393005\n",
      "313/313 [==============================] - 1s 4ms/step - loss: 0.4406 - accuracy: 0.8523\n",
      "313/313 [==============================] - 1s 3ms/step - loss: 0.3325 - accuracy: 0.8867\n",
      "0.4405827522277832 0.3324909508228302\n",
      "313/313 [==============================] - 1s 3ms/step - loss: 0.3489 - accuracy: 0.8833\n",
      "313/313 [==============================] - 1s 3ms/step - loss: 0.5304 - accuracy: 0.8276\n",
      "0.3488624393939972 0.5304257869720459\n",
      "313/313 [==============================] - 1s 3ms/step - loss: 0.4366 - accuracy: 0.8567\n",
      "313/313 [==============================] - 1s 3ms/step - loss: 0.5339 - accuracy: 0.8260\n",
      "0.43659088015556335 0.5338674783706665\n",
      "313/313 [==============================] - 1s 3ms/step - loss: 0.5304 - accuracy: 0.8276\n",
      "313/313 [==============================] - 1s 3ms/step - loss: 0.4398 - accuracy: 0.8527\n",
      "0.5304257869720459 0.4398132264614105\n",
      "313/313 [==============================] - 1s 3ms/step - loss: 0.5339 - accuracy: 0.8260\n",
      "313/313 [==============================] - 1s 3ms/step - loss: 0.3156 - accuracy: 0.8919\n",
      "0.5338674783706665 0.31555038690567017\n",
      "313/313 [==============================] - 1s 3ms/step - loss: 0.4398 - accuracy: 0.8527\n",
      "313/313 [==============================] - 1s 3ms/step - loss: 0.3325 - accuracy: 0.8867\n",
      "0.4398132264614105 0.3324909508228302\n",
      "313/313 [==============================] - 1s 3ms/step - loss: 0.3489 - accuracy: 0.8833\n",
      "313/313 [==============================] - 1s 3ms/step - loss: 0.5268 - accuracy: 0.8282\n",
      "0.3488624393939972 0.5267500281333923\n",
      "313/313 [==============================] - 1s 3ms/step - loss: 0.4356 - accuracy: 0.8568\n",
      "313/313 [==============================] - 1s 3ms/step - loss: 0.5299 - accuracy: 0.8262\n",
      "0.43564027547836304 0.5299302339553833\n",
      "313/313 [==============================] - 1s 4ms/step - loss: 0.5268 - accuracy: 0.8282\n",
      "313/313 [==============================] - 1s 3ms/step - loss: 0.4390 - accuracy: 0.8526\n",
      "0.5267500281333923 0.439037948846817\n",
      "313/313 [==============================] - 1s 3ms/step - loss: 0.5299 - accuracy: 0.8262\n",
      "313/313 [==============================] - 1s 3ms/step - loss: 0.3153 - accuracy: 0.8919\n",
      "0.5299302339553833 0.31532275676727295\n",
      "313/313 [==============================] - 1s 3ms/step - loss: 0.4390 - accuracy: 0.8526\n",
      "313/313 [==============================] - 1s 3ms/step - loss: 0.3325 - accuracy: 0.8867\n",
      "0.439037948846817 0.3324909508228302\n",
      "313/313 [==============================] - 1s 3ms/step - loss: 0.3489 - accuracy: 0.8833\n",
      "313/313 [==============================] - 1s 3ms/step - loss: 0.5232 - accuracy: 0.8286\n",
      "0.3488624393939972 0.5232363939285278\n",
      "313/313 [==============================] - 1s 3ms/step - loss: 0.4347 - accuracy: 0.8564\n",
      "313/313 [==============================] - 1s 3ms/step - loss: 0.5262 - accuracy: 0.8263\n",
      "0.43468940258026123 0.5261861085891724\n",
      "313/313 [==============================] - 1s 3ms/step - loss: 0.5232 - accuracy: 0.8286\n",
      "313/313 [==============================] - 1s 3ms/step - loss: 0.4382 - accuracy: 0.8526\n",
      "0.5232363939285278 0.4382430613040924\n",
      "313/313 [==============================] - 1s 3ms/step - loss: 0.5262 - accuracy: 0.8263\n",
      "313/313 [==============================] - 1s 3ms/step - loss: 0.3151 - accuracy: 0.8919\n",
      "0.5261861085891724 0.3150988817214966\n",
      "313/313 [==============================] - 1s 3ms/step - loss: 0.4382 - accuracy: 0.8526\n",
      "313/313 [==============================] - 1s 3ms/step - loss: 0.3325 - accuracy: 0.8867\n",
      "0.4382430613040924 0.3324909508228302\n",
      "313/313 [==============================] - 1s 3ms/step - loss: 0.3489 - accuracy: 0.8833\n",
      "313/313 [==============================] - 1s 3ms/step - loss: 0.5199 - accuracy: 0.8292\n",
      "0.3488624393939972 0.5198796391487122\n",
      "313/313 [==============================] - 1s 3ms/step - loss: 0.4337 - accuracy: 0.8562\n",
      "313/313 [==============================] - 1s 3ms/step - loss: 0.5226 - accuracy: 0.8274\n",
      "0.43374666571617126 0.522621214389801\n",
      "313/313 [==============================] - 1s 4ms/step - loss: 0.5199 - accuracy: 0.8292\n",
      "313/313 [==============================] - 1s 3ms/step - loss: 0.4374 - accuracy: 0.8524\n",
      "0.5198796391487122 0.4374346137046814\n",
      "313/313 [==============================] - 1s 3ms/step - loss: 0.5226 - accuracy: 0.8274\n",
      "313/313 [==============================] - 1s 3ms/step - loss: 0.3149 - accuracy: 0.8921\n",
      "0.522621214389801 0.31487902998924255\n",
      "313/313 [==============================] - 1s 3ms/step - loss: 0.4374 - accuracy: 0.8524\n",
      "313/313 [==============================] - 1s 4ms/step - loss: 0.3325 - accuracy: 0.8867\n",
      "0.4374346137046814 0.3324909508228302\n",
      "313/313 [==============================] - 1s 4ms/step - loss: 0.3489 - accuracy: 0.8833\n",
      "313/313 [==============================] - 1s 5ms/step - loss: 0.5167 - accuracy: 0.8302\n",
      "0.3488624393939972 0.5166700482368469\n",
      "313/313 [==============================] - 1s 5ms/step - loss: 0.4328 - accuracy: 0.8557\n",
      "313/313 [==============================] - 1s 4ms/step - loss: 0.5192 - accuracy: 0.8282\n",
      "0.432814359664917 0.5192188620567322\n",
      "313/313 [==============================] - 1s 4ms/step - loss: 0.5167 - accuracy: 0.8302\n",
      "313/313 [==============================] - 1s 4ms/step - loss: 0.4366 - accuracy: 0.8522\n",
      "0.5166700482368469 0.4366214871406555\n",
      "313/313 [==============================] - 1s 4ms/step - loss: 0.5192 - accuracy: 0.8282\n",
      "313/313 [==============================] - 1s 3ms/step - loss: 0.3147 - accuracy: 0.8922\n",
      "0.5192188620567322 0.31466588377952576\n",
      "313/313 [==============================] - 1s 4ms/step - loss: 0.4366 - accuracy: 0.8522\n",
      "313/313 [==============================] - 1s 3ms/step - loss: 0.3325 - accuracy: 0.8867\n",
      "0.4366214871406555 0.3324909508228302\n",
      "313/313 [==============================] - 1s 3ms/step - loss: 0.3489 - accuracy: 0.8833\n",
      "313/313 [==============================] - 1s 4ms/step - loss: 0.5136 - accuracy: 0.8305\n",
      "0.3488624393939972 0.513594388961792\n",
      "313/313 [==============================] - 1s 4ms/step - loss: 0.4319 - accuracy: 0.8559\n",
      "313/313 [==============================] - 1s 4ms/step - loss: 0.5160 - accuracy: 0.8289\n",
      "0.4319041073322296 0.5159778594970703\n",
      "313/313 [==============================] - 1s 3ms/step - loss: 0.5136 - accuracy: 0.8305\n",
      "313/313 [==============================] - 1s 3ms/step - loss: 0.4358 - accuracy: 0.8520\n",
      "0.513594388961792 0.43580982089042664\n",
      "313/313 [==============================] - 1s 3ms/step - loss: 0.5160 - accuracy: 0.8289\n",
      "313/313 [==============================] - 1s 3ms/step - loss: 0.3145 - accuracy: 0.8922\n",
      "0.5159778594970703 0.31445345282554626\n",
      "313/313 [==============================] - 1s 3ms/step - loss: 0.4358 - accuracy: 0.8520\n",
      "313/313 [==============================] - 1s 3ms/step - loss: 0.3325 - accuracy: 0.8867\n",
      "0.43580982089042664 0.3324909508228302\n",
      "313/313 [==============================] - 1s 4ms/step - loss: 0.3489 - accuracy: 0.8833\n",
      "313/313 [==============================] - 1s 3ms/step - loss: 0.5106 - accuracy: 0.8308\n",
      "0.3488624393939972 0.510642945766449\n",
      "313/313 [==============================] - 1s 3ms/step - loss: 0.4310 - accuracy: 0.8561\n",
      "313/313 [==============================] - 1s 3ms/step - loss: 0.5129 - accuracy: 0.8294\n",
      "0.43100351095199585 0.5128850936889648\n",
      "313/313 [==============================] - 1s 4ms/step - loss: 0.5106 - accuracy: 0.8308\n",
      "313/313 [==============================] - 1s 3ms/step - loss: 0.4350 - accuracy: 0.8523\n",
      "0.510642945766449 0.43500763177871704\n",
      "313/313 [==============================] - 1s 3ms/step - loss: 0.5129 - accuracy: 0.8294\n",
      "313/313 [==============================] - 1s 3ms/step - loss: 0.3142 - accuracy: 0.8922\n",
      "0.5128850936889648 0.3142438232898712\n",
      "313/313 [==============================] - 1s 4ms/step - loss: 0.4350 - accuracy: 0.8523\n",
      "313/313 [==============================] - 1s 3ms/step - loss: 0.3325 - accuracy: 0.8867\n",
      "0.43500763177871704 0.3324909508228302\n",
      "313/313 [==============================] - 1s 3ms/step - loss: 0.3489 - accuracy: 0.8833\n",
      "313/313 [==============================] - 1s 3ms/step - loss: 0.5078 - accuracy: 0.8310\n",
      "0.3488624393939972 0.5078054666519165\n",
      "313/313 [==============================] - 1s 3ms/step - loss: 0.4301 - accuracy: 0.8559\n",
      "313/313 [==============================] - 1s 3ms/step - loss: 0.5099 - accuracy: 0.8300\n",
      "0.43012186884880066 0.5099326372146606\n",
      "313/313 [==============================] - 1s 4ms/step - loss: 0.5078 - accuracy: 0.8310\n",
      "313/313 [==============================] - 1s 3ms/step - loss: 0.4342 - accuracy: 0.8522\n",
      "0.5078054666519165 0.4342164099216461\n",
      "313/313 [==============================] - 1s 3ms/step - loss: 0.5099 - accuracy: 0.8300\n",
      "313/313 [==============================] - 1s 4ms/step - loss: 0.3140 - accuracy: 0.8922\n",
      "0.5099326372146606 0.31403881311416626\n",
      "313/313 [==============================] - 1s 4ms/step - loss: 0.4342 - accuracy: 0.8522\n",
      "313/313 [==============================] - 1s 3ms/step - loss: 0.3325 - accuracy: 0.8867\n",
      "0.4342164099216461 0.3324909508228302\n",
      "313/313 [==============================] - 1s 3ms/step - loss: 0.3489 - accuracy: 0.8833\n",
      "313/313 [==============================] - 1s 3ms/step - loss: 0.5051 - accuracy: 0.8314\n",
      "0.3488624393939972 0.5050845146179199\n",
      "313/313 [==============================] - 1s 3ms/step - loss: 0.4293 - accuracy: 0.8558\n",
      "313/313 [==============================] - 1s 3ms/step - loss: 0.5071 - accuracy: 0.8302\n",
      "0.42925992608070374 0.507111668586731\n",
      "313/313 [==============================] - 1s 3ms/step - loss: 0.5051 - accuracy: 0.8314\n",
      "313/313 [==============================] - 1s 3ms/step - loss: 0.4334 - accuracy: 0.8518\n",
      "0.5050845146179199 0.433430552482605\n",
      "313/313 [==============================] - 1s 3ms/step - loss: 0.5071 - accuracy: 0.8302\n",
      "313/313 [==============================] - 1s 3ms/step - loss: 0.3138 - accuracy: 0.8919\n",
      "0.507111668586731 0.3138373792171478\n",
      "313/313 [==============================] - 1s 3ms/step - loss: 0.4334 - accuracy: 0.8518\n",
      "313/313 [==============================] - 1s 3ms/step - loss: 0.3325 - accuracy: 0.8867\n",
      "0.433430552482605 0.3324909508228302\n",
      "313/313 [==============================] - 1s 3ms/step - loss: 0.3489 - accuracy: 0.8833\n",
      "313/313 [==============================] - 1s 3ms/step - loss: 0.5025 - accuracy: 0.8321\n",
      "0.3488624393939972 0.5024720430374146\n",
      "313/313 [==============================] - 1s 3ms/step - loss: 0.4284 - accuracy: 0.8559\n",
      "313/313 [==============================] - 1s 3ms/step - loss: 0.5044 - accuracy: 0.8302\n",
      "0.42841392755508423 0.5044073462486267\n",
      "313/313 [==============================] - 1s 3ms/step - loss: 0.5025 - accuracy: 0.8321\n",
      "313/313 [==============================] - 1s 3ms/step - loss: 0.4326 - accuracy: 0.8516\n",
      "0.5024720430374146 0.4326496124267578\n",
      "313/313 [==============================] - 1s 4ms/step - loss: 0.5044 - accuracy: 0.8302\n",
      "313/313 [==============================] - 1s 4ms/step - loss: 0.3136 - accuracy: 0.8919\n",
      "0.5044073462486267 0.313641220331192\n",
      "313/313 [==============================] - 1s 4ms/step - loss: 0.4326 - accuracy: 0.8516\n",
      "313/313 [==============================] - 1s 4ms/step - loss: 0.3325 - accuracy: 0.8867\n",
      "0.4326496124267578 0.3324909508228302\n",
      "313/313 [==============================] - 1s 2ms/step - loss: 0.3489 - accuracy: 0.8833\n",
      "313/313 [==============================] - 1s 3ms/step - loss: 0.5000 - accuracy: 0.8323\n",
      "0.3488624393939972 0.49995532631874084\n",
      "313/313 [==============================] - 1s 3ms/step - loss: 0.4276 - accuracy: 0.8562\n",
      "313/313 [==============================] - 1s 3ms/step - loss: 0.5018 - accuracy: 0.8307\n",
      "0.4275800883769989 0.5018084049224854\n",
      "313/313 [==============================] - 1s 2ms/step - loss: 0.5000 - accuracy: 0.8323\n",
      "313/313 [==============================] - 1s 3ms/step - loss: 0.4319 - accuracy: 0.8521\n",
      "0.49995532631874084 0.4318810999393463\n",
      "313/313 [==============================] - 1s 2ms/step - loss: 0.5018 - accuracy: 0.8307\n",
      "313/313 [==============================] - 1s 3ms/step - loss: 0.3134 - accuracy: 0.8918\n",
      "0.5018084049224854 0.31344762444496155\n",
      "313/313 [==============================] - 1s 3ms/step - loss: 0.4319 - accuracy: 0.8521\n",
      "313/313 [==============================] - 1s 3ms/step - loss: 0.3325 - accuracy: 0.8867\n",
      "0.4318810999393463 0.3324909508228302\n",
      "313/313 [==============================] - 1s 4ms/step - loss: 0.3489 - accuracy: 0.8833\n",
      "313/313 [==============================] - 2s 5ms/step - loss: 0.4975 - accuracy: 0.8323\n",
      "0.3488624393939972 0.49753090739250183\n",
      "313/313 [==============================] - 2s 6ms/step - loss: 0.4268 - accuracy: 0.8564\n",
      "313/313 [==============================] - 1s 3ms/step - loss: 0.4993 - accuracy: 0.8313\n",
      "0.42675936222076416 0.49932074546813965\n",
      "313/313 [==============================] - 1s 4ms/step - loss: 0.4975 - accuracy: 0.8323\n",
      "313/313 [==============================] - 1s 5ms/step - loss: 0.4311 - accuracy: 0.8525\n",
      "0.49753090739250183 0.43112489581108093\n",
      "313/313 [==============================] - 1s 4ms/step - loss: 0.4993 - accuracy: 0.8313\n",
      "313/313 [==============================] - 2s 6ms/step - loss: 0.3133 - accuracy: 0.8916\n",
      "0.49932074546813965 0.31325429677963257\n",
      "313/313 [==============================] - 2s 5ms/step - loss: 0.4311 - accuracy: 0.8525\n",
      "313/313 [==============================] - 1s 4ms/step - loss: 0.3325 - accuracy: 0.8867\n",
      "0.43112489581108093 0.3324909508228302\n",
      "313/313 [==============================] - 1s 3ms/step - loss: 0.3489 - accuracy: 0.8833\n",
      "313/313 [==============================] - 1s 3ms/step - loss: 0.4952 - accuracy: 0.8327\n",
      "0.3488624393939972 0.4951910078525543\n",
      "313/313 [==============================] - 1s 4ms/step - loss: 0.4260 - accuracy: 0.8569\n",
      "313/313 [==============================] - 1s 3ms/step - loss: 0.4969 - accuracy: 0.8312\n",
      "0.4259568750858307 0.496936172246933\n",
      "313/313 [==============================] - 1s 4ms/step - loss: 0.4952 - accuracy: 0.8327\n",
      "313/313 [==============================] - 1s 4ms/step - loss: 0.4304 - accuracy: 0.8528\n",
      "0.4951910078525543 0.4303761124610901\n",
      "313/313 [==============================] - 1s 3ms/step - loss: 0.4969 - accuracy: 0.8312\n",
      "313/313 [==============================] - 1s 3ms/step - loss: 0.3131 - accuracy: 0.8918\n",
      "0.496936172246933 0.31306567788124084\n",
      "313/313 [==============================] - 1s 3ms/step - loss: 0.4304 - accuracy: 0.8528\n",
      "313/313 [==============================] - 1s 3ms/step - loss: 0.3325 - accuracy: 0.8867\n",
      "0.4303761124610901 0.3324909508228302\n",
      "313/313 [==============================] - 1s 3ms/step - loss: 0.3489 - accuracy: 0.8833\n",
      "313/313 [==============================] - 1s 3ms/step - loss: 0.4252 - accuracy: 0.8568\n",
      "313/313 [==============================] - 1s 3ms/step - loss: 0.4929 - accuracy: 0.8328\n",
      "313/313 [==============================] - 1s 3ms/step - loss: 0.4946 - accuracy: 0.8311\n",
      "313/313 [==============================] - 1s 3ms/step - loss: 0.4296 - accuracy: 0.8530\n",
      "313/313 [==============================] - 1s 3ms/step - loss: 0.3129 - accuracy: 0.8918\n",
      "313/313 [==============================] - 1s 3ms/step - loss: 0.3325 - accuracy: 0.8867\n"
     ]
    }
   ],
   "source": [
    "w0 = load_model('eachModel4/CheckPoint-10.hdf5')\n",
    "firstWeight = w0.get_weights()\n",
    "# w0.fit(train_images, train_labels, epochs=1, validation_data=(test_images, test_labels), verbose=2)\n",
    "\n",
    "wT = load_model('eachModel5/CheckPoint-10.hdf5')\n",
    "lastWeight = wT.get_weights()\n",
    "# wT.fit(train_images, train_labels, epochs=1, validation_data=(test_images, test_labels), verbose=2)\n",
    "\n",
    "tümNoktalarim = []\n",
    "for i in range(6):\n",
    "    tümNoktalarim.append([before + (after - before) * i / 5 for before, after in zip(firstWeight, lastWeight)])\n",
    "tümNoktalarim.append(lastWeight)\n",
    "\n",
    "ilkdogrunoktalari45 = tümNoktalarim.copy()\n",
    "\n",
    "dogruUzerindekiIlkkLoss = []\n",
    "for i, weights in enumerate(tümNoktalarim):\n",
    "    model.set_weights(weights)\n",
    "    print(f'Interpolated weights {i}:')\n",
    "    loss,accuracy=model.evaluate(test_images, test_labels)\n",
    "    dogruUzerindekiIlkkLoss.append(loss)\n",
    "\n",
    "# İterasyon başlangıç\n",
    "for T in range(50):\n",
    "    def step(X, y,i):\n",
    "        # keep track of our gradients\n",
    "        with tf.GradientTape() as tape:\n",
    "            # make a prediction using the model and then calculate the\n",
    "            # loss\n",
    "            model.set_weights(tümNoktalarim[i])\n",
    "            pred = model(X)\n",
    "\n",
    "            y_tran = to_categorical(y,10)\n",
    "\n",
    "\n",
    "            # listem2 = []\n",
    "            # for i in range(60000):\n",
    "            #     listem2.append(1)\n",
    "            #     for j in range(9):\n",
    "            #         listem2.append(0)\n",
    "\n",
    "            # listem2 = np.array(listem2)\n",
    "            # listem2 = np.reshape(listem2,(60000,10))\n",
    "            # listem2 = listem2\n",
    "\n",
    "\n",
    "\n",
    "            # listem = []\n",
    "            # for i in range(60000):\n",
    "            #     for j in range(10):\n",
    "            #         listem.append(y[i])\n",
    "\n",
    "            # listem = np.array(listem)\n",
    "            # listem = listem/9\n",
    "            # listem = np.reshape(listem,(60000,10))\n",
    "            # tensor1 = tf.convert_to_tensor(listem)\n",
    "\n",
    "            # print(\"y : \\n\",y.shape)\n",
    "            # print(\"pred : \\n\",pred.shape)\n",
    "            tensor1 = tf.convert_to_tensor(y_tran)\n",
    "            # print(\"tensor1 : \\n\",tensor1.shape)\n",
    "            tensor2 = tf.reshape(tensor1,[60000,10])\n",
    "            # print(\"tensor2 : \\n\",tensor2.shape)\n",
    "            loss = categorical_crossentropy(tensor2, pred)\n",
    "        # calculate the gradients using our tape and then update the\n",
    "        # model weights\n",
    "        grads = tape.gradient(loss, model.trainable_variables)\n",
    "        return grads\n",
    "\n",
    "\n",
    "    grads = []\n",
    "    for i in range(1,6,1):\n",
    "        grads.append(step(train_images,train_labels,i))\n",
    "\n",
    "\n",
    "    # Tan değerlerinin hesaplanması\n",
    "    tanvalue = []\n",
    "    for i in range(1,6,1):\n",
    "        model.set_weights(tümNoktalarim[i-1])\n",
    "        dotResult1 = model.evaluate(test_images, test_labels)[0]\n",
    "\n",
    "        model.set_weights(tümNoktalarim[i+1])\n",
    "        dotResult2 = model.evaluate(test_images, test_labels)[0]\n",
    "\n",
    "        print(dotResult1,dotResult2)\n",
    "\n",
    "        if (dotResult2 > dotResult1):\n",
    "            tanvalue.append((np.array(tümNoktalarim[i+1]) - np.array(tümNoktalarim[i])))\n",
    "        else:\n",
    "            tanvalue.append((np.array(tümNoktalarim[i]) - np.array(tümNoktalarim[i-1])))\n",
    "\n",
    "    gradList = []\n",
    "    for i in range(5):\n",
    "        first = np.array(grads[i][0])\n",
    "        grad1 = [first[0:60000,:],np.array(grads[i][1]),np.array(grads[i][2]),np.array(grads[i][3]),np.array(grads[i][4]),np.array(grads[i][5])]\n",
    "        grad1 = np.array(grad1)\n",
    "        gradList.append(grad1)\n",
    "\n",
    "    esasGradList = gradList.copy()\n",
    "    gradList = np.array(gradList)\n",
    "\n",
    "\n",
    "    for i in range(5):\n",
    "        gradList[i][0] = gradList[i][0].flatten()\n",
    "        gradList[i][1] = gradList[i][1].flatten()\n",
    "        gradList[i][2] = gradList[i][2].flatten()\n",
    "        gradList[i][3] = gradList[i][3].flatten()\n",
    "        gradList[i][4] = gradList[i][4].flatten()\n",
    "        gradList[i][5] = gradList[i][5].flatten()\n",
    "\n",
    "\n",
    "    tanlistem = []\n",
    "    for i in range(5):\n",
    "        tanget = [tanvalue[i][0],tanvalue[i][1],tanvalue[i][2],tanvalue[i][3],tanvalue[i][4],tanvalue[i][5]]\n",
    "        tanget = np.array(tanget)\n",
    "        tanlistem.append(tanget)\n",
    "\n",
    "    esasTanList = tanlistem.copy()\n",
    "    tanlistem = np.array(tanlistem)\n",
    "\n",
    "    for i in range(5):\n",
    "        tanlistem[i][0] = tanlistem[i][0].flatten()\n",
    "        tanlistem[i][1] = tanlistem[i][1].flatten()\n",
    "        tanlistem[i][2] = tanlistem[i][2].flatten()\n",
    "        tanlistem[i][3] = tanlistem[i][3].flatten()\n",
    "        tanlistem[i][4] = tanlistem[i][4].flatten()\n",
    "        tanlistem[i][5] = tanlistem[i][5].flatten()\n",
    "\n",
    "    dotsonuc = []\n",
    "    for i in range(5):\n",
    "        denemesonuc1 = np.dot(tanlistem[i][0],gradList[i][0])\n",
    "        denemesonuc2 = np.dot(tanlistem[i][1],gradList[i][1])\n",
    "        denemesonuc3 = np.dot(tanlistem[i][2],gradList[i][2])\n",
    "        denemesonuc4 = np.dot(tanlistem[i][3],gradList[i][3])\n",
    "        denemesonuc5 = np.dot(tanlistem[i][4],gradList[i][4])\n",
    "        denemesonuc6 = np.dot(tanlistem[i][5],gradList[i][5])\n",
    "        sonuc1 = denemesonuc1+denemesonuc2+denemesonuc3+denemesonuc4+denemesonuc5+denemesonuc6\n",
    "        dotsonuc.append(sonuc1)\n",
    "\n",
    "    learningrate = 0.000001\n",
    "    güncelNoktlar = []\n",
    "    for i in range(5):\n",
    "        rightresult = dotsonuc[i]*esasTanList[i]\n",
    "        ilkdeğer = esasGradList[i]-rightresult\n",
    "        ilkgünceldeger = tümNoktalarim[i+1] - (learningrate*ilkdeğer)\n",
    "        güncelNoktlar.append(ilkgünceldeger)\n",
    "\n",
    "    # Bulunan noktaların güncellenmesi\n",
    "    for i in range(5):\n",
    "        tümNoktalarim[i+1] = güncelNoktlar[i]\n",
    "\n",
    "\n",
    "dogruUzerindekiSonkLoss = []\n",
    "for i in range(0,7,1):\n",
    "    model.set_weights(tümNoktalarim[i])\n",
    "    dogruResult = model.evaluate(test_images, test_labels)[0]\n",
    "    dogruUzerindekiSonkLoss.append(dogruResult)"
   ]
  },
  {
   "cell_type": "code",
   "execution_count": 390,
   "metadata": {},
   "outputs": [
    {
     "name": "stderr",
     "output_type": "stream",
     "text": [
      "No artists with labels found to put in legend.  Note that artists whose label start with an underscore are ignored when legend() is called with no argument.\n"
     ]
    },
    {
     "data": {
      "image/png": "[encoded data removed]",
      "text/plain": [
       "<Figure size 432x288 with 1 Axes>"
      ]
     },
     "metadata": {
      "needs_background": "light"
     },
     "output_type": "display_data"
    }
   ],
   "source": [
    "plt.plot(np.arange(0,7),dogruUzerindekiIlkkLoss)\n",
    "plt.title('4. ve 5. son nokta arasıda çizilen doğru üzerindeki loss değerleri')\n",
    "plt.ylabel('Loss')\n",
    "plt.xlabel('Noktalar')\n",
    "plt.legend(loc=\"upper left\")\n",
    "plt.show()"
   ]
  },
  {
   "cell_type": "code",
   "execution_count": 391,
   "metadata": {},
   "outputs": [
    {
     "name": "stderr",
     "output_type": "stream",
     "text": [
      "No artists with labels found to put in legend.  Note that artists whose label start with an underscore are ignored when legend() is called with no argument.\n"
     ]
    },
    {
     "data": {
      "image/png": "[encoded data removed]",
      "text/plain": [
       "<Figure size 432x288 with 1 Axes>"
      ]
     },
     "metadata": {
      "needs_background": "light"
     },
     "output_type": "display_data"
    }
   ],
   "source": [
    "plt.plot(np.arange(0,7),dogruUzerindekiSonkLoss)\n",
    "plt.title('4. ve 5. son nokta arasıda bulunan yeni yol')\n",
    "plt.ylabel('Loss')\n",
    "plt.xlabel('Noktalar')\n",
    "plt.legend(loc=\"upper left\")\n",
    "plt.show()"
   ]
  },
  {
   "cell_type": "code",
   "execution_count": 392,
   "metadata": {},
   "outputs": [
    {
     "data": {
      "application/vnd.plotly.v1+json": {
       "config": {
        "plotlyServerURL": "https://plot.ly"
       },
       "data": [
        {
         "hovertemplate": "0=%{x}<br>1=%{y}<extra></extra>",
         "legendgroup": "",
         "marker": {
          "color": "#636efa",
          "symbol": "circle"
         },
         "mode": "markers",
         "name": "",
         "orientation": "v",
         "showlegend": false,
         "type": "scatter",
         "x": [
          -10.506975173950195,
          -11.560785293579102,
          -12.457586288452148,
          -13.22314453125,
          -13.918791770935059,
          -14.624602317810059,
          -15.109752655029297,
          -15.679095268249512,
          -16.1363468170166,
          -16.61915397644043,
          -10.304152488708496,
          -11.492076873779297,
          -12.452779769897461,
          -13.313420295715332,
          -13.965237617492676,
          -14.669267654418945,
          -15.238100051879883,
          -15.777624130249023,
          -16.299156188964844,
          -16.763891220092773,
          -10.728231430053711,
          -11.974803924560547,
          -13.085267066955566,
          -14.08380126953125,
          -14.925612449645996,
          -15.641414642333984,
          -16.424036026000977,
          -16.917226791381836,
          -17.431987762451172,
          -17.88860511779785,
          -9.301626205444336,
          -10.132471084594727,
          -10.760775566101074,
          -11.31824016571045,
          -11.797346115112305,
          -12.143200874328613,
          -12.460403442382812,
          -12.828624725341797,
          -13.197864532470703,
          -13.40905475616455,
          10.430233001708984,
          15.695112228393555,
          20.23674964904785,
          24.415380477905273,
          28.146530151367188,
          31.560319900512695,
          34.69491195678711,
          37.53472900390625,
          40.26285934448242,
          42.795780181884766,
          -13.40905475616455,
          -2.1680877208709717,
          9.07287883758545,
          20.313846588134766,
          31.554821014404297,
          42.795780181884766,
          42.795780181884766,
          -13.40905475616455,
          5.610476016998291,
          12.909180641174316,
          16.688859939575195,
          23.86884117126465,
          41.36982727050781,
          42.795780181884766
         ],
         "xaxis": "x",
         "y": [
          -8.886956214904785,
          -9.986483573913574,
          -10.838716506958008,
          -11.71703815460205,
          -12.372145652770996,
          -12.970592498779297,
          -13.605278015136719,
          -14.120712280273438,
          -14.54084587097168,
          -14.946741104125977,
          -9.720566749572754,
          -10.881390571594238,
          -11.907614707946777,
          -12.750768661499023,
          -13.543864250183105,
          -14.251935005187988,
          -14.933100700378418,
          -15.504465103149414,
          -15.98579216003418,
          -16.401880264282227,
          -10.644635200500488,
          -12.224933624267578,
          -13.609683990478516,
          -14.817140579223633,
          -15.874043464660645,
          -16.7841854095459,
          -17.713640213012695,
          -18.504594802856445,
          -19.18935775756836,
          -19.760969161987305,
          11.191696166992188,
          16.267915725708008,
          20.71949577331543,
          24.663557052612305,
          28.160037994384766,
          31.473663330078125,
          34.36055374145508,
          37.058815002441406,
          39.4490966796875,
          41.75922393798828,
          -6.1103434562683105,
          -6.300215721130371,
          -6.450398921966553,
          -6.570977687835693,
          -6.573176860809326,
          -6.718462944030762,
          -6.712501049041748,
          -6.682353973388672,
          -6.607964038848877,
          -6.59263277053833,
          41.75922393798828,
          32.08885955810547,
          22.418487548828125,
          12.748115539550781,
          3.077744483947754,
          -6.59263277053833,
          -6.59263277053833,
          41.75922393798828,
          25.483274459838867,
          19.24088478088379,
          15.989738464355469,
          9.773965835571289,
          -5.3565592765808105,
          -6.59263277053833
         ],
         "yaxis": "y"
        }
       ],
       "layout": {
        "legend": {
         "tracegroupgap": 0
        },
        "margin": {
         "t": 60
        },
        "template": {
         "data": {
          "bar": [
           {
            "error_x": {
             "color": "#2a3f5f"
            },
            "error_y": {
             "color": "#2a3f5f"
            },
            "marker": {
             "line": {
              "color": "#E5ECF6",
              "width": 0.5
             },
             "pattern": {
              "fillmode": "overlay",
              "size": 10,
              "solidity": 0.2
             }
            },
            "type": "bar"
           }
          ],
          "barpolar": [
           {
            "marker": {
             "line": {
              "color": "#E5ECF6",
              "width": 0.5
             },
             "pattern": {
              "fillmode": "overlay",
              "size": 10,
              "solidity": 0.2
             }
            },
            "type": "barpolar"
           }
          ],
          "carpet": [
           {
            "aaxis": {
             "endlinecolor": "#2a3f5f",
             "gridcolor": "white",
             "linecolor": "white",
             "minorgridcolor": "white",
             "startlinecolor": "#2a3f5f"
            },
            "baxis": {
             "endlinecolor": "#2a3f5f",
             "gridcolor": "white",
             "linecolor": "white",
             "minorgridcolor": "white",
             "startlinecolor": "#2a3f5f"
            },
            "type": "carpet"
           }
          ],
          "choropleth": [
           {
            "colorbar": {
             "outlinewidth": 0,
             "ticks": ""
            },
            "type": "choropleth"
           }
          ],
          "contour": [
           {
            "colorbar": {
             "outlinewidth": 0,
             "ticks": ""
            },
            "colorscale": [
             [
              0,
              "#0d0887"
             ],
             [
              0.1111111111111111,
              "#46039f"
             ],
             [
              0.2222222222222222,
              "#7201a8"
             ],
             [
              0.3333333333333333,
              "#9c179e"
             ],
             [
              0.4444444444444444,
              "#bd3786"
             ],
             [
              0.5555555555555556,
              "#d8576b"
             ],
             [
              0.6666666666666666,
              "#ed7953"
             ],
             [
              0.7777777777777778,
              "#fb9f3a"
             ],
             [
              0.8888888888888888,
              "#fdca26"
             ],
             [
              1,
              "#f0f921"
             ]
            ],
            "type": "contour"
           }
          ],
          "contourcarpet": [
           {
            "colorbar": {
             "outlinewidth": 0,
             "ticks": ""
            },
            "type": "contourcarpet"
           }
          ],
          "heatmap": [
           {
            "colorbar": {
             "outlinewidth": 0,
             "ticks": ""
            },
            "colorscale": [
             [
              0,
              "#0d0887"
             ],
             [
              0.1111111111111111,
              "#46039f"
             ],
             [
              0.2222222222222222,
              "#7201a8"
             ],
             [
              0.3333333333333333,
              "#9c179e"
             ],
             [
              0.4444444444444444,
              "#bd3786"
             ],
             [
              0.5555555555555556,
              "#d8576b"
             ],
             [
              0.6666666666666666,
              "#ed7953"
             ],
             [
              0.7777777777777778,
              "#fb9f3a"
             ],
             [
              0.8888888888888888,
              "#fdca26"
             ],
             [
              1,
              "#f0f921"
             ]
            ],
            "type": "heatmap"
           }
          ],
          "heatmapgl": [
           {
            "colorbar": {
             "outlinewidth": 0,
             "ticks": ""
            },
            "colorscale": [
             [
              0,
              "#0d0887"
             ],
             [
              0.1111111111111111,
              "#46039f"
             ],
             [
              0.2222222222222222,
              "#7201a8"
             ],
             [
              0.3333333333333333,
              "#9c179e"
             ],
             [
              0.4444444444444444,
              "#bd3786"
             ],
             [
              0.5555555555555556,
              "#d8576b"
             ],
             [
              0.6666666666666666,
              "#ed7953"
             ],
             [
              0.7777777777777778,
              "#fb9f3a"
             ],
             [
              0.8888888888888888,
              "#fdca26"
             ],
             [
              1,
              "#f0f921"
             ]
            ],
            "type": "heatmapgl"
           }
          ],
          "histogram": [
           {
            "marker": {
             "pattern": {
              "fillmode": "overlay",
              "size": 10,
              "solidity": 0.2
             }
            },
            "type": "histogram"
           }
          ],
          "histogram2d": [
           {
            "colorbar": {
             "outlinewidth": 0,
             "ticks": ""
            },
            "colorscale": [
             [
              0,
              "#0d0887"
             ],
             [
              0.1111111111111111,
              "#46039f"
             ],
             [
              0.2222222222222222,
              "#7201a8"
             ],
             [
              0.3333333333333333,
              "#9c179e"
             ],
             [
              0.4444444444444444,
              "#bd3786"
             ],
             [
              0.5555555555555556,
              "#d8576b"
             ],
             [
              0.6666666666666666,
              "#ed7953"
             ],
             [
              0.7777777777777778,
              "#fb9f3a"
             ],
             [
              0.8888888888888888,
              "#fdca26"
             ],
             [
              1,
              "#f0f921"
             ]
            ],
            "type": "histogram2d"
           }
          ],
          "histogram2dcontour": [
           {
            "colorbar": {
             "outlinewidth": 0,
             "ticks": ""
            },
            "colorscale": [
             [
              0,
              "#0d0887"
             ],
             [
              0.1111111111111111,
              "#46039f"
             ],
             [
              0.2222222222222222,
              "#7201a8"
             ],
             [
              0.3333333333333333,
              "#9c179e"
             ],
             [
              0.4444444444444444,
              "#bd3786"
             ],
             [
              0.5555555555555556,
              "#d8576b"
             ],
             [
              0.6666666666666666,
              "#ed7953"
             ],
             [
              0.7777777777777778,
              "#fb9f3a"
             ],
             [
              0.8888888888888888,
              "#fdca26"
             ],
             [
              1,
              "#f0f921"
             ]
            ],
            "type": "histogram2dcontour"
           }
          ],
          "mesh3d": [
           {
            "colorbar": {
             "outlinewidth": 0,
             "ticks": ""
            },
            "type": "mesh3d"
           }
          ],
          "parcoords": [
           {
            "line": {
             "colorbar": {
              "outlinewidth": 0,
              "ticks": ""
             }
            },
            "type": "parcoords"
           }
          ],
          "pie": [
           {
            "automargin": true,
            "type": "pie"
           }
          ],
          "scatter": [
           {
            "fillpattern": {
             "fillmode": "overlay",
             "size": 10,
             "solidity": 0.2
            },
            "type": "scatter"
           }
          ],
          "scatter3d": [
           {
            "line": {
             "colorbar": {
              "outlinewidth": 0,
              "ticks": ""
             }
            },
            "marker": {
             "colorbar": {
              "outlinewidth": 0,
              "ticks": ""
             }
            },
            "type": "scatter3d"
           }
          ],
          "scattercarpet": [
           {
            "marker": {
             "colorbar": {
              "outlinewidth": 0,
              "ticks": ""
             }
            },
            "type": "scattercarpet"
           }
          ],
          "scattergeo": [
           {
            "marker": {
             "colorbar": {
              "outlinewidth": 0,
              "ticks": ""
             }
            },
            "type": "scattergeo"
           }
          ],
          "scattergl": [
           {
            "marker": {
             "colorbar": {
              "outlinewidth": 0,
              "ticks": ""
             }
            },
            "type": "scattergl"
           }
          ],
          "scattermapbox": [
           {
            "marker": {
             "colorbar": {
              "outlinewidth": 0,
              "ticks": ""
             }
            },
            "type": "scattermapbox"
           }
          ],
          "scatterpolar": [
           {
            "marker": {
             "colorbar": {
              "outlinewidth": 0,
              "ticks": ""
             }
            },
            "type": "scatterpolar"
           }
          ],
          "scatterpolargl": [
           {
            "marker": {
             "colorbar": {
              "outlinewidth": 0,
              "ticks": ""
             }
            },
            "type": "scatterpolargl"
           }
          ],
          "scatterternary": [
           {
            "marker": {
             "colorbar": {
              "outlinewidth": 0,
              "ticks": ""
             }
            },
            "type": "scatterternary"
           }
          ],
          "surface": [
           {
            "colorbar": {
             "outlinewidth": 0,
             "ticks": ""
            },
            "colorscale": [
             [
              0,
              "#0d0887"
             ],
             [
              0.1111111111111111,
              "#46039f"
             ],
             [
              0.2222222222222222,
              "#7201a8"
             ],
             [
              0.3333333333333333,
              "#9c179e"
             ],
             [
              0.4444444444444444,
              "#bd3786"
             ],
             [
              0.5555555555555556,
              "#d8576b"
             ],
             [
              0.6666666666666666,
              "#ed7953"
             ],
             [
              0.7777777777777778,
              "#fb9f3a"
             ],
             [
              0.8888888888888888,
              "#fdca26"
             ],
             [
              1,
              "#f0f921"
             ]
            ],
            "type": "surface"
           }
          ],
          "table": [
           {
            "cells": {
             "fill": {
              "color": "#EBF0F8"
             },
             "line": {
              "color": "white"
             }
            },
            "header": {
             "fill": {
              "color": "#C8D4E3"
             },
             "line": {
              "color": "white"
             }
            },
            "type": "table"
           }
          ]
         },
         "layout": {
          "annotationdefaults": {
           "arrowcolor": "#2a3f5f",
           "arrowhead": 0,
           "arrowwidth": 1
          },
          "autotypenumbers": "strict",
          "coloraxis": {
           "colorbar": {
            "outlinewidth": 0,
            "ticks": ""
           }
          },
          "colorscale": {
           "diverging": [
            [
             0,
             "#8e0152"
            ],
            [
             0.1,
             "#c51b7d"
            ],
            [
             0.2,
             "#de77ae"
            ],
            [
             0.3,
             "#f1b6da"
            ],
            [
             0.4,
             "#fde0ef"
            ],
            [
             0.5,
             "#f7f7f7"
            ],
            [
             0.6,
             "#e6f5d0"
            ],
            [
             0.7,
             "#b8e186"
            ],
            [
             0.8,
             "#7fbc41"
            ],
            [
             0.9,
             "#4d9221"
            ],
            [
             1,
             "#276419"
            ]
           ],
           "sequential": [
            [
             0,
             "#0d0887"
            ],
            [
             0.1111111111111111,
             "#46039f"
            ],
            [
             0.2222222222222222,
             "#7201a8"
            ],
            [
             0.3333333333333333,
             "#9c179e"
            ],
            [
             0.4444444444444444,
             "#bd3786"
            ],
            [
             0.5555555555555556,
             "#d8576b"
            ],
            [
             0.6666666666666666,
             "#ed7953"
            ],
            [
             0.7777777777777778,
             "#fb9f3a"
            ],
            [
             0.8888888888888888,
             "#fdca26"
            ],
            [
             1,
             "#f0f921"
            ]
           ],
           "sequentialminus": [
            [
             0,
             "#0d0887"
            ],
            [
             0.1111111111111111,
             "#46039f"
            ],
            [
             0.2222222222222222,
             "#7201a8"
            ],
            [
             0.3333333333333333,
             "#9c179e"
            ],
            [
             0.4444444444444444,
             "#bd3786"
            ],
            [
             0.5555555555555556,
             "#d8576b"
            ],
            [
             0.6666666666666666,
             "#ed7953"
            ],
            [
             0.7777777777777778,
             "#fb9f3a"
            ],
            [
             0.8888888888888888,
             "#fdca26"
            ],
            [
             1,
             "#f0f921"
            ]
           ]
          },
          "colorway": [
           "#636efa",
           "#EF553B",
           "#00cc96",
           "#ab63fa",
           "#FFA15A",
           "#19d3f3",
           "#FF6692",
           "#B6E880",
           "#FF97FF",
           "#FECB52"
          ],
          "font": {
           "color": "#2a3f5f"
          },
          "geo": {
           "bgcolor": "white",
           "lakecolor": "white",
           "landcolor": "#E5ECF6",
           "showlakes": true,
           "showland": true,
           "subunitcolor": "white"
          },
          "hoverlabel": {
           "align": "left"
          },
          "hovermode": "closest",
          "mapbox": {
           "style": "light"
          },
          "paper_bgcolor": "white",
          "plot_bgcolor": "#E5ECF6",
          "polar": {
           "angularaxis": {
            "gridcolor": "white",
            "linecolor": "white",
            "ticks": ""
           },
           "bgcolor": "#E5ECF6",
           "radialaxis": {
            "gridcolor": "white",
            "linecolor": "white",
            "ticks": ""
           }
          },
          "scene": {
           "xaxis": {
            "backgroundcolor": "#E5ECF6",
            "gridcolor": "white",
            "gridwidth": 2,
            "linecolor": "white",
            "showbackground": true,
            "ticks": "",
            "zerolinecolor": "white"
           },
           "yaxis": {
            "backgroundcolor": "#E5ECF6",
            "gridcolor": "white",
            "gridwidth": 2,
            "linecolor": "white",
            "showbackground": true,
            "ticks": "",
            "zerolinecolor": "white"
           },
           "zaxis": {
            "backgroundcolor": "#E5ECF6",
            "gridcolor": "white",
            "gridwidth": 2,
            "linecolor": "white",
            "showbackground": true,
            "ticks": "",
            "zerolinecolor": "white"
           }
          },
          "shapedefaults": {
           "line": {
            "color": "#2a3f5f"
           }
          },
          "ternary": {
           "aaxis": {
            "gridcolor": "white",
            "linecolor": "white",
            "ticks": ""
           },
           "baxis": {
            "gridcolor": "white",
            "linecolor": "white",
            "ticks": ""
           },
           "bgcolor": "#E5ECF6",
           "caxis": {
            "gridcolor": "white",
            "linecolor": "white",
            "ticks": ""
           }
          },
          "title": {
           "x": 0.05
          },
          "xaxis": {
           "automargin": true,
           "gridcolor": "white",
           "linecolor": "white",
           "ticks": "",
           "title": {
            "standoff": 15
           },
           "zerolinecolor": "white",
           "zerolinewidth": 2
          },
          "yaxis": {
           "automargin": true,
           "gridcolor": "white",
           "linecolor": "white",
           "ticks": "",
           "title": {
            "standoff": 15
           },
           "zerolinecolor": "white",
           "zerolinewidth": 2
          }
         }
        },
        "xaxis": {
         "anchor": "y",
         "domain": [
          0,
          1
         ],
         "title": {
          "text": "0"
         }
        },
        "yaxis": {
         "anchor": "x",
         "domain": [
          0,
          1
         ],
         "title": {
          "text": "1"
         }
        }
       }
      }
     },
     "metadata": {},
     "output_type": "display_data"
    }
   ],
   "source": [
    "ilknoktalar45 = ilkdogrunoktalari45.copy()\n",
    "\n",
    "for i in range(7):\n",
    "    ilknoktalar45[i][0] = ilknoktalar45[i][0].flatten()\n",
    "    ilknoktalar45[i][1] = ilknoktalar45[i][1].flatten()\n",
    "    ilknoktalar45[i][2] = ilknoktalar45[i][2].flatten()\n",
    "    ilknoktalar45[i][3] = ilknoktalar45[i][3].flatten()\n",
    "    ilknoktalar45[i][4] = ilknoktalar45[i][4].flatten()\n",
    "\n",
    "Xaralist45= []\n",
    "for i in range(7):\n",
    "    Xaralist45.append(np.hstack((ilknoktalar45[i][0],ilknoktalar45[i][1],ilknoktalar45[i][2],ilknoktalar45[i][3],ilknoktalar45[i][4])))\n",
    "\n",
    "\n",
    "\n",
    "sonnoktalar45 = tümNoktalarim.copy()\n",
    "\n",
    "for i in range(7):\n",
    "    sonnoktalar45[i][0] = sonnoktalar45[i][0].flatten()\n",
    "    sonnoktalar45[i][1] = sonnoktalar45[i][1].flatten()\n",
    "    sonnoktalar45[i][2] = sonnoktalar45[i][2].flatten()\n",
    "    sonnoktalar45[i][3] = sonnoktalar45[i][3].flatten()\n",
    "    sonnoktalar45[i][4] = sonnoktalar45[i][4].flatten()\n",
    "\n",
    "Xsonaralist45= []\n",
    "for i in range(7):\n",
    "    Xsonaralist45.append(np.hstack((sonnoktalar45[i][0],sonnoktalar45[i][1],sonnoktalar45[i][2],sonnoktalar45[i][3],sonnoktalar45[i][4])))\n",
    "\n",
    "\n",
    "\n",
    "\n",
    "Xaralist45 = np.array(Xaralist45)\n",
    "Xsonaralist45 = np.array(Xsonaralist45)\n",
    "alldizi = np.vstack((Xlist,Xaralist45,Xsonaralist45))\n",
    "\n",
    "X = alldizi\n",
    "\n",
    "pca = PCA(n_components=2)\n",
    "components = pca.fit_transform(X)\n",
    "\n",
    "fig = px.scatter(components, x=0, y=1)\n",
    "fig.show()"
   ]
  },
  {
   "cell_type": "code",
   "execution_count": 402,
   "metadata": {},
   "outputs": [
    {
     "data": {
      "application/vnd.plotly.v1+json": {
       "config": {
        "plotlyServerURL": "https://plot.ly"
       },
       "data": [
        {
         "hovertemplate": "PC 1=%{x}<br>PC 2=%{y}<br>PC 3=%{z}<extra></extra>",
         "legendgroup": "",
         "marker": {
          "color": "#636efa",
          "symbol": "circle"
         },
         "mode": "markers",
         "name": "",
         "scene": "scene",
         "showlegend": false,
         "type": "scatter3d",
         "x": [
          -10.506970405578613,
          -11.56078052520752,
          -12.457575798034668,
          -13.22313117980957,
          -13.918792724609375,
          -14.624590873718262,
          -15.109729766845703,
          -15.67908763885498,
          -16.136329650878906,
          -16.619140625,
          -10.304140090942383,
          -11.492067337036133,
          -12.452771186828613,
          -13.3134126663208,
          -13.965241432189941,
          -14.669265747070312,
          -15.238096237182617,
          -15.777618408203125,
          -16.299148559570312,
          -16.763885498046875,
          -10.728218078613281,
          -11.974790573120117,
          -13.085253715515137,
          -14.083784103393555,
          -14.925576210021973,
          -15.641388893127441,
          -16.42401123046875,
          -16.917198181152344,
          -17.43195915222168,
          -17.888578414916992,
          -9.301629066467285,
          -10.132471084594727,
          -10.760781288146973,
          -11.318249702453613,
          -11.79734992980957,
          -12.143214225769043,
          -12.460407257080078,
          -12.828633308410645,
          -13.197871208190918,
          -13.40906047821045,
          10.430231094360352,
          15.695099830627441,
          20.236745834350586,
          24.41538429260254,
          28.14652442932129,
          31.560264587402344,
          34.694923400878906,
          37.53472137451172,
          40.26286315917969,
          42.79573440551758,
          -13.40906047821045,
          -2.1680991649627686,
          9.07286548614502,
          20.313833236694336,
          31.554798126220703,
          42.79573440551758,
          42.79573440551758,
          -13.40906047821045,
          5.610464572906494,
          12.909173011779785,
          16.688859939575195,
          23.86882972717285,
          41.369789123535156,
          42.79573440551758
         ],
         "y": [
          -8.886981010437012,
          -9.986513137817383,
          -10.838752746582031,
          -11.717069625854492,
          -12.37219524383545,
          -12.970637321472168,
          -13.60533332824707,
          -14.120774269104004,
          -14.540909767150879,
          -14.94680118560791,
          -9.720588684082031,
          -10.881415367126465,
          -11.907637596130371,
          -12.750802040100098,
          -13.543902397155762,
          -14.251970291137695,
          -14.933158874511719,
          -15.50451946258545,
          -15.985840797424316,
          -16.40193748474121,
          -10.644601821899414,
          -12.224881172180176,
          -13.609636306762695,
          -14.817069053649902,
          -15.873971939086914,
          -16.78412437438965,
          -17.71356201171875,
          -18.5045108795166,
          -19.189268112182617,
          -19.760868072509766,
          11.191689491271973,
          16.267908096313477,
          20.7194766998291,
          24.663545608520508,
          28.16002082824707,
          31.473651885986328,
          34.36054992675781,
          37.058815002441406,
          39.44910430908203,
          41.759246826171875,
          -6.110339641571045,
          -6.30021858215332,
          -6.450390338897705,
          -6.570961952209473,
          -6.573169231414795,
          -6.718455791473389,
          -6.712491989135742,
          -6.682340145111084,
          -6.607944965362549,
          -6.592619895935059,
          41.759246826171875,
          32.08885955810547,
          22.41848373413086,
          12.748123168945312,
          3.077754020690918,
          -6.592619895935059,
          -6.592619895935059,
          41.759246826171875,
          25.483259201049805,
          19.240888595581055,
          15.989742279052734,
          9.773975372314453,
          -5.3565497398376465,
          -6.5926194190979
         ],
         "z": [
          16.44602394104004,
          21.400938034057617,
          25.506866455078125,
          29.045255661010742,
          32.12578201293945,
          34.933292388916016,
          37.3822021484375,
          39.61494064331055,
          41.50442123413086,
          43.22084426879883,
          -7.339202880859375,
          -9.511512756347656,
          -11.408404350280762,
          -12.945693016052246,
          -14.414530754089355,
          -15.69572639465332,
          -16.90199851989746,
          -17.923513412475586,
          -18.830028533935547,
          -19.575712203979492,
          -8.131528854370117,
          -10.457686424255371,
          -12.47070026397705,
          -14.266702651977539,
          -15.8455228805542,
          -17.229740142822266,
          -18.45142364501953,
          -19.542675018310547,
          -20.512048721313477,
          -21.382015228271484,
          -0.5081336498260498,
          -0.6144605875015259,
          -0.8231609463691711,
          -0.9089966416358948,
          -1.0375256538391113,
          -1.1040220260620117,
          -1.1930036544799805,
          -1.3298530578613281,
          -1.3487684726715088,
          -1.3312129974365234,
          0.07248087972402573,
          0.04549560323357582,
          0.061823613941669464,
          0.0030140650924295187,
          0.0169526394456625,
          0.1032661721110344,
          0.07216376811265945,
          -0.0032383922953158617,
          -0.0344461090862751,
          -0.04914305731654167,
          -1.3312129974365234,
          -1.0748014450073242,
          -0.8183863759040833,
          -0.5619715452194214,
          -0.30555716156959534,
          -0.04914305731654167,
          -0.04914305731654167,
          -1.3312129974365234,
          -0.8997631669044495,
          -0.7386218905448914,
          -0.6549590826034546,
          -0.48771464824676514,
          -0.08183189481496811,
          -0.04914306104183197
         ]
        }
       ],
       "layout": {
        "legend": {
         "tracegroupgap": 0
        },
        "scene": {
         "domain": {
          "x": [
           0,
           1
          ],
          "y": [
           0,
           1
          ]
         },
         "xaxis": {
          "title": {
           "text": "PC 1"
          }
         },
         "yaxis": {
          "title": {
           "text": "PC 2"
          }
         },
         "zaxis": {
          "title": {
           "text": "PC 3"
          }
         }
        },
        "template": {
         "data": {
          "bar": [
           {
            "error_x": {
             "color": "#2a3f5f"
            },
            "error_y": {
             "color": "#2a3f5f"
            },
            "marker": {
             "line": {
              "color": "#E5ECF6",
              "width": 0.5
             },
             "pattern": {
              "fillmode": "overlay",
              "size": 10,
              "solidity": 0.2
             }
            },
            "type": "bar"
           }
          ],
          "barpolar": [
           {
            "marker": {
             "line": {
              "color": "#E5ECF6",
              "width": 0.5
             },
             "pattern": {
              "fillmode": "overlay",
              "size": 10,
              "solidity": 0.2
             }
            },
            "type": "barpolar"
           }
          ],
          "carpet": [
           {
            "aaxis": {
             "endlinecolor": "#2a3f5f",
             "gridcolor": "white",
             "linecolor": "white",
             "minorgridcolor": "white",
             "startlinecolor": "#2a3f5f"
            },
            "baxis": {
             "endlinecolor": "#2a3f5f",
             "gridcolor": "white",
             "linecolor": "white",
             "minorgridcolor": "white",
             "startlinecolor": "#2a3f5f"
            },
            "type": "carpet"
           }
          ],
          "choropleth": [
           {
            "colorbar": {
             "outlinewidth": 0,
             "ticks": ""
            },
            "type": "choropleth"
           }
          ],
          "contour": [
           {
            "colorbar": {
             "outlinewidth": 0,
             "ticks": ""
            },
            "colorscale": [
             [
              0,
              "#0d0887"
             ],
             [
              0.1111111111111111,
              "#46039f"
             ],
             [
              0.2222222222222222,
              "#7201a8"
             ],
             [
              0.3333333333333333,
              "#9c179e"
             ],
             [
              0.4444444444444444,
              "#bd3786"
             ],
             [
              0.5555555555555556,
              "#d8576b"
             ],
             [
              0.6666666666666666,
              "#ed7953"
             ],
             [
              0.7777777777777778,
              "#fb9f3a"
             ],
             [
              0.8888888888888888,
              "#fdca26"
             ],
             [
              1,
              "#f0f921"
             ]
            ],
            "type": "contour"
           }
          ],
          "contourcarpet": [
           {
            "colorbar": {
             "outlinewidth": 0,
             "ticks": ""
            },
            "type": "contourcarpet"
           }
          ],
          "heatmap": [
           {
            "colorbar": {
             "outlinewidth": 0,
             "ticks": ""
            },
            "colorscale": [
             [
              0,
              "#0d0887"
             ],
             [
              0.1111111111111111,
              "#46039f"
             ],
             [
              0.2222222222222222,
              "#7201a8"
             ],
             [
              0.3333333333333333,
              "#9c179e"
             ],
             [
              0.4444444444444444,
              "#bd3786"
             ],
             [
              0.5555555555555556,
              "#d8576b"
             ],
             [
              0.6666666666666666,
              "#ed7953"
             ],
             [
              0.7777777777777778,
              "#fb9f3a"
             ],
             [
              0.8888888888888888,
              "#fdca26"
             ],
             [
              1,
              "#f0f921"
             ]
            ],
            "type": "heatmap"
           }
          ],
          "heatmapgl": [
           {
            "colorbar": {
             "outlinewidth": 0,
             "ticks": ""
            },
            "colorscale": [
             [
              0,
              "#0d0887"
             ],
             [
              0.1111111111111111,
              "#46039f"
             ],
             [
              0.2222222222222222,
              "#7201a8"
             ],
             [
              0.3333333333333333,
              "#9c179e"
             ],
             [
              0.4444444444444444,
              "#bd3786"
             ],
             [
              0.5555555555555556,
              "#d8576b"
             ],
             [
              0.6666666666666666,
              "#ed7953"
             ],
             [
              0.7777777777777778,
              "#fb9f3a"
             ],
             [
              0.8888888888888888,
              "#fdca26"
             ],
             [
              1,
              "#f0f921"
             ]
            ],
            "type": "heatmapgl"
           }
          ],
          "histogram": [
           {
            "marker": {
             "pattern": {
              "fillmode": "overlay",
              "size": 10,
              "solidity": 0.2
             }
            },
            "type": "histogram"
           }
          ],
          "histogram2d": [
           {
            "colorbar": {
             "outlinewidth": 0,
             "ticks": ""
            },
            "colorscale": [
             [
              0,
              "#0d0887"
             ],
             [
              0.1111111111111111,
              "#46039f"
             ],
             [
              0.2222222222222222,
              "#7201a8"
             ],
             [
              0.3333333333333333,
              "#9c179e"
             ],
             [
              0.4444444444444444,
              "#bd3786"
             ],
             [
              0.5555555555555556,
              "#d8576b"
             ],
             [
              0.6666666666666666,
              "#ed7953"
             ],
             [
              0.7777777777777778,
              "#fb9f3a"
             ],
             [
              0.8888888888888888,
              "#fdca26"
             ],
             [
              1,
              "#f0f921"
             ]
            ],
            "type": "histogram2d"
           }
          ],
          "histogram2dcontour": [
           {
            "colorbar": {
             "outlinewidth": 0,
             "ticks": ""
            },
            "colorscale": [
             [
              0,
              "#0d0887"
             ],
             [
              0.1111111111111111,
              "#46039f"
             ],
             [
              0.2222222222222222,
              "#7201a8"
             ],
             [
              0.3333333333333333,
              "#9c179e"
             ],
             [
              0.4444444444444444,
              "#bd3786"
             ],
             [
              0.5555555555555556,
              "#d8576b"
             ],
             [
              0.6666666666666666,
              "#ed7953"
             ],
             [
              0.7777777777777778,
              "#fb9f3a"
             ],
             [
              0.8888888888888888,
              "#fdca26"
             ],
             [
              1,
              "#f0f921"
             ]
            ],
            "type": "histogram2dcontour"
           }
          ],
          "mesh3d": [
           {
            "colorbar": {
             "outlinewidth": 0,
             "ticks": ""
            },
            "type": "mesh3d"
           }
          ],
          "parcoords": [
           {
            "line": {
             "colorbar": {
              "outlinewidth": 0,
              "ticks": ""
             }
            },
            "type": "parcoords"
           }
          ],
          "pie": [
           {
            "automargin": true,
            "type": "pie"
           }
          ],
          "scatter": [
           {
            "fillpattern": {
             "fillmode": "overlay",
             "size": 10,
             "solidity": 0.2
            },
            "type": "scatter"
           }
          ],
          "scatter3d": [
           {
            "line": {
             "colorbar": {
              "outlinewidth": 0,
              "ticks": ""
             }
            },
            "marker": {
             "colorbar": {
              "outlinewidth": 0,
              "ticks": ""
             }
            },
            "type": "scatter3d"
           }
          ],
          "scattercarpet": [
           {
            "marker": {
             "colorbar": {
              "outlinewidth": 0,
              "ticks": ""
             }
            },
            "type": "scattercarpet"
           }
          ],
          "scattergeo": [
           {
            "marker": {
             "colorbar": {
              "outlinewidth": 0,
              "ticks": ""
             }
            },
            "type": "scattergeo"
           }
          ],
          "scattergl": [
           {
            "marker": {
             "colorbar": {
              "outlinewidth": 0,
              "ticks": ""
             }
            },
            "type": "scattergl"
           }
          ],
          "scattermapbox": [
           {
            "marker": {
             "colorbar": {
              "outlinewidth": 0,
              "ticks": ""
             }
            },
            "type": "scattermapbox"
           }
          ],
          "scatterpolar": [
           {
            "marker": {
             "colorbar": {
              "outlinewidth": 0,
              "ticks": ""
             }
            },
            "type": "scatterpolar"
           }
          ],
          "scatterpolargl": [
           {
            "marker": {
             "colorbar": {
              "outlinewidth": 0,
              "ticks": ""
             }
            },
            "type": "scatterpolargl"
           }
          ],
          "scatterternary": [
           {
            "marker": {
             "colorbar": {
              "outlinewidth": 0,
              "ticks": ""
             }
            },
            "type": "scatterternary"
           }
          ],
          "surface": [
           {
            "colorbar": {
             "outlinewidth": 0,
             "ticks": ""
            },
            "colorscale": [
             [
              0,
              "#0d0887"
             ],
             [
              0.1111111111111111,
              "#46039f"
             ],
             [
              0.2222222222222222,
              "#7201a8"
             ],
             [
              0.3333333333333333,
              "#9c179e"
             ],
             [
              0.4444444444444444,
              "#bd3786"
             ],
             [
              0.5555555555555556,
              "#d8576b"
             ],
             [
              0.6666666666666666,
              "#ed7953"
             ],
             [
              0.7777777777777778,
              "#fb9f3a"
             ],
             [
              0.8888888888888888,
              "#fdca26"
             ],
             [
              1,
              "#f0f921"
             ]
            ],
            "type": "surface"
           }
          ],
          "table": [
           {
            "cells": {
             "fill": {
              "color": "#EBF0F8"
             },
             "line": {
              "color": "white"
             }
            },
            "header": {
             "fill": {
              "color": "#C8D4E3"
             },
             "line": {
              "color": "white"
             }
            },
            "type": "table"
           }
          ]
         },
         "layout": {
          "annotationdefaults": {
           "arrowcolor": "#2a3f5f",
           "arrowhead": 0,
           "arrowwidth": 1
          },
          "autotypenumbers": "strict",
          "coloraxis": {
           "colorbar": {
            "outlinewidth": 0,
            "ticks": ""
           }
          },
          "colorscale": {
           "diverging": [
            [
             0,
             "#8e0152"
            ],
            [
             0.1,
             "#c51b7d"
            ],
            [
             0.2,
             "#de77ae"
            ],
            [
             0.3,
             "#f1b6da"
            ],
            [
             0.4,
             "#fde0ef"
            ],
            [
             0.5,
             "#f7f7f7"
            ],
            [
             0.6,
             "#e6f5d0"
            ],
            [
             0.7,
             "#b8e186"
            ],
            [
             0.8,
             "#7fbc41"
            ],
            [
             0.9,
             "#4d9221"
            ],
            [
             1,
             "#276419"
            ]
           ],
           "sequential": [
            [
             0,
             "#0d0887"
            ],
            [
             0.1111111111111111,
             "#46039f"
            ],
            [
             0.2222222222222222,
             "#7201a8"
            ],
            [
             0.3333333333333333,
             "#9c179e"
            ],
            [
             0.4444444444444444,
             "#bd3786"
            ],
            [
             0.5555555555555556,
             "#d8576b"
            ],
            [
             0.6666666666666666,
             "#ed7953"
            ],
            [
             0.7777777777777778,
             "#fb9f3a"
            ],
            [
             0.8888888888888888,
             "#fdca26"
            ],
            [
             1,
             "#f0f921"
            ]
           ],
           "sequentialminus": [
            [
             0,
             "#0d0887"
            ],
            [
             0.1111111111111111,
             "#46039f"
            ],
            [
             0.2222222222222222,
             "#7201a8"
            ],
            [
             0.3333333333333333,
             "#9c179e"
            ],
            [
             0.4444444444444444,
             "#bd3786"
            ],
            [
             0.5555555555555556,
             "#d8576b"
            ],
            [
             0.6666666666666666,
             "#ed7953"
            ],
            [
             0.7777777777777778,
             "#fb9f3a"
            ],
            [
             0.8888888888888888,
             "#fdca26"
            ],
            [
             1,
             "#f0f921"
            ]
           ]
          },
          "colorway": [
           "#636efa",
           "#EF553B",
           "#00cc96",
           "#ab63fa",
           "#FFA15A",
           "#19d3f3",
           "#FF6692",
           "#B6E880",
           "#FF97FF",
           "#FECB52"
          ],
          "font": {
           "color": "#2a3f5f"
          },
          "geo": {
           "bgcolor": "white",
           "lakecolor": "white",
           "landcolor": "#E5ECF6",
           "showlakes": true,
           "showland": true,
           "subunitcolor": "white"
          },
          "hoverlabel": {
           "align": "left"
          },
          "hovermode": "closest",
          "mapbox": {
           "style": "light"
          },
          "paper_bgcolor": "white",
          "plot_bgcolor": "#E5ECF6",
          "polar": {
           "angularaxis": {
            "gridcolor": "white",
            "linecolor": "white",
            "ticks": ""
           },
           "bgcolor": "#E5ECF6",
           "radialaxis": {
            "gridcolor": "white",
            "linecolor": "white",
            "ticks": ""
           }
          },
          "scene": {
           "xaxis": {
            "backgroundcolor": "#E5ECF6",
            "gridcolor": "white",
            "gridwidth": 2,
            "linecolor": "white",
            "showbackground": true,
            "ticks": "",
            "zerolinecolor": "white"
           },
           "yaxis": {
            "backgroundcolor": "#E5ECF6",
            "gridcolor": "white",
            "gridwidth": 2,
            "linecolor": "white",
            "showbackground": true,
            "ticks": "",
            "zerolinecolor": "white"
           },
           "zaxis": {
            "backgroundcolor": "#E5ECF6",
            "gridcolor": "white",
            "gridwidth": 2,
            "linecolor": "white",
            "showbackground": true,
            "ticks": "",
            "zerolinecolor": "white"
           }
          },
          "shapedefaults": {
           "line": {
            "color": "#2a3f5f"
           }
          },
          "ternary": {
           "aaxis": {
            "gridcolor": "white",
            "linecolor": "white",
            "ticks": ""
           },
           "baxis": {
            "gridcolor": "white",
            "linecolor": "white",
            "ticks": ""
           },
           "bgcolor": "#E5ECF6",
           "caxis": {
            "gridcolor": "white",
            "linecolor": "white",
            "ticks": ""
           }
          },
          "title": {
           "x": 0.05
          },
          "xaxis": {
           "automargin": true,
           "gridcolor": "white",
           "linecolor": "white",
           "ticks": "",
           "title": {
            "standoff": 15
           },
           "zerolinecolor": "white",
           "zerolinewidth": 2
          },
          "yaxis": {
           "automargin": true,
           "gridcolor": "white",
           "linecolor": "white",
           "ticks": "",
           "title": {
            "standoff": 15
           },
           "zerolinecolor": "white",
           "zerolinewidth": 2
          }
         }
        },
        "title": {
         "text": "Total Explained Variance: 73.96%"
        }
       }
      }
     },
     "metadata": {},
     "output_type": "display_data"
    }
   ],
   "source": [
    "alldizi = np.vstack((Xlist,Xaralist45,Xsonaralist45))\n",
    "\n",
    "X = alldizi\n",
    "\n",
    "pca = PCA(n_components=3)\n",
    "components = pca.fit_transform(X)\n",
    "\n",
    "total_var = pca.explained_variance_ratio_.sum() * 100\n",
    "\n",
    "fig = px.scatter_3d(\n",
    "    components, x=0, y=1, z=2,\n",
    "    title=f'Total Explained Variance: {total_var:.2f}%',\n",
    "    labels={'0': 'PC 1', '1': 'PC 2', '2': 'PC 3'}\n",
    ")\n",
    "fig.show()"
   ]
  },
  {
   "attachments": {},
   "cell_type": "markdown",
   "metadata": {},
   "source": [
    "5. İLE 1. NOKTA ARASINDA"
   ]
  },
  {
   "cell_type": "code",
   "execution_count": 393,
   "metadata": {},
   "outputs": [
    {
     "name": "stdout",
     "output_type": "stream",
     "text": [
      "Interpolated weights 0:\n",
      "313/313 [==============================] - 1s 4ms/step - loss: 0.3325 - accuracy: 0.8867\n",
      "Interpolated weights 1:\n",
      "313/313 [==============================] - 1s 3ms/step - loss: 0.5621 - accuracy: 0.7954\n",
      "Interpolated weights 2:\n",
      "313/313 [==============================] - 1s 3ms/step - loss: 1.3138 - accuracy: 0.4828\n",
      "Interpolated weights 3:\n",
      "313/313 [==============================] - 1s 4ms/step - loss: 1.2013 - accuracy: 0.5777\n",
      "Interpolated weights 4:\n",
      "313/313 [==============================] - 1s 3ms/step - loss: 0.4392 - accuracy: 0.8656\n",
      "Interpolated weights 5:\n",
      "313/313 [==============================] - 1s 4ms/step - loss: 0.3436 - accuracy: 0.8817\n",
      "Interpolated weights 6:\n",
      "313/313 [==============================] - 1s 4ms/step - loss: 0.3436 - accuracy: 0.8817\n",
      "313/313 [==============================] - 1s 3ms/step - loss: 0.3325 - accuracy: 0.8867\n",
      "313/313 [==============================] - 1s 3ms/step - loss: 1.3138 - accuracy: 0.4828\n",
      "0.3324909508228302 1.3138142824172974\n",
      " 11/313 [>.............................] - ETA: 1s - loss: 0.5590 - accuracy: 0.7955 "
     ]
    },
    {
     "name": "stderr",
     "output_type": "stream",
     "text": [
      "C:\\Users\\enes_\\AppData\\Local\\Temp\\ipykernel_7704\\795889281.py:88: VisibleDeprecationWarning:\n",
      "\n",
      "Creating an ndarray from ragged nested sequences (which is a list-or-tuple of lists-or-tuples-or ndarrays with different lengths or shapes) is deprecated. If you meant to do this, you must specify 'dtype=object' when creating the ndarray.\n",
      "\n"
     ]
    },
    {
     "name": "stdout",
     "output_type": "stream",
     "text": [
      "313/313 [==============================] - 1s 5ms/step - loss: 0.5621 - accuracy: 0.7954\n",
      "313/313 [==============================] - 1s 4ms/step - loss: 1.2013 - accuracy: 0.5777\n",
      "0.5620578527450562 1.2013434171676636\n",
      "313/313 [==============================] - 1s 4ms/step - loss: 1.3138 - accuracy: 0.4828\n",
      "313/313 [==============================] - 1s 4ms/step - loss: 0.4392 - accuracy: 0.8656\n",
      "1.3138142824172974 0.4392267167568207\n",
      "  1/313 [..............................] - ETA: 13s - loss: 1.4107 - accuracy: 0.5312"
     ]
    },
    {
     "name": "stderr",
     "output_type": "stream",
     "text": [
      "C:\\Users\\enes_\\AppData\\Local\\Temp\\ipykernel_7704\\795889281.py:90: VisibleDeprecationWarning:\n",
      "\n",
      "Creating an ndarray from ragged nested sequences (which is a list-or-tuple of lists-or-tuples-or ndarrays with different lengths or shapes) is deprecated. If you meant to do this, you must specify 'dtype=object' when creating the ndarray.\n",
      "\n"
     ]
    },
    {
     "name": "stdout",
     "output_type": "stream",
     "text": [
      "313/313 [==============================] - 1s 4ms/step - loss: 1.2013 - accuracy: 0.5777\n",
      "313/313 [==============================] - 1s 4ms/step - loss: 0.3436 - accuracy: 0.8817\n",
      "1.2013434171676636 0.34356632828712463\n",
      "313/313 [==============================] - 1s 4ms/step - loss: 0.4392 - accuracy: 0.8656\n",
      "313/313 [==============================] - 1s 4ms/step - loss: 0.3436 - accuracy: 0.8817\n",
      "0.4392267167568207 0.343566358089447\n"
     ]
    },
    {
     "name": "stderr",
     "output_type": "stream",
     "text": [
      "C:\\Users\\enes_\\AppData\\Local\\Temp\\ipykernel_7704\\795889281.py:96: VisibleDeprecationWarning:\n",
      "\n",
      "Creating an ndarray from ragged nested sequences (which is a list-or-tuple of lists-or-tuples-or ndarrays with different lengths or shapes) is deprecated. If you meant to do this, you must specify 'dtype=object' when creating the ndarray.\n",
      "\n",
      "C:\\Users\\enes_\\AppData\\Local\\Temp\\ipykernel_7704\\795889281.py:115: VisibleDeprecationWarning:\n",
      "\n",
      "Creating an ndarray from ragged nested sequences (which is a list-or-tuple of lists-or-tuples-or ndarrays with different lengths or shapes) is deprecated. If you meant to do this, you must specify 'dtype=object' when creating the ndarray.\n",
      "\n",
      "C:\\Users\\enes_\\AppData\\Local\\Temp\\ipykernel_7704\\795889281.py:145: VisibleDeprecationWarning:\n",
      "\n",
      "Creating an ndarray from ragged nested sequences (which is a list-or-tuple of lists-or-tuples-or ndarrays with different lengths or shapes) is deprecated. If you meant to do this, you must specify 'dtype=object' when creating the ndarray.\n",
      "\n"
     ]
    },
    {
     "name": "stdout",
     "output_type": "stream",
     "text": [
      "313/313 [==============================] - 1s 4ms/step - loss: 0.3325 - accuracy: 0.8867\n",
      "313/313 [==============================] - 2s 5ms/step - loss: 1.2324 - accuracy: 0.5308\n",
      "0.3324909508228302 1.2323871850967407\n",
      "313/313 [==============================] - 1s 4ms/step - loss: 0.5419 - accuracy: 0.8173\n",
      "313/313 [==============================] - 1s 3ms/step - loss: 1.1388 - accuracy: 0.6366\n",
      "0.5418697595596313 1.1387624740600586\n",
      "313/313 [==============================] - 1s 4ms/step - loss: 1.2324 - accuracy: 0.5308\n",
      "313/313 [==============================] - 1s 4ms/step - loss: 0.4375 - accuracy: 0.8656\n",
      "1.2323871850967407 0.4375278949737549\n",
      "313/313 [==============================] - 1s 3ms/step - loss: 1.1388 - accuracy: 0.6366\n",
      "313/313 [==============================] - 1s 4ms/step - loss: 0.3402 - accuracy: 0.8825\n",
      "1.1387624740600586 0.34024134278297424\n",
      "313/313 [==============================] - 1s 3ms/step - loss: 0.4375 - accuracy: 0.8656\n",
      "313/313 [==============================] - 1s 5ms/step - loss: 0.3436 - accuracy: 0.8817\n",
      "0.4375278949737549 0.343566358089447\n",
      "313/313 [==============================] - 1s 3ms/step - loss: 0.3325 - accuracy: 0.8867\n",
      "313/313 [==============================] - 1s 3ms/step - loss: 1.1621 - accuracy: 0.5786\n",
      "0.3324909508228302 1.1620523929595947\n",
      "313/313 [==============================] - 1s 4ms/step - loss: 0.5314 - accuracy: 0.8272\n",
      "313/313 [==============================] - 1s 3ms/step - loss: 1.0812 - accuracy: 0.6835\n",
      "0.53135085105896 1.0812009572982788\n",
      "313/313 [==============================] - 1s 4ms/step - loss: 1.1621 - accuracy: 0.5786\n",
      "313/313 [==============================] - 1s 3ms/step - loss: 0.4369 - accuracy: 0.8666\n",
      "1.1620523929595947 0.43692466616630554\n",
      "313/313 [==============================] - 1s 4ms/step - loss: 1.0812 - accuracy: 0.6835\n",
      "313/313 [==============================] - 1s 3ms/step - loss: 0.3377 - accuracy: 0.8832\n",
      "1.0812009572982788 0.3376513421535492\n",
      "313/313 [==============================] - 1s 3ms/step - loss: 0.4369 - accuracy: 0.8666\n",
      "313/313 [==============================] - 1s 3ms/step - loss: 0.3436 - accuracy: 0.8817\n",
      "0.43692466616630554 0.343566358089447\n",
      "313/313 [==============================] - 1s 3ms/step - loss: 0.3325 - accuracy: 0.8867\n",
      "313/313 [==============================] - 1s 3ms/step - loss: 1.0998 - accuracy: 0.6329\n",
      "0.3324909508228302 1.099797010421753\n",
      "313/313 [==============================] - 1s 4ms/step - loss: 0.5256 - accuracy: 0.8351\n",
      "313/313 [==============================] - 1s 4ms/step - loss: 1.0288 - accuracy: 0.7208\n",
      "0.525566041469574 1.028752326965332\n",
      "313/313 [==============================] - 1s 3ms/step - loss: 1.0998 - accuracy: 0.6329\n",
      "313/313 [==============================] - 1s 3ms/step - loss: 0.4371 - accuracy: 0.8664\n",
      "1.099797010421753 0.43705111742019653\n",
      "313/313 [==============================] - 1s 3ms/step - loss: 1.0288 - accuracy: 0.7208\n",
      "313/313 [==============================] - 1s 4ms/step - loss: 0.3355 - accuracy: 0.8845\n",
      "1.028752326965332 0.335541307926178\n",
      "313/313 [==============================] - 1s 3ms/step - loss: 0.4371 - accuracy: 0.8664\n",
      "313/313 [==============================] - 1s 4ms/step - loss: 0.3436 - accuracy: 0.8817\n",
      "0.43705111742019653 0.343566358089447\n",
      "313/313 [==============================] - 1s 3ms/step - loss: 0.3325 - accuracy: 0.8867\n",
      "313/313 [==============================] - 1s 3ms/step - loss: 1.0442 - accuracy: 0.6827\n",
      "0.3324909508228302 1.0442358255386353\n",
      "313/313 [==============================] - 1s 3ms/step - loss: 0.5223 - accuracy: 0.8422\n",
      "313/313 [==============================] - 1s 4ms/step - loss: 0.9811 - accuracy: 0.7389\n",
      "0.5222664475440979 0.9810932874679565\n",
      "313/313 [==============================] - 1s 3ms/step - loss: 1.0442 - accuracy: 0.6827\n",
      "313/313 [==============================] - 1s 4ms/step - loss: 0.4376 - accuracy: 0.8655\n",
      "1.0442358255386353 0.43764960765838623\n",
      "313/313 [==============================] - 1s 3ms/step - loss: 0.9811 - accuracy: 0.7389\n",
      "313/313 [==============================] - 1s 3ms/step - loss: 0.3338 - accuracy: 0.8852\n",
      "0.9810932874679565 0.3337661027908325\n",
      "313/313 [==============================] - 1s 3ms/step - loss: 0.4376 - accuracy: 0.8655\n",
      "313/313 [==============================] - 1s 3ms/step - loss: 0.3436 - accuracy: 0.8817\n",
      "0.43764960765838623 0.343566358089447\n",
      "313/313 [==============================] - 1s 3ms/step - loss: 0.3325 - accuracy: 0.8867\n",
      "313/313 [==============================] - 1s 3ms/step - loss: 0.9946 - accuracy: 0.7149\n",
      "0.3324909508228302 0.9945734143257141\n",
      "313/313 [==============================] - 1s 3ms/step - loss: 0.5202 - accuracy: 0.8477\n",
      "313/313 [==============================] - 1s 3ms/step - loss: 0.9380 - accuracy: 0.7538\n",
      "0.5202394723892212 0.9380008578300476\n",
      "313/313 [==============================] - 1s 3ms/step - loss: 0.9946 - accuracy: 0.7149\n",
      "313/313 [==============================] - 1s 3ms/step - loss: 0.4385 - accuracy: 0.8655\n",
      "0.9945734143257141 0.43852201104164124\n",
      "313/313 [==============================] - 1s 3ms/step - loss: 0.9380 - accuracy: 0.7538\n",
      "313/313 [==============================] - 1s 3ms/step - loss: 0.3322 - accuracy: 0.8853\n",
      "0.9380008578300476 0.33223018050193787\n",
      "313/313 [==============================] - 1s 3ms/step - loss: 0.4385 - accuracy: 0.8655\n",
      "313/313 [==============================] - 1s 3ms/step - loss: 0.3436 - accuracy: 0.8817\n",
      "0.43852201104164124 0.343566358089447\n",
      "313/313 [==============================] - 1s 3ms/step - loss: 0.3325 - accuracy: 0.8867\n",
      "313/313 [==============================] - 1s 3ms/step - loss: 0.9501 - accuracy: 0.7435\n",
      "0.3324909508228302 0.950149416923523\n",
      "313/313 [==============================] - 1s 3ms/step - loss: 0.5188 - accuracy: 0.8512\n",
      "313/313 [==============================] - 1s 3ms/step - loss: 0.8995 - accuracy: 0.7666\n",
      "0.5187730193138123 0.8995230197906494\n",
      "313/313 [==============================] - 1s 3ms/step - loss: 0.9501 - accuracy: 0.7435\n",
      "313/313 [==============================] - 1s 3ms/step - loss: 0.4395 - accuracy: 0.8648\n",
      "0.950149416923523 0.43953457474708557\n",
      "313/313 [==============================] - 1s 3ms/step - loss: 0.8995 - accuracy: 0.7666\n",
      "313/313 [==============================] - 1s 3ms/step - loss: 0.3309 - accuracy: 0.8857\n",
      "0.8995230197906494 0.3308885097503662\n",
      "313/313 [==============================] - 1s 4ms/step - loss: 0.4395 - accuracy: 0.8648\n",
      "313/313 [==============================] - 1s 3ms/step - loss: 0.3436 - accuracy: 0.8817\n",
      "0.43953457474708557 0.343566358089447\n",
      "313/313 [==============================] - 1s 3ms/step - loss: 0.3325 - accuracy: 0.8867\n",
      "313/313 [==============================] - 1s 3ms/step - loss: 0.9106 - accuracy: 0.7619\n",
      "0.3324909508228302 0.9105706810951233\n",
      "313/313 [==============================] - 1s 3ms/step - loss: 0.5175 - accuracy: 0.8544\n",
      "313/313 [==============================] - 1s 4ms/step - loss: 0.8653 - accuracy: 0.7728\n",
      "0.5174914002418518 0.865293562412262\n",
      "313/313 [==============================] - 1s 3ms/step - loss: 0.9106 - accuracy: 0.7619\n",
      "313/313 [==============================] - 1s 3ms/step - loss: 0.4406 - accuracy: 0.8631\n",
      "0.9105706810951233 0.440580278635025\n",
      "313/313 [==============================] - 1s 4ms/step - loss: 0.8653 - accuracy: 0.7728\n",
      "313/313 [==============================] - 1s 3ms/step - loss: 0.3297 - accuracy: 0.8857\n",
      "0.865293562412262 0.3296857476234436\n",
      "313/313 [==============================] - 1s 3ms/step - loss: 0.4406 - accuracy: 0.8631\n",
      "313/313 [==============================] - 1s 3ms/step - loss: 0.3436 - accuracy: 0.8817\n",
      "0.440580278635025 0.343566358089447\n",
      "313/313 [==============================] - 1s 4ms/step - loss: 0.3325 - accuracy: 0.8867\n",
      "313/313 [==============================] - 1s 4ms/step - loss: 0.8753 - accuracy: 0.7729\n",
      "0.3324909508228302 0.8753353357315063\n",
      "313/313 [==============================] - 2s 5ms/step - loss: 0.5162 - accuracy: 0.8557\n",
      "313/313 [==============================] - 2s 6ms/step - loss: 0.8351 - accuracy: 0.7783\n",
      "0.5161957740783691 0.8350548148155212\n",
      "313/313 [==============================] - 1s 4ms/step - loss: 0.8753 - accuracy: 0.7729\n",
      "313/313 [==============================] - 2s 5ms/step - loss: 0.4416 - accuracy: 0.8623\n",
      "0.8753353357315063 0.4416320323944092\n",
      "313/313 [==============================] - 1s 4ms/step - loss: 0.8351 - accuracy: 0.7783\n",
      "313/313 [==============================] - 1s 3ms/step - loss: 0.3286 - accuracy: 0.8863\n",
      "0.8350548148155212 0.32860299944877625\n",
      "313/313 [==============================] - 1s 4ms/step - loss: 0.4416 - accuracy: 0.8623\n",
      "313/313 [==============================] - 1s 4ms/step - loss: 0.3436 - accuracy: 0.8817\n",
      "0.4416320323944092 0.343566358089447\n",
      "313/313 [==============================] - 1s 3ms/step - loss: 0.3325 - accuracy: 0.8867\n",
      "313/313 [==============================] - 1s 3ms/step - loss: 0.8439 - accuracy: 0.7833\n",
      "0.3324909508228302 0.8439183831214905\n",
      "313/313 [==============================] - 1s 3ms/step - loss: 0.5148 - accuracy: 0.8583\n",
      "313/313 [==============================] - 1s 4ms/step - loss: 0.8083 - accuracy: 0.7814\n",
      "0.5147925019264221 0.8083440661430359\n",
      "313/313 [==============================] - 1s 4ms/step - loss: 0.8439 - accuracy: 0.7833\n",
      "313/313 [==============================] - 1s 4ms/step - loss: 0.4426 - accuracy: 0.8616\n",
      "0.8439183831214905 0.4426480531692505\n",
      "313/313 [==============================] - 1s 3ms/step - loss: 0.8083 - accuracy: 0.7814\n",
      "313/313 [==============================] - 1s 4ms/step - loss: 0.3276 - accuracy: 0.8869\n",
      "0.8083440661430359 0.32761865854263306\n",
      "313/313 [==============================] - 1s 4ms/step - loss: 0.4426 - accuracy: 0.8616\n",
      "313/313 [==============================] - 1s 3ms/step - loss: 0.3436 - accuracy: 0.8817\n",
      "0.4426480531692505 0.343566358089447\n",
      "313/313 [==============================] - 1s 3ms/step - loss: 0.3325 - accuracy: 0.8867\n",
      "313/313 [==============================] - 1s 4ms/step - loss: 0.8159 - accuracy: 0.7892\n",
      "0.3324909508228302 0.8159354329109192\n",
      "313/313 [==============================] - 1s 3ms/step - loss: 0.5132 - accuracy: 0.8576\n",
      "313/313 [==============================] - 1s 3ms/step - loss: 0.7847 - accuracy: 0.7850\n",
      "0.5132369995117188 0.7846801280975342\n",
      "313/313 [==============================] - 1s 4ms/step - loss: 0.8159 - accuracy: 0.7892\n",
      "313/313 [==============================] - 1s 3ms/step - loss: 0.4435 - accuracy: 0.8608\n",
      "0.8159354329109192 0.4435402452945709\n",
      "313/313 [==============================] - 1s 3ms/step - loss: 0.7847 - accuracy: 0.7850\n",
      "313/313 [==============================] - 1s 3ms/step - loss: 0.3267 - accuracy: 0.8870\n",
      "0.7846801280975342 0.3267280161380768\n",
      "313/313 [==============================] - 1s 3ms/step - loss: 0.4435 - accuracy: 0.8608\n",
      "313/313 [==============================] - 1s 3ms/step - loss: 0.3436 - accuracy: 0.8817\n",
      "0.4435402452945709 0.343566358089447\n",
      "313/313 [==============================] - 1s 3ms/step - loss: 0.3325 - accuracy: 0.8867\n",
      "313/313 [==============================] - 1s 3ms/step - loss: 0.7910 - accuracy: 0.7934\n",
      "0.3324909508228302 0.7909505367279053\n",
      "313/313 [==============================] - 1s 3ms/step - loss: 0.5115 - accuracy: 0.8566\n",
      "313/313 [==============================] - 1s 3ms/step - loss: 0.7636 - accuracy: 0.7852\n",
      "0.511523425579071 0.7635650038719177\n",
      "313/313 [==============================] - 1s 3ms/step - loss: 0.7910 - accuracy: 0.7934\n",
      "313/313 [==============================] - 1s 3ms/step - loss: 0.4443 - accuracy: 0.8598\n",
      "0.7909505367279053 0.44431039690971375\n",
      "313/313 [==============================] - 1s 3ms/step - loss: 0.7636 - accuracy: 0.7852\n",
      "313/313 [==============================] - 1s 3ms/step - loss: 0.3259 - accuracy: 0.8865\n",
      "0.7635650038719177 0.3259110450744629\n",
      "313/313 [==============================] - 1s 3ms/step - loss: 0.4443 - accuracy: 0.8598\n",
      "313/313 [==============================] - 1s 3ms/step - loss: 0.3436 - accuracy: 0.8817\n",
      "0.44431039690971375 0.343566358089447\n",
      "313/313 [==============================] - 1s 3ms/step - loss: 0.3325 - accuracy: 0.8867\n",
      "313/313 [==============================] - 1s 3ms/step - loss: 0.7685 - accuracy: 0.7953\n",
      "0.3324909508228302 0.7684651017189026\n",
      "313/313 [==============================] - 1s 3ms/step - loss: 0.5096 - accuracy: 0.8566\n",
      "313/313 [==============================] - 1s 3ms/step - loss: 0.7446 - accuracy: 0.7873\n",
      "0.5096461176872253 0.7445793151855469\n",
      "313/313 [==============================] - 1s 3ms/step - loss: 0.7685 - accuracy: 0.7953\n",
      "313/313 [==============================] - 1s 3ms/step - loss: 0.4449 - accuracy: 0.8589\n",
      "0.7684651017189026 0.44493135809898376\n",
      "313/313 [==============================] - 1s 3ms/step - loss: 0.7446 - accuracy: 0.7873\n",
      "313/313 [==============================] - 1s 3ms/step - loss: 0.3252 - accuracy: 0.8864\n",
      "0.7445793151855469 0.32515642046928406\n",
      "313/313 [==============================] - 1s 3ms/step - loss: 0.4449 - accuracy: 0.8589\n",
      "313/313 [==============================] - 1s 3ms/step - loss: 0.3436 - accuracy: 0.8817\n",
      "0.44493135809898376 0.343566358089447\n",
      "313/313 [==============================] - 1s 4ms/step - loss: 0.3325 - accuracy: 0.8867\n",
      "313/313 [==============================] - 1s 3ms/step - loss: 0.7481 - accuracy: 0.7980\n",
      "0.3324909508228302 0.7480732202529907\n",
      "313/313 [==============================] - 1s 3ms/step - loss: 0.5076 - accuracy: 0.8569\n",
      "313/313 [==============================] - 1s 3ms/step - loss: 0.7274 - accuracy: 0.7883\n",
      "0.5076327919960022 0.7274160981178284\n",
      "313/313 [==============================] - 1s 4ms/step - loss: 0.7481 - accuracy: 0.7980\n",
      "313/313 [==============================] - 1s 3ms/step - loss: 0.4454 - accuracy: 0.8582\n",
      "0.7480732202529907 0.4454127550125122\n",
      "313/313 [==============================] - 1s 4ms/step - loss: 0.7274 - accuracy: 0.7883\n",
      "313/313 [==============================] - 1s 3ms/step - loss: 0.3245 - accuracy: 0.8864\n",
      "0.7274160981178284 0.3244593143463135\n",
      "313/313 [==============================] - 1s 3ms/step - loss: 0.4454 - accuracy: 0.8582\n",
      "313/313 [==============================] - 1s 3ms/step - loss: 0.3436 - accuracy: 0.8817\n",
      "0.4454127550125122 0.343566358089447\n",
      "313/313 [==============================] - 1s 3ms/step - loss: 0.3325 - accuracy: 0.8867\n",
      "313/313 [==============================] - 1s 3ms/step - loss: 0.7296 - accuracy: 0.7993\n",
      "0.3324909508228302 0.729576051235199\n",
      "313/313 [==============================] - 1s 3ms/step - loss: 0.5055 - accuracy: 0.8573\n",
      "313/313 [==============================] - 1s 3ms/step - loss: 0.7118 - accuracy: 0.7897\n",
      "0.5054718852043152 0.7117887139320374\n",
      "313/313 [==============================] - 2s 5ms/step - loss: 0.7296 - accuracy: 0.7993\n",
      "313/313 [==============================] - 1s 4ms/step - loss: 0.4458 - accuracy: 0.8575\n",
      "0.729576051235199 0.44575801491737366\n",
      "313/313 [==============================] - 1s 3ms/step - loss: 0.7118 - accuracy: 0.7897\n",
      "313/313 [==============================] - 1s 3ms/step - loss: 0.3238 - accuracy: 0.8865\n",
      "0.7117887139320374 0.32380959391593933\n",
      "313/313 [==============================] - 1s 3ms/step - loss: 0.4458 - accuracy: 0.8575\n",
      "313/313 [==============================] - 1s 3ms/step - loss: 0.3436 - accuracy: 0.8817\n",
      "0.44575801491737366 0.343566358089447\n",
      "313/313 [==============================] - 1s 3ms/step - loss: 0.3325 - accuracy: 0.8867\n",
      "313/313 [==============================] - 1s 3ms/step - loss: 0.7127 - accuracy: 0.8004\n",
      "0.3324909508228302 0.7126971483230591\n",
      "313/313 [==============================] - 1s 3ms/step - loss: 0.5032 - accuracy: 0.8565\n",
      "313/313 [==============================] - 1s 3ms/step - loss: 0.6975 - accuracy: 0.7915\n",
      "0.5032389760017395 0.6975322961807251\n",
      "313/313 [==============================] - 1s 3ms/step - loss: 0.7127 - accuracy: 0.8004\n",
      "313/313 [==============================] - 1s 3ms/step - loss: 0.4460 - accuracy: 0.8567\n",
      "0.7126971483230591 0.445970743894577\n",
      "313/313 [==============================] - 1s 3ms/step - loss: 0.6975 - accuracy: 0.7915\n",
      "313/313 [==============================] - 1s 3ms/step - loss: 0.3232 - accuracy: 0.8868\n",
      "0.6975322961807251 0.3232029676437378\n",
      "313/313 [==============================] - 1s 3ms/step - loss: 0.4460 - accuracy: 0.8567\n",
      "313/313 [==============================] - 1s 3ms/step - loss: 0.3436 - accuracy: 0.8817\n",
      "0.445970743894577 0.343566358089447\n",
      "313/313 [==============================] - 1s 3ms/step - loss: 0.3325 - accuracy: 0.8867\n",
      "313/313 [==============================] - 1s 3ms/step - loss: 0.6972 - accuracy: 0.8023\n",
      "0.3324909508228302 0.6972096562385559\n",
      "313/313 [==============================] - 1s 3ms/step - loss: 0.5009 - accuracy: 0.8571\n",
      "313/313 [==============================] - 1s 3ms/step - loss: 0.6844 - accuracy: 0.7925\n",
      "0.5009196400642395 0.6843884587287903\n",
      "313/313 [==============================] - 1s 3ms/step - loss: 0.6972 - accuracy: 0.8023\n",
      "313/313 [==============================] - 1s 3ms/step - loss: 0.4460 - accuracy: 0.8574\n",
      "0.6972096562385559 0.44604867696762085\n",
      "313/313 [==============================] - 1s 3ms/step - loss: 0.6844 - accuracy: 0.7925\n",
      "313/313 [==============================] - 1s 3ms/step - loss: 0.3226 - accuracy: 0.8874\n",
      "0.6843884587287903 0.3226304054260254\n",
      "313/313 [==============================] - 1s 3ms/step - loss: 0.4460 - accuracy: 0.8574\n",
      "313/313 [==============================] - 1s 3ms/step - loss: 0.3436 - accuracy: 0.8817\n",
      "0.44604867696762085 0.343566358089447\n",
      "313/313 [==============================] - 1s 3ms/step - loss: 0.3325 - accuracy: 0.8867\n",
      "313/313 [==============================] - 1s 3ms/step - loss: 0.6830 - accuracy: 0.8034\n",
      "0.3324909508228302 0.6829627156257629\n",
      "313/313 [==============================] - 1s 3ms/step - loss: 0.4986 - accuracy: 0.8573\n",
      "313/313 [==============================] - 1s 3ms/step - loss: 0.6722 - accuracy: 0.7932\n",
      "0.49855849146842957 0.6722478270530701\n",
      "313/313 [==============================] - 1s 3ms/step - loss: 0.6830 - accuracy: 0.8034\n",
      "313/313 [==============================] - 1s 3ms/step - loss: 0.4460 - accuracy: 0.8582\n",
      "0.6829627156257629 0.4460005760192871\n",
      "313/313 [==============================] - 1s 3ms/step - loss: 0.6722 - accuracy: 0.7932\n",
      "313/313 [==============================] - 1s 3ms/step - loss: 0.3221 - accuracy: 0.8877\n",
      "0.6722478270530701 0.3220927119255066\n",
      "313/313 [==============================] - 1s 3ms/step - loss: 0.4460 - accuracy: 0.8582\n",
      "313/313 [==============================] - 1s 3ms/step - loss: 0.3436 - accuracy: 0.8817\n",
      "0.4460005760192871 0.343566358089447\n",
      "313/313 [==============================] - 1s 3ms/step - loss: 0.3325 - accuracy: 0.8867\n",
      "313/313 [==============================] - 1s 3ms/step - loss: 0.6698 - accuracy: 0.8046\n",
      "0.3324909508228302 0.6698498129844666\n",
      "313/313 [==============================] - 1s 3ms/step - loss: 0.4962 - accuracy: 0.8563\n",
      "313/313 [==============================] - 1s 3ms/step - loss: 0.6610 - accuracy: 0.7954\n",
      "0.4961726665496826 0.6610003709793091\n",
      "313/313 [==============================] - 1s 3ms/step - loss: 0.6698 - accuracy: 0.8046\n",
      "313/313 [==============================] - 1s 3ms/step - loss: 0.4458 - accuracy: 0.8578\n",
      "0.6698498129844666 0.4458204209804535\n",
      "313/313 [==============================] - 1s 3ms/step - loss: 0.6610 - accuracy: 0.7954\n",
      "313/313 [==============================] - 1s 4ms/step - loss: 0.3216 - accuracy: 0.8880\n",
      "0.6610003709793091 0.32158565521240234\n",
      "313/313 [==============================] - 1s 4ms/step - loss: 0.4458 - accuracy: 0.8578\n",
      "313/313 [==============================] - 1s 4ms/step - loss: 0.3436 - accuracy: 0.8817\n",
      "0.4458204209804535 0.343566358089447\n",
      "313/313 [==============================] - 1s 4ms/step - loss: 0.3325 - accuracy: 0.8867\n",
      "313/313 [==============================] - 1s 4ms/step - loss: 0.6578 - accuracy: 0.8047\n",
      "0.3324909508228302 0.6577809453010559\n",
      "313/313 [==============================] - 1s 4ms/step - loss: 0.4938 - accuracy: 0.8560\n",
      "313/313 [==============================] - 1s 4ms/step - loss: 0.6506 - accuracy: 0.7968\n",
      "0.4937649965286255 0.650554895401001\n",
      "313/313 [==============================] - 1s 4ms/step - loss: 0.6578 - accuracy: 0.8047\n",
      "313/313 [==============================] - 1s 4ms/step - loss: 0.4455 - accuracy: 0.8572\n",
      "0.6577809453010559 0.4455080032348633\n",
      "313/313 [==============================] - 1s 3ms/step - loss: 0.6506 - accuracy: 0.7968\n",
      "313/313 [==============================] - 1s 3ms/step - loss: 0.3211 - accuracy: 0.8880\n",
      "0.650554895401001 0.3211060166358948\n",
      "313/313 [==============================] - 1s 3ms/step - loss: 0.4455 - accuracy: 0.8572\n",
      "313/313 [==============================] - 1s 3ms/step - loss: 0.3436 - accuracy: 0.8817\n",
      "0.4455080032348633 0.343566358089447\n",
      "313/313 [==============================] - 1s 3ms/step - loss: 0.3325 - accuracy: 0.8867\n",
      "313/313 [==============================] - 1s 3ms/step - loss: 0.6466 - accuracy: 0.8060\n",
      "0.3324909508228302 0.6466128826141357\n",
      "313/313 [==============================] - 1s 3ms/step - loss: 0.4914 - accuracy: 0.8562\n",
      "313/313 [==============================] - 1s 3ms/step - loss: 0.6408 - accuracy: 0.7991\n",
      "0.4913584887981415 0.6408013105392456\n",
      "313/313 [==============================] - 1s 3ms/step - loss: 0.6466 - accuracy: 0.8060\n",
      "313/313 [==============================] - 1s 3ms/step - loss: 0.4451 - accuracy: 0.8568\n",
      "0.6466128826141357 0.4450893998146057\n",
      "313/313 [==============================] - 1s 3ms/step - loss: 0.6408 - accuracy: 0.7991\n",
      "313/313 [==============================] - 1s 3ms/step - loss: 0.3207 - accuracy: 0.8879\n",
      "0.6408013105392456 0.3206504285335541\n",
      "313/313 [==============================] - 1s 3ms/step - loss: 0.4451 - accuracy: 0.8568\n",
      "313/313 [==============================] - 1s 3ms/step - loss: 0.3436 - accuracy: 0.8817\n",
      "0.4450893998146057 0.343566358089447\n",
      "313/313 [==============================] - 1s 3ms/step - loss: 0.3325 - accuracy: 0.8867\n",
      "313/313 [==============================] - 1s 3ms/step - loss: 0.6363 - accuracy: 0.8072\n",
      "0.3324909508228302 0.636252224445343\n",
      "313/313 [==============================] - 1s 3ms/step - loss: 0.4889 - accuracy: 0.8566\n",
      "313/313 [==============================] - 1s 3ms/step - loss: 0.6317 - accuracy: 0.8004\n",
      "0.4889419972896576 0.6316635012626648\n",
      "313/313 [==============================] - 1s 3ms/step - loss: 0.6363 - accuracy: 0.8072\n",
      "313/313 [==============================] - 1s 3ms/step - loss: 0.4446 - accuracy: 0.8566\n",
      "0.636252224445343 0.4445832371711731\n",
      "313/313 [==============================] - 1s 3ms/step - loss: 0.6317 - accuracy: 0.8004\n",
      "313/313 [==============================] - 1s 3ms/step - loss: 0.3202 - accuracy: 0.8879\n",
      "0.6316635012626648 0.3202188014984131\n",
      "313/313 [==============================] - 1s 3ms/step - loss: 0.4446 - accuracy: 0.8566\n",
      "313/313 [==============================] - 1s 3ms/step - loss: 0.3436 - accuracy: 0.8817\n",
      "0.4445832371711731 0.343566358089447\n",
      "313/313 [==============================] - 1s 4ms/step - loss: 0.3325 - accuracy: 0.8867\n",
      "313/313 [==============================] - 1s 4ms/step - loss: 0.6266 - accuracy: 0.8086\n",
      "0.3324909508228302 0.6266489624977112\n",
      "313/313 [==============================] - 1s 3ms/step - loss: 0.4865 - accuracy: 0.8563\n",
      "313/313 [==============================] - 1s 3ms/step - loss: 0.6231 - accuracy: 0.8015\n",
      "0.486530065536499 0.6230754852294922\n",
      "313/313 [==============================] - 1s 3ms/step - loss: 0.6266 - accuracy: 0.8086\n",
      "313/313 [==============================] - 1s 3ms/step - loss: 0.4440 - accuracy: 0.8565\n",
      "0.6266489624977112 0.4439951777458191\n",
      "313/313 [==============================] - 1s 3ms/step - loss: 0.6231 - accuracy: 0.8015\n",
      "313/313 [==============================] - 1s 4ms/step - loss: 0.3198 - accuracy: 0.8879\n",
      "0.6230754852294922 0.3198063373565674\n",
      "313/313 [==============================] - 1s 3ms/step - loss: 0.4440 - accuracy: 0.8565\n",
      "313/313 [==============================] - 1s 3ms/step - loss: 0.3436 - accuracy: 0.8817\n",
      "0.4439951777458191 0.343566358089447\n",
      "313/313 [==============================] - 1s 3ms/step - loss: 0.3325 - accuracy: 0.8867\n",
      "313/313 [==============================] - 1s 4ms/step - loss: 0.6177 - accuracy: 0.8092\n",
      "0.3324909508228302 0.6177442669868469\n",
      "313/313 [==============================] - 1s 3ms/step - loss: 0.4841 - accuracy: 0.8558\n",
      "313/313 [==============================] - 1s 4ms/step - loss: 0.6150 - accuracy: 0.8028\n",
      "0.48414793610572815 0.6149972677230835\n",
      "313/313 [==============================] - 1s 4ms/step - loss: 0.6177 - accuracy: 0.8092\n",
      "313/313 [==============================] - 1s 3ms/step - loss: 0.4433 - accuracy: 0.8561\n",
      "0.6177442669868469 0.4433298707008362\n",
      "313/313 [==============================] - 1s 3ms/step - loss: 0.6150 - accuracy: 0.8028\n",
      "313/313 [==============================] - 1s 3ms/step - loss: 0.3194 - accuracy: 0.8879\n",
      "0.6149972677230835 0.31941166520118713\n",
      "313/313 [==============================] - 1s 3ms/step - loss: 0.4433 - accuracy: 0.8561\n",
      "313/313 [==============================] - 1s 3ms/step - loss: 0.3436 - accuracy: 0.8817\n",
      "0.4433298707008362 0.343566358089447\n",
      "313/313 [==============================] - 1s 3ms/step - loss: 0.3325 - accuracy: 0.8867\n",
      "313/313 [==============================] - 1s 3ms/step - loss: 0.6095 - accuracy: 0.8090\n",
      "0.3324909508228302 0.6094756722450256\n",
      "313/313 [==============================] - 1s 3ms/step - loss: 0.4818 - accuracy: 0.8554\n",
      "313/313 [==============================] - 1s 3ms/step - loss: 0.6074 - accuracy: 0.8029\n",
      "0.4817850589752197 0.6073986291885376\n",
      "313/313 [==============================] - 1s 3ms/step - loss: 0.6095 - accuracy: 0.8090\n",
      "313/313 [==============================] - 1s 3ms/step - loss: 0.4426 - accuracy: 0.8561\n",
      "0.6094756722450256 0.44260865449905396\n",
      "313/313 [==============================] - 1s 3ms/step - loss: 0.6074 - accuracy: 0.8029\n",
      "313/313 [==============================] - 1s 3ms/step - loss: 0.3190 - accuracy: 0.8883\n",
      "0.6073986291885376 0.3190341889858246\n",
      "313/313 [==============================] - 1s 3ms/step - loss: 0.4426 - accuracy: 0.8561\n",
      "313/313 [==============================] - 1s 3ms/step - loss: 0.3436 - accuracy: 0.8817\n",
      "0.44260865449905396 0.343566358089447\n",
      "313/313 [==============================] - 1s 3ms/step - loss: 0.3325 - accuracy: 0.8867\n",
      "313/313 [==============================] - 1s 3ms/step - loss: 0.6018 - accuracy: 0.8101\n",
      "0.3324909508228302 0.6017734408378601\n",
      "313/313 [==============================] - 1s 3ms/step - loss: 0.4794 - accuracy: 0.8548\n",
      "313/313 [==============================] - 1s 3ms/step - loss: 0.6002 - accuracy: 0.8044\n",
      "0.47944507002830505 0.6002282500267029\n",
      "313/313 [==============================] - 1s 3ms/step - loss: 0.6018 - accuracy: 0.8101\n",
      "313/313 [==============================] - 1s 3ms/step - loss: 0.4418 - accuracy: 0.8562\n",
      "0.6017734408378601 0.4418213367462158\n",
      "313/313 [==============================] - 1s 3ms/step - loss: 0.6002 - accuracy: 0.8044\n",
      "313/313 [==============================] - 1s 4ms/step - loss: 0.3187 - accuracy: 0.8884\n",
      "0.6002282500267029 0.3186699450016022\n",
      "313/313 [==============================] - 1s 3ms/step - loss: 0.4418 - accuracy: 0.8562\n",
      "313/313 [==============================] - 1s 3ms/step - loss: 0.3436 - accuracy: 0.8817\n",
      "0.4418213367462158 0.343566358089447\n",
      "313/313 [==============================] - 1s 4ms/step - loss: 0.3325 - accuracy: 0.8867\n",
      "313/313 [==============================] - 1s 3ms/step - loss: 0.5946 - accuracy: 0.8108\n",
      "0.3324909508228302 0.5945941209793091\n",
      "313/313 [==============================] - 1s 3ms/step - loss: 0.4771 - accuracy: 0.8548\n",
      "313/313 [==============================] - 1s 3ms/step - loss: 0.5935 - accuracy: 0.8061\n",
      "0.47713354229927063 0.593457043170929\n",
      "313/313 [==============================] - 1s 3ms/step - loss: 0.5946 - accuracy: 0.8108\n",
      "313/313 [==============================] - 1s 3ms/step - loss: 0.4410 - accuracy: 0.8565\n",
      "0.5945941209793091 0.44098350405693054\n",
      "313/313 [==============================] - 1s 4ms/step - loss: 0.5935 - accuracy: 0.8061\n",
      "313/313 [==============================] - 1s 4ms/step - loss: 0.3183 - accuracy: 0.8884\n",
      "0.593457043170929 0.31832289695739746\n",
      "313/313 [==============================] - 1s 4ms/step - loss: 0.4410 - accuracy: 0.8565\n",
      "313/313 [==============================] - 1s 4ms/step - loss: 0.3436 - accuracy: 0.8817\n",
      "0.44098350405693054 0.343566358089447\n",
      "313/313 [==============================] - 1s 4ms/step - loss: 0.3325 - accuracy: 0.8867\n",
      "313/313 [==============================] - 1s 4ms/step - loss: 0.5879 - accuracy: 0.8120\n",
      "0.3324909508228302 0.5878728032112122\n",
      "313/313 [==============================] - 1s 3ms/step - loss: 0.4749 - accuracy: 0.8548\n",
      "313/313 [==============================] - 1s 3ms/step - loss: 0.5870 - accuracy: 0.8073\n",
      "0.4748663008213043 0.5870473384857178\n",
      "313/313 [==============================] - 1s 4ms/step - loss: 0.5879 - accuracy: 0.8120\n",
      "313/313 [==============================] - 1s 3ms/step - loss: 0.4401 - accuracy: 0.8563\n",
      "0.5878728032112122 0.4401247501373291\n",
      "313/313 [==============================] - 1s 4ms/step - loss: 0.5870 - accuracy: 0.8073\n",
      "313/313 [==============================] - 1s 4ms/step - loss: 0.3180 - accuracy: 0.8879\n",
      "0.5870473384857178 0.3179881274700165\n",
      "313/313 [==============================] - 1s 3ms/step - loss: 0.4401 - accuracy: 0.8563\n",
      "313/313 [==============================] - 1s 3ms/step - loss: 0.3436 - accuracy: 0.8817\n",
      "0.4401247501373291 0.343566358089447\n",
      "313/313 [==============================] - 1s 4ms/step - loss: 0.3325 - accuracy: 0.8867\n",
      "313/313 [==============================] - 1s 3ms/step - loss: 0.5816 - accuracy: 0.8129\n",
      "0.3324909508228302 0.5815766453742981\n",
      "313/313 [==============================] - 1s 3ms/step - loss: 0.4726 - accuracy: 0.8547\n",
      "313/313 [==============================] - 1s 3ms/step - loss: 0.5810 - accuracy: 0.8082\n",
      "0.47263583540916443 0.5809611082077026\n",
      "313/313 [==============================] - 1s 3ms/step - loss: 0.5816 - accuracy: 0.8129\n",
      "313/313 [==============================] - 1s 3ms/step - loss: 0.4392 - accuracy: 0.8560\n",
      "0.5815766453742981 0.43923676013946533\n",
      "313/313 [==============================] - 1s 4ms/step - loss: 0.5810 - accuracy: 0.8082\n",
      "313/313 [==============================] - 1s 3ms/step - loss: 0.3177 - accuracy: 0.8882\n",
      "0.5809611082077026 0.31766581535339355\n",
      "313/313 [==============================] - 1s 4ms/step - loss: 0.4392 - accuracy: 0.8560\n",
      "313/313 [==============================] - 1s 4ms/step - loss: 0.3436 - accuracy: 0.8817\n",
      "0.43923676013946533 0.343566358089447\n",
      "313/313 [==============================] - 1s 4ms/step - loss: 0.3325 - accuracy: 0.8867\n",
      "313/313 [==============================] - 1s 4ms/step - loss: 0.5756 - accuracy: 0.8140\n",
      "0.3324909508228302 0.5756449103355408\n",
      "313/313 [==============================] - 1s 3ms/step - loss: 0.4704 - accuracy: 0.8547\n",
      "313/313 [==============================] - 1s 4ms/step - loss: 0.5752 - accuracy: 0.8105\n",
      "0.4704461395740509 0.5751749873161316\n",
      "313/313 [==============================] - 1s 4ms/step - loss: 0.5756 - accuracy: 0.8140\n",
      "313/313 [==============================] - 1s 4ms/step - loss: 0.4383 - accuracy: 0.8557\n",
      "0.5756449103355408 0.4383341670036316\n",
      "313/313 [==============================] - 1s 3ms/step - loss: 0.5752 - accuracy: 0.8105\n",
      "313/313 [==============================] - 1s 3ms/step - loss: 0.3174 - accuracy: 0.8881\n",
      "0.5751749873161316 0.31735360622406006\n",
      "313/313 [==============================] - 1s 3ms/step - loss: 0.4383 - accuracy: 0.8557\n",
      "313/313 [==============================] - 1s 3ms/step - loss: 0.3436 - accuracy: 0.8817\n",
      "0.4383341670036316 0.343566358089447\n",
      "313/313 [==============================] - 1s 3ms/step - loss: 0.3325 - accuracy: 0.8867\n",
      "313/313 [==============================] - 1s 3ms/step - loss: 0.5700 - accuracy: 0.8137\n",
      "0.3324909508228302 0.5700396299362183\n",
      "313/313 [==============================] - 1s 3ms/step - loss: 0.4683 - accuracy: 0.8543\n",
      "313/313 [==============================] - 1s 3ms/step - loss: 0.5697 - accuracy: 0.8116\n",
      "0.46829676628112793 0.5696820020675659\n",
      "313/313 [==============================] - 1s 3ms/step - loss: 0.5700 - accuracy: 0.8137\n",
      "313/313 [==============================] - 1s 3ms/step - loss: 0.4374 - accuracy: 0.8556\n",
      "0.5700396299362183 0.4374246597290039\n",
      "313/313 [==============================] - 1s 4ms/step - loss: 0.5697 - accuracy: 0.8116\n",
      "313/313 [==============================] - 1s 3ms/step - loss: 0.3170 - accuracy: 0.8881\n",
      "0.5696820020675659 0.3170499801635742\n",
      "313/313 [==============================] - 1s 3ms/step - loss: 0.4374 - accuracy: 0.8556\n",
      "313/313 [==============================] - 1s 3ms/step - loss: 0.3436 - accuracy: 0.8817\n",
      "0.4374246597290039 0.343566358089447\n",
      "313/313 [==============================] - 1s 3ms/step - loss: 0.3325 - accuracy: 0.8867\n",
      "313/313 [==============================] - 1s 3ms/step - loss: 0.5647 - accuracy: 0.8150\n",
      "0.3324909508228302 0.5647472739219666\n",
      "313/313 [==============================] - 1s 3ms/step - loss: 0.4662 - accuracy: 0.8543\n",
      "313/313 [==============================] - 1s 3ms/step - loss: 0.5645 - accuracy: 0.8131\n",
      "0.4661915898323059 0.5644643902778625\n",
      "313/313 [==============================] - 1s 3ms/step - loss: 0.5647 - accuracy: 0.8150\n",
      "313/313 [==============================] - 1s 3ms/step - loss: 0.4365 - accuracy: 0.8553\n",
      "0.5647472739219666 0.4365079998970032\n",
      "313/313 [==============================] - 1s 3ms/step - loss: 0.5645 - accuracy: 0.8131\n",
      "313/313 [==============================] - 1s 3ms/step - loss: 0.3168 - accuracy: 0.8883\n",
      "0.5644643902778625 0.31675636768341064\n",
      "313/313 [==============================] - 1s 3ms/step - loss: 0.4365 - accuracy: 0.8553\n",
      "313/313 [==============================] - 1s 4ms/step - loss: 0.3436 - accuracy: 0.8817\n",
      "0.4365079998970032 0.343566358089447\n",
      "313/313 [==============================] - 1s 4ms/step - loss: 0.3325 - accuracy: 0.8867\n",
      "313/313 [==============================] - 1s 3ms/step - loss: 0.5597 - accuracy: 0.8158\n",
      "0.3324909508228302 0.5597349405288696\n",
      "313/313 [==============================] - 1s 3ms/step - loss: 0.4641 - accuracy: 0.8544\n",
      "313/313 [==============================] - 1s 3ms/step - loss: 0.5595 - accuracy: 0.8135\n",
      "0.4641377925872803 0.5594872236251831\n",
      "313/313 [==============================] - 1s 3ms/step - loss: 0.5597 - accuracy: 0.8158\n",
      "313/313 [==============================] - 1s 4ms/step - loss: 0.4356 - accuracy: 0.8545\n",
      "0.5597349405288696 0.43557652831077576\n",
      "313/313 [==============================] - 1s 3ms/step - loss: 0.5595 - accuracy: 0.8135\n",
      "313/313 [==============================] - 1s 3ms/step - loss: 0.3165 - accuracy: 0.8884\n",
      "0.5594872236251831 0.3164711594581604\n",
      "313/313 [==============================] - 1s 3ms/step - loss: 0.4356 - accuracy: 0.8545\n",
      "313/313 [==============================] - 1s 3ms/step - loss: 0.3436 - accuracy: 0.8817\n",
      "0.43557652831077576 0.343566358089447\n",
      "313/313 [==============================] - 1s 4ms/step - loss: 0.3325 - accuracy: 0.8867\n",
      "313/313 [==============================] - 1s 3ms/step - loss: 0.5550 - accuracy: 0.8161\n",
      "0.3324909508228302 0.5549828410148621\n",
      "313/313 [==============================] - 1s 3ms/step - loss: 0.4621 - accuracy: 0.8550\n",
      "313/313 [==============================] - 1s 3ms/step - loss: 0.5547 - accuracy: 0.8133\n",
      "0.46213221549987793 0.5547438263893127\n",
      "313/313 [==============================] - 1s 3ms/step - loss: 0.5550 - accuracy: 0.8161\n",
      "313/313 [==============================] - 1s 3ms/step - loss: 0.4346 - accuracy: 0.8547\n",
      "0.5549828410148621 0.43463897705078125\n",
      "313/313 [==============================] - 1s 4ms/step - loss: 0.5547 - accuracy: 0.8133\n",
      "313/313 [==============================] - 1s 4ms/step - loss: 0.3162 - accuracy: 0.8884\n",
      "0.5547438263893127 0.31619417667388916\n",
      "313/313 [==============================] - 1s 3ms/step - loss: 0.4346 - accuracy: 0.8547\n",
      "313/313 [==============================] - 1s 3ms/step - loss: 0.3436 - accuracy: 0.8817\n",
      "0.43463897705078125 0.343566358089447\n",
      "313/313 [==============================] - 1s 3ms/step - loss: 0.3325 - accuracy: 0.8867\n",
      "313/313 [==============================] - 1s 3ms/step - loss: 0.5505 - accuracy: 0.8168\n",
      "0.3324909508228302 0.5504664778709412\n",
      "313/313 [==============================] - 1s 3ms/step - loss: 0.4602 - accuracy: 0.8551\n",
      "313/313 [==============================] - 1s 3ms/step - loss: 0.5502 - accuracy: 0.8144\n",
      "0.4601737856864929 0.5502276420593262\n",
      "313/313 [==============================] - 1s 3ms/step - loss: 0.5505 - accuracy: 0.8168\n",
      "313/313 [==============================] - 1s 4ms/step - loss: 0.4337 - accuracy: 0.8552\n",
      "0.5504664778709412 0.43369778990745544\n",
      "313/313 [==============================] - 1s 3ms/step - loss: 0.5502 - accuracy: 0.8144\n",
      "313/313 [==============================] - 1s 3ms/step - loss: 0.3159 - accuracy: 0.8886\n",
      "0.5502276420593262 0.3159257173538208\n",
      "313/313 [==============================] - 1s 3ms/step - loss: 0.4337 - accuracy: 0.8552\n",
      "313/313 [==============================] - 1s 4ms/step - loss: 0.3436 - accuracy: 0.8817\n",
      "0.43369778990745544 0.343566358089447\n",
      "313/313 [==============================] - 1s 3ms/step - loss: 0.3325 - accuracy: 0.8867\n",
      "313/313 [==============================] - 1s 4ms/step - loss: 0.5462 - accuracy: 0.8177\n",
      "0.3324909508228302 0.5461621880531311\n",
      "313/313 [==============================] - 1s 3ms/step - loss: 0.4583 - accuracy: 0.8547\n",
      "313/313 [==============================] - 1s 3ms/step - loss: 0.5459 - accuracy: 0.8159\n",
      "0.4582690894603729 0.545910120010376\n",
      "313/313 [==============================] - 1s 3ms/step - loss: 0.5462 - accuracy: 0.8177\n",
      "313/313 [==============================] - 1s 3ms/step - loss: 0.4328 - accuracy: 0.8553\n",
      "0.5461621880531311 0.43275538086891174\n",
      "313/313 [==============================] - 1s 3ms/step - loss: 0.5459 - accuracy: 0.8159\n",
      "313/313 [==============================] - 1s 3ms/step - loss: 0.3157 - accuracy: 0.8886\n",
      "0.545910120010376 0.31566494703292847\n",
      "313/313 [==============================] - 1s 3ms/step - loss: 0.4328 - accuracy: 0.8553\n",
      "313/313 [==============================] - 1s 3ms/step - loss: 0.3436 - accuracy: 0.8817\n",
      "0.43275538086891174 0.343566358089447\n",
      "313/313 [==============================] - 1s 3ms/step - loss: 0.3325 - accuracy: 0.8867\n",
      "313/313 [==============================] - 1s 3ms/step - loss: 0.5421 - accuracy: 0.8188\n",
      "0.3324909508228302 0.5420545339584351\n",
      "313/313 [==============================] - 1s 3ms/step - loss: 0.4564 - accuracy: 0.8545\n",
      "313/313 [==============================] - 1s 3ms/step - loss: 0.5418 - accuracy: 0.8179\n",
      "0.45641717314720154 0.5418007969856262\n",
      "313/313 [==============================] - 1s 4ms/step - loss: 0.5421 - accuracy: 0.8188\n",
      "313/313 [==============================] - 1s 3ms/step - loss: 0.4318 - accuracy: 0.8558\n",
      "0.5420545339584351 0.43182173371315\n",
      "313/313 [==============================] - 1s 3ms/step - loss: 0.5418 - accuracy: 0.8179\n",
      "313/313 [==============================] - 1s 3ms/step - loss: 0.3154 - accuracy: 0.8885\n",
      "0.5418007969856262 0.3154088258743286\n",
      "313/313 [==============================] - 1s 4ms/step - loss: 0.4318 - accuracy: 0.8558\n",
      "313/313 [==============================] - 1s 3ms/step - loss: 0.3436 - accuracy: 0.8817\n",
      "0.43182173371315 0.343566358089447\n",
      "313/313 [==============================] - 1s 4ms/step - loss: 0.3325 - accuracy: 0.8867\n",
      "313/313 [==============================] - 1s 4ms/step - loss: 0.5381 - accuracy: 0.8195\n",
      "0.3324909508228302 0.538122832775116\n",
      "313/313 [==============================] - 1s 4ms/step - loss: 0.4546 - accuracy: 0.8547\n",
      "313/313 [==============================] - 2s 5ms/step - loss: 0.5379 - accuracy: 0.8184\n",
      "0.4546144902706146 0.5378687381744385\n",
      "313/313 [==============================] - 1s 4ms/step - loss: 0.5381 - accuracy: 0.8195\n",
      "313/313 [==============================] - 1s 4ms/step - loss: 0.4309 - accuracy: 0.8561\n",
      "0.538122832775116 0.4308958351612091\n",
      "313/313 [==============================] - 1s 4ms/step - loss: 0.5379 - accuracy: 0.8184\n",
      "313/313 [==============================] - 1s 4ms/step - loss: 0.3152 - accuracy: 0.8888\n",
      "0.5378687381744385 0.31516119837760925\n",
      "313/313 [==============================] - 1s 4ms/step - loss: 0.4309 - accuracy: 0.8561\n",
      "313/313 [==============================] - 1s 4ms/step - loss: 0.3436 - accuracy: 0.8817\n",
      "0.4308958351612091 0.343566358089447\n",
      "313/313 [==============================] - 1s 4ms/step - loss: 0.3325 - accuracy: 0.8867\n",
      "313/313 [==============================] - 1s 3ms/step - loss: 0.5344 - accuracy: 0.8203\n",
      "0.3324909508228302 0.5343572497367859\n",
      "313/313 [==============================] - 1s 4ms/step - loss: 0.4529 - accuracy: 0.8542\n",
      "313/313 [==============================] - 1s 4ms/step - loss: 0.5341 - accuracy: 0.8192\n",
      "0.4528563916683197 0.5340943932533264\n",
      "313/313 [==============================] - 1s 4ms/step - loss: 0.5344 - accuracy: 0.8203\n",
      "313/313 [==============================] - 1s 3ms/step - loss: 0.4300 - accuracy: 0.8555\n",
      "0.5343572497367859 0.42998114228248596\n",
      "313/313 [==============================] - 1s 3ms/step - loss: 0.5341 - accuracy: 0.8192\n",
      "313/313 [==============================] - 1s 3ms/step - loss: 0.3149 - accuracy: 0.8887\n",
      "0.5340943932533264 0.31491929292678833\n",
      "313/313 [==============================] - 1s 3ms/step - loss: 0.4300 - accuracy: 0.8555\n",
      "313/313 [==============================] - 1s 4ms/step - loss: 0.3436 - accuracy: 0.8817\n",
      "0.42998114228248596 0.343566358089447\n",
      "313/313 [==============================] - 1s 5ms/step - loss: 0.3325 - accuracy: 0.8867\n",
      "313/313 [==============================] - 1s 4ms/step - loss: 0.5307 - accuracy: 0.8210\n",
      "0.3324909508228302 0.5307453870773315\n",
      "313/313 [==============================] - 1s 3ms/step - loss: 0.4511 - accuracy: 0.8542\n",
      "313/313 [==============================] - 1s 4ms/step - loss: 0.5305 - accuracy: 0.8196\n",
      "0.45113325119018555 0.5304712653160095\n",
      "313/313 [==============================] - 1s 4ms/step - loss: 0.5307 - accuracy: 0.8210\n",
      "313/313 [==============================] - 1s 4ms/step - loss: 0.4291 - accuracy: 0.8554\n",
      "0.5307453870773315 0.42908087372779846\n",
      "313/313 [==============================] - 1s 4ms/step - loss: 0.5305 - accuracy: 0.8196\n",
      "313/313 [==============================] - 1s 4ms/step - loss: 0.3147 - accuracy: 0.8891\n",
      "0.5304712653160095 0.3146781623363495\n",
      "313/313 [==============================] - 1s 3ms/step - loss: 0.4291 - accuracy: 0.8554\n",
      "313/313 [==============================] - 1s 3ms/step - loss: 0.3436 - accuracy: 0.8817\n",
      "0.42908087372779846 0.343566358089447\n",
      "313/313 [==============================] - 1s 4ms/step - loss: 0.3325 - accuracy: 0.8867\n",
      "313/313 [==============================] - 1s 4ms/step - loss: 0.5273 - accuracy: 0.8217\n",
      "0.3324909508228302 0.5272716879844666\n",
      "313/313 [==============================] - 1s 3ms/step - loss: 0.4494 - accuracy: 0.8537\n",
      "313/313 [==============================] - 1s 3ms/step - loss: 0.5270 - accuracy: 0.8202\n",
      "0.4494491219520569 0.5269911885261536\n",
      "313/313 [==============================] - 1s 3ms/step - loss: 0.5273 - accuracy: 0.8217\n",
      "313/313 [==============================] - 1s 3ms/step - loss: 0.4282 - accuracy: 0.8556\n",
      "0.5272716879844666 0.428190678358078\n",
      "313/313 [==============================] - 1s 3ms/step - loss: 0.5270 - accuracy: 0.8202\n",
      "313/313 [==============================] - 1s 3ms/step - loss: 0.3144 - accuracy: 0.8891\n",
      "0.5269911885261536 0.3144407868385315\n",
      "313/313 [==============================] - 1s 3ms/step - loss: 0.4282 - accuracy: 0.8556\n",
      "313/313 [==============================] - 1s 3ms/step - loss: 0.3436 - accuracy: 0.8817\n",
      "0.428190678358078 0.343566358089447\n",
      "313/313 [==============================] - 1s 4ms/step - loss: 0.3325 - accuracy: 0.8867\n",
      "313/313 [==============================] - 2s 5ms/step - loss: 0.5239 - accuracy: 0.8227\n",
      "0.3324909508228302 0.5239336490631104\n",
      "313/313 [==============================] - 1s 4ms/step - loss: 0.4478 - accuracy: 0.8538\n",
      "313/313 [==============================] - 1s 3ms/step - loss: 0.5236 - accuracy: 0.8212\n",
      "0.4478003978729248 0.5236424207687378\n",
      "313/313 [==============================] - 1s 3ms/step - loss: 0.5239 - accuracy: 0.8227\n",
      "313/313 [==============================] - 1s 3ms/step - loss: 0.4273 - accuracy: 0.8554\n",
      "0.5239336490631104 0.42731812596321106\n",
      "313/313 [==============================] - 1s 3ms/step - loss: 0.5236 - accuracy: 0.8212\n",
      "313/313 [==============================] - 1s 3ms/step - loss: 0.3142 - accuracy: 0.8893\n",
      "0.5236424207687378 0.3142065405845642\n",
      "313/313 [==============================] - 1s 3ms/step - loss: 0.4273 - accuracy: 0.8554\n",
      "313/313 [==============================] - 1s 3ms/step - loss: 0.3436 - accuracy: 0.8817\n",
      "0.42731812596321106 0.343566358089447\n",
      "313/313 [==============================] - 1s 3ms/step - loss: 0.3325 - accuracy: 0.8867\n",
      "313/313 [==============================] - 1s 3ms/step - loss: 0.5207 - accuracy: 0.8235\n",
      "0.3324909508228302 0.5207094550132751\n",
      "313/313 [==============================] - 1s 3ms/step - loss: 0.4462 - accuracy: 0.8540\n",
      "313/313 [==============================] - 1s 3ms/step - loss: 0.5204 - accuracy: 0.8217\n",
      "0.4461808502674103 0.5204117894172668\n",
      "313/313 [==============================] - 1s 4ms/step - loss: 0.5207 - accuracy: 0.8235\n",
      "313/313 [==============================] - 1s 3ms/step - loss: 0.4265 - accuracy: 0.8555\n",
      "0.5207094550132751 0.42646557092666626\n",
      "313/313 [==============================] - 1s 3ms/step - loss: 0.5204 - accuracy: 0.8217\n",
      "313/313 [==============================] - 1s 3ms/step - loss: 0.3140 - accuracy: 0.8890\n",
      "0.5204117894172668 0.3139740824699402\n",
      "313/313 [==============================] - 1s 4ms/step - loss: 0.4265 - accuracy: 0.8555\n",
      "313/313 [==============================] - 1s 3ms/step - loss: 0.3436 - accuracy: 0.8817\n",
      "0.42646557092666626 0.343566358089447\n",
      "313/313 [==============================] - 1s 4ms/step - loss: 0.3325 - accuracy: 0.8867\n",
      "313/313 [==============================] - 1s 4ms/step - loss: 0.5176 - accuracy: 0.8243\n",
      "0.3324909508228302 0.517601728439331\n",
      "313/313 [==============================] - 1s 3ms/step - loss: 0.4446 - accuracy: 0.8542\n",
      "313/313 [==============================] - 1s 3ms/step - loss: 0.5173 - accuracy: 0.8225\n",
      "0.44460049271583557 0.5173003673553467\n",
      "313/313 [==============================] - 1s 4ms/step - loss: 0.5176 - accuracy: 0.8243\n",
      "313/313 [==============================] - 1s 3ms/step - loss: 0.4256 - accuracy: 0.8559\n",
      "0.517601728439331 0.42563074827194214\n",
      "313/313 [==============================] - 1s 3ms/step - loss: 0.5173 - accuracy: 0.8225\n",
      "313/313 [==============================] - 1s 3ms/step - loss: 0.3137 - accuracy: 0.8888\n",
      "0.5173003673553467 0.3137446939945221\n",
      "313/313 [==============================] - 1s 3ms/step - loss: 0.4256 - accuracy: 0.8559\n",
      "313/313 [==============================] - 1s 4ms/step - loss: 0.3436 - accuracy: 0.8817\n",
      "0.42563074827194214 0.343566358089447\n",
      "313/313 [==============================] - 1s 4ms/step - loss: 0.3325 - accuracy: 0.8867\n",
      "313/313 [==============================] - 1s 5ms/step - loss: 0.5146 - accuracy: 0.8252\n",
      "0.3324909508228302 0.5146066546440125\n",
      "313/313 [==============================] - 1s 4ms/step - loss: 0.4431 - accuracy: 0.8548\n",
      "313/313 [==============================] - 1s 3ms/step - loss: 0.5143 - accuracy: 0.8239\n",
      "0.4430641233921051 0.5143033266067505\n",
      "313/313 [==============================] - 1s 3ms/step - loss: 0.5146 - accuracy: 0.8252\n",
      "313/313 [==============================] - 1s 4ms/step - loss: 0.4248 - accuracy: 0.8561\n",
      "0.5146066546440125 0.4248117208480835\n",
      "313/313 [==============================] - 1s 3ms/step - loss: 0.5143 - accuracy: 0.8239\n",
      "313/313 [==============================] - 1s 3ms/step - loss: 0.3135 - accuracy: 0.8889\n",
      "0.5143033266067505 0.31352105736732483\n",
      "313/313 [==============================] - 1s 4ms/step - loss: 0.4248 - accuracy: 0.8561\n",
      "313/313 [==============================] - 1s 3ms/step - loss: 0.3436 - accuracy: 0.8817\n",
      "0.4248117208480835 0.343566358089447\n",
      "313/313 [==============================] - 1s 4ms/step - loss: 0.3325 - accuracy: 0.8867\n",
      "313/313 [==============================] - 1s 3ms/step - loss: 0.5117 - accuracy: 0.8265\n",
      "0.3324909508228302 0.511706531047821\n",
      "313/313 [==============================] - 1s 4ms/step - loss: 0.4416 - accuracy: 0.8546\n",
      "313/313 [==============================] - 1s 3ms/step - loss: 0.5114 - accuracy: 0.8250\n",
      "0.44157275557518005 0.5114192366600037\n",
      "313/313 [==============================] - 1s 4ms/step - loss: 0.5117 - accuracy: 0.8265\n",
      "313/313 [==============================] - 1s 3ms/step - loss: 0.4240 - accuracy: 0.8561\n",
      "0.511706531047821 0.4240016043186188\n",
      "313/313 [==============================] - 1s 3ms/step - loss: 0.5114 - accuracy: 0.8250\n",
      "313/313 [==============================] - 1s 4ms/step - loss: 0.3133 - accuracy: 0.8888\n",
      "0.5114192366600037 0.31330054998397827\n",
      "313/313 [==============================] - 1s 4ms/step - loss: 0.4240 - accuracy: 0.8561\n",
      "313/313 [==============================] - 1s 3ms/step - loss: 0.3436 - accuracy: 0.8817\n",
      "0.4240016043186188 0.343566358089447\n",
      "313/313 [==============================] - 1s 4ms/step - loss: 0.3325 - accuracy: 0.8867\n",
      "313/313 [==============================] - 1s 3ms/step - loss: 0.5089 - accuracy: 0.8268\n",
      "0.3324909508228302 0.5089019536972046\n",
      "313/313 [==============================] - 1s 3ms/step - loss: 0.4401 - accuracy: 0.8548\n",
      "313/313 [==============================] - 1s 4ms/step - loss: 0.5086 - accuracy: 0.8260\n",
      "0.4401145577430725 0.5086339116096497\n",
      "313/313 [==============================] - 1s 4ms/step - loss: 0.5089 - accuracy: 0.8268\n",
      "313/313 [==============================] - 1s 3ms/step - loss: 0.4232 - accuracy: 0.8564\n",
      "0.5089019536972046 0.4232058525085449\n",
      "313/313 [==============================] - 1s 4ms/step - loss: 0.5086 - accuracy: 0.8260\n",
      "313/313 [==============================] - 1s 4ms/step - loss: 0.3131 - accuracy: 0.8888\n",
      "0.5086339116096497 0.3130820691585541\n",
      "313/313 [==============================] - 1s 3ms/step - loss: 0.4232 - accuracy: 0.8564\n",
      "313/313 [==============================] - 1s 3ms/step - loss: 0.3436 - accuracy: 0.8817\n",
      "0.4232058525085449 0.343566358089447\n",
      "313/313 [==============================] - 1s 4ms/step - loss: 0.3325 - accuracy: 0.8867\n",
      "313/313 [==============================] - 1s 3ms/step - loss: 0.5062 - accuracy: 0.8278\n",
      "0.3324909508228302 0.506187915802002\n",
      "313/313 [==============================] - 1s 3ms/step - loss: 0.4387 - accuracy: 0.8548\n",
      "313/313 [==============================] - 1s 4ms/step - loss: 0.5059 - accuracy: 0.8267\n",
      "0.4386942386627197 0.5059361457824707\n",
      "313/313 [==============================] - 1s 3ms/step - loss: 0.5062 - accuracy: 0.8278\n",
      "313/313 [==============================] - 1s 4ms/step - loss: 0.4224 - accuracy: 0.8567\n",
      "0.506187915802002 0.4224246144294739\n",
      "313/313 [==============================] - 1s 3ms/step - loss: 0.5059 - accuracy: 0.8267\n",
      "313/313 [==============================] - 1s 3ms/step - loss: 0.3129 - accuracy: 0.8890\n",
      "0.5059361457824707 0.3128669559955597\n",
      "313/313 [==============================] - 1s 3ms/step - loss: 0.4224 - accuracy: 0.8567\n",
      "313/313 [==============================] - 1s 3ms/step - loss: 0.3436 - accuracy: 0.8817\n",
      "0.4224246144294739 0.343566358089447\n",
      "313/313 [==============================] - 1s 3ms/step - loss: 0.3325 - accuracy: 0.8867\n",
      "313/313 [==============================] - 1s 3ms/step - loss: 0.5036 - accuracy: 0.8283\n",
      "0.3324909508228302 0.5035667419433594\n",
      "313/313 [==============================] - 1s 3ms/step - loss: 0.4373 - accuracy: 0.8546\n",
      "313/313 [==============================] - 1s 3ms/step - loss: 0.5033 - accuracy: 0.8274\n",
      "0.43730857968330383 0.5033281445503235\n",
      "313/313 [==============================] - 1s 3ms/step - loss: 0.5036 - accuracy: 0.8283\n",
      "313/313 [==============================] - 1s 3ms/step - loss: 0.4217 - accuracy: 0.8569\n",
      "0.5035667419433594 0.42165225744247437\n",
      "313/313 [==============================] - 1s 3ms/step - loss: 0.5033 - accuracy: 0.8274\n",
      "313/313 [==============================] - 1s 3ms/step - loss: 0.3127 - accuracy: 0.8891\n",
      "0.5033281445503235 0.3126561939716339\n",
      "313/313 [==============================] - 1s 3ms/step - loss: 0.4217 - accuracy: 0.8569\n",
      "313/313 [==============================] - 1s 3ms/step - loss: 0.3436 - accuracy: 0.8817\n",
      "0.42165225744247437 0.343566358089447\n",
      "313/313 [==============================] - 1s 3ms/step - loss: 0.3325 - accuracy: 0.8867\n",
      "313/313 [==============================] - 1s 4ms/step - loss: 0.5010 - accuracy: 0.8291\n",
      "0.3324909508228302 0.5010214447975159\n",
      "313/313 [==============================] - 1s 4ms/step - loss: 0.4360 - accuracy: 0.8546\n",
      "313/313 [==============================] - 1s 4ms/step - loss: 0.5008 - accuracy: 0.8287\n",
      "0.4359549283981323 0.5007998943328857\n",
      "313/313 [==============================] - 1s 4ms/step - loss: 0.5010 - accuracy: 0.8291\n",
      "313/313 [==============================] - 1s 3ms/step - loss: 0.4209 - accuracy: 0.8572\n",
      "0.5010214447975159 0.42089277505874634\n",
      "313/313 [==============================] - 1s 3ms/step - loss: 0.5008 - accuracy: 0.8287\n",
      "313/313 [==============================] - 1s 3ms/step - loss: 0.3124 - accuracy: 0.8891\n",
      "0.5007998943328857 0.3124494254589081\n",
      "313/313 [==============================] - 1s 3ms/step - loss: 0.4209 - accuracy: 0.8572\n",
      "313/313 [==============================] - 1s 3ms/step - loss: 0.3436 - accuracy: 0.8817\n",
      "0.42089277505874634 0.343566358089447\n",
      "313/313 [==============================] - 1s 4ms/step - loss: 0.3325 - accuracy: 0.8867\n",
      "313/313 [==============================] - 1s 4ms/step - loss: 0.4346 - accuracy: 0.8545\n",
      "313/313 [==============================] - 1s 3ms/step - loss: 0.4985 - accuracy: 0.8299\n",
      "313/313 [==============================] - 1s 3ms/step - loss: 0.4984 - accuracy: 0.8281\n",
      "313/313 [==============================] - 1s 4ms/step - loss: 0.4201 - accuracy: 0.8574\n",
      "313/313 [==============================] - 1s 3ms/step - loss: 0.3122 - accuracy: 0.8891\n",
      "313/313 [==============================] - 1s 3ms/step - loss: 0.3436 - accuracy: 0.8817\n"
     ]
    }
   ],
   "source": [
    "w0 = load_model('eachModel5/CheckPoint-10.hdf5')\n",
    "firstWeight = w0.get_weights()\n",
    "# w0.fit(train_images, train_labels, epochs=1, validation_data=(test_images, test_labels), verbose=2)\n",
    "\n",
    "wT = load_model('eachModel1/CheckPoint-10.hdf5')\n",
    "lastWeight = wT.get_weights()\n",
    "# wT.fit(train_images, train_labels, epochs=1, validation_data=(test_images, test_labels), verbose=2)\n",
    "\n",
    "tümNoktalarim = []\n",
    "for i in range(6):\n",
    "    tümNoktalarim.append([before + (after - before) * i / 5 for before, after in zip(firstWeight, lastWeight)])\n",
    "tümNoktalarim.append(lastWeight)\n",
    "\n",
    "ilkdogrunoktalari51 = tümNoktalarim.copy()\n",
    "\n",
    "dogruUzerindekiIlkkLoss = []\n",
    "for i, weights in enumerate(tümNoktalarim):\n",
    "    model.set_weights(weights)\n",
    "    print(f'Interpolated weights {i}:')\n",
    "    loss,accuracy=model.evaluate(test_images, test_labels)\n",
    "    dogruUzerindekiIlkkLoss.append(loss)\n",
    "\n",
    "# İterasyon başlangıç\n",
    "for T in range(50):\n",
    "    def step(X, y,i):\n",
    "        # keep track of our gradients\n",
    "        with tf.GradientTape() as tape:\n",
    "            # make a prediction using the model and then calculate the\n",
    "            # loss\n",
    "            model.set_weights(tümNoktalarim[i])\n",
    "            pred = model(X)\n",
    "\n",
    "            y_tran = to_categorical(y,10)\n",
    "\n",
    "\n",
    "            # listem2 = []\n",
    "            # for i in range(60000):\n",
    "            #     listem2.append(1)\n",
    "            #     for j in range(9):\n",
    "            #         listem2.append(0)\n",
    "\n",
    "            # listem2 = np.array(listem2)\n",
    "            # listem2 = np.reshape(listem2,(60000,10))\n",
    "            # listem2 = listem2\n",
    "\n",
    "\n",
    "\n",
    "            # listem = []\n",
    "            # for i in range(60000):\n",
    "            #     for j in range(10):\n",
    "            #         listem.append(y[i])\n",
    "\n",
    "            # listem = np.array(listem)\n",
    "            # listem = listem/9\n",
    "            # listem = np.reshape(listem,(60000,10))\n",
    "            # tensor1 = tf.convert_to_tensor(listem)\n",
    "\n",
    "            # print(\"y : \\n\",y.shape)\n",
    "            # print(\"pred : \\n\",pred.shape)\n",
    "            tensor1 = tf.convert_to_tensor(y_tran)\n",
    "            # print(\"tensor1 : \\n\",tensor1.shape)\n",
    "            tensor2 = tf.reshape(tensor1,[60000,10])\n",
    "            # print(\"tensor2 : \\n\",tensor2.shape)\n",
    "            loss = categorical_crossentropy(tensor2, pred)\n",
    "        # calculate the gradients using our tape and then update the\n",
    "        # model weights\n",
    "        grads = tape.gradient(loss, model.trainable_variables)\n",
    "        return grads\n",
    "\n",
    "\n",
    "    grads = []\n",
    "    for i in range(1,6,1):\n",
    "        grads.append(step(train_images,train_labels,i))\n",
    "\n",
    "\n",
    "    # Tan değerlerinin hesaplanması\n",
    "    tanvalue = []\n",
    "    for i in range(1,6,1):\n",
    "        model.set_weights(tümNoktalarim[i-1])\n",
    "        dotResult1 = model.evaluate(test_images, test_labels)[0]\n",
    "\n",
    "        model.set_weights(tümNoktalarim[i+1])\n",
    "        dotResult2 = model.evaluate(test_images, test_labels)[0]\n",
    "\n",
    "        print(dotResult1,dotResult2)\n",
    "\n",
    "        if (dotResult2 > dotResult1):\n",
    "            tanvalue.append((np.array(tümNoktalarim[i+1]) - np.array(tümNoktalarim[i])))\n",
    "        else:\n",
    "            tanvalue.append((np.array(tümNoktalarim[i]) - np.array(tümNoktalarim[i-1])))\n",
    "\n",
    "    gradList = []\n",
    "    for i in range(5):\n",
    "        first = np.array(grads[i][0])\n",
    "        grad1 = [first[0:60000,:],np.array(grads[i][1]),np.array(grads[i][2]),np.array(grads[i][3]),np.array(grads[i][4]),np.array(grads[i][5])]\n",
    "        grad1 = np.array(grad1)\n",
    "        gradList.append(grad1)\n",
    "\n",
    "    esasGradList = gradList.copy()\n",
    "    gradList = np.array(gradList)\n",
    "\n",
    "\n",
    "    for i in range(5):\n",
    "        gradList[i][0] = gradList[i][0].flatten()\n",
    "        gradList[i][1] = gradList[i][1].flatten()\n",
    "        gradList[i][2] = gradList[i][2].flatten()\n",
    "        gradList[i][3] = gradList[i][3].flatten()\n",
    "        gradList[i][4] = gradList[i][4].flatten()\n",
    "        gradList[i][5] = gradList[i][5].flatten()\n",
    "\n",
    "\n",
    "    tanlistem = []\n",
    "    for i in range(5):\n",
    "        tanget = [tanvalue[i][0],tanvalue[i][1],tanvalue[i][2],tanvalue[i][3],tanvalue[i][4],tanvalue[i][5]]\n",
    "        tanget = np.array(tanget)\n",
    "        tanlistem.append(tanget)\n",
    "\n",
    "    esasTanList = tanlistem.copy()\n",
    "    tanlistem = np.array(tanlistem)\n",
    "\n",
    "    for i in range(5):\n",
    "        tanlistem[i][0] = tanlistem[i][0].flatten()\n",
    "        tanlistem[i][1] = tanlistem[i][1].flatten()\n",
    "        tanlistem[i][2] = tanlistem[i][2].flatten()\n",
    "        tanlistem[i][3] = tanlistem[i][3].flatten()\n",
    "        tanlistem[i][4] = tanlistem[i][4].flatten()\n",
    "        tanlistem[i][5] = tanlistem[i][5].flatten()\n",
    "\n",
    "    dotsonuc = []\n",
    "    for i in range(5):\n",
    "        denemesonuc1 = np.dot(tanlistem[i][0],gradList[i][0])\n",
    "        denemesonuc2 = np.dot(tanlistem[i][1],gradList[i][1])\n",
    "        denemesonuc3 = np.dot(tanlistem[i][2],gradList[i][2])\n",
    "        denemesonuc4 = np.dot(tanlistem[i][3],gradList[i][3])\n",
    "        denemesonuc5 = np.dot(tanlistem[i][4],gradList[i][4])\n",
    "        denemesonuc6 = np.dot(tanlistem[i][5],gradList[i][5])\n",
    "        sonuc1 = denemesonuc1+denemesonuc2+denemesonuc3+denemesonuc4+denemesonuc5+denemesonuc6\n",
    "        dotsonuc.append(sonuc1)\n",
    "\n",
    "    learningrate = 0.000001\n",
    "    güncelNoktlar = []\n",
    "    for i in range(5):\n",
    "        rightresult = dotsonuc[i]*esasTanList[i]\n",
    "        ilkdeğer = esasGradList[i]-rightresult\n",
    "        ilkgünceldeger = tümNoktalarim[i+1] - (learningrate*ilkdeğer)\n",
    "        güncelNoktlar.append(ilkgünceldeger)\n",
    "\n",
    "    # Bulunan noktaların güncellenmesi\n",
    "    for i in range(5):\n",
    "        tümNoktalarim[i+1] = güncelNoktlar[i]\n",
    "\n",
    "\n",
    "dogruUzerindekiSonkLoss = []\n",
    "for i in range(0,7,1):\n",
    "    model.set_weights(tümNoktalarim[i])\n",
    "    dogruResult = model.evaluate(test_images, test_labels)[0]\n",
    "    dogruUzerindekiSonkLoss.append(dogruResult)"
   ]
  },
  {
   "cell_type": "code",
   "execution_count": 394,
   "metadata": {},
   "outputs": [
    {
     "name": "stderr",
     "output_type": "stream",
     "text": [
      "No artists with labels found to put in legend.  Note that artists whose label start with an underscore are ignored when legend() is called with no argument.\n"
     ]
    },
    {
     "data": {
      "image/png": "[encoded data removed]",
      "text/plain": [
       "<Figure size 432x288 with 1 Axes>"
      ]
     },
     "metadata": {
      "needs_background": "light"
     },
     "output_type": "display_data"
    }
   ],
   "source": [
    "plt.plot(np.arange(0,7),dogruUzerindekiIlkkLoss)\n",
    "plt.title('5. ve 1. son nokta arasıda çizilen doğru üzerindeki loss değerleri')\n",
    "plt.ylabel('Loss')\n",
    "plt.xlabel('Epoch')\n",
    "plt.legend(loc=\"upper left\")\n",
    "plt.show()"
   ]
  },
  {
   "cell_type": "code",
   "execution_count": 395,
   "metadata": {},
   "outputs": [
    {
     "name": "stderr",
     "output_type": "stream",
     "text": [
      "No artists with labels found to put in legend.  Note that artists whose label start with an underscore are ignored when legend() is called with no argument.\n"
     ]
    },
    {
     "data": {
      "image/png": "[encoded data removed]",
      "text/plain": [
       "<Figure size 432x288 with 1 Axes>"
      ]
     },
     "metadata": {
      "needs_background": "light"
     },
     "output_type": "display_data"
    }
   ],
   "source": [
    "plt.plot(np.arange(0,7),dogruUzerindekiSonkLoss)\n",
    "plt.title('5. ve 1. son nokta arasıda bulunan yeni yol')\n",
    "plt.ylabel('Loss')\n",
    "plt.xlabel('Epoch')\n",
    "plt.legend(loc=\"upper left\")\n",
    "plt.show()"
   ]
  },
  {
   "cell_type": "code",
   "execution_count": 396,
   "metadata": {},
   "outputs": [
    {
     "data": {
      "application/vnd.plotly.v1+json": {
       "config": {
        "plotlyServerURL": "https://plot.ly"
       },
       "data": [
        {
         "hovertemplate": "0=%{x}<br>1=%{y}<extra></extra>",
         "legendgroup": "",
         "marker": {
          "color": "#636efa",
          "symbol": "circle"
         },
         "mode": "markers",
         "name": "",
         "orientation": "v",
         "showlegend": false,
         "type": "scatter",
         "x": [
          -10.076294898986816,
          -11.237818717956543,
          -12.233576774597168,
          -13.067222595214844,
          -13.826239585876465,
          -14.569409370422363,
          -15.091360092163086,
          -15.70770263671875,
          -16.200044631958008,
          -16.730880737304688,
          -9.77560806274414,
          -11.090672492980957,
          -12.125377655029297,
          -13.047730445861816,
          -13.760414123535156,
          -14.506841659545898,
          -15.111882209777832,
          -15.708831787109375,
          -16.25904083251953,
          -16.736268997192383,
          -10.185162544250488,
          -11.507905960083008,
          -12.694666862487793,
          -13.755352973937988,
          -14.661133766174316,
          -15.431336402893066,
          -16.239517211914062,
          -16.764780044555664,
          -17.304399490356445,
          -17.792097091674805,
          -10.299454689025879,
          -11.678874969482422,
          -12.77760124206543,
          -13.760313987731934,
          -14.641857147216797,
          -15.339583396911621,
          -15.975269317626953,
          -16.62262535095215,
          -17.25598907470703,
          -17.697824478149414,
          10.227086067199707,
          15.130178451538086,
          19.327117919921875,
          23.21351432800293,
          26.627538681030273,
          29.77161407470703,
          32.647605895996094,
          35.24763107299805,
          37.721214294433594,
          40.01148986816406,
          40.01148986816406,
          33.451759338378906,
          26.89203643798828,
          20.33233642578125,
          13.772618293762207,
          7.212897300720215,
          7.212897300720215,
          40.01148986816406,
          28.647628784179688,
          25.06328582763672,
          22.78388214111328,
          18.574766159057617,
          8.143967628479004,
          7.212896823883057
         ],
         "xaxis": "x",
         "y": [
          14.59609317779541,
          19.064144134521484,
          22.77271842956543,
          25.93376922607422,
          28.719852447509766,
          31.240633010864258,
          33.417381286621094,
          35.415924072265625,
          37.12036895751953,
          38.66497802734375,
          -7.323362827301025,
          -9.384407997131348,
          -11.208709716796875,
          -12.673336029052734,
          -14.080286026000977,
          -15.320876121520996,
          -16.495563507080078,
          -17.47771644592285,
          -18.352861404418945,
          -19.064640045166016,
          -10.676971435546875,
          -13.678009986877441,
          -16.282161712646484,
          -18.597932815551758,
          -20.620685577392578,
          -22.396440505981445,
          -24.012014389038086,
          -25.429676055908203,
          -26.686840057373047,
          -27.797311782836914,
          3.3927786350250244,
          4.4956135749816895,
          5.333649635314941,
          6.163644790649414,
          6.838150978088379,
          7.517537593841553,
          8.0649995803833,
          8.50920581817627,
          8.992034912109375,
          9.47509765625,
          0.14815935492515564,
          0.2118641585111618,
          0.307966947555542,
          0.31813347339630127,
          0.41375696659088135,
          0.5361869931221008,
          0.5639072060585022,
          0.5486547946929932,
          0.5802777409553528,
          0.5997533798217773,
          0.5997533798217773,
          0.0777575820684433,
          -0.4442451298236847,
          -0.9662429094314575,
          -1.4882405996322632,
          -2.010242462158203,
          -2.010241985321045,
          0.5997533798217773,
          -0.31255701184272766,
          -0.6001877188682556,
          -0.7813111543655396,
          -1.1148345470428467,
          -1.9363526105880737,
          -2.010242462158203
         ],
         "yaxis": "y"
        }
       ],
       "layout": {
        "legend": {
         "tracegroupgap": 0
        },
        "margin": {
         "t": 60
        },
        "template": {
         "data": {
          "bar": [
           {
            "error_x": {
             "color": "#2a3f5f"
            },
            "error_y": {
             "color": "#2a3f5f"
            },
            "marker": {
             "line": {
              "color": "#E5ECF6",
              "width": 0.5
             },
             "pattern": {
              "fillmode": "overlay",
              "size": 10,
              "solidity": 0.2
             }
            },
            "type": "bar"
           }
          ],
          "barpolar": [
           {
            "marker": {
             "line": {
              "color": "#E5ECF6",
              "width": 0.5
             },
             "pattern": {
              "fillmode": "overlay",
              "size": 10,
              "solidity": 0.2
             }
            },
            "type": "barpolar"
           }
          ],
          "carpet": [
           {
            "aaxis": {
             "endlinecolor": "#2a3f5f",
             "gridcolor": "white",
             "linecolor": "white",
             "minorgridcolor": "white",
             "startlinecolor": "#2a3f5f"
            },
            "baxis": {
             "endlinecolor": "#2a3f5f",
             "gridcolor": "white",
             "linecolor": "white",
             "minorgridcolor": "white",
             "startlinecolor": "#2a3f5f"
            },
            "type": "carpet"
           }
          ],
          "choropleth": [
           {
            "colorbar": {
             "outlinewidth": 0,
             "ticks": ""
            },
            "type": "choropleth"
           }
          ],
          "contour": [
           {
            "colorbar": {
             "outlinewidth": 0,
             "ticks": ""
            },
            "colorscale": [
             [
              0,
              "#0d0887"
             ],
             [
              0.1111111111111111,
              "#46039f"
             ],
             [
              0.2222222222222222,
              "#7201a8"
             ],
             [
              0.3333333333333333,
              "#9c179e"
             ],
             [
              0.4444444444444444,
              "#bd3786"
             ],
             [
              0.5555555555555556,
              "#d8576b"
             ],
             [
              0.6666666666666666,
              "#ed7953"
             ],
             [
              0.7777777777777778,
              "#fb9f3a"
             ],
             [
              0.8888888888888888,
              "#fdca26"
             ],
             [
              1,
              "#f0f921"
             ]
            ],
            "type": "contour"
           }
          ],
          "contourcarpet": [
           {
            "colorbar": {
             "outlinewidth": 0,
             "ticks": ""
            },
            "type": "contourcarpet"
           }
          ],
          "heatmap": [
           {
            "colorbar": {
             "outlinewidth": 0,
             "ticks": ""
            },
            "colorscale": [
             [
              0,
              "#0d0887"
             ],
             [
              0.1111111111111111,
              "#46039f"
             ],
             [
              0.2222222222222222,
              "#7201a8"
             ],
             [
              0.3333333333333333,
              "#9c179e"
             ],
             [
              0.4444444444444444,
              "#bd3786"
             ],
             [
              0.5555555555555556,
              "#d8576b"
             ],
             [
              0.6666666666666666,
              "#ed7953"
             ],
             [
              0.7777777777777778,
              "#fb9f3a"
             ],
             [
              0.8888888888888888,
              "#fdca26"
             ],
             [
              1,
              "#f0f921"
             ]
            ],
            "type": "heatmap"
           }
          ],
          "heatmapgl": [
           {
            "colorbar": {
             "outlinewidth": 0,
             "ticks": ""
            },
            "colorscale": [
             [
              0,
              "#0d0887"
             ],
             [
              0.1111111111111111,
              "#46039f"
             ],
             [
              0.2222222222222222,
              "#7201a8"
             ],
             [
              0.3333333333333333,
              "#9c179e"
             ],
             [
              0.4444444444444444,
              "#bd3786"
             ],
             [
              0.5555555555555556,
              "#d8576b"
             ],
             [
              0.6666666666666666,
              "#ed7953"
             ],
             [
              0.7777777777777778,
              "#fb9f3a"
             ],
             [
              0.8888888888888888,
              "#fdca26"
             ],
             [
              1,
              "#f0f921"
             ]
            ],
            "type": "heatmapgl"
           }
          ],
          "histogram": [
           {
            "marker": {
             "pattern": {
              "fillmode": "overlay",
              "size": 10,
              "solidity": 0.2
             }
            },
            "type": "histogram"
           }
          ],
          "histogram2d": [
           {
            "colorbar": {
             "outlinewidth": 0,
             "ticks": ""
            },
            "colorscale": [
             [
              0,
              "#0d0887"
             ],
             [
              0.1111111111111111,
              "#46039f"
             ],
             [
              0.2222222222222222,
              "#7201a8"
             ],
             [
              0.3333333333333333,
              "#9c179e"
             ],
             [
              0.4444444444444444,
              "#bd3786"
             ],
             [
              0.5555555555555556,
              "#d8576b"
             ],
             [
              0.6666666666666666,
              "#ed7953"
             ],
             [
              0.7777777777777778,
              "#fb9f3a"
             ],
             [
              0.8888888888888888,
              "#fdca26"
             ],
             [
              1,
              "#f0f921"
             ]
            ],
            "type": "histogram2d"
           }
          ],
          "histogram2dcontour": [
           {
            "colorbar": {
             "outlinewidth": 0,
             "ticks": ""
            },
            "colorscale": [
             [
              0,
              "#0d0887"
             ],
             [
              0.1111111111111111,
              "#46039f"
             ],
             [
              0.2222222222222222,
              "#7201a8"
             ],
             [
              0.3333333333333333,
              "#9c179e"
             ],
             [
              0.4444444444444444,
              "#bd3786"
             ],
             [
              0.5555555555555556,
              "#d8576b"
             ],
             [
              0.6666666666666666,
              "#ed7953"
             ],
             [
              0.7777777777777778,
              "#fb9f3a"
             ],
             [
              0.8888888888888888,
              "#fdca26"
             ],
             [
              1,
              "#f0f921"
             ]
            ],
            "type": "histogram2dcontour"
           }
          ],
          "mesh3d": [
           {
            "colorbar": {
             "outlinewidth": 0,
             "ticks": ""
            },
            "type": "mesh3d"
           }
          ],
          "parcoords": [
           {
            "line": {
             "colorbar": {
              "outlinewidth": 0,
              "ticks": ""
             }
            },
            "type": "parcoords"
           }
          ],
          "pie": [
           {
            "automargin": true,
            "type": "pie"
           }
          ],
          "scatter": [
           {
            "fillpattern": {
             "fillmode": "overlay",
             "size": 10,
             "solidity": 0.2
            },
            "type": "scatter"
           }
          ],
          "scatter3d": [
           {
            "line": {
             "colorbar": {
              "outlinewidth": 0,
              "ticks": ""
             }
            },
            "marker": {
             "colorbar": {
              "outlinewidth": 0,
              "ticks": ""
             }
            },
            "type": "scatter3d"
           }
          ],
          "scattercarpet": [
           {
            "marker": {
             "colorbar": {
              "outlinewidth": 0,
              "ticks": ""
             }
            },
            "type": "scattercarpet"
           }
          ],
          "scattergeo": [
           {
            "marker": {
             "colorbar": {
              "outlinewidth": 0,
              "ticks": ""
             }
            },
            "type": "scattergeo"
           }
          ],
          "scattergl": [
           {
            "marker": {
             "colorbar": {
              "outlinewidth": 0,
              "ticks": ""
             }
            },
            "type": "scattergl"
           }
          ],
          "scattermapbox": [
           {
            "marker": {
             "colorbar": {
              "outlinewidth": 0,
              "ticks": ""
             }
            },
            "type": "scattermapbox"
           }
          ],
          "scatterpolar": [
           {
            "marker": {
             "colorbar": {
              "outlinewidth": 0,
              "ticks": ""
             }
            },
            "type": "scatterpolar"
           }
          ],
          "scatterpolargl": [
           {
            "marker": {
             "colorbar": {
              "outlinewidth": 0,
              "ticks": ""
             }
            },
            "type": "scatterpolargl"
           }
          ],
          "scatterternary": [
           {
            "marker": {
             "colorbar": {
              "outlinewidth": 0,
              "ticks": ""
             }
            },
            "type": "scatterternary"
           }
          ],
          "surface": [
           {
            "colorbar": {
             "outlinewidth": 0,
             "ticks": ""
            },
            "colorscale": [
             [
              0,
              "#0d0887"
             ],
             [
              0.1111111111111111,
              "#46039f"
             ],
             [
              0.2222222222222222,
              "#7201a8"
             ],
             [
              0.3333333333333333,
              "#9c179e"
             ],
             [
              0.4444444444444444,
              "#bd3786"
             ],
             [
              0.5555555555555556,
              "#d8576b"
             ],
             [
              0.6666666666666666,
              "#ed7953"
             ],
             [
              0.7777777777777778,
              "#fb9f3a"
             ],
             [
              0.8888888888888888,
              "#fdca26"
             ],
             [
              1,
              "#f0f921"
             ]
            ],
            "type": "surface"
           }
          ],
          "table": [
           {
            "cells": {
             "fill": {
              "color": "#EBF0F8"
             },
             "line": {
              "color": "white"
             }
            },
            "header": {
             "fill": {
              "color": "#C8D4E3"
             },
             "line": {
              "color": "white"
             }
            },
            "type": "table"
           }
          ]
         },
         "layout": {
          "annotationdefaults": {
           "arrowcolor": "#2a3f5f",
           "arrowhead": 0,
           "arrowwidth": 1
          },
          "autotypenumbers": "strict",
          "coloraxis": {
           "colorbar": {
            "outlinewidth": 0,
            "ticks": ""
           }
          },
          "colorscale": {
           "diverging": [
            [
             0,
             "#8e0152"
            ],
            [
             0.1,
             "#c51b7d"
            ],
            [
             0.2,
             "#de77ae"
            ],
            [
             0.3,
             "#f1b6da"
            ],
            [
             0.4,
             "#fde0ef"
            ],
            [
             0.5,
             "#f7f7f7"
            ],
            [
             0.6,
             "#e6f5d0"
            ],
            [
             0.7,
             "#b8e186"
            ],
            [
             0.8,
             "#7fbc41"
            ],
            [
             0.9,
             "#4d9221"
            ],
            [
             1,
             "#276419"
            ]
           ],
           "sequential": [
            [
             0,
             "#0d0887"
            ],
            [
             0.1111111111111111,
             "#46039f"
            ],
            [
             0.2222222222222222,
             "#7201a8"
            ],
            [
             0.3333333333333333,
             "#9c179e"
            ],
            [
             0.4444444444444444,
             "#bd3786"
            ],
            [
             0.5555555555555556,
             "#d8576b"
            ],
            [
             0.6666666666666666,
             "#ed7953"
            ],
            [
             0.7777777777777778,
             "#fb9f3a"
            ],
            [
             0.8888888888888888,
             "#fdca26"
            ],
            [
             1,
             "#f0f921"
            ]
           ],
           "sequentialminus": [
            [
             0,
             "#0d0887"
            ],
            [
             0.1111111111111111,
             "#46039f"
            ],
            [
             0.2222222222222222,
             "#7201a8"
            ],
            [
             0.3333333333333333,
             "#9c179e"
            ],
            [
             0.4444444444444444,
             "#bd3786"
            ],
            [
             0.5555555555555556,
             "#d8576b"
            ],
            [
             0.6666666666666666,
             "#ed7953"
            ],
            [
             0.7777777777777778,
             "#fb9f3a"
            ],
            [
             0.8888888888888888,
             "#fdca26"
            ],
            [
             1,
             "#f0f921"
            ]
           ]
          },
          "colorway": [
           "#636efa",
           "#EF553B",
           "#00cc96",
           "#ab63fa",
           "#FFA15A",
           "#19d3f3",
           "#FF6692",
           "#B6E880",
           "#FF97FF",
           "#FECB52"
          ],
          "font": {
           "color": "#2a3f5f"
          },
          "geo": {
           "bgcolor": "white",
           "lakecolor": "white",
           "landcolor": "#E5ECF6",
           "showlakes": true,
           "showland": true,
           "subunitcolor": "white"
          },
          "hoverlabel": {
           "align": "left"
          },
          "hovermode": "closest",
          "mapbox": {
           "style": "light"
          },
          "paper_bgcolor": "white",
          "plot_bgcolor": "#E5ECF6",
          "polar": {
           "angularaxis": {
            "gridcolor": "white",
            "linecolor": "white",
            "ticks": ""
           },
           "bgcolor": "#E5ECF6",
           "radialaxis": {
            "gridcolor": "white",
            "linecolor": "white",
            "ticks": ""
           }
          },
          "scene": {
           "xaxis": {
            "backgroundcolor": "#E5ECF6",
            "gridcolor": "white",
            "gridwidth": 2,
            "linecolor": "white",
            "showbackground": true,
            "ticks": "",
            "zerolinecolor": "white"
           },
           "yaxis": {
            "backgroundcolor": "#E5ECF6",
            "gridcolor": "white",
            "gridwidth": 2,
            "linecolor": "white",
            "showbackground": true,
            "ticks": "",
            "zerolinecolor": "white"
           },
           "zaxis": {
            "backgroundcolor": "#E5ECF6",
            "gridcolor": "white",
            "gridwidth": 2,
            "linecolor": "white",
            "showbackground": true,
            "ticks": "",
            "zerolinecolor": "white"
           }
          },
          "shapedefaults": {
           "line": {
            "color": "#2a3f5f"
           }
          },
          "ternary": {
           "aaxis": {
            "gridcolor": "white",
            "linecolor": "white",
            "ticks": ""
           },
           "baxis": {
            "gridcolor": "white",
            "linecolor": "white",
            "ticks": ""
           },
           "bgcolor": "#E5ECF6",
           "caxis": {
            "gridcolor": "white",
            "linecolor": "white",
            "ticks": ""
           }
          },
          "title": {
           "x": 0.05
          },
          "xaxis": {
           "automargin": true,
           "gridcolor": "white",
           "linecolor": "white",
           "ticks": "",
           "title": {
            "standoff": 15
           },
           "zerolinecolor": "white",
           "zerolinewidth": 2
          },
          "yaxis": {
           "automargin": true,
           "gridcolor": "white",
           "linecolor": "white",
           "ticks": "",
           "title": {
            "standoff": 15
           },
           "zerolinecolor": "white",
           "zerolinewidth": 2
          }
         }
        },
        "xaxis": {
         "anchor": "y",
         "domain": [
          0,
          1
         ],
         "title": {
          "text": "0"
         }
        },
        "yaxis": {
         "anchor": "x",
         "domain": [
          0,
          1
         ],
         "title": {
          "text": "1"
         }
        }
       }
      }
     },
     "metadata": {},
     "output_type": "display_data"
    }
   ],
   "source": [
    "ilknoktalar51 = ilkdogrunoktalari51.copy()\n",
    "\n",
    "for i in range(7):\n",
    "    ilknoktalar51[i][0] = ilknoktalar51[i][0].flatten()\n",
    "    ilknoktalar51[i][1] = ilknoktalar51[i][1].flatten()\n",
    "    ilknoktalar51[i][2] = ilknoktalar51[i][2].flatten()\n",
    "    ilknoktalar51[i][3] = ilknoktalar51[i][3].flatten()\n",
    "    ilknoktalar51[i][4] = ilknoktalar51[i][4].flatten()\n",
    "\n",
    "Xaralist51= []\n",
    "for i in range(7):\n",
    "    Xaralist51.append(np.hstack((ilknoktalar51[i][0],ilknoktalar51[i][1],ilknoktalar51[i][2],ilknoktalar51[i][3],ilknoktalar51[i][4])))\n",
    "\n",
    "\n",
    "\n",
    "sonnoktalar51 = tümNoktalarim.copy()\n",
    "\n",
    "for i in range(7):\n",
    "    sonnoktalar51[i][0] = sonnoktalar51[i][0].flatten()\n",
    "    sonnoktalar51[i][1] = sonnoktalar51[i][1].flatten()\n",
    "    sonnoktalar51[i][2] = sonnoktalar51[i][2].flatten()\n",
    "    sonnoktalar51[i][3] = sonnoktalar51[i][3].flatten()\n",
    "    sonnoktalar51[i][4] = sonnoktalar51[i][4].flatten()\n",
    "\n",
    "Xsonaralist51= []\n",
    "for i in range(7):\n",
    "    Xsonaralist51.append(np.hstack((sonnoktalar51[i][0],sonnoktalar51[i][1],sonnoktalar51[i][2],sonnoktalar51[i][3],sonnoktalar51[i][4])))\n",
    "\n",
    "\n",
    "\n",
    "\n",
    "Xaralist51 = np.array(Xaralist51)\n",
    "Xsonaralist51 = np.array(Xsonaralist51)\n",
    "alldizi = np.vstack((Xlist,Xaralist51,Xsonaralist51))\n",
    "\n",
    "X = alldizi\n",
    "\n",
    "pca = PCA(n_components=2)\n",
    "components = pca.fit_transform(X)\n",
    "\n",
    "fig = px.scatter(components, x=0, y=1)\n",
    "fig.show()"
   ]
  },
  {
   "cell_type": "code",
   "execution_count": 403,
   "metadata": {},
   "outputs": [
    {
     "data": {
      "application/vnd.plotly.v1+json": {
       "config": {
        "plotlyServerURL": "https://plot.ly"
       },
       "data": [
        {
         "hovertemplate": "PC 1=%{x}<br>PC 2=%{y}<br>PC 3=%{z}<extra></extra>",
         "legendgroup": "",
         "marker": {
          "color": "#636efa",
          "symbol": "circle"
         },
         "mode": "markers",
         "name": "",
         "scene": "scene",
         "showlegend": false,
         "type": "scatter3d",
         "x": [
          -10.076305389404297,
          -11.237836837768555,
          -12.233601570129395,
          -13.067252159118652,
          -13.826276779174805,
          -14.569448471069336,
          -15.091395378112793,
          -15.707736015319824,
          -16.200084686279297,
          -16.73092269897461,
          -9.77558708190918,
          -11.090653419494629,
          -12.125351905822754,
          -13.047699928283691,
          -13.760380744934082,
          -14.506820678710938,
          -15.111849784851074,
          -15.708795547485352,
          -16.258995056152344,
          -16.7362060546875,
          -10.185136795043945,
          -11.507866859436035,
          -12.694622993469238,
          -13.755311012268066,
          -14.661075592041016,
          -15.431282043457031,
          -16.239463806152344,
          -16.764720916748047,
          -17.30432891845703,
          -17.79203224182129,
          -10.299459457397461,
          -11.678874015808105,
          -12.77761173248291,
          -13.760318756103516,
          -14.641860961914062,
          -15.33958911895752,
          -15.975269317626953,
          -16.62263298034668,
          -17.25598907470703,
          -17.697832107543945,
          10.227078437805176,
          15.130169868469238,
          19.32712173461914,
          23.213497161865234,
          26.62752914428711,
          29.771602630615234,
          32.64760208129883,
          35.24760437011719,
          37.72118377685547,
          40.01145553588867,
          40.01145553588867,
          33.45172119140625,
          26.89201545715332,
          20.332319259643555,
          13.772614479064941,
          7.212900638580322,
          7.212900638580322,
          40.01145553588867,
          28.647594451904297,
          25.063270568847656,
          22.78384780883789,
          18.57477569580078,
          8.143976211547852,
          7.2129011154174805
         ],
         "y": [
          14.596035957336426,
          19.064062118530273,
          22.77260971069336,
          25.933670043945312,
          28.719738006591797,
          31.240507125854492,
          33.41725158691406,
          35.41578674316406,
          37.120216369628906,
          38.66480255126953,
          -7.323378562927246,
          -9.384428024291992,
          -11.20872974395752,
          -12.67335319519043,
          -14.080313682556152,
          -15.320898056030273,
          -16.495582580566406,
          -17.477739334106445,
          -18.352890014648438,
          -19.064645767211914,
          -10.677042961120605,
          -13.678098678588867,
          -16.28224754333496,
          -18.598051071166992,
          -20.620807647705078,
          -22.396554946899414,
          -24.012147903442383,
          -25.429832458496094,
          -26.687021255493164,
          -27.79745864868164,
          3.3928658962249756,
          4.495730876922607,
          5.333786964416504,
          6.163804531097412,
          6.838337421417236,
          7.517727851867676,
          8.065218925476074,
          8.509441375732422,
          8.992268562316895,
          9.475358009338379,
          0.14815735816955566,
          0.2118653804063797,
          0.30796775221824646,
          0.318139910697937,
          0.41376805305480957,
          0.5361930131912231,
          0.5639214515686035,
          0.5486652851104736,
          0.5802934169769287,
          0.5997710227966309,
          0.5997710227966309,
          0.07778576761484146,
          -0.4442042410373688,
          -0.9661908149719238,
          -1.4881747961044312,
          -2.010171890258789,
          -2.0101687908172607,
          0.5997710227966309,
          -0.3125215768814087,
          -0.6001415848731995,
          -0.7812656164169312,
          -1.114774465560913,
          -1.9362775087356567,
          -2.01016902923584
         ],
         "z": [
          -4.056606769561768,
          -5.231106758117676,
          -6.285895347595215,
          -7.202232360839844,
          -7.902296543121338,
          -8.665504455566406,
          -9.354397773742676,
          -9.947245597839355,
          -10.352004051208496,
          -10.707972526550293,
          13.155049324035645,
          17.057373046875,
          20.274246215820312,
          23.073165893554688,
          25.628280639648438,
          27.778045654296875,
          29.754533767700195,
          31.543739318847656,
          33.03746795654297,
          34.449466705322266,
          -13.064414024353027,
          -16.803598403930664,
          -20.069944381713867,
          -22.98402976989746,
          -25.402788162231445,
          -27.596466064453125,
          -29.69249153137207,
          -31.446569442749023,
          -33.01835250854492,
          -34.316612243652344,
          4.6221113204956055,
          5.937346935272217,
          7.081334114074707,
          8.105500221252441,
          9.010767936706543,
          9.848989486694336,
          10.519743919372559,
          11.135169982910156,
          11.742645263671875,
          12.236465454101562,
          0.41681796312332153,
          0.5147061944007874,
          0.6040177941322327,
          0.6920040845870972,
          0.7472909688949585,
          0.7884833812713623,
          0.813794732093811,
          0.8783935904502869,
          0.9129010438919067,
          0.8804604411125183,
          0.8804604411125183,
          0.08952341228723526,
          -0.7014111876487732,
          -1.4923487901687622,
          -2.283290147781372,
          -3.074223041534424,
          -3.0742249488830566,
          0.8804604411125183,
          -0.4964618980884552,
          -0.9260580539703369,
          -1.1989109516143799,
          -1.7068004608154297,
          -2.9622979164123535,
          -3.0742266178131104
         ]
        }
       ],
       "layout": {
        "legend": {
         "tracegroupgap": 0
        },
        "scene": {
         "domain": {
          "x": [
           0,
           1
          ],
          "y": [
           0,
           1
          ]
         },
         "xaxis": {
          "title": {
           "text": "PC 1"
          }
         },
         "yaxis": {
          "title": {
           "text": "PC 2"
          }
         },
         "zaxis": {
          "title": {
           "text": "PC 3"
          }
         }
        },
        "template": {
         "data": {
          "bar": [
           {
            "error_x": {
             "color": "#2a3f5f"
            },
            "error_y": {
             "color": "#2a3f5f"
            },
            "marker": {
             "line": {
              "color": "#E5ECF6",
              "width": 0.5
             },
             "pattern": {
              "fillmode": "overlay",
              "size": 10,
              "solidity": 0.2
             }
            },
            "type": "bar"
           }
          ],
          "barpolar": [
           {
            "marker": {
             "line": {
              "color": "#E5ECF6",
              "width": 0.5
             },
             "pattern": {
              "fillmode": "overlay",
              "size": 10,
              "solidity": 0.2
             }
            },
            "type": "barpolar"
           }
          ],
          "carpet": [
           {
            "aaxis": {
             "endlinecolor": "#2a3f5f",
             "gridcolor": "white",
             "linecolor": "white",
             "minorgridcolor": "white",
             "startlinecolor": "#2a3f5f"
            },
            "baxis": {
             "endlinecolor": "#2a3f5f",
             "gridcolor": "white",
             "linecolor": "white",
             "minorgridcolor": "white",
             "startlinecolor": "#2a3f5f"
            },
            "type": "carpet"
           }
          ],
          "choropleth": [
           {
            "colorbar": {
             "outlinewidth": 0,
             "ticks": ""
            },
            "type": "choropleth"
           }
          ],
          "contour": [
           {
            "colorbar": {
             "outlinewidth": 0,
             "ticks": ""
            },
            "colorscale": [
             [
              0,
              "#0d0887"
             ],
             [
              0.1111111111111111,
              "#46039f"
             ],
             [
              0.2222222222222222,
              "#7201a8"
             ],
             [
              0.3333333333333333,
              "#9c179e"
             ],
             [
              0.4444444444444444,
              "#bd3786"
             ],
             [
              0.5555555555555556,
              "#d8576b"
             ],
             [
              0.6666666666666666,
              "#ed7953"
             ],
             [
              0.7777777777777778,
              "#fb9f3a"
             ],
             [
              0.8888888888888888,
              "#fdca26"
             ],
             [
              1,
              "#f0f921"
             ]
            ],
            "type": "contour"
           }
          ],
          "contourcarpet": [
           {
            "colorbar": {
             "outlinewidth": 0,
             "ticks": ""
            },
            "type": "contourcarpet"
           }
          ],
          "heatmap": [
           {
            "colorbar": {
             "outlinewidth": 0,
             "ticks": ""
            },
            "colorscale": [
             [
              0,
              "#0d0887"
             ],
             [
              0.1111111111111111,
              "#46039f"
             ],
             [
              0.2222222222222222,
              "#7201a8"
             ],
             [
              0.3333333333333333,
              "#9c179e"
             ],
             [
              0.4444444444444444,
              "#bd3786"
             ],
             [
              0.5555555555555556,
              "#d8576b"
             ],
             [
              0.6666666666666666,
              "#ed7953"
             ],
             [
              0.7777777777777778,
              "#fb9f3a"
             ],
             [
              0.8888888888888888,
              "#fdca26"
             ],
             [
              1,
              "#f0f921"
             ]
            ],
            "type": "heatmap"
           }
          ],
          "heatmapgl": [
           {
            "colorbar": {
             "outlinewidth": 0,
             "ticks": ""
            },
            "colorscale": [
             [
              0,
              "#0d0887"
             ],
             [
              0.1111111111111111,
              "#46039f"
             ],
             [
              0.2222222222222222,
              "#7201a8"
             ],
             [
              0.3333333333333333,
              "#9c179e"
             ],
             [
              0.4444444444444444,
              "#bd3786"
             ],
             [
              0.5555555555555556,
              "#d8576b"
             ],
             [
              0.6666666666666666,
              "#ed7953"
             ],
             [
              0.7777777777777778,
              "#fb9f3a"
             ],
             [
              0.8888888888888888,
              "#fdca26"
             ],
             [
              1,
              "#f0f921"
             ]
            ],
            "type": "heatmapgl"
           }
          ],
          "histogram": [
           {
            "marker": {
             "pattern": {
              "fillmode": "overlay",
              "size": 10,
              "solidity": 0.2
             }
            },
            "type": "histogram"
           }
          ],
          "histogram2d": [
           {
            "colorbar": {
             "outlinewidth": 0,
             "ticks": ""
            },
            "colorscale": [
             [
              0,
              "#0d0887"
             ],
             [
              0.1111111111111111,
              "#46039f"
             ],
             [
              0.2222222222222222,
              "#7201a8"
             ],
             [
              0.3333333333333333,
              "#9c179e"
             ],
             [
              0.4444444444444444,
              "#bd3786"
             ],
             [
              0.5555555555555556,
              "#d8576b"
             ],
             [
              0.6666666666666666,
              "#ed7953"
             ],
             [
              0.7777777777777778,
              "#fb9f3a"
             ],
             [
              0.8888888888888888,
              "#fdca26"
             ],
             [
              1,
              "#f0f921"
             ]
            ],
            "type": "histogram2d"
           }
          ],
          "histogram2dcontour": [
           {
            "colorbar": {
             "outlinewidth": 0,
             "ticks": ""
            },
            "colorscale": [
             [
              0,
              "#0d0887"
             ],
             [
              0.1111111111111111,
              "#46039f"
             ],
             [
              0.2222222222222222,
              "#7201a8"
             ],
             [
              0.3333333333333333,
              "#9c179e"
             ],
             [
              0.4444444444444444,
              "#bd3786"
             ],
             [
              0.5555555555555556,
              "#d8576b"
             ],
             [
              0.6666666666666666,
              "#ed7953"
             ],
             [
              0.7777777777777778,
              "#fb9f3a"
             ],
             [
              0.8888888888888888,
              "#fdca26"
             ],
             [
              1,
              "#f0f921"
             ]
            ],
            "type": "histogram2dcontour"
           }
          ],
          "mesh3d": [
           {
            "colorbar": {
             "outlinewidth": 0,
             "ticks": ""
            },
            "type": "mesh3d"
           }
          ],
          "parcoords": [
           {
            "line": {
             "colorbar": {
              "outlinewidth": 0,
              "ticks": ""
             }
            },
            "type": "parcoords"
           }
          ],
          "pie": [
           {
            "automargin": true,
            "type": "pie"
           }
          ],
          "scatter": [
           {
            "fillpattern": {
             "fillmode": "overlay",
             "size": 10,
             "solidity": 0.2
            },
            "type": "scatter"
           }
          ],
          "scatter3d": [
           {
            "line": {
             "colorbar": {
              "outlinewidth": 0,
              "ticks": ""
             }
            },
            "marker": {
             "colorbar": {
              "outlinewidth": 0,
              "ticks": ""
             }
            },
            "type": "scatter3d"
           }
          ],
          "scattercarpet": [
           {
            "marker": {
             "colorbar": {
              "outlinewidth": 0,
              "ticks": ""
             }
            },
            "type": "scattercarpet"
           }
          ],
          "scattergeo": [
           {
            "marker": {
             "colorbar": {
              "outlinewidth": 0,
              "ticks": ""
             }
            },
            "type": "scattergeo"
           }
          ],
          "scattergl": [
           {
            "marker": {
             "colorbar": {
              "outlinewidth": 0,
              "ticks": ""
             }
            },
            "type": "scattergl"
           }
          ],
          "scattermapbox": [
           {
            "marker": {
             "colorbar": {
              "outlinewidth": 0,
              "ticks": ""
             }
            },
            "type": "scattermapbox"
           }
          ],
          "scatterpolar": [
           {
            "marker": {
             "colorbar": {
              "outlinewidth": 0,
              "ticks": ""
             }
            },
            "type": "scatterpolar"
           }
          ],
          "scatterpolargl": [
           {
            "marker": {
             "colorbar": {
              "outlinewidth": 0,
              "ticks": ""
             }
            },
            "type": "scatterpolargl"
           }
          ],
          "scatterternary": [
           {
            "marker": {
             "colorbar": {
              "outlinewidth": 0,
              "ticks": ""
             }
            },
            "type": "scatterternary"
           }
          ],
          "surface": [
           {
            "colorbar": {
             "outlinewidth": 0,
             "ticks": ""
            },
            "colorscale": [
             [
              0,
              "#0d0887"
             ],
             [
              0.1111111111111111,
              "#46039f"
             ],
             [
              0.2222222222222222,
              "#7201a8"
             ],
             [
              0.3333333333333333,
              "#9c179e"
             ],
             [
              0.4444444444444444,
              "#bd3786"
             ],
             [
              0.5555555555555556,
              "#d8576b"
             ],
             [
              0.6666666666666666,
              "#ed7953"
             ],
             [
              0.7777777777777778,
              "#fb9f3a"
             ],
             [
              0.8888888888888888,
              "#fdca26"
             ],
             [
              1,
              "#f0f921"
             ]
            ],
            "type": "surface"
           }
          ],
          "table": [
           {
            "cells": {
             "fill": {
              "color": "#EBF0F8"
             },
             "line": {
              "color": "white"
             }
            },
            "header": {
             "fill": {
              "color": "#C8D4E3"
             },
             "line": {
              "color": "white"
             }
            },
            "type": "table"
           }
          ]
         },
         "layout": {
          "annotationdefaults": {
           "arrowcolor": "#2a3f5f",
           "arrowhead": 0,
           "arrowwidth": 1
          },
          "autotypenumbers": "strict",
          "coloraxis": {
           "colorbar": {
            "outlinewidth": 0,
            "ticks": ""
           }
          },
          "colorscale": {
           "diverging": [
            [
             0,
             "#8e0152"
            ],
            [
             0.1,
             "#c51b7d"
            ],
            [
             0.2,
             "#de77ae"
            ],
            [
             0.3,
             "#f1b6da"
            ],
            [
             0.4,
             "#fde0ef"
            ],
            [
             0.5,
             "#f7f7f7"
            ],
            [
             0.6,
             "#e6f5d0"
            ],
            [
             0.7,
             "#b8e186"
            ],
            [
             0.8,
             "#7fbc41"
            ],
            [
             0.9,
             "#4d9221"
            ],
            [
             1,
             "#276419"
            ]
           ],
           "sequential": [
            [
             0,
             "#0d0887"
            ],
            [
             0.1111111111111111,
             "#46039f"
            ],
            [
             0.2222222222222222,
             "#7201a8"
            ],
            [
             0.3333333333333333,
             "#9c179e"
            ],
            [
             0.4444444444444444,
             "#bd3786"
            ],
            [
             0.5555555555555556,
             "#d8576b"
            ],
            [
             0.6666666666666666,
             "#ed7953"
            ],
            [
             0.7777777777777778,
             "#fb9f3a"
            ],
            [
             0.8888888888888888,
             "#fdca26"
            ],
            [
             1,
             "#f0f921"
            ]
           ],
           "sequentialminus": [
            [
             0,
             "#0d0887"
            ],
            [
             0.1111111111111111,
             "#46039f"
            ],
            [
             0.2222222222222222,
             "#7201a8"
            ],
            [
             0.3333333333333333,
             "#9c179e"
            ],
            [
             0.4444444444444444,
             "#bd3786"
            ],
            [
             0.5555555555555556,
             "#d8576b"
            ],
            [
             0.6666666666666666,
             "#ed7953"
            ],
            [
             0.7777777777777778,
             "#fb9f3a"
            ],
            [
             0.8888888888888888,
             "#fdca26"
            ],
            [
             1,
             "#f0f921"
            ]
           ]
          },
          "colorway": [
           "#636efa",
           "#EF553B",
           "#00cc96",
           "#ab63fa",
           "#FFA15A",
           "#19d3f3",
           "#FF6692",
           "#B6E880",
           "#FF97FF",
           "#FECB52"
          ],
          "font": {
           "color": "#2a3f5f"
          },
          "geo": {
           "bgcolor": "white",
           "lakecolor": "white",
           "landcolor": "#E5ECF6",
           "showlakes": true,
           "showland": true,
           "subunitcolor": "white"
          },
          "hoverlabel": {
           "align": "left"
          },
          "hovermode": "closest",
          "mapbox": {
           "style": "light"
          },
          "paper_bgcolor": "white",
          "plot_bgcolor": "#E5ECF6",
          "polar": {
           "angularaxis": {
            "gridcolor": "white",
            "linecolor": "white",
            "ticks": ""
           },
           "bgcolor": "#E5ECF6",
           "radialaxis": {
            "gridcolor": "white",
            "linecolor": "white",
            "ticks": ""
           }
          },
          "scene": {
           "xaxis": {
            "backgroundcolor": "#E5ECF6",
            "gridcolor": "white",
            "gridwidth": 2,
            "linecolor": "white",
            "showbackground": true,
            "ticks": "",
            "zerolinecolor": "white"
           },
           "yaxis": {
            "backgroundcolor": "#E5ECF6",
            "gridcolor": "white",
            "gridwidth": 2,
            "linecolor": "white",
            "showbackground": true,
            "ticks": "",
            "zerolinecolor": "white"
           },
           "zaxis": {
            "backgroundcolor": "#E5ECF6",
            "gridcolor": "white",
            "gridwidth": 2,
            "linecolor": "white",
            "showbackground": true,
            "ticks": "",
            "zerolinecolor": "white"
           }
          },
          "shapedefaults": {
           "line": {
            "color": "#2a3f5f"
           }
          },
          "ternary": {
           "aaxis": {
            "gridcolor": "white",
            "linecolor": "white",
            "ticks": ""
           },
           "baxis": {
            "gridcolor": "white",
            "linecolor": "white",
            "ticks": ""
           },
           "bgcolor": "#E5ECF6",
           "caxis": {
            "gridcolor": "white",
            "linecolor": "white",
            "ticks": ""
           }
          },
          "title": {
           "x": 0.05
          },
          "xaxis": {
           "automargin": true,
           "gridcolor": "white",
           "linecolor": "white",
           "ticks": "",
           "title": {
            "standoff": 15
           },
           "zerolinecolor": "white",
           "zerolinewidth": 2
          },
          "yaxis": {
           "automargin": true,
           "gridcolor": "white",
           "linecolor": "white",
           "ticks": "",
           "title": {
            "standoff": 15
           },
           "zerolinecolor": "white",
           "zerolinewidth": 2
          }
         }
        },
        "title": {
         "text": "Total Explained Variance: 60.67%"
        }
       }
      }
     },
     "metadata": {},
     "output_type": "display_data"
    }
   ],
   "source": [
    "alldizi = np.vstack((Xlist,Xaralist51,Xsonaralist51))\n",
    "\n",
    "X = alldizi\n",
    "\n",
    "pca = PCA(n_components=3)\n",
    "components = pca.fit_transform(X)\n",
    "\n",
    "total_var = pca.explained_variance_ratio_.sum() * 100\n",
    "\n",
    "fig = px.scatter_3d(\n",
    "    components, x=0, y=1, z=2,\n",
    "    title=f'Total Explained Variance: {total_var:.2f}%',\n",
    "    labels={'0': 'PC 1', '1': 'PC 2', '2': 'PC 3'}\n",
    ")\n",
    "fig.show()"
   ]
  },
  {
   "attachments": {},
   "cell_type": "markdown",
   "metadata": {},
   "source": [
    "TÜM SON NOKTALARIN BİRLEŞTİRİLMİŞ GÖRÜNTÜSÜ"
   ]
  },
  {
   "cell_type": "code",
   "execution_count": 397,
   "metadata": {},
   "outputs": [
    {
     "data": {
      "application/vnd.plotly.v1+json": {
       "config": {
        "plotlyServerURL": "https://plot.ly"
       },
       "data": [
        {
         "hovertemplate": "0=%{x}<br>1=%{y}<extra></extra>",
         "legendgroup": "",
         "marker": {
          "color": "#636efa",
          "symbol": "circle"
         },
         "mode": "markers",
         "name": "",
         "orientation": "v",
         "showlegend": false,
         "type": "scatter",
         "x": [
          1.0394259691238403,
          1.412030816078186,
          1.7338021993637085,
          1.9363363981246948,
          2.147658109664917,
          2.281627655029297,
          2.4487721920013428,
          2.520399332046509,
          2.6085524559020996,
          2.6222729682922363,
          -8.41724681854248,
          -11.127542495727539,
          -13.47846508026123,
          -15.524246215820312,
          -17.358701705932617,
          -19.13385581970215,
          -20.765117645263672,
          -22.245193481445312,
          -23.629793167114258,
          -24.898378372192383,
          -8.682856559753418,
          -11.436470031738281,
          -13.915987968444824,
          -16.154438018798828,
          -18.151525497436523,
          -19.912290573120117,
          -21.703571319580078,
          -23.163949966430664,
          -24.54867935180664,
          -25.860876083374023,
          3.7062110900878906,
          4.79480504989624,
          5.770991325378418,
          6.672797679901123,
          7.438270092010498,
          8.267905235290527,
          8.962725639343262,
          9.529720306396484,
          10.001177787780762,
          10.606832504272461,
          13.082432746887207,
          17.06131362915039,
          20.505943298339844,
          23.632465362548828,
          26.469823837280273,
          29.03597068786621,
          31.38081932067871,
          33.49616241455078,
          35.554683685302734,
          37.449188232421875,
          1.9787403345108032,
          -7.261104106903076,
          -10.655911445617676,
          -12.369490623474121,
          -15.573884010314941,
          -24.008506774902344,
          -24.898378372192383,
          -24.898378372192383,
          -25.287952423095703,
          -25.430830001831055,
          -25.502105712890625,
          -25.597797393798828,
          -25.841888427734375,
          -25.860876083374023,
          -25.860876083374023,
          -13.768550872802734,
          -8.964457511901855,
          -6.2957444190979,
          -1.5830875635147095,
          9.924785614013672,
          10.606832504272461,
          10.606832504272461,
          19.72586441040039,
          23.22454071044922,
          25.02969741821289,
          28.445068359375,
          36.77241516113281,
          37.449188232421875,
          37.449188232421875,
          25.137922286987305,
          21.253469467163086,
          18.78734016418457,
          14.243270874023438,
          2.9839537143707275,
          1.9787403345108032
         ],
         "xaxis": "x",
         "y": [
          0.07812827080488205,
          0.02971697598695755,
          -0.1380283534526825,
          -0.16509976983070374,
          -0.19841240346431732,
          -0.3358752131462097,
          -0.3577479124069214,
          -0.44057831168174744,
          -0.4324387013912201,
          -0.43694281578063965,
          11.64887809753418,
          14.961255073547363,
          17.828750610351562,
          20.3417911529541,
          22.72548484802246,
          24.77266502380371,
          26.76151466369629,
          28.531766891479492,
          30.08601951599121,
          31.603113174438477,
          -7.361466407775879,
          -9.77342414855957,
          -11.93417739868164,
          -13.920822143554688,
          -15.583901405334473,
          -17.134065628051758,
          -18.607452392578125,
          -19.843772888183594,
          -21.027528762817383,
          -22.08338165283203,
          -9.973054885864258,
          -13.282891273498535,
          -16.158687591552734,
          -18.70212745666504,
          -20.98259925842285,
          -23.086666107177734,
          -24.982868194580078,
          -26.773588180541992,
          -28.32286262512207,
          -29.835317611694336,
          5.794471740722656,
          7.357090473175049,
          8.699251174926758,
          9.954973220825195,
          10.960355758666992,
          12.019730567932129,
          12.878204345703125,
          13.674395561218262,
          14.378732681274414,
          15.037128448486328,
          9.76353645324707,
          17.302412033081055,
          20.07465171813965,
          21.46428680419922,
          24.052520751953125,
          30.883220672607422,
          31.603113174438477,
          31.603113174438477,
          13.380973815917969,
          6.844688415527344,
          3.040503740310669,
          -3.823657274246216,
          -20.57062530517578,
          -22.08338165283203,
          -22.08338165283203,
          -24.72426414489746,
          -25.77701759338379,
          -26.345638275146484,
          -27.314062118530273,
          -29.696395874023438,
          -29.835317611694336,
          -29.835317611694336,
          -14.710474014282227,
          -8.904586791992188,
          -5.886469841003418,
          -0.126816526055336,
          13.892509460449219,
          15.037128448486328,
          15.037128448486328,
          13.230457305908203,
          12.664021492004395,
          12.301445007324219,
          11.615757942199707,
          9.914885520935059,
          9.76353645324707
         ],
         "yaxis": "y"
        }
       ],
       "layout": {
        "legend": {
         "tracegroupgap": 0
        },
        "margin": {
         "t": 60
        },
        "template": {
         "data": {
          "bar": [
           {
            "error_x": {
             "color": "#2a3f5f"
            },
            "error_y": {
             "color": "#2a3f5f"
            },
            "marker": {
             "line": {
              "color": "#E5ECF6",
              "width": 0.5
             },
             "pattern": {
              "fillmode": "overlay",
              "size": 10,
              "solidity": 0.2
             }
            },
            "type": "bar"
           }
          ],
          "barpolar": [
           {
            "marker": {
             "line": {
              "color": "#E5ECF6",
              "width": 0.5
             },
             "pattern": {
              "fillmode": "overlay",
              "size": 10,
              "solidity": 0.2
             }
            },
            "type": "barpolar"
           }
          ],
          "carpet": [
           {
            "aaxis": {
             "endlinecolor": "#2a3f5f",
             "gridcolor": "white",
             "linecolor": "white",
             "minorgridcolor": "white",
             "startlinecolor": "#2a3f5f"
            },
            "baxis": {
             "endlinecolor": "#2a3f5f",
             "gridcolor": "white",
             "linecolor": "white",
             "minorgridcolor": "white",
             "startlinecolor": "#2a3f5f"
            },
            "type": "carpet"
           }
          ],
          "choropleth": [
           {
            "colorbar": {
             "outlinewidth": 0,
             "ticks": ""
            },
            "type": "choropleth"
           }
          ],
          "contour": [
           {
            "colorbar": {
             "outlinewidth": 0,
             "ticks": ""
            },
            "colorscale": [
             [
              0,
              "#0d0887"
             ],
             [
              0.1111111111111111,
              "#46039f"
             ],
             [
              0.2222222222222222,
              "#7201a8"
             ],
             [
              0.3333333333333333,
              "#9c179e"
             ],
             [
              0.4444444444444444,
              "#bd3786"
             ],
             [
              0.5555555555555556,
              "#d8576b"
             ],
             [
              0.6666666666666666,
              "#ed7953"
             ],
             [
              0.7777777777777778,
              "#fb9f3a"
             ],
             [
              0.8888888888888888,
              "#fdca26"
             ],
             [
              1,
              "#f0f921"
             ]
            ],
            "type": "contour"
           }
          ],
          "contourcarpet": [
           {
            "colorbar": {
             "outlinewidth": 0,
             "ticks": ""
            },
            "type": "contourcarpet"
           }
          ],
          "heatmap": [
           {
            "colorbar": {
             "outlinewidth": 0,
             "ticks": ""
            },
            "colorscale": [
             [
              0,
              "#0d0887"
             ],
             [
              0.1111111111111111,
              "#46039f"
             ],
             [
              0.2222222222222222,
              "#7201a8"
             ],
             [
              0.3333333333333333,
              "#9c179e"
             ],
             [
              0.4444444444444444,
              "#bd3786"
             ],
             [
              0.5555555555555556,
              "#d8576b"
             ],
             [
              0.6666666666666666,
              "#ed7953"
             ],
             [
              0.7777777777777778,
              "#fb9f3a"
             ],
             [
              0.8888888888888888,
              "#fdca26"
             ],
             [
              1,
              "#f0f921"
             ]
            ],
            "type": "heatmap"
           }
          ],
          "heatmapgl": [
           {
            "colorbar": {
             "outlinewidth": 0,
             "ticks": ""
            },
            "colorscale": [
             [
              0,
              "#0d0887"
             ],
             [
              0.1111111111111111,
              "#46039f"
             ],
             [
              0.2222222222222222,
              "#7201a8"
             ],
             [
              0.3333333333333333,
              "#9c179e"
             ],
             [
              0.4444444444444444,
              "#bd3786"
             ],
             [
              0.5555555555555556,
              "#d8576b"
             ],
             [
              0.6666666666666666,
              "#ed7953"
             ],
             [
              0.7777777777777778,
              "#fb9f3a"
             ],
             [
              0.8888888888888888,
              "#fdca26"
             ],
             [
              1,
              "#f0f921"
             ]
            ],
            "type": "heatmapgl"
           }
          ],
          "histogram": [
           {
            "marker": {
             "pattern": {
              "fillmode": "overlay",
              "size": 10,
              "solidity": 0.2
             }
            },
            "type": "histogram"
           }
          ],
          "histogram2d": [
           {
            "colorbar": {
             "outlinewidth": 0,
             "ticks": ""
            },
            "colorscale": [
             [
              0,
              "#0d0887"
             ],
             [
              0.1111111111111111,
              "#46039f"
             ],
             [
              0.2222222222222222,
              "#7201a8"
             ],
             [
              0.3333333333333333,
              "#9c179e"
             ],
             [
              0.4444444444444444,
              "#bd3786"
             ],
             [
              0.5555555555555556,
              "#d8576b"
             ],
             [
              0.6666666666666666,
              "#ed7953"
             ],
             [
              0.7777777777777778,
              "#fb9f3a"
             ],
             [
              0.8888888888888888,
              "#fdca26"
             ],
             [
              1,
              "#f0f921"
             ]
            ],
            "type": "histogram2d"
           }
          ],
          "histogram2dcontour": [
           {
            "colorbar": {
             "outlinewidth": 0,
             "ticks": ""
            },
            "colorscale": [
             [
              0,
              "#0d0887"
             ],
             [
              0.1111111111111111,
              "#46039f"
             ],
             [
              0.2222222222222222,
              "#7201a8"
             ],
             [
              0.3333333333333333,
              "#9c179e"
             ],
             [
              0.4444444444444444,
              "#bd3786"
             ],
             [
              0.5555555555555556,
              "#d8576b"
             ],
             [
              0.6666666666666666,
              "#ed7953"
             ],
             [
              0.7777777777777778,
              "#fb9f3a"
             ],
             [
              0.8888888888888888,
              "#fdca26"
             ],
             [
              1,
              "#f0f921"
             ]
            ],
            "type": "histogram2dcontour"
           }
          ],
          "mesh3d": [
           {
            "colorbar": {
             "outlinewidth": 0,
             "ticks": ""
            },
            "type": "mesh3d"
           }
          ],
          "parcoords": [
           {
            "line": {
             "colorbar": {
              "outlinewidth": 0,
              "ticks": ""
             }
            },
            "type": "parcoords"
           }
          ],
          "pie": [
           {
            "automargin": true,
            "type": "pie"
           }
          ],
          "scatter": [
           {
            "fillpattern": {
             "fillmode": "overlay",
             "size": 10,
             "solidity": 0.2
            },
            "type": "scatter"
           }
          ],
          "scatter3d": [
           {
            "line": {
             "colorbar": {
              "outlinewidth": 0,
              "ticks": ""
             }
            },
            "marker": {
             "colorbar": {
              "outlinewidth": 0,
              "ticks": ""
             }
            },
            "type": "scatter3d"
           }
          ],
          "scattercarpet": [
           {
            "marker": {
             "colorbar": {
              "outlinewidth": 0,
              "ticks": ""
             }
            },
            "type": "scattercarpet"
           }
          ],
          "scattergeo": [
           {
            "marker": {
             "colorbar": {
              "outlinewidth": 0,
              "ticks": ""
             }
            },
            "type": "scattergeo"
           }
          ],
          "scattergl": [
           {
            "marker": {
             "colorbar": {
              "outlinewidth": 0,
              "ticks": ""
             }
            },
            "type": "scattergl"
           }
          ],
          "scattermapbox": [
           {
            "marker": {
             "colorbar": {
              "outlinewidth": 0,
              "ticks": ""
             }
            },
            "type": "scattermapbox"
           }
          ],
          "scatterpolar": [
           {
            "marker": {
             "colorbar": {
              "outlinewidth": 0,
              "ticks": ""
             }
            },
            "type": "scatterpolar"
           }
          ],
          "scatterpolargl": [
           {
            "marker": {
             "colorbar": {
              "outlinewidth": 0,
              "ticks": ""
             }
            },
            "type": "scatterpolargl"
           }
          ],
          "scatterternary": [
           {
            "marker": {
             "colorbar": {
              "outlinewidth": 0,
              "ticks": ""
             }
            },
            "type": "scatterternary"
           }
          ],
          "surface": [
           {
            "colorbar": {
             "outlinewidth": 0,
             "ticks": ""
            },
            "colorscale": [
             [
              0,
              "#0d0887"
             ],
             [
              0.1111111111111111,
              "#46039f"
             ],
             [
              0.2222222222222222,
              "#7201a8"
             ],
             [
              0.3333333333333333,
              "#9c179e"
             ],
             [
              0.4444444444444444,
              "#bd3786"
             ],
             [
              0.5555555555555556,
              "#d8576b"
             ],
             [
              0.6666666666666666,
              "#ed7953"
             ],
             [
              0.7777777777777778,
              "#fb9f3a"
             ],
             [
              0.8888888888888888,
              "#fdca26"
             ],
             [
              1,
              "#f0f921"
             ]
            ],
            "type": "surface"
           }
          ],
          "table": [
           {
            "cells": {
             "fill": {
              "color": "#EBF0F8"
             },
             "line": {
              "color": "white"
             }
            },
            "header": {
             "fill": {
              "color": "#C8D4E3"
             },
             "line": {
              "color": "white"
             }
            },
            "type": "table"
           }
          ]
         },
         "layout": {
          "annotationdefaults": {
           "arrowcolor": "#2a3f5f",
           "arrowhead": 0,
           "arrowwidth": 1
          },
          "autotypenumbers": "strict",
          "coloraxis": {
           "colorbar": {
            "outlinewidth": 0,
            "ticks": ""
           }
          },
          "colorscale": {
           "diverging": [
            [
             0,
             "#8e0152"
            ],
            [
             0.1,
             "#c51b7d"
            ],
            [
             0.2,
             "#de77ae"
            ],
            [
             0.3,
             "#f1b6da"
            ],
            [
             0.4,
             "#fde0ef"
            ],
            [
             0.5,
             "#f7f7f7"
            ],
            [
             0.6,
             "#e6f5d0"
            ],
            [
             0.7,
             "#b8e186"
            ],
            [
             0.8,
             "#7fbc41"
            ],
            [
             0.9,
             "#4d9221"
            ],
            [
             1,
             "#276419"
            ]
           ],
           "sequential": [
            [
             0,
             "#0d0887"
            ],
            [
             0.1111111111111111,
             "#46039f"
            ],
            [
             0.2222222222222222,
             "#7201a8"
            ],
            [
             0.3333333333333333,
             "#9c179e"
            ],
            [
             0.4444444444444444,
             "#bd3786"
            ],
            [
             0.5555555555555556,
             "#d8576b"
            ],
            [
             0.6666666666666666,
             "#ed7953"
            ],
            [
             0.7777777777777778,
             "#fb9f3a"
            ],
            [
             0.8888888888888888,
             "#fdca26"
            ],
            [
             1,
             "#f0f921"
            ]
           ],
           "sequentialminus": [
            [
             0,
             "#0d0887"
            ],
            [
             0.1111111111111111,
             "#46039f"
            ],
            [
             0.2222222222222222,
             "#7201a8"
            ],
            [
             0.3333333333333333,
             "#9c179e"
            ],
            [
             0.4444444444444444,
             "#bd3786"
            ],
            [
             0.5555555555555556,
             "#d8576b"
            ],
            [
             0.6666666666666666,
             "#ed7953"
            ],
            [
             0.7777777777777778,
             "#fb9f3a"
            ],
            [
             0.8888888888888888,
             "#fdca26"
            ],
            [
             1,
             "#f0f921"
            ]
           ]
          },
          "colorway": [
           "#636efa",
           "#EF553B",
           "#00cc96",
           "#ab63fa",
           "#FFA15A",
           "#19d3f3",
           "#FF6692",
           "#B6E880",
           "#FF97FF",
           "#FECB52"
          ],
          "font": {
           "color": "#2a3f5f"
          },
          "geo": {
           "bgcolor": "white",
           "lakecolor": "white",
           "landcolor": "#E5ECF6",
           "showlakes": true,
           "showland": true,
           "subunitcolor": "white"
          },
          "hoverlabel": {
           "align": "left"
          },
          "hovermode": "closest",
          "mapbox": {
           "style": "light"
          },
          "paper_bgcolor": "white",
          "plot_bgcolor": "#E5ECF6",
          "polar": {
           "angularaxis": {
            "gridcolor": "white",
            "linecolor": "white",
            "ticks": ""
           },
           "bgcolor": "#E5ECF6",
           "radialaxis": {
            "gridcolor": "white",
            "linecolor": "white",
            "ticks": ""
           }
          },
          "scene": {
           "xaxis": {
            "backgroundcolor": "#E5ECF6",
            "gridcolor": "white",
            "gridwidth": 2,
            "linecolor": "white",
            "showbackground": true,
            "ticks": "",
            "zerolinecolor": "white"
           },
           "yaxis": {
            "backgroundcolor": "#E5ECF6",
            "gridcolor": "white",
            "gridwidth": 2,
            "linecolor": "white",
            "showbackground": true,
            "ticks": "",
            "zerolinecolor": "white"
           },
           "zaxis": {
            "backgroundcolor": "#E5ECF6",
            "gridcolor": "white",
            "gridwidth": 2,
            "linecolor": "white",
            "showbackground": true,
            "ticks": "",
            "zerolinecolor": "white"
           }
          },
          "shapedefaults": {
           "line": {
            "color": "#2a3f5f"
           }
          },
          "ternary": {
           "aaxis": {
            "gridcolor": "white",
            "linecolor": "white",
            "ticks": ""
           },
           "baxis": {
            "gridcolor": "white",
            "linecolor": "white",
            "ticks": ""
           },
           "bgcolor": "#E5ECF6",
           "caxis": {
            "gridcolor": "white",
            "linecolor": "white",
            "ticks": ""
           }
          },
          "title": {
           "x": 0.05
          },
          "xaxis": {
           "automargin": true,
           "gridcolor": "white",
           "linecolor": "white",
           "ticks": "",
           "title": {
            "standoff": 15
           },
           "zerolinecolor": "white",
           "zerolinewidth": 2
          },
          "yaxis": {
           "automargin": true,
           "gridcolor": "white",
           "linecolor": "white",
           "ticks": "",
           "title": {
            "standoff": 15
           },
           "zerolinecolor": "white",
           "zerolinewidth": 2
          }
         }
        },
        "xaxis": {
         "anchor": "y",
         "domain": [
          0,
          1
         ],
         "title": {
          "text": "0"
         }
        },
        "yaxis": {
         "anchor": "x",
         "domain": [
          0,
          1
         ],
         "title": {
          "text": "1"
         }
        }
       }
      }
     },
     "metadata": {},
     "output_type": "display_data"
    }
   ],
   "source": [
    "alldizi = np.vstack((Xlist,Xsonaralist12,Xsonaralist23,Xsonaralist34,Xsonaralist45,Xsonaralist51))\n",
    "\n",
    "X = alldizi\n",
    "\n",
    "pca = PCA(n_components=2)\n",
    "components = pca.fit_transform(X)\n",
    "\n",
    "fig = px.scatter(components, x=0, y=1)\n",
    "fig.show()"
   ]
  },
  {
   "cell_type": "code",
   "execution_count": 404,
   "metadata": {},
   "outputs": [
    {
     "data": {
      "application/vnd.plotly.v1+json": {
       "config": {
        "plotlyServerURL": "https://plot.ly"
       },
       "data": [
        {
         "hovertemplate": "PC 1=%{x}<br>PC 2=%{y}<br>PC 3=%{z}<extra></extra>",
         "legendgroup": "",
         "marker": {
          "color": "#636efa",
          "symbol": "circle"
         },
         "mode": "markers",
         "name": "",
         "scene": "scene",
         "showlegend": false,
         "type": "scatter3d",
         "x": [
          1.0394213199615479,
          1.412032961845398,
          1.7338104248046875,
          1.936339020729065,
          2.1476588249206543,
          2.2816293239593506,
          2.448775291442871,
          2.5204029083251953,
          2.608556032180786,
          2.6222758293151855,
          -8.417291641235352,
          -11.127595901489258,
          -13.47852611541748,
          -15.524314880371094,
          -17.358781814575195,
          -19.13393783569336,
          -20.765209197998047,
          -22.24530029296875,
          -23.62990379333496,
          -24.898479461669922,
          -8.682822227478027,
          -11.436421394348145,
          -13.915934562683105,
          -16.15437126159668,
          -18.151445388793945,
          -19.912206649780273,
          -21.70347785949707,
          -23.16385841369629,
          -24.5485897064209,
          -25.860759735107422,
          3.706235885620117,
          4.79482889175415,
          5.771024703979492,
          6.67282772064209,
          7.438307762145996,
          8.267956733703613,
          8.962784767150879,
          9.52978801727295,
          10.00123119354248,
          10.606888771057129,
          13.082420349121094,
          17.061302185058594,
          20.50592041015625,
          23.632444381713867,
          26.469791412353516,
          29.035924911499023,
          31.380786895751953,
          33.49614715576172,
          35.554649353027344,
          37.449153900146484,
          1.9787086248397827,
          -7.261154651641846,
          -10.655984878540039,
          -12.369563102722168,
          -15.57397174835205,
          -24.008630752563477,
          -24.898479461669922,
          -24.898479461669922,
          -25.287986755371094,
          -25.430837631225586,
          -25.502098083496094,
          -25.597753524780273,
          -25.84177589416504,
          -25.860759735107422,
          -25.860759735107422,
          -13.768462181091309,
          -8.964371681213379,
          -6.295658111572266,
          -1.5830219984054565,
          9.924856185913086,
          10.606888771057129,
          10.606888771057129,
          19.725887298583984,
          23.224567413330078,
          25.029706954956055,
          28.445064544677734,
          36.77237319946289,
          37.449153900146484,
          37.449153900146484,
          25.137882232666016,
          21.253429412841797,
          18.787307739257812,
          14.243242263793945,
          2.9839224815368652,
          1.9787086248397827
         ],
         "y": [
          0.07812489569187164,
          0.029721233993768692,
          -0.1380304992198944,
          -0.16509446501731873,
          -0.19840532541275024,
          -0.33586880564689636,
          -0.357743501663208,
          -0.4405730068683624,
          -0.43243086338043213,
          -0.43693554401397705,
          11.64885425567627,
          14.961225509643555,
          17.828704833984375,
          20.34173583984375,
          22.72542953491211,
          24.772602081298828,
          26.761457443237305,
          28.531709671020508,
          30.08595085144043,
          31.6030330657959,
          -7.361476421356201,
          -9.773441314697266,
          -11.934187889099121,
          -13.920845031738281,
          -15.583915710449219,
          -17.13408660888672,
          -18.607458114624023,
          -19.843807220458984,
          -21.027570724487305,
          -22.08340835571289,
          -9.973064422607422,
          -13.282901763916016,
          -16.158700942993164,
          -18.702138900756836,
          -20.98261070251465,
          -23.08670425415039,
          -24.982891082763672,
          -26.773618698120117,
          -28.3228816986084,
          -29.83536148071289,
          5.7945122718811035,
          7.35714864730835,
          8.699318885803223,
          9.95504093170166,
          10.960436820983887,
          12.019819259643555,
          12.87830638885498,
          13.674520492553711,
          14.378839492797852,
          15.037254333496094,
          9.763537406921387,
          17.30238151550293,
          20.07462501525879,
          21.4642391204834,
          24.052478790283203,
          30.883163452148438,
          31.6030330657959,
          31.6030330657959,
          13.380921363830566,
          6.84462833404541,
          3.0404553413391113,
          -3.8237030506134033,
          -20.57065773010254,
          -22.08340835571289,
          -22.08340835571289,
          -24.72429847717285,
          -25.777057647705078,
          -26.345657348632812,
          -27.314111709594727,
          -29.696414947509766,
          -29.83536148071289,
          -29.83536148071289,
          -14.710445404052734,
          -8.904552459716797,
          -5.886423587799072,
          -0.1267513930797577,
          13.892633438110352,
          15.037254333496094,
          15.037254333496094,
          13.230534553527832,
          12.664081573486328,
          12.30151081085205,
          11.615801811218262,
          9.91489315032959,
          9.763537406921387
         ],
         "z": [
          1.1802650690078735,
          1.4781255722045898,
          1.7034978866577148,
          1.8190546035766602,
          2.0554938316345215,
          2.212156057357788,
          2.223633289337158,
          2.343616485595703,
          2.5094175338745117,
          2.679816961288452,
          6.329305648803711,
          8.360309600830078,
          10.003961563110352,
          11.512642860412598,
          12.830928802490234,
          13.989712715148926,
          15.03745174407959,
          16.0421085357666,
          16.93268394470215,
          17.828840255737305,
          -11.137642860412598,
          -14.535490989685059,
          -17.54636573791504,
          -20.26211166381836,
          -22.60228157043457,
          -24.741750717163086,
          -26.79090690612793,
          -28.650041580200195,
          -30.31499671936035,
          -31.777111053466797,
          11.37816047668457,
          14.843771934509277,
          17.827844619750977,
          20.516910552978516,
          22.887325286865234,
          25.111940383911133,
          27.019489288330078,
          28.827150344848633,
          30.52959632873535,
          32.077850341796875,
          -6.824833393096924,
          -8.972038269042969,
          -10.79741382598877,
          -12.482606887817383,
          -13.939432144165039,
          -15.316435813903809,
          -16.556066513061523,
          -17.64499855041504,
          -18.680944442749023,
          -19.70180320739746,
          -0.01092393510043621,
          6.119375705718994,
          8.375587463378906,
          9.516175270080566,
          11.640958786010742,
          17.235509872436523,
          17.828840255737305,
          17.828840255737305,
          0.9706331491470337,
          -5.078082084655762,
          -8.599543571472168,
          -14.93049430847168,
          -30.384374618530273,
          -31.777111053466797,
          -31.777111053466797,
          -10.56832504272461,
          -2.150371551513672,
          2.5126211643218994,
          10.750612258911133,
          30.882122039794922,
          32.077850341796875,
          32.077850341796875,
          14.607592582702637,
          7.907636642456055,
          4.425699234008789,
          -2.2111315727233887,
          -18.38237953186035,
          -19.70180320739746,
          -19.70180320739746,
          -12.863140106201172,
          -10.704338073730469,
          -9.337523460388184,
          -6.818820953369141,
          -0.567530632019043,
          -0.01092393510043621
         ]
        }
       ],
       "layout": {
        "legend": {
         "tracegroupgap": 0
        },
        "scene": {
         "domain": {
          "x": [
           0,
           1
          ],
          "y": [
           0,
           1
          ]
         },
         "xaxis": {
          "title": {
           "text": "PC 1"
          }
         },
         "yaxis": {
          "title": {
           "text": "PC 2"
          }
         },
         "zaxis": {
          "title": {
           "text": "PC 3"
          }
         }
        },
        "template": {
         "data": {
          "bar": [
           {
            "error_x": {
             "color": "#2a3f5f"
            },
            "error_y": {
             "color": "#2a3f5f"
            },
            "marker": {
             "line": {
              "color": "#E5ECF6",
              "width": 0.5
             },
             "pattern": {
              "fillmode": "overlay",
              "size": 10,
              "solidity": 0.2
             }
            },
            "type": "bar"
           }
          ],
          "barpolar": [
           {
            "marker": {
             "line": {
              "color": "#E5ECF6",
              "width": 0.5
             },
             "pattern": {
              "fillmode": "overlay",
              "size": 10,
              "solidity": 0.2
             }
            },
            "type": "barpolar"
           }
          ],
          "carpet": [
           {
            "aaxis": {
             "endlinecolor": "#2a3f5f",
             "gridcolor": "white",
             "linecolor": "white",
             "minorgridcolor": "white",
             "startlinecolor": "#2a3f5f"
            },
            "baxis": {
             "endlinecolor": "#2a3f5f",
             "gridcolor": "white",
             "linecolor": "white",
             "minorgridcolor": "white",
             "startlinecolor": "#2a3f5f"
            },
            "type": "carpet"
           }
          ],
          "choropleth": [
           {
            "colorbar": {
             "outlinewidth": 0,
             "ticks": ""
            },
            "type": "choropleth"
           }
          ],
          "contour": [
           {
            "colorbar": {
             "outlinewidth": 0,
             "ticks": ""
            },
            "colorscale": [
             [
              0,
              "#0d0887"
             ],
             [
              0.1111111111111111,
              "#46039f"
             ],
             [
              0.2222222222222222,
              "#7201a8"
             ],
             [
              0.3333333333333333,
              "#9c179e"
             ],
             [
              0.4444444444444444,
              "#bd3786"
             ],
             [
              0.5555555555555556,
              "#d8576b"
             ],
             [
              0.6666666666666666,
              "#ed7953"
             ],
             [
              0.7777777777777778,
              "#fb9f3a"
             ],
             [
              0.8888888888888888,
              "#fdca26"
             ],
             [
              1,
              "#f0f921"
             ]
            ],
            "type": "contour"
           }
          ],
          "contourcarpet": [
           {
            "colorbar": {
             "outlinewidth": 0,
             "ticks": ""
            },
            "type": "contourcarpet"
           }
          ],
          "heatmap": [
           {
            "colorbar": {
             "outlinewidth": 0,
             "ticks": ""
            },
            "colorscale": [
             [
              0,
              "#0d0887"
             ],
             [
              0.1111111111111111,
              "#46039f"
             ],
             [
              0.2222222222222222,
              "#7201a8"
             ],
             [
              0.3333333333333333,
              "#9c179e"
             ],
             [
              0.4444444444444444,
              "#bd3786"
             ],
             [
              0.5555555555555556,
              "#d8576b"
             ],
             [
              0.6666666666666666,
              "#ed7953"
             ],
             [
              0.7777777777777778,
              "#fb9f3a"
             ],
             [
              0.8888888888888888,
              "#fdca26"
             ],
             [
              1,
              "#f0f921"
             ]
            ],
            "type": "heatmap"
           }
          ],
          "heatmapgl": [
           {
            "colorbar": {
             "outlinewidth": 0,
             "ticks": ""
            },
            "colorscale": [
             [
              0,
              "#0d0887"
             ],
             [
              0.1111111111111111,
              "#46039f"
             ],
             [
              0.2222222222222222,
              "#7201a8"
             ],
             [
              0.3333333333333333,
              "#9c179e"
             ],
             [
              0.4444444444444444,
              "#bd3786"
             ],
             [
              0.5555555555555556,
              "#d8576b"
             ],
             [
              0.6666666666666666,
              "#ed7953"
             ],
             [
              0.7777777777777778,
              "#fb9f3a"
             ],
             [
              0.8888888888888888,
              "#fdca26"
             ],
             [
              1,
              "#f0f921"
             ]
            ],
            "type": "heatmapgl"
           }
          ],
          "histogram": [
           {
            "marker": {
             "pattern": {
              "fillmode": "overlay",
              "size": 10,
              "solidity": 0.2
             }
            },
            "type": "histogram"
           }
          ],
          "histogram2d": [
           {
            "colorbar": {
             "outlinewidth": 0,
             "ticks": ""
            },
            "colorscale": [
             [
              0,
              "#0d0887"
             ],
             [
              0.1111111111111111,
              "#46039f"
             ],
             [
              0.2222222222222222,
              "#7201a8"
             ],
             [
              0.3333333333333333,
              "#9c179e"
             ],
             [
              0.4444444444444444,
              "#bd3786"
             ],
             [
              0.5555555555555556,
              "#d8576b"
             ],
             [
              0.6666666666666666,
              "#ed7953"
             ],
             [
              0.7777777777777778,
              "#fb9f3a"
             ],
             [
              0.8888888888888888,
              "#fdca26"
             ],
             [
              1,
              "#f0f921"
             ]
            ],
            "type": "histogram2d"
           }
          ],
          "histogram2dcontour": [
           {
            "colorbar": {
             "outlinewidth": 0,
             "ticks": ""
            },
            "colorscale": [
             [
              0,
              "#0d0887"
             ],
             [
              0.1111111111111111,
              "#46039f"
             ],
             [
              0.2222222222222222,
              "#7201a8"
             ],
             [
              0.3333333333333333,
              "#9c179e"
             ],
             [
              0.4444444444444444,
              "#bd3786"
             ],
             [
              0.5555555555555556,
              "#d8576b"
             ],
             [
              0.6666666666666666,
              "#ed7953"
             ],
             [
              0.7777777777777778,
              "#fb9f3a"
             ],
             [
              0.8888888888888888,
              "#fdca26"
             ],
             [
              1,
              "#f0f921"
             ]
            ],
            "type": "histogram2dcontour"
           }
          ],
          "mesh3d": [
           {
            "colorbar": {
             "outlinewidth": 0,
             "ticks": ""
            },
            "type": "mesh3d"
           }
          ],
          "parcoords": [
           {
            "line": {
             "colorbar": {
              "outlinewidth": 0,
              "ticks": ""
             }
            },
            "type": "parcoords"
           }
          ],
          "pie": [
           {
            "automargin": true,
            "type": "pie"
           }
          ],
          "scatter": [
           {
            "fillpattern": {
             "fillmode": "overlay",
             "size": 10,
             "solidity": 0.2
            },
            "type": "scatter"
           }
          ],
          "scatter3d": [
           {
            "line": {
             "colorbar": {
              "outlinewidth": 0,
              "ticks": ""
             }
            },
            "marker": {
             "colorbar": {
              "outlinewidth": 0,
              "ticks": ""
             }
            },
            "type": "scatter3d"
           }
          ],
          "scattercarpet": [
           {
            "marker": {
             "colorbar": {
              "outlinewidth": 0,
              "ticks": ""
             }
            },
            "type": "scattercarpet"
           }
          ],
          "scattergeo": [
           {
            "marker": {
             "colorbar": {
              "outlinewidth": 0,
              "ticks": ""
             }
            },
            "type": "scattergeo"
           }
          ],
          "scattergl": [
           {
            "marker": {
             "colorbar": {
              "outlinewidth": 0,
              "ticks": ""
             }
            },
            "type": "scattergl"
           }
          ],
          "scattermapbox": [
           {
            "marker": {
             "colorbar": {
              "outlinewidth": 0,
              "ticks": ""
             }
            },
            "type": "scattermapbox"
           }
          ],
          "scatterpolar": [
           {
            "marker": {
             "colorbar": {
              "outlinewidth": 0,
              "ticks": ""
             }
            },
            "type": "scatterpolar"
           }
          ],
          "scatterpolargl": [
           {
            "marker": {
             "colorbar": {
              "outlinewidth": 0,
              "ticks": ""
             }
            },
            "type": "scatterpolargl"
           }
          ],
          "scatterternary": [
           {
            "marker": {
             "colorbar": {
              "outlinewidth": 0,
              "ticks": ""
             }
            },
            "type": "scatterternary"
           }
          ],
          "surface": [
           {
            "colorbar": {
             "outlinewidth": 0,
             "ticks": ""
            },
            "colorscale": [
             [
              0,
              "#0d0887"
             ],
             [
              0.1111111111111111,
              "#46039f"
             ],
             [
              0.2222222222222222,
              "#7201a8"
             ],
             [
              0.3333333333333333,
              "#9c179e"
             ],
             [
              0.4444444444444444,
              "#bd3786"
             ],
             [
              0.5555555555555556,
              "#d8576b"
             ],
             [
              0.6666666666666666,
              "#ed7953"
             ],
             [
              0.7777777777777778,
              "#fb9f3a"
             ],
             [
              0.8888888888888888,
              "#fdca26"
             ],
             [
              1,
              "#f0f921"
             ]
            ],
            "type": "surface"
           }
          ],
          "table": [
           {
            "cells": {
             "fill": {
              "color": "#EBF0F8"
             },
             "line": {
              "color": "white"
             }
            },
            "header": {
             "fill": {
              "color": "#C8D4E3"
             },
             "line": {
              "color": "white"
             }
            },
            "type": "table"
           }
          ]
         },
         "layout": {
          "annotationdefaults": {
           "arrowcolor": "#2a3f5f",
           "arrowhead": 0,
           "arrowwidth": 1
          },
          "autotypenumbers": "strict",
          "coloraxis": {
           "colorbar": {
            "outlinewidth": 0,
            "ticks": ""
           }
          },
          "colorscale": {
           "diverging": [
            [
             0,
             "#8e0152"
            ],
            [
             0.1,
             "#c51b7d"
            ],
            [
             0.2,
             "#de77ae"
            ],
            [
             0.3,
             "#f1b6da"
            ],
            [
             0.4,
             "#fde0ef"
            ],
            [
             0.5,
             "#f7f7f7"
            ],
            [
             0.6,
             "#e6f5d0"
            ],
            [
             0.7,
             "#b8e186"
            ],
            [
             0.8,
             "#7fbc41"
            ],
            [
             0.9,
             "#4d9221"
            ],
            [
             1,
             "#276419"
            ]
           ],
           "sequential": [
            [
             0,
             "#0d0887"
            ],
            [
             0.1111111111111111,
             "#46039f"
            ],
            [
             0.2222222222222222,
             "#7201a8"
            ],
            [
             0.3333333333333333,
             "#9c179e"
            ],
            [
             0.4444444444444444,
             "#bd3786"
            ],
            [
             0.5555555555555556,
             "#d8576b"
            ],
            [
             0.6666666666666666,
             "#ed7953"
            ],
            [
             0.7777777777777778,
             "#fb9f3a"
            ],
            [
             0.8888888888888888,
             "#fdca26"
            ],
            [
             1,
             "#f0f921"
            ]
           ],
           "sequentialminus": [
            [
             0,
             "#0d0887"
            ],
            [
             0.1111111111111111,
             "#46039f"
            ],
            [
             0.2222222222222222,
             "#7201a8"
            ],
            [
             0.3333333333333333,
             "#9c179e"
            ],
            [
             0.4444444444444444,
             "#bd3786"
            ],
            [
             0.5555555555555556,
             "#d8576b"
            ],
            [
             0.6666666666666666,
             "#ed7953"
            ],
            [
             0.7777777777777778,
             "#fb9f3a"
            ],
            [
             0.8888888888888888,
             "#fdca26"
            ],
            [
             1,
             "#f0f921"
            ]
           ]
          },
          "colorway": [
           "#636efa",
           "#EF553B",
           "#00cc96",
           "#ab63fa",
           "#FFA15A",
           "#19d3f3",
           "#FF6692",
           "#B6E880",
           "#FF97FF",
           "#FECB52"
          ],
          "font": {
           "color": "#2a3f5f"
          },
          "geo": {
           "bgcolor": "white",
           "lakecolor": "white",
           "landcolor": "#E5ECF6",
           "showlakes": true,
           "showland": true,
           "subunitcolor": "white"
          },
          "hoverlabel": {
           "align": "left"
          },
          "hovermode": "closest",
          "mapbox": {
           "style": "light"
          },
          "paper_bgcolor": "white",
          "plot_bgcolor": "#E5ECF6",
          "polar": {
           "angularaxis": {
            "gridcolor": "white",
            "linecolor": "white",
            "ticks": ""
           },
           "bgcolor": "#E5ECF6",
           "radialaxis": {
            "gridcolor": "white",
            "linecolor": "white",
            "ticks": ""
           }
          },
          "scene": {
           "xaxis": {
            "backgroundcolor": "#E5ECF6",
            "gridcolor": "white",
            "gridwidth": 2,
            "linecolor": "white",
            "showbackground": true,
            "ticks": "",
            "zerolinecolor": "white"
           },
           "yaxis": {
            "backgroundcolor": "#E5ECF6",
            "gridcolor": "white",
            "gridwidth": 2,
            "linecolor": "white",
            "showbackground": true,
            "ticks": "",
            "zerolinecolor": "white"
           },
           "zaxis": {
            "backgroundcolor": "#E5ECF6",
            "gridcolor": "white",
            "gridwidth": 2,
            "linecolor": "white",
            "showbackground": true,
            "ticks": "",
            "zerolinecolor": "white"
           }
          },
          "shapedefaults": {
           "line": {
            "color": "#2a3f5f"
           }
          },
          "ternary": {
           "aaxis": {
            "gridcolor": "white",
            "linecolor": "white",
            "ticks": ""
           },
           "baxis": {
            "gridcolor": "white",
            "linecolor": "white",
            "ticks": ""
           },
           "bgcolor": "#E5ECF6",
           "caxis": {
            "gridcolor": "white",
            "linecolor": "white",
            "ticks": ""
           }
          },
          "title": {
           "x": 0.05
          },
          "xaxis": {
           "automargin": true,
           "gridcolor": "white",
           "linecolor": "white",
           "ticks": "",
           "title": {
            "standoff": 15
           },
           "zerolinecolor": "white",
           "zerolinewidth": 2
          },
          "yaxis": {
           "automargin": true,
           "gridcolor": "white",
           "linecolor": "white",
           "ticks": "",
           "title": {
            "standoff": 15
           },
           "zerolinecolor": "white",
           "zerolinewidth": 2
          }
         }
        },
        "title": {
         "text": "Total Explained Variance: 67.98%"
        }
       }
      }
     },
     "metadata": {},
     "output_type": "display_data"
    }
   ],
   "source": [
    "alldizi = np.vstack((Xlist,Xsonaralist12,Xsonaralist23,Xsonaralist34,Xsonaralist45,Xsonaralist51))\n",
    "\n",
    "\n",
    "X = alldizi\n",
    "\n",
    "pca = PCA(n_components=3)\n",
    "components = pca.fit_transform(X)\n",
    "\n",
    "total_var = pca.explained_variance_ratio_.sum() * 100\n",
    "\n",
    "fig = px.scatter_3d(\n",
    "    components, x=0, y=1, z=2,\n",
    "    title=f'Total Explained Variance: {total_var:.2f}%',\n",
    "    labels={'0': 'PC 1', '1': 'PC 2', '2': 'PC 3'}\n",
    ")\n",
    "fig.show()"
   ]
  },
  {
   "attachments": {},
   "cell_type": "markdown",
   "metadata": {},
   "source": [
    "SON NOKTALAR İLE OLUŞTURULAN ENSEMBLE"
   ]
  },
  {
   "cell_type": "code",
   "execution_count": 398,
   "metadata": {},
   "outputs": [
    {
     "name": "stdout",
     "output_type": "stream",
     "text": [
      "313/313 [==============================] - 1s 3ms/step\n",
      "313/313 [==============================] - 1s 3ms/step\n",
      "313/313 [==============================] - 1s 3ms/step\n",
      "313/313 [==============================] - 1s 3ms/step\n",
      "313/313 [==============================] - 1s 3ms/step\n",
      "Accuracy Score for average ensemble =  0.8964\n"
     ]
    }
   ],
   "source": [
    "models = []\n",
    "for i in range(1,6,1):\n",
    "    w0 = load_model('eachModel{}/CheckPoint-10.hdf5'.format(i))\n",
    "    models.append(w0)\n",
    "\n",
    "preds = [model.predict(test_images) for model in models]\n",
    "preds=np.array(preds)\n",
    "summed = np.sum(preds, axis=0)\n",
    "\n",
    "# argmax across classes\n",
    "ensemble_prediction = np.argmax(summed, axis=1)\n",
    "\n",
    "ensemble_accuracy = accuracy_score(test_labels, ensemble_prediction)\n",
    "print('Accuracy Score for average ensemble = ', ensemble_accuracy)"
   ]
  }
 ],
 "metadata": {
  "kernelspec": {
   "display_name": "Python 3",
   "language": "python",
   "name": "python3"
  },
  "language_info": {
   "codemirror_mode": {
    "name": "ipython",
    "version": 3
   },
   "file_extension": ".py",
   "mimetype": "text/x-python",
   "name": "python",
   "nbconvert_exporter": "python",
   "pygments_lexer": "ipython3",
   "version": "3.9.13"
  },
  "orig_nbformat": 4,
  "vscode": {
   "interpreter": {
    "hash": "e81f3eb113a4575374b4ec6b7269680492ed507ee7da4a22f49e975af020ad03"
   }
  }
 },
 "nbformat": 4,
 "nbformat_minor": 2
}
