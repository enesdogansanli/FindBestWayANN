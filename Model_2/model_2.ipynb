{
 "cells": [
  {
   "cell_type": "code",
   "execution_count": 1,
   "metadata": {},
   "outputs": [],
   "source": [
    "from __future__ import absolute_import, division, print_function\n",
    "# TensorFlow and tf.keras\n",
    "import tensorflow as tf\n",
    "from tensorflow import keras\n",
    "# Helper libraries\n",
    "import numpy as np\n",
    "import matplotlib.pyplot as plt\n",
    "\n",
    "import tensorflow as tf\n",
    "import os\n",
    "import cv2\n",
    "import imghdr\n",
    "import numpy as np\n",
    "from matplotlib import pyplot as plt\n",
    "from keras.models import Sequential\n",
    "from keras.layers import Conv2D, MaxPooling2D, Dense, Flatten, Dropout\n",
    "from sklearn.manifold import TSNE\n",
    "from sklearn.preprocessing import StandardScaler \n",
    "from sklearn import preprocessing\n",
    "from sklearn.decomposition import PCA\n",
    "import pandas as pd\n",
    "import seaborn as sns\n",
    "from scipy.io import arff\n",
    "from sklearn.model_selection import train_test_split\n",
    "from sklearn.metrics import accuracy_score,f1_score,recall_score,precision_score\n",
    "\n",
    "import json\n",
    "import tensorflow as tf\n",
    "\n",
    "from tensorflow.keras.preprocessing.text import Tokenizer\n",
    "from tensorflow.keras.preprocessing.sequence import pad_sequences\n",
    "from tensorflow.keras.models import Model, load_model\n",
    "from tensorflow.keras.layers import Input, Average\n",
    "\n",
    "from keras.callbacks import ModelCheckpoint\n",
    "\n",
    "import numpy as np\n",
    "import pandas as pd\n",
    "import matplotlib.pyplot as plt\n",
    "import seaborn as sns\n",
    "\n",
    "import joblib\n",
    "\n",
    "from sklearn.manifold import TSNE\n",
    "import plotly.express as px\n",
    "from sklearn.decomposition import PCA\n",
    "from tensorflow.keras.losses import categorical_crossentropy,binary_crossentropy\n",
    "\n",
    "from sklearn import metrics"
   ]
  },
  {
   "cell_type": "code",
   "execution_count": 182,
   "metadata": {},
   "outputs": [],
   "source": [
    "fashion_mnist = keras.datasets.fashion_mnist\n",
    "(train_images, train_labels), (test_images, test_labels) = fashion_mnist.load_data()"
   ]
  },
  {
   "cell_type": "code",
   "execution_count": 3,
   "metadata": {},
   "outputs": [],
   "source": [
    "class_names = ['T-shirt/top', 'Trouser', 'Pullover', 'Dress', 'Coat','Sandal', 'Shirt', 'Sneaker', 'Bag', 'Ankle boot']"
   ]
  },
  {
   "cell_type": "code",
   "execution_count": 183,
   "metadata": {},
   "outputs": [
    {
     "data": {
      "text/plain": [
       "(10000, 28, 28)"
      ]
     },
     "execution_count": 183,
     "metadata": {},
     "output_type": "execute_result"
    }
   ],
   "source": [
    "train_images.shape\n",
    "#Each Label is between 0-9\n",
    "train_labels\n",
    "test_images.shape"
   ]
  },
  {
   "cell_type": "code",
   "execution_count": 184,
   "metadata": {},
   "outputs": [],
   "source": [
    "train_images = train_images / 255.0\n",
    "test_images = test_images / 255.0"
   ]
  },
  {
   "cell_type": "code",
   "execution_count": 185,
   "metadata": {},
   "outputs": [
    {
     "data": {
      "text/plain": [
       "array([9, 0, 0, ..., 3, 0, 5], dtype=uint8)"
      ]
     },
     "execution_count": 185,
     "metadata": {},
     "output_type": "execute_result"
    }
   ],
   "source": [
    "train_labels"
   ]
  },
  {
   "cell_type": "code",
   "execution_count": 275,
   "metadata": {},
   "outputs": [],
   "source": [
    "model = keras.Sequential([\n",
    "    keras.layers.Flatten(input_shape=(28, 28)),\n",
    "    keras.layers.Dense(128, activation=tf.nn.relu),\n",
    "    keras.layers.Dense(128, activation=tf.nn.relu),\n",
    "    keras.layers.Dense(10, activation=tf.nn.softmax)\n",
    "])"
   ]
  },
  {
   "cell_type": "code",
   "execution_count": 259,
   "metadata": {},
   "outputs": [
    {
     "name": "stdout",
     "output_type": "stream",
     "text": [
      "Model: \"sequential_21\"\n",
      "_________________________________________________________________\n",
      " Layer (type)                Output Shape              Param #   \n",
      "=================================================================\n",
      " flatten_21 (Flatten)        (None, 784)               0         \n",
      "                                                                 \n",
      " dense_61 (Dense)            (None, 128)               100480    \n",
      "                                                                 \n",
      " dense_62 (Dense)            (None, 128)               16512     \n",
      "                                                                 \n",
      " dense_63 (Dense)            (None, 10)                1290      \n",
      "                                                                 \n",
      "=================================================================\n",
      "Total params: 118,282\n",
      "Trainable params: 118,282\n",
      "Non-trainable params: 0\n",
      "_________________________________________________________________\n"
     ]
    }
   ],
   "source": [
    "model.summary()"
   ]
  },
  {
   "cell_type": "code",
   "execution_count": 276,
   "metadata": {},
   "outputs": [],
   "source": [
    "model.compile(optimizer='adam', loss='sparse_categorical_crossentropy', metrics=['accuracy'])"
   ]
  },
  {
   "cell_type": "code",
   "execution_count": 277,
   "metadata": {},
   "outputs": [],
   "source": [
    "filepath = 'eachModel5/CheckPoint-{epoch:02d}.hdf5'\n",
    "checkpoint = ModelCheckpoint(filepath, monitor='loss', verbose=1,\n",
    "    save_best_only=False,save_weights_only=False, mode='auto', save_freq='epoch')"
   ]
  },
  {
   "cell_type": "code",
   "execution_count": 278,
   "metadata": {},
   "outputs": [
    {
     "name": "stdout",
     "output_type": "stream",
     "text": [
      "Epoch 1/10\n",
      "1873/1875 [============================>.] - ETA: 0s - loss: 0.4871 - accuracy: 0.8252\n",
      "Epoch 1: saving model to eachModel5\\CheckPoint-01.hdf5\n",
      "1875/1875 [==============================] - 7s 4ms/step - loss: 0.4870 - accuracy: 0.8252 - val_loss: 0.5459 - val_accuracy: 0.7901\n",
      "Epoch 2/10\n",
      "1860/1875 [============================>.] - ETA: 0s - loss: 0.3611 - accuracy: 0.8683\n",
      "Epoch 2: saving model to eachModel5\\CheckPoint-02.hdf5\n",
      "1875/1875 [==============================] - 6s 3ms/step - loss: 0.3611 - accuracy: 0.8682 - val_loss: 0.3709 - val_accuracy: 0.8669\n",
      "Epoch 3/10\n",
      "1871/1875 [============================>.] - ETA: 0s - loss: 0.3284 - accuracy: 0.8787\n",
      "Epoch 3: saving model to eachModel5\\CheckPoint-03.hdf5\n",
      "1875/1875 [==============================] - 6s 3ms/step - loss: 0.3286 - accuracy: 0.8787 - val_loss: 0.3691 - val_accuracy: 0.8637\n",
      "Epoch 4/10\n",
      "1872/1875 [============================>.] - ETA: 0s - loss: 0.3036 - accuracy: 0.8874\n",
      "Epoch 4: saving model to eachModel5\\CheckPoint-04.hdf5\n",
      "1875/1875 [==============================] - 6s 3ms/step - loss: 0.3036 - accuracy: 0.8875 - val_loss: 0.3634 - val_accuracy: 0.8669\n",
      "Epoch 5/10\n",
      "1872/1875 [============================>.] - ETA: 0s - loss: 0.2883 - accuracy: 0.8916\n",
      "Epoch 5: saving model to eachModel5\\CheckPoint-05.hdf5\n",
      "1875/1875 [==============================] - 6s 3ms/step - loss: 0.2884 - accuracy: 0.8915 - val_loss: 0.3597 - val_accuracy: 0.8730\n",
      "Epoch 6/10\n",
      "1875/1875 [==============================] - ETA: 0s - loss: 0.2721 - accuracy: 0.8976\n",
      "Epoch 6: saving model to eachModel5\\CheckPoint-06.hdf5\n",
      "1875/1875 [==============================] - 6s 3ms/step - loss: 0.2721 - accuracy: 0.8976 - val_loss: 0.3386 - val_accuracy: 0.8801\n",
      "Epoch 7/10\n",
      "1871/1875 [============================>.] - ETA: 0s - loss: 0.2595 - accuracy: 0.9033\n",
      "Epoch 7: saving model to eachModel5\\CheckPoint-07.hdf5\n",
      "1875/1875 [==============================] - 6s 3ms/step - loss: 0.2594 - accuracy: 0.9033 - val_loss: 0.3409 - val_accuracy: 0.8838\n",
      "Epoch 8/10\n",
      "1872/1875 [============================>.] - ETA: 0s - loss: 0.2477 - accuracy: 0.9063\n",
      "Epoch 8: saving model to eachModel5\\CheckPoint-08.hdf5\n",
      "1875/1875 [==============================] - 7s 3ms/step - loss: 0.2477 - accuracy: 0.9063 - val_loss: 0.3300 - val_accuracy: 0.8830\n",
      "Epoch 9/10\n",
      "1875/1875 [==============================] - ETA: 0s - loss: 0.2396 - accuracy: 0.9094\n",
      "Epoch 9: saving model to eachModel5\\CheckPoint-09.hdf5\n",
      "1875/1875 [==============================] - 6s 3ms/step - loss: 0.2396 - accuracy: 0.9094 - val_loss: 0.3479 - val_accuracy: 0.8809\n",
      "Epoch 10/10\n",
      "1872/1875 [============================>.] - ETA: 0s - loss: 0.2308 - accuracy: 0.9124\n",
      "Epoch 10: saving model to eachModel5\\CheckPoint-10.hdf5\n",
      "1875/1875 [==============================] - 6s 3ms/step - loss: 0.2308 - accuracy: 0.9124 - val_loss: 0.3325 - val_accuracy: 0.8867\n"
     ]
    }
   ],
   "source": [
    "history = model.fit(train_images, train_labels,validation_data=(test_images,test_labels), epochs=10,callbacks=[checkpoint])"
   ]
  },
  {
   "cell_type": "code",
   "execution_count": 279,
   "metadata": {},
   "outputs": [
    {
     "data": {
      "image/png": "[encoded data removed]",
      "text/plain": [
       "<Figure size 432x288 with 1 Axes>"
      ]
     },
     "metadata": {
      "needs_background": "light"
     },
     "output_type": "display_data"
    },
    {
     "data": {
      "image/png": "[encoded data removed]",
      "text/plain": [
       "<Figure size 432x288 with 1 Axes>"
      ]
     },
     "metadata": {
      "needs_background": "light"
     },
     "output_type": "display_data"
    }
   ],
   "source": [
    "def plot_graphs(history, string):\n",
    "  plt.plot(history.history[string])\n",
    "  plt.plot(history.history['val_'+string])\n",
    "  plt.xlabel(\"Epochs\")\n",
    "  plt.ylabel(string)\n",
    "  plt.legend([string, 'val_'+string])\n",
    "  plt.show()\n",
    "  \n",
    "plot_graphs(history, \"accuracy\")\n",
    "plot_graphs(history, \"loss\")"
   ]
  },
  {
   "attachments": {},
   "cell_type": "markdown",
   "metadata": {},
   "source": [
    "FARKLI BAŞLANGIÇ NOKTALARI İÇİN PCA ÇİZİMİ"
   ]
  },
  {
   "cell_type": "code",
   "execution_count": 280,
   "metadata": {},
   "outputs": [],
   "source": [
    "allPointWeightX1 = []\n",
    "allPointWeightY1 = []"
   ]
  },
  {
   "cell_type": "code",
   "execution_count": 281,
   "metadata": {},
   "outputs": [
    {
     "name": "stderr",
     "output_type": "stream",
     "text": [
      "C:\\Users\\enes_\\AppData\\Local\\Temp\\ipykernel_7704\\2549362355.py:10: VisibleDeprecationWarning:\n",
      "\n",
      "Creating an ndarray from ragged nested sequences (which is a list-or-tuple of lists-or-tuples-or ndarrays with different lengths or shapes) is deprecated. If you meant to do this, you must specify 'dtype=object' when creating the ndarray.\n",
      "\n",
      "C:\\Users\\enes_\\AppData\\Local\\Temp\\ipykernel_7704\\2549362355.py:6: VisibleDeprecationWarning:\n",
      "\n",
      "Creating an ndarray from ragged nested sequences (which is a list-or-tuple of lists-or-tuples-or ndarrays with different lengths or shapes) is deprecated. If you meant to do this, you must specify 'dtype=object' when creating the ndarray.\n",
      "\n"
     ]
    }
   ],
   "source": [
    "for j in range(5):\n",
    "    for i in range(10):\n",
    "        if i>=9:\n",
    "            myModel = load_model('eachModel{}/CheckPoint-{}.hdf5'.format(j+1,i+1))\n",
    "            myModelweight = myModel.get_weights()\n",
    "            allPointWeightX1.append(np.array(myModelweight[0:5]))\n",
    "        else:\n",
    "            myModel = load_model('eachModel{}/CheckPoint-0{}.hdf5'.format(j+1,i+1))\n",
    "            myModelweight = myModel.get_weights()\n",
    "            allPointWeightX1.append(np.array(myModelweight[0:5]))\n",
    "    \n",
    "    for i in range(10):\n",
    "        if i>=9:\n",
    "            myModel = load_model('eachModel{}/CheckPoint-{}.hdf5'.format(j+1,i+1))\n",
    "            myModelweight = myModel.get_weights()\n",
    "            allPointWeightY1.append(np.array(myModelweight[5]))\n",
    "        else:\n",
    "            myModel = load_model('eachModel{}/CheckPoint-0{}.hdf5'.format(j+1,i+1))\n",
    "            myModelweight = myModel.get_weights()\n",
    "            allPointWeightY1.append(np.array(myModelweight[5]))"
   ]
  },
  {
   "cell_type": "code",
   "execution_count": 282,
   "metadata": {},
   "outputs": [],
   "source": [
    "allPointWeightX1 = np.array(allPointWeightX1)\n",
    "allPointWeightY1 = np.array(allPointWeightY1)"
   ]
  },
  {
   "cell_type": "code",
   "execution_count": 283,
   "metadata": {},
   "outputs": [],
   "source": [
    "for i in range(50):\n",
    "    allPointWeightX1[i][0] = allPointWeightX1[i][0].flatten()\n",
    "    allPointWeightX1[i][1] = allPointWeightX1[i][1].flatten()\n",
    "    allPointWeightX1[i][2] = allPointWeightX1[i][2].flatten()\n",
    "    allPointWeightX1[i][3] = allPointWeightX1[i][3].flatten()\n",
    "    allPointWeightX1[i][4] = allPointWeightX1[i][4].flatten()"
   ]
  },
  {
   "cell_type": "code",
   "execution_count": 284,
   "metadata": {},
   "outputs": [],
   "source": [
    "Xlist= []\n",
    "for i in range(50):\n",
    "    Xlist.append(np.hstack((allPointWeightX1[i][0],allPointWeightX1[i][1],allPointWeightX1[i][2],allPointWeightX1[i][3],allPointWeightX1[i][4])))"
   ]
  },
  {
   "cell_type": "code",
   "execution_count": 285,
   "metadata": {},
   "outputs": [],
   "source": [
    "Xlist = np.array(Xlist)"
   ]
  },
  {
   "cell_type": "code",
   "execution_count": 286,
   "metadata": {},
   "outputs": [
    {
     "data": {
      "application/vnd.plotly.v1+json": {
       "config": {
        "plotlyServerURL": "https://plot.ly"
       },
       "data": [
        {
         "hovertemplate": "0=%{x}<br>1=%{y}<extra></extra>",
         "legendgroup": "",
         "marker": {
          "color": "#636efa",
          "symbol": "circle"
         },
         "mode": "markers",
         "name": "",
         "orientation": "v",
         "showlegend": false,
         "type": "scatter",
         "x": [
          13.09741497039795,
          17.169475555419922,
          20.540504455566406,
          23.41535758972168,
          25.94637107849121,
          28.217023849487305,
          30.205867767333984,
          32.00394821166992,
          33.545814514160156,
          34.926483154296875,
          -7.658276081085205,
          -9.825911521911621,
          -11.723631858825684,
          -13.262799263000488,
          -14.709208488464355,
          -16.015121459960938,
          -17.230878829956055,
          -18.261337280273438,
          -19.187759399414062,
          -19.943096160888672,
          -11.932318687438965,
          -15.281787872314453,
          -18.197744369506836,
          -20.79347038269043,
          -23.05171775817871,
          -25.03194808959961,
          -26.861055374145508,
          -28.422338485717773,
          -29.822214126586914,
          -31.060985565185547,
          1.9641300439834595,
          2.6585206985473633,
          3.1647825241088867,
          3.702054023742676,
          4.119245529174805,
          4.582285404205322,
          4.934606552124023,
          5.187529563903809,
          5.489320755004883,
          5.834635257720947,
          3.8796024322509766,
          5.046420097351074,
          6.071078300476074,
          6.92242431640625,
          7.7389326095581055,
          8.513142585754395,
          9.117218971252441,
          9.614052772521973,
          10.116861343383789,
          10.548487663269043
         ],
         "xaxis": "x",
         "y": [
          -7.763148307800293,
          -9.94464111328125,
          -11.796941757202148,
          -13.37453842163086,
          -14.76848316192627,
          -16.13705825805664,
          -17.1956787109375,
          -18.274276733398438,
          -19.153322219848633,
          -20.006444931030273,
          1.5189090967178345,
          1.8773800134658813,
          2.2337520122528076,
          2.480156183242798,
          2.8347203731536865,
          3.0026655197143555,
          3.240186929702759,
          3.4124743938446045,
          3.5059492588043213,
          3.589462995529175,
          -4.7948689460754395,
          -6.189741611480713,
          -7.434710502624512,
          -8.558841705322266,
          -9.482932090759277,
          -10.294781684875488,
          -11.168060302734375,
          -11.738061904907227,
          -12.311559677124023,
          -12.815335273742676,
          -5.559927940368652,
          -7.23112154006958,
          -8.579728126525879,
          -9.77074146270752,
          -10.794172286987305,
          -11.674729347229004,
          -12.464216232299805,
          -13.24267864227295,
          -13.974186897277832,
          -14.551491737365723,
          16.58909034729004,
          21.413785934448242,
          25.483787536621094,
          29.15526580810547,
          32.31294631958008,
          35.15190505981445,
          37.66086196899414,
          39.895633697509766,
          41.95003128051758,
          43.73745346069336
         ],
         "yaxis": "y"
        }
       ],
       "layout": {
        "legend": {
         "tracegroupgap": 0
        },
        "margin": {
         "t": 60
        },
        "template": {
         "data": {
          "bar": [
           {
            "error_x": {
             "color": "#2a3f5f"
            },
            "error_y": {
             "color": "#2a3f5f"
            },
            "marker": {
             "line": {
              "color": "#E5ECF6",
              "width": 0.5
             },
             "pattern": {
              "fillmode": "overlay",
              "size": 10,
              "solidity": 0.2
             }
            },
            "type": "bar"
           }
          ],
          "barpolar": [
           {
            "marker": {
             "line": {
              "color": "#E5ECF6",
              "width": 0.5
             },
             "pattern": {
              "fillmode": "overlay",
              "size": 10,
              "solidity": 0.2
             }
            },
            "type": "barpolar"
           }
          ],
          "carpet": [
           {
            "aaxis": {
             "endlinecolor": "#2a3f5f",
             "gridcolor": "white",
             "linecolor": "white",
             "minorgridcolor": "white",
             "startlinecolor": "#2a3f5f"
            },
            "baxis": {
             "endlinecolor": "#2a3f5f",
             "gridcolor": "white",
             "linecolor": "white",
             "minorgridcolor": "white",
             "startlinecolor": "#2a3f5f"
            },
            "type": "carpet"
           }
          ],
          "choropleth": [
           {
            "colorbar": {
             "outlinewidth": 0,
             "ticks": ""
            },
            "type": "choropleth"
           }
          ],
          "contour": [
           {
            "colorbar": {
             "outlinewidth": 0,
             "ticks": ""
            },
            "colorscale": [
             [
              0,
              "#0d0887"
             ],
             [
              0.1111111111111111,
              "#46039f"
             ],
             [
              0.2222222222222222,
              "#7201a8"
             ],
             [
              0.3333333333333333,
              "#9c179e"
             ],
             [
              0.4444444444444444,
              "#bd3786"
             ],
             [
              0.5555555555555556,
              "#d8576b"
             ],
             [
              0.6666666666666666,
              "#ed7953"
             ],
             [
              0.7777777777777778,
              "#fb9f3a"
             ],
             [
              0.8888888888888888,
              "#fdca26"
             ],
             [
              1,
              "#f0f921"
             ]
            ],
            "type": "contour"
           }
          ],
          "contourcarpet": [
           {
            "colorbar": {
             "outlinewidth": 0,
             "ticks": ""
            },
            "type": "contourcarpet"
           }
          ],
          "heatmap": [
           {
            "colorbar": {
             "outlinewidth": 0,
             "ticks": ""
            },
            "colorscale": [
             [
              0,
              "#0d0887"
             ],
             [
              0.1111111111111111,
              "#46039f"
             ],
             [
              0.2222222222222222,
              "#7201a8"
             ],
             [
              0.3333333333333333,
              "#9c179e"
             ],
             [
              0.4444444444444444,
              "#bd3786"
             ],
             [
              0.5555555555555556,
              "#d8576b"
             ],
             [
              0.6666666666666666,
              "#ed7953"
             ],
             [
              0.7777777777777778,
              "#fb9f3a"
             ],
             [
              0.8888888888888888,
              "#fdca26"
             ],
             [
              1,
              "#f0f921"
             ]
            ],
            "type": "heatmap"
           }
          ],
          "heatmapgl": [
           {
            "colorbar": {
             "outlinewidth": 0,
             "ticks": ""
            },
            "colorscale": [
             [
              0,
              "#0d0887"
             ],
             [
              0.1111111111111111,
              "#46039f"
             ],
             [
              0.2222222222222222,
              "#7201a8"
             ],
             [
              0.3333333333333333,
              "#9c179e"
             ],
             [
              0.4444444444444444,
              "#bd3786"
             ],
             [
              0.5555555555555556,
              "#d8576b"
             ],
             [
              0.6666666666666666,
              "#ed7953"
             ],
             [
              0.7777777777777778,
              "#fb9f3a"
             ],
             [
              0.8888888888888888,
              "#fdca26"
             ],
             [
              1,
              "#f0f921"
             ]
            ],
            "type": "heatmapgl"
           }
          ],
          "histogram": [
           {
            "marker": {
             "pattern": {
              "fillmode": "overlay",
              "size": 10,
              "solidity": 0.2
             }
            },
            "type": "histogram"
           }
          ],
          "histogram2d": [
           {
            "colorbar": {
             "outlinewidth": 0,
             "ticks": ""
            },
            "colorscale": [
             [
              0,
              "#0d0887"
             ],
             [
              0.1111111111111111,
              "#46039f"
             ],
             [
              0.2222222222222222,
              "#7201a8"
             ],
             [
              0.3333333333333333,
              "#9c179e"
             ],
             [
              0.4444444444444444,
              "#bd3786"
             ],
             [
              0.5555555555555556,
              "#d8576b"
             ],
             [
              0.6666666666666666,
              "#ed7953"
             ],
             [
              0.7777777777777778,
              "#fb9f3a"
             ],
             [
              0.8888888888888888,
              "#fdca26"
             ],
             [
              1,
              "#f0f921"
             ]
            ],
            "type": "histogram2d"
           }
          ],
          "histogram2dcontour": [
           {
            "colorbar": {
             "outlinewidth": 0,
             "ticks": ""
            },
            "colorscale": [
             [
              0,
              "#0d0887"
             ],
             [
              0.1111111111111111,
              "#46039f"
             ],
             [
              0.2222222222222222,
              "#7201a8"
             ],
             [
              0.3333333333333333,
              "#9c179e"
             ],
             [
              0.4444444444444444,
              "#bd3786"
             ],
             [
              0.5555555555555556,
              "#d8576b"
             ],
             [
              0.6666666666666666,
              "#ed7953"
             ],
             [
              0.7777777777777778,
              "#fb9f3a"
             ],
             [
              0.8888888888888888,
              "#fdca26"
             ],
             [
              1,
              "#f0f921"
             ]
            ],
            "type": "histogram2dcontour"
           }
          ],
          "mesh3d": [
           {
            "colorbar": {
             "outlinewidth": 0,
             "ticks": ""
            },
            "type": "mesh3d"
           }
          ],
          "parcoords": [
           {
            "line": {
             "colorbar": {
              "outlinewidth": 0,
              "ticks": ""
             }
            },
            "type": "parcoords"
           }
          ],
          "pie": [
           {
            "automargin": true,
            "type": "pie"
           }
          ],
          "scatter": [
           {
            "fillpattern": {
             "fillmode": "overlay",
             "size": 10,
             "solidity": 0.2
            },
            "type": "scatter"
           }
          ],
          "scatter3d": [
           {
            "line": {
             "colorbar": {
              "outlinewidth": 0,
              "ticks": ""
             }
            },
            "marker": {
             "colorbar": {
              "outlinewidth": 0,
              "ticks": ""
             }
            },
            "type": "scatter3d"
           }
          ],
          "scattercarpet": [
           {
            "marker": {
             "colorbar": {
              "outlinewidth": 0,
              "ticks": ""
             }
            },
            "type": "scattercarpet"
           }
          ],
          "scattergeo": [
           {
            "marker": {
             "colorbar": {
              "outlinewidth": 0,
              "ticks": ""
             }
            },
            "type": "scattergeo"
           }
          ],
          "scattergl": [
           {
            "marker": {
             "colorbar": {
              "outlinewidth": 0,
              "ticks": ""
             }
            },
            "type": "scattergl"
           }
          ],
          "scattermapbox": [
           {
            "marker": {
             "colorbar": {
              "outlinewidth": 0,
              "ticks": ""
             }
            },
            "type": "scattermapbox"
           }
          ],
          "scatterpolar": [
           {
            "marker": {
             "colorbar": {
              "outlinewidth": 0,
              "ticks": ""
             }
            },
            "type": "scatterpolar"
           }
          ],
          "scatterpolargl": [
           {
            "marker": {
             "colorbar": {
              "outlinewidth": 0,
              "ticks": ""
             }
            },
            "type": "scatterpolargl"
           }
          ],
          "scatterternary": [
           {
            "marker": {
             "colorbar": {
              "outlinewidth": 0,
              "ticks": ""
             }
            },
            "type": "scatterternary"
           }
          ],
          "surface": [
           {
            "colorbar": {
             "outlinewidth": 0,
             "ticks": ""
            },
            "colorscale": [
             [
              0,
              "#0d0887"
             ],
             [
              0.1111111111111111,
              "#46039f"
             ],
             [
              0.2222222222222222,
              "#7201a8"
             ],
             [
              0.3333333333333333,
              "#9c179e"
             ],
             [
              0.4444444444444444,
              "#bd3786"
             ],
             [
              0.5555555555555556,
              "#d8576b"
             ],
             [
              0.6666666666666666,
              "#ed7953"
             ],
             [
              0.7777777777777778,
              "#fb9f3a"
             ],
             [
              0.8888888888888888,
              "#fdca26"
             ],
             [
              1,
              "#f0f921"
             ]
            ],
            "type": "surface"
           }
          ],
          "table": [
           {
            "cells": {
             "fill": {
              "color": "#EBF0F8"
             },
             "line": {
              "color": "white"
             }
            },
            "header": {
             "fill": {
              "color": "#C8D4E3"
             },
             "line": {
              "color": "white"
             }
            },
            "type": "table"
           }
          ]
         },
         "layout": {
          "annotationdefaults": {
           "arrowcolor": "#2a3f5f",
           "arrowhead": 0,
           "arrowwidth": 1
          },
          "autotypenumbers": "strict",
          "coloraxis": {
           "colorbar": {
            "outlinewidth": 0,
            "ticks": ""
           }
          },
          "colorscale": {
           "diverging": [
            [
             0,
             "#8e0152"
            ],
            [
             0.1,
             "#c51b7d"
            ],
            [
             0.2,
             "#de77ae"
            ],
            [
             0.3,
             "#f1b6da"
            ],
            [
             0.4,
             "#fde0ef"
            ],
            [
             0.5,
             "#f7f7f7"
            ],
            [
             0.6,
             "#e6f5d0"
            ],
            [
             0.7,
             "#b8e186"
            ],
            [
             0.8,
             "#7fbc41"
            ],
            [
             0.9,
             "#4d9221"
            ],
            [
             1,
             "#276419"
            ]
           ],
           "sequential": [
            [
             0,
             "#0d0887"
            ],
            [
             0.1111111111111111,
             "#46039f"
            ],
            [
             0.2222222222222222,
             "#7201a8"
            ],
            [
             0.3333333333333333,
             "#9c179e"
            ],
            [
             0.4444444444444444,
             "#bd3786"
            ],
            [
             0.5555555555555556,
             "#d8576b"
            ],
            [
             0.6666666666666666,
             "#ed7953"
            ],
            [
             0.7777777777777778,
             "#fb9f3a"
            ],
            [
             0.8888888888888888,
             "#fdca26"
            ],
            [
             1,
             "#f0f921"
            ]
           ],
           "sequentialminus": [
            [
             0,
             "#0d0887"
            ],
            [
             0.1111111111111111,
             "#46039f"
            ],
            [
             0.2222222222222222,
             "#7201a8"
            ],
            [
             0.3333333333333333,
             "#9c179e"
            ],
            [
             0.4444444444444444,
             "#bd3786"
            ],
            [
             0.5555555555555556,
             "#d8576b"
            ],
            [
             0.6666666666666666,
             "#ed7953"
            ],
            [
             0.7777777777777778,
             "#fb9f3a"
            ],
            [
             0.8888888888888888,
             "#fdca26"
            ],
            [
             1,
             "#f0f921"
            ]
           ]
          },
          "colorway": [
           "#636efa",
           "#EF553B",
           "#00cc96",
           "#ab63fa",
           "#FFA15A",
           "#19d3f3",
           "#FF6692",
           "#B6E880",
           "#FF97FF",
           "#FECB52"
          ],
          "font": {
           "color": "#2a3f5f"
          },
          "geo": {
           "bgcolor": "white",
           "lakecolor": "white",
           "landcolor": "#E5ECF6",
           "showlakes": true,
           "showland": true,
           "subunitcolor": "white"
          },
          "hoverlabel": {
           "align": "left"
          },
          "hovermode": "closest",
          "mapbox": {
           "style": "light"
          },
          "paper_bgcolor": "white",
          "plot_bgcolor": "#E5ECF6",
          "polar": {
           "angularaxis": {
            "gridcolor": "white",
            "linecolor": "white",
            "ticks": ""
           },
           "bgcolor": "#E5ECF6",
           "radialaxis": {
            "gridcolor": "white",
            "linecolor": "white",
            "ticks": ""
           }
          },
          "scene": {
           "xaxis": {
            "backgroundcolor": "#E5ECF6",
            "gridcolor": "white",
            "gridwidth": 2,
            "linecolor": "white",
            "showbackground": true,
            "ticks": "",
            "zerolinecolor": "white"
           },
           "yaxis": {
            "backgroundcolor": "#E5ECF6",
            "gridcolor": "white",
            "gridwidth": 2,
            "linecolor": "white",
            "showbackground": true,
            "ticks": "",
            "zerolinecolor": "white"
           },
           "zaxis": {
            "backgroundcolor": "#E5ECF6",
            "gridcolor": "white",
            "gridwidth": 2,
            "linecolor": "white",
            "showbackground": true,
            "ticks": "",
            "zerolinecolor": "white"
           }
          },
          "shapedefaults": {
           "line": {
            "color": "#2a3f5f"
           }
          },
          "ternary": {
           "aaxis": {
            "gridcolor": "white",
            "linecolor": "white",
            "ticks": ""
           },
           "baxis": {
            "gridcolor": "white",
            "linecolor": "white",
            "ticks": ""
           },
           "bgcolor": "#E5ECF6",
           "caxis": {
            "gridcolor": "white",
            "linecolor": "white",
            "ticks": ""
           }
          },
          "title": {
           "x": 0.05
          },
          "xaxis": {
           "automargin": true,
           "gridcolor": "white",
           "linecolor": "white",
           "ticks": "",
           "title": {
            "standoff": 15
           },
           "zerolinecolor": "white",
           "zerolinewidth": 2
          },
          "yaxis": {
           "automargin": true,
           "gridcolor": "white",
           "linecolor": "white",
           "ticks": "",
           "title": {
            "standoff": 15
           },
           "zerolinecolor": "white",
           "zerolinewidth": 2
          }
         }
        },
        "xaxis": {
         "anchor": "y",
         "domain": [
          0,
          1
         ],
         "title": {
          "text": "0"
         }
        },
        "yaxis": {
         "anchor": "x",
         "domain": [
          0,
          1
         ],
         "title": {
          "text": "1"
         }
        }
       }
      }
     },
     "metadata": {},
     "output_type": "display_data"
    }
   ],
   "source": [
    "df = px.data.iris()\n",
    "X = Xlist\n",
    "\n",
    "pca = PCA(n_components=2)\n",
    "components = pca.fit_transform(X)\n",
    "\n",
    "fig = px.scatter(components, x=0, y=1)\n",
    "fig.show()"
   ]
  },
  {
   "cell_type": "code",
   "execution_count": 287,
   "metadata": {},
   "outputs": [
    {
     "data": {
      "application/vnd.plotly.v1+json": {
       "config": {
        "plotlyServerURL": "https://plot.ly"
       },
       "data": [
        {
         "hovertemplate": "PC 1=%{x}<br>PC 2=%{y}<br>PC 3=%{z}<extra></extra>",
         "legendgroup": "",
         "marker": {
          "color": "#636efa",
          "symbol": "circle"
         },
         "mode": "markers",
         "name": "",
         "scene": "scene",
         "showlegend": false,
         "type": "scatter3d",
         "x": [
          13.097349166870117,
          17.16938591003418,
          20.540393829345703,
          23.41521644592285,
          25.946256637573242,
          28.21684455871582,
          30.20570945739746,
          32.003787994384766,
          33.54563522338867,
          34.926292419433594,
          -7.658234596252441,
          -9.825862884521484,
          -11.723580360412598,
          -13.262738227844238,
          -14.709132194519043,
          -16.01504898071289,
          -17.23079490661621,
          -18.261240005493164,
          -19.187654495239258,
          -19.942981719970703,
          -11.932391166687012,
          -15.281888961791992,
          -18.197858810424805,
          -20.79360008239746,
          -23.05185890197754,
          -25.032115936279297,
          -26.861238479614258,
          -28.42253303527832,
          -29.82241439819336,
          -31.061185836791992,
          1.9641118049621582,
          2.6585018634796143,
          3.1647586822509766,
          3.7020225524902344,
          4.119218349456787,
          4.582248687744141,
          4.934571266174316,
          5.187496662139893,
          5.489270210266113,
          5.834599018096924,
          3.879732847213745,
          5.046580791473389,
          6.0712666511535645,
          6.9226484298706055,
          7.739176273345947,
          8.513399124145508,
          9.117517471313477,
          9.614356994628906,
          10.117164611816406,
          10.548832893371582
         ],
         "y": [
          -7.763199806213379,
          -9.944706916809082,
          -11.797019004821777,
          -13.374616622924805,
          -14.768570899963379,
          -16.13715171813965,
          -17.195783615112305,
          -18.274375915527344,
          -19.15340805053711,
          -20.006534576416016,
          1.5186480283737183,
          1.8770391941070557,
          2.233351230621338,
          2.4797143936157227,
          2.8342316150665283,
          3.0021347999572754,
          3.239621877670288,
          3.4118947982788086,
          3.5053303241729736,
          3.5888257026672363,
          -4.794504642486572,
          -6.189270496368408,
          -7.434135913848877,
          -8.558183670043945,
          -9.482192039489746,
          -10.293978691101074,
          -11.16720199584961,
          -11.737157821655273,
          -12.310593605041504,
          -12.814329147338867,
          -5.560084342956543,
          -7.231321334838867,
          -8.57994556427002,
          -9.77099323272705,
          -10.794449806213379,
          -11.675044059753418,
          -12.464543342590332,
          -13.243017196655273,
          -13.974550247192383,
          -14.551872253417969,
          16.58913803100586,
          21.413854598999023,
          25.48387336730957,
          29.155364990234375,
          32.31306457519531,
          35.15203094482422,
          37.66100311279297,
          39.89579391479492,
          41.950199127197266,
          43.73764419555664
         ],
         "z": [
          -2.9870994091033936,
          -3.8543200492858887,
          -4.6473870277404785,
          -5.340997695922852,
          -5.838830947875977,
          -6.391632080078125,
          -6.934104919433594,
          -7.367085933685303,
          -7.6405348777771,
          -7.86790132522583,
          13.132373809814453,
          17.064085006713867,
          20.299213409423828,
          23.12791633605957,
          25.67951011657715,
          27.861223220825195,
          29.847599029541016,
          31.64869499206543,
          33.170921325683594,
          34.612091064453125,
          -12.170211791992188,
          -15.628772735595703,
          -18.646617889404297,
          -21.33373260498047,
          -23.56743049621582,
          -25.59951400756836,
          -27.51519775390625,
          -29.158510208129883,
          -30.614810943603516,
          -31.81003189086914,
          5.988302707672119,
          7.732889652252197,
          9.230876922607422,
          10.56186580657959,
          11.72631549835205,
          12.79325008392334,
          13.665628433227539,
          14.484970092773438,
          15.277901649475098,
          15.920859336853027,
          -4.041976451873779,
          -5.217562198638916,
          -6.20850944519043,
          -7.082730293273926,
          -7.866921424865723,
          -8.578594207763672,
          -9.211979866027832,
          -9.729982376098633,
          -10.235420227050781,
          -10.738062858581543
         ]
        }
       ],
       "layout": {
        "legend": {
         "tracegroupgap": 0
        },
        "scene": {
         "domain": {
          "x": [
           0,
           1
          ],
          "y": [
           0,
           1
          ]
         },
         "xaxis": {
          "title": {
           "text": "PC 1"
          }
         },
         "yaxis": {
          "title": {
           "text": "PC 2"
          }
         },
         "zaxis": {
          "title": {
           "text": "PC 3"
          }
         }
        },
        "template": {
         "data": {
          "bar": [
           {
            "error_x": {
             "color": "#2a3f5f"
            },
            "error_y": {
             "color": "#2a3f5f"
            },
            "marker": {
             "line": {
              "color": "#E5ECF6",
              "width": 0.5
             },
             "pattern": {
              "fillmode": "overlay",
              "size": 10,
              "solidity": 0.2
             }
            },
            "type": "bar"
           }
          ],
          "barpolar": [
           {
            "marker": {
             "line": {
              "color": "#E5ECF6",
              "width": 0.5
             },
             "pattern": {
              "fillmode": "overlay",
              "size": 10,
              "solidity": 0.2
             }
            },
            "type": "barpolar"
           }
          ],
          "carpet": [
           {
            "aaxis": {
             "endlinecolor": "#2a3f5f",
             "gridcolor": "white",
             "linecolor": "white",
             "minorgridcolor": "white",
             "startlinecolor": "#2a3f5f"
            },
            "baxis": {
             "endlinecolor": "#2a3f5f",
             "gridcolor": "white",
             "linecolor": "white",
             "minorgridcolor": "white",
             "startlinecolor": "#2a3f5f"
            },
            "type": "carpet"
           }
          ],
          "choropleth": [
           {
            "colorbar": {
             "outlinewidth": 0,
             "ticks": ""
            },
            "type": "choropleth"
           }
          ],
          "contour": [
           {
            "colorbar": {
             "outlinewidth": 0,
             "ticks": ""
            },
            "colorscale": [
             [
              0,
              "#0d0887"
             ],
             [
              0.1111111111111111,
              "#46039f"
             ],
             [
              0.2222222222222222,
              "#7201a8"
             ],
             [
              0.3333333333333333,
              "#9c179e"
             ],
             [
              0.4444444444444444,
              "#bd3786"
             ],
             [
              0.5555555555555556,
              "#d8576b"
             ],
             [
              0.6666666666666666,
              "#ed7953"
             ],
             [
              0.7777777777777778,
              "#fb9f3a"
             ],
             [
              0.8888888888888888,
              "#fdca26"
             ],
             [
              1,
              "#f0f921"
             ]
            ],
            "type": "contour"
           }
          ],
          "contourcarpet": [
           {
            "colorbar": {
             "outlinewidth": 0,
             "ticks": ""
            },
            "type": "contourcarpet"
           }
          ],
          "heatmap": [
           {
            "colorbar": {
             "outlinewidth": 0,
             "ticks": ""
            },
            "colorscale": [
             [
              0,
              "#0d0887"
             ],
             [
              0.1111111111111111,
              "#46039f"
             ],
             [
              0.2222222222222222,
              "#7201a8"
             ],
             [
              0.3333333333333333,
              "#9c179e"
             ],
             [
              0.4444444444444444,
              "#bd3786"
             ],
             [
              0.5555555555555556,
              "#d8576b"
             ],
             [
              0.6666666666666666,
              "#ed7953"
             ],
             [
              0.7777777777777778,
              "#fb9f3a"
             ],
             [
              0.8888888888888888,
              "#fdca26"
             ],
             [
              1,
              "#f0f921"
             ]
            ],
            "type": "heatmap"
           }
          ],
          "heatmapgl": [
           {
            "colorbar": {
             "outlinewidth": 0,
             "ticks": ""
            },
            "colorscale": [
             [
              0,
              "#0d0887"
             ],
             [
              0.1111111111111111,
              "#46039f"
             ],
             [
              0.2222222222222222,
              "#7201a8"
             ],
             [
              0.3333333333333333,
              "#9c179e"
             ],
             [
              0.4444444444444444,
              "#bd3786"
             ],
             [
              0.5555555555555556,
              "#d8576b"
             ],
             [
              0.6666666666666666,
              "#ed7953"
             ],
             [
              0.7777777777777778,
              "#fb9f3a"
             ],
             [
              0.8888888888888888,
              "#fdca26"
             ],
             [
              1,
              "#f0f921"
             ]
            ],
            "type": "heatmapgl"
           }
          ],
          "histogram": [
           {
            "marker": {
             "pattern": {
              "fillmode": "overlay",
              "size": 10,
              "solidity": 0.2
             }
            },
            "type": "histogram"
           }
          ],
          "histogram2d": [
           {
            "colorbar": {
             "outlinewidth": 0,
             "ticks": ""
            },
            "colorscale": [
             [
              0,
              "#0d0887"
             ],
             [
              0.1111111111111111,
              "#46039f"
             ],
             [
              0.2222222222222222,
              "#7201a8"
             ],
             [
              0.3333333333333333,
              "#9c179e"
             ],
             [
              0.4444444444444444,
              "#bd3786"
             ],
             [
              0.5555555555555556,
              "#d8576b"
             ],
             [
              0.6666666666666666,
              "#ed7953"
             ],
             [
              0.7777777777777778,
              "#fb9f3a"
             ],
             [
              0.8888888888888888,
              "#fdca26"
             ],
             [
              1,
              "#f0f921"
             ]
            ],
            "type": "histogram2d"
           }
          ],
          "histogram2dcontour": [
           {
            "colorbar": {
             "outlinewidth": 0,
             "ticks": ""
            },
            "colorscale": [
             [
              0,
              "#0d0887"
             ],
             [
              0.1111111111111111,
              "#46039f"
             ],
             [
              0.2222222222222222,
              "#7201a8"
             ],
             [
              0.3333333333333333,
              "#9c179e"
             ],
             [
              0.4444444444444444,
              "#bd3786"
             ],
             [
              0.5555555555555556,
              "#d8576b"
             ],
             [
              0.6666666666666666,
              "#ed7953"
             ],
             [
              0.7777777777777778,
              "#fb9f3a"
             ],
             [
              0.8888888888888888,
              "#fdca26"
             ],
             [
              1,
              "#f0f921"
             ]
            ],
            "type": "histogram2dcontour"
           }
          ],
          "mesh3d": [
           {
            "colorbar": {
             "outlinewidth": 0,
             "ticks": ""
            },
            "type": "mesh3d"
           }
          ],
          "parcoords": [
           {
            "line": {
             "colorbar": {
              "outlinewidth": 0,
              "ticks": ""
             }
            },
            "type": "parcoords"
           }
          ],
          "pie": [
           {
            "automargin": true,
            "type": "pie"
           }
          ],
          "scatter": [
           {
            "fillpattern": {
             "fillmode": "overlay",
             "size": 10,
             "solidity": 0.2
            },
            "type": "scatter"
           }
          ],
          "scatter3d": [
           {
            "line": {
             "colorbar": {
              "outlinewidth": 0,
              "ticks": ""
             }
            },
            "marker": {
             "colorbar": {
              "outlinewidth": 0,
              "ticks": ""
             }
            },
            "type": "scatter3d"
           }
          ],
          "scattercarpet": [
           {
            "marker": {
             "colorbar": {
              "outlinewidth": 0,
              "ticks": ""
             }
            },
            "type": "scattercarpet"
           }
          ],
          "scattergeo": [
           {
            "marker": {
             "colorbar": {
              "outlinewidth": 0,
              "ticks": ""
             }
            },
            "type": "scattergeo"
           }
          ],
          "scattergl": [
           {
            "marker": {
             "colorbar": {
              "outlinewidth": 0,
              "ticks": ""
             }
            },
            "type": "scattergl"
           }
          ],
          "scattermapbox": [
           {
            "marker": {
             "colorbar": {
              "outlinewidth": 0,
              "ticks": ""
             }
            },
            "type": "scattermapbox"
           }
          ],
          "scatterpolar": [
           {
            "marker": {
             "colorbar": {
              "outlinewidth": 0,
              "ticks": ""
             }
            },
            "type": "scatterpolar"
           }
          ],
          "scatterpolargl": [
           {
            "marker": {
             "colorbar": {
              "outlinewidth": 0,
              "ticks": ""
             }
            },
            "type": "scatterpolargl"
           }
          ],
          "scatterternary": [
           {
            "marker": {
             "colorbar": {
              "outlinewidth": 0,
              "ticks": ""
             }
            },
            "type": "scatterternary"
           }
          ],
          "surface": [
           {
            "colorbar": {
             "outlinewidth": 0,
             "ticks": ""
            },
            "colorscale": [
             [
              0,
              "#0d0887"
             ],
             [
              0.1111111111111111,
              "#46039f"
             ],
             [
              0.2222222222222222,
              "#7201a8"
             ],
             [
              0.3333333333333333,
              "#9c179e"
             ],
             [
              0.4444444444444444,
              "#bd3786"
             ],
             [
              0.5555555555555556,
              "#d8576b"
             ],
             [
              0.6666666666666666,
              "#ed7953"
             ],
             [
              0.7777777777777778,
              "#fb9f3a"
             ],
             [
              0.8888888888888888,
              "#fdca26"
             ],
             [
              1,
              "#f0f921"
             ]
            ],
            "type": "surface"
           }
          ],
          "table": [
           {
            "cells": {
             "fill": {
              "color": "#EBF0F8"
             },
             "line": {
              "color": "white"
             }
            },
            "header": {
             "fill": {
              "color": "#C8D4E3"
             },
             "line": {
              "color": "white"
             }
            },
            "type": "table"
           }
          ]
         },
         "layout": {
          "annotationdefaults": {
           "arrowcolor": "#2a3f5f",
           "arrowhead": 0,
           "arrowwidth": 1
          },
          "autotypenumbers": "strict",
          "coloraxis": {
           "colorbar": {
            "outlinewidth": 0,
            "ticks": ""
           }
          },
          "colorscale": {
           "diverging": [
            [
             0,
             "#8e0152"
            ],
            [
             0.1,
             "#c51b7d"
            ],
            [
             0.2,
             "#de77ae"
            ],
            [
             0.3,
             "#f1b6da"
            ],
            [
             0.4,
             "#fde0ef"
            ],
            [
             0.5,
             "#f7f7f7"
            ],
            [
             0.6,
             "#e6f5d0"
            ],
            [
             0.7,
             "#b8e186"
            ],
            [
             0.8,
             "#7fbc41"
            ],
            [
             0.9,
             "#4d9221"
            ],
            [
             1,
             "#276419"
            ]
           ],
           "sequential": [
            [
             0,
             "#0d0887"
            ],
            [
             0.1111111111111111,
             "#46039f"
            ],
            [
             0.2222222222222222,
             "#7201a8"
            ],
            [
             0.3333333333333333,
             "#9c179e"
            ],
            [
             0.4444444444444444,
             "#bd3786"
            ],
            [
             0.5555555555555556,
             "#d8576b"
            ],
            [
             0.6666666666666666,
             "#ed7953"
            ],
            [
             0.7777777777777778,
             "#fb9f3a"
            ],
            [
             0.8888888888888888,
             "#fdca26"
            ],
            [
             1,
             "#f0f921"
            ]
           ],
           "sequentialminus": [
            [
             0,
             "#0d0887"
            ],
            [
             0.1111111111111111,
             "#46039f"
            ],
            [
             0.2222222222222222,
             "#7201a8"
            ],
            [
             0.3333333333333333,
             "#9c179e"
            ],
            [
             0.4444444444444444,
             "#bd3786"
            ],
            [
             0.5555555555555556,
             "#d8576b"
            ],
            [
             0.6666666666666666,
             "#ed7953"
            ],
            [
             0.7777777777777778,
             "#fb9f3a"
            ],
            [
             0.8888888888888888,
             "#fdca26"
            ],
            [
             1,
             "#f0f921"
            ]
           ]
          },
          "colorway": [
           "#636efa",
           "#EF553B",
           "#00cc96",
           "#ab63fa",
           "#FFA15A",
           "#19d3f3",
           "#FF6692",
           "#B6E880",
           "#FF97FF",
           "#FECB52"
          ],
          "font": {
           "color": "#2a3f5f"
          },
          "geo": {
           "bgcolor": "white",
           "lakecolor": "white",
           "landcolor": "#E5ECF6",
           "showlakes": true,
           "showland": true,
           "subunitcolor": "white"
          },
          "hoverlabel": {
           "align": "left"
          },
          "hovermode": "closest",
          "mapbox": {
           "style": "light"
          },
          "paper_bgcolor": "white",
          "plot_bgcolor": "#E5ECF6",
          "polar": {
           "angularaxis": {
            "gridcolor": "white",
            "linecolor": "white",
            "ticks": ""
           },
           "bgcolor": "#E5ECF6",
           "radialaxis": {
            "gridcolor": "white",
            "linecolor": "white",
            "ticks": ""
           }
          },
          "scene": {
           "xaxis": {
            "backgroundcolor": "#E5ECF6",
            "gridcolor": "white",
            "gridwidth": 2,
            "linecolor": "white",
            "showbackground": true,
            "ticks": "",
            "zerolinecolor": "white"
           },
           "yaxis": {
            "backgroundcolor": "#E5ECF6",
            "gridcolor": "white",
            "gridwidth": 2,
            "linecolor": "white",
            "showbackground": true,
            "ticks": "",
            "zerolinecolor": "white"
           },
           "zaxis": {
            "backgroundcolor": "#E5ECF6",
            "gridcolor": "white",
            "gridwidth": 2,
            "linecolor": "white",
            "showbackground": true,
            "ticks": "",
            "zerolinecolor": "white"
           }
          },
          "shapedefaults": {
           "line": {
            "color": "#2a3f5f"
           }
          },
          "ternary": {
           "aaxis": {
            "gridcolor": "white",
            "linecolor": "white",
            "ticks": ""
           },
           "baxis": {
            "gridcolor": "white",
            "linecolor": "white",
            "ticks": ""
           },
           "bgcolor": "#E5ECF6",
           "caxis": {
            "gridcolor": "white",
            "linecolor": "white",
            "ticks": ""
           }
          },
          "title": {
           "x": 0.05
          },
          "xaxis": {
           "automargin": true,
           "gridcolor": "white",
           "linecolor": "white",
           "ticks": "",
           "title": {
            "standoff": 15
           },
           "zerolinecolor": "white",
           "zerolinewidth": 2
          },
          "yaxis": {
           "automargin": true,
           "gridcolor": "white",
           "linecolor": "white",
           "ticks": "",
           "title": {
            "standoff": 15
           },
           "zerolinecolor": "white",
           "zerolinewidth": 2
          }
         }
        },
        "title": {
         "text": "Total Explained Variance: 69.15%"
        }
       }
      }
     },
     "metadata": {},
     "output_type": "display_data"
    }
   ],
   "source": [
    "X = Xlist\n",
    "\n",
    "pca = PCA(n_components=3)\n",
    "components = pca.fit_transform(X)\n",
    "\n",
    "total_var = pca.explained_variance_ratio_.sum() * 100\n",
    "\n",
    "fig = px.scatter_3d(\n",
    "    components, x=0, y=1, z=2,\n",
    "    title=f'Total Explained Variance: {total_var:.2f}%',\n",
    "    labels={'0': 'PC 1', '1': 'PC 2', '2': 'PC 3'}\n",
    ")\n",
    "fig.show()"
   ]
  },
  {
   "attachments": {},
   "cell_type": "markdown",
   "metadata": {},
   "source": [
    "MODEL GRADİENT HESABI İLE OPTİMUM YOLUN BULUNMASI"
   ]
  },
  {
   "attachments": {},
   "cell_type": "markdown",
   "metadata": {},
   "source": [
    "1. İLE 2. NOKTA ARASINDA"
   ]
  },
  {
   "cell_type": "code",
   "execution_count": 344,
   "metadata": {},
   "outputs": [
    {
     "name": "stdout",
     "output_type": "stream",
     "text": [
      "Interpolated weights 0:\n",
      "313/313 [==============================] - 1s 3ms/step - loss: 0.3481 - accuracy: 0.8826\n",
      "Interpolated weights 1:\n",
      "313/313 [==============================] - 1s 3ms/step - loss: 0.5167 - accuracy: 0.8264\n",
      "Interpolated weights 2:\n",
      "313/313 [==============================] - 1s 3ms/step - loss: 1.1456 - accuracy: 0.6202\n",
      "Interpolated weights 3:\n",
      "313/313 [==============================] - 1s 3ms/step - loss: 1.0429 - accuracy: 0.6528\n",
      "Interpolated weights 4:\n",
      "313/313 [==============================] - 1s 3ms/step - loss: 0.4579 - accuracy: 0.8475\n",
      "Interpolated weights 5:\n",
      "313/313 [==============================] - 1s 3ms/step - loss: 0.3536 - accuracy: 0.8780\n",
      "Interpolated weights 6:\n",
      "313/313 [==============================] - 1s 3ms/step - loss: 0.3536 - accuracy: 0.8780\n",
      "313/313 [==============================] - 1s 2ms/step - loss: 0.3481 - accuracy: 0.8826\n",
      "313/313 [==============================] - 1s 2ms/step - loss: 1.1456 - accuracy: 0.6202\n",
      "0.34806129336357117 1.1456211805343628\n",
      " 19/313 [>.............................] - ETA: 0s - loss: 0.5130 - accuracy: 0.8355"
     ]
    },
    {
     "name": "stderr",
     "output_type": "stream",
     "text": [
      "C:\\Users\\enes_\\AppData\\Local\\Temp\\ipykernel_7704\\3407108282.py:85: VisibleDeprecationWarning:\n",
      "\n",
      "Creating an ndarray from ragged nested sequences (which is a list-or-tuple of lists-or-tuples-or ndarrays with different lengths or shapes) is deprecated. If you meant to do this, you must specify 'dtype=object' when creating the ndarray.\n",
      "\n"
     ]
    },
    {
     "name": "stdout",
     "output_type": "stream",
     "text": [
      "313/313 [==============================] - 1s 3ms/step - loss: 0.5167 - accuracy: 0.8264\n",
      "313/313 [==============================] - 1s 3ms/step - loss: 1.0429 - accuracy: 0.6528\n",
      "0.5166670680046082 1.042905330657959\n",
      "313/313 [==============================] - 1s 3ms/step - loss: 1.1456 - accuracy: 0.6202\n",
      "313/313 [==============================] - 1s 3ms/step - loss: 0.4579 - accuracy: 0.8475\n",
      "1.1456211805343628 0.4579296410083771\n",
      " 40/313 [==>...........................] - ETA: 0s - loss: 1.0691 - accuracy: 0.6422"
     ]
    },
    {
     "name": "stderr",
     "output_type": "stream",
     "text": [
      "C:\\Users\\enes_\\AppData\\Local\\Temp\\ipykernel_7704\\3407108282.py:87: VisibleDeprecationWarning:\n",
      "\n",
      "Creating an ndarray from ragged nested sequences (which is a list-or-tuple of lists-or-tuples-or ndarrays with different lengths or shapes) is deprecated. If you meant to do this, you must specify 'dtype=object' when creating the ndarray.\n",
      "\n"
     ]
    },
    {
     "name": "stdout",
     "output_type": "stream",
     "text": [
      "313/313 [==============================] - 1s 2ms/step - loss: 1.0429 - accuracy: 0.6528\n",
      "313/313 [==============================] - 1s 2ms/step - loss: 0.3536 - accuracy: 0.8780\n",
      "1.042905330657959 0.35360366106033325\n",
      "313/313 [==============================] - 1s 2ms/step - loss: 0.4579 - accuracy: 0.8475\n",
      "313/313 [==============================] - 1s 3ms/step - loss: 0.3536 - accuracy: 0.8780\n",
      "0.4579296410083771 0.35360366106033325\n"
     ]
    },
    {
     "name": "stderr",
     "output_type": "stream",
     "text": [
      "C:\\Users\\enes_\\AppData\\Local\\Temp\\ipykernel_7704\\3407108282.py:93: VisibleDeprecationWarning:\n",
      "\n",
      "Creating an ndarray from ragged nested sequences (which is a list-or-tuple of lists-or-tuples-or ndarrays with different lengths or shapes) is deprecated. If you meant to do this, you must specify 'dtype=object' when creating the ndarray.\n",
      "\n",
      "C:\\Users\\enes_\\AppData\\Local\\Temp\\ipykernel_7704\\3407108282.py:112: VisibleDeprecationWarning:\n",
      "\n",
      "Creating an ndarray from ragged nested sequences (which is a list-or-tuple of lists-or-tuples-or ndarrays with different lengths or shapes) is deprecated. If you meant to do this, you must specify 'dtype=object' when creating the ndarray.\n",
      "\n",
      "C:\\Users\\enes_\\AppData\\Local\\Temp\\ipykernel_7704\\3407108282.py:142: VisibleDeprecationWarning:\n",
      "\n",
      "Creating an ndarray from ragged nested sequences (which is a list-or-tuple of lists-or-tuples-or ndarrays with different lengths or shapes) is deprecated. If you meant to do this, you must specify 'dtype=object' when creating the ndarray.\n",
      "\n"
     ]
    },
    {
     "name": "stdout",
     "output_type": "stream",
     "text": [
      "313/313 [==============================] - 1s 2ms/step - loss: 0.3481 - accuracy: 0.8826\n",
      "313/313 [==============================] - 1s 2ms/step - loss: 8.1715 - accuracy: 0.1000\n",
      "0.34806129336357117 8.171475410461426\n",
      "313/313 [==============================] - 1s 3ms/step - loss: 16.6979 - accuracy: 0.1000\n",
      "313/313 [==============================] - 1s 3ms/step - loss: 8.5636 - accuracy: 0.1000\n",
      "16.69786262512207 8.563552856445312\n",
      "313/313 [==============================] - 1s 2ms/step - loss: 8.1715 - accuracy: 0.1000\n",
      "313/313 [==============================] - 1s 3ms/step - loss: 20.3158 - accuracy: 0.1000\n",
      "8.171475410461426 20.31580352783203\n",
      "313/313 [==============================] - 1s 3ms/step - loss: 8.5636 - accuracy: 0.1000\n",
      "313/313 [==============================] - 1s 3ms/step - loss: 16.8827 - accuracy: 0.1213\n",
      "8.563552856445312 16.882719039916992\n",
      "313/313 [==============================] - 1s 3ms/step - loss: 20.3158 - accuracy: 0.1000\n",
      "313/313 [==============================] - 1s 3ms/step - loss: 0.3536 - accuracy: 0.8780\n",
      "20.31580352783203 0.35360366106033325\n",
      "313/313 [==============================] - 1s 2ms/step - loss: 0.3481 - accuracy: 0.8826\n",
      "313/313 [==============================] - 1s 3ms/step - loss: 8.6245 - accuracy: 0.1000\n",
      "0.34806129336357117 8.62454891204834\n",
      "313/313 [==============================] - 1s 3ms/step - loss: 16.7308 - accuracy: 0.1000\n",
      "313/313 [==============================] - 1s 3ms/step - loss: 8.9890 - accuracy: 0.1000\n",
      "16.730775833129883 8.988987922668457\n",
      "313/313 [==============================] - 1s 3ms/step - loss: 8.6245 - accuracy: 0.1000\n",
      "313/313 [==============================] - 1s 3ms/step - loss: 20.3387 - accuracy: 0.1000\n",
      "8.62454891204834 20.338653564453125\n",
      "313/313 [==============================] - 1s 3ms/step - loss: 8.9890 - accuracy: 0.1000\n",
      "313/313 [==============================] - 1s 3ms/step - loss: 20.8855 - accuracy: 0.1001\n",
      "8.988987922668457 20.88554573059082\n",
      "313/313 [==============================] - 1s 3ms/step - loss: 20.3387 - accuracy: 0.1000\n",
      "313/313 [==============================] - 1s 2ms/step - loss: 0.3536 - accuracy: 0.8780\n",
      "20.338653564453125 0.35360366106033325\n",
      "313/313 [==============================] - 1s 3ms/step - loss: 0.3481 - accuracy: 0.8826\n",
      "313/313 [==============================] - 1s 3ms/step - loss: 8.9774 - accuracy: 0.1000\n",
      "0.34806129336357117 8.977407455444336\n",
      "313/313 [==============================] - 1s 3ms/step - loss: 16.7632 - accuracy: 0.1000\n",
      "313/313 [==============================] - 1s 3ms/step - loss: 9.3209 - accuracy: 0.1000\n",
      "16.763248443603516 9.32089900970459\n",
      "313/313 [==============================] - 1s 3ms/step - loss: 8.9774 - accuracy: 0.1000\n",
      "313/313 [==============================] - 1s 3ms/step - loss: 20.3613 - accuracy: 0.1000\n",
      "8.977407455444336 20.36125373840332\n",
      "313/313 [==============================] - 1s 3ms/step - loss: 9.3209 - accuracy: 0.1000\n",
      "313/313 [==============================] - 1s 3ms/step - loss: 21.0422 - accuracy: 0.1001\n",
      "9.32089900970459 21.042245864868164\n",
      "313/313 [==============================] - 1s 3ms/step - loss: 20.3613 - accuracy: 0.1000\n",
      "313/313 [==============================] - 1s 3ms/step - loss: 0.3536 - accuracy: 0.8780\n",
      "20.36125373840332 0.35360366106033325\n"
     ]
    },
    {
     "ename": "KeyboardInterrupt",
     "evalue": "",
     "output_type": "error",
     "traceback": [
      "\u001b[1;31m---------------------------------------------------------------------------\u001b[0m",
      "\u001b[1;31mKeyboardInterrupt\u001b[0m                         Traceback (most recent call last)",
      "\u001b[1;32md:\\GitHub\\YapaySinirAğıKararlarınınBirleştirilmesi\\Model_2\\model_2.ipynb Cell 24\u001b[0m in \u001b[0;36m<cell line: 24>\u001b[1;34m()\u001b[0m\n\u001b[0;32m     <a href='vscode-notebook-cell:/d%3A/GitHub/YapaySinirA%C4%9F%C4%B1Kararlar%C4%B1n%C4%B1nBirle%C5%9Ftirilmesi/Model_2/model_2.ipynb#X20sZmlsZQ%3D%3D?line=67'>68</a>\u001b[0m grads \u001b[39m=\u001b[39m []\n\u001b[0;32m     <a href='vscode-notebook-cell:/d%3A/GitHub/YapaySinirA%C4%9F%C4%B1Kararlar%C4%B1n%C4%B1nBirle%C5%9Ftirilmesi/Model_2/model_2.ipynb#X20sZmlsZQ%3D%3D?line=68'>69</a>\u001b[0m \u001b[39mfor\u001b[39;00m i \u001b[39min\u001b[39;00m \u001b[39mrange\u001b[39m(\u001b[39m1\u001b[39m,\u001b[39m6\u001b[39m,\u001b[39m1\u001b[39m):\n\u001b[1;32m---> <a href='vscode-notebook-cell:/d%3A/GitHub/YapaySinirA%C4%9F%C4%B1Kararlar%C4%B1n%C4%B1nBirle%C5%9Ftirilmesi/Model_2/model_2.ipynb#X20sZmlsZQ%3D%3D?line=69'>70</a>\u001b[0m     grads\u001b[39m.\u001b[39mappend(step(train_images,train_labels,i))\n\u001b[0;32m     <a href='vscode-notebook-cell:/d%3A/GitHub/YapaySinirA%C4%9F%C4%B1Kararlar%C4%B1n%C4%B1nBirle%C5%9Ftirilmesi/Model_2/model_2.ipynb#X20sZmlsZQ%3D%3D?line=72'>73</a>\u001b[0m \u001b[39m# Tan değerlerinin hesaplanması\u001b[39;00m\n\u001b[0;32m     <a href='vscode-notebook-cell:/d%3A/GitHub/YapaySinirA%C4%9F%C4%B1Kararlar%C4%B1n%C4%B1nBirle%C5%9Ftirilmesi/Model_2/model_2.ipynb#X20sZmlsZQ%3D%3D?line=73'>74</a>\u001b[0m tanvalue \u001b[39m=\u001b[39m []\n",
      "\u001b[1;32md:\\GitHub\\YapaySinirAğıKararlarınınBirleştirilmesi\\Model_2\\model_2.ipynb Cell 24\u001b[0m in \u001b[0;36mstep\u001b[1;34m(X, y, i)\u001b[0m\n\u001b[0;32m     <a href='vscode-notebook-cell:/d%3A/GitHub/YapaySinirA%C4%9F%C4%B1Kararlar%C4%B1n%C4%B1nBirle%C5%9Ftirilmesi/Model_2/model_2.ipynb#X20sZmlsZQ%3D%3D?line=60'>61</a>\u001b[0m     loss \u001b[39m=\u001b[39m categorical_crossentropy(tensor2, pred)\n\u001b[0;32m     <a href='vscode-notebook-cell:/d%3A/GitHub/YapaySinirA%C4%9F%C4%B1Kararlar%C4%B1n%C4%B1nBirle%C5%9Ftirilmesi/Model_2/model_2.ipynb#X20sZmlsZQ%3D%3D?line=61'>62</a>\u001b[0m \u001b[39m# calculate the gradients using our tape and then update the\u001b[39;00m\n\u001b[0;32m     <a href='vscode-notebook-cell:/d%3A/GitHub/YapaySinirA%C4%9F%C4%B1Kararlar%C4%B1n%C4%B1nBirle%C5%9Ftirilmesi/Model_2/model_2.ipynb#X20sZmlsZQ%3D%3D?line=62'>63</a>\u001b[0m \u001b[39m# model weights\u001b[39;00m\n\u001b[1;32m---> <a href='vscode-notebook-cell:/d%3A/GitHub/YapaySinirA%C4%9F%C4%B1Kararlar%C4%B1n%C4%B1nBirle%C5%9Ftirilmesi/Model_2/model_2.ipynb#X20sZmlsZQ%3D%3D?line=63'>64</a>\u001b[0m grads \u001b[39m=\u001b[39m tape\u001b[39m.\u001b[39;49mgradient(loss, model\u001b[39m.\u001b[39;49mtrainable_variables)\n\u001b[0;32m     <a href='vscode-notebook-cell:/d%3A/GitHub/YapaySinirA%C4%9F%C4%B1Kararlar%C4%B1n%C4%B1nBirle%C5%9Ftirilmesi/Model_2/model_2.ipynb#X20sZmlsZQ%3D%3D?line=64'>65</a>\u001b[0m \u001b[39mreturn\u001b[39;00m grads\n",
      "File \u001b[1;32mc:\\Users\\enes_\\AppData\\Local\\Programs\\Python\\Python39\\lib\\site-packages\\tensorflow\\python\\eager\\backprop.py:1113\u001b[0m, in \u001b[0;36mGradientTape.gradient\u001b[1;34m(self, target, sources, output_gradients, unconnected_gradients)\u001b[0m\n\u001b[0;32m   1107\u001b[0m   output_gradients \u001b[39m=\u001b[39m (\n\u001b[0;32m   1108\u001b[0m       composite_tensor_gradient\u001b[39m.\u001b[39mget_flat_tensors_for_gradients(\n\u001b[0;32m   1109\u001b[0m           output_gradients))\n\u001b[0;32m   1110\u001b[0m   output_gradients \u001b[39m=\u001b[39m [\u001b[39mNone\u001b[39;00m \u001b[39mif\u001b[39;00m x \u001b[39mis\u001b[39;00m \u001b[39mNone\u001b[39;00m \u001b[39melse\u001b[39;00m ops\u001b[39m.\u001b[39mconvert_to_tensor(x)\n\u001b[0;32m   1111\u001b[0m                       \u001b[39mfor\u001b[39;00m x \u001b[39min\u001b[39;00m output_gradients]\n\u001b[1;32m-> 1113\u001b[0m flat_grad \u001b[39m=\u001b[39m imperative_grad\u001b[39m.\u001b[39;49mimperative_grad(\n\u001b[0;32m   1114\u001b[0m     \u001b[39mself\u001b[39;49m\u001b[39m.\u001b[39;49m_tape,\n\u001b[0;32m   1115\u001b[0m     flat_targets,\n\u001b[0;32m   1116\u001b[0m     flat_sources,\n\u001b[0;32m   1117\u001b[0m     output_gradients\u001b[39m=\u001b[39;49moutput_gradients,\n\u001b[0;32m   1118\u001b[0m     sources_raw\u001b[39m=\u001b[39;49mflat_sources_raw,\n\u001b[0;32m   1119\u001b[0m     unconnected_gradients\u001b[39m=\u001b[39;49munconnected_gradients)\n\u001b[0;32m   1121\u001b[0m \u001b[39mif\u001b[39;00m \u001b[39mnot\u001b[39;00m \u001b[39mself\u001b[39m\u001b[39m.\u001b[39m_persistent:\n\u001b[0;32m   1122\u001b[0m   \u001b[39m# Keep track of watched variables before setting tape to None\u001b[39;00m\n\u001b[0;32m   1123\u001b[0m   \u001b[39mself\u001b[39m\u001b[39m.\u001b[39m_watched_variables \u001b[39m=\u001b[39m \u001b[39mself\u001b[39m\u001b[39m.\u001b[39m_tape\u001b[39m.\u001b[39mwatched_variables()\n",
      "File \u001b[1;32mc:\\Users\\enes_\\AppData\\Local\\Programs\\Python\\Python39\\lib\\site-packages\\tensorflow\\python\\eager\\imperative_grad.py:67\u001b[0m, in \u001b[0;36mimperative_grad\u001b[1;34m(tape, target, sources, output_gradients, sources_raw, unconnected_gradients)\u001b[0m\n\u001b[0;32m     63\u001b[0m \u001b[39mexcept\u001b[39;00m \u001b[39mValueError\u001b[39;00m:\n\u001b[0;32m     64\u001b[0m   \u001b[39mraise\u001b[39;00m \u001b[39mValueError\u001b[39;00m(\n\u001b[0;32m     65\u001b[0m       \u001b[39m\"\u001b[39m\u001b[39mUnknown value for unconnected_gradients: \u001b[39m\u001b[39m%r\u001b[39;00m\u001b[39m\"\u001b[39m \u001b[39m%\u001b[39m unconnected_gradients)\n\u001b[1;32m---> 67\u001b[0m \u001b[39mreturn\u001b[39;00m pywrap_tfe\u001b[39m.\u001b[39;49mTFE_Py_TapeGradient(\n\u001b[0;32m     68\u001b[0m     tape\u001b[39m.\u001b[39;49m_tape,  \u001b[39m# pylint: disable=protected-access\u001b[39;49;00m\n\u001b[0;32m     69\u001b[0m     target,\n\u001b[0;32m     70\u001b[0m     sources,\n\u001b[0;32m     71\u001b[0m     output_gradients,\n\u001b[0;32m     72\u001b[0m     sources_raw,\n\u001b[0;32m     73\u001b[0m     compat\u001b[39m.\u001b[39;49mas_str(unconnected_gradients\u001b[39m.\u001b[39;49mvalue))\n",
      "File \u001b[1;32mc:\\Users\\enes_\\AppData\\Local\\Programs\\Python\\Python39\\lib\\site-packages\\tensorflow\\python\\eager\\backprop.py:130\u001b[0m, in \u001b[0;36m_gradient_function\u001b[1;34m(op_name, attr_tuple, num_inputs, inputs, outputs, out_grads, skip_input_indices, forward_pass_name_scope)\u001b[0m\n\u001b[0;32m    121\u001b[0m   \u001b[39mdef\u001b[39;00m \u001b[39m_get_control_flow_context\u001b[39m(\u001b[39mself\u001b[39m):\n\u001b[0;32m    122\u001b[0m     \u001b[39mraise\u001b[39;00m \u001b[39mNotImplementedError\u001b[39;00m(\n\u001b[0;32m    123\u001b[0m         \u001b[39m\"\u001b[39m\u001b[39mtf.GradientTape.gradients() does not support graph control flow \u001b[39m\u001b[39m\"\u001b[39m\n\u001b[0;32m    124\u001b[0m         \u001b[39m\"\u001b[39m\u001b[39moperations like tf.cond or tf.while at this time. Use tf.gradients() \u001b[39m\u001b[39m\"\u001b[39m\n\u001b[0;32m    125\u001b[0m         \u001b[39m\"\u001b[39m\u001b[39minstead. If you need this feature, please file a feature request at \u001b[39m\u001b[39m\"\u001b[39m\n\u001b[0;32m    126\u001b[0m         \u001b[39m\"\u001b[39m\u001b[39mhttps://github.com/tensorflow/tensorflow/issues/new\u001b[39m\u001b[39m\"\u001b[39m\n\u001b[0;32m    127\u001b[0m     )\n\u001b[1;32m--> 130\u001b[0m \u001b[39mdef\u001b[39;00m \u001b[39m_gradient_function\u001b[39m(op_name, attr_tuple, num_inputs, inputs, outputs,\n\u001b[0;32m    131\u001b[0m                        out_grads, skip_input_indices, forward_pass_name_scope):\n\u001b[0;32m    132\u001b[0m   \u001b[39m\"\"\"Calls the gradient function of the op.\u001b[39;00m\n\u001b[0;32m    133\u001b[0m \n\u001b[0;32m    134\u001b[0m \u001b[39m  Args:\u001b[39;00m\n\u001b[1;32m   (...)\u001b[0m\n\u001b[0;32m    146\u001b[0m \u001b[39m    The gradients with respect to the inputs of the function, as a list.\u001b[39;00m\n\u001b[0;32m    147\u001b[0m \u001b[39m  \"\"\"\u001b[39;00m\n\u001b[0;32m    148\u001b[0m   mock_op \u001b[39m=\u001b[39m _MockOp(attr_tuple, inputs, outputs, op_name, skip_input_indices)\n",
      "\u001b[1;31mKeyboardInterrupt\u001b[0m: "
     ]
    }
   ],
   "source": [
    "w0 = load_model('eachModel1/CheckPoint-10.hdf5')\n",
    "firstWeight = w0.get_weights()\n",
    "# w0.fit(train_images, train_labels, epochs=1, validation_data=(test_images, test_labels), verbose=2)\n",
    "\n",
    "wT = load_model('eachModel2/CheckPoint-10.hdf5')\n",
    "lastWeight = wT.get_weights()\n",
    "# wT.fit(train_images, train_labels, epochs=1, validation_data=(test_images, test_labels), verbose=2)\n",
    "\n",
    "tümNoktalarim = []\n",
    "for i in range(6):\n",
    "    tümNoktalarim.append([before + (after - before) * i / 5 for before, after in zip(firstWeight, lastWeight)])\n",
    "tümNoktalarim.append(lastWeight)\n",
    "\n",
    "ilkdogrunoktalari12 = tümNoktalarim.copy()\n",
    "\n",
    "dogruUzerindekiIlkkLoss = []\n",
    "for i, weights in enumerate(tümNoktalarim):\n",
    "    model.set_weights(weights)\n",
    "    print(f'Interpolated weights {i}:')\n",
    "    loss,accuracy=model.evaluate(test_images, test_labels)\n",
    "    dogruUzerindekiIlkkLoss.append(loss)\n",
    "\n",
    "# İterasyon başlangıç\n",
    "for T in range(5):\n",
    "    def step(X, y,i):\n",
    "        # keep track of our gradients\n",
    "        with tf.GradientTape() as tape:\n",
    "            # make a prediction using the model and then calculate the\n",
    "            # loss\n",
    "            model.set_weights(tümNoktalarim[i])\n",
    "            pred = model(X)\n",
    "\n",
    "            listem2 = []\n",
    "            for i in range(60000):\n",
    "                listem2.append(1)\n",
    "                for j in range(9):\n",
    "                    listem2.append(0)\n",
    "\n",
    "            listem2 = np.array(listem2)\n",
    "            listem2 = np.reshape(listem2,(60000,10))\n",
    "            listem2 = listem2\n",
    "\n",
    "\n",
    "\n",
    "            # listem = []\n",
    "            # for i in range(60000):\n",
    "            #     for j in range(10):\n",
    "            #         listem.append(y[i])\n",
    "\n",
    "            # listem = np.array(listem)\n",
    "            # listem = listem/9\n",
    "            # listem = np.reshape(listem,(60000,10))\n",
    "            # tensor1 = tf.convert_to_tensor(listem)\n",
    "\n",
    "            # print(\"y : \\n\",y.shape)\n",
    "            # print(\"pred : \\n\",pred.shape)\n",
    "            tensor1 = tf.convert_to_tensor(listem2)\n",
    "            # print(\"tensor1 : \\n\",tensor1.shape)\n",
    "            tensor2 = tf.reshape(tensor1,[60000,10])\n",
    "            # print(\"tensor2 : \\n\",tensor2.shape)\n",
    "            loss = categorical_crossentropy(tensor2, pred)\n",
    "        # calculate the gradients using our tape and then update the\n",
    "        # model weights\n",
    "        grads = tape.gradient(loss, model.trainable_variables)\n",
    "        return grads\n",
    "\n",
    "\n",
    "    grads = []\n",
    "    for i in range(1,6,1):\n",
    "        grads.append(step(train_images,train_labels,i))\n",
    "\n",
    "\n",
    "    # Tan değerlerinin hesaplanması\n",
    "    tanvalue = []\n",
    "    for i in range(1,6,1):\n",
    "        model.set_weights(tümNoktalarim[i-1])\n",
    "        dotResult1 = model.evaluate(test_images, test_labels)[0]\n",
    "\n",
    "        model.set_weights(tümNoktalarim[i+1])\n",
    "        dotResult2 = model.evaluate(test_images, test_labels)[0]\n",
    "\n",
    "        print(dotResult1,dotResult2)\n",
    "\n",
    "        if (dotResult2 > dotResult1):\n",
    "            tanvalue.append((np.array(tümNoktalarim[i+1]) - np.array(tümNoktalarim[i]))/5)\n",
    "        else:\n",
    "            tanvalue.append((np.array(tümNoktalarim[i]) - np.array(tümNoktalarim[i-1]))/5)\n",
    "\n",
    "    gradList = []\n",
    "    for i in range(5):\n",
    "        first = np.array(grads[i][0])\n",
    "        grad1 = [first[0:60000,:],np.array(grads[i][1]),np.array(grads[i][2]),np.array(grads[i][3]),np.array(grads[i][4]),np.array(grads[i][5])]\n",
    "        grad1 = np.array(grad1)\n",
    "        gradList.append(grad1)\n",
    "\n",
    "    esasGradList = gradList.copy()\n",
    "    gradList = np.array(gradList)\n",
    "\n",
    "\n",
    "    for i in range(5):\n",
    "        gradList[i][0] = gradList[i][0].flatten()\n",
    "        gradList[i][1] = gradList[i][1].flatten()\n",
    "        gradList[i][2] = gradList[i][2].flatten()\n",
    "        gradList[i][3] = gradList[i][3].flatten()\n",
    "        gradList[i][4] = gradList[i][4].flatten()\n",
    "        gradList[i][5] = gradList[i][5].flatten()\n",
    "\n",
    "\n",
    "    tanlistem = []\n",
    "    for i in range(5):\n",
    "        tanget = [tanvalue[i][0],tanvalue[i][1],tanvalue[i][2],tanvalue[i][3],tanvalue[i][4],tanvalue[i][5]]\n",
    "        tanget = np.array(tanget)\n",
    "        tanlistem.append(tanget)\n",
    "\n",
    "    esasTanList = tanlistem.copy()\n",
    "    tanlistem = np.array(tanlistem)\n",
    "\n",
    "    for i in range(5):\n",
    "        tanlistem[i][0] = tanlistem[i][0].flatten()\n",
    "        tanlistem[i][1] = tanlistem[i][1].flatten()\n",
    "        tanlistem[i][2] = tanlistem[i][2].flatten()\n",
    "        tanlistem[i][3] = tanlistem[i][3].flatten()\n",
    "        tanlistem[i][4] = tanlistem[i][4].flatten()\n",
    "        tanlistem[i][5] = tanlistem[i][5].flatten()\n",
    "\n",
    "    dotsonuc = []\n",
    "    for i in range(5):\n",
    "        denemesonuc1 = np.dot(tanlistem[i][0],gradList[i][0])\n",
    "        denemesonuc2 = np.dot(tanlistem[i][1],gradList[i][1])\n",
    "        denemesonuc3 = np.dot(tanlistem[i][2],gradList[i][2])\n",
    "        denemesonuc4 = np.dot(tanlistem[i][3],gradList[i][3])\n",
    "        denemesonuc5 = np.dot(tanlistem[i][4],gradList[i][4])\n",
    "        denemesonuc6 = np.dot(tanlistem[i][5],gradList[i][5])\n",
    "        sonuc1 = denemesonuc1+denemesonuc2+denemesonuc3+denemesonuc4+denemesonuc5+denemesonuc6\n",
    "        dotsonuc.append(sonuc1)\n",
    "\n",
    "    learningrate = 0.00001\n",
    "    güncelNoktlar = []\n",
    "    for i in range(5):\n",
    "        rightresult = dotsonuc[i]*esasTanList[i]\n",
    "        ilkdeğer = esasGradList[i]-rightresult\n",
    "        ilkgünceldeger = tümNoktalarim[i+1] - (learningrate*ilkdeğer)\n",
    "        güncelNoktlar.append(ilkgünceldeger)\n",
    "\n",
    "    # Bulunan noktaların güncellenmesi\n",
    "    for i in range(5):\n",
    "        tümNoktalarim[i+1] = güncelNoktlar[i]\n",
    "\n",
    "\n",
    "dogruUzerindekiSonkLoss = []\n",
    "for i in range(0,7,1):\n",
    "    model.set_weights(tümNoktalarim[i])\n",
    "    dogruResult = model.evaluate(test_images, test_labels)[0]\n",
    "    dogruUzerindekiSonkLoss.append(dogruResult)"
   ]
  },
  {
   "cell_type": "code",
   "execution_count": 340,
   "metadata": {},
   "outputs": [
    {
     "name": "stderr",
     "output_type": "stream",
     "text": [
      "No artists with labels found to put in legend.  Note that artists whose label start with an underscore are ignored when legend() is called with no argument.\n"
     ]
    },
    {
     "data": {
      "image/png": "[encoded data removed]",
      "text/plain": [
       "<Figure size 432x288 with 1 Axes>"
      ]
     },
     "metadata": {
      "needs_background": "light"
     },
     "output_type": "display_data"
    }
   ],
   "source": [
    "plt.plot(np.arange(0,7),dogruUzerindekiIlkkLoss)\n",
    "plt.title('1. ve 2. son nokta arasıda çizilen doğru üzerindeki loss değerleri')\n",
    "plt.ylabel('Loss')\n",
    "plt.xlabel('Noktalar')\n",
    "plt.legend(loc=\"upper left\")\n",
    "plt.show()"
   ]
  },
  {
   "cell_type": "code",
   "execution_count": 341,
   "metadata": {},
   "outputs": [
    {
     "name": "stderr",
     "output_type": "stream",
     "text": [
      "No artists with labels found to put in legend.  Note that artists whose label start with an underscore are ignored when legend() is called with no argument.\n"
     ]
    },
    {
     "data": {
      "image/png": "[encoded data removed]",
      "text/plain": [
       "<Figure size 432x288 with 1 Axes>"
      ]
     },
     "metadata": {
      "needs_background": "light"
     },
     "output_type": "display_data"
    }
   ],
   "source": [
    "plt.plot(np.arange(0,7),dogruUzerindekiSonkLoss)\n",
    "plt.title('1. ve 2. son nokta arasıda bulunan yeni yol')\n",
    "plt.ylabel('Loss')\n",
    "plt.xlabel('Noktalar')\n",
    "plt.legend(loc=\"upper left\")\n",
    "plt.show()"
   ]
  },
  {
   "cell_type": "code",
   "execution_count": null,
   "metadata": {},
   "outputs": [],
   "source": []
  },
  {
   "cell_type": "code",
   "execution_count": 319,
   "metadata": {},
   "outputs": [],
   "source": [
    "def step(X, y,i):\n",
    "    # keep track of our gradients\n",
    "    with tf.GradientTape() as tape:\n",
    "        # make a prediction using the model and then calculate the\n",
    "        # loss\n",
    "        model.set_weights(tümNoktalarim[i])\n",
    "        pred = model(X)\n",
    "        listem = []\n",
    "        for i in range(60000):\n",
    "            for j in range(10):\n",
    "                listem.append(y[i])\n",
    "\n",
    "        listem = np.array(listem)\n",
    "        listem = listem/9\n",
    "        # listem = np.reshape(listem,(60000,10))\n",
    "        # tensor1 = tf.convert_to_tensor(listem)\n",
    "\n",
    "        print(\"y : \\n\",y.shape)\n",
    "        print(\"pred : \\n\",pred.shape)\n",
    "        tensor1 = tf.convert_to_tensor(listem)\n",
    "        print(\"tensor1 : \\n\",tensor1.shape)\n",
    "        tensor2 = tf.reshape(tensor1,[60000,10])\n",
    "        print(\"tensor2 : \\n\",tensor2.shape)\n",
    "        loss = categorical_crossentropy(tensor2, pred)\n",
    "    # calculate the gradients using our tape and then update the\n",
    "    # model weights\n",
    "    grads = tape.gradient(loss, model.trainable_variables)\n",
    "    return grads"
   ]
  },
  {
   "cell_type": "code",
   "execution_count": 320,
   "metadata": {},
   "outputs": [
    {
     "name": "stdout",
     "output_type": "stream",
     "text": [
      "y : \n",
      " (60000,)\n",
      "pred : \n",
      " (60000, 10)\n",
      "tensor1 : \n",
      " (600000,)\n",
      "tensor2 : \n",
      " (60000, 10)\n"
     ]
    }
   ],
   "source": [
    "grads = step(train_images,train_labels,0)"
   ]
  },
  {
   "cell_type": "code",
   "execution_count": 321,
   "metadata": {},
   "outputs": [
    {
     "data": {
      "text/plain": [
       "6"
      ]
     },
     "execution_count": 321,
     "metadata": {},
     "output_type": "execute_result"
    }
   ],
   "source": [
    "len(grads)"
   ]
  },
  {
   "cell_type": "code",
   "execution_count": 247,
   "metadata": {},
   "outputs": [
    {
     "name": "stdout",
     "output_type": "stream",
     "text": [
      "1875/1875 - 6s - loss: 0.2225 - accuracy: 0.9155 - val_loss: 0.3415 - val_accuracy: 0.8818 - 6s/epoch - 3ms/step\n"
     ]
    },
    {
     "data": {
      "text/plain": [
       "<keras.callbacks.History at 0x1d4eb7f3100>"
      ]
     },
     "execution_count": 247,
     "metadata": {},
     "output_type": "execute_result"
    }
   ],
   "source": [
    "w0 = load_model('eachModel1/CheckPoint-10.hdf5')\n",
    "firstWeight = w0.get_weights()\n",
    "w0.fit(train_images, train_labels, epochs=1, validation_data=(test_images, test_labels), verbose=2)\n"
   ]
  },
  {
   "cell_type": "code",
   "execution_count": 249,
   "metadata": {},
   "outputs": [
    {
     "ename": "IndexError",
     "evalue": "index 6 is out of bounds for axis 0 with size 6",
     "output_type": "error",
     "traceback": [
      "\u001b[1;31m---------------------------------------------------------------------------\u001b[0m",
      "\u001b[1;31mIndexError\u001b[0m                                Traceback (most recent call last)",
      "\u001b[1;32md:\\GitHub\\YapaySinirAğıKararlarınınBirleştirilmesi\\Model_2\\model_2.ipynb Cell 39\u001b[0m in \u001b[0;36m<cell line: 2>\u001b[1;34m()\u001b[0m\n\u001b[0;32m      <a href='vscode-notebook-cell:/d%3A/GitHub/YapaySinirA%C4%9F%C4%B1Kararlar%C4%B1n%C4%B1nBirle%C5%9Ftirilmesi/Model_2/model_2.ipynb#X64sZmlsZQ%3D%3D?line=0'>1</a>\u001b[0m firstWeight \u001b[39m=\u001b[39m np\u001b[39m.\u001b[39marray(firstWeight)\n\u001b[1;32m----> <a href='vscode-notebook-cell:/d%3A/GitHub/YapaySinirA%C4%9F%C4%B1Kararlar%C4%B1n%C4%B1nBirle%C5%9Ftirilmesi/Model_2/model_2.ipynb#X64sZmlsZQ%3D%3D?line=1'>2</a>\u001b[0m firstWeight[\u001b[39m6\u001b[39;49m]\u001b[39m.\u001b[39mshape\n",
      "\u001b[1;31mIndexError\u001b[0m: index 6 is out of bounds for axis 0 with size 6"
     ]
    }
   ],
   "source": [
    "firstWeight = np.array(firstWeight)\n",
    "firstWeight[5].shape\n"
   ]
  },
  {
   "cell_type": "code",
   "execution_count": 311,
   "metadata": {},
   "outputs": [
    {
     "data": {
      "text/plain": [
       "<tf.Tensor: shape=(60000, 10), dtype=float32, numpy=\n",
       "array([[1., 0., 0., ..., 0., 0., 0.],\n",
       "       [1., 0., 0., ..., 0., 0., 0.],\n",
       "       [1., 0., 0., ..., 0., 0., 0.],\n",
       "       ...,\n",
       "       [1., 0., 0., ..., 0., 0., 0.],\n",
       "       [1., 0., 0., ..., 0., 0., 0.],\n",
       "       [1., 0., 0., ..., 0., 0., 0.]], dtype=float32)>"
      ]
     },
     "execution_count": 311,
     "metadata": {},
     "output_type": "execute_result"
    }
   ],
   "source": [
    "pred = model(train_images)\n",
    "pred"
   ]
  },
  {
   "cell_type": "code",
   "execution_count": 324,
   "metadata": {},
   "outputs": [],
   "source": [
    "listem2 = []\n",
    "for i in range(60000):\n",
    "    listem2.append(train_labels[i])\n",
    "    for j in range(9):\n",
    "        listem2.append(0)\n",
    "\n",
    "listem2 = np.array(listem2)\n",
    "listem2 = np.reshape(listem2,(60000,10))"
   ]
  },
  {
   "cell_type": "code",
   "execution_count": 333,
   "metadata": {},
   "outputs": [
    {
     "data": {
      "text/plain": [
       "array([[9, 0, 0, 0, 0, 0, 0, 0, 0, 0],\n",
       "       [0, 0, 0, 0, 0, 0, 0, 0, 0, 0],\n",
       "       [0, 0, 0, 0, 0, 0, 0, 0, 0, 0],\n",
       "       [3, 0, 0, 0, 0, 0, 0, 0, 0, 0],\n",
       "       [0, 0, 0, 0, 0, 0, 0, 0, 0, 0],\n",
       "       [2, 0, 0, 0, 0, 0, 0, 0, 0, 0],\n",
       "       [7, 0, 0, 0, 0, 0, 0, 0, 0, 0],\n",
       "       [2, 0, 0, 0, 0, 0, 0, 0, 0, 0],\n",
       "       [5, 0, 0, 0, 0, 0, 0, 0, 0, 0],\n",
       "       [5, 0, 0, 0, 0, 0, 0, 0, 0, 0]])"
      ]
     },
     "execution_count": 333,
     "metadata": {},
     "output_type": "execute_result"
    }
   ],
   "source": [
    "listem2 = np.array(listem2)\n",
    "listem2 = np.reshape(listem2,(60000,10))\n",
    "listem2[0:10]"
   ]
  },
  {
   "cell_type": "code",
   "execution_count": 289,
   "metadata": {},
   "outputs": [],
   "source": [
    "list1 = [1,2,3]"
   ]
  },
  {
   "cell_type": "code",
   "execution_count": 292,
   "metadata": {},
   "outputs": [],
   "source": [
    "list1 = np.array(list1)\n",
    "list1 =list1*(0.1)"
   ]
  },
  {
   "cell_type": "code",
   "execution_count": 293,
   "metadata": {},
   "outputs": [
    {
     "data": {
      "text/plain": [
       "array([0.1, 0.2, 0.3])"
      ]
     },
     "execution_count": 293,
     "metadata": {},
     "output_type": "execute_result"
    }
   ],
   "source": [
    "list1"
   ]
  },
  {
   "cell_type": "code",
   "execution_count": 187,
   "metadata": {},
   "outputs": [],
   "source": [
    "listem = []\n",
    "for i in range(60000):\n",
    "    for i in range(10):\n",
    "        listem.append(train_labels[i])"
   ]
  },
  {
   "cell_type": "code",
   "execution_count": 188,
   "metadata": {},
   "outputs": [],
   "source": [
    "listem = np.array(listem)"
   ]
  },
  {
   "cell_type": "code",
   "execution_count": 190,
   "metadata": {},
   "outputs": [],
   "source": [
    "listem = np.reshape(listem,(60000,10))"
   ]
  },
  {
   "cell_type": "code",
   "execution_count": 194,
   "metadata": {},
   "outputs": [
    {
     "data": {
      "text/plain": [
       "array([9, 0, 0, 3, 0, 2, 7, 2, 5, 5], dtype=uint8)"
      ]
     },
     "execution_count": 194,
     "metadata": {},
     "output_type": "execute_result"
    }
   ],
   "source": [
    "listem[0]"
   ]
  },
  {
   "cell_type": "code",
   "execution_count": 173,
   "metadata": {},
   "outputs": [],
   "source": [
    "pred = model(train_images)"
   ]
  },
  {
   "cell_type": "code",
   "execution_count": 175,
   "metadata": {},
   "outputs": [
    {
     "data": {
      "text/plain": [
       "<tf.Tensor: shape=(10,), dtype=float32, numpy=\n",
       "array([1.3318082e-08, 7.0463263e-10, 5.6409821e-10, 7.9140605e-10,\n",
       "       4.0974524e-10, 8.2928928e-08, 3.7666470e-09, 7.2169122e-03,\n",
       "       2.5147264e-07, 9.9278271e-01], dtype=float32)>"
      ]
     },
     "execution_count": 175,
     "metadata": {},
     "output_type": "execute_result"
    }
   ],
   "source": [
    "pred[0]"
   ]
  }
 ],
 "metadata": {
  "kernelspec": {
   "display_name": "Python 3",
   "language": "python",
   "name": "python3"
  },
  "language_info": {
   "codemirror_mode": {
    "name": "ipython",
    "version": 3
   },
   "file_extension": ".py",
   "mimetype": "text/x-python",
   "name": "python",
   "nbconvert_exporter": "python",
   "pygments_lexer": "ipython3",
   "version": "3.9.13"
  },
  "orig_nbformat": 4,
  "vscode": {
   "interpreter": {
    "hash": "e81f3eb113a4575374b4ec6b7269680492ed507ee7da4a22f49e975af020ad03"
   }
  }
 },
 "nbformat": 4,
 "nbformat_minor": 2
}
